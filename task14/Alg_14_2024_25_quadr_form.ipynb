{
  "cells": [
    {
      "cell_type": "code",
      "execution_count": 1,
      "metadata": {
        "id": "DmiM6WiGI5ZJ"
      },
      "outputs": [],
      "source": [
        "import sympy\n",
        "from sympy import Eq, latex, plot_implicit, Matrix, simplify, expand, collect\n",
        "from sympy import pi as Pi\n",
        "from sympy import cos as Cos\n",
        "from sympy import sin as Sin\n",
        "from IPython.display import Latex"
      ]
    },
    {
      "cell_type": "markdown",
      "metadata": {
        "id": "9mGphMSHI5ZP"
      },
      "source": [
        "# Практическое занятие 14\n",
        "# Компьютерный практикум по алгебре на Python\n",
        "## Квадратичные формы\n",
        "Квадратичной формой нескольких переменных $x_1,x_2,...,x_n$ называют однородный многочлен второй степени\n",
        "$$\n",
        "\\sum_{i,j=1}^na_{ij}x_ix_j=\\sum_{i=1}^na_{ii}x_i^2+2\\sum_{i=1}^n\\sum_{j=i+1}^na_{ij}x_ix_j.\n",
        "$$\n",
        "В частности, квадратичные формы двух и трех переменных можно записать в виде:\n",
        "$$\n",
        "a_{11}x^2+2a_{12}xy+a_{22}y^2,\\qquad a_{11}x^2+a_{22}y^2+a_{33}z^2+2a_{12}xy+2a_{13}xz+2a_{23}yz.\n",
        "$$\n",
        "\n",
        "Удобнее записывать квадратичные формы в матричном виде:\n",
        "$$\n",
        "X^TAX,\\quad X=\\left(\\begin{matrix}x\\\\y\\end{matrix}\\right),\\quad A=\\left(\\begin{matrix}a_{11}&a_{12}\\\\a_{12}&a_{22}\\end{matrix}\\right).\n",
        "$$\n",
        "\n",
        "**Особенности матрицы квадратичной формы**\n",
        "\n",
        "Матрица квадратичной формы всегда ***симметрична***. Внедиагональные элементы матрицы квадратичной формы равны половине коэффициента произведения переменных $x_ix_j$, $i\\neq j$.\n",
        "\n",
        "При переходе к новому базису матрица квадратичной формы изменяется по формуле\n",
        "$$\n",
        "A'=P^{T}AP,\n",
        "$$\n",
        "где $P$ матрица перехода к новому базису.\n",
        "\n",
        "В **ортонормированном** базисе из ОРТОГОНАЛИЗИРОВАННЫХ и НОРМИРОВАННЫХ собственных векторов, соответствующих матрице $A$, матрица квадратичной формы имеет диагональный вид,\n",
        "на диагонали собственные значения.\n",
        "\n",
        "Уточнение: если есть кратные собственные числа, то соответствующие такому собственному числу собственные векторы могут не быть ортогональны, в этом случае для построения ортогональной матрицы перехода нужно проводить ортогонализацию.\n",
        "\n",
        "Такой вид квадратичной формы, в котором матрица диагональная, называется каноническим видом квадратичной формы. Приведение квадратичной формы к каноническому виду позволяет определить тип кривой или поверхности второго порядка. Канонический вид определен неоднозначно, т.е. у одной и той же квадратичной формы может быть несколько канонических видов, но выполняется\n",
        "\n",
        "**Закон инерции квадратичной формы**\n",
        "\n",
        "Число слагаемых с положительными (отрицательными) каноническими коэффициентами в каноническом виде квадратичной формы не зависит от способа приведения квадратичной формы к каноническому виду.\n",
        "\n",
        "### Пример 1.\n",
        "\n",
        "Построить матрицу квадратичной формы $u=-x^2-y^2-z^2+2xy+4xz$ и привести ее к каноническому виду.\n",
        "\n",
        "Вначале построим матрицу:\n",
        "$$\n",
        "A\\left(\\begin{matrix}-1&1&2\\\\1&-1&0\\\\2&0&-1\\end{matrix}\\right).\n",
        "$$\n",
        "Проверим, что эта матрица задает нашу квадратичную форму, для этого вычислим\n",
        "$$\n",
        "X^TAX-u,\\quad X=\\left(\\begin{matrix}x\\\\y\\\\z\\end{matrix}\\right).\n",
        "$$"
      ]
    },
    {
      "cell_type": "code",
      "execution_count": 4,
      "metadata": {
        "colab": {
          "base_uri": "https://localhost:8080/",
          "height": 78
        },
        "id": "H6UbNx1QI5ZV",
        "outputId": "ecde7842-68d5-4768-a3d3-9a4efead9ab7"
      },
      "outputs": [
        {
          "output_type": "display_data",
          "data": {
            "text/plain": [
              "<IPython.core.display.Latex object>"
            ],
            "text/latex": "X = \\left[\\begin{matrix}x\\\\y\\\\z\\end{matrix}\\right],\\ X^T  A  X = - x^{2} + 2 x y + 4 x z - y^{2} - z^{2},\n\\ X^T  A  X - u = 0"
          },
          "metadata": {}
        }
      ],
      "source": [
        "from sympy.abc import x, y, z\n",
        "u = -x ** 2 - y ** 2 - z ** 2 + 2 * x * y + 4 * x * z\n",
        "A = Matrix([[-1, 1, 2],\n",
        "            [1, -1, 0],\n",
        "            [2, 0, -1]])\n",
        "X = Matrix([x, y, z])\n",
        "res = X.T * A * X\n",
        "quadr_form = expand(res[0])\n",
        "display(Latex(f\"\"\"X = {latex(X)},\\ X^T  A  X = {latex(quadr_form)},\n",
        "\\ X^T  A  X - u = {latex(quadr_form - u)}\"\"\"))"
      ]
    },
    {
      "cell_type": "markdown",
      "metadata": {
        "id": "5TUcUBMrI5ZX"
      },
      "source": [
        "Обратим внимание, что при умножении матриц $X^TAX$ получается не число, а матрица, состоящая из одного элемента!\n",
        "\n",
        "Найдем собственные векторы матрицы $A$, нормируем их и составим из них матрицу перехода $P$:"
      ]
    },
    {
      "cell_type": "code",
      "source": [
        "ev = A.eigenvects()\n",
        "P = Matrix([Matrix([vect.normalized() for vect in vects]).T for num, multipl, vects in ev]).T\n",
        "display(Latex(f'P = {latex(P)}'))"
      ],
      "metadata": {
        "colab": {
          "base_uri": "https://localhost:8080/",
          "height": 88
        },
        "id": "Qvje47DXsz4Y",
        "outputId": "29db9e75-a91e-4df2-dd94-3266951128cc"
      },
      "execution_count": 6,
      "outputs": [
        {
          "output_type": "display_data",
          "data": {
            "text/plain": [
              "<IPython.core.display.Latex object>"
            ],
            "text/latex": "P = \\left[\\begin{matrix}0 & \\frac{\\sqrt{2}}{2} & - \\frac{\\sqrt{2}}{2}\\\\- \\frac{2 \\sqrt{5}}{5} & \\frac{\\sqrt{10}}{10} & \\frac{\\sqrt{10}}{10}\\\\\\frac{\\sqrt{5}}{5} & \\frac{\\sqrt{10}}{5} & \\frac{\\sqrt{10}}{5}\\end{matrix}\\right]"
          },
          "metadata": {}
        }
      ]
    },
    {
      "cell_type": "markdown",
      "metadata": {
        "id": "dsUQl_8FI5ZZ"
      },
      "source": [
        "Найдем матрицу квадратичной формы в новом базисе:"
      ]
    },
    {
      "cell_type": "code",
      "execution_count": 8,
      "metadata": {
        "colab": {
          "base_uri": "https://localhost:8080/",
          "height": 80
        },
        "id": "0F98PwTgI5Zb",
        "outputId": "8db8bf8b-f7cd-405e-f8be-1ccaa715c0c2"
      },
      "outputs": [
        {
          "output_type": "display_data",
          "data": {
            "text/plain": [
              "Matrix([\n",
              "[-1,            0,            0],\n",
              "[ 0, -1 + sqrt(5),            0],\n",
              "[ 0,            0, -sqrt(5) - 1]])"
            ],
            "text/latex": "$\\displaystyle \\left[\\begin{matrix}-1 & 0 & 0\\\\0 & -1 + \\sqrt{5} & 0\\\\0 & 0 & - \\sqrt{5} - 1\\end{matrix}\\right]$"
          },
          "metadata": {}
        }
      ],
      "source": [
        "A_new = P.T * A * P\n",
        "display(simplify(A_new))"
      ]
    },
    {
      "cell_type": "code",
      "source": [
        "display(Latex(fr'\\text{{Собственные числа }}{latex([num for num, mult, vects in ev])}'))"
      ],
      "metadata": {
        "colab": {
          "base_uri": "https://localhost:8080/",
          "height": 39
        },
        "id": "-hNd-4u7vn2K",
        "outputId": "5b484ec3-8353-4e24-8382-b23a9cf11b9c"
      },
      "execution_count": 10,
      "outputs": [
        {
          "output_type": "display_data",
          "data": {
            "text/plain": [
              "<IPython.core.display.Latex object>"
            ],
            "text/latex": "\\text{Собственные числа }\\left[ -1, \\  -1 + \\sqrt{5}, \\  - \\sqrt{5} - 1\\right]"
          },
          "metadata": {}
        }
      ]
    },
    {
      "cell_type": "code",
      "source": [
        "P1 = Matrix([Matrix(vects).T for num, multipl, vects in ev]).T\n",
        "A_new1 = P1.T * A * P1\n",
        "display(Latex(f'P_1 = {latex(P1)},\\ A_{{new}} = {latex(simplify(A_new1))}'))"
      ],
      "metadata": {
        "colab": {
          "base_uri": "https://localhost:8080/",
          "height": 88
        },
        "id": "w_jbr_4UwJ63",
        "outputId": "042a14bd-fa94-434c-b88a-580d15a16f16"
      },
      "execution_count": 11,
      "outputs": [
        {
          "output_type": "display_data",
          "data": {
            "text/plain": [
              "<IPython.core.display.Latex object>"
            ],
            "text/latex": "P_1 = \\left[\\begin{matrix}0 & \\frac{\\sqrt{5}}{2} & - \\frac{\\sqrt{5}}{2}\\\\-2 & \\frac{1}{2} & \\frac{1}{2}\\\\1 & 1 & 1\\end{matrix}\\right],\\ A_{new} = \\left[\\begin{matrix}-5 & 0 & 0\\\\0 & - \\frac{5}{2} + \\frac{5 \\sqrt{5}}{2} & 0\\\\0 & 0 & - \\frac{5 \\sqrt{5}}{2} - \\frac{5}{2}\\end{matrix}\\right]"
          },
          "metadata": {}
        }
      ]
    },
    {
      "cell_type": "markdown",
      "metadata": {
        "id": "fwbF-ChzI5Zc"
      },
      "source": [
        "Получим квадратичную форму в виде многочлена:"
      ]
    },
    {
      "cell_type": "code",
      "execution_count": 12,
      "metadata": {
        "colab": {
          "base_uri": "https://localhost:8080/",
          "height": 40
        },
        "id": "WNo6qKTxI5Zf",
        "outputId": "4f85e952-392a-4dfb-b0a7-1cb0d83e20bf"
      },
      "outputs": [
        {
          "output_type": "display_data",
          "data": {
            "text/plain": [
              "-x**2 - y**2 + sqrt(5)*y**2 - sqrt(5)*z**2 - z**2"
            ],
            "text/latex": "$\\displaystyle - x^{2} - y^{2} + \\sqrt{5} y^{2} - \\sqrt{5} z^{2} - z^{2}$"
          },
          "metadata": {}
        }
      ],
      "source": [
        "res = simplify(expand(X.T * A_new * X))[0]\n",
        "display(res)"
      ]
    },
    {
      "cell_type": "markdown",
      "metadata": {
        "id": "jtEWyvC1I5Zg"
      },
      "source": [
        "Сгруппируем слагаемые с помощью collect:"
      ]
    },
    {
      "cell_type": "code",
      "execution_count": 13,
      "metadata": {
        "colab": {
          "base_uri": "https://localhost:8080/",
          "height": 47
        },
        "id": "qjwbyXIHI5Zh",
        "outputId": "52534761-6287-4a95-d3b8-df683292ba39"
      },
      "outputs": [
        {
          "output_type": "execute_result",
          "data": {
            "text/plain": [
              "-x**2 + y**2*(-1 + sqrt(5)) + z**2*(-sqrt(5) - 1)"
            ],
            "text/latex": "$\\displaystyle - x^{2} + y^{2} \\left(-1 + \\sqrt{5}\\right) + z^{2} \\left(- \\sqrt{5} - 1\\right)$"
          },
          "metadata": {},
          "execution_count": 13
        }
      ],
      "source": [
        "collect(res, [x, y, z])"
      ]
    },
    {
      "cell_type": "markdown",
      "metadata": {
        "id": "pKKAqtUEI5Zi"
      },
      "source": [
        "Каноническая форма содержит квадраты переменных $x$ и $z$ с отрицательными коэффициентами, а квадрат $y$ - с положительным."
      ]
    },
    {
      "cell_type": "markdown",
      "metadata": {
        "id": "rdcQysuKI5Zj"
      },
      "source": [
        "### Пример 2.\n",
        "\n",
        "Привести матрицу квадратичной формы $u=-x^2-y^2-z^2+2xy+4xz$ из Примера 1 к каноническому виду методом выделения полных квадратов. Проверить выполнение Закона инерции.\n",
        "\n",
        "**План выделения полных квадратов:**\n",
        "\n",
        "заметим, что $y$ входит только в одно произведение разных переменных, а именно, в $2xy$, поэтому будем выделять полный квадрат так, чтобы в него вошли все слагаемые с $y$, т.е. $2xy$ и $-y^2$. До полного квадрата эти слагаемые дополняются с помощью $-x^2$, получим $-(x-y)^2$ (или $-(y-x)^2$). Делаем замену переменных $Y=y-x$, что эквивалентно $y=Y+x$:"
      ]
    },
    {
      "cell_type": "code",
      "execution_count": null,
      "metadata": {
        "colab": {
          "base_uri": "https://localhost:8080/",
          "height": 38
        },
        "id": "Ds7FlR3KI5Zj",
        "outputId": "969a1c65-3b5f-4b36-f6e6-eaf4d211a2cc"
      },
      "outputs": [
        {
          "output_type": "display_data",
          "data": {
            "text/plain": [
              "<IPython.core.display.Latex object>"
            ],
            "text/latex": "u = - x^{2} + 2 x y + 4 x z - y^{2} - z^{2}, u_1 = - Y^{2} + 4 x z - z^{2}"
          },
          "metadata": {}
        }
      ],
      "source": [
        "from sympy.abc import Y, Z\n",
        "u1 = simplify(expand(u.subs(y, Y + x)))\n",
        "display(Latex(f'u = {latex(u)}, u_1 = {latex(u1)}'))"
      ]
    },
    {
      "cell_type": "markdown",
      "metadata": {
        "id": "aD55JR-4I5Zk"
      },
      "source": [
        "Видим, что $z$ входит только в одно произведение разных переменных, а именно, в $4xz$, поэтому будем выделять полный квадрат так, чтобы в него вошли все слагаемые с $z$, т.е. $4xz$ и $-z^2$. До полного квадрата эти слагаемые дополняются с помощью $-4x^2$, получим $-(2x-z)^2$ (или $-(z-2x)^2$). Делаем замену переменных $Z=z-2x$, что эквивалентно $z=Z+2x$:"
      ]
    },
    {
      "cell_type": "code",
      "execution_count": null,
      "metadata": {
        "colab": {
          "base_uri": "https://localhost:8080/",
          "height": 38
        },
        "id": "h-vaSsO-I5Zl",
        "outputId": "db411f2c-227b-45b0-8673-ed6a9bf4e830"
      },
      "outputs": [
        {
          "output_type": "display_data",
          "data": {
            "text/plain": [
              "<IPython.core.display.Latex object>"
            ],
            "text/latex": "u_2 = - Y^{2} - Z^{2} + 4 x^{2}"
          },
          "metadata": {}
        }
      ],
      "source": [
        "u2 = simplify(expand(u1.subs(z, Z + 2 * x)))\n",
        "display(Latex(f'u_2 = {latex(u2)}'))"
      ]
    },
    {
      "cell_type": "markdown",
      "metadata": {
        "id": "wkugKglgI5Zm"
      },
      "source": [
        "Как и в примере 1, в каноническом виде два отрицательных квадрата и один положительный, Закон инерции выполняется.\n",
        "\n",
        "## Классификация кривых второго порядка\n",
        "\n",
        "Все кривые второго порядка на плоскости описываются уравнением вида\n",
        "$$\n",
        "a_{11}x^2+2a_{12}xy+a_{22}y^2+2a_1x+2a_2y+a_0=0\\qquad(1)\n",
        "$$\n",
        "\n",
        "Невырожденные кривые второго порядка - эллипс, гипербола и парабола.\n",
        "\n",
        "Для классификации кривых нужно привести уравнение (1) к каноническому виду.\n",
        "\n",
        "Пусть $a_{12}\\neq0$.\n",
        "\n",
        "Вначале приведем к каноническому виду квадратичную форму из уравнения (1), в качестве матрицы перехода к новому базису можно использовать матрицу поворота на угол $\\alpha$:\n",
        "$$\n",
        "\\left(\\begin{matrix}\\cos\\alpha&-\\sin\\alpha\\\\ \\sin\\alpha&\\cos\\alpha\\end{matrix}\\right)\n",
        "$$\n",
        "угол $\\alpha$ находится из условия\n",
        "$$\n",
        "{\\rm ctg}(2\\alpha)=\\frac{a_{11}-a_{22}}{2a_{12}}\n",
        "$$\n",
        "\n",
        "В результате получаем уравнение вида (1), но с нулевым коэффициентом при $xy$.\n",
        "\n",
        "Рассмотрим разные случаи:\n",
        "\n",
        "1) если $a_{11}\\neq0$, $a_{22}\\neq0$, то от слагаемых $a_1x$ и $a_2y$ можно избавиться переносом начала координат, соответствующая замена переменных\n",
        "$$\n",
        "x=x'-\\frac{a_1}{a_{11}},\\quad y=y'-\\frac{a_2}{a_{22}}\\qquad(2)\n",
        "$$\n",
        "\n",
        "После такой замены уравнение кривой примет вид\n",
        "$$\n",
        "a_{11}x^2+a_{22}y^2+a_0=0\\qquad(3)\n",
        "$$\n",
        "\n",
        "Если $a_{11}a_{22}>0$, причем $a_{11} a_0<0$, то кривая - эллипс или окружность.\n",
        "\n",
        "Если $a_{11}a_{22}<0$, причем $a_0\\neq 0$, то кривая - гипербола.\n",
        "\n",
        "Остальные варианты случая 1)  вырожденные  (прямые, точки, пустое множество).\n",
        "\n",
        "2) если $a_{11}\\neq0$, $a_{22}=0$ ($a_{11}=0$, $a_{22}\\neq0$), тогда в уравнении (1) с нулевым коэффициентом при $xy$ можно избавиться от $a_1x$ ($a_2y$) переносом начала координат.\n",
        "\n",
        "После переноса получаем каноническое уравнение параболы или вырожденный случай.\n",
        "### Пример 3.\n",
        "Определить тип кривой второго порядка, заданной уравнением\n",
        "$$\n",
        "x^2-2xy-y^2+4x-2=0\n",
        "$$\n",
        "Составляем матрицу  $A3$ из коэффициентов уравнения, коэффициенты при $xy$, $x$ и $y$ делим на 2 и располагаем в симметричных относительно главной диагонила позициях. Вектор переменных состоит из трех координат, последняя координата 1, она нужна для слагаемых первого и нулевого порядков:"
      ]
    },
    {
      "cell_type": "code",
      "execution_count": null,
      "metadata": {
        "colab": {
          "base_uri": "https://localhost:8080/",
          "height": 78
        },
        "id": "hs366pDVI5Zn",
        "outputId": "988ad70a-e459-4d35-9ab1-2049ae7c9358"
      },
      "outputs": [
        {
          "output_type": "display_data",
          "data": {
            "text/plain": [
              "<IPython.core.display.Latex object>"
            ],
            "text/latex": "A_3 = \\left[\\begin{matrix}1 & -1 & 2\\\\-1 & -1 & 0\\\\2 & 0 & -2\\end{matrix}\\right], X_3 = \\left[\\begin{matrix}x\\\\y\\\\1\\end{matrix}\\right]"
          },
          "metadata": {}
        }
      ],
      "source": [
        "A3 = Matrix([[1, -1, 2], [-1, -1, 0], [2, 0, -2]])\n",
        "X3 = Matrix([x, y, 1])\n",
        "display(Latex(f'A_3 = {latex(A3)}, X_3 = {latex(X3)}'))"
      ]
    },
    {
      "cell_type": "markdown",
      "metadata": {
        "id": "3C_NqBBJI5Zn"
      },
      "source": [
        "Убедимся, что эта матрица действительно определяет наше уравнение:"
      ]
    },
    {
      "cell_type": "code",
      "execution_count": null,
      "metadata": {
        "colab": {
          "base_uri": "https://localhost:8080/",
          "height": 38
        },
        "id": "ONCuHg34I5Zo",
        "outputId": "b11a34da-362b-41f4-e3a8-3243d7bf2b82"
      },
      "outputs": [
        {
          "output_type": "display_data",
          "data": {
            "text/plain": [
              "Eq(x**2 - 2*x*y + 4*x - y**2 - 2, 0)"
            ],
            "text/latex": "$\\displaystyle x^{2} - 2 x y + 4 x - y^{2} - 2 = 0$"
          },
          "metadata": {}
        }
      ],
      "source": [
        "eq3 = Eq(simplify(expand(X3.T * A3 * X3))[0], 0)\n",
        "display(eq3)"
      ]
    },
    {
      "cell_type": "markdown",
      "metadata": {
        "id": "TXbTYhxfI5Zo"
      },
      "source": [
        "Теперь составим матрицу поворота, матрица третьего порядка, правый нижний элемент равен 1, это матрица поворота в трехмерном пространстве в плоскости XY."
      ]
    },
    {
      "cell_type": "code",
      "execution_count": null,
      "metadata": {
        "colab": {
          "base_uri": "https://localhost:8080/",
          "height": 95
        },
        "id": "mG8VLoxDI5Zp",
        "outputId": "d31b3dc5-aecb-47ef-878f-c77ef23471b0"
      },
      "outputs": [
        {
          "output_type": "display_data",
          "data": {
            "text/plain": [
              "Matrix([\n",
              "[ sqrt(sqrt(2) + 2)/2, sqrt(2 - sqrt(2))/2, 0],\n",
              "[-sqrt(2 - sqrt(2))/2, sqrt(sqrt(2) + 2)/2, 0],\n",
              "[                   0,                   0, 1]])"
            ],
            "text/latex": "$\\displaystyle \\left[\\begin{matrix}\\frac{\\sqrt{\\sqrt{2} + 2}}{2} & \\frac{\\sqrt{2 - \\sqrt{2}}}{2} & 0\\\\- \\frac{\\sqrt{2 - \\sqrt{2}}}{2} & \\frac{\\sqrt{\\sqrt{2} + 2}}{2} & 0\\\\0 & 0 & 1\\end{matrix}\\right]$"
          },
          "metadata": {}
        }
      ],
      "source": [
        "alpha = sympy.acot((A3[0, 0] - A3[1, 1]) / (2 * A3[0, 1])) / 2\n",
        "P = Matrix([[Cos(alpha), -Sin(alpha), 0],\n",
        "            [Sin(alpha), Cos(alpha), 0],\n",
        "            [0, 0, 1]])\n",
        "P.simplify()\n",
        "display(P)"
      ]
    },
    {
      "cell_type": "markdown",
      "metadata": {
        "id": "sq_0rHNsI5Zp"
      },
      "source": [
        "После поворота (уже в новых координатах $x_1$, $y_1$) наша матрица примет вид"
      ]
    },
    {
      "cell_type": "code",
      "source": [
        "A3_new = P.T * A3 * P\n",
        "A3_new.simplify()\n",
        "display(A3_new)"
      ],
      "metadata": {
        "colab": {
          "base_uri": "https://localhost:8080/",
          "height": 90
        },
        "id": "C3Dbgfv30RQs",
        "outputId": "494c8acb-133c-4d13-a99b-1e747ece9719"
      },
      "execution_count": null,
      "outputs": [
        {
          "output_type": "display_data",
          "data": {
            "text/plain": [
              "Matrix([\n",
              "[          sqrt(2),                 0, sqrt(sqrt(2) + 2)],\n",
              "[                0,          -sqrt(2), sqrt(2 - sqrt(2))],\n",
              "[sqrt(sqrt(2) + 2), sqrt(2 - sqrt(2)),                -2]])"
            ],
            "text/latex": "$\\displaystyle \\left[\\begin{matrix}\\sqrt{2} & 0 & \\sqrt{\\sqrt{2} + 2}\\\\0 & - \\sqrt{2} & \\sqrt{2 - \\sqrt{2}}\\\\\\sqrt{\\sqrt{2} + 2} & \\sqrt{2 - \\sqrt{2}} & -2\\end{matrix}\\right]$"
          },
          "metadata": {}
        }
      ]
    },
    {
      "cell_type": "markdown",
      "metadata": {
        "id": "AP-ibaHWI5Zq"
      },
      "source": [
        "Запишем получившееся уравнение"
      ]
    },
    {
      "cell_type": "code",
      "execution_count": null,
      "metadata": {
        "colab": {
          "base_uri": "https://localhost:8080/",
          "height": 48
        },
        "id": "OmAQ99mHI5Zq",
        "outputId": "000123f0-c68f-4e7c-8ecf-16119f211b84"
      },
      "outputs": [
        {
          "output_type": "execute_result",
          "data": {
            "text/plain": [
              "sqrt(2)*X**2 + 2*X*sqrt(sqrt(2) + 2) - sqrt(2)*Y**2 + 2*Y*sqrt(2 - sqrt(2)) - 2"
            ],
            "text/latex": "$\\displaystyle \\sqrt{2} X^{2} + 2 X \\sqrt{\\sqrt{2} + 2} - \\sqrt{2} Y^{2} + 2 Y \\sqrt{2 - \\sqrt{2}} - 2$"
          },
          "metadata": {},
          "execution_count": 15
        }
      ],
      "source": [
        "from sympy.abc import X, Y, Z\n",
        "X3 = Matrix((X, Y, 1))\n",
        "simplify(expand((X3.T * A3_new * X3)[0]))"
      ]
    },
    {
      "cell_type": "markdown",
      "metadata": {
        "id": "JmNQKVqjI5Zq"
      },
      "source": [
        "Осталось перенести начало координат так, чтобы исчезли слагаемые с $X$ и $Y$. Соответствующая замена имеет вид (2):\n",
        "$$\n",
        "X=X'-\\frac{a_1}{a_{11}},\\quad Y=Y'-\\frac{a_2}{a_{22}}\n",
        "$$"
      ]
    },
    {
      "cell_type": "code",
      "execution_count": null,
      "metadata": {
        "colab": {
          "base_uri": "https://localhost:8080/",
          "height": 95
        },
        "id": "GP2m7w7eI5Zq",
        "outputId": "9a40db8f-c4fd-4d79-ef5e-10d02ab045b6"
      },
      "outputs": [
        {
          "output_type": "display_data",
          "data": {
            "text/plain": [
              "<IPython.core.display.Latex object>"
            ],
            "text/latex": "X_{3\\ new} = \\left[\\begin{matrix}X - \\frac{\\sqrt{2} \\sqrt{\\sqrt{2} + 2}}{2}\\\\Y + \\frac{\\sqrt{2} \\sqrt{2 - \\sqrt{2}}}{2}\\\\1\\end{matrix}\\right],\\ eq_{3\\ new} = \\sqrt{2} X^{2} - \\sqrt{2} Y^{2} - 4"
          },
          "metadata": {}
        }
      ],
      "source": [
        "X3_new = Matrix((X - A3_new[0, 2] / A3_new[0, 0],\n",
        "                 Y - A3_new[1, 2] / A3_new[1, 1],\n",
        "                 1))\n",
        "eq3_new = simplify(expand(X3_new.T * A3_new * X3_new))[0]\n",
        "display(Latex(f'X_{{3\\ new}} = {latex(X3_new)},\\ \\\n",
        "eq_{{3\\ new}} = {latex(eq3_new)}'))"
      ]
    },
    {
      "cell_type": "markdown",
      "metadata": {
        "id": "c7HLZeA4I5Zr"
      },
      "source": [
        "Осталось поделить выражение на 4 и перенести свободный член в правую часть:"
      ]
    },
    {
      "cell_type": "code",
      "execution_count": null,
      "metadata": {
        "colab": {
          "base_uri": "https://localhost:8080/",
          "height": 55
        },
        "id": "KNgo-mlFI5Zr",
        "outputId": "957f87b2-60da-4b22-dde7-cd9874451de3"
      },
      "outputs": [
        {
          "output_type": "execute_result",
          "data": {
            "text/plain": [
              "Eq(sqrt(2)*X**2/4 - sqrt(2)*Y**2/4, 1)"
            ],
            "text/latex": "$\\displaystyle \\frac{\\sqrt{2} X^{2}}{4} - \\frac{\\sqrt{2} Y^{2}}{4} = 1$"
          },
          "metadata": {},
          "execution_count": 17
        }
      ],
      "source": [
        "free = eq3_new.subs({X: 0, Y: 0})\n",
        "eq3_last = eq3_new / (-free) + 1\n",
        "Eq(eq3_last, 1)"
      ]
    },
    {
      "cell_type": "markdown",
      "metadata": {
        "id": "q3QR3BSQI5Zs"
      },
      "source": [
        "Заменим переменные $X$ и $Y$ на $x$, $y$, чтобы изобразить получившуюся гиперболу на одной координатной плоскости с графиком исходного уравнения."
      ]
    },
    {
      "cell_type": "code",
      "execution_count": null,
      "metadata": {
        "colab": {
          "base_uri": "https://localhost:8080/",
          "height": 55
        },
        "id": "t9-14fD2I5Zs",
        "outputId": "1cd16272-784a-4f86-ef45-8643839b6522"
      },
      "outputs": [
        {
          "output_type": "display_data",
          "data": {
            "text/plain": [
              "Eq(sqrt(2)*x**2/4 - sqrt(2)*y**2/4, 1)"
            ],
            "text/latex": "$\\displaystyle \\frac{\\sqrt{2} x^{2}}{4} - \\frac{\\sqrt{2} y^{2}}{4} = 1$"
          },
          "metadata": {}
        }
      ],
      "source": [
        "eq3_last_xy = Eq(eq3_last.subs({X: x, Y: y}), 1)\n",
        "display(eq3_last_xy)"
      ]
    },
    {
      "cell_type": "markdown",
      "metadata": {
        "id": "mGh8RtrwI5Zt"
      },
      "source": [
        "Изобразим на графике исходную кривую и получившуюся гиперболу."
      ]
    },
    {
      "cell_type": "code",
      "execution_count": null,
      "metadata": {
        "colab": {
          "base_uri": "https://localhost:8080/",
          "height": 486
        },
        "id": "QDRiv0bLI5Zu",
        "outputId": "89d4709e-53bf-4cf5-f137-6fca0eef7981"
      },
      "outputs": [
        {
          "output_type": "display_data",
          "data": {
            "text/plain": [
              "<Figure size 640x480 with 1 Axes>"
            ],
            "image/png": "[encoded data removed]"
          },
          "metadata": {}
        }
      ],
      "source": [
        "p = plot_implicit(eq3, line_color='g', aspect_ratio=(1, 1),\n",
        "                  xlabel='$x$', ylabel='$y$',\n",
        "                   title=f'{latex(eq3_last_xy, mode=\"inline\")}\\n',\n",
        "                   adaptive=False, show=False)\n",
        "p.extend(plot_implicit(eq3_last_xy, (x, -10, 10), line_color='m',\n",
        "                       aspect_ratio=(1, 1), adaptive=False, show=False))\n",
        "p.show()"
      ]
    },
    {
      "cell_type": "markdown",
      "source": [
        "## Повторение\n",
        "**Работа с файлами в pandas. Чтение из файла:**\n",
        "```\n",
        "df = pd.read_excel(\"file_name.xlsx\", sheet_name='sheet_name1', index_col=False, header=None)\n",
        "```\n",
        "Из файла считывается DataFrame, содержащий не только данные, но и заголовки строк и столбцов. Выделить данные можно так:\n",
        "```\n",
        "data = df.to_numpy()\n",
        "```\n",
        "Из полученного np.array можно создать матрицу:\n",
        "```\n",
        "M = Matrix(data)\n",
        "```\n",
        "**Запись в файл:**\n",
        "```\n",
        "with pd.ExcelWriter(file_name) as writer:\n",
        "    df = pd.DataFrame(M)\n",
        "    df.to_excel(writer, sheet_name='sheet_name1', index=False, header=False)\n",
        "```\n",
        "\n",
        "**Загрузить файл** в colab.research.google.com\n",
        "```\n",
        "uploaded = files.upload()\n",
        "for key in uploaded.keys():\n",
        "    print(f'Загружен файл {key}')\n",
        "```\n",
        "**Скачать файл**\n",
        "```\n",
        "files.download(file_name)\n",
        "```\n",
        "\n",
        "\n",
        "\n"
      ],
      "metadata": {
        "id": "AlHKV-XLiK18"
      }
    }
  ],
  "metadata": {
    "kernelspec": {
      "display_name": "Python 3",
      "language": "python",
      "name": "python3"
    },
    "language_info": {
      "codemirror_mode": {
        "name": "ipython",
        "version": 3
      },
      "file_extension": ".py",
      "mimetype": "text/x-python",
      "name": "python",
      "nbconvert_exporter": "python",
      "pygments_lexer": "ipython3",
      "version": "3.7.3"
    },
    "colab": {
      "provenance": []
    }
  },
  "nbformat": 4,
  "nbformat_minor": 0
}