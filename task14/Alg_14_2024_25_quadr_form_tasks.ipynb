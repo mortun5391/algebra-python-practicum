{
  "cells": [
    {
      "cell_type": "code",
      "source": [
        "import sympy as sp\n",
        "from sympy import Eq, latex, plot, plot_implicit, Matrix, simplify, expand, collect\n",
        "from sympy import pi as Pi\n",
        "from sympy import cos as Cos\n",
        "from sympy import sin as Sin\n",
        "from IPython.display import Latex"
      ],
      "metadata": {
        "id": "0AO1UGJY8V9I"
      },
      "execution_count": 3,
      "outputs": []
    },
    {
      "cell_type": "markdown",
      "metadata": {
        "id": "iy2K466yPrjR"
      },
      "source": [
        "# Практическое занятие 14\n",
        "# Компьютерный практикум по алгебре на Python\n",
        "### Задание 1.\n",
        "Составить матрицу квадратичной формы $16x^2-21y^2+3z^2-4xy-4xz+10yz$, проверить, что она определяет именно заданный многочлен."
      ]
    },
    {
      "cell_type": "code",
      "source": [
        "x,y,z = sympy.symbols('x y z')\n",
        "u = 16*x*x - 21*y*y + 3*z*z - 4*x*y - 4*x*z + 10*y*z\n",
        "A = sympy.Matrix([\n",
        "    [16, -2, -2],\n",
        "    [-2,-21, 5],\n",
        "    [-2, 5,  3],\n",
        "])\n",
        "X = Matrix([x, y, z])\n",
        "quadr_matrix = X.T * A * X\n",
        "quadr_form = sympy.expand(quadr_matrix[0])\n",
        "\n",
        "display(\"Исходная квадратичная форма u:\", u)\n",
        "display(\"Квадратичная форма при помощи матрицы \", quadr_form)\n",
        "display(\"X^T A X - u = \",quadr_form - u)"
      ],
      "metadata": {
        "colab": {
          "base_uri": "https://localhost:8080/",
          "height": 137
        },
        "id": "Gv_L3akc8VQR",
        "outputId": "41ac500b-943a-452f-8586-80a48a1a2821"
      },
      "execution_count": 15,
      "outputs": [
        {
          "output_type": "display_data",
          "data": {
            "text/plain": [
              "'Исходная квадратичная форма u:'"
            ],
            "application/vnd.google.colaboratory.intrinsic+json": {
              "type": "string"
            }
          },
          "metadata": {}
        },
        {
          "output_type": "display_data",
          "data": {
            "text/plain": [
              "16*x**2 - 4*x*y - 4*x*z - 21*y**2 + 10*y*z + 3*z**2"
            ],
            "text/latex": "$\\displaystyle 16 x^{2} - 4 x y - 4 x z - 21 y^{2} + 10 y z + 3 z^{2}$"
          },
          "metadata": {}
        },
        {
          "output_type": "display_data",
          "data": {
            "text/plain": [
              "'Квадратичная форма при помощи матрицы '"
            ],
            "application/vnd.google.colaboratory.intrinsic+json": {
              "type": "string"
            }
          },
          "metadata": {}
        },
        {
          "output_type": "display_data",
          "data": {
            "text/plain": [
              "16*x**2 - 4*x*y - 4*x*z - 21*y**2 + 10*y*z + 3*z**2"
            ],
            "text/latex": "$\\displaystyle 16 x^{2} - 4 x y - 4 x z - 21 y^{2} + 10 y z + 3 z^{2}$"
          },
          "metadata": {}
        },
        {
          "output_type": "display_data",
          "data": {
            "text/plain": [
              "'X^T A X - u = '"
            ],
            "application/vnd.google.colaboratory.intrinsic+json": {
              "type": "string"
            }
          },
          "metadata": {}
        },
        {
          "output_type": "display_data",
          "data": {
            "text/plain": [
              "0"
            ],
            "text/latex": "$\\displaystyle 0$"
          },
          "metadata": {}
        }
      ]
    },
    {
      "cell_type": "markdown",
      "source": [
        "### Задание 2.\n",
        "Заданы векторы  $e_1=(1, 0, 1)$, $e_2=(-1, 0, 1)$, $e_1=(0, 1, 0)$.\n",
        "Вывести (используя цикл!) на экран матрицу квадратичной формы Задания 1 в новом базисе из векторов\n",
        "\n",
        "\n",
        "1.   ($e_1$, $e_2$, $e_3$),\n",
        "2.   ($e_1$, $e_2 - e_1$, $e_3$),\n",
        "3.   ($e_1$, $e_2$, $e_3 - e_1$),\n",
        "4.   ($e_1$, $e_2 - e_1$, $e_3 - e_1$),\n",
        "5.   ($e_1 + e_2$, $e_2$, $e_3 + e_2$),\n",
        "\n",
        "при этом в файл \"task2.xlsx\" записать на листы $A_1$, $A_2$, ... матрицы в новом базисе, а на листы  $P_1$, $P_2$, ... соответствующие матрицы перехода."
      ],
      "metadata": {
        "id": "5SjHvz59du7t"
      }
    },
    {
      "cell_type": "code",
      "source": [
        "import sympy as sp\n",
        "import pandas as pd\n",
        "from google.colab import files\n",
        "\n",
        "e1 = sp.Matrix([1, 0, 1])\n",
        "e2 = sp.Matrix([-1, 0, 1])\n",
        "e3 = sp.Matrix([0, 1, 0])\n",
        "A = sp.Matrix([\n",
        "    [16, -2, -2],\n",
        "    [-2, -21, 5],\n",
        "    [-2, 5, 3]\n",
        "])\n",
        "new_bases = [\n",
        "    [e1, e2, e3],\n",
        "    [e1, e2 - e1, e3],\n",
        "    [e1, e2, e3 - e1],\n",
        "    [e1, e2 - e1, e3 - e1],\n",
        "    [e1 + e2, e2, e3 + e2]\n",
        "]\n",
        "\n",
        "with pd.ExcelWriter(\"task2.xlsx\") as writer:\n",
        "    for i, basis in enumerate(new_bases):\n",
        "        P = sp.Matrix.hstack(*basis)\n",
        "        A_new = P.T * A * P\n",
        "\n",
        "        df_A = pd.DataFrame(A_new.tolist())\n",
        "        df_P = pd.DataFrame(P.tolist())\n",
        "\n",
        "        df_A.to_excel(writer, sheet_name=f'A{i+1}', index=False, header=False)\n",
        "        df_P.to_excel(writer, sheet_name=f'P{i+1}', index=False, header=False)\n",
        "        print(f\"Матрица A{i+1} в новом базисе:\")\n",
        "        display(A_new)\n",
        "        print(f\"Матрица перехода P{i+1}:\")\n",
        "        display(P)\n",
        "        print(\"\\n\")\n",
        "\n",
        "\n",
        "files.download(\"task2.xlsx\")"
      ],
      "metadata": {
        "colab": {
          "base_uri": "https://localhost:8080/",
          "height": 974
        },
        "id": "s1c69Ze08f-d",
        "outputId": "f0d5a3fd-0f41-49fa-ba30-615fd304dc59"
      },
      "execution_count": 16,
      "outputs": [
        {
          "output_type": "stream",
          "name": "stdout",
          "text": [
            "Матрица A1 в новом базисе:\n"
          ]
        },
        {
          "output_type": "display_data",
          "data": {
            "text/plain": [
              "Matrix([\n",
              "[ 15, -13,   3],\n",
              "[-13,  23,   7],\n",
              "[  3,   7, -21]])"
            ],
            "text/latex": "$\\displaystyle \\left[\\begin{matrix}15 & -13 & 3\\\\-13 & 23 & 7\\\\3 & 7 & -21\\end{matrix}\\right]$"
          },
          "metadata": {}
        },
        {
          "output_type": "stream",
          "name": "stdout",
          "text": [
            "Матрица перехода P1:\n"
          ]
        },
        {
          "output_type": "display_data",
          "data": {
            "text/plain": [
              "Matrix([\n",
              "[1, -1, 0],\n",
              "[0,  0, 1],\n",
              "[1,  1, 0]])"
            ],
            "text/latex": "$\\displaystyle \\left[\\begin{matrix}1 & -1 & 0\\\\0 & 0 & 1\\\\1 & 1 & 0\\end{matrix}\\right]$"
          },
          "metadata": {}
        },
        {
          "output_type": "stream",
          "name": "stdout",
          "text": [
            "\n",
            "\n",
            "Матрица A2 в новом базисе:\n"
          ]
        },
        {
          "output_type": "display_data",
          "data": {
            "text/plain": [
              "Matrix([\n",
              "[ 15, -28,   3],\n",
              "[-28,  64,   4],\n",
              "[  3,   4, -21]])"
            ],
            "text/latex": "$\\displaystyle \\left[\\begin{matrix}15 & -28 & 3\\\\-28 & 64 & 4\\\\3 & 4 & -21\\end{matrix}\\right]$"
          },
          "metadata": {}
        },
        {
          "output_type": "stream",
          "name": "stdout",
          "text": [
            "Матрица перехода P2:\n"
          ]
        },
        {
          "output_type": "display_data",
          "data": {
            "text/plain": [
              "Matrix([\n",
              "[1, -2, 0],\n",
              "[0,  0, 1],\n",
              "[1,  0, 0]])"
            ],
            "text/latex": "$\\displaystyle \\left[\\begin{matrix}1 & -2 & 0\\\\0 & 0 & 1\\\\1 & 0 & 0\\end{matrix}\\right]$"
          },
          "metadata": {}
        },
        {
          "output_type": "stream",
          "name": "stdout",
          "text": [
            "\n",
            "\n",
            "Матрица A3 в новом базисе:\n"
          ]
        },
        {
          "output_type": "display_data",
          "data": {
            "text/plain": [
              "Matrix([\n",
              "[ 15, -13, -12],\n",
              "[-13,  23,  20],\n",
              "[-12,  20, -12]])"
            ],
            "text/latex": "$\\displaystyle \\left[\\begin{matrix}15 & -13 & -12\\\\-13 & 23 & 20\\\\-12 & 20 & -12\\end{matrix}\\right]$"
          },
          "metadata": {}
        },
        {
          "output_type": "stream",
          "name": "stdout",
          "text": [
            "Матрица перехода P3:\n"
          ]
        },
        {
          "output_type": "display_data",
          "data": {
            "text/plain": [
              "Matrix([\n",
              "[1, -1, -1],\n",
              "[0,  0,  1],\n",
              "[1,  1, -1]])"
            ],
            "text/latex": "$\\displaystyle \\left[\\begin{matrix}1 & -1 & -1\\\\0 & 0 & 1\\\\1 & 1 & -1\\end{matrix}\\right]$"
          },
          "metadata": {}
        },
        {
          "output_type": "stream",
          "name": "stdout",
          "text": [
            "\n",
            "\n",
            "Матрица A4 в новом базисе:\n"
          ]
        },
        {
          "output_type": "display_data",
          "data": {
            "text/plain": [
              "Matrix([\n",
              "[ 15, -28, -12],\n",
              "[-28,  64,  32],\n",
              "[-12,  32, -12]])"
            ],
            "text/latex": "$\\displaystyle \\left[\\begin{matrix}15 & -28 & -12\\\\-28 & 64 & 32\\\\-12 & 32 & -12\\end{matrix}\\right]$"
          },
          "metadata": {}
        },
        {
          "output_type": "stream",
          "name": "stdout",
          "text": [
            "Матрица перехода P4:\n"
          ]
        },
        {
          "output_type": "display_data",
          "data": {
            "text/plain": [
              "Matrix([\n",
              "[1, -2, -1],\n",
              "[0,  0,  1],\n",
              "[1,  0, -1]])"
            ],
            "text/latex": "$\\displaystyle \\left[\\begin{matrix}1 & -2 & -1\\\\0 & 0 & 1\\\\1 & 0 & -1\\end{matrix}\\right]$"
          },
          "metadata": {}
        },
        {
          "output_type": "stream",
          "name": "stdout",
          "text": [
            "\n",
            "\n",
            "Матрица A5 в новом базисе:\n"
          ]
        },
        {
          "output_type": "display_data",
          "data": {
            "text/plain": [
              "Matrix([\n",
              "[12, 10, 20],\n",
              "[10, 23, 30],\n",
              "[20, 30, 16]])"
            ],
            "text/latex": "$\\displaystyle \\left[\\begin{matrix}12 & 10 & 20\\\\10 & 23 & 30\\\\20 & 30 & 16\\end{matrix}\\right]$"
          },
          "metadata": {}
        },
        {
          "output_type": "stream",
          "name": "stdout",
          "text": [
            "Матрица перехода P5:\n"
          ]
        },
        {
          "output_type": "display_data",
          "data": {
            "text/plain": [
              "Matrix([\n",
              "[0, -1, -1],\n",
              "[0,  0,  1],\n",
              "[2,  1,  1]])"
            ],
            "text/latex": "$\\displaystyle \\left[\\begin{matrix}0 & -1 & -1\\\\0 & 0 & 1\\\\2 & 1 & 1\\end{matrix}\\right]$"
          },
          "metadata": {}
        },
        {
          "output_type": "stream",
          "name": "stdout",
          "text": [
            "\n",
            "\n"
          ]
        },
        {
          "output_type": "display_data",
          "data": {
            "text/plain": [
              "<IPython.core.display.Javascript object>"
            ],
            "application/javascript": [
              "\n",
              "    async function download(id, filename, size) {\n",
              "      if (!google.colab.kernel.accessAllowed) {\n",
              "        return;\n",
              "      }\n",
              "      const div = document.createElement('div');\n",
              "      const label = document.createElement('label');\n",
              "      label.textContent = `Downloading \"${filename}\": `;\n",
              "      div.appendChild(label);\n",
              "      const progress = document.createElement('progress');\n",
              "      progress.max = size;\n",
              "      div.appendChild(progress);\n",
              "      document.body.appendChild(div);\n",
              "\n",
              "      const buffers = [];\n",
              "      let downloaded = 0;\n",
              "\n",
              "      const channel = await google.colab.kernel.comms.open(id);\n",
              "      // Send a message to notify the kernel that we're ready.\n",
              "      channel.send({})\n",
              "\n",
              "      for await (const message of channel.messages) {\n",
              "        // Send a message to notify the kernel that we're ready.\n",
              "        channel.send({})\n",
              "        if (message.buffers) {\n",
              "          for (const buffer of message.buffers) {\n",
              "            buffers.push(buffer);\n",
              "            downloaded += buffer.byteLength;\n",
              "            progress.value = downloaded;\n",
              "          }\n",
              "        }\n",
              "      }\n",
              "      const blob = new Blob(buffers, {type: 'application/binary'});\n",
              "      const a = document.createElement('a');\n",
              "      a.href = window.URL.createObjectURL(blob);\n",
              "      a.download = filename;\n",
              "      div.appendChild(a);\n",
              "      a.click();\n",
              "      div.remove();\n",
              "    }\n",
              "  "
            ]
          },
          "metadata": {}
        },
        {
          "output_type": "display_data",
          "data": {
            "text/plain": [
              "<IPython.core.display.Javascript object>"
            ],
            "application/javascript": [
              "download(\"download_1ebf8ae8-aa46-487e-8f06-7fb04c5b6950\", \"task2.xlsx\", 9485)"
            ]
          },
          "metadata": {}
        }
      ]
    },
    {
      "cell_type": "markdown",
      "metadata": {
        "id": "9UM-8WNdPrjW"
      },
      "source": [
        "### Задание 3.\n",
        "В цикле из файла \"sem_14_task_3.xlsx\" считать матрицы, вывести на экран каждую матрицу и ее собственные числа и собственные векторы."
      ]
    },
    {
      "cell_type": "code",
      "source": [
        "import pandas as pd\n",
        "from sympy import Matrix\n",
        "\n",
        "uploaded = files.upload()\n",
        "for key in uploaded.keys():\n",
        "    print(f'Загружен файл {key}')\n",
        "\n",
        "file_name = 'sem_14_task_3.xlsx'\n",
        "df = pd.read_excel(file_name, sheet_name=None, index_col=False, header=None)\n",
        "\n",
        "\n",
        "for sheet_name, data in df.items():\n",
        "    matrix_data = data.to_numpy()\n",
        "    M = Matrix(matrix_data)\n",
        "\n",
        "\n",
        "    display(f\"Матрица из листа '{sheet_name}':\")\n",
        "    display(M)\n",
        "\n",
        "    eigenvals = M.eigenvals()\n",
        "    eigenvects = M.eigenvects()\n",
        "\n",
        "\n",
        "    display(\"Собственные числа:\")\n",
        "    for val, mult in eigenvals.items():\n",
        "        display(f\"λ = {val}, кратность = {mult}\")\n",
        "\n",
        "\n",
        "    display(\"Собственные векторы:\")\n",
        "    for vec in eigenvects:\n",
        "        val, mult, basis = vec\n",
        "        display(f\"Для λ = {val}:\")\n",
        "        for v in basis:\n",
        "            display(v)\n",
        "\n"
      ],
      "metadata": {
        "colab": {
          "base_uri": "https://localhost:8080/",
          "height": 1000
        },
        "id": "9kR3KqDs-ewf",
        "outputId": "56eb0885-4f04-472f-85e1-00facf7ae884"
      },
      "execution_count": 18,
      "outputs": [
        {
          "output_type": "display_data",
          "data": {
            "text/plain": [
              "<IPython.core.display.HTML object>"
            ],
            "text/html": [
              "\n",
              "     <input type=\"file\" id=\"files-3b4452b4-b400-45d7-a5a9-77f2293aba9f\" name=\"files[]\" multiple disabled\n",
              "        style=\"border:none\" />\n",
              "     <output id=\"result-3b4452b4-b400-45d7-a5a9-77f2293aba9f\">\n",
              "      Upload widget is only available when the cell has been executed in the\n",
              "      current browser session. Please rerun this cell to enable.\n",
              "      </output>\n",
              "      <script>// Copyright 2017 Google LLC\n",
              "//\n",
              "// Licensed under the Apache License, Version 2.0 (the \"License\");\n",
              "// you may not use this file except in compliance with the License.\n",
              "// You may obtain a copy of the License at\n",
              "//\n",
              "//      http://www.apache.org/licenses/LICENSE-2.0\n",
              "//\n",
              "// Unless required by applicable law or agreed to in writing, software\n",
              "// distributed under the License is distributed on an \"AS IS\" BASIS,\n",
              "// WITHOUT WARRANTIES OR CONDITIONS OF ANY KIND, either express or implied.\n",
              "// See the License for the specific language governing permissions and\n",
              "// limitations under the License.\n",
              "\n",
              "/**\n",
              " * @fileoverview Helpers for google.colab Python module.\n",
              " */\n",
              "(function(scope) {\n",
              "function span(text, styleAttributes = {}) {\n",
              "  const element = document.createElement('span');\n",
              "  element.textContent = text;\n",
              "  for (const key of Object.keys(styleAttributes)) {\n",
              "    element.style[key] = styleAttributes[key];\n",
              "  }\n",
              "  return element;\n",
              "}\n",
              "\n",
              "// Max number of bytes which will be uploaded at a time.\n",
              "const MAX_PAYLOAD_SIZE = 100 * 1024;\n",
              "\n",
              "function _uploadFiles(inputId, outputId) {\n",
              "  const steps = uploadFilesStep(inputId, outputId);\n",
              "  const outputElement = document.getElementById(outputId);\n",
              "  // Cache steps on the outputElement to make it available for the next call\n",
              "  // to uploadFilesContinue from Python.\n",
              "  outputElement.steps = steps;\n",
              "\n",
              "  return _uploadFilesContinue(outputId);\n",
              "}\n",
              "\n",
              "// This is roughly an async generator (not supported in the browser yet),\n",
              "// where there are multiple asynchronous steps and the Python side is going\n",
              "// to poll for completion of each step.\n",
              "// This uses a Promise to block the python side on completion of each step,\n",
              "// then passes the result of the previous step as the input to the next step.\n",
              "function _uploadFilesContinue(outputId) {\n",
              "  const outputElement = document.getElementById(outputId);\n",
              "  const steps = outputElement.steps;\n",
              "\n",
              "  const next = steps.next(outputElement.lastPromiseValue);\n",
              "  return Promise.resolve(next.value.promise).then((value) => {\n",
              "    // Cache the last promise value to make it available to the next\n",
              "    // step of the generator.\n",
              "    outputElement.lastPromiseValue = value;\n",
              "    return next.value.response;\n",
              "  });\n",
              "}\n",
              "\n",
              "/**\n",
              " * Generator function which is called between each async step of the upload\n",
              " * process.\n",
              " * @param {string} inputId Element ID of the input file picker element.\n",
              " * @param {string} outputId Element ID of the output display.\n",
              " * @return {!Iterable<!Object>} Iterable of next steps.\n",
              " */\n",
              "function* uploadFilesStep(inputId, outputId) {\n",
              "  const inputElement = document.getElementById(inputId);\n",
              "  inputElement.disabled = false;\n",
              "\n",
              "  const outputElement = document.getElementById(outputId);\n",
              "  outputElement.innerHTML = '';\n",
              "\n",
              "  const pickedPromise = new Promise((resolve) => {\n",
              "    inputElement.addEventListener('change', (e) => {\n",
              "      resolve(e.target.files);\n",
              "    });\n",
              "  });\n",
              "\n",
              "  const cancel = document.createElement('button');\n",
              "  inputElement.parentElement.appendChild(cancel);\n",
              "  cancel.textContent = 'Cancel upload';\n",
              "  const cancelPromise = new Promise((resolve) => {\n",
              "    cancel.onclick = () => {\n",
              "      resolve(null);\n",
              "    };\n",
              "  });\n",
              "\n",
              "  // Wait for the user to pick the files.\n",
              "  const files = yield {\n",
              "    promise: Promise.race([pickedPromise, cancelPromise]),\n",
              "    response: {\n",
              "      action: 'starting',\n",
              "    }\n",
              "  };\n",
              "\n",
              "  cancel.remove();\n",
              "\n",
              "  // Disable the input element since further picks are not allowed.\n",
              "  inputElement.disabled = true;\n",
              "\n",
              "  if (!files) {\n",
              "    return {\n",
              "      response: {\n",
              "        action: 'complete',\n",
              "      }\n",
              "    };\n",
              "  }\n",
              "\n",
              "  for (const file of files) {\n",
              "    const li = document.createElement('li');\n",
              "    li.append(span(file.name, {fontWeight: 'bold'}));\n",
              "    li.append(span(\n",
              "        `(${file.type || 'n/a'}) - ${file.size} bytes, ` +\n",
              "        `last modified: ${\n",
              "            file.lastModifiedDate ? file.lastModifiedDate.toLocaleDateString() :\n",
              "                                    'n/a'} - `));\n",
              "    const percent = span('0% done');\n",
              "    li.appendChild(percent);\n",
              "\n",
              "    outputElement.appendChild(li);\n",
              "\n",
              "    const fileDataPromise = new Promise((resolve) => {\n",
              "      const reader = new FileReader();\n",
              "      reader.onload = (e) => {\n",
              "        resolve(e.target.result);\n",
              "      };\n",
              "      reader.readAsArrayBuffer(file);\n",
              "    });\n",
              "    // Wait for the data to be ready.\n",
              "    let fileData = yield {\n",
              "      promise: fileDataPromise,\n",
              "      response: {\n",
              "        action: 'continue',\n",
              "      }\n",
              "    };\n",
              "\n",
              "    // Use a chunked sending to avoid message size limits. See b/62115660.\n",
              "    let position = 0;\n",
              "    do {\n",
              "      const length = Math.min(fileData.byteLength - position, MAX_PAYLOAD_SIZE);\n",
              "      const chunk = new Uint8Array(fileData, position, length);\n",
              "      position += length;\n",
              "\n",
              "      const base64 = btoa(String.fromCharCode.apply(null, chunk));\n",
              "      yield {\n",
              "        response: {\n",
              "          action: 'append',\n",
              "          file: file.name,\n",
              "          data: base64,\n",
              "        },\n",
              "      };\n",
              "\n",
              "      let percentDone = fileData.byteLength === 0 ?\n",
              "          100 :\n",
              "          Math.round((position / fileData.byteLength) * 100);\n",
              "      percent.textContent = `${percentDone}% done`;\n",
              "\n",
              "    } while (position < fileData.byteLength);\n",
              "  }\n",
              "\n",
              "  // All done.\n",
              "  yield {\n",
              "    response: {\n",
              "      action: 'complete',\n",
              "    }\n",
              "  };\n",
              "}\n",
              "\n",
              "scope.google = scope.google || {};\n",
              "scope.google.colab = scope.google.colab || {};\n",
              "scope.google.colab._files = {\n",
              "  _uploadFiles,\n",
              "  _uploadFilesContinue,\n",
              "};\n",
              "})(self);\n",
              "</script> "
            ]
          },
          "metadata": {}
        },
        {
          "output_type": "stream",
          "name": "stdout",
          "text": [
            "Saving sem_14_task_3.xlsx to sem_14_task_3.xlsx\n",
            "Загружен файл sem_14_task_3.xlsx\n"
          ]
        },
        {
          "output_type": "display_data",
          "data": {
            "text/plain": [
              "\"Матрица из листа 'A1':\""
            ],
            "application/vnd.google.colaboratory.intrinsic+json": {
              "type": "string"
            }
          },
          "metadata": {}
        },
        {
          "output_type": "display_data",
          "data": {
            "text/plain": [
              "Matrix([\n",
              "[  7, 37, -37],\n",
              "[ 37, -5,   5],\n",
              "[-37,  5,  -5]])"
            ],
            "text/latex": "$\\displaystyle \\left[\\begin{matrix}7 & 37 & -37\\\\37 & -5 & 5\\\\-37 & 5 & -5\\end{matrix}\\right]$"
          },
          "metadata": {}
        },
        {
          "output_type": "display_data",
          "data": {
            "text/plain": [
              "'Собственные числа:'"
            ],
            "application/vnd.google.colaboratory.intrinsic+json": {
              "type": "string"
            }
          },
          "metadata": {}
        },
        {
          "output_type": "display_data",
          "data": {
            "text/plain": [
              "'λ = -3*sqrt(1249)/2 - 3/2, кратность = 1'"
            ],
            "application/vnd.google.colaboratory.intrinsic+json": {
              "type": "string"
            }
          },
          "metadata": {}
        },
        {
          "output_type": "display_data",
          "data": {
            "text/plain": [
              "'λ = -3/2 + 3*sqrt(1249)/2, кратность = 1'"
            ],
            "application/vnd.google.colaboratory.intrinsic+json": {
              "type": "string"
            }
          },
          "metadata": {}
        },
        {
          "output_type": "display_data",
          "data": {
            "text/plain": [
              "'λ = 0, кратность = 1'"
            ],
            "application/vnd.google.colaboratory.intrinsic+json": {
              "type": "string"
            }
          },
          "metadata": {}
        },
        {
          "output_type": "display_data",
          "data": {
            "text/plain": [
              "'Собственные векторы:'"
            ],
            "application/vnd.google.colaboratory.intrinsic+json": {
              "type": "string"
            }
          },
          "metadata": {}
        },
        {
          "output_type": "display_data",
          "data": {
            "text/plain": [
              "'Для λ = 0:'"
            ],
            "application/vnd.google.colaboratory.intrinsic+json": {
              "type": "string"
            }
          },
          "metadata": {}
        },
        {
          "output_type": "display_data",
          "data": {
            "text/plain": [
              "Matrix([\n",
              "[0],\n",
              "[1],\n",
              "[1]])"
            ],
            "text/latex": "$\\displaystyle \\left[\\begin{matrix}0\\\\1\\\\1\\end{matrix}\\right]$"
          },
          "metadata": {}
        },
        {
          "output_type": "display_data",
          "data": {
            "text/plain": [
              "'Для λ = -3/2 + 3*sqrt(1249)/2:'"
            ],
            "application/vnd.google.colaboratory.intrinsic+json": {
              "type": "string"
            }
          },
          "metadata": {}
        },
        {
          "output_type": "display_data",
          "data": {
            "text/plain": [
              "Matrix([\n",
              "[-3*sqrt(1249)/74 - 17/74],\n",
              "[                      -1],\n",
              "[                       1]])"
            ],
            "text/latex": "$\\displaystyle \\left[\\begin{matrix}- \\frac{3 \\sqrt{1249}}{74} - \\frac{17}{74}\\\\-1\\\\1\\end{matrix}\\right]$"
          },
          "metadata": {}
        },
        {
          "output_type": "display_data",
          "data": {
            "text/plain": [
              "'Для λ = -3*sqrt(1249)/2 - 3/2:'"
            ],
            "application/vnd.google.colaboratory.intrinsic+json": {
              "type": "string"
            }
          },
          "metadata": {}
        },
        {
          "output_type": "display_data",
          "data": {
            "text/plain": [
              "Matrix([\n",
              "[-17/74 + 3*sqrt(1249)/74],\n",
              "[                      -1],\n",
              "[                       1]])"
            ],
            "text/latex": "$\\displaystyle \\left[\\begin{matrix}- \\frac{17}{74} + \\frac{3 \\sqrt{1249}}{74}\\\\-1\\\\1\\end{matrix}\\right]$"
          },
          "metadata": {}
        },
        {
          "output_type": "display_data",
          "data": {
            "text/plain": [
              "\"Матрица из листа 'A2':\""
            ],
            "application/vnd.google.colaboratory.intrinsic+json": {
              "type": "string"
            }
          },
          "metadata": {}
        },
        {
          "output_type": "display_data",
          "data": {
            "text/plain": [
              "Matrix([\n",
              "[  7,  30, -37],\n",
              "[ 30, -72,  42],\n",
              "[-37,  42,  -5]])"
            ],
            "text/latex": "$\\displaystyle \\left[\\begin{matrix}7 & 30 & -37\\\\30 & -72 & 42\\\\-37 & 42 & -5\\end{matrix}\\right]$"
          },
          "metadata": {}
        },
        {
          "output_type": "display_data",
          "data": {
            "text/plain": [
              "'Собственные числа:'"
            ],
            "application/vnd.google.colaboratory.intrinsic+json": {
              "type": "string"
            }
          },
          "metadata": {}
        },
        {
          "output_type": "display_data",
          "data": {
            "text/plain": [
              "'λ = -sqrt(5437) - 35, кратность = 1'"
            ],
            "application/vnd.google.colaboratory.intrinsic+json": {
              "type": "string"
            }
          },
          "metadata": {}
        },
        {
          "output_type": "display_data",
          "data": {
            "text/plain": [
              "'λ = -35 + sqrt(5437), кратность = 1'"
            ],
            "application/vnd.google.colaboratory.intrinsic+json": {
              "type": "string"
            }
          },
          "metadata": {}
        },
        {
          "output_type": "display_data",
          "data": {
            "text/plain": [
              "'λ = 0, кратность = 1'"
            ],
            "application/vnd.google.colaboratory.intrinsic+json": {
              "type": "string"
            }
          },
          "metadata": {}
        },
        {
          "output_type": "display_data",
          "data": {
            "text/plain": [
              "'Собственные векторы:'"
            ],
            "application/vnd.google.colaboratory.intrinsic+json": {
              "type": "string"
            }
          },
          "metadata": {}
        },
        {
          "output_type": "display_data",
          "data": {
            "text/plain": [
              "'Для λ = 0:'"
            ],
            "application/vnd.google.colaboratory.intrinsic+json": {
              "type": "string"
            }
          },
          "metadata": {}
        },
        {
          "output_type": "display_data",
          "data": {
            "text/plain": [
              "Matrix([\n",
              "[1],\n",
              "[1],\n",
              "[1]])"
            ],
            "text/latex": "$\\displaystyle \\left[\\begin{matrix}1\\\\1\\\\1\\end{matrix}\\right]$"
          },
          "metadata": {}
        },
        {
          "output_type": "display_data",
          "data": {
            "text/plain": [
              "'Для λ = -35 + sqrt(5437):'"
            ],
            "application/vnd.google.colaboratory.intrinsic+json": {
              "type": "string"
            }
          },
          "metadata": {}
        },
        {
          "output_type": "display_data",
          "data": {
            "text/plain": [
              "Matrix([\n",
              "[-sqrt(5437)/79 - 12/79],\n",
              "[-67/79 + sqrt(5437)/79],\n",
              "[                     1]])"
            ],
            "text/latex": "$\\displaystyle \\left[\\begin{matrix}- \\frac{\\sqrt{5437}}{79} - \\frac{12}{79}\\\\- \\frac{67}{79} + \\frac{\\sqrt{5437}}{79}\\\\1\\end{matrix}\\right]$"
          },
          "metadata": {}
        },
        {
          "output_type": "display_data",
          "data": {
            "text/plain": [
              "'Для λ = -sqrt(5437) - 35:'"
            ],
            "application/vnd.google.colaboratory.intrinsic+json": {
              "type": "string"
            }
          },
          "metadata": {}
        },
        {
          "output_type": "display_data",
          "data": {
            "text/plain": [
              "Matrix([\n",
              "[-12/79 + sqrt(5437)/79],\n",
              "[-sqrt(5437)/79 - 67/79],\n",
              "[                     1]])"
            ],
            "text/latex": "$\\displaystyle \\left[\\begin{matrix}- \\frac{12}{79} + \\frac{\\sqrt{5437}}{79}\\\\- \\frac{\\sqrt{5437}}{79} - \\frac{67}{79}\\\\1\\end{matrix}\\right]$"
          },
          "metadata": {}
        },
        {
          "output_type": "display_data",
          "data": {
            "text/plain": [
              "\"Матрица из листа 'A3':\""
            ],
            "application/vnd.google.colaboratory.intrinsic+json": {
              "type": "string"
            }
          },
          "metadata": {}
        },
        {
          "output_type": "display_data",
          "data": {
            "text/plain": [
              "Matrix([\n",
              "[  7,  37, -44],\n",
              "[ 37,  -5, -32],\n",
              "[-44, -32,  76]])"
            ],
            "text/latex": "$\\displaystyle \\left[\\begin{matrix}7 & 37 & -44\\\\37 & -5 & -32\\\\-44 & -32 & 76\\end{matrix}\\right]$"
          },
          "metadata": {}
        },
        {
          "output_type": "display_data",
          "data": {
            "text/plain": [
              "'Собственные числа:'"
            ],
            "application/vnd.google.colaboratory.intrinsic+json": {
              "type": "string"
            }
          },
          "metadata": {}
        },
        {
          "output_type": "display_data",
          "data": {
            "text/plain": [
              "'λ = 39 - 21*sqrt(13), кратность = 1'"
            ],
            "application/vnd.google.colaboratory.intrinsic+json": {
              "type": "string"
            }
          },
          "metadata": {}
        },
        {
          "output_type": "display_data",
          "data": {
            "text/plain": [
              "'λ = 39 + 21*sqrt(13), кратность = 1'"
            ],
            "application/vnd.google.colaboratory.intrinsic+json": {
              "type": "string"
            }
          },
          "metadata": {}
        },
        {
          "output_type": "display_data",
          "data": {
            "text/plain": [
              "'λ = 0, кратность = 1'"
            ],
            "application/vnd.google.colaboratory.intrinsic+json": {
              "type": "string"
            }
          },
          "metadata": {}
        },
        {
          "output_type": "display_data",
          "data": {
            "text/plain": [
              "'Собственные векторы:'"
            ],
            "application/vnd.google.colaboratory.intrinsic+json": {
              "type": "string"
            }
          },
          "metadata": {}
        },
        {
          "output_type": "display_data",
          "data": {
            "text/plain": [
              "'Для λ = 0:'"
            ],
            "application/vnd.google.colaboratory.intrinsic+json": {
              "type": "string"
            }
          },
          "metadata": {}
        },
        {
          "output_type": "display_data",
          "data": {
            "text/plain": [
              "Matrix([\n",
              "[1],\n",
              "[1],\n",
              "[1]])"
            ],
            "text/latex": "$\\displaystyle \\left[\\begin{matrix}1\\\\1\\\\1\\end{matrix}\\right]$"
          },
          "metadata": {}
        },
        {
          "output_type": "display_data",
          "data": {
            "text/plain": [
              "'Для λ = 39 - 21*sqrt(13):'"
            ],
            "application/vnd.google.colaboratory.intrinsic+json": {
              "type": "string"
            }
          },
          "metadata": {}
        },
        {
          "output_type": "display_data",
          "data": {
            "text/plain": [
              "Matrix([\n",
              "[ 23/4 + 7*sqrt(13)/4],\n",
              "[-27/4 - 7*sqrt(13)/4],\n",
              "[                   1]])"
            ],
            "text/latex": "$\\displaystyle \\left[\\begin{matrix}\\frac{23}{4} + \\frac{7 \\sqrt{13}}{4}\\\\- \\frac{27}{4} - \\frac{7 \\sqrt{13}}{4}\\\\1\\end{matrix}\\right]$"
          },
          "metadata": {}
        },
        {
          "output_type": "display_data",
          "data": {
            "text/plain": [
              "'Для λ = 39 + 21*sqrt(13):'"
            ],
            "application/vnd.google.colaboratory.intrinsic+json": {
              "type": "string"
            }
          },
          "metadata": {}
        },
        {
          "output_type": "display_data",
          "data": {
            "text/plain": [
              "Matrix([\n",
              "[ 23/4 - 7*sqrt(13)/4],\n",
              "[-27/4 + 7*sqrt(13)/4],\n",
              "[                   1]])"
            ],
            "text/latex": "$\\displaystyle \\left[\\begin{matrix}\\frac{23}{4} - \\frac{7 \\sqrt{13}}{4}\\\\- \\frac{27}{4} + \\frac{7 \\sqrt{13}}{4}\\\\1\\end{matrix}\\right]$"
          },
          "metadata": {}
        },
        {
          "output_type": "display_data",
          "data": {
            "text/plain": [
              "\"Матрица из листа 'A4':\""
            ],
            "application/vnd.google.colaboratory.intrinsic+json": {
              "type": "string"
            }
          },
          "metadata": {}
        },
        {
          "output_type": "display_data",
          "data": {
            "text/plain": [
              "Matrix([\n",
              "[  7,  30, -44],\n",
              "[ 30, -72,  12],\n",
              "[-44,  12,  76]])"
            ],
            "text/latex": "$\\displaystyle \\left[\\begin{matrix}7 & 30 & -44\\\\30 & -72 & 12\\\\-44 & 12 & 76\\end{matrix}\\right]$"
          },
          "metadata": {}
        },
        {
          "output_type": "display_data",
          "data": {
            "text/plain": [
              "'Собственные числа:'"
            ],
            "application/vnd.google.colaboratory.intrinsic+json": {
              "type": "string"
            }
          },
          "metadata": {}
        },
        {
          "output_type": "display_data",
          "data": {
            "text/plain": [
              "'λ = 11/2 - sqrt(33817)/2, кратность = 1'"
            ],
            "application/vnd.google.colaboratory.intrinsic+json": {
              "type": "string"
            }
          },
          "metadata": {}
        },
        {
          "output_type": "display_data",
          "data": {
            "text/plain": [
              "'λ = 11/2 + sqrt(33817)/2, кратность = 1'"
            ],
            "application/vnd.google.colaboratory.intrinsic+json": {
              "type": "string"
            }
          },
          "metadata": {}
        },
        {
          "output_type": "display_data",
          "data": {
            "text/plain": [
              "'λ = 0, кратность = 1'"
            ],
            "application/vnd.google.colaboratory.intrinsic+json": {
              "type": "string"
            }
          },
          "metadata": {}
        },
        {
          "output_type": "display_data",
          "data": {
            "text/plain": [
              "'Собственные векторы:'"
            ],
            "application/vnd.google.colaboratory.intrinsic+json": {
              "type": "string"
            }
          },
          "metadata": {}
        },
        {
          "output_type": "display_data",
          "data": {
            "text/plain": [
              "'Для λ = 0:'"
            ],
            "application/vnd.google.colaboratory.intrinsic+json": {
              "type": "string"
            }
          },
          "metadata": {}
        },
        {
          "output_type": "display_data",
          "data": {
            "text/plain": [
              "Matrix([\n",
              "[2],\n",
              "[1],\n",
              "[1]])"
            ],
            "text/latex": "$\\displaystyle \\left[\\begin{matrix}2\\\\1\\\\1\\end{matrix}\\right]$"
          },
          "metadata": {}
        },
        {
          "output_type": "display_data",
          "data": {
            "text/plain": [
              "'Для λ = 11/2 - sqrt(33817)/2:'"
            ],
            "application/vnd.google.colaboratory.intrinsic+json": {
              "type": "string"
            }
          },
          "metadata": {}
        },
        {
          "output_type": "display_data",
          "data": {
            "text/plain": [
              "Matrix([\n",
              "[117/136 + sqrt(33817)/136],\n",
              "[ -185/68 - sqrt(33817)/68],\n",
              "[                        1]])"
            ],
            "text/latex": "$\\displaystyle \\left[\\begin{matrix}\\frac{117}{136} + \\frac{\\sqrt{33817}}{136}\\\\- \\frac{185}{68} - \\frac{\\sqrt{33817}}{68}\\\\1\\end{matrix}\\right]$"
          },
          "metadata": {}
        },
        {
          "output_type": "display_data",
          "data": {
            "text/plain": [
              "'Для λ = 11/2 + sqrt(33817)/2:'"
            ],
            "application/vnd.google.colaboratory.intrinsic+json": {
              "type": "string"
            }
          },
          "metadata": {}
        },
        {
          "output_type": "display_data",
          "data": {
            "text/plain": [
              "Matrix([\n",
              "[117/136 - sqrt(33817)/136],\n",
              "[ -185/68 + sqrt(33817)/68],\n",
              "[                        1]])"
            ],
            "text/latex": "$\\displaystyle \\left[\\begin{matrix}\\frac{117}{136} - \\frac{\\sqrt{33817}}{136}\\\\- \\frac{185}{68} + \\frac{\\sqrt{33817}}{68}\\\\1\\end{matrix}\\right]$"
          },
          "metadata": {}
        },
        {
          "output_type": "display_data",
          "data": {
            "text/plain": [
              "\"Матрица из листа 'A5':\""
            ],
            "application/vnd.google.colaboratory.intrinsic+json": {
              "type": "string"
            }
          },
          "metadata": {}
        },
        {
          "output_type": "display_data",
          "data": {
            "text/plain": [
              "Matrix([\n",
              "[76, 32, 0],\n",
              "[32, -5, 0],\n",
              "[ 0,  0, 0]])"
            ],
            "text/latex": "$\\displaystyle \\left[\\begin{matrix}76 & 32 & 0\\\\32 & -5 & 0\\\\0 & 0 & 0\\end{matrix}\\right]$"
          },
          "metadata": {}
        },
        {
          "output_type": "display_data",
          "data": {
            "text/plain": [
              "'Собственные числа:'"
            ],
            "application/vnd.google.colaboratory.intrinsic+json": {
              "type": "string"
            }
          },
          "metadata": {}
        },
        {
          "output_type": "display_data",
          "data": {
            "text/plain": [
              "'λ = 71/2 - sqrt(10657)/2, кратность = 1'"
            ],
            "application/vnd.google.colaboratory.intrinsic+json": {
              "type": "string"
            }
          },
          "metadata": {}
        },
        {
          "output_type": "display_data",
          "data": {
            "text/plain": [
              "'λ = 71/2 + sqrt(10657)/2, кратность = 1'"
            ],
            "application/vnd.google.colaboratory.intrinsic+json": {
              "type": "string"
            }
          },
          "metadata": {}
        },
        {
          "output_type": "display_data",
          "data": {
            "text/plain": [
              "'λ = 0, кратность = 1'"
            ],
            "application/vnd.google.colaboratory.intrinsic+json": {
              "type": "string"
            }
          },
          "metadata": {}
        },
        {
          "output_type": "display_data",
          "data": {
            "text/plain": [
              "'Собственные векторы:'"
            ],
            "application/vnd.google.colaboratory.intrinsic+json": {
              "type": "string"
            }
          },
          "metadata": {}
        },
        {
          "output_type": "display_data",
          "data": {
            "text/plain": [
              "'Для λ = 0:'"
            ],
            "application/vnd.google.colaboratory.intrinsic+json": {
              "type": "string"
            }
          },
          "metadata": {}
        },
        {
          "output_type": "display_data",
          "data": {
            "text/plain": [
              "Matrix([\n",
              "[0],\n",
              "[0],\n",
              "[1]])"
            ],
            "text/latex": "$\\displaystyle \\left[\\begin{matrix}0\\\\0\\\\1\\end{matrix}\\right]$"
          },
          "metadata": {}
        },
        {
          "output_type": "display_data",
          "data": {
            "text/plain": [
              "'Для λ = 71/2 - sqrt(10657)/2:'"
            ],
            "application/vnd.google.colaboratory.intrinsic+json": {
              "type": "string"
            }
          },
          "metadata": {}
        },
        {
          "output_type": "display_data",
          "data": {
            "text/plain": [
              "Matrix([\n",
              "[81/64 - sqrt(10657)/64],\n",
              "[                     1],\n",
              "[                     0]])"
            ],
            "text/latex": "$\\displaystyle \\left[\\begin{matrix}\\frac{81}{64} - \\frac{\\sqrt{10657}}{64}\\\\1\\\\0\\end{matrix}\\right]$"
          },
          "metadata": {}
        },
        {
          "output_type": "display_data",
          "data": {
            "text/plain": [
              "'Для λ = 71/2 + sqrt(10657)/2:'"
            ],
            "application/vnd.google.colaboratory.intrinsic+json": {
              "type": "string"
            }
          },
          "metadata": {}
        },
        {
          "output_type": "display_data",
          "data": {
            "text/plain": [
              "Matrix([\n",
              "[81/64 + sqrt(10657)/64],\n",
              "[                     1],\n",
              "[                     0]])"
            ],
            "text/latex": "$\\displaystyle \\left[\\begin{matrix}\\frac{81}{64} + \\frac{\\sqrt{10657}}{64}\\\\1\\\\0\\end{matrix}\\right]$"
          },
          "metadata": {}
        }
      ]
    },
    {
      "cell_type": "markdown",
      "source": [
        "### Задание 4.\n",
        "Привести квадратичную форму с матрицей\n",
        "$$\n",
        "\\left[\\begin{matrix}-645 & -12 & -960\\\\-12 & 3 & 9\\\\-960 & 9 & -1205\\end{matrix}\\right]\n",
        "$$\n",
        "к каноническому виду с помощью перехода к новому базису из собственных векторов.\n",
        "\n",
        "Вывести на экран матрицу перехода к новому базису, матрицу квадратичной формы в новом базисе и квадратичную форму в старом и новом базисе (в виде многочлена от переменных $x$, $y$, $z$)."
      ],
      "metadata": {
        "id": "PalqMShnV6wN"
      }
    },
    {
      "cell_type": "code",
      "source": [
        "A = Matrix([\n",
        "    [-645, -12, -960],\n",
        "    [-12, 3, 9],\n",
        "    [-960, 9, -1205]\n",
        "])\n",
        "eigenvalues = A.eigenvals()\n",
        "eigenvectors = A.eigenvects()\n",
        "P = Matrix([Matrix([vect.normalized() for vect in vects]).T for num, multipl, vects in eigenvectors]).T\n",
        "A_canon = P.T * A * P\n",
        "X = Matrix([x, y, z])\n",
        "display(Latex(latex(P)))\n",
        "Q_old = X.T * A * X\n",
        "display(Latex(latex(Q_old[0])))\n",
        "Q_new = X.T * A_canon * X\n",
        "display(Latex(latex(Q_new[0])))\n"
      ],
      "metadata": {
        "colab": {
          "base_uri": "https://localhost:8080/",
          "height": 132
        },
        "id": "ECHyOqLLnxab",
        "outputId": "34e49123-4864-486e-fbf2-950867595ae1"
      },
      "execution_count": 19,
      "outputs": [
        {
          "output_type": "display_data",
          "data": {
            "text/plain": [
              "<IPython.core.display.Latex object>"
            ],
            "text/latex": "\\left[\\begin{matrix}\\frac{3}{5} & - \\frac{2 \\sqrt{26}}{65} & - \\frac{2 \\sqrt{26}}{13}\\\\0 & - \\frac{5 \\sqrt{26}}{26} & \\frac{\\sqrt{26}}{26}\\\\\\frac{4}{5} & \\frac{3 \\sqrt{26}}{130} & \\frac{3 \\sqrt{26}}{26}\\end{matrix}\\right]"
          },
          "metadata": {}
        },
        {
          "output_type": "display_data",
          "data": {
            "text/plain": [
              "<IPython.core.display.Latex object>"
            ],
            "text/latex": "x \\left(- 645 x - 12 y - 960 z\\right) + y \\left(- 12 x + 3 y + 9 z\\right) + z \\left(- 960 x + 9 y - 1205 z\\right)"
          },
          "metadata": {}
        },
        {
          "output_type": "display_data",
          "data": {
            "text/plain": [
              "<IPython.core.display.Latex object>"
            ],
            "text/latex": "- 1925 x^{2} + 78 z^{2}"
          },
          "metadata": {}
        }
      ]
    },
    {
      "cell_type": "markdown",
      "metadata": {
        "id": "D7VmR2N5PrjY"
      },
      "source": [
        "### Задание 5*.\n",
        "Определить тип кривой второго порядка, заданной уравнением\n",
        "$$\n",
        "97x^2 - 144xy + 97y^2 + 482x - 532y = 3452\n",
        "$$\n",
        "Построить в одной координатной плоскости график заданного уравнения и канонического уравнения соответствующей кривой, каноническое уравнение сделать названием графика."
      ]
    },
    {
      "cell_type": "code",
      "source": [
        "from sympy.abc import X, Y, Z, x,y,z\n",
        "\n",
        "A3 = Matrix([\n",
        "    [97, -72, 241],\n",
        "    [-72, 97, -266],\n",
        "    [241, -266, -3452]\n",
        "])\n",
        "X3 = sp.Matrix([x, y, 1])\n",
        "eq3 = Eq(simplify(expand(X3.T * A3 * X3))[0], 0)\n",
        "display(eq3)\n",
        "alpha = sympy.acot((A3[0, 0] - A3[1, 1]) / (2 * A3[0, 1])) / 2\n",
        "P = Matrix([[Cos(alpha), -Sin(alpha), 0],\n",
        "            [Sin(alpha), Cos(alpha), 0],\n",
        "            [0, 0, 1]])\n",
        "P.simplify()\n",
        "display(P)\n",
        "A3_new = P.T * A3 * P\n",
        "A3_new.simplify()\n",
        "display(A3_new)\n",
        "\n",
        "X3 = Matrix((X, Y, 1))\n",
        "simplify(expand((X3.T * A3_new * X3)[0]))\n",
        "X3_new = Matrix((X - A3_new[0, 2] / A3_new[0, 0],\n",
        "                 Y - A3_new[1, 2] / A3_new[1, 1],\n",
        "                 1))\n",
        "eq3_new = simplify(expand(X3_new.T * A3_new * X3_new))[0]\n",
        "display(Latex(f'X_{{3\\ new}} = {latex(X3_new)},\\ \\\n",
        "eq_{{3\\ new}} = {latex(eq3_new)}'))\n",
        "free = eq3_new.subs({X: 0, Y: 0})\n",
        "eq3_last = eq3_new / (-free) + 1\n",
        "Eq(eq3_last, 1)\n",
        "eq3_last_xy = Eq(eq3_last.subs({X: x, Y: y}), 1)\n",
        "display(expand(eq3_last_xy))\n",
        "p = plot_implicit(eq3, line_color='g', aspect_ratio=(1, 1),\n",
        "                  xlabel='$x$', ylabel='$y$',\n",
        "                   title=f'{latex(eq3_last_xy, mode=\"inline\")}\\n', adaptive = False,\n",
        "                    show=False)\n",
        "p.extend(plot_implicit(eq3_last_xy, (x, -15, 15), line_color='m',\n",
        "                       aspect_ratio=(1, 1), show=False))\n",
        "p.show()\n"
      ],
      "metadata": {
        "colab": {
          "base_uri": "https://localhost:8080/",
          "height": 758
        },
        "id": "eyQWhIuli2Zk",
        "outputId": "9c4475b8-33df-43fa-c980-0239cc9766a9"
      },
      "execution_count": 20,
      "outputs": [
        {
          "output_type": "display_data",
          "data": {
            "text/plain": [
              "Eq(97*x**2 - 144*x*y + 482*x + 97*y**2 - 532*y - 3452, 0)"
            ],
            "text/latex": "$\\displaystyle 97 x^{2} - 144 x y + 482 x + 97 y^{2} - 532 y - 3452 = 0$"
          },
          "metadata": {}
        },
        {
          "output_type": "display_data",
          "data": {
            "text/plain": [
              "Matrix([\n",
              "[sqrt(2)/2, -sqrt(2)/2, 0],\n",
              "[sqrt(2)/2,  sqrt(2)/2, 0],\n",
              "[        0,          0, 1]])"
            ],
            "text/latex": "$\\displaystyle \\left[\\begin{matrix}\\frac{\\sqrt{2}}{2} & - \\frac{\\sqrt{2}}{2} & 0\\\\\\frac{\\sqrt{2}}{2} & \\frac{\\sqrt{2}}{2} & 0\\\\0 & 0 & 1\\end{matrix}\\right]$"
          },
          "metadata": {}
        },
        {
          "output_type": "display_data",
          "data": {
            "text/plain": [
              "Matrix([\n",
              "[           25,              0,  -25*sqrt(2)/2],\n",
              "[            0,            169, -507*sqrt(2)/2],\n",
              "[-25*sqrt(2)/2, -507*sqrt(2)/2,          -3452]])"
            ],
            "text/latex": "$\\displaystyle \\left[\\begin{matrix}25 & 0 & - \\frac{25 \\sqrt{2}}{2}\\\\0 & 169 & - \\frac{507 \\sqrt{2}}{2}\\\\- \\frac{25 \\sqrt{2}}{2} & - \\frac{507 \\sqrt{2}}{2} & -3452\\end{matrix}\\right]$"
          },
          "metadata": {}
        },
        {
          "output_type": "display_data",
          "data": {
            "text/plain": [
              "<IPython.core.display.Latex object>"
            ],
            "text/latex": "X_{3\\ new} = \\left[\\begin{matrix}X + \\frac{\\sqrt{2}}{2}\\\\Y + \\frac{3 \\sqrt{2}}{2}\\\\1\\end{matrix}\\right],\\ eq_{3\\ new} = 25 X^{2} + 169 Y^{2} - 4225"
          },
          "metadata": {}
        },
        {
          "output_type": "display_data",
          "data": {
            "text/plain": [
              "Eq(x**2/169 + y**2/25, 1)"
            ],
            "text/latex": "$\\displaystyle \\frac{x^{2}}{169} + \\frac{y^{2}}{25} = 1$"
          },
          "metadata": {}
        },
        {
          "output_type": "display_data",
          "data": {
            "text/plain": [
              "<Figure size 640x480 with 1 Axes>"
            ],
            "image/png": "[encoded data removed]"
          },
          "metadata": {}
        }
      ]
    },
    {
      "cell_type": "markdown",
      "metadata": {
        "id": "goIfBxdUPrja"
      },
      "source": [
        "### Задание 6*.\n",
        "Определить тип кривой второго порядка, заданной уравнением\n",
        "$$\n",
        "x^2+2xy+y^2-4x+4y=4\n",
        "$$\n",
        "Построить в одной координатной плоскости график заданного уравнения и канонического уравнения соответствующей кривой, каноническое уравнение сделать названием графика.\n",
        "\n",
        "Указание: каноническое уравнение параболы $y^2 = 2px$ или $x^2 = 2py$; для того, чтобы выразить $x$ или $y$ можно воспользоваться solve или solveset."
      ]
    },
    {
      "cell_type": "code",
      "source": [
        "import sympy\n",
        "from sympy import Eq, latex, plot_implicit, Matrix, simplify, expand, cos as Cos, sin as Sin\n",
        "from sympy.abc import x, y, X, Y\n",
        "from IPython.display import Latex\n",
        "\n",
        "A3 = Matrix([\n",
        "    [1, 1, -2],\n",
        "    [1, 1, 2],\n",
        "    [-2, 2, -4]\n",
        "])\n",
        "\n",
        "X3 = Matrix([x, y, 1])\n",
        "\n",
        "eq3 = Eq(simplify(expand(X3.T * A3 * X3))[0], 0)\n",
        "display(eq3)\n",
        "\n",
        "\n",
        "alpha = sympy.acot((A3[0, 0] - A3[1, 1]) / (2 * A3[0, 1])) / 2\n",
        "\n",
        "P = Matrix([[Cos(alpha), -Sin(alpha), 0],\n",
        "            [Sin(alpha), Cos(alpha), 0],\n",
        "            [0, 0, 1]])\n",
        "P.simplify()\n",
        "display(Latex(f'Матрица поворота P = {latex(P)}'))\n",
        "\n",
        "\n",
        "A3_new = simplify(P.T * A3 * P)\n",
        "display(Latex(f'Матрица квадратичной формы в новом базисе A\\' = {latex(A3_new)}'))\n",
        "\n",
        "X3_new = Matrix([X, Y, 1])\n",
        "eq3_new = simplify(expand(X3_new.T * A3_new * X3_new))[0]\n",
        "display(Latex(f'Уравнение в новых координатах: {latex(eq3_new)}'))\n",
        "\n",
        "\n",
        "if A3_new[1, 1] == 0:\n",
        "    display(Latex('Тип  кривой: парабола'))\n",
        "    if A3_new[0, 0] != 0:\n",
        "        x_expr = sympy.solve(eq3_new, X)[0]\n",
        "        eq_canon = simplify(eq3_new.subs(X, x_expr))\n",
        "        p = eq_canon.coeff(Y**2, 1) / 2\n",
        "        eq_canon_parabola = Eq(Y**2, 2 * p * X)\n",
        "    else:\n",
        "\n",
        "        y_expr = sympy.solve(eq3_new, Y)[0]\n",
        "        eq_canon = simplify(eq3_new.subs(Y, y_expr))\n",
        "        p = eq_canon.coeff(X**2, 1) / 2\n",
        "        eq_canon_parabola = Eq(X**2, 2 * p * Y)\n",
        "    display(Latex(f'Каноническое уравнение параболы: {latex(eq_canon_parabola)}'))\n",
        "else:\n",
        "    display(Latex('Тип кривой: эллипс или гипербола'))\n",
        "    x0 = -eq3_new.coeff(X, 1) / (2 * A3_new[0, 0])\n",
        "    y0 = -eq3_new.coeff(Y, 1) / (2 * A3_new[1, 1])\n",
        "    eq_canon = simplify(eq3_new.subs({X: X + x0, Y: Y + y0}))\n",
        "    display(Latex(f'Каноническое уравнение: {latex(eq_canon)}'))\n",
        "\n",
        "\n",
        "p = plot_implicit(eq3, line_color='g', aspect_ratio=(1, 1),\n",
        "                  xlabel='$x$', ylabel='$y$',\n",
        "                  title=f'{latex(eq_canon_parabola, mode=\"inline\")}\\n',\n",
        "                  adaptive=False, show=False)\n",
        "p.extend(plot_implicit(eq_canon_parabola, (x, -15, 15), line_color='m',\n",
        "                       aspect_ratio=(1, 1), show=False))\n",
        "p.show()"
      ],
      "metadata": {
        "colab": {
          "base_uri": "https://localhost:8080/",
          "height": 707
        },
        "id": "ZWlgTkpJonbB",
        "outputId": "725e6472-9f3a-4bcb-b63e-c4a8ac6cab54"
      },
      "execution_count": 50,
      "outputs": [
        {
          "output_type": "display_data",
          "data": {
            "text/plain": [
              "Eq(x**2 + 2*x*y - 4*x + y**2 + 4*y - 4, 0)"
            ],
            "text/latex": "$\\displaystyle x^{2} + 2 x y - 4 x + y^{2} + 4 y - 4 = 0$"
          },
          "metadata": {}
        },
        {
          "output_type": "display_data",
          "data": {
            "text/plain": [
              "<IPython.core.display.Latex object>"
            ],
            "text/latex": "Матрица поворота P = \\left[\\begin{matrix}\\frac{\\sqrt{2}}{2} & - \\frac{\\sqrt{2}}{2} & 0\\\\\\frac{\\sqrt{2}}{2} & \\frac{\\sqrt{2}}{2} & 0\\\\0 & 0 & 1\\end{matrix}\\right]"
          },
          "metadata": {}
        },
        {
          "output_type": "display_data",
          "data": {
            "text/plain": [
              "<IPython.core.display.Latex object>"
            ],
            "text/latex": "Матрица квадратичной формы в новом базисе A' = \\left[\\begin{matrix}2 & 0 & 0\\\\0 & 0 & 2 \\sqrt{2}\\\\0 & 2 \\sqrt{2} & -4\\end{matrix}\\right]"
          },
          "metadata": {}
        },
        {
          "output_type": "display_data",
          "data": {
            "text/plain": [
              "<IPython.core.display.Latex object>"
            ],
            "text/latex": "Уравнение в новых координатах: 2 X^{2} + 4 \\sqrt{2} Y - 4"
          },
          "metadata": {}
        },
        {
          "output_type": "display_data",
          "data": {
            "text/plain": [
              "<IPython.core.display.Latex object>"
            ],
            "text/latex": "Тип  кривой: парабола"
          },
          "metadata": {}
        },
        {
          "output_type": "display_data",
          "data": {
            "text/plain": [
              "<IPython.core.display.Latex object>"
            ],
            "text/latex": "Каноническое уравнение параболы: Y^{2} = 0"
          },
          "metadata": {}
        },
        {
          "output_type": "display_data",
          "data": {
            "text/plain": [
              "<Figure size 640x480 with 1 Axes>"
            ],
            "image/png": "[encoded data removed]"
          },
          "metadata": {}
        }
      ]
    },
    {
      "cell_type": "markdown",
      "metadata": {
        "id": "WM4LDoZIPrjc"
      },
      "source": [
        "###  Индивидуальное задание\n",
        "Составить матрицу квадратичной формы и привести ее к каноническому виду с помощью перехода к новому базису из собственных векторов. Векторы выводить на экран не нужно. Вывести на экран матрицу в исходном виде и канонической форме, а также саму квадратичную форму в каноническом виде."
      ]
    },
    {
      "cell_type": "code",
      "source": [
        "x, y, z = sp.symbols('x y z')\n",
        "\n",
        "a = 69591\n",
        "b = 60 * sp.sqrt(91)\n",
        "c = 2454 * sp.sqrt(11)\n",
        "d = 20900\n",
        "e = -180 * sp.sqrt(1001)\n",
        "f =  29509\n",
        "\n",
        "A = sp.Matrix([\n",
        "    [a, b/2, c/2],\n",
        "    [b/2, d, e/2],\n",
        "    [c/2, e/2, f]\n",
        "])\n",
        "display(A)\n",
        "\n",
        "eigenvects = A.eigenvects()\n",
        "\n",
        "P = Matrix.hstack(*[vec[2][0].normalized() for vec in eigenvects])\n",
        "P_ = P.inv()\n",
        "\n",
        "A_can = P_ * A * P\n",
        "display(A_can)\n",
        "\n",
        "x, y, z = sp.symbols('x y z')\n",
        "X = sp.Matrix([x, y, z])\n",
        "quadratic_form = X.T * A_can * X\n",
        "display(quadratic_form[0])\n"
      ],
      "metadata": {
        "colab": {
          "base_uri": "https://localhost:8080/",
          "height": 164
        },
        "id": "eCiEZEYijXow",
        "outputId": "0c9b6ac0-5f3f-493f-be83-f2bfd7d39736"
      },
      "execution_count": 7,
      "outputs": [
        {
          "output_type": "display_data",
          "data": {
            "text/plain": [
              "Matrix([\n",
              "[        69591,    30*sqrt(91),  1227*sqrt(11)],\n",
              "[  30*sqrt(91),          20900, -90*sqrt(1001)],\n",
              "[1227*sqrt(11), -90*sqrt(1001),          29509]])"
            ],
            "text/latex": "$\\displaystyle \\left[\\begin{matrix}69591 & 30 \\sqrt{91} & 1227 \\sqrt{11}\\\\30 \\sqrt{91} & 20900 & - 90 \\sqrt{1001}\\\\1227 \\sqrt{11} & - 90 \\sqrt{1001} & 29509\\end{matrix}\\right]$"
          },
          "metadata": {}
        },
        {
          "output_type": "display_data",
          "data": {
            "text/plain": [
              "Matrix([\n",
              "[20000,     0,     0],\n",
              "[    0, 30000,     0],\n",
              "[    0,     0, 70000]])"
            ],
            "text/latex": "$\\displaystyle \\left[\\begin{matrix}20000 & 0 & 0\\\\0 & 30000 & 0\\\\0 & 0 & 70000\\end{matrix}\\right]$"
          },
          "metadata": {}
        },
        {
          "output_type": "display_data",
          "data": {
            "text/plain": [
              "20000*x**2 + 30000*y**2 + 70000*z**2"
            ],
            "text/latex": "$\\displaystyle 20000 x^{2} + 30000 y^{2} + 70000 z^{2}$"
          },
          "metadata": {}
        }
      ]
    }
  ],
  "metadata": {
    "kernelspec": {
      "display_name": "Python 3",
      "language": "python",
      "name": "python3"
    },
    "language_info": {
      "codemirror_mode": {
        "name": "ipython",
        "version": 3
      },
      "file_extension": ".py",
      "mimetype": "text/x-python",
      "name": "python",
      "nbconvert_exporter": "python",
      "pygments_lexer": "ipython3",
      "version": "3.7.3"
    },
    "colab": {
      "provenance": []
    }
  },
  "nbformat": 4,
  "nbformat_minor": 0
}