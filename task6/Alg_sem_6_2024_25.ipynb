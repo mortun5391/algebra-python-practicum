{
  "nbformat": 4,
  "nbformat_minor": 0,
  "metadata": {
    "kernelspec": {
      "display_name": "Python 3",
      "language": "python",
      "name": "python3"
    },
    "language_info": {
      "codemirror_mode": {
        "name": "ipython",
        "version": 3
      },
      "file_extension": ".py",
      "mimetype": "text/x-python",
      "name": "python",
      "nbconvert_exporter": "python",
      "pygments_lexer": "ipython3",
      "version": "3.7.3"
    },
    "colab": {
      "provenance": []
    }
  },
  "cells": [
    {
      "cell_type": "code",
      "metadata": {
        "id": "5R8IZlggldtD"
      },
      "source": [
        "import sympy\n",
        "from sympy import  Matrix, Point, Line, Plane, Point3D, Eq, latex\n",
        "from IPython.display import display, Latex"
      ],
      "execution_count": 1,
      "outputs": []
    },
    {
      "cell_type": "markdown",
      "metadata": {
        "id": "1C0L1VRZldtL"
      },
      "source": [
        "# Практическое занятие 6\n",
        "# Компьютерный практикум по алгебре на Python\n",
        "https://docs.sympy.org/latest/search.html?q=geometry\n",
        "\n",
        "## Прямые и плоскости в пространстве. Модуль Geometry\n",
        "Угол $\\varphi$ между векторами $a(x_1, y_1, z_1)$ и $b(x_2, y_2, z_2)$:\n",
        "$$\n",
        "\\cos \\varphi = \\frac{(a, b)}{|a| \\cdot |b|},\n",
        "$$\n",
        "где $(a, b) = x_1 x_2 + y_1y_2 + z_1z_2$ --- скалярное произведение, $|a| = \\sqrt{x_1^2 + y_1^2 + z_1^2} = \\sqrt{(a, a)}$.\n",
        "### Пример 1.\n",
        "Найти угол между векторами $a(-3, 2, -6)$ и $b(7, -4, 4)$.\n",
        "\n",
        "Зададим векторы в виде матриц-столбцов:"
      ]
    },
    {
      "cell_type": "code",
      "metadata": {
        "id": "NPR90tR6ldtR",
        "colab": {
          "base_uri": "https://localhost:8080/",
          "height": 39
        },
        "outputId": "d60811ac-ee03-4c6d-9bbb-ab0bd965cd65"
      },
      "source": [
        "a = Matrix([-3, 2, -6])\n",
        "b = Matrix([7, -4, 4])\n",
        "display(Latex(f'a = {latex(a.T)},\\ b = {latex(b.T)}'))"
      ],
      "execution_count": 2,
      "outputs": [
        {
          "output_type": "display_data",
          "data": {
            "text/plain": [
              "<IPython.core.display.Latex object>"
            ],
            "text/latex": "a = \\left[\\begin{matrix}-3 & 2 & -6\\end{matrix}\\right],\\ b = \\left[\\begin{matrix}7 & -4 & 4\\end{matrix}\\right]"
          },
          "metadata": {}
        }
      ]
    },
    {
      "cell_type": "markdown",
      "metadata": {
        "id": "J_DfmgY6ldtS"
      },
      "source": [
        "Для вычисления скалярного произведения воспользуемся методом `.dot()`\n",
        "\n",
        "Скалярное произведение векторов X и Y:\n",
        "\n",
        "`X.dot(Y)`\n",
        "\n",
        "Вычислим скалярное произведение векторов $a$ и $b$:"
      ]
    },
    {
      "cell_type": "code",
      "metadata": {
        "colab": {
          "base_uri": "https://localhost:8080/",
          "height": 39
        },
        "id": "WZ9ukd7uldtT",
        "outputId": "41efcdfe-cacd-4c34-c9c0-f41e4d862b3b"
      },
      "source": [
        "display(Latex(f'a \\cdot b = {latex(a.dot(b))}'))"
      ],
      "execution_count": 3,
      "outputs": [
        {
          "output_type": "display_data",
          "data": {
            "text/plain": [
              "<IPython.core.display.Latex object>"
            ],
            "text/latex": "a \\cdot b = -53"
          },
          "metadata": {}
        }
      ]
    },
    {
      "cell_type": "markdown",
      "metadata": {
        "id": "Ffbzr5SKldtU"
      },
      "source": [
        "**Замечание.**\n",
        "Аргументом .dot() может быть также list или tuple, т.е. в выражении X.dot(Y) только Y может быть list, tuple или Matrix, при этом X - только Matrix, поскольку dot - метод класса Matrix.\n",
        "\n",
        "Найдем угол между векторами, для этого вначале вычислим косинус угла, а затем сам угол. Для вычисления квадратного корня без округления будем пользоваться функцией sqrt из модуля sympy, а для того, чтобы можно было использовать при необходимости sqrt из другого модуля (например, math), будем вызывать ее, указывая явно имя модуля, т.е. sympy.sqrt. Чтобы можно было извлекать корень с помощью sqrt из sympy вызовом sympy.sqrt, подключаем весь модуль так:\n",
        "\n",
        "`import sympy`\n",
        "\n",
        "это сделано в самой верхней кодовой ячейке."
      ]
    },
    {
      "cell_type": "code",
      "metadata": {
        "colab": {
          "base_uri": "https://localhost:8080/",
          "height": 39
        },
        "id": "KGsi4IyTldtV",
        "outputId": "b8605a4d-afd7-413b-ac56-8533622c654e"
      },
      "source": [
        "cos_phi = a.dot(b) / sympy.sqrt((a.dot(a)) * (b.dot(b)))\n",
        "phi = sympy.acos(cos_phi)\n",
        "display(Latex(fr\"\"\"\\cos\\phi = {latex(cos_phi)},\\\n",
        "\\phi = {latex(phi)}\\approx {round(phi, 4)}\"\"\"))"
      ],
      "execution_count": 4,
      "outputs": [
        {
          "output_type": "display_data",
          "data": {
            "text/plain": [
              "<IPython.core.display.Latex object>"
            ],
            "text/latex": "\\cos\\phi = - \\frac{53}{63},\\\n\\phi = \\operatorname{acos}{\\left(- \\frac{53}{63} \\right)}\\approx 2.5704"
          },
          "metadata": {}
        }
      ]
    },
    {
      "cell_type": "markdown",
      "metadata": {
        "id": "B3I4SzenldtW"
      },
      "source": [
        "## Geometry\n",
        "Модуль Geometry предназначен для работы с геометрическими объектами, такими как точки, прямые на плоскости и в пространстве, плоскости, плоские многоугольники и т.п.\n",
        "\n",
        "В Geometry реализованы такие геометрические объекты как точка, прямая, плоскость,  отрезок, луч, треугольник, многоугольник, правильный многоугольник, окружность, эллипс, кривая.\n",
        "\n",
        "**Point**\n",
        "\n",
        "Класс точек в модуле Geometry называется Point, это родительский класс двумерных (Point2D) и трехмерных (Point3D) точек.\n",
        "\n",
        "\n",
        "**class sympy.geometry.point.Point**\n",
        "\n",
        "Описание класса и его методов и свойств здесь:\n",
        "\n",
        "https://docs.sympy.org/latest/modules/geometry/points.html#sympy.geometry.point.Point\n",
        "\n",
        "**Point** - точка в $n$-мерном Евклидовом пространстве.\n",
        "\n",
        "**Параметры:**\n",
        "\n",
        "**coords:** последовательность из $n$ координат. При $n=2$ или 3 используется соответственно Point2D или Point3D.\n",
        "\n",
        "**evaluate:** если True (значение по умолчанию), все вещественные числа (float) приводятся к типу, соответствующему значению.\n",
        "\n",
        "**dim:** число координат точки."
      ]
    },
    {
      "cell_type": "code",
      "source": [
        "A1 = Point(-1.5, sympy.sqrt(2), -4 / 3, evaluate=True)\n",
        "A2 = Point(-1.5, sympy.sqrt(2), -4 / 3, evaluate=False)\n",
        "A3 = Point(-1.5, sympy.sqrt(2), -4 / 3)\n",
        "display(Latex(f'evaluate=True:\\ {latex(A1)}'),\n",
        "        Latex(f'evaluate=False:\\ {latex(A2)}'),\n",
        "        Latex(f'A3:\\ {latex(A3)}'))"
      ],
      "metadata": {
        "colab": {
          "base_uri": "https://localhost:8080/",
          "height": 83
        },
        "id": "F1yv-oprUYiL",
        "outputId": "cc88ca57-fad8-4cce-ab0c-7c015cd6f825"
      },
      "execution_count": 5,
      "outputs": [
        {
          "output_type": "display_data",
          "data": {
            "text/plain": [
              "<IPython.core.display.Latex object>"
            ],
            "text/latex": "evaluate=True:\\ \\operatorname{Point3D}\\left(- \\frac{3}{2}, \\sqrt{2}, - \\frac{4}{3}\\right)"
          },
          "metadata": {}
        },
        {
          "output_type": "display_data",
          "data": {
            "text/plain": [
              "<IPython.core.display.Latex object>"
            ],
            "text/latex": "evaluate=False:\\ \\operatorname{Point3D}\\left(-1.5, \\sqrt{2}, -1.33333333333333\\right)"
          },
          "metadata": {}
        },
        {
          "output_type": "display_data",
          "data": {
            "text/plain": [
              "<IPython.core.display.Latex object>"
            ],
            "text/latex": "A3:\\ \\operatorname{Point3D}\\left(- \\frac{3}{2}, \\sqrt{2}, - \\frac{4}{3}\\right)"
          },
          "metadata": {}
        }
      ]
    },
    {
      "cell_type": "markdown",
      "source": [
        "Можно иначе организовать вывод на экран, используя map, чтобы не писать три раза Latex:"
      ],
      "metadata": {
        "id": "OsnVwiZKxP6s"
      }
    },
    {
      "cell_type": "code",
      "source": [
        "display(*map(Latex, (f'evaluate=True:\\ {latex(A1)}',\n",
        "                     f'evaluate=False:\\ {latex(A2)}',\n",
        "                     f'A3:\\ {latex(A3)}')))"
      ],
      "metadata": {
        "colab": {
          "base_uri": "https://localhost:8080/",
          "height": 83
        },
        "id": "tpgShtDMwzuc",
        "outputId": "26aac250-5568-475e-9020-828c512cfe29"
      },
      "execution_count": 6,
      "outputs": [
        {
          "output_type": "display_data",
          "data": {
            "text/plain": [
              "<IPython.core.display.Latex object>"
            ],
            "text/latex": "evaluate=True:\\ \\operatorname{Point3D}\\left(- \\frac{3}{2}, \\sqrt{2}, - \\frac{4}{3}\\right)"
          },
          "metadata": {}
        },
        {
          "output_type": "display_data",
          "data": {
            "text/plain": [
              "<IPython.core.display.Latex object>"
            ],
            "text/latex": "evaluate=False:\\ \\operatorname{Point3D}\\left(-1.5, \\sqrt{2}, -1.33333333333333\\right)"
          },
          "metadata": {}
        },
        {
          "output_type": "display_data",
          "data": {
            "text/plain": [
              "<IPython.core.display.Latex object>"
            ],
            "text/latex": "A3:\\ \\operatorname{Point3D}\\left(- \\frac{3}{2}, \\sqrt{2}, - \\frac{4}{3}\\right)"
          },
          "metadata": {}
        }
      ]
    },
    {
      "cell_type": "markdown",
      "source": [
        "Можно еще так:"
      ],
      "metadata": {
        "id": "A7PwlVwExfZN"
      }
    },
    {
      "cell_type": "code",
      "source": [
        "display(Latex(\"\"\"evaluate=True:\\ {},\\\\\\\\evaluate=False:\\ {},\\\\\\\\A3:\\ {}\n",
        "\"\"\".format(*map(latex, (A1, A2, A3)))))"
      ],
      "metadata": {
        "colab": {
          "base_uri": "https://localhost:8080/",
          "height": 83
        },
        "id": "RJPyXTRJxiCR",
        "outputId": "768aa69f-fc5f-4b8f-a877-2a8b067bb077"
      },
      "execution_count": 7,
      "outputs": [
        {
          "output_type": "display_data",
          "data": {
            "text/plain": [
              "<IPython.core.display.Latex object>"
            ],
            "text/latex": "evaluate=True:\\ \\operatorname{Point3D}\\left(- \\frac{3}{2}, \\sqrt{2}, - \\frac{4}{3}\\right),\\\\evaluate=False:\\ \\operatorname{Point3D}\\left(-1.5, \\sqrt{2}, -1.33333333333333\\right),\\\\A3:\\ \\operatorname{Point3D}\\left(- \\frac{3}{2}, \\sqrt{2}, - \\frac{4}{3}\\right)\n"
          },
          "metadata": {}
        }
      ]
    },
    {
      "cell_type": "markdown",
      "source": [
        "или так:"
      ],
      "metadata": {
        "id": "mjNKdm120RWO"
      }
    },
    {
      "cell_type": "code",
      "source": [
        "display(*map(Latex, [text + f':\\ {latex(item)}' for text, item in zip(('evaluate=True',\n",
        "                                                                       'evaluate=False',\n",
        "                                                                       'A3'),\n",
        "                                                                       (A1, A2, A3))]))"
      ],
      "metadata": {
        "colab": {
          "base_uri": "https://localhost:8080/",
          "height": 83
        },
        "id": "ng8gBnDWy1Bb",
        "outputId": "b10f78b1-5912-4d73-b2dc-93aa09317c22"
      },
      "execution_count": 8,
      "outputs": [
        {
          "output_type": "display_data",
          "data": {
            "text/plain": [
              "<IPython.core.display.Latex object>"
            ],
            "text/latex": "evaluate=True:\\ \\operatorname{Point3D}\\left(- \\frac{3}{2}, \\sqrt{2}, - \\frac{4}{3}\\right)"
          },
          "metadata": {}
        },
        {
          "output_type": "display_data",
          "data": {
            "text/plain": [
              "<IPython.core.display.Latex object>"
            ],
            "text/latex": "evaluate=False:\\ \\operatorname{Point3D}\\left(-1.5, \\sqrt{2}, -1.33333333333333\\right)"
          },
          "metadata": {}
        },
        {
          "output_type": "display_data",
          "data": {
            "text/plain": [
              "<IPython.core.display.Latex object>"
            ],
            "text/latex": "A3:\\ \\operatorname{Point3D}\\left(- \\frac{3}{2}, \\sqrt{2}, - \\frac{4}{3}\\right)"
          },
          "metadata": {}
        }
      ]
    },
    {
      "cell_type": "markdown",
      "source": [
        "### Пример 2\n",
        "Найти угол между прямыми $AB$ и $CD$, $A(-1, 2, -4)$, $B(2, -2, 1)$, $C(5, 3, -6)$, $D(0, 3, -6)$.\n",
        "\n",
        "Вначале зададим точки:"
      ],
      "metadata": {
        "id": "eur0H4_lXQuz"
      }
    },
    {
      "cell_type": "code",
      "metadata": {
        "colab": {
          "base_uri": "https://localhost:8080/",
          "height": 39
        },
        "id": "D4843aQYldtY",
        "outputId": "0ea4f2c4-bb2f-4c41-c7b5-f23c2493b506"
      },
      "source": [
        "A = Point(-1, 2, -4)\n",
        "B = Point(2, -2, 1)\n",
        "C = Point(5, 3, -6)\n",
        "D = Point(0, 3, -6)\n",
        "display(Latex(f'A = {A},\\ B = {B},\\ C = {C},\\ D = {D}'))"
      ],
      "execution_count": 38,
      "outputs": [
        {
          "output_type": "display_data",
          "data": {
            "text/plain": [
              "<IPython.core.display.Latex object>"
            ],
            "text/latex": "A = Point3D(-1, 2, -4),\\ B = Point3D(2, -2, 1),\\ C = Point3D(5, 3, -6),\\ D = Point3D(0, 3, -6)"
          },
          "metadata": {}
        }
      ]
    },
    {
      "cell_type": "markdown",
      "source": [
        "Можно вывести на экран список этих точек:"
      ],
      "metadata": {
        "id": "UDfy6pCcXZC2"
      }
    },
    {
      "cell_type": "code",
      "source": [
        "display(Latex(latex([A, B, C, D])))"
      ],
      "metadata": {
        "colab": {
          "base_uri": "https://localhost:8080/",
          "height": 37
        },
        "id": "XnaAuPS3XK5e",
        "outputId": "a26f6c84-8dca-4a45-a4e8-a15d09926d72"
      },
      "execution_count": 34,
      "outputs": [
        {
          "output_type": "display_data",
          "data": {
            "text/plain": [
              "<IPython.core.display.Latex object>"
            ],
            "text/latex": "\\left[ \\operatorname{Point3D}\\left(-1, 2, -4\\right), \\  \\operatorname{Point3D}\\left(2, -2, 1\\right), \\  \\operatorname{Point3D}\\left(5, 3, -6\\right), \\  \\operatorname{Point3D}\\left(0, 3, -6\\right)\\right]"
          },
          "metadata": {}
        }
      ]
    },
    {
      "cell_type": "markdown",
      "source": [
        "С помощью метода строк format можно вывести такой текст:"
      ],
      "metadata": {
        "id": "kFzk67hxXfyn"
      }
    },
    {
      "cell_type": "code",
      "source": [
        "display(Latex(\"\"\"A = {0},\\ B = {1},\n",
        "\\ C = {2},\\ D = {3}\"\"\".format(*(latex(item) for item in (A, B, C, D)))))"
      ],
      "metadata": {
        "colab": {
          "base_uri": "https://localhost:8080/",
          "height": 39
        },
        "id": "zcgKgnTAXoDk",
        "outputId": "ae29e8d8-872d-4eba-9906-077e1987ccce"
      },
      "execution_count": 35,
      "outputs": [
        {
          "output_type": "display_data",
          "data": {
            "text/plain": [
              "<IPython.core.display.Latex object>"
            ],
            "text/latex": "A = \\operatorname{Point3D}\\left(-1, 2, -4\\right),\\ B = \\operatorname{Point3D}\\left(2, -2, 1\\right),\n\\ C = \\operatorname{Point3D}\\left(5, 3, -6\\right),\\ D = \\operatorname{Point3D}\\left(0, 3, -6\\right)"
          },
          "metadata": {}
        }
      ]
    },
    {
      "cell_type": "markdown",
      "metadata": {
        "id": "ZqkaYZoHldta"
      },
      "source": [
        "Проверим, лежат ли точки в одной плоскости:"
      ]
    },
    {
      "cell_type": "code",
      "metadata": {
        "colab": {
          "base_uri": "https://localhost:8080/"
        },
        "id": "csCsCSrBldtb",
        "outputId": "e9e9ac20-69a1-4ede-c8d8-9c019fada701"
      },
      "source": [
        "Point3D.are_coplanar(A, B, C, D)"
      ],
      "execution_count": 36,
      "outputs": [
        {
          "output_type": "execute_result",
          "data": {
            "text/plain": [
              "False"
            ]
          },
          "metadata": {},
          "execution_count": 36
        }
      ]
    },
    {
      "cell_type": "markdown",
      "source": [
        "Вывод: не лежат, прямые скрещиваются.\n",
        "\n",
        "Для более понятного вывода сделаем так:"
      ],
      "metadata": {
        "id": "SrGruL7dYMXN"
      }
    },
    {
      "cell_type": "code",
      "source": [
        "print(f\"\"\"Точки A, B, C, D {'не ' * (not Point3D.are_coplanar(A, B, C, D))}\\\n",
        "лежат в одной плоскости\"\"\")"
      ],
      "metadata": {
        "colab": {
          "base_uri": "https://localhost:8080/"
        },
        "id": "6lGqhp4gYTq2",
        "outputId": "04a5f388-58a8-4dcf-bc95-1da213205d51"
      },
      "execution_count": 37,
      "outputs": [
        {
          "output_type": "stream",
          "name": "stdout",
          "text": [
            "Точки A, B, C, D не лежат в одной плоскости\n"
          ]
        }
      ]
    },
    {
      "cell_type": "markdown",
      "metadata": {
        "id": "UZUHZa4dldtb"
      },
      "source": [
        "### Line\n",
        "Line - прямая в $n$-мерном Евклидовом пространстве,\n",
        "класс прямых в модуле Geometry. Поддрерживаются прямые на плоскости и в пространстве.\n",
        "\n",
        "**class sympy.geometry.line.LinearEntity(p1, p2=None, kwargs)**\n",
        "\n",
        "это родительский класс для классов Line, Ray и Segment.\n",
        "\n",
        "Описание класса и его методов и свойств здесь:\n",
        "\n",
        "https://docs.sympy.org/latest/modules/geometry/lines.html\n",
        "\n",
        "**Свойства (атрибуты) класса Line:**\n",
        "\n",
        "\n",
        "**ambient_dimension** - размерность (2 или 3)\n",
        "\n",
        "**direction** - направляющий вектор\n",
        "\n",
        "**length** - длина, для прямой и луча - бесконечность, для отрезка - расстояние между его концами.\n",
        "\n",
        "**p1** - первая точка на прямой\n",
        "\n",
        "**p2** - вторая точка на прямой (отличная от p1!)\n",
        "\n",
        "**points** - tuple из точек p1 и p2, т.е. (p1, p2)\n",
        "\n",
        "**Методы класса Line:**\n",
        "\n",
        "**angle_between** - угол в радианах между прямой и другой прямой или плоскостью\n",
        "\n",
        "**smallest_angle_between** - меньший из смежный углов, образующихся при пересечении прямых (для пересечения прямой и плоскости или двух плоскостей пока не реализован).\n",
        "\n",
        "Об остальных методах - позже.\n",
        "\n",
        "Зададим линии, проходящие через точки:"
      ]
    },
    {
      "cell_type": "code",
      "metadata": {
        "colab": {
          "base_uri": "https://localhost:8080/",
          "height": 61
        },
        "id": "3tUV7LRIldtc",
        "outputId": "8f3968b2-d030-46ee-c5af-92bf06c0d3eb"
      },
      "source": [
        "AB = Line(A, B)\n",
        "CD = Line(C, D)\n",
        "display(Latex(f'AB:\\\\ {AB}'), Latex(f'CD:\\\\ {CD}'))"
      ],
      "execution_count": 14,
      "outputs": [
        {
          "output_type": "display_data",
          "data": {
            "text/plain": [
              "<IPython.core.display.Latex object>"
            ],
            "text/latex": "AB:\\ Line3D(Point3D(-1, 2, -4), Point3D(2, -2, 1))"
          },
          "metadata": {}
        },
        {
          "output_type": "display_data",
          "data": {
            "text/plain": [
              "<IPython.core.display.Latex object>"
            ],
            "text/latex": "CD:\\ Line3D(Point3D(5, 3, -6), Point3D(0, 3, -6))"
          },
          "metadata": {}
        }
      ]
    },
    {
      "cell_type": "markdown",
      "metadata": {
        "id": "YkBW3hQeldtd"
      },
      "source": [
        "Из геометрии мы знаем, что угол между прямыми - это минимальный из углов, образующийся при пересечении прямых. В **Geometry**  реализованы два метода для угла между прямыми, **angle_between**, вычисляющий какой-нибудь из смежных углов, образующихся при пересечении прямых, и **smallest_angle_between**, который выдает именно тот угол, который в геометрии принято считать углом между прямыми.\n",
        "\n",
        "Найдем какой-нибудь угол между прямыми и минимальный из углов, образующихся при пересечении прямой и пересекающей ее прямой, параллельной второй из скрещивающихся прямых:"
      ]
    },
    {
      "cell_type": "code",
      "metadata": {
        "colab": {
          "base_uri": "https://localhost:8080/",
          "height": 47
        },
        "id": "VO4h4wQyldte",
        "outputId": "625e4a78-6c85-4542-cc55-4e984352b950"
      },
      "source": [
        "display(Latex(fr\"\"\"\\text{{Угол между AB и CD }}{latex(AB.angle_between(CD))},\n",
        "\\text{{меньший угол между AB и CD }}{latex(AB.smallest_angle_between(CD))}\"\"\"))"
      ],
      "execution_count": 15,
      "outputs": [
        {
          "output_type": "display_data",
          "data": {
            "text/plain": [
              "<IPython.core.display.Latex object>"
            ],
            "text/latex": "\\text{Угол между AB и CD }\\operatorname{acos}{\\left(- \\frac{3 \\sqrt{2}}{10} \\right)},\n\\text{меньший угол между AB и CD }\\operatorname{acos}{\\left(\\frac{3 \\sqrt{2}}{10} \\right)}"
          },
          "metadata": {}
        }
      ]
    },
    {
      "cell_type": "markdown",
      "metadata": {
        "id": "IchJcYkfldtf"
      },
      "source": [
        "### Пример 3\n",
        "Найти угол между плоскостями $ABC$ и $ACD$.\n",
        "\n",
        "Вначале зададим плоскости тремя точками, не лежащими на одной прямой, затем вычислим угол (для плоскостей не реализован метод smallest_angle_between):"
      ]
    },
    {
      "cell_type": "code",
      "metadata": {
        "colab": {
          "base_uri": "https://localhost:8080/",
          "height": 47
        },
        "id": "_71ko_XZldtg",
        "outputId": "24f6c6b5-c284-4371-b26a-786efb04a816"
      },
      "source": [
        "ABC = Plane(A, B, C)\n",
        "ACD = Plane(A, C, D)\n",
        "display(Latex(fr\"\"\"\\text{{Угол между ABC и ACD равен }}\n",
        "{latex(ABC.angle_between(ACD))}\"\"\"))"
      ],
      "execution_count": 16,
      "outputs": [
        {
          "output_type": "display_data",
          "data": {
            "text/plain": [
              "<IPython.core.display.Latex object>"
            ],
            "text/latex": "\\text{Угол между ABC и ACD равен }\n\\operatorname{acos}{\\left(\\frac{33 \\sqrt{1130}}{1130} \\right)}"
          },
          "metadata": {}
        }
      ]
    },
    {
      "cell_type": "markdown",
      "metadata": {
        "id": "NtA74wjjldth"
      },
      "source": [
        "## Методы и свойства точек\n",
        "\n",
        "**Point3D.are_collinear**\n",
        "лежат ли точки на одной прямой\n",
        "\n",
        "**Point3D.are_coplanar**\n",
        "лежат ли точки в одной плоскости\n",
        "\n",
        "## Методы и свойства прямой\n",
        "\n",
        "**equation()**\n",
        "уравнение прямой в формате tuple, состоящего из общих уравнений двух плоскостей, пересекающихся по этой прямой\n",
        "\n",
        "**is_parallel()**\n",
        "параллельны ли две прямые\n",
        "\n",
        "\n",
        "**is_perpendicular()**\n",
        "перпендикулярны ли две прямые\n",
        "\n",
        "\n",
        "**is_similar()**\n",
        "совпадают ли две прямые\n",
        "\n",
        "\n",
        "**parallel_line(P)**\n",
        "этот метод возвращает объект Line - прямую, проходящую через точку $P$ параллельно заданной прямой\n",
        "\n",
        "**perpendicular_line(P)**\n",
        "этот метод возвращает объект Line - прямую,  проходящую через точку $P$  перпендикулярно заданной прямой\n",
        "\n",
        "## Методы и свойства плоскости\n",
        "\n",
        "**equation()**\n",
        "уравнение плоскости в формате выражения левой части общего уравнения плоскости\n",
        "\n",
        "**normal_vector**\n",
        "вектор нормали к плоскости (свойство, вызывается без ())\n",
        "\n",
        "**is_parallel()**\n",
        "параллельны ли две плоскости\n",
        "\n",
        "**is_perpendicular()**\n",
        "перпендикулярны ли две плоскости\n",
        "\n",
        "**is_coplanar()**\n",
        "совпадают ли плоскости\n",
        "\n",
        "**parallel_plane(P)**\n",
        "этот метод возвращает объект Plane - плоскость, проходящую через точку $P$ параллельно заданной плоскости\n",
        "\n",
        "**perpendicular_plane(A, B)**\n",
        "этот метод возвращает объект Plane - плоскость, проходящую через точки $A$ и $B$ перпендикулярно заданной плоскости\n",
        "\n",
        "**perpendicular_line(P)**\n",
        "этот метод возвращает объект Line - прямую, проходящую через точку $P$ перпендикулярно заданной плоскости\n",
        "\n",
        "### Пример 4\n",
        "Уравнение плоскости:"
      ]
    },
    {
      "cell_type": "code",
      "metadata": {
        "colab": {
          "base_uri": "https://localhost:8080/",
          "height": 39
        },
        "id": "QcrsE7jfldti",
        "outputId": "984881f2-d177-48b4-fe74-f083ef548cd7"
      },
      "source": [
        "ABC.equation()"
      ],
      "execution_count": 17,
      "outputs": [
        {
          "output_type": "execute_result",
          "data": {
            "text/plain": [
              "3*x + 36*y + 27*z + 39"
            ],
            "text/latex": "$\\displaystyle 3 x + 36 y + 27 z + 39$"
          },
          "metadata": {},
          "execution_count": 17
        }
      ]
    },
    {
      "cell_type": "markdown",
      "metadata": {
        "id": "R4IRXmIswPch"
      },
      "source": [
        "Получили выражение для левой части уравнения плоскости. Если нужно именно уравнение, составим его:"
      ]
    },
    {
      "cell_type": "code",
      "metadata": {
        "colab": {
          "base_uri": "https://localhost:8080/",
          "height": 39
        },
        "id": "i-vKc8lPwhVx",
        "outputId": "bbd6621a-1256-49e9-c117-3eada894e62f"
      },
      "source": [
        "Eq(ABC.equation(), 0)"
      ],
      "execution_count": 18,
      "outputs": [
        {
          "output_type": "execute_result",
          "data": {
            "text/plain": [
              "Eq(3*x + 36*y + 27*z + 39, 0)"
            ],
            "text/latex": "$\\displaystyle 3 x + 36 y + 27 z + 39 = 0$"
          },
          "metadata": {},
          "execution_count": 18
        }
      ]
    },
    {
      "cell_type": "markdown",
      "metadata": {
        "id": "q1BUR42Nldtj"
      },
      "source": [
        "### Пример 5\n",
        "Вектор нормали к плоскости:"
      ]
    },
    {
      "cell_type": "code",
      "metadata": {
        "colab": {
          "base_uri": "https://localhost:8080/",
          "height": 37
        },
        "id": "-JWrdWmfldtk",
        "outputId": "5681769e-8729-4ca4-f46d-0490ade77229"
      },
      "source": [
        "display(Latex(fr\"\"\"\\text{{Вектор нормали к плоскости ABC }}\n",
        "\\bar n = {ABC.normal_vector}\"\"\"))"
      ],
      "execution_count": 19,
      "outputs": [
        {
          "output_type": "display_data",
          "data": {
            "text/plain": [
              "<IPython.core.display.Latex object>"
            ],
            "text/latex": "\\text{Вектор нормали к плоскости ABC }\n\\bar n = (3, 36, 27)"
          },
          "metadata": {}
        }
      ]
    },
    {
      "cell_type": "markdown",
      "source": [
        "Полученный вектор нормали это не Matrix, а tuple:"
      ],
      "metadata": {
        "id": "xxtlcnnpa4K0"
      }
    },
    {
      "cell_type": "code",
      "source": [
        "type(ABC.normal_vector)"
      ],
      "metadata": {
        "colab": {
          "base_uri": "https://localhost:8080/"
        },
        "id": "fdIJ8CzbarfO",
        "outputId": "4e46aaec-5378-4c39-a122-7d1f0c04360f"
      },
      "execution_count": 20,
      "outputs": [
        {
          "output_type": "execute_result",
          "data": {
            "text/plain": [
              "sympy.core.containers.Tuple"
            ]
          },
          "metadata": {},
          "execution_count": 20
        }
      ]
    },
    {
      "cell_type": "markdown",
      "metadata": {
        "id": "JFjFb1Y3ldtl"
      },
      "source": [
        "### Пример 6\n",
        "Уравнение плоскости, параллельной ABC, проходящей через D"
      ]
    },
    {
      "cell_type": "code",
      "metadata": {
        "colab": {
          "base_uri": "https://localhost:8080/",
          "height": 39
        },
        "id": "uDo2EIxaldtl",
        "outputId": "7d1b2255-6de6-427d-b3e9-649db463d0e0"
      },
      "source": [
        "Plane6 = ABC.parallel_plane(D)\n",
        "Plane6.equation()"
      ],
      "execution_count": 21,
      "outputs": [
        {
          "output_type": "execute_result",
          "data": {
            "text/plain": [
              "3*x + 36*y + 27*z + 54"
            ],
            "text/latex": "$\\displaystyle 3 x + 36 y + 27 z + 54$"
          },
          "metadata": {},
          "execution_count": 21
        }
      ]
    },
    {
      "cell_type": "markdown",
      "metadata": {
        "id": "8AEJdySeldtm"
      },
      "source": [
        "### Пример 7\n",
        "Проверка параллельности и перпендикулярности плоскостей:"
      ]
    },
    {
      "cell_type": "code",
      "metadata": {
        "colab": {
          "base_uri": "https://localhost:8080/"
        },
        "id": "WRl2_EMqldtm",
        "outputId": "e8c0734b-0b05-4aa5-e699-45c9c3568255"
      },
      "source": [
        "print(f\"\"\"Параллельны ли ABC и Plane6? \\\n",
        "{\"не \" * (not Plane6.is_parallel(ABC))}параллельны,\n",
        "Перпендикулярны ли ABC и Plane6? \\\n",
        "{\"не \" * (not Plane6.is_perpendicular(ABC))}перпендикулярны\"\"\")"
      ],
      "execution_count": 41,
      "outputs": [
        {
          "output_type": "stream",
          "name": "stdout",
          "text": [
            "Параллельны ли ABC и Plane6? параллельны,\n",
            "Перпендикулярны ли ABC и Plane6? не перпендикулярны\n"
          ]
        }
      ]
    },
    {
      "cell_type": "markdown",
      "metadata": {
        "id": "mvRnhhvtldtm"
      },
      "source": [
        "### Пример 8\n",
        "Построение плоскости, перпендикулярной плоскости $ABC$ и проходящей через точки $A$ и $B$:"
      ]
    },
    {
      "cell_type": "code",
      "metadata": {
        "colab": {
          "base_uri": "https://localhost:8080/",
          "height": 37
        },
        "id": "T5nu31rYldtn",
        "outputId": "53fcce16-07ea-4eda-f4a1-5712725e359d"
      },
      "source": [
        "Plane8AB = ABC.perpendicular_plane(A, B)\n",
        "Plane8AB"
      ],
      "execution_count": 23,
      "outputs": [
        {
          "output_type": "execute_result",
          "data": {
            "text/plain": [
              "Plane(Point3D(-1, 2, -4), (-288, -66, 120))"
            ],
            "text/latex": "$\\displaystyle \\operatorname{Plane}\\left(\\operatorname{Point3D}\\left(-1, 2, -4\\right), \\left( -288, \\  -66, \\  120\\right)\\right)$"
          },
          "metadata": {},
          "execution_count": 23
        }
      ]
    },
    {
      "cell_type": "markdown",
      "metadata": {
        "id": "ysi7bSKbldtn"
      },
      "source": [
        "Проверим перпендикулярность плоскостей:"
      ]
    },
    {
      "cell_type": "code",
      "metadata": {
        "colab": {
          "base_uri": "https://localhost:8080/"
        },
        "id": "3nbTfoW9ldto",
        "outputId": "c4dd8531-0eee-4db3-dd8b-ea1068c8cd13"
      },
      "source": [
        "print(f\"\"\"Перпендикулярны ли ABC и Plane8AB?\n",
        "{'не ' * (not ABC.is_perpendicular(Plane8AB))}перпендикулярны\"\"\")"
      ],
      "execution_count": 24,
      "outputs": [
        {
          "output_type": "stream",
          "name": "stdout",
          "text": [
            "Перпендикулярны ли ABC и Plane8AB?\n",
            "перпендикулярны\n"
          ]
        }
      ]
    },
    {
      "cell_type": "markdown",
      "metadata": {
        "id": "FPYsk1bTldto"
      },
      "source": [
        "### Пример 9\n",
        "Построение прямой, перпендикулярной плоскости $ABC$ и проходящей через точку $D$:"
      ]
    },
    {
      "cell_type": "code",
      "metadata": {
        "colab": {
          "base_uri": "https://localhost:8080/",
          "height": 37
        },
        "id": "tHER2ZOoldto",
        "outputId": "e85f5363-b747-43b7-fc83-c30e88546947"
      },
      "source": [
        "Line9 = ABC.perpendicular_line(D)\n",
        "Line9"
      ],
      "execution_count": 25,
      "outputs": [
        {
          "output_type": "execute_result",
          "data": {
            "text/plain": [
              "Line3D(Point3D(0, 3, -6), Point3D(3, 39, 21))"
            ],
            "text/latex": "$\\displaystyle \\operatorname{Line3D}\\left(\\operatorname{Point3D}\\left(0, 3, -6\\right), \\operatorname{Point3D}\\left(3, 39, 21\\right)\\right)$"
          },
          "metadata": {},
          "execution_count": 25
        }
      ]
    },
    {
      "cell_type": "markdown",
      "metadata": {
        "id": "TxReYtsmldtp"
      },
      "source": [
        "Проверим, что Line9 перпендикулярна  $ABC$"
      ]
    },
    {
      "cell_type": "code",
      "metadata": {
        "colab": {
          "base_uri": "https://localhost:8080/"
        },
        "id": "3_avr-vPldtp",
        "outputId": "042510d5-0ce8-44e0-851a-03cec4742de9"
      },
      "source": [
        "print(f\"\"\"Перпендикулярны ли ABC и Line9?\n",
        "{'не ' * (not ABC.is_perpendicular(Line9))}перпендикулярны\"\"\")"
      ],
      "execution_count": 26,
      "outputs": [
        {
          "output_type": "stream",
          "name": "stdout",
          "text": [
            "Перпендикулярны ли ABC и Line9?\n",
            "перпендикулярны\n"
          ]
        }
      ]
    },
    {
      "cell_type": "markdown",
      "metadata": {
        "id": "Y8ogU-KGldtp"
      },
      "source": [
        "### Пример 10\n",
        "Угол между прямой и плоскостью"
      ]
    },
    {
      "cell_type": "code",
      "metadata": {
        "colab": {
          "base_uri": "https://localhost:8080/",
          "height": 68
        },
        "id": "GPOD7Qt9ldtq",
        "outputId": "12c49d98-af6b-41b5-e1b5-a471f4cf7cff"
      },
      "source": [
        "ACD.angle_between(Line9)"
      ],
      "execution_count": 27,
      "outputs": [
        {
          "output_type": "execute_result",
          "data": {
            "text/plain": [
              "asin(33*sqrt(1130)/1130)"
            ],
            "text/latex": "$\\displaystyle \\operatorname{asin}{\\left(\\frac{33 \\sqrt{1130}}{1130} \\right)}$"
          },
          "metadata": {},
          "execution_count": 27
        }
      ]
    },
    {
      "cell_type": "markdown",
      "metadata": {
        "id": "n-xvxSbqldtq"
      },
      "source": [
        "###  Пример 11\n",
        "Даны точки  пространстве\n",
        "$A(-4, -1, -5)$, $B(4, -6, 7)$, $C(12, -11, 20)$, $D(20, -16, 31)$, $K(28, -17, 41)$,\n",
        "$M(92, -49, 133)$.\n",
        "Вывести на экран уравнения всех (различных!) прямых, проходящих через все пары этих точек."
      ]
    },
    {
      "cell_type": "code",
      "metadata": {
        "colab": {
          "base_uri": "https://localhost:8080/",
          "height": 258
        },
        "id": "ec88X3YCldtr",
        "outputId": "a14c2d9b-fc2a-45e5-ea6f-62bf4f3b8785"
      },
      "source": [
        "A = Point(-4, -1, -5)\n",
        "B = Point(4, -6, 7)\n",
        "C = Point(12, -11, 20)\n",
        "D = Point(20, -16, 31)\n",
        "K = Point(28, -17, 41)\n",
        "M = Point(92, -49, 133)\n",
        "points = (A, B, C, D, K, M)\n",
        "point_names = ('A', 'B', 'C', 'D', 'K', 'M')\n",
        "num = len(points)\n",
        "lines = [('A', 'B', Line(A, B))]\n",
        "for i in range(num):\n",
        "    for j in range(i + 1, num):\n",
        "        Line1 = Line(points[i], points[j])\n",
        "        res = True\n",
        "        for Line2 in lines:\n",
        "            if Line1.is_similar(Line2[-1]):\n",
        "                res = False\n",
        "                break\n",
        "        if res:\n",
        "            lines.append((point_names[i], point_names[j], Line1))\n",
        "\n",
        "for point1, point2, Line0 in lines:\n",
        "    display(Latex(f'{point1}{point2}:\\ {latex(Line0.equation())}'))"
      ],
      "execution_count": 28,
      "outputs": [
        {
          "output_type": "display_data",
          "data": {
            "text/plain": [
              "<IPython.core.display.Latex object>"
            ],
            "text/latex": "AB:\\ \\left( 5 x + 8 y + 28, \\  - 3 x + 2 z - 2\\right)"
          },
          "metadata": {}
        },
        {
          "output_type": "display_data",
          "data": {
            "text/plain": [
              "<IPython.core.display.Latex object>"
            ],
            "text/latex": "AC:\\ \\left( 5 x + 8 y + 28, \\  - 25 x + 16 z - 20\\right)"
          },
          "metadata": {}
        },
        {
          "output_type": "display_data",
          "data": {
            "text/plain": [
              "<IPython.core.display.Latex object>"
            ],
            "text/latex": "AK:\\ \\left( x + 2 y + 6, \\  - 23 x + 16 z - 12\\right)"
          },
          "metadata": {}
        },
        {
          "output_type": "display_data",
          "data": {
            "text/plain": [
              "<IPython.core.display.Latex object>"
            ],
            "text/latex": "BC:\\ \\left( 5 x + 8 y + 28, \\  - 13 x + 8 z - 4\\right)"
          },
          "metadata": {}
        },
        {
          "output_type": "display_data",
          "data": {
            "text/plain": [
              "<IPython.core.display.Latex object>"
            ],
            "text/latex": "BK:\\ \\left( 11 x + 24 y + 100, \\  - 17 x + 12 z - 16\\right)"
          },
          "metadata": {}
        },
        {
          "output_type": "display_data",
          "data": {
            "text/plain": [
              "<IPython.core.display.Latex object>"
            ],
            "text/latex": "BM:\\ \\left( 43 x + 88 y + 356, \\  - 63 x + 44 z - 56\\right)"
          },
          "metadata": {}
        },
        {
          "output_type": "display_data",
          "data": {
            "text/plain": [
              "<IPython.core.display.Latex object>"
            ],
            "text/latex": "CD:\\ \\left( 5 x + 8 y + 28, \\  - 11 x + 8 z - 28\\right)"
          },
          "metadata": {}
        },
        {
          "output_type": "display_data",
          "data": {
            "text/plain": [
              "<IPython.core.display.Latex object>"
            ],
            "text/latex": "CK:\\ \\left( 3 x + 8 y + 52, \\  - 21 x + 16 z - 68\\right)"
          },
          "metadata": {}
        },
        {
          "output_type": "display_data",
          "data": {
            "text/plain": [
              "<IPython.core.display.Latex object>"
            ],
            "text/latex": "CM:\\ \\left( 19 x + 40 y + 212, \\  - 113 x + 80 z - 244\\right)"
          },
          "metadata": {}
        },
        {
          "output_type": "display_data",
          "data": {
            "text/plain": [
              "<IPython.core.display.Latex object>"
            ],
            "text/latex": "DK:\\ \\left( x + 8 y + 108, \\  - 5 x + 4 z - 24\\right)"
          },
          "metadata": {}
        },
        {
          "output_type": "display_data",
          "data": {
            "text/plain": [
              "<IPython.core.display.Latex object>"
            ],
            "text/latex": "DM:\\ \\left( 11 x + 24 y + 164, \\  - 17 x + 12 z - 32\\right)"
          },
          "metadata": {}
        }
      ]
    },
    {
      "cell_type": "markdown",
      "source": [
        "**Повторение: чтение из табличного файла**\n",
        "\n",
        "Импорты для загрузки файлов:"
      ],
      "metadata": {
        "id": "mIcOEFf73Ikt"
      }
    },
    {
      "cell_type": "code",
      "source": [
        "from google.colab import files\n",
        "import pandas as pd"
      ],
      "metadata": {
        "id": "rrlGEl383Y6k"
      },
      "execution_count": 29,
      "outputs": []
    },
    {
      "cell_type": "markdown",
      "source": [
        "Считываем данные и выводим их на экран."
      ],
      "metadata": {
        "id": "9ioLQbwx3Z60"
      }
    },
    {
      "cell_type": "code",
      "source": [
        "uploaded = files.upload()\n",
        "points_table = pd.read_excel('points.xlsx', index_col=0)\n",
        "print(points_table)"
      ],
      "metadata": {
        "colab": {
          "base_uri": "https://localhost:8080/",
          "height": 264
        },
        "id": "fiYWERHV3d8n",
        "outputId": "c4c981ad-f25f-43f6-da3c-aaedfc91efd1"
      },
      "execution_count": 30,
      "outputs": [
        {
          "output_type": "display_data",
          "data": {
            "text/plain": [
              "<IPython.core.display.HTML object>"
            ],
            "text/html": [
              "\n",
              "     <input type=\"file\" id=\"files-a0dca43f-bcba-4661-a47a-17362ddf8ad0\" name=\"files[]\" multiple disabled\n",
              "        style=\"border:none\" />\n",
              "     <output id=\"result-a0dca43f-bcba-4661-a47a-17362ddf8ad0\">\n",
              "      Upload widget is only available when the cell has been executed in the\n",
              "      current browser session. Please rerun this cell to enable.\n",
              "      </output>\n",
              "      <script>// Copyright 2017 Google LLC\n",
              "//\n",
              "// Licensed under the Apache License, Version 2.0 (the \"License\");\n",
              "// you may not use this file except in compliance with the License.\n",
              "// You may obtain a copy of the License at\n",
              "//\n",
              "//      http://www.apache.org/licenses/LICENSE-2.0\n",
              "//\n",
              "// Unless required by applicable law or agreed to in writing, software\n",
              "// distributed under the License is distributed on an \"AS IS\" BASIS,\n",
              "// WITHOUT WARRANTIES OR CONDITIONS OF ANY KIND, either express or implied.\n",
              "// See the License for the specific language governing permissions and\n",
              "// limitations under the License.\n",
              "\n",
              "/**\n",
              " * @fileoverview Helpers for google.colab Python module.\n",
              " */\n",
              "(function(scope) {\n",
              "function span(text, styleAttributes = {}) {\n",
              "  const element = document.createElement('span');\n",
              "  element.textContent = text;\n",
              "  for (const key of Object.keys(styleAttributes)) {\n",
              "    element.style[key] = styleAttributes[key];\n",
              "  }\n",
              "  return element;\n",
              "}\n",
              "\n",
              "// Max number of bytes which will be uploaded at a time.\n",
              "const MAX_PAYLOAD_SIZE = 100 * 1024;\n",
              "\n",
              "function _uploadFiles(inputId, outputId) {\n",
              "  const steps = uploadFilesStep(inputId, outputId);\n",
              "  const outputElement = document.getElementById(outputId);\n",
              "  // Cache steps on the outputElement to make it available for the next call\n",
              "  // to uploadFilesContinue from Python.\n",
              "  outputElement.steps = steps;\n",
              "\n",
              "  return _uploadFilesContinue(outputId);\n",
              "}\n",
              "\n",
              "// This is roughly an async generator (not supported in the browser yet),\n",
              "// where there are multiple asynchronous steps and the Python side is going\n",
              "// to poll for completion of each step.\n",
              "// This uses a Promise to block the python side on completion of each step,\n",
              "// then passes the result of the previous step as the input to the next step.\n",
              "function _uploadFilesContinue(outputId) {\n",
              "  const outputElement = document.getElementById(outputId);\n",
              "  const steps = outputElement.steps;\n",
              "\n",
              "  const next = steps.next(outputElement.lastPromiseValue);\n",
              "  return Promise.resolve(next.value.promise).then((value) => {\n",
              "    // Cache the last promise value to make it available to the next\n",
              "    // step of the generator.\n",
              "    outputElement.lastPromiseValue = value;\n",
              "    return next.value.response;\n",
              "  });\n",
              "}\n",
              "\n",
              "/**\n",
              " * Generator function which is called between each async step of the upload\n",
              " * process.\n",
              " * @param {string} inputId Element ID of the input file picker element.\n",
              " * @param {string} outputId Element ID of the output display.\n",
              " * @return {!Iterable<!Object>} Iterable of next steps.\n",
              " */\n",
              "function* uploadFilesStep(inputId, outputId) {\n",
              "  const inputElement = document.getElementById(inputId);\n",
              "  inputElement.disabled = false;\n",
              "\n",
              "  const outputElement = document.getElementById(outputId);\n",
              "  outputElement.innerHTML = '';\n",
              "\n",
              "  const pickedPromise = new Promise((resolve) => {\n",
              "    inputElement.addEventListener('change', (e) => {\n",
              "      resolve(e.target.files);\n",
              "    });\n",
              "  });\n",
              "\n",
              "  const cancel = document.createElement('button');\n",
              "  inputElement.parentElement.appendChild(cancel);\n",
              "  cancel.textContent = 'Cancel upload';\n",
              "  const cancelPromise = new Promise((resolve) => {\n",
              "    cancel.onclick = () => {\n",
              "      resolve(null);\n",
              "    };\n",
              "  });\n",
              "\n",
              "  // Wait for the user to pick the files.\n",
              "  const files = yield {\n",
              "    promise: Promise.race([pickedPromise, cancelPromise]),\n",
              "    response: {\n",
              "      action: 'starting',\n",
              "    }\n",
              "  };\n",
              "\n",
              "  cancel.remove();\n",
              "\n",
              "  // Disable the input element since further picks are not allowed.\n",
              "  inputElement.disabled = true;\n",
              "\n",
              "  if (!files) {\n",
              "    return {\n",
              "      response: {\n",
              "        action: 'complete',\n",
              "      }\n",
              "    };\n",
              "  }\n",
              "\n",
              "  for (const file of files) {\n",
              "    const li = document.createElement('li');\n",
              "    li.append(span(file.name, {fontWeight: 'bold'}));\n",
              "    li.append(span(\n",
              "        `(${file.type || 'n/a'}) - ${file.size} bytes, ` +\n",
              "        `last modified: ${\n",
              "            file.lastModifiedDate ? file.lastModifiedDate.toLocaleDateString() :\n",
              "                                    'n/a'} - `));\n",
              "    const percent = span('0% done');\n",
              "    li.appendChild(percent);\n",
              "\n",
              "    outputElement.appendChild(li);\n",
              "\n",
              "    const fileDataPromise = new Promise((resolve) => {\n",
              "      const reader = new FileReader();\n",
              "      reader.onload = (e) => {\n",
              "        resolve(e.target.result);\n",
              "      };\n",
              "      reader.readAsArrayBuffer(file);\n",
              "    });\n",
              "    // Wait for the data to be ready.\n",
              "    let fileData = yield {\n",
              "      promise: fileDataPromise,\n",
              "      response: {\n",
              "        action: 'continue',\n",
              "      }\n",
              "    };\n",
              "\n",
              "    // Use a chunked sending to avoid message size limits. See b/62115660.\n",
              "    let position = 0;\n",
              "    do {\n",
              "      const length = Math.min(fileData.byteLength - position, MAX_PAYLOAD_SIZE);\n",
              "      const chunk = new Uint8Array(fileData, position, length);\n",
              "      position += length;\n",
              "\n",
              "      const base64 = btoa(String.fromCharCode.apply(null, chunk));\n",
              "      yield {\n",
              "        response: {\n",
              "          action: 'append',\n",
              "          file: file.name,\n",
              "          data: base64,\n",
              "        },\n",
              "      };\n",
              "\n",
              "      let percentDone = fileData.byteLength === 0 ?\n",
              "          100 :\n",
              "          Math.round((position / fileData.byteLength) * 100);\n",
              "      percent.textContent = `${percentDone}% done`;\n",
              "\n",
              "    } while (position < fileData.byteLength);\n",
              "  }\n",
              "\n",
              "  // All done.\n",
              "  yield {\n",
              "    response: {\n",
              "      action: 'complete',\n",
              "    }\n",
              "  };\n",
              "}\n",
              "\n",
              "scope.google = scope.google || {};\n",
              "scope.google.colab = scope.google.colab || {};\n",
              "scope.google.colab._files = {\n",
              "  _uploadFiles,\n",
              "  _uploadFilesContinue,\n",
              "};\n",
              "})(self);\n",
              "</script> "
            ]
          },
          "metadata": {}
        },
        {
          "output_type": "stream",
          "name": "stdout",
          "text": [
            "Saving points.xlsx to points (1).xlsx\n",
            "    x   y   z\n",
            "A  29   7   2\n",
            "B  85  90  58\n",
            "C  39  66  47\n",
            "D  29  37  34\n",
            "E  20   4  37\n",
            "F  53  26  71\n",
            "G  21  53  98\n",
            "H  74  38  98\n",
            "K  59  33  17\n",
            "M  65  93  63\n"
          ]
        }
      ]
    },
    {
      "cell_type": "markdown",
      "source": [
        "Выделим координаты точек, названия точек и координат и запишем в разные переменные."
      ],
      "metadata": {
        "id": "qu-jrXId3hRX"
      }
    },
    {
      "cell_type": "code",
      "source": [
        "points_coords = points_table.to_numpy()\n",
        "points_names = points_table.index\n",
        "coords_names = points_table.columns\n",
        "\n",
        "for point_name, coords in zip(points_names, points_coords):\n",
        "    x, y, z = coords\n",
        "    print(f'{point_name}({x}, {y}, {z})')"
      ],
      "metadata": {
        "colab": {
          "base_uri": "https://localhost:8080/"
        },
        "id": "Df2tH0jJ3u3I",
        "outputId": "008dd1ec-63dd-4931-92e7-3b7a15991479"
      },
      "execution_count": 31,
      "outputs": [
        {
          "output_type": "stream",
          "name": "stdout",
          "text": [
            "A(29, 7, 2)\n",
            "B(85, 90, 58)\n",
            "C(39, 66, 47)\n",
            "D(29, 37, 34)\n",
            "E(20, 4, 37)\n",
            "F(53, 26, 71)\n",
            "G(21, 53, 98)\n",
            "H(74, 38, 98)\n",
            "K(59, 33, 17)\n",
            "M(65, 93, 63)\n"
          ]
        }
      ]
    }
  ]
}