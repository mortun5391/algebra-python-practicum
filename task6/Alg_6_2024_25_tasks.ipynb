{
  "nbformat": 4,
  "nbformat_minor": 0,
  "metadata": {
    "kernelspec": {
      "display_name": "Python 3",
      "language": "python",
      "name": "python3"
    },
    "language_info": {
      "codemirror_mode": {
        "name": "ipython",
        "version": 3
      },
      "file_extension": ".py",
      "mimetype": "text/x-python",
      "name": "python",
      "nbconvert_exporter": "python",
      "pygments_lexer": "ipython3",
      "version": "3.7.3"
    },
    "colab": {
      "provenance": []
    }
  },
  "cells": [
    {
      "cell_type": "code",
      "metadata": {
        "id": "7VmodJtRlts5"
      },
      "source": [
        "import sympy\n",
        "from sympy import  Symbol, symbols, S, Point, Line, Plane, Point3D,\\\n",
        "Matrix, Eq, latex\n",
        "from IPython.display import display, Latex\n",
        "from google.colab import files\n",
        "import pandas as pd"
      ],
      "execution_count": null,
      "outputs": []
    },
    {
      "cell_type": "markdown",
      "metadata": {
        "id": "AUjRxXCzlts-"
      },
      "source": [
        "# Практическое занятие 6\n",
        "# Компьютерный практикум по алгебре на Python\n",
        "##  Прямые и плоскости в пространстве. Geometry.\n",
        "### Задание 1.\n",
        "Задать точки $A(1, 2, 3)$,\n",
        "$B(1, 10, 3)$,\n",
        "$C(-3, 2, 1)$,\n",
        "$D(7, 2, 1)$ как матрицы-столбцы, вычислить и вывести на экран скалярное произведение векторов $AB$ и $CD$, их длины, косинус угла между векторами и угол в радианах и градусах."
      ]
    },
    {
      "cell_type": "code",
      "source": [
        "a = Matrix((1, 2, 3))\n",
        "b = Matrix((1, 10, 3))\n",
        "c = Matrix((-3, 2, 1))\n",
        "d = Matrix((7, 2, 1))\n",
        "ab = b - a\n",
        "cd = d - c\n",
        "\n",
        "cos_phi = sympy.sqrt((a.dot(a)) * b.dot(b))\n",
        "\n",
        "phi = sympy.acos(cos_phi)\n",
        "display(ab.dot(cd))\n",
        "display(sympy.sqrt(ab.dot(ab)), sympy.sqrt(cd.dot(cd)))\n",
        "display(cos_phi)\n",
        "display(sympy.deg(phi))\n",
        "display(sympy.rad(phi))"
      ],
      "metadata": {
        "id": "BukRCSC3mEbL",
        "colab": {
          "base_uri": "https://localhost:8080/",
          "height": 178
        },
        "outputId": "00189073-031c-4dc1-a3f7-08503a99842b"
      },
      "execution_count": null,
      "outputs": [
        {
          "output_type": "display_data",
          "data": {
            "text/plain": [
              "0"
            ],
            "text/latex": "$\\displaystyle 0$"
          },
          "metadata": {}
        },
        {
          "output_type": "display_data",
          "data": {
            "text/plain": [
              "8"
            ],
            "text/latex": "$\\displaystyle 8$"
          },
          "metadata": {}
        },
        {
          "output_type": "display_data",
          "data": {
            "text/plain": [
              "10"
            ],
            "text/latex": "$\\displaystyle 10$"
          },
          "metadata": {}
        },
        {
          "output_type": "display_data",
          "data": {
            "text/plain": [
              "2*sqrt(385)"
            ],
            "text/latex": "$\\displaystyle 2 \\sqrt{385}$"
          },
          "metadata": {}
        },
        {
          "output_type": "display_data",
          "data": {
            "text/plain": [
              "180*acos(2*sqrt(385))/pi"
            ],
            "text/latex": "$\\displaystyle \\frac{180 \\operatorname{acos}{\\left(2 \\sqrt{385} \\right)}}{\\pi}$"
          },
          "metadata": {}
        },
        {
          "output_type": "display_data",
          "data": {
            "text/plain": [
              "pi*acos(2*sqrt(385))/180"
            ],
            "text/latex": "$\\displaystyle \\frac{\\pi \\operatorname{acos}{\\left(2 \\sqrt{385} \\right)}}{180}$"
          },
          "metadata": {}
        }
      ]
    },
    {
      "cell_type": "markdown",
      "metadata": {
        "id": "wg9WwHnwlttE"
      },
      "source": [
        "### Задание 2.\n",
        "Точки из Задания 1 представить в виде Point из Geometry, составить прямые $AB$,  $BC$, $CD$ и  $AD$,\n",
        "найти с помощью  **angle_between** и  **smallest_angle_between** угол между прямыми $AB$ и  $CD$, а также между $BC$ и  $AD$ (в радианах)."
      ]
    },
    {
      "cell_type": "code",
      "source": [
        "a = Point(1, 2, 3)\n",
        "b = Point(1, 10, 3)\n",
        "c = Point(-3, 2, 1)\n",
        "d = Point(7, 2, 1)\n",
        "ab = Line(a,b)\n",
        "cd = Line(c,d)\n",
        "bc = Line(b,c)\n",
        "ad = Line(a,d)\n",
        "display(ab.angle_between(cd))\n",
        "display(ab.smallest_angle_between(cd))\n",
        "display(bc.angle_between(ad))\n",
        "display(bc.smallest_angle_between(ad))\n"
      ],
      "metadata": {
        "id": "nga_JUdjmGEz",
        "colab": {
          "base_uri": "https://localhost:8080/",
          "height": 179
        },
        "outputId": "4ea43f29-21aa-46b9-d148-259fdd4a572f"
      },
      "execution_count": null,
      "outputs": [
        {
          "output_type": "display_data",
          "data": {
            "text/plain": [
              "pi/2"
            ],
            "text/latex": "$\\displaystyle \\frac{\\pi}{2}$"
          },
          "metadata": {}
        },
        {
          "output_type": "display_data",
          "data": {
            "text/plain": [
              "pi/2"
            ],
            "text/latex": "$\\displaystyle \\frac{\\pi}{2}$"
          },
          "metadata": {}
        },
        {
          "output_type": "display_data",
          "data": {
            "text/plain": [
              "acos(-sqrt(210)/42)"
            ],
            "text/latex": "$\\displaystyle \\operatorname{acos}{\\left(- \\frac{\\sqrt{210}}{42} \\right)}$"
          },
          "metadata": {}
        },
        {
          "output_type": "display_data",
          "data": {
            "text/plain": [
              "acos(sqrt(210)/42)"
            ],
            "text/latex": "$\\displaystyle \\operatorname{acos}{\\left(\\frac{\\sqrt{210}}{42} \\right)}$"
          },
          "metadata": {}
        }
      ]
    },
    {
      "cell_type": "markdown",
      "metadata": {
        "id": "1D0Y4l43lttF"
      },
      "source": [
        "### Задание 3.\n",
        "Найти и вывести на экран угол между прямой, проходящей через точки $A(-1, 3, 1)$ и $B(3, 7, 1)$ и плоскостью, в которой лежат точки\n",
        "$K(4, 3, 0)$, $M(2, 4, -2)$ и $N(6, 8, -2)$.\n",
        "Проверить, лежат ли точки  $A$ и $B$ в одной плоскости с какими-то двумя точками из $K$, $M$ и $N$.\n",
        "\n",
        "Вывести на экран сообщение \"В одной плоскости лежат точки (имена точек)\" или \"Никакие точки не лежат в одной плоскости\"."
      ]
    },
    {
      "cell_type": "code",
      "source": [
        "a = Point(-1, 3, 1)\n",
        "b = Point(3, 7, 1)\n",
        "k = Point(4, 3 ,0)\n",
        "m = Point(2, 4, -2)\n",
        "n = Point(6,8, -2)\n",
        "points = ((k,m,'K, M'), (m,n,'M, N'), (k,n,'K, N'))\n",
        "flag = 0\n",
        "for p in points:\n",
        "  if Point3D.are_coplanar(a,b,p[0], p[1]):\n",
        "    display(\"В одной плоскости лежат точки \" + 'A, B, ' + p[2])\n",
        "    flag = 1\n",
        "if flag==0:\n",
        "  display(\"Никакие точки не лежат в одной плоскости\")"
      ],
      "metadata": {
        "id": "LpVXG0YYmHCV",
        "colab": {
          "base_uri": "https://localhost:8080/",
          "height": 36
        },
        "outputId": "1c1bbe7e-469b-469d-fcfb-f2ee73febe0a"
      },
      "execution_count": null,
      "outputs": [
        {
          "output_type": "display_data",
          "data": {
            "text/plain": [
              "'В одной плоскости лежат точки A, B, M, N'"
            ],
            "application/vnd.google.colaboratory.intrinsic+json": {
              "type": "string"
            }
          },
          "metadata": {}
        }
      ]
    },
    {
      "cell_type": "markdown",
      "source": [
        "###  Задание 4.\n",
        "Даны точки $P(-1, 2, -4)$ $Q(12, -2, 20)$ $R(0, 3, -6)$, $D(-16, 53, 11)$.\n",
        "\n",
        "Определить, перпендикулярна ли плоскость $PQR$ прямой $DP$, $DQ$ или $DR$. Вывести на экран уравнения плоскости  $PQR$ и перпендикулярной ей прямой."
      ],
      "metadata": {
        "id": "e3a-OT4B8RUG"
      }
    },
    {
      "cell_type": "code",
      "source": [
        "p = Point(-1, 2, -4)\n",
        "q = Point(12, -2, 20)\n",
        "r = Point(0, 3, -6)\n",
        "d = Point(-16, 53, 11)\n",
        "pqr = Plane(p, q, r)\n",
        "dp = Line(d,p)\n",
        "dq = Line(d, q)\n",
        "dr = Line(d, r)\n",
        "display(Eq(pqr.equation(), 0))\n",
        "for l in ((dp, 'DP'), (dq, 'DQ'), (dr, 'DR')):\n",
        "  if pqr.is_perpendicular(l[0]):\n",
        "    display('Плоскость перпендекулярна прямой ' + l[1])"
      ],
      "metadata": {
        "id": "o9C2xHfumIvD",
        "colab": {
          "base_uri": "https://localhost:8080/",
          "height": 57
        },
        "outputId": "b4681cdf-b33d-4f71-d192-498ea9939806"
      },
      "execution_count": null,
      "outputs": [
        {
          "output_type": "display_data",
          "data": {
            "text/plain": [
              "Eq(-16*x + 50*y + 17*z - 48, 0)"
            ],
            "text/latex": "$\\displaystyle - 16 x + 50 y + 17 z - 48 = 0$"
          },
          "metadata": {}
        },
        {
          "output_type": "display_data",
          "data": {
            "text/plain": [
              "'Плоскость перпендекулярна прямой DR'"
            ],
            "application/vnd.google.colaboratory.intrinsic+json": {
              "type": "string"
            }
          },
          "metadata": {}
        }
      ]
    },
    {
      "cell_type": "markdown",
      "metadata": {
        "id": "giXGCDt2lttH"
      },
      "source": [
        "###  Задание 5.\n",
        "Прочитать из файла 'sem_6_task_5.xlsx' координаты точек $P_1$, $P_2$, ..., $P_9$. Вывести уравнения плоскостей $P_1 P_2 P_3$, $P_4 P_5 P_6$ и $P_7 P_8 P_9$ в цикле."
      ]
    },
    {
      "cell_type": "code",
      "source": [
        "points_table = pd.read_excel('sem_6_task_5.xlsx', index_col = 0)\n",
        "coords = points_table.to_numpy()\n",
        "points = [Point(x) for x in coords]\n",
        "planes = []\n",
        "for i in range(2, 10, 3):\n",
        "  display(Eq(Plane(points[i-2], points[i-1], points[i]).equation(), 0))\n",
        "  planes += [Plane(Point(coords[i-2]), Point(coords[i-1]), Point(coords[i]))]"
      ],
      "metadata": {
        "colab": {
          "base_uri": "https://localhost:8080/",
          "height": 83
        },
        "id": "wH6TEsGuUUF-",
        "outputId": "acc318f9-ff5e-456f-b23f-2cef6aec5049"
      },
      "execution_count": null,
      "outputs": [
        {
          "output_type": "display_data",
          "data": {
            "text/plain": [
              "Eq(49*x + 74*y - 32*z - 377, 0)"
            ],
            "text/latex": "$\\displaystyle 49 x + 74 y - 32 z - 377 = 0$"
          },
          "metadata": {}
        },
        {
          "output_type": "display_data",
          "data": {
            "text/plain": [
              "Eq(27*x + 58*y - 24*z, 0)"
            ],
            "text/latex": "$\\displaystyle 27 x + 58 y - 24 z = 0$"
          },
          "metadata": {}
        },
        {
          "output_type": "display_data",
          "data": {
            "text/plain": [
              "Eq(-28*x + 26*y + 4*z + 190, 0)"
            ],
            "text/latex": "$\\displaystyle - 28 x + 26 y + 4 z + 190 = 0$"
          },
          "metadata": {}
        }
      ]
    },
    {
      "cell_type": "code",
      "source": [],
      "metadata": {
        "id": "6Liw7GbdmMEj"
      },
      "execution_count": null,
      "outputs": []
    },
    {
      "cell_type": "markdown",
      "metadata": {
        "id": "vrK0LeOdlttJ"
      },
      "source": [
        "###  Задание 6*.\n",
        "Для каждой из плоскостей $P_1 P_2 P_3$, $P_4 P_5 P_6$ и $P_7 P_8 P_9$ построить параллельную плоскость, проходящую через начало координат (в цикле), вывести на экран уравнение этой плоскости.\n",
        "\n",
        "Вывести на экран векторы нормали плоскостей, перпендикулярных плоскости $P_1 P_2 P_3$ и проходящих через точки $P_kP_{k+1}$, $k=4,...8$ (в цикле)"
      ]
    },
    {
      "cell_type": "code",
      "source": [
        "for p in planes:\n",
        "  display(Eq(p.parallel_plane(Point(0,0,0)).equation(), 0))\n",
        "pl = planes[0]\n",
        "for k in range(3, 8):\n",
        "  display(pl.perpendicular_plane(points[k], points[k+1]).normal_vector)"
      ],
      "metadata": {
        "id": "pqpkF-QHmOLP",
        "colab": {
          "base_uri": "https://localhost:8080/",
          "height": 184
        },
        "outputId": "d6f2831e-759d-457d-f12f-c3dedc8fa50e"
      },
      "execution_count": null,
      "outputs": [
        {
          "output_type": "display_data",
          "data": {
            "text/plain": [
              "Eq(49*x + 74*y - 32*z, 0)"
            ],
            "text/latex": "$\\displaystyle 49 x + 74 y - 32 z = 0$"
          },
          "metadata": {}
        },
        {
          "output_type": "display_data",
          "data": {
            "text/plain": [
              "Eq(27*x + 58*y - 24*z, 0)"
            ],
            "text/latex": "$\\displaystyle 27 x + 58 y - 24 z = 0$"
          },
          "metadata": {}
        },
        {
          "output_type": "display_data",
          "data": {
            "text/plain": [
              "Eq(-28*x + 26*y + 4*z, 0)"
            ],
            "text/latex": "$\\displaystyle - 28 x + 26 y + 4 z = 0$"
          },
          "metadata": {}
        },
        {
          "output_type": "display_data",
          "data": {
            "text/plain": [
              "(200, -516, -887)"
            ],
            "text/latex": "$\\displaystyle \\left( 200, \\  -516, \\  -887\\right)$"
          },
          "metadata": {}
        },
        {
          "output_type": "display_data",
          "data": {
            "text/plain": [
              "(-666, 697, 592)"
            ],
            "text/latex": "$\\displaystyle \\left( -666, \\  697, \\  592\\right)$"
          },
          "metadata": {}
        },
        {
          "output_type": "display_data",
          "data": {
            "text/plain": [
              "(1090, -637, 196)"
            ],
            "text/latex": "$\\displaystyle \\left( 1090, \\  -637, \\  196\\right)$"
          },
          "metadata": {}
        },
        {
          "output_type": "display_data",
          "data": {
            "text/plain": [
              "(-518, 375, 74)"
            ],
            "text/latex": "$\\displaystyle \\left( -518, \\  375, \\  74\\right)$"
          },
          "metadata": {}
        },
        {
          "output_type": "display_data",
          "data": {
            "text/plain": [
              "(242, -149, 26)"
            ],
            "text/latex": "$\\displaystyle \\left( 242, \\  -149, \\  26\\right)$"
          },
          "metadata": {}
        }
      ]
    },
    {
      "cell_type": "markdown",
      "source": [
        "###  Задание 7*.\n",
        "Построить прямую $l_1$, перпендикулярную плоскости $P_1 P_2 P_3$, проходящую через $P_9$, и прямую $l_2$, параллельную $P_8P_9$, проходящую через $P_1$. Вывести на экран для каждой прямой $l_1$ и $l_2$ точку на прямой, направляющий вектор прямой и параметрические уравнения прямой."
      ],
      "metadata": {
        "id": "kzYbI89WjHSx"
      }
    },
    {
      "cell_type": "code",
      "source": [
        "l1 = pl.perpendicular_line(points[8])\n",
        "l2 = Line(points[7], points[8]).parallel_line(points[0])\n",
        "\n",
        "t,s,x,y,z = symbols('t s x y z')\n",
        "p1 = l1.p1\n",
        "dir1 = l1.direction_ratio\n",
        "parametric_eq_l1 = (Eq(x,p1[0] + dir1[0] * t),\n",
        "                     Eq(y,p1[1] + dir1[1] * t),\n",
        "                     Eq(z, p1[2] + dir1[2] * t))\n",
        "\n",
        "display(p1, dir1)\n",
        "for e in parametric_eq_l1:\n",
        "  display(e)\n",
        "print()\n",
        "\n",
        "p2 = l2.p1\n",
        "dir2 = l2.direction_ratio\n",
        "parametric_eq_l2 = (Eq(x,p2[0] + dir2[0] * s),\n",
        "                     Eq(y,p2[1] + dir2[1] * s),\n",
        "                     Eq(z, p2[2] + dir2[2] * s))\n",
        "\n",
        "display(p2, dir2)\n",
        "for e in parametric_eq_l2:\n",
        "  display(e)\n"
      ],
      "metadata": {
        "id": "896oKTFRmPdi",
        "colab": {
          "base_uri": "https://localhost:8080/",
          "height": 241
        },
        "outputId": "ff573f83-14cb-4169-908e-6457d6af1faa"
      },
      "execution_count": null,
      "outputs": [
        {
          "output_type": "display_data",
          "data": {
            "text/plain": [
              "Point3D(10, 3, 3)"
            ],
            "text/latex": "$\\displaystyle \\operatorname{Point3D}\\left(10, 3, 3\\right)$"
          },
          "metadata": {}
        },
        {
          "output_type": "display_data",
          "data": {
            "text/plain": [
              "[49, 74, -32]"
            ]
          },
          "metadata": {}
        },
        {
          "output_type": "display_data",
          "data": {
            "text/plain": [
              "Eq(x, 49*t + 10)"
            ],
            "text/latex": "$\\displaystyle x = 49 t + 10$"
          },
          "metadata": {}
        },
        {
          "output_type": "display_data",
          "data": {
            "text/plain": [
              "Eq(y, 74*t + 3)"
            ],
            "text/latex": "$\\displaystyle y = 74 t + 3$"
          },
          "metadata": {}
        },
        {
          "output_type": "display_data",
          "data": {
            "text/plain": [
              "Eq(z, 3 - 32*t)"
            ],
            "text/latex": "$\\displaystyle z = 3 - 32 t$"
          },
          "metadata": {}
        },
        {
          "output_type": "stream",
          "name": "stdout",
          "text": [
            "\n"
          ]
        },
        {
          "output_type": "display_data",
          "data": {
            "text/plain": [
              "Point3D(11, 3, 12)"
            ],
            "text/latex": "$\\displaystyle \\operatorname{Point3D}\\left(11, 3, 12\\right)$"
          },
          "metadata": {}
        },
        {
          "output_type": "display_data",
          "data": {
            "text/plain": [
              "[3, 4, -5]"
            ]
          },
          "metadata": {}
        },
        {
          "output_type": "display_data",
          "data": {
            "text/plain": [
              "Eq(x, 3*s + 11)"
            ],
            "text/latex": "$\\displaystyle x = 3 s + 11$"
          },
          "metadata": {}
        },
        {
          "output_type": "display_data",
          "data": {
            "text/plain": [
              "Eq(y, 4*s + 3)"
            ],
            "text/latex": "$\\displaystyle y = 4 s + 3$"
          },
          "metadata": {}
        },
        {
          "output_type": "display_data",
          "data": {
            "text/plain": [
              "Eq(z, 12 - 5*s)"
            ],
            "text/latex": "$\\displaystyle z = 12 - 5 s$"
          },
          "metadata": {}
        }
      ]
    },
    {
      "cell_type": "markdown",
      "metadata": {
        "id": "ZWS39VoElttM"
      },
      "source": [
        "### Индивидуальное задание\n",
        "Даны точки в пространстве\n",
        "$A$, $B$, $C$ и\n",
        "$M$.\n",
        "\n",
        "Найти угол между прямой $AB$ и плоскостью $CDM$, угол между $AC$ и $CM$, угол между плоскостями $ABC$ и $CDM$.\n",
        "\n",
        "Составить уравнение:\n",
        "\n",
        "a) плоскости, параллельной $ABC$ и проходящей через $M$,\n",
        "\n",
        "b) плоскости, перпендикулярной $ABC$ и проходящей через $A$ и $M$,\n",
        "\n",
        "c) прямой (параметрическое!), перпендикулярной $ABC$ и проходящей через $C$."
      ]
    },
    {
      "cell_type": "code",
      "source": [
        "a = Point(3, -3, 4)\n",
        "b = Point(0, 0, -1)\n",
        "c = Point(0, 4, 3)\n",
        "d = Point(1, 0, 4)\n",
        "m = Point(-2, 2, -1)\n",
        "cdm = Plane(c,d,m)\n",
        "abc = Plane(a, b, c)\n",
        "ab = Line(a,b)\n",
        "ac = Line(a,c)\n",
        "cm = Line(c,m)\n",
        "display(cdm.angle_between(ab))\n",
        "display(ac.angle_between(cm))\n",
        "display(abc.angle_between(cdm))\n",
        "display(Eq(abc.parallel_plane(m).equation(), 0))\n",
        "display(Eq(abc.perpendicular_plane(a,m).equation(), 0))\n",
        "t,x,y,z = symbols('t x y z')\n",
        "l = abc.perpendicular_line(c)\n",
        "p1 = l.p1\n",
        "dir = l.direction_ratio\n",
        "parametric_eq_l = (Eq(x,p1[0] + dir[0] * t),\n",
        "                     Eq(y,p1[1] + dir[1] * t),\n",
        "                     Eq(z, p1[2] + dir[2] * t))\n",
        "\n",
        "for e in parametric_eq_l:\n",
        "  display(e)"
      ],
      "metadata": {
        "id": "MxKnodpxmRdC",
        "colab": {
          "base_uri": "https://localhost:8080/",
          "height": 279
        },
        "outputId": "94301679-a94c-4d8a-b606-8cfdbf0f6622"
      },
      "execution_count": null,
      "outputs": [
        {
          "output_type": "display_data",
          "data": {
            "text/plain": [
              "asin(sqrt(4601)/4601)"
            ],
            "text/latex": "$\\displaystyle \\operatorname{asin}{\\left(\\frac{\\sqrt{4601}}{4601} \\right)}$"
          },
          "metadata": {}
        },
        {
          "output_type": "display_data",
          "data": {
            "text/plain": [
              "acos(-sqrt(354)/177)"
            ],
            "text/latex": "$\\displaystyle \\operatorname{acos}{\\left(- \\frac{\\sqrt{354}}{177} \\right)}$"
          },
          "metadata": {}
        },
        {
          "output_type": "display_data",
          "data": {
            "text/plain": [
              "acos(45*sqrt(8774)/4387)"
            ],
            "text/latex": "$\\displaystyle \\operatorname{acos}{\\left(\\frac{45 \\sqrt{8774}}{4387} \\right)}$"
          },
          "metadata": {}
        },
        {
          "output_type": "display_data",
          "data": {
            "text/plain": [
              "Eq(32*x + 12*y - 12*z + 28, 0)"
            ],
            "text/latex": "$\\displaystyle 32 x + 12 y - 12 z + 28 = 0$"
          },
          "metadata": {}
        },
        {
          "output_type": "display_data",
          "data": {
            "text/plain": [
              "Eq(-220*y - 220*z + 220, 0)"
            ],
            "text/latex": "$\\displaystyle - 220 y - 220 z + 220 = 0$"
          },
          "metadata": {}
        },
        {
          "output_type": "display_data",
          "data": {
            "text/plain": [
              "Eq(x, 32*t)"
            ],
            "text/latex": "$\\displaystyle x = 32 t$"
          },
          "metadata": {}
        },
        {
          "output_type": "display_data",
          "data": {
            "text/plain": [
              "Eq(y, 12*t + 4)"
            ],
            "text/latex": "$\\displaystyle y = 12 t + 4$"
          },
          "metadata": {}
        },
        {
          "output_type": "display_data",
          "data": {
            "text/plain": [
              "Eq(z, 3 - 12*t)"
            ],
            "text/latex": "$\\displaystyle z = 3 - 12 t$"
          },
          "metadata": {}
        }
      ]
    }
  ]
}