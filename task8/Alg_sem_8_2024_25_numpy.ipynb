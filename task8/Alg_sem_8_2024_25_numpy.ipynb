{
  "nbformat": 4,
  "nbformat_minor": 0,
  "metadata": {
    "kernelspec": {
      "display_name": "Python 3",
      "language": "python",
      "name": "python3"
    },
    "language_info": {
      "codemirror_mode": {
        "name": "ipython",
        "version": 3
      },
      "file_extension": ".py",
      "mimetype": "text/x-python",
      "name": "python",
      "nbconvert_exporter": "python",
      "pygments_lexer": "ipython3",
      "version": "3.7.3"
    },
    "colab": {
      "provenance": []
    }
  },
  "cells": [
    {
      "cell_type": "markdown",
      "metadata": {
        "id": "c6HyBQxAzvAa"
      },
      "source": [
        "# Практическое занятие 8\n",
        "# Компьютерный практикум по алгебре на Python\n",
        "## Численное решение систем линейных алгебраических уравнений (СЛАУ) с numpy."
      ]
    },
    {
      "cell_type": "markdown",
      "metadata": {
        "id": "H2TtQzFozvAj"
      },
      "source": [
        "https://numpy.org/doc/stable/reference/routines.linalg.html"
      ]
    },
    {
      "cell_type": "code",
      "metadata": {
        "id": "Szq1iyf_zvAk"
      },
      "source": [
        "import numpy as np\n",
        "from numpy import linalg"
      ],
      "execution_count": null,
      "outputs": []
    },
    {
      "cell_type": "markdown",
      "source": [
        "#Представление матриц в numpy.\n",
        "\n",
        "!!! Сейчас матрицы в numpy рекомендуется представлять в виде структуры данных \"2d numpy.array object\", а не a \"numpy.matrix object\", даже для задач линейной алгебры.\n",
        "\n",
        "2d numpy.array object это вложенный (двумерный) массив, его элементы (в отличие от списков list) данные одного типа, т.е. все элементы числа int, float,комплексные числа или какой-то другой числовой тип.\n",
        "\n",
        "Сначала составим матрицу."
      ],
      "metadata": {
        "id": "P4HXR20BDgcu"
      }
    },
    {
      "cell_type": "code",
      "source": [
        "my_matr = np.array([[1, 2, 3],\n",
        "                    [4, 5, 6]])\n",
        "my_matr"
      ],
      "metadata": {
        "colab": {
          "base_uri": "https://localhost:8080/"
        },
        "id": "1F-tKp6qHKxz",
        "outputId": "0e1bf1c7-2bb7-47c8-aab7-e111ec56e4e2"
      },
      "execution_count": null,
      "outputs": [
        {
          "output_type": "execute_result",
          "data": {
            "text/plain": [
              "array([[1, 2, 3],\n",
              "       [4, 5, 6]])"
            ]
          },
          "metadata": {},
          "execution_count": 2
        }
      ]
    },
    {
      "cell_type": "markdown",
      "source": [
        "Если конструктору numpy.array передать список, содержащий разные типы чисел, то все числа преобразуются к наиболее общему типу. Например, если в списке есть int и float, то все станут float, а если еще есть комплексные числа, то все будут преобразованы в комплексные числа."
      ],
      "metadata": {
        "id": "UOtCEaClHea0"
      }
    },
    {
      "cell_type": "code",
      "source": [
        "my_matr_1 = np.array([[1, 2.5, 3],\n",
        "                     [4, 5, 6]])\n",
        "my_matr_2 = np.array([[1, 2 + 1j, 3],\n",
        "                     [4, 5, 6]])\n",
        "print('my_matr_1', my_matr_1, 'my_matr_2', my_matr_2, sep='\\n')"
      ],
      "metadata": {
        "colab": {
          "base_uri": "https://localhost:8080/"
        },
        "id": "pwY3o_GQHdaV",
        "outputId": "c8413d6a-23d1-4b82-8db1-89d848fa10a2"
      },
      "execution_count": null,
      "outputs": [
        {
          "output_type": "stream",
          "name": "stdout",
          "text": [
            "my_matr_1\n",
            "[[1.  2.5 3. ]\n",
            " [4.  5.  6. ]]\n",
            "my_matr_2\n",
            "[[1.+0.j 2.+1.j 3.+0.j]\n",
            " [4.+0.j 5.+0.j 6.+0.j]]\n"
          ]
        }
      ]
    },
    {
      "cell_type": "markdown",
      "source": [
        "Для некоторых стандартных видов матриц есть специальные конструкторы, например\n",
        "\n",
        "для **единичной** матрицы numpy.identity(n, dtype=None, *, like=None) и numpy.eye(N, M=None, k=0, dtype=<class 'float'>, order='C', *, like=None)\n",
        "\n",
        "для **матрицы из нулей** numpy.zeros(shape, dtype=float, order='C', *, like=None)"
      ],
      "metadata": {
        "id": "EnfJKQqdIqJp"
      }
    },
    {
      "cell_type": "code",
      "source": [
        "print(f\"\"\"np.identity(3):\\n{np.identity(3)},\n",
        "np.eye(3, 4):\\n{np.eye(3, 4)},\n",
        "np.eye(3, 4, dtype=int):\\n{np.eye(3, 4, dtype=int)},\n",
        "np.zeros((2, 3)):\\n{np.zeros((2, 3))},\n",
        "np.zeros((2, 3), dtype=complex):\\n{np.zeros((2, 3), dtype=complex)}.\"\"\",\n",
        "      sep='\\n')"
      ],
      "metadata": {
        "colab": {
          "base_uri": "https://localhost:8080/"
        },
        "id": "EVBi0pihJKco",
        "outputId": "eb77ab40-6fac-4022-fc51-0ea839b329e0"
      },
      "execution_count": null,
      "outputs": [
        {
          "output_type": "stream",
          "name": "stdout",
          "text": [
            "np.identity(3):\n",
            "[[1. 0. 0.]\n",
            " [0. 1. 0.]\n",
            " [0. 0. 1.]],\n",
            "np.eye(3, 4):\n",
            "[[1. 0. 0. 0.]\n",
            " [0. 1. 0. 0.]\n",
            " [0. 0. 1. 0.]],\n",
            "np.eye(3, 4, dtype=int):\n",
            "[[1 0 0 0]\n",
            " [0 1 0 0]\n",
            " [0 0 1 0]],\n",
            "np.zeros((2, 3)):\n",
            "[[0. 0. 0.]\n",
            " [0. 0. 0.]],\n",
            "np.zeros((2, 3), dtype=complex):\n",
            "[[0.+0.j 0.+0.j 0.+0.j]\n",
            " [0.+0.j 0.+0.j 0.+0.j]].\n"
          ]
        }
      ]
    },
    {
      "cell_type": "markdown",
      "metadata": {
        "id": "5Y0ARnYvzvAm"
      },
      "source": [
        "## numpy.linalg.solve\n",
        "\n",
        "linalg.solve это решатель СЛАУ из N уравнений от N переменных.Возможное число решений одно, иначе выдается ошибка.\n",
        "\n",
        "### Пример 1. Совместная СЛАУ с единственным решением.\n"
      ]
    },
    {
      "cell_type": "code",
      "metadata": {
        "id": "SGZ1_0ApzvAw",
        "colab": {
          "base_uri": "https://localhost:8080/"
        },
        "outputId": "aef2111d-b841-467f-949c-eab10039dfca"
      },
      "source": [
        "A = np.array([[2, 3, -1],\n",
        "              [3, -2, 1],\n",
        "              [1, 1, -1]])\n",
        "b = np.array([5, 2, 0])\n",
        "X = linalg.solve(A, b)\n",
        "print(f'Решение СЛАУ: {X}')"
      ],
      "execution_count": null,
      "outputs": [
        {
          "output_type": "stream",
          "name": "stdout",
          "text": [
            "Решение СЛАУ: [1. 2. 3.]\n"
          ]
        }
      ]
    },
    {
      "cell_type": "markdown",
      "source": [
        "Как выполнить проверку? В случае отсутствия ошибок округлений при вычислениях должно выполняться $AX = b$.\n",
        "\n",
        "Для умножения матриц (т.е. array) используется оператор @ или метод matmul (то же, что и @):"
      ],
      "metadata": {
        "id": "O0GRY4q_MIoV"
      }
    },
    {
      "cell_type": "code",
      "source": [
        "A @ X == b"
      ],
      "metadata": {
        "colab": {
          "base_uri": "https://localhost:8080/"
        },
        "id": "PtB7r9tTMeba",
        "outputId": "0dbe8519-3818-4161-b0a0-cf1fb931e831"
      },
      "execution_count": null,
      "outputs": [
        {
          "output_type": "execute_result",
          "data": {
            "text/plain": [
              "array([ True,  True, False])"
            ]
          },
          "metadata": {},
          "execution_count": 6
        }
      ]
    },
    {
      "cell_type": "markdown",
      "source": [
        "Как видим, матрицы-столбцы левой и правой частей не совпадают в одной координате. Почему? По причине округлений при вычислениях. Посмотрим, насколько сильно отличаются левая и правая части:"
      ],
      "metadata": {
        "id": "GojQVaNwNkc9"
      }
    },
    {
      "cell_type": "code",
      "source": [
        "print(f'A @ X = {A @ X},\\nb = {b}')"
      ],
      "metadata": {
        "colab": {
          "base_uri": "https://localhost:8080/"
        },
        "id": "ZcdEHSPOM-bJ",
        "outputId": "c4ffb61e-9ad9-4334-e46d-79e51ea57293"
      },
      "execution_count": null,
      "outputs": [
        {
          "output_type": "stream",
          "name": "stdout",
          "text": [
            "A @ X = [5.0000000e+00 2.0000000e+00 4.4408921e-16],\n",
            "b = [5 2 0]\n"
          ]
        }
      ]
    },
    {
      "cell_type": "markdown",
      "source": [
        "Поскольку в жизни при использовании приближенных вычислений всегда результат подстановки решения будет несколько отличаться от правой части, то сравнение проводится лишь с некоторой точностью с помощью numpy.allclose(a, b, rtol=1e-05, atol=1e-08, equal_nan=False)\n",
        "\n",
        "https://numpy.org/devdocs/reference/generated/numpy.allclose.html\n",
        "\n",
        "numpy.allclose() сравнивает поэлементно первый и второй свои аргументы и возвращает True, если они все отличаются друг от друга не более чем на допустимую величину, определяемую параметрами rtol (относительная погрешность) и atol (абсолютная погрешность).\n",
        "\n",
        "При сравнении друх чисел $a$ и $b$ вычисляется величина $|a - b|$  и сравнивается с допустимой погрешностью $atol + rtol * |b|$. Если выполняется $|a - b|\\le atol + rtol * |b|$, то считается, что $a$ и $b$ приближенно равны."
      ],
      "metadata": {
        "id": "DWOKkPJ1OVxT"
      }
    },
    {
      "cell_type": "code",
      "source": [
        "np.allclose(A @ X, b)"
      ],
      "metadata": {
        "colab": {
          "base_uri": "https://localhost:8080/"
        },
        "id": "9UaS_ofINPpK",
        "outputId": "53ef67d1-3b93-4ca2-c584-e323132721cb"
      },
      "execution_count": null,
      "outputs": [
        {
          "output_type": "execute_result",
          "data": {
            "text/plain": [
              "True"
            ]
          },
          "metadata": {},
          "execution_count": 8
        }
      ]
    },
    {
      "cell_type": "markdown",
      "metadata": {
        "id": "iOc23Ur8zvAy"
      },
      "source": [
        "### Пример 2. Несовместная СЛАУ\n",
        "$$\n",
        "\\left\\{\n",
        "\\begin{matrix}\n",
        "2x + 3y - z = 5\\\\\n",
        "3x - 2y + z = 2\\\\\n",
        "5x + y = 0\n",
        "\\end{matrix}\n",
        "\\right.\n",
        "$$\n",
        "\n",
        "В случае этой несовместной СЛАУ linalg.solve выдает ошибку \"Singular matrix\". Чтобы программа не завершалась ошибкой, будем вычислять определитель левой части (если матрица квадратная) или ранг (в общем случае)."
      ]
    },
    {
      "cell_type": "code",
      "source": [
        "A = np.array([[2, 3, -1], [3, -2, 1], [5, 1, 0]])\n",
        "b = np.array([5, 2, 0])\n",
        "print(f\"\"\"Определитель |А| = {linalg.det(A)},\n",
        "ранг rg(А) = {linalg.matrix_rank(A)}\"\"\")"
      ],
      "metadata": {
        "colab": {
          "base_uri": "https://localhost:8080/"
        },
        "id": "5KBh8u-CbbmV",
        "outputId": "74bdab38-aa83-4031-eb24-528c1d8c161c"
      },
      "execution_count": null,
      "outputs": [
        {
          "output_type": "stream",
          "name": "stdout",
          "text": [
            "Определитель |А| = 0.0,\n",
            "ранг rg(А) = 2\n"
          ]
        }
      ]
    },
    {
      "cell_type": "markdown",
      "source": [
        "Для проверки СЛАУ на совместность по теореме Кронекера-Капелли нужно определить ранг расширенной матрицы СЛАУ, а для этого надо эту матрицу составить. Для соединения двух матриц в одну в numpy есть много функций (concatenate, stack, hstack, vstack и т.п), но в нашем случае, когда нужно к двумерному массиву присоединить одномерный столбец, лучше подойдет column_stack()."
      ],
      "metadata": {
        "id": "47OJRpgIgb3G"
      }
    },
    {
      "cell_type": "code",
      "metadata": {
        "id": "b6jT5-9nzvA1",
        "colab": {
          "base_uri": "https://localhost:8080/"
        },
        "outputId": "221ed1e8-2d1a-468c-ac52-33c0b91a8a8c"
      },
      "source": [
        "Ab = np.column_stack((A, b))\n",
        "print(f'Ab:\\n{Ab}\\nранг Ab rg(Аb) = {linalg.matrix_rank(Ab)}')"
      ],
      "execution_count": null,
      "outputs": [
        {
          "output_type": "stream",
          "name": "stdout",
          "text": [
            "Ab:\n",
            "[[ 2  3 -1  5]\n",
            " [ 3 -2  1  2]\n",
            " [ 5  1  0  0]]\n",
            "ранг Ab rg(Аb) = 3\n"
          ]
        }
      ]
    },
    {
      "cell_type": "markdown",
      "source": [
        "Видим, что ранг расширенной матрицы больше, чем ранг левой части, следовательно, СЛАУ несовместна."
      ],
      "metadata": {
        "id": "OMs9VZfJkWQL"
      }
    },
    {
      "cell_type": "markdown",
      "metadata": {
        "id": "WQmibXfLzvA1"
      },
      "source": [
        "### Пример 3. Недоопределенная СЛАУ\n",
        "$$\n",
        "\\left\\{\n",
        "\\begin{matrix}\n",
        "2x + 3y - z = 5\\\\\n",
        "3x - 2y + z = 2\\\\\n",
        "5x + y = 7\n",
        "\\end{matrix}\n",
        "\\right.\n",
        "$$"
      ]
    },
    {
      "cell_type": "code",
      "metadata": {
        "id": "sybkkYpLzvA2",
        "colab": {
          "base_uri": "https://localhost:8080/"
        },
        "outputId": "51478c61-c2cf-4206-dbb4-d57b11fe97d1"
      },
      "source": [
        "A = np.array([[2, 3, -1], [3, -2, 1], [5, 1, 0]])\n",
        "b = np.array([5, 2, 7])\n",
        "Ab = np.column_stack((A, b))\n",
        "print(f\"\"\"ранг A rg(А) = {linalg.matrix_rank(A)},\n",
        "ранг Ab rg(Аb) = {linalg.matrix_rank(Ab)}\"\"\")"
      ],
      "execution_count": null,
      "outputs": [
        {
          "output_type": "stream",
          "name": "stdout",
          "text": [
            "ранг A rg(А) = 2,\n",
            "ранг Ab rg(Аb) = 2\n"
          ]
        }
      ]
    },
    {
      "cell_type": "markdown",
      "source": [
        "С помощью linalg.solve() такую СЛАУ решить нельзя, поскольку матрица левой части неполного ранга."
      ],
      "metadata": {
        "id": "taEPVqnslVmw"
      }
    },
    {
      "cell_type": "markdown",
      "metadata": {
        "id": "FxH4X5T2zvA-"
      },
      "source": [
        "### Выделение строки, столбца и подматрицы в np.array\n",
        "Для выделения части матрицы будем использовать диапазоны (срезы, slice)\n",
        "\n",
        "Напомним, что обращение к элементу матрицы осуществляется указанием в квадратных скобках после имени матрицы номера строки и номера столбца через запятую,\n",
        "\n",
        "например, $А[2, 3]$.\n",
        "\n",
        "Если нужно выделить элементы строки, стоящие в столбцах с 3 до 5 (не включая 5!), то вместо номера столбца указываем диапазон (срез) 3:5,\n",
        "двоеточие обозначает, что берутся и все промежуточные индексы.\n",
        "\n",
        "**!!!ВАЖНО!!!**\n",
        "\n",
        "В диапазонах не учитывается последнее значение,\n",
        "так срез 3:5 не включает элемент с номером 5!"
      ]
    },
    {
      "cell_type": "code",
      "metadata": {
        "id": "tKtuG-KSzvA_",
        "colab": {
          "base_uri": "https://localhost:8080/"
        },
        "outputId": "86895564-2183-4540-a5c2-8a4a877eac5b"
      },
      "source": [
        "Qmatr = np.array([[i * j for i in range(1, 9)] for j in range(2, 8)])\n",
        "Qmatr"
      ],
      "execution_count": null,
      "outputs": [
        {
          "output_type": "execute_result",
          "data": {
            "text/plain": [
              "array([[ 2,  4,  6,  8, 10, 12, 14, 16],\n",
              "       [ 3,  6,  9, 12, 15, 18, 21, 24],\n",
              "       [ 4,  8, 12, 16, 20, 24, 28, 32],\n",
              "       [ 5, 10, 15, 20, 25, 30, 35, 40],\n",
              "       [ 6, 12, 18, 24, 30, 36, 42, 48],\n",
              "       [ 7, 14, 21, 28, 35, 42, 49, 56]])"
            ]
          },
          "metadata": {},
          "execution_count": 12
        }
      ]
    },
    {
      "cell_type": "markdown",
      "metadata": {
        "id": "0q09ySJIzvA_"
      },
      "source": [
        "Выделим столбец с номером 1 в матрице Qmatr"
      ]
    },
    {
      "cell_type": "code",
      "metadata": {
        "id": "zfXvXrgCzvA_",
        "colab": {
          "base_uri": "https://localhost:8080/"
        },
        "outputId": "e28e4b27-48e6-4b3c-d855-8302c4dc4cd4"
      },
      "source": [
        "Qmatr[:, 1]"
      ],
      "execution_count": null,
      "outputs": [
        {
          "output_type": "execute_result",
          "data": {
            "text/plain": [
              "array([ 4,  6,  8, 10, 12, 14])"
            ]
          },
          "metadata": {},
          "execution_count": 13
        }
      ]
    },
    {
      "cell_type": "markdown",
      "metadata": {
        "id": "U_Yf3QnMzvA_"
      },
      "source": [
        "Выделим строку с номером 0 в матрице Qmatr"
      ]
    },
    {
      "cell_type": "code",
      "metadata": {
        "id": "KEDYWMAxzvBA",
        "colab": {
          "base_uri": "https://localhost:8080/"
        },
        "outputId": "bce06f58-55df-40f1-fe0d-0af0d48ee7c6"
      },
      "source": [
        "Qmatr[0, :]"
      ],
      "execution_count": null,
      "outputs": [
        {
          "output_type": "execute_result",
          "data": {
            "text/plain": [
              "array([ 2,  4,  6,  8, 10, 12, 14, 16])"
            ]
          },
          "metadata": {},
          "execution_count": 14
        }
      ]
    },
    {
      "cell_type": "markdown",
      "metadata": {
        "id": "OKmhh0dAzvBA"
      },
      "source": [
        "Допишем снизу к матрице Qmatr ее строку номер 1"
      ]
    },
    {
      "cell_type": "code",
      "metadata": {
        "id": "HjvqxA11zvBA",
        "colab": {
          "base_uri": "https://localhost:8080/"
        },
        "outputId": "fb60bcdc-f50c-49be-f7b6-d404453270ce"
      },
      "source": [
        "np.row_stack((Qmatr, Qmatr[1, :]))"
      ],
      "execution_count": null,
      "outputs": [
        {
          "output_type": "execute_result",
          "data": {
            "text/plain": [
              "array([[ 2,  4,  6,  8, 10, 12, 14, 16],\n",
              "       [ 3,  6,  9, 12, 15, 18, 21, 24],\n",
              "       [ 4,  8, 12, 16, 20, 24, 28, 32],\n",
              "       [ 5, 10, 15, 20, 25, 30, 35, 40],\n",
              "       [ 6, 12, 18, 24, 30, 36, 42, 48],\n",
              "       [ 7, 14, 21, 28, 35, 42, 49, 56],\n",
              "       [ 3,  6,  9, 12, 15, 18, 21, 24]])"
            ]
          },
          "metadata": {},
          "execution_count": 15
        }
      ]
    },
    {
      "cell_type": "markdown",
      "metadata": {
        "id": "cnlh9ELSzvBA"
      },
      "source": [
        "Допишем справа к матрице $A$ ее столбец номер 0"
      ]
    },
    {
      "cell_type": "code",
      "metadata": {
        "id": "da_RdZS7zvBA",
        "colab": {
          "base_uri": "https://localhost:8080/"
        },
        "outputId": "a7fcbdc3-ccab-47b0-e37a-075ae758f66d"
      },
      "source": [
        "np.column_stack((Qmatr, Qmatr[:, 0]))"
      ],
      "execution_count": null,
      "outputs": [
        {
          "output_type": "execute_result",
          "data": {
            "text/plain": [
              "array([[ 2,  4,  6,  8, 10, 12, 14, 16,  2],\n",
              "       [ 3,  6,  9, 12, 15, 18, 21, 24,  3],\n",
              "       [ 4,  8, 12, 16, 20, 24, 28, 32,  4],\n",
              "       [ 5, 10, 15, 20, 25, 30, 35, 40,  5],\n",
              "       [ 6, 12, 18, 24, 30, 36, 42, 48,  6],\n",
              "       [ 7, 14, 21, 28, 35, 42, 49, 56,  7]])"
            ]
          },
          "metadata": {},
          "execution_count": 16
        }
      ]
    },
    {
      "cell_type": "markdown",
      "source": [
        "**Заметим, что np.row_stack и np.column_stack возвращают результат, не меняя саму матрицу.**"
      ],
      "metadata": {
        "id": "uYjUFqQk2mxs"
      }
    },
    {
      "cell_type": "markdown",
      "metadata": {
        "id": "ZmctpRsxzvBD"
      },
      "source": [
        "### Транспонирование\n",
        "Транспонируем Qmatr с помощью transpose()."
      ]
    },
    {
      "cell_type": "code",
      "metadata": {
        "id": "IHRiq2GizvBD",
        "colab": {
          "base_uri": "https://localhost:8080/"
        },
        "outputId": "1fa0a7c9-1a9f-4ddc-fef9-6142dc8327e8"
      },
      "source": [
        "np.transpose(Qmatr)"
      ],
      "execution_count": null,
      "outputs": [
        {
          "output_type": "execute_result",
          "data": {
            "text/plain": [
              "array([[ 2,  3,  4,  5,  6,  7],\n",
              "       [ 4,  6,  8, 10, 12, 14],\n",
              "       [ 6,  9, 12, 15, 18, 21],\n",
              "       [ 8, 12, 16, 20, 24, 28],\n",
              "       [10, 15, 20, 25, 30, 35],\n",
              "       [12, 18, 24, 30, 36, 42],\n",
              "       [14, 21, 28, 35, 42, 49],\n",
              "       [16, 24, 32, 40, 48, 56]])"
            ]
          },
          "metadata": {},
          "execution_count": 17
        }
      ]
    },
    {
      "cell_type": "code",
      "source": [
        "Qmatr.T"
      ],
      "metadata": {
        "colab": {
          "base_uri": "https://localhost:8080/"
        },
        "id": "3vmsJh8gJyHo",
        "outputId": "f94ce571-baf3-4de8-9f36-4b8107464a3a"
      },
      "execution_count": null,
      "outputs": [
        {
          "output_type": "execute_result",
          "data": {
            "text/plain": [
              "array([[ 2,  3,  4,  5,  6,  7],\n",
              "       [ 4,  6,  8, 10, 12, 14],\n",
              "       [ 6,  9, 12, 15, 18, 21],\n",
              "       [ 8, 12, 16, 20, 24, 28],\n",
              "       [10, 15, 20, 25, 30, 35],\n",
              "       [12, 18, 24, 30, 36, 42],\n",
              "       [14, 21, 28, 35, 42, 49],\n",
              "       [16, 24, 32, 40, 48, 56]])"
            ]
          },
          "metadata": {},
          "execution_count": 18
        }
      ]
    },
    {
      "cell_type": "markdown",
      "source": [
        "## Работа с файлами.\n",
        "\n",
        "### Чтение из файла с pandas\n",
        "Данные, представленные в виде таблицы обычно хранятся в файле .xlsx или .csv.\n",
        "Работать с данными, записанными в файлы такого типа, будем с помощью пакета pandas,\n",
        "в нем нам понадобится функция\n",
        "**pandas.read_excel**\n",
        "\n",
        "pandas.read_excel(io, sheet_name=0, header=0, names=None, index_col=None, usecols=None, squeeze=False, dtype=None, engine=None, converters=None, true_values=None, false_values=None, skiprows=None, nrows=None, na_values=None, keep_default_na=True, na_filter=True, verbose=False, parse_dates=False, date_parser=None, thousands=None, comment=None, skipfooter=0, convert_float=True, mangle_dupe_cols=True, storage_options=None)\n",
        "\n",
        "Подробности смотрите здесь:\n",
        "\n",
        "https://pandas.pydata.org/pandas-docs/stable/reference/api/pandas.read_excel.html\n",
        "\n",
        "\n",
        "## Пример 1\n",
        "Считать из файла 'SLAE_1.xlsx' матрицу левой части и столбец правой части и вывести их на экран."
      ],
      "metadata": {
        "id": "zMlVkQVxQ_Kx"
      }
    },
    {
      "cell_type": "code",
      "source": [
        "from google.colab import files\n",
        "import pandas as pd\n",
        "uploaded = files.upload()\n",
        "for file_name in uploaded.keys():\n",
        "    print(f'Загружен файл {file_name}')\n",
        "\n",
        "Adf = pd.read_excel(file_name, sheet_name='A', header=None)\n",
        "bdf = pd.read_excel(file_name, sheet_name='b', header=None)\n",
        "print(Adf, bdf, sep='\\n')"
      ],
      "metadata": {
        "colab": {
          "base_uri": "https://localhost:8080/",
          "height": 386
        },
        "id": "te06313WRSSW",
        "outputId": "74700260-9db0-4516-eded-9fe0899f5a63"
      },
      "execution_count": null,
      "outputs": [
        {
          "output_type": "display_data",
          "data": {
            "text/plain": [
              "<IPython.core.display.HTML object>"
            ],
            "text/html": [
              "\n",
              "     <input type=\"file\" id=\"files-65476604-85ac-4345-bdfc-04d5567ae51a\" name=\"files[]\" multiple disabled\n",
              "        style=\"border:none\" />\n",
              "     <output id=\"result-65476604-85ac-4345-bdfc-04d5567ae51a\">\n",
              "      Upload widget is only available when the cell has been executed in the\n",
              "      current browser session. Please rerun this cell to enable.\n",
              "      </output>\n",
              "      <script>// Copyright 2017 Google LLC\n",
              "//\n",
              "// Licensed under the Apache License, Version 2.0 (the \"License\");\n",
              "// you may not use this file except in compliance with the License.\n",
              "// You may obtain a copy of the License at\n",
              "//\n",
              "//      http://www.apache.org/licenses/LICENSE-2.0\n",
              "//\n",
              "// Unless required by applicable law or agreed to in writing, software\n",
              "// distributed under the License is distributed on an \"AS IS\" BASIS,\n",
              "// WITHOUT WARRANTIES OR CONDITIONS OF ANY KIND, either express or implied.\n",
              "// See the License for the specific language governing permissions and\n",
              "// limitations under the License.\n",
              "\n",
              "/**\n",
              " * @fileoverview Helpers for google.colab Python module.\n",
              " */\n",
              "(function(scope) {\n",
              "function span(text, styleAttributes = {}) {\n",
              "  const element = document.createElement('span');\n",
              "  element.textContent = text;\n",
              "  for (const key of Object.keys(styleAttributes)) {\n",
              "    element.style[key] = styleAttributes[key];\n",
              "  }\n",
              "  return element;\n",
              "}\n",
              "\n",
              "// Max number of bytes which will be uploaded at a time.\n",
              "const MAX_PAYLOAD_SIZE = 100 * 1024;\n",
              "\n",
              "function _uploadFiles(inputId, outputId) {\n",
              "  const steps = uploadFilesStep(inputId, outputId);\n",
              "  const outputElement = document.getElementById(outputId);\n",
              "  // Cache steps on the outputElement to make it available for the next call\n",
              "  // to uploadFilesContinue from Python.\n",
              "  outputElement.steps = steps;\n",
              "\n",
              "  return _uploadFilesContinue(outputId);\n",
              "}\n",
              "\n",
              "// This is roughly an async generator (not supported in the browser yet),\n",
              "// where there are multiple asynchronous steps and the Python side is going\n",
              "// to poll for completion of each step.\n",
              "// This uses a Promise to block the python side on completion of each step,\n",
              "// then passes the result of the previous step as the input to the next step.\n",
              "function _uploadFilesContinue(outputId) {\n",
              "  const outputElement = document.getElementById(outputId);\n",
              "  const steps = outputElement.steps;\n",
              "\n",
              "  const next = steps.next(outputElement.lastPromiseValue);\n",
              "  return Promise.resolve(next.value.promise).then((value) => {\n",
              "    // Cache the last promise value to make it available to the next\n",
              "    // step of the generator.\n",
              "    outputElement.lastPromiseValue = value;\n",
              "    return next.value.response;\n",
              "  });\n",
              "}\n",
              "\n",
              "/**\n",
              " * Generator function which is called between each async step of the upload\n",
              " * process.\n",
              " * @param {string} inputId Element ID of the input file picker element.\n",
              " * @param {string} outputId Element ID of the output display.\n",
              " * @return {!Iterable<!Object>} Iterable of next steps.\n",
              " */\n",
              "function* uploadFilesStep(inputId, outputId) {\n",
              "  const inputElement = document.getElementById(inputId);\n",
              "  inputElement.disabled = false;\n",
              "\n",
              "  const outputElement = document.getElementById(outputId);\n",
              "  outputElement.innerHTML = '';\n",
              "\n",
              "  const pickedPromise = new Promise((resolve) => {\n",
              "    inputElement.addEventListener('change', (e) => {\n",
              "      resolve(e.target.files);\n",
              "    });\n",
              "  });\n",
              "\n",
              "  const cancel = document.createElement('button');\n",
              "  inputElement.parentElement.appendChild(cancel);\n",
              "  cancel.textContent = 'Cancel upload';\n",
              "  const cancelPromise = new Promise((resolve) => {\n",
              "    cancel.onclick = () => {\n",
              "      resolve(null);\n",
              "    };\n",
              "  });\n",
              "\n",
              "  // Wait for the user to pick the files.\n",
              "  const files = yield {\n",
              "    promise: Promise.race([pickedPromise, cancelPromise]),\n",
              "    response: {\n",
              "      action: 'starting',\n",
              "    }\n",
              "  };\n",
              "\n",
              "  cancel.remove();\n",
              "\n",
              "  // Disable the input element since further picks are not allowed.\n",
              "  inputElement.disabled = true;\n",
              "\n",
              "  if (!files) {\n",
              "    return {\n",
              "      response: {\n",
              "        action: 'complete',\n",
              "      }\n",
              "    };\n",
              "  }\n",
              "\n",
              "  for (const file of files) {\n",
              "    const li = document.createElement('li');\n",
              "    li.append(span(file.name, {fontWeight: 'bold'}));\n",
              "    li.append(span(\n",
              "        `(${file.type || 'n/a'}) - ${file.size} bytes, ` +\n",
              "        `last modified: ${\n",
              "            file.lastModifiedDate ? file.lastModifiedDate.toLocaleDateString() :\n",
              "                                    'n/a'} - `));\n",
              "    const percent = span('0% done');\n",
              "    li.appendChild(percent);\n",
              "\n",
              "    outputElement.appendChild(li);\n",
              "\n",
              "    const fileDataPromise = new Promise((resolve) => {\n",
              "      const reader = new FileReader();\n",
              "      reader.onload = (e) => {\n",
              "        resolve(e.target.result);\n",
              "      };\n",
              "      reader.readAsArrayBuffer(file);\n",
              "    });\n",
              "    // Wait for the data to be ready.\n",
              "    let fileData = yield {\n",
              "      promise: fileDataPromise,\n",
              "      response: {\n",
              "        action: 'continue',\n",
              "      }\n",
              "    };\n",
              "\n",
              "    // Use a chunked sending to avoid message size limits. See b/62115660.\n",
              "    let position = 0;\n",
              "    do {\n",
              "      const length = Math.min(fileData.byteLength - position, MAX_PAYLOAD_SIZE);\n",
              "      const chunk = new Uint8Array(fileData, position, length);\n",
              "      position += length;\n",
              "\n",
              "      const base64 = btoa(String.fromCharCode.apply(null, chunk));\n",
              "      yield {\n",
              "        response: {\n",
              "          action: 'append',\n",
              "          file: file.name,\n",
              "          data: base64,\n",
              "        },\n",
              "      };\n",
              "\n",
              "      let percentDone = fileData.byteLength === 0 ?\n",
              "          100 :\n",
              "          Math.round((position / fileData.byteLength) * 100);\n",
              "      percent.textContent = `${percentDone}% done`;\n",
              "\n",
              "    } while (position < fileData.byteLength);\n",
              "  }\n",
              "\n",
              "  // All done.\n",
              "  yield {\n",
              "    response: {\n",
              "      action: 'complete',\n",
              "    }\n",
              "  };\n",
              "}\n",
              "\n",
              "scope.google = scope.google || {};\n",
              "scope.google.colab = scope.google.colab || {};\n",
              "scope.google.colab._files = {\n",
              "  _uploadFiles,\n",
              "  _uploadFilesContinue,\n",
              "};\n",
              "})(self);\n",
              "</script> "
            ]
          },
          "metadata": {}
        },
        {
          "output_type": "stream",
          "name": "stdout",
          "text": [
            "Saving SLAE_1.xlsx to SLAE_1.xlsx\n",
            "Загружен файл SLAE_1.xlsx\n",
            "          0         1         2         3         4         5         6\n",
            "0  8.795979  4.875230  8.682121  4.009440  9.801702  5.501556  9.179193\n",
            "1  0.531467  9.123859  7.337998  6.744377  7.362919  3.336827  7.619186\n",
            "2  5.836153  7.247817  4.250346  1.218730  5.360885  1.459586  4.592442\n",
            "3  6.239051  5.307652  5.385178  3.816873  5.957605  8.304191  2.498066\n",
            "4  8.989077  4.345635  8.622658  3.015518  2.002419  5.449091  9.567378\n",
            "5  2.617923  3.579155  8.237178  1.368073  2.715105  6.632046  8.133801\n",
            "6  0.794941  6.685788  2.455254  3.599771  6.745256  8.480010  8.396094\n",
            "   0\n",
            "0  1\n",
            "1  2\n",
            "2  3\n",
            "3  4\n",
            "4  5\n",
            "5  6\n",
            "6  7\n"
          ]
        }
      ]
    },
    {
      "cell_type": "markdown",
      "source": [
        "Из файла мы считали матрицу и столбец в виде DataFrame, эта структура данных содержит не только значения элементов матрицы или столбца, но и подписи строк и столбцов (index и columns). Выделим саму матрицу и столбец $b$."
      ],
      "metadata": {
        "id": "cKNryJvgS9F-"
      }
    },
    {
      "cell_type": "code",
      "source": [
        "print(Adf.values, bdf.values, sep='\\n')"
      ],
      "metadata": {
        "colab": {
          "base_uri": "https://localhost:8080/"
        },
        "id": "ZsTZ3P3iTiVX",
        "outputId": "2797e838-d522-4136-c8f3-c4575fe1cb7f"
      },
      "execution_count": null,
      "outputs": [
        {
          "output_type": "stream",
          "name": "stdout",
          "text": [
            "[[8.79597859 4.87523014 8.68212102 4.00944011 9.80170238 5.50155636\n",
            "  9.17919335]\n",
            " [0.53146707 9.12385915 7.3379975  6.74437741 7.36291863 3.33682738\n",
            "  7.61918564]\n",
            " [5.83615303 7.24781653 4.25034626 1.21873004 5.36088531 1.45958594\n",
            "  4.59244238]\n",
            " [6.23905113 5.30765176 5.38517778 3.81687313 5.95760469 8.30419121\n",
            "  2.49806603]\n",
            " [8.98907706 4.34563516 8.62265764 3.01551823 2.00241919 5.44909105\n",
            "  9.5673775 ]\n",
            " [2.61792349 3.57915529 8.23717844 1.36807276 2.71510512 6.63204596\n",
            "  8.13380055]\n",
            " [0.79494132 6.68578792 2.45525413 3.59977052 6.74525583 8.48001003\n",
            "  8.39609404]]\n",
            "[[1]\n",
            " [2]\n",
            " [3]\n",
            " [4]\n",
            " [5]\n",
            " [6]\n",
            " [7]]\n"
          ]
        }
      ]
    },
    {
      "cell_type": "markdown",
      "source": [
        "Однако вместо атрибута .values рекомендуется использовать метод .to_numpy() (см.\n",
        "https://pandas.pydata.org/pandas-docs/stable/reference/api/pandas.DataFrame.to_numpy.html#pandas.DataFrame.to_numpy)\n",
        "\n",
        "Решим СЛАУ $AX=b$ и выведем полученное решение на экран"
      ],
      "metadata": {
        "id": "F34hEUNTTyqh"
      }
    },
    {
      "cell_type": "code",
      "source": [
        "A = Adf.to_numpy()\n",
        "b = bdf.to_numpy()\n",
        "X = linalg.solve(A, b)\n",
        "print(X.T)"
      ],
      "metadata": {
        "colab": {
          "base_uri": "https://localhost:8080/"
        },
        "id": "YuL3dtqPUsZX",
        "outputId": "bfcfbe81-a0cb-4a35-c63e-e6aa23ef3b77"
      },
      "execution_count": null,
      "outputs": [
        {
          "output_type": "stream",
          "name": "stdout",
          "text": [
            "[[-0.05350057  0.6703254  -0.12066784 -0.60628151 -0.47324972  0.71094818\n",
            "   0.26237958]]\n"
          ]
        }
      ]
    },
    {
      "cell_type": "markdown",
      "source": [
        "## Запись в файл\n",
        "Для записи в файл используется метод to_excel класса DataFrame из pandas.\n",
        "```\n",
        "df.to_excel(file_name)\n",
        "```\n",
        "Здесь df это DataFrame из pandas, этот объект нам нужно создать на основе наших данных, указав при необходимости надписи строк и столбцов. Матрица $A$ и столбец $b$ у нас есть в виде DataFrame, это считанные из файла Adf и bdf. Нам надо получить DataFrame из $X$.\n"
      ],
      "metadata": {
        "id": "3qeYPS09SpnO"
      }
    },
    {
      "cell_type": "code",
      "source": [
        "Xdf = pd.DataFrame(X)"
      ],
      "metadata": {
        "id": "5oUM59_9Wr60"
      },
      "execution_count": null,
      "outputs": []
    },
    {
      "cell_type": "markdown",
      "source": [
        "Запишем полученное решение в формеDataFrame в файл  'SLAE_2_1.xlsx' на лист $X$."
      ],
      "metadata": {
        "id": "2ZmVrUBaVmDZ"
      }
    },
    {
      "cell_type": "code",
      "source": [
        "with pd.ExcelWriter(file_name, mode='a') as writer:\n",
        "    Xdf.to_excel(writer, sheet_name='X', header=False, index=False)"
      ],
      "metadata": {
        "id": "yscxvqbRXNqi"
      },
      "execution_count": null,
      "outputs": []
    },
    {
      "cell_type": "markdown",
      "source": [
        "Скачать полученный файл можно так:"
      ],
      "metadata": {
        "id": "X90igdVZYFp1"
      }
    },
    {
      "cell_type": "code",
      "source": [
        "files.download(file_name)"
      ],
      "metadata": {
        "colab": {
          "base_uri": "https://localhost:8080/",
          "height": 17
        },
        "id": "VLjndxBzYKD_",
        "outputId": "a530550e-00e4-43c1-c718-6bb94f660556"
      },
      "execution_count": null,
      "outputs": [
        {
          "output_type": "display_data",
          "data": {
            "text/plain": [
              "<IPython.core.display.Javascript object>"
            ],
            "application/javascript": [
              "\n",
              "    async function download(id, filename, size) {\n",
              "      if (!google.colab.kernel.accessAllowed) {\n",
              "        return;\n",
              "      }\n",
              "      const div = document.createElement('div');\n",
              "      const label = document.createElement('label');\n",
              "      label.textContent = `Downloading \"${filename}\": `;\n",
              "      div.appendChild(label);\n",
              "      const progress = document.createElement('progress');\n",
              "      progress.max = size;\n",
              "      div.appendChild(progress);\n",
              "      document.body.appendChild(div);\n",
              "\n",
              "      const buffers = [];\n",
              "      let downloaded = 0;\n",
              "\n",
              "      const channel = await google.colab.kernel.comms.open(id);\n",
              "      // Send a message to notify the kernel that we're ready.\n",
              "      channel.send({})\n",
              "\n",
              "      for await (const message of channel.messages) {\n",
              "        // Send a message to notify the kernel that we're ready.\n",
              "        channel.send({})\n",
              "        if (message.buffers) {\n",
              "          for (const buffer of message.buffers) {\n",
              "            buffers.push(buffer);\n",
              "            downloaded += buffer.byteLength;\n",
              "            progress.value = downloaded;\n",
              "          }\n",
              "        }\n",
              "      }\n",
              "      const blob = new Blob(buffers, {type: 'application/binary'});\n",
              "      const a = document.createElement('a');\n",
              "      a.href = window.URL.createObjectURL(blob);\n",
              "      a.download = filename;\n",
              "      div.appendChild(a);\n",
              "      a.click();\n",
              "      div.remove();\n",
              "    }\n",
              "  "
            ]
          },
          "metadata": {}
        },
        {
          "output_type": "display_data",
          "data": {
            "text/plain": [
              "<IPython.core.display.Javascript object>"
            ],
            "application/javascript": [
              "download(\"download_0f7fe245-611c-45f9-9b95-d29bb01ce520\", \"SLAE_1.xlsx\", 7637)"
            ]
          },
          "metadata": {}
        }
      ]
    }
  ]
}