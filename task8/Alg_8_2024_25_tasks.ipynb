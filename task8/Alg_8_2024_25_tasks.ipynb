{
  "nbformat": 4,
  "nbformat_minor": 0,
  "metadata": {
    "kernelspec": {
      "display_name": "Python 3",
      "language": "python",
      "name": "python3"
    },
    "language_info": {
      "codemirror_mode": {
        "name": "ipython",
        "version": 3
      },
      "file_extension": ".py",
      "mimetype": "text/x-python",
      "name": "python",
      "nbconvert_exporter": "python",
      "pygments_lexer": "ipython3",
      "version": "3.7.3"
    },
    "colab": {
      "provenance": []
    }
  },
  "cells": [
    {
      "cell_type": "markdown",
      "metadata": {
        "id": "KqMzidc80GGB"
      },
      "source": [
        "# Практическое занятие 8\n",
        "# Компьютерный практикум по алгебре на Python\n",
        "## Численное решение систем линейных алгебраических уравнений (СЛАУ) с numpy."
      ]
    },
    {
      "cell_type": "markdown",
      "metadata": {
        "id": "675Fb5ND0GGK"
      },
      "source": [
        "https://numpy.org/doc/stable/reference/routines.linalg.html"
      ]
    },
    {
      "cell_type": "code",
      "metadata": {
        "id": "TNk5d0Si0GGK"
      },
      "source": [
        "import numpy as np\n",
        "from numpy import linalg\n",
        "from google.colab import files\n",
        "import pandas as pd"
      ],
      "execution_count": null,
      "outputs": []
    },
    {
      "cell_type": "markdown",
      "metadata": {
        "id": "dMGJ1uQC0GGM"
      },
      "source": [
        "### Задание 1.\n",
        "Решить СЛАУ с помощью linalg.solve() и выполнить проверку подстановкой.\n",
        "$$\n",
        "\\left\\{\n",
        "\\begin{matrix}\n",
        "-x+4y+3z=18\\\\\n",
        "5x-y+4z=81\\\\\n",
        "-3x+5y+5z=21\n",
        "\\end{matrix}\n",
        "\\right.\n",
        "$$"
      ]
    },
    {
      "cell_type": "code",
      "source": [
        "A = np.array([[-1, 4, 3],\n",
        "              [5, -1, 4],\n",
        "              [-3, 5, 5]])\n",
        "b = np.array([18,81,21])\n",
        "X = linalg.solve(A,b)\n",
        "display(X)\n",
        "display(A @ X == b)\n",
        "display(np.allclose(A @ X, b))"
      ],
      "metadata": {
        "colab": {
          "base_uri": "https://localhost:8080/",
          "height": 69
        },
        "id": "vevXUra7nAsi",
        "outputId": "4bef69ea-4b77-437f-bf13-190a41d0e47c"
      },
      "execution_count": null,
      "outputs": [
        {
          "output_type": "display_data",
          "data": {
            "text/plain": [
              "array([ 8., -1., 10.])"
            ]
          },
          "metadata": {}
        },
        {
          "output_type": "display_data",
          "data": {
            "text/plain": [
              "array([False,  True, False])"
            ]
          },
          "metadata": {}
        },
        {
          "output_type": "display_data",
          "data": {
            "text/plain": [
              "True"
            ]
          },
          "metadata": {}
        }
      ]
    },
    {
      "cell_type": "markdown",
      "source": [
        "### Задание 2.\n",
        "Определить с помощью Теоремы Кронекера-Капелли и linalg.matrix_rank, совместны ли СЛАУ\n",
        "$$\n",
        "a)\\ \\left\\{\n",
        "\\begin{matrix}\n",
        "-x + 4y + 3z = 18\\\\\n",
        "5x - y + 4z = 81\\\\\n",
        "8x - 13y - 5z = 2\n",
        "\\end{matrix}\n",
        "\\right.\n",
        "b)\\ \\left\\{\n",
        "\\begin{matrix}\n",
        "-x + 4y + 3z = 18\\\\\n",
        "5x - y + 4z = 81\\\\\n",
        "8x - 13y - 5z = 27\n",
        "\\end{matrix}\n",
        "\\right.\n",
        "c)\\ \\left\\{\n",
        "\\begin{matrix}\n",
        "-x + 4y + 3z = 18\\\\\n",
        "5x - y + 4z = 81\\\\\n",
        "8x - 13y - z = 27\n",
        "\\end{matrix}\n",
        "\\right.\n",
        "$$\n",
        "\n",
        "Сделать вывод о числе решений каждой СЛАУ (текстом)"
      ],
      "metadata": {
        "id": "E6-UJMGKB8Ej"
      }
    },
    {
      "cell_type": "code",
      "source": [
        "a1 = np.array((\n",
        "      (-1, 4, 3),\n",
        "      (5, -1, 4),\n",
        "      (8, -13, -5),\n",
        "  ))\n",
        "b1 = np.array([18, 81, 2])\n",
        "ab1 = np.column_stack((a1, b1))\n",
        "display(f\"Ранг rk(А) = {linalg.matrix_rank(a1)}\")\n",
        "display(f\"Ранг rk(Аb) = {linalg.matrix_rank(ab1)}\")\n",
        "if linalg.matrix_rank(a1) == linalg.matrix_rank(ab1):\n",
        "    display('СЛАУ совместна')\n",
        "    display('Матрица имеет ' +'1 решение' if a1.shape[1] == linalg.matrix_rank(a1) else 'бесконечно много решений')\n",
        "else:\n",
        "  display('СЛАУ несовместна')\n",
        "print()\n",
        "a2 = np.array((\n",
        "      (-1, 4, 3),\n",
        "      (5, -1, 4),\n",
        "      (8, -13, -5),\n",
        "  ))\n",
        "b2 = np.array([18, 81, 27])\n",
        "ab2 = np.column_stack((a2, b2))\n",
        "display(f\"Ранг rk(А) = {linalg.matrix_rank(a2)}\")\n",
        "display(f\"Ранг rk(Аb) = {linalg.matrix_rank(ab2)}\")\n",
        "if linalg.matrix_rank(a2) == linalg.matrix_rank(ab2):\n",
        "    display('СЛАУ совместна')\n",
        "    display('Матрица имеет ' +'1 решение' if a2.shape[1] == linalg.matrix_rank(a2) else 'бесконечно много решений')\n",
        "else:\n",
        "  display('СЛАУ несовместна')\n",
        "print()\n",
        "\n",
        "a3 = np.array((\n",
        "      (-1, 4, 3),\n",
        "      (5, -1, 4),\n",
        "      (8, -13, -1),\n",
        "  ))\n",
        "b3 = np.array([18, 81, 27])\n",
        "ab3 = np.column_stack((a3, b3))\n",
        "display(f\"Ранг rk(А) = {linalg.matrix_rank(a3)}\")\n",
        "display(f\"Ранг rk(Аb) = {linalg.matrix_rank(ab3)}\")\n",
        "if linalg.matrix_rank(a3) == linalg.matrix_rank(ab3):\n",
        "    display('СЛАУ совместна')\n",
        "    display('Матрица имеет ' +'1 решение' if a3.shape[1] == linalg.matrix_rank(a3) else 'бесконечно много решений')\n",
        "else:\n",
        "  display('СЛАУ несовместна')"
      ],
      "metadata": {
        "colab": {
          "base_uri": "https://localhost:8080/",
          "height": 256
        },
        "id": "LpYMEaakp2pJ",
        "outputId": "ea4408c3-37ba-418a-b34e-afd6bebc54d4"
      },
      "execution_count": null,
      "outputs": [
        {
          "output_type": "display_data",
          "data": {
            "text/plain": [
              "'Ранг rk(А) = 2'"
            ],
            "application/vnd.google.colaboratory.intrinsic+json": {
              "type": "string"
            }
          },
          "metadata": {}
        },
        {
          "output_type": "display_data",
          "data": {
            "text/plain": [
              "'Ранг rk(Аb) = 3'"
            ],
            "application/vnd.google.colaboratory.intrinsic+json": {
              "type": "string"
            }
          },
          "metadata": {}
        },
        {
          "output_type": "display_data",
          "data": {
            "text/plain": [
              "'СЛАУ несовместна'"
            ],
            "application/vnd.google.colaboratory.intrinsic+json": {
              "type": "string"
            }
          },
          "metadata": {}
        },
        {
          "output_type": "stream",
          "name": "stdout",
          "text": [
            "\n"
          ]
        },
        {
          "output_type": "display_data",
          "data": {
            "text/plain": [
              "'Ранг rk(А) = 2'"
            ],
            "application/vnd.google.colaboratory.intrinsic+json": {
              "type": "string"
            }
          },
          "metadata": {}
        },
        {
          "output_type": "display_data",
          "data": {
            "text/plain": [
              "'Ранг rk(Аb) = 2'"
            ],
            "application/vnd.google.colaboratory.intrinsic+json": {
              "type": "string"
            }
          },
          "metadata": {}
        },
        {
          "output_type": "display_data",
          "data": {
            "text/plain": [
              "'СЛАУ совместна'"
            ],
            "application/vnd.google.colaboratory.intrinsic+json": {
              "type": "string"
            }
          },
          "metadata": {}
        },
        {
          "output_type": "display_data",
          "data": {
            "text/plain": [
              "'бесконечно много решений'"
            ],
            "application/vnd.google.colaboratory.intrinsic+json": {
              "type": "string"
            }
          },
          "metadata": {}
        },
        {
          "output_type": "stream",
          "name": "stdout",
          "text": [
            "\n"
          ]
        },
        {
          "output_type": "display_data",
          "data": {
            "text/plain": [
              "'Ранг rk(А) = 3'"
            ],
            "application/vnd.google.colaboratory.intrinsic+json": {
              "type": "string"
            }
          },
          "metadata": {}
        },
        {
          "output_type": "display_data",
          "data": {
            "text/plain": [
              "'Ранг rk(Аb) = 3'"
            ],
            "application/vnd.google.colaboratory.intrinsic+json": {
              "type": "string"
            }
          },
          "metadata": {}
        },
        {
          "output_type": "display_data",
          "data": {
            "text/plain": [
              "'СЛАУ совместна'"
            ],
            "application/vnd.google.colaboratory.intrinsic+json": {
              "type": "string"
            }
          },
          "metadata": {}
        },
        {
          "output_type": "display_data",
          "data": {
            "text/plain": [
              "'Матрица имеет 1 решение'"
            ],
            "application/vnd.google.colaboratory.intrinsic+json": {
              "type": "string"
            }
          },
          "metadata": {}
        }
      ]
    },
    {
      "cell_type": "markdown",
      "source": [
        "### Задание 3\n",
        "Описать функцию print_info с обязательным аргументом **$Ab$** - расширенной матрицей СЛАУ и необязательным аргументом  **end** (по умолчанию \"\\n\", его нужно передавать функции print как ее  необязательный аргумент end), выводящую на экран\n",
        "\n",
        "1) матрицу левой части СЛАУ\n",
        "\n",
        "2) столбец правой части СЛАУ\n",
        "\n",
        "3) транспонированную матрицу, полученную в 1)\n",
        "\n",
        "4) расширенную матрицу, полученную из матрицы 3) и столбца 2)\n",
        "\n",
        "5) созданную на основе списочного выражения np.array $3\\times 4$ из расположенных в шахматном порядке чисел $a$ и $-a$, где $a$ - правый нижний элемент матрицы 3).\n",
        "\n",
        "Применить полученную функцию к расширенным матрицам СЛАУ из Задания 2 со значением **end=\"\\\\n\\\\n\"**, а затем  **end** по умолчанию."
      ],
      "metadata": {
        "id": "Jbd5s9FSDK5X"
      }
    },
    {
      "cell_type": "code",
      "source": [
        "def print_info(Ab, end='\\n'):\n",
        "  A = np.array([x[:-1] for x in Ab])\n",
        "  b = np.array([[x[-1]] for x in Ab])\n",
        "  aT = np.transpose(A)\n",
        "  C = np.column_stack((aT,b))\n",
        "  a = aT[-1][-1]\n",
        "  chess_mat = []\n",
        "  for i in range(3):\n",
        "    temp = []\n",
        "    for j in range(4):\n",
        "      temp += [a if (i+j) % 2 == 0 else -a]\n",
        "    chess_mat.append(temp)\n",
        "  chess_mat = np.array(chess_mat)\n",
        "  print(A, end = end)\n",
        "  print(b, end = end)\n",
        "  print(aT, end = end)\n",
        "  print(C, end = end)\n",
        "  print(chess_mat, end = end)\n",
        "\n",
        "print('A)')\n",
        "print_info(ab1,end ='\\n\\n')\n",
        "print('B)')\n",
        "print_info(ab2, end = '\\n\\n')\n",
        "print('C)')\n",
        "print_info(ab3, end = '\\n\\n')\n",
        "\n",
        "\n",
        "print('A)')\n",
        "print_info(ab1)\n",
        "print('B)')\n",
        "print_info(ab2)\n",
        "print('C)')\n",
        "print_info(ab3)"
      ],
      "metadata": {
        "id": "GlxjOUsdqCQN",
        "colab": {
          "base_uri": "https://localhost:8080/"
        },
        "outputId": "7cbf8d0d-42d0-483b-d552-8c93445f4d3f"
      },
      "execution_count": null,
      "outputs": [
        {
          "output_type": "stream",
          "name": "stdout",
          "text": [
            "A)\n",
            "[[ -1   4   3]\n",
            " [  5  -1   4]\n",
            " [  8 -13  -5]]\n",
            "\n",
            "[[18]\n",
            " [81]\n",
            " [ 2]]\n",
            "\n",
            "[[ -1   5   8]\n",
            " [  4  -1 -13]\n",
            " [  3   4  -5]]\n",
            "\n",
            "[[ -1   5   8  18]\n",
            " [  4  -1 -13  81]\n",
            " [  3   4  -5   2]]\n",
            "\n",
            "[[-5  5 -5  5]\n",
            " [ 5 -5  5 -5]\n",
            " [-5  5 -5  5]]\n",
            "\n",
            "B)\n",
            "[[ -1   4   3]\n",
            " [  5  -1   4]\n",
            " [  8 -13  -5]]\n",
            "\n",
            "[[18]\n",
            " [81]\n",
            " [27]]\n",
            "\n",
            "[[ -1   5   8]\n",
            " [  4  -1 -13]\n",
            " [  3   4  -5]]\n",
            "\n",
            "[[ -1   5   8  18]\n",
            " [  4  -1 -13  81]\n",
            " [  3   4  -5  27]]\n",
            "\n",
            "[[-5  5 -5  5]\n",
            " [ 5 -5  5 -5]\n",
            " [-5  5 -5  5]]\n",
            "\n",
            "C)\n",
            "[[ -1   4   3]\n",
            " [  5  -1   4]\n",
            " [  8 -13  -1]]\n",
            "\n",
            "[[18]\n",
            " [81]\n",
            " [27]]\n",
            "\n",
            "[[ -1   5   8]\n",
            " [  4  -1 -13]\n",
            " [  3   4  -1]]\n",
            "\n",
            "[[ -1   5   8  18]\n",
            " [  4  -1 -13  81]\n",
            " [  3   4  -1  27]]\n",
            "\n",
            "[[-1  1 -1  1]\n",
            " [ 1 -1  1 -1]\n",
            " [-1  1 -1  1]]\n",
            "\n",
            "A)\n",
            "[[ -1   4   3]\n",
            " [  5  -1   4]\n",
            " [  8 -13  -5]]\n",
            "[[18]\n",
            " [81]\n",
            " [ 2]]\n",
            "[[ -1   5   8]\n",
            " [  4  -1 -13]\n",
            " [  3   4  -5]]\n",
            "[[ -1   5   8  18]\n",
            " [  4  -1 -13  81]\n",
            " [  3   4  -5   2]]\n",
            "[[-5  5 -5  5]\n",
            " [ 5 -5  5 -5]\n",
            " [-5  5 -5  5]]\n",
            "B)\n",
            "[[ -1   4   3]\n",
            " [  5  -1   4]\n",
            " [  8 -13  -5]]\n",
            "[[18]\n",
            " [81]\n",
            " [27]]\n",
            "[[ -1   5   8]\n",
            " [  4  -1 -13]\n",
            " [  3   4  -5]]\n",
            "[[ -1   5   8  18]\n",
            " [  4  -1 -13  81]\n",
            " [  3   4  -5  27]]\n",
            "[[-5  5 -5  5]\n",
            " [ 5 -5  5 -5]\n",
            " [-5  5 -5  5]]\n",
            "C)\n",
            "[[ -1   4   3]\n",
            " [  5  -1   4]\n",
            " [  8 -13  -1]]\n",
            "[[18]\n",
            " [81]\n",
            " [27]]\n",
            "[[ -1   5   8]\n",
            " [  4  -1 -13]\n",
            " [  3   4  -1]]\n",
            "[[ -1   5   8  18]\n",
            " [  4  -1 -13  81]\n",
            " [  3   4  -1  27]]\n",
            "[[-1  1 -1  1]\n",
            " [ 1 -1  1 -1]\n",
            " [-1  1 -1  1]]\n"
          ]
        }
      ]
    },
    {
      "cell_type": "markdown",
      "source": [
        "### Задание 4.\n",
        "Исследовать на совместность СЛАУ с параметром $a$ при значениях параметра $a=-1$, $a=0$ и $a=1$ и найти решение, если оно единственно и провести проверку подстановкой.\n",
        "$$\n",
        "\\left\\{\n",
        "\\begin{matrix}\n",
        "-x+5y-3z=8a\\\\\n",
        "4x-ay+5z=-a\\\\\n",
        "3x+4y+2z=5a\n",
        "\\end{matrix}\n",
        "\\right.\n",
        "$$\n",
        "**Указание** - описать функцию check_SLAE от аргументов $A$ и $b$ (матрица левой части и столбец правой части), которая возвращает 0 для несовместной СЛАУ, 1 для совместной СЛАУ с единственным решением и 2 в остальных случаях.\n",
        "\n",
        "Затем в цикле по значениям параметра $a$ проверять с помощью check_SLAE совместность и единственность решения СЛАУ и выводить на экран значение параметра и решение СЛАУ, если оно существует и единственно или \"решений нет\" или \"решение не единственно\"."
      ],
      "metadata": {
        "id": "3ezovPlhQWdy"
      }
    },
    {
      "cell_type": "code",
      "source": [
        "def solve(a: int):\n",
        "  a_matrix = np.array((\n",
        "    (-1, 5, -3),\n",
        "    (4, -a, 5),\n",
        "    (3, 4, 2),\n",
        "  ))\n",
        "  b_matrix = np.array([8*a, -a, 5*a])\n",
        "  ab_matrix = np.column_stack((a_matrix, b_matrix))\n",
        "\n",
        "  display('При a равен ' + str(a) + ':')\n",
        "  rk_a = linalg.matrix_rank(a_matrix)\n",
        "  rk_ab = linalg.matrix_rank(ab_matrix)\n",
        "  if rk_a == rk_ab:\n",
        "    display('Матрица имеет решения')\n",
        "    if a_matrix.shape[1] == rk_a:\n",
        "      display('Матрица имеет единственное решение:')\n",
        "      display(linalg.solve(a_matrix, b_matrix))\n",
        "    else:\n",
        "      display('Матрица имеет более 1 решения')\n",
        "  else:\n",
        "    display('Матрица не имеет решений')\n",
        "  print()\n",
        "\n",
        "for a in (-1,0, 1):\n",
        "    solve(a)"
      ],
      "metadata": {
        "colab": {
          "base_uri": "https://localhost:8080/",
          "height": 252
        },
        "id": "oOs7XHN8qjPh",
        "outputId": "fde85b3e-a720-400d-def4-8c59396b120f"
      },
      "execution_count": null,
      "outputs": [
        {
          "output_type": "display_data",
          "data": {
            "text/plain": [
              "'При a равен -1:'"
            ],
            "application/vnd.google.colaboratory.intrinsic+json": {
              "type": "string"
            }
          },
          "metadata": {}
        },
        {
          "output_type": "display_data",
          "data": {
            "text/plain": [
              "'Матрица имеет решения'"
            ],
            "application/vnd.google.colaboratory.intrinsic+json": {
              "type": "string"
            }
          },
          "metadata": {}
        },
        {
          "output_type": "display_data",
          "data": {
            "text/plain": [
              "'Матрица имеет единственное решение:'"
            ],
            "application/vnd.google.colaboratory.intrinsic+json": {
              "type": "string"
            }
          },
          "metadata": {}
        },
        {
          "output_type": "display_data",
          "data": {
            "text/plain": [
              "array([-1.28571429, -1.        ,  1.42857143])"
            ]
          },
          "metadata": {}
        },
        {
          "output_type": "stream",
          "name": "stdout",
          "text": [
            "\n"
          ]
        },
        {
          "output_type": "display_data",
          "data": {
            "text/plain": [
              "'При a равен 0:'"
            ],
            "application/vnd.google.colaboratory.intrinsic+json": {
              "type": "string"
            }
          },
          "metadata": {}
        },
        {
          "output_type": "display_data",
          "data": {
            "text/plain": [
              "'Матрица имеет решения'"
            ],
            "application/vnd.google.colaboratory.intrinsic+json": {
              "type": "string"
            }
          },
          "metadata": {}
        },
        {
          "output_type": "display_data",
          "data": {
            "text/plain": [
              "'Матрица имеет единственное решение:'"
            ],
            "application/vnd.google.colaboratory.intrinsic+json": {
              "type": "string"
            }
          },
          "metadata": {}
        },
        {
          "output_type": "display_data",
          "data": {
            "text/plain": [
              "array([ 0.,  0., -0.])"
            ]
          },
          "metadata": {}
        },
        {
          "output_type": "stream",
          "name": "stdout",
          "text": [
            "\n"
          ]
        },
        {
          "output_type": "display_data",
          "data": {
            "text/plain": [
              "'При a равен 1:'"
            ],
            "application/vnd.google.colaboratory.intrinsic+json": {
              "type": "string"
            }
          },
          "metadata": {}
        },
        {
          "output_type": "display_data",
          "data": {
            "text/plain": [
              "'Матрица не имеет решений'"
            ],
            "application/vnd.google.colaboratory.intrinsic+json": {
              "type": "string"
            }
          },
          "metadata": {}
        },
        {
          "output_type": "stream",
          "name": "stdout",
          "text": [
            "\n"
          ]
        }
      ]
    },
    {
      "cell_type": "markdown",
      "source": [
        "### Задание 5.\n",
        "Считать из файла 'SLAE_5.xlsx' матрицу левой части и столбец правой части с листов 'A5' и 'b5' и вывести их на экран.\n",
        "\n",
        "Решить СЛАУ $AX=b$ и вывести полученное решение на экран.\n",
        "\n",
        "Записать полученное решение в файл  'SLAE_5.xlsx' на лист 'X5'.\n",
        "\n",
        "Скачать полученный файл."
      ],
      "metadata": {
        "id": "AlxPOVRAYm_5"
      }
    },
    {
      "cell_type": "code",
      "source": [
        "file_name = 'SLAE_5.xlsx'\n",
        "\n",
        "Adf = pd.read_excel(file_name, sheet_name='A5', header=None)\n",
        "bdf = pd.read_excel(file_name, sheet_name='b5', header=None)\n",
        "A = np.array(Adf.values)\n",
        "b = np.array(bdf.values)\n",
        "Ab = np.column_stack((A,b))\n",
        "print(A)\n",
        "print(b)\n",
        "X = linalg.solve(A,b)\n",
        "print(X)\n",
        "Xdf = pd.DataFrame(X)\n",
        "\n",
        "with pd.ExcelWriter(file_name, mode='a') as writer:\n",
        "    Xdf.to_excel(writer, sheet_name='X5', header=False, index=False)\n",
        "files.download(file_name)"
      ],
      "metadata": {
        "colab": {
          "base_uri": "https://localhost:8080/",
          "height": 954
        },
        "id": "RCICLzDdE3xF",
        "outputId": "4822e27f-5f98-4950-abc6-5d6329e62b7a"
      },
      "execution_count": null,
      "outputs": [
        {
          "output_type": "stream",
          "name": "stdout",
          "text": [
            "[[ -1   6   9  -1  -3  -8   9   9   1   6  -3   1   6  -3  -2   6   6  -7]\n",
            " [  3   5   0   8   3  -1 -10   9 -10   3  -9  -1   5   9   8  -9  -7   5]\n",
            " [  4   2  -3  -4  -9   3   9   5  -4   8  -4   1 -10   9  -3  -6  -5  -4]\n",
            " [ -7  -9  -5   4   3  -6  -6   7 -10   0   3  -7  -4  -7 -10   8   9   0]\n",
            " [  9  -1   7   9  -8  -2   6   0   3   3  -3  -3  -8  -6  -6  -7   2   0]\n",
            " [ -3   0   3   1  -6 -10  -8  -9  -7   7   6   6   1 -10   6  -7   6   1]\n",
            " [ -1  -6   8  -1   1  -7 -10   7 -10   3   2   6   2   0  -1 -10   6   3]\n",
            " [ -6  -5  -6   5   5  -7   0  -8   3  -2  -7  -2   0   1  -5  -4  -9  -9]\n",
            " [ -8   2  -8   9  -3   5  -5  -6   1   7   8  -3   1   6  -5   6   9  -2]\n",
            " [ -7   7   2  -9   4  -4  -8  -7   4   1  -9   9  -5   5  -6   4   2   0]\n",
            " [ -2  -2   7 -10  -3  -5 -10   8  -6   2  -9   1  -2   2  -3  -6  -5  -4]\n",
            " [  8  -2  -5 -10  -1  -2   8  -5  -1   7  -5   1   1 -10  -4   2   0  -5]\n",
            " [  1   4  -8 -10  -1   2   1   0   3   2   0   1   9  -8  -2  -5   5  -8]\n",
            " [ -3  -2   9   0  -7   3  -3  -6   1  -5  -6   5  -5  -3  -3   6   1   3]\n",
            " [  1  -9   5  -9  -7   8   1  -1   1   3   3 -10   7   9  -3  -2   4  -2]\n",
            " [  5   6   3   6  -9   7   3  -6   4   6  -3   2 -10  -2   8 -10  -6  -8]\n",
            " [ -2   1  -1   9   6   4  -3 -10   8 -10  -7  -4   3 -10  -8  -3  -1 -10]\n",
            " [ -3  -5  -5  -6   6   4  -3   9   5   2  -6   7   3  -1   3   4   7   2]]\n",
            "[[   6]\n",
            " [ -89]\n",
            " [ 114]\n",
            " [-298]\n",
            " [ -13]\n",
            " [ -20]\n",
            " [-124]\n",
            " [-272]\n",
            " [  32]\n",
            " [  39]\n",
            " [-184]\n",
            " [-119]\n",
            " [-128]\n",
            " [ 184]\n",
            " [  65]\n",
            " [ 178]\n",
            " [-199]\n",
            " [ -57]]\n",
            "[[-1.]\n",
            " [ 6.]\n",
            " [ 6.]\n",
            " [-1.]\n",
            " [-7.]\n",
            " [ 8.]\n",
            " [ 9.]\n",
            " [-6.]\n",
            " [-3.]\n",
            " [-6.]\n",
            " [ 1.]\n",
            " [ 6.]\n",
            " [-4.]\n",
            " [ 8.]\n",
            " [ 9.]\n",
            " [ 3.]\n",
            " [ 7.]\n",
            " [ 4.]]\n"
          ]
        },
        {
          "output_type": "display_data",
          "data": {
            "text/plain": [
              "<IPython.core.display.Javascript object>"
            ],
            "application/javascript": [
              "\n",
              "    async function download(id, filename, size) {\n",
              "      if (!google.colab.kernel.accessAllowed) {\n",
              "        return;\n",
              "      }\n",
              "      const div = document.createElement('div');\n",
              "      const label = document.createElement('label');\n",
              "      label.textContent = `Downloading \"${filename}\": `;\n",
              "      div.appendChild(label);\n",
              "      const progress = document.createElement('progress');\n",
              "      progress.max = size;\n",
              "      div.appendChild(progress);\n",
              "      document.body.appendChild(div);\n",
              "\n",
              "      const buffers = [];\n",
              "      let downloaded = 0;\n",
              "\n",
              "      const channel = await google.colab.kernel.comms.open(id);\n",
              "      // Send a message to notify the kernel that we're ready.\n",
              "      channel.send({})\n",
              "\n",
              "      for await (const message of channel.messages) {\n",
              "        // Send a message to notify the kernel that we're ready.\n",
              "        channel.send({})\n",
              "        if (message.buffers) {\n",
              "          for (const buffer of message.buffers) {\n",
              "            buffers.push(buffer);\n",
              "            downloaded += buffer.byteLength;\n",
              "            progress.value = downloaded;\n",
              "          }\n",
              "        }\n",
              "      }\n",
              "      const blob = new Blob(buffers, {type: 'application/binary'});\n",
              "      const a = document.createElement('a');\n",
              "      a.href = window.URL.createObjectURL(blob);\n",
              "      a.download = filename;\n",
              "      div.appendChild(a);\n",
              "      a.click();\n",
              "      div.remove();\n",
              "    }\n",
              "  "
            ]
          },
          "metadata": {}
        },
        {
          "output_type": "display_data",
          "data": {
            "text/plain": [
              "<IPython.core.display.Javascript object>"
            ],
            "application/javascript": [
              "download(\"download_9e1cd706-d86e-4f65-92ac-5eba7f9a8a01\", \"SLAE_5.xlsx\", 7320)"
            ]
          },
          "metadata": {}
        }
      ]
    },
    {
      "cell_type": "markdown",
      "metadata": {
        "id": "PtPxOU3a0GGR"
      },
      "source": [
        "### Индивидуальное задание.\n",
        "Исследовать на совместность СЛАУ с параметром $a$ при заданных значениях параметра $a$ и найти решение, если оно единственно и провести проверку подстановкой.\n",
        "\n",
        "На листы 'A1', 'A2' и т.п. файла 'Name_Ind_8_SLAE.xlsx' записать матрицы при заданных значениях параметра $a$, на листы 'b1', 'b2' и т.п. столбцы правой части СЛАУ, на листы 'X1', 'X2' и т.п. решения СЛАУ (если оно существует!).\n"
      ]
    },
    {
      "cell_type": "code",
      "source": [
        "!pip install xlsxwriter\n",
        "file_name = 'Name_Ind_8_SLAE.xlsx'\n",
        "count = 1\n",
        "writer = pd.ExcelWriter(file_name, engine='xlsxwriter')\n",
        "for a in (-2,2,6):\n",
        "  a_matrix = np.array((\n",
        "      (1, a, 3, 4),\n",
        "      (2, 4, 4, 2),\n",
        "      (1, 3, 2, 4),\n",
        "      (4, 3, 3, 1)\n",
        "  ))\n",
        "  b_column = np.array([4, -4, a, -4])\n",
        "  ab_matrix = np.column_stack((a_matrix, b_column))\n",
        "\n",
        "  print(f\"При a = {a}:\")\n",
        "  rk_a = linalg.matrix_rank(a_matrix)\n",
        "  rk_ab = linalg.matrix_rank(ab_matrix)\n",
        "  print(f\"Ранг rk(A) = {rk_a}.\\tРанг rk(Ab) = {rk_ab}\")\n",
        "  flag = 0\n",
        "\n",
        "  if rk_a != rk_ab:\n",
        "    print(\"СЛАУ несовместна\\n\")\n",
        "  elif a_matrix.shape[1] != rk_a:\n",
        "    print(\"СЛАУ имеет более 1 решения\\n\")\n",
        "  else:\n",
        "    print(\"СЛАУ имеет 1 решение:\")\n",
        "    print(linalg.solve(a_matrix, b_column))\n",
        "    flag = 1\n",
        "  Adf = pd.DataFrame(a_matrix)\n",
        "  bdf = pd.DataFrame(b_column)\n",
        "\n",
        "  Adf.to_excel(writer, sheet_name='A' + str(count), header=False, index=False)\n",
        "  bdf.to_excel(writer, sheet_name='b' + str(count), header=False, index=False)\n",
        "  if flag == 1:\n",
        "    X = linalg.solve(a_matrix, b_column)\n",
        "    Xdf = pd.DataFrame(X)\n",
        "    Xdf.to_excel(writer, sheet_name='X' + str(count), header=False, index=False)\n",
        "  count+=1\n",
        "writer.close()\n",
        "files.download(file_name)"
      ],
      "metadata": {
        "colab": {
          "base_uri": "https://localhost:8080/",
          "height": 243
        },
        "id": "m_k0iVxuIfA0",
        "outputId": "962bd5b5-6e09-4fa6-ef8d-2c1ce8e9856f"
      },
      "execution_count": null,
      "outputs": [
        {
          "output_type": "stream",
          "name": "stdout",
          "text": [
            "Requirement already satisfied: xlsxwriter in /usr/local/lib/python3.11/dist-packages (3.2.0)\n",
            "При a = -2:\n",
            "Ранг rk(A) = 4.\tРанг rk(Ab) = 4\n",
            "СЛАУ имеет 1 решение:\n",
            "[-0.32183908 -1.17241379  0.13793103  0.3908046 ]\n",
            "При a = 2:\n",
            "Ранг rk(A) = 4.\tРанг rk(Ab) = 4\n",
            "СЛАУ имеет 1 решение:\n",
            "[ 0. -2. -0.  2.]\n",
            "При a = 6:\n",
            "Ранг rk(A) = 4.\tРанг rk(Ab) = 4\n",
            "СЛАУ имеет 1 решение:\n",
            "[ 0.12121212  0.18181818 -2.54545455  2.60606061]\n"
          ]
        },
        {
          "output_type": "display_data",
          "data": {
            "text/plain": [
              "<IPython.core.display.Javascript object>"
            ],
            "application/javascript": [
              "\n",
              "    async function download(id, filename, size) {\n",
              "      if (!google.colab.kernel.accessAllowed) {\n",
              "        return;\n",
              "      }\n",
              "      const div = document.createElement('div');\n",
              "      const label = document.createElement('label');\n",
              "      label.textContent = `Downloading \"${filename}\": `;\n",
              "      div.appendChild(label);\n",
              "      const progress = document.createElement('progress');\n",
              "      progress.max = size;\n",
              "      div.appendChild(progress);\n",
              "      document.body.appendChild(div);\n",
              "\n",
              "      const buffers = [];\n",
              "      let downloaded = 0;\n",
              "\n",
              "      const channel = await google.colab.kernel.comms.open(id);\n",
              "      // Send a message to notify the kernel that we're ready.\n",
              "      channel.send({})\n",
              "\n",
              "      for await (const message of channel.messages) {\n",
              "        // Send a message to notify the kernel that we're ready.\n",
              "        channel.send({})\n",
              "        if (message.buffers) {\n",
              "          for (const buffer of message.buffers) {\n",
              "            buffers.push(buffer);\n",
              "            downloaded += buffer.byteLength;\n",
              "            progress.value = downloaded;\n",
              "          }\n",
              "        }\n",
              "      }\n",
              "      const blob = new Blob(buffers, {type: 'application/binary'});\n",
              "      const a = document.createElement('a');\n",
              "      a.href = window.URL.createObjectURL(blob);\n",
              "      a.download = filename;\n",
              "      div.appendChild(a);\n",
              "      a.click();\n",
              "      div.remove();\n",
              "    }\n",
              "  "
            ]
          },
          "metadata": {}
        },
        {
          "output_type": "display_data",
          "data": {
            "text/plain": [
              "<IPython.core.display.Javascript object>"
            ],
            "application/javascript": [
              "download(\"download_9a71eb62-9897-4ffa-8056-8f449caa296c\", \"Name_Ind_8_SLAE.xlsx\", 8999)"
            ]
          },
          "metadata": {}
        }
      ]
    }
  ]
}