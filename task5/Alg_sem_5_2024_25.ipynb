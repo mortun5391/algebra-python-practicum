{
  "nbformat": 4,
  "nbformat_minor": 0,
  "metadata": {
    "kernelspec": {
      "display_name": "Python 3",
      "language": "python",
      "name": "python3"
    },
    "language_info": {
      "codemirror_mode": {
        "name": "ipython",
        "version": 3
      },
      "file_extension": ".py",
      "mimetype": "text/x-python",
      "name": "python",
      "nbconvert_exporter": "python",
      "pygments_lexer": "ipython3",
      "version": "3.7.3"
    },
    "colab": {
      "provenance": []
    }
  },
  "cells": [
    {
      "cell_type": "code",
      "metadata": {
        "id": "Dps1TUmz2qz3"
      },
      "source": [
        "from sympy import linsolve, Matrix, S, Symbol, symbols, linear_eq_to_matrix,\\\n",
        "Eq, zeros, latex\n",
        "from IPython.display import Latex"
      ],
      "execution_count": 1,
      "outputs": []
    },
    {
      "cell_type": "markdown",
      "metadata": {
        "id": "tcl0k_zD2qz7"
      },
      "source": [
        "# Практическое занятие 5\n",
        "# Компьютерный практикум по алгебре на Python\n",
        "## Прямые и плоскости в пространстве. Уравнения прямых и  плоскостей.\n",
        "1. Общее уравнение плоскости:\n",
        "$$\n",
        "Ax+By+Cz+D=0,\n",
        "$$\n",
        "коэффициенты $A$, $B$ и $C$ являются координатами вектора нормали (он по определению перпендикулярен плоскости).\n",
        "\n",
        "2. Пусть $A(x_0,y_0,z_0)$ - фиксированная точка на плоскости $\\alpha$, вектор $\\bar{n}(n_x,n_y,n_z)$ - нормаль к плоскости $\\alpha$, тогда в векторной форме уравнение плоскости $\\alpha$ запишется в виде:\n",
        "$$\n",
        "\\bar{n}\\cdot{\\overline{MA}}=0,\n",
        "$$\n",
        "где $M(x,y,z)$ - произвольная точка на плоскости $\\alpha$, ${\\overline{MA}}$ - вектор в плоскости $\\alpha$, знак $\\cdot$ означает скалярное произведение.\n",
        "\n",
        "3. Пусть $A(x_1,y_1,z_1)$, $B(x_2,y_2,z_2)$ и $C(x_3,y_3,z_3)$ - три точки, определяющие плоскость, тогда уравнение плоскости можно записать в виде:\n",
        "$$\n",
        "\\left|\\begin{matrix}\n",
        "x-x_1&y-y_1&z-z_1\\\\\n",
        "x_2-x_1&y_2-y_1&z_2-z_1\\\\\n",
        "x_3-x_1&y_3-y_1&z_3-z_1\n",
        "\\end{matrix}\\right|=0\n",
        "$$\n",
        "4. Пусть в плоскости лежит точка $A(x_0, y_0, z_0)$ и плоскость параллельна векторам $a_1(x_1, y_1, z_1)$ и  $a_2(x_2, y_2, z_2)$, тогда уравнение плоскости можно записать в виде:\n",
        "$$\n",
        "\\left|\\begin{matrix}\n",
        "x-x_0& y-y_0& z-z_0\\\\\n",
        "x_1& y_1& z_1\\\\\n",
        "x_2& y_2& z_2\n",
        "\\end{matrix}\\right|=0\n",
        "$$\n",
        "### Уравнение прямой в пространстве:\n",
        "Параметрические уравнения прямой:\n",
        "$$\n",
        "\\left\\{\\begin{matrix}\n",
        "x=x_0+ta_1\\\\\n",
        "y=y_0+ta_2\\\\\n",
        "z=z_0+ta_3\n",
        "\\end{matrix}\\right.\n",
        "$$\n",
        "в векторной форме:\n",
        "$$\n",
        "X=A+t\\bar{a}\n",
        "$$\n",
        "$X$ и $A$ - радиус-векторы произвольной точки $X$ и заданной точки $A$, лежащих на прямой с направляющим вектором $\\bar{a}(a_1, a_2, a_3)$.\n",
        "\n",
        "Прямую в пространстве можно задать как линию пересечения двух плоскостей:\n",
        "$$\n",
        "\\left\\{\\begin{matrix}\n",
        "A_1x+B_1y+C_1z+D_1=0\\\\\n",
        "A_2x+B_2y+C_2z+D_2=0\n",
        "\\end{matrix}\\right.\n",
        "$$\n"
      ]
    },
    {
      "cell_type": "markdown",
      "metadata": {
        "id": "cJZAcL_s2q0D"
      },
      "source": [
        "## Пример 1.\n",
        "Пусть плоскость $\\alpha$ задана общим уравнением\n",
        "$$\n",
        "3x+5y-2z+5=0.\n",
        "$$\n",
        "Найти точку на плоскости, через которую проходит прямая, заданная уравнениями:\n",
        "$$\n",
        "\\left\\{\\begin{matrix}\n",
        "x=1+3t\\\\\n",
        "y=-2+2t\\\\\n",
        "z=-t\n",
        "\\end{matrix}\\right.\n",
        "$$\n",
        "Решим СЛАУ:\n",
        "$$\n",
        "\\left\\{\\begin{matrix}\n",
        "3x+5y-2z+5=0\\\\\n",
        "x=1+3t\\\\\n",
        "y=-2+2t\\\\\n",
        "z=-t\n",
        "\\end{matrix}\\right.,\n",
        "$$\n",
        "Введем ее в виде списка уравнений, и решим с помощью linsolve()"
      ]
    },
    {
      "cell_type": "code",
      "metadata": {
        "colab": {
          "base_uri": "https://localhost:8080/",
          "height": 38
        },
        "id": "7xR_kQa72q0E",
        "outputId": "55a37462-5506-4f8e-8881-0036d5ea54d9"
      },
      "source": [
        "x, y, z, t = symbols('x y z t')\n",
        "SLAE = [Eq(3 * x + 5 * y - 2 * z + 5, 0),\n",
        "        Eq(x, 1 + 3 * t),\n",
        "        Eq(y, -2 + 2 * t),\n",
        "        Eq(z, -t)]\n",
        "res = linsolve(SLAE, x, y, z, t)\n",
        "display(Latex(fr'\\text{{ Решение }}{latex(res)}'))"
      ],
      "execution_count": 2,
      "outputs": [
        {
          "output_type": "display_data",
          "data": {
            "text/plain": [
              "<IPython.core.display.Latex object>"
            ],
            "text/latex": "\\text{ Решение }\\left\\{\\left( \\frac{9}{7}, \\  - \\frac{38}{21}, \\  - \\frac{2}{21}, \\  \\frac{2}{21}\\right)\\right\\}"
          },
          "metadata": {}
        }
      ]
    },
    {
      "cell_type": "markdown",
      "metadata": {
        "id": "CVRRo1ek2q0G"
      },
      "source": [
        "Выделим координаты $x,y,z$ точки пересечения:"
      ]
    },
    {
      "cell_type": "code",
      "metadata": {
        "colab": {
          "base_uri": "https://localhost:8080/",
          "height": 38
        },
        "id": "euLeg4JA4Enu",
        "outputId": "d18f3072-5c0f-4cb0-bfb7-bbd2b79914d3"
      },
      "source": [
        "point = Matrix(*res)\n",
        "display(Latex(fr\"\"\"\\text{{ Решение в виде матрицы }}\n",
        "{latex(point[:-1, :].T)}\"\"\"))"
      ],
      "execution_count": 3,
      "outputs": [
        {
          "output_type": "display_data",
          "data": {
            "text/plain": [
              "<IPython.core.display.Latex object>"
            ],
            "text/latex": "\\text{ Решение в виде матрицы }\n\\left[\\begin{matrix}\\frac{9}{7} & - \\frac{38}{21} & - \\frac{2}{21}\\end{matrix}\\right]"
          },
          "metadata": {}
        }
      ]
    },
    {
      "cell_type": "markdown",
      "source": [
        "Проверим выполнение всех условий, подставим полученное решение в левые и правые части уравнений системы, предварительно составим словарь подстановок. Для выделения частей уравнений будем использовать свойства lhs и rhs  в классе Equation."
      ],
      "metadata": {
        "id": "fgICWIugyhVJ"
      }
    },
    {
      "cell_type": "code",
      "source": [
        "var_dict = {var_: val_ for var_, val_ in zip((x, y, z, t), point)}\n",
        "for k, item in enumerate(SLAE):\n",
        "    print(f'{k + 1}) {item.lhs.subs(var_dict)} =  {item.rhs.subs(var_dict)}')"
      ],
      "metadata": {
        "colab": {
          "base_uri": "https://localhost:8080/"
        },
        "id": "JPxhcWu0xivw",
        "outputId": "27805af4-724d-4962-fa36-42a62b62c897"
      },
      "execution_count": 4,
      "outputs": [
        {
          "output_type": "stream",
          "name": "stdout",
          "text": [
            "1) 0 =  0\n",
            "2) 9/7 =  9/7\n",
            "3) -38/21 =  -38/21\n",
            "4) -2/21 =  -2/21\n"
          ]
        }
      ]
    },
    {
      "cell_type": "markdown",
      "metadata": {
        "id": "uNR9jcfy2q0H"
      },
      "source": [
        "## Пример 2.\n",
        "Определить, пересекаются ли прямые в пространстве, если одна из них проходит через точки $A(1, 2, 3)$ и $B(-3, 5, 0)$, а вторая прямая проходит через начало координат перпендикулярно плоскости $5x - 2y + 3z - 1 = 0$.\n",
        "\n",
        "Вначале найдем координаты направляющего вектора для прямой $AB$, для этого составим матрицы (векторы-столбцы) из координат точек  $A$ и $B$, затем вычтем один вектор-столбец из другого:"
      ]
    },
    {
      "cell_type": "code",
      "metadata": {
        "colab": {
          "base_uri": "https://localhost:8080/",
          "height": 38
        },
        "id": "nhlBIl-a2q0I",
        "outputId": "e9432f06-329b-4b49-95c4-6afc18c6948e"
      },
      "source": [
        "A = Matrix([1, 2, 3])\n",
        "B = Matrix([-3, 5, 0])\n",
        "a1 = B - A\n",
        "display(Latex(fr'\\text{{ Направляющий вектор прямой }} AB\\ {latex(a1.T)}'))"
      ],
      "execution_count": 5,
      "outputs": [
        {
          "output_type": "display_data",
          "data": {
            "text/plain": [
              "<IPython.core.display.Latex object>"
            ],
            "text/latex": "\\text{ Направляющий вектор прямой } AB\\ \\left[\\begin{matrix}-4 & 3 & -3\\end{matrix}\\right]"
          },
          "metadata": {}
        }
      ]
    },
    {
      "cell_type": "markdown",
      "metadata": {
        "id": "pYZsHiXx2q0I"
      },
      "source": [
        "Запишем уравнение прямой $AB$ в векторной форме:"
      ]
    },
    {
      "cell_type": "code",
      "metadata": {
        "colab": {
          "base_uri": "https://localhost:8080/",
          "height": 78
        },
        "id": "0vje3T8G2q0J",
        "outputId": "8608e6ab-fa6d-4fd1-c17e-01cf59ce4aac"
      },
      "source": [
        "x, y, z, t1 = symbols('x y z t1')\n",
        "X = Matrix([x, y, z])\n",
        "AB = A + t1 * a1\n",
        "display(Latex(fr\"\"\"\\text{{ Уравнение прямой }} AB\n",
        "\\ {latex(Eq(X, AB, evaluate=False))}\"\"\"))"
      ],
      "execution_count": 6,
      "outputs": [
        {
          "output_type": "display_data",
          "data": {
            "text/plain": [
              "<IPython.core.display.Latex object>"
            ],
            "text/latex": "\\text{ Уравнение прямой } AB\n\\ \\left[\\begin{matrix}x\\\\y\\\\z\\end{matrix}\\right] = \\left[\\begin{matrix}1 - 4 t_{1}\\\\3 t_{1} + 2\\\\3 - 3 t_{1}\\end{matrix}\\right]"
          },
          "metadata": {}
        }
      ]
    },
    {
      "cell_type": "markdown",
      "metadata": {
        "id": "uIMPeM4c6Ehv"
      },
      "source": [
        "Более красивый и привычный вид система будет иметь, если составить отдельные уравнения для каждой координаты."
      ]
    },
    {
      "cell_type": "code",
      "metadata": {
        "colab": {
          "base_uri": "https://localhost:8080/",
          "height": 103
        },
        "id": "i1MYeL-76QfV",
        "outputId": "48e18bae-aa21-41b2-feb7-3b6aaf071d0f"
      },
      "source": [
        "AB_sys = [Eq(X[i], AB[i]) for i in range(len(AB))]\n",
        "display(Latex(fr\"\"\"\\text{{Параметрические уравнения прямой }} AB\n",
        "\\ {latex(AB_sys)}\"\"\"))\n",
        "display(*AB_sys)"
      ],
      "execution_count": 7,
      "outputs": [
        {
          "output_type": "display_data",
          "data": {
            "text/plain": [
              "<IPython.core.display.Latex object>"
            ],
            "text/latex": "\\text{Параметрические уравнения прямой } AB\n\\ \\left[ x = 1 - 4 t_{1}, \\  y = 3 t_{1} + 2, \\  z = 3 - 3 t_{1}\\right]"
          },
          "metadata": {}
        },
        {
          "output_type": "display_data",
          "data": {
            "text/plain": [
              "Eq(x, 1 - 4*t1)"
            ],
            "text/latex": "$\\displaystyle x = 1 - 4 t_{1}$"
          },
          "metadata": {}
        },
        {
          "output_type": "display_data",
          "data": {
            "text/plain": [
              "Eq(y, 3*t1 + 2)"
            ],
            "text/latex": "$\\displaystyle y = 3 t_{1} + 2$"
          },
          "metadata": {}
        },
        {
          "output_type": "display_data",
          "data": {
            "text/plain": [
              "Eq(z, 3 - 3*t1)"
            ],
            "text/latex": "$\\displaystyle z = 3 - 3 t_{1}$"
          },
          "metadata": {}
        }
      ]
    },
    {
      "cell_type": "markdown",
      "source": [
        "Можно преобразовать в формулу в latex отдельные уравнения и вывести их последовательно с дополнительными пояснениями (мы просто пронумеруем уравнения)."
      ],
      "metadata": {
        "id": "5O34XggE9h-k"
      }
    },
    {
      "cell_type": "code",
      "source": [
        "display(Latex(\"\"\"(1)\\ {0},\\ (2)\\ {1},\n",
        "\\ (3)\\ {2}\"\"\".format(*[latex(item) for item in AB_sys])))"
      ],
      "metadata": {
        "colab": {
          "base_uri": "https://localhost:8080/",
          "height": 38
        },
        "id": "t4M8kNY48SkD",
        "outputId": "214bc5a9-ca76-4904-a593-06b13a9171f6"
      },
      "execution_count": 8,
      "outputs": [
        {
          "output_type": "display_data",
          "data": {
            "text/plain": [
              "<IPython.core.display.Latex object>"
            ],
            "text/latex": "(1)\\ x = 1 - 4 t_{1},\\ (2)\\ y = 3 t_{1} + 2,\n\\ (3)\\ z = 3 - 3 t_{1}"
          },
          "metadata": {}
        }
      ]
    },
    {
      "cell_type": "markdown",
      "metadata": {
        "id": "mxDxSWef2q0J"
      },
      "source": [
        "Здесь мы влспользовались методом format класса str. В строке, к которой применяется метод format отмечаются позиции, в которые нужно вставить аргументы format. Позиции для вставок отмечаются положительными целыми числами (номерами аргументов), заключенными к фигурные скобки. Один и тот же аргумент можно вставлять в несколько разных мест строки. Также можно вставлять аргументы в строку не в том порядке, в каком они идут в format, например '(1):\\ {2},\\ (2):\\ {0},\\ (3):\\ {1}'.\n",
        "\n",
        "Составим уравнение второй прямой, она проходит через точку $O(0, 0, 0)$, ее направляющим вектором является\n",
        "вектор нормали к плоскости $5x - 2y + 3z - 1 = 0$, т.е. $(5, -2, 3)$."
      ]
    },
    {
      "cell_type": "code",
      "metadata": {
        "colab": {
          "base_uri": "https://localhost:8080/",
          "height": 78
        },
        "id": "B3HJN_-22q0K",
        "outputId": "86785b95-6416-4fb2-9c89-edcad38b553e"
      },
      "source": [
        "t2 = Symbol('t2')\n",
        "a2 = Matrix([5, -2, 3])\n",
        "OC = t2 * a2\n",
        "OC_sys = [Eq(X[i], OC[i]) for i in range(len(OC))]\n",
        "display(Latex(fr\"\"\"\\text{{Параметрические уравнения второй прямой }}\n",
        "{latex(Eq(X, OC, evaluate=False))}\\text{{ или }}{latex(OC_sys)}\"\"\"))"
      ],
      "execution_count": 9,
      "outputs": [
        {
          "output_type": "display_data",
          "data": {
            "text/plain": [
              "<IPython.core.display.Latex object>"
            ],
            "text/latex": "\\text{Параметрические уравнения второй прямой }\n\\left[\\begin{matrix}x\\\\y\\\\z\\end{matrix}\\right] = \\left[\\begin{matrix}5 t_{2}\\\\- 2 t_{2}\\\\3 t_{2}\\end{matrix}\\right]\\text{ или }\\left[ x = 5 t_{2}, \\  y = - 2 t_{2}, \\  z = 3 t_{2}\\right]"
          },
          "metadata": {}
        }
      ]
    },
    {
      "cell_type": "markdown",
      "metadata": {
        "id": "DdDhm5hg2q0K"
      },
      "source": [
        "Составим СЛАУ из уравнений двух этих прямых"
      ]
    },
    {
      "cell_type": "code",
      "metadata": {
        "colab": {
          "base_uri": "https://localhost:8080/",
          "height": 38
        },
        "id": "aVp3m3Ki2q0K",
        "outputId": "ecc46ab7-0592-49da-b7bc-6f58ba81ba56"
      },
      "source": [
        "SLAE1 = AB_sys + OC_sys\n",
        "display(Latex(fr'\\text{{СЛАУ из уравнений двух прямых }}{latex(SLAE1)}'))"
      ],
      "execution_count": 22,
      "outputs": [
        {
          "output_type": "display_data",
          "data": {
            "text/plain": [
              "<IPython.core.display.Latex object>"
            ],
            "text/latex": "\\text{СЛАУ из уравнений двух прямых }\\left[ x = 4 t_{1} - 1, \\  y = 3 t_{1} + 2, \\  z = t_{1} + 1, \\  x = 5 t_{2}, \\  y = - 2 t_{2}, \\  z = 3 t_{2}\\right]"
          },
          "metadata": {}
        }
      ]
    },
    {
      "cell_type": "code",
      "metadata": {
        "colab": {
          "base_uri": "https://localhost:8080/",
          "height": 37
        },
        "id": "Zudfvr4O2q0L",
        "outputId": "efc9e192-e705-4708-e713-3f507eb6cdf3"
      },
      "source": [
        "display(Latex(fr'\\text{{Решение СЛАУ }}{latex(linsolve(SLAE1, x, y, z, t1, t2))}'))"
      ],
      "execution_count": 23,
      "outputs": [
        {
          "output_type": "display_data",
          "data": {
            "text/plain": [
              "<IPython.core.display.Latex object>"
            ],
            "text/latex": "\\text{Решение СЛАУ }\\emptyset"
          },
          "metadata": {}
        }
      ]
    },
    {
      "cell_type": "markdown",
      "metadata": {
        "id": "hX09bXg32q0L"
      },
      "source": [
        "СЛАУ несовместна, прямые не пересекаются.\n",
        "\n",
        "Можно проверить совместность СЛАУ с помощью теоремы Кронекера-Капелли, для этого\n",
        "приведем СЛАУ к матричному виду с помощью linear_eq_to_matrix"
      ]
    },
    {
      "cell_type": "code",
      "metadata": {
        "id": "2MJvMrgJ2q0L",
        "colab": {
          "base_uri": "https://localhost:8080/",
          "height": 139
        },
        "outputId": "4be9f427-e4cd-45e2-ade8-7fb1169f4bda"
      },
      "source": [
        "A2, b2 = linear_eq_to_matrix(SLAE1, [x, y, z, t1, t2])\n",
        "display(Latex(f'A_2={latex(A2)},\\quad b_2 = {latex(b2)}'))"
      ],
      "execution_count": 12,
      "outputs": [
        {
          "output_type": "display_data",
          "data": {
            "text/plain": [
              "<IPython.core.display.Latex object>"
            ],
            "text/latex": "A_2=\\left[\\begin{matrix}1 & 0 & 0 & 4 & 0\\\\0 & 1 & 0 & -3 & 0\\\\0 & 0 & 1 & 3 & 0\\\\1 & 0 & 0 & 0 & -5\\\\0 & 1 & 0 & 0 & 2\\\\0 & 0 & 1 & 0 & -3\\end{matrix}\\right],\\quad b_2 = \\left[\\begin{matrix}1\\\\2\\\\3\\\\0\\\\0\\\\0\\end{matrix}\\right]"
          },
          "metadata": {}
        }
      ]
    },
    {
      "cell_type": "markdown",
      "metadata": {
        "id": "eMrZOf9_2q0M"
      },
      "source": [
        "Составим расширенную матрицу СЛАУ"
      ]
    },
    {
      "cell_type": "code",
      "metadata": {
        "colab": {
          "base_uri": "https://localhost:8080/",
          "height": 139
        },
        "id": "CQi0p0fs2q0M",
        "outputId": "da588b80-67fe-44ff-bf3f-418e4c7e9197"
      },
      "source": [
        "A2b2 = A2.row_join(b2)\n",
        "display(A2b2)"
      ],
      "execution_count": 13,
      "outputs": [
        {
          "output_type": "display_data",
          "data": {
            "text/plain": [
              "Matrix([\n",
              "[1, 0, 0,  4,  0, 1],\n",
              "[0, 1, 0, -3,  0, 2],\n",
              "[0, 0, 1,  3,  0, 3],\n",
              "[1, 0, 0,  0, -5, 0],\n",
              "[0, 1, 0,  0,  2, 0],\n",
              "[0, 0, 1,  0, -3, 0]])"
            ],
            "text/latex": "$\\displaystyle \\left[\\begin{matrix}1 & 0 & 0 & 4 & 0 & 1\\\\0 & 1 & 0 & -3 & 0 & 2\\\\0 & 0 & 1 & 3 & 0 & 3\\\\1 & 0 & 0 & 0 & -5 & 0\\\\0 & 1 & 0 & 0 & 2 & 0\\\\0 & 0 & 1 & 0 & -3 & 0\\end{matrix}\\right]$"
          },
          "metadata": {}
        }
      ]
    },
    {
      "cell_type": "markdown",
      "metadata": {
        "id": "9t8nOLzD2q0M"
      },
      "source": [
        "Сравним ранги матрицы левой части и расширенной матрицы"
      ]
    },
    {
      "cell_type": "code",
      "metadata": {
        "colab": {
          "base_uri": "https://localhost:8080/"
        },
        "id": "Jq6s5E1X2q0N",
        "outputId": "2949a69d-ff73-41ea-c442-012dc8cd5784"
      },
      "source": [
        "A2.rank() == A2b2.rank()"
      ],
      "execution_count": 14,
      "outputs": [
        {
          "output_type": "execute_result",
          "data": {
            "text/plain": [
              "False"
            ]
          },
          "metadata": {},
          "execution_count": 14
        }
      ]
    },
    {
      "cell_type": "markdown",
      "metadata": {
        "id": "c0SMrKVY2q0N"
      },
      "source": [
        "Вывод: СЛАУ несовместна, следовательно, прямые не пересекаются."
      ]
    },
    {
      "cell_type": "markdown",
      "metadata": {
        "id": "dLFee_8X2q0N"
      },
      "source": [
        "## Пример 3.\n",
        "Найти точку пересечения прямых в пространстве, если одна из них проходит через точки $A(-1,2,1)$ и $B(3,5,2)$, а вторая прямая проходит через точки $C(1, 3, 7)$ и $D(-3, 1/2, 1/2)$.\n",
        "\n",
        "Составим параметрические уравнения $AB$:"
      ]
    },
    {
      "cell_type": "code",
      "metadata": {
        "colab": {
          "base_uri": "https://localhost:8080/",
          "height": 81
        },
        "id": "nVVaELDl2q0O",
        "outputId": "f716f974-7f87-4048-a586-bd7b308eea20"
      },
      "source": [
        "A = Matrix([-1, 2, 1])\n",
        "B = Matrix([3, 5, 2])\n",
        "a1 = B - A\n",
        "AB = A + t1 * a1\n",
        "AB_sys = [Eq(X[i], AB[i]) for i in range(len(AB))]\n",
        "display(*AB_sys)"
      ],
      "execution_count": 15,
      "outputs": [
        {
          "output_type": "display_data",
          "data": {
            "text/plain": [
              "Eq(x, 4*t1 - 1)"
            ],
            "text/latex": "$\\displaystyle x = 4 t_{1} - 1$"
          },
          "metadata": {}
        },
        {
          "output_type": "display_data",
          "data": {
            "text/plain": [
              "Eq(y, 3*t1 + 2)"
            ],
            "text/latex": "$\\displaystyle y = 3 t_{1} + 2$"
          },
          "metadata": {}
        },
        {
          "output_type": "display_data",
          "data": {
            "text/plain": [
              "Eq(z, t1 + 1)"
            ],
            "text/latex": "$\\displaystyle z = t_{1} + 1$"
          },
          "metadata": {}
        }
      ]
    },
    {
      "cell_type": "markdown",
      "metadata": {
        "id": "MLjSgfio7pYW"
      },
      "source": [
        "Составим параметрические уравнения $CD$:"
      ]
    },
    {
      "cell_type": "code",
      "metadata": {
        "colab": {
          "base_uri": "https://localhost:8080/",
          "height": 106
        },
        "id": "Ag8WffH32q0O",
        "outputId": "f297c234-fc41-4d41-dac8-072f22c2864d"
      },
      "source": [
        "C = Matrix([1, 3, 7])\n",
        "D = Matrix([-3, S(1) / 2, S(1) / 2])\n",
        "a2 = D - C\n",
        "CD = C + t2 * a2\n",
        "CD_sys = [Eq(X[i], CD[i]) for i in range(len(CD))]\n",
        "display(*CD_sys)"
      ],
      "execution_count": 16,
      "outputs": [
        {
          "output_type": "display_data",
          "data": {
            "text/plain": [
              "Eq(x, 1 - 4*t2)"
            ],
            "text/latex": "$\\displaystyle x = 1 - 4 t_{2}$"
          },
          "metadata": {}
        },
        {
          "output_type": "display_data",
          "data": {
            "text/plain": [
              "Eq(y, 3 - 5*t2/2)"
            ],
            "text/latex": "$\\displaystyle y = 3 - \\frac{5 t_{2}}{2}$"
          },
          "metadata": {}
        },
        {
          "output_type": "display_data",
          "data": {
            "text/plain": [
              "Eq(z, 7 - 13*t2/2)"
            ],
            "text/latex": "$\\displaystyle z = 7 - \\frac{13 t_{2}}{2}$"
          },
          "metadata": {}
        }
      ]
    },
    {
      "cell_type": "markdown",
      "metadata": {
        "id": "tI3SNiDX7sPU"
      },
      "source": [
        "Составим систему из параметрических уравнений $AB$ и $CD$:"
      ]
    },
    {
      "cell_type": "code",
      "metadata": {
        "colab": {
          "base_uri": "https://localhost:8080/",
          "height": 171
        },
        "id": "kjZc8ICc2q0O",
        "outputId": "db6f8d64-953b-4e87-bf1a-df3c06f85635"
      },
      "source": [
        "SLAE2 = AB_sys + CD_sys\n",
        "display(*SLAE2)"
      ],
      "execution_count": 17,
      "outputs": [
        {
          "output_type": "display_data",
          "data": {
            "text/plain": [
              "Eq(x, 4*t1 - 1)"
            ],
            "text/latex": "$\\displaystyle x = 4 t_{1} - 1$"
          },
          "metadata": {}
        },
        {
          "output_type": "display_data",
          "data": {
            "text/plain": [
              "Eq(y, 3*t1 + 2)"
            ],
            "text/latex": "$\\displaystyle y = 3 t_{1} + 2$"
          },
          "metadata": {}
        },
        {
          "output_type": "display_data",
          "data": {
            "text/plain": [
              "Eq(z, t1 + 1)"
            ],
            "text/latex": "$\\displaystyle z = t_{1} + 1$"
          },
          "metadata": {}
        },
        {
          "output_type": "display_data",
          "data": {
            "text/plain": [
              "Eq(x, 1 - 4*t2)"
            ],
            "text/latex": "$\\displaystyle x = 1 - 4 t_{2}$"
          },
          "metadata": {}
        },
        {
          "output_type": "display_data",
          "data": {
            "text/plain": [
              "Eq(y, 3 - 5*t2/2)"
            ],
            "text/latex": "$\\displaystyle y = 3 - \\frac{5 t_{2}}{2}$"
          },
          "metadata": {}
        },
        {
          "output_type": "display_data",
          "data": {
            "text/plain": [
              "Eq(z, 7 - 13*t2/2)"
            ],
            "text/latex": "$\\displaystyle z = 7 - \\frac{13 t_{2}}{2}$"
          },
          "metadata": {}
        }
      ]
    },
    {
      "cell_type": "markdown",
      "metadata": {
        "id": "LOSat4Ji2q0P"
      },
      "source": [
        "Проверим, совместна ли наша СЛАУ, для этого составим матрицу левой части системы и расширенную матрицу и сравним ранги."
      ]
    },
    {
      "cell_type": "code",
      "metadata": {
        "colab": {
          "base_uri": "https://localhost:8080/"
        },
        "id": "wL4yT4OK2q0P",
        "outputId": "aa48329e-1e52-4557-8fd3-680e85497db6"
      },
      "source": [
        "A3, b3 = linear_eq_to_matrix(SLAE2, [x, y, z, t1, t2])\n",
        "A3b3 = A3.row_join(b3)\n",
        "print(f'Система{\" не\" * (A3.rank() < A3b3.rank())} совместна')"
      ],
      "execution_count": 18,
      "outputs": [
        {
          "output_type": "stream",
          "name": "stdout",
          "text": [
            "Система совместна\n"
          ]
        }
      ]
    },
    {
      "cell_type": "markdown",
      "metadata": {
        "id": "FRV-9BjW2q0Q"
      },
      "source": [
        "Поскольку СЛАУ совместна, можем найти точку пересечения:"
      ]
    },
    {
      "cell_type": "code",
      "metadata": {
        "colab": {
          "base_uri": "https://localhost:8080/",
          "height": 38
        },
        "id": "poLUfLwx2q0Q",
        "outputId": "bcc91a22-ea38-43a9-f048-043027ab5bdc"
      },
      "source": [
        "Set_t1_t2 = linsolve(SLAE2, x, y, z, t1, t2)\n",
        "sol3 = Matrix(*Set_t1_t2)[:3, :]\n",
        "display(Latex(fr'\\text{{Точка пересечения двух прямых }}{latex(sol3.T)}'))"
      ],
      "execution_count": 19,
      "outputs": [
        {
          "output_type": "display_data",
          "data": {
            "text/plain": [
              "<IPython.core.display.Latex object>"
            ],
            "text/latex": "\\text{Точка пересечения двух прямых }\\left[\\begin{matrix}-3 & \\frac{1}{2} & \\frac{1}{2}\\end{matrix}\\right]"
          },
          "metadata": {}
        }
      ]
    },
    {
      "cell_type": "markdown",
      "metadata": {
        "id": "GMp1knZx2q0R"
      },
      "source": [
        "## Пример 4.\n",
        "Найти точку пересечения плоскости $3x + 4y - z + 5 = 0$ с прямой, проходящей через точку $A(-1, 0, 1)$ параллельно вектору $a(3, -2, 0)$.\n",
        "\n",
        "Составим канонические уравнения прямой и уравнение плоскости, обединим все уравнения в одну систему и решим ее с помощью linsolve, затем выделим значения переменных $x$, $y$, $z$."
      ]
    },
    {
      "cell_type": "code",
      "metadata": {
        "colab": {
          "base_uri": "https://localhost:8080/",
          "height": 81
        },
        "id": "iRxjXo4k2q0R",
        "outputId": "0fd3afd9-abe0-41e4-86de-918fee9469d6"
      },
      "source": [
        "x, y, z, t = symbols('x y z t')\n",
        "X = Matrix([x, y, z])\n",
        "A = Matrix([-1, 0, 1])\n",
        "a = Matrix([3, -2, 0])\n",
        "SLAE_AB = [Eq(X[i], A[i] + a[i] * t) for i in range(len(A))]\n",
        "display(Latex(fr'\\text{{СЛАУ}}{latex(SLAE_AB)}'))\n",
        "KMN = Eq(3 * x + 4 * y - z + 5, 0)\n",
        "display(Latex(fr'\\text{{Уравнение плоскости }}KMN\\ {latex(KMN)}'))\n",
        "SLAE_AB.append(KMN)\n",
        "display(Latex(fr\"\"\"\\text{{Точка пересечения }}\n",
        "{latex(Matrix(*linsolve(SLAE_AB, x, y, z, t))[:-1, :].T)}\"\"\"))"
      ],
      "execution_count": 20,
      "outputs": [
        {
          "output_type": "display_data",
          "data": {
            "text/plain": [
              "<IPython.core.display.Latex object>"
            ],
            "text/latex": "\\text{СЛАУ}\\left[ x = 3 t - 1, \\  y = - 2 t, \\  z = 1\\right]"
          },
          "metadata": {}
        },
        {
          "output_type": "display_data",
          "data": {
            "text/plain": [
              "<IPython.core.display.Latex object>"
            ],
            "text/latex": "\\text{Уравнение плоскости }KMN\\ 3 x + 4 y - z + 5 = 0"
          },
          "metadata": {}
        },
        {
          "output_type": "display_data",
          "data": {
            "text/plain": [
              "<IPython.core.display.Latex object>"
            ],
            "text/latex": "\\text{Точка пересечения }\n\\left[\\begin{matrix}-4 & 2 & 1\\end{matrix}\\right]"
          },
          "metadata": {}
        }
      ]
    },
    {
      "cell_type": "markdown",
      "metadata": {
        "id": "tqUuitSw2q0S"
      },
      "source": [
        "## Пример 5.\n",
        "Составить уравнение плоскости, проходящей через начало координат, в которой лежит прямая, заданная уравнениями:\n",
        "$$\n",
        "\\left\\{\\begin{matrix}\n",
        "x = 3 + 2t\\\\\n",
        "y = 2 - 3t\\\\\n",
        "z = 5 + 2t\n",
        "\\end{matrix}\\right.\n",
        "$$\n",
        "\n",
        "Найдем две различные точки на прямой, придавая разные значения параметру $t$, например, 0 и 1. Затем составим уравнение плоскости, проходящей через 3 точки.   "
      ]
    },
    {
      "cell_type": "code",
      "metadata": {
        "colab": {
          "base_uri": "https://localhost:8080/",
          "height": 38
        },
        "id": "OaCaWTkU2q0S",
        "outputId": "2ae19826-4eda-46db-a048-8c76f1211121"
      },
      "source": [
        "O = zeros(3, 1)\n",
        "A = Matrix([3, 2, 5])\n",
        "a = Matrix([2, -3, 2])\n",
        "x, y, z, t = symbols('x y z t')\n",
        "X = Matrix([x, y, z])\n",
        "AB = A + t * a\n",
        "M1 = AB.subs(t, 0)\n",
        "M2 = AB.subs(t, 1)\n",
        "display(Latex(fr\"\"\"\\text{{Уравнение плоскости }}\n",
        "{latex(Eq(Matrix([(P - M1).T for P in (X, M2, O)]).det(), 0))}\"\"\"))"
      ],
      "execution_count": 21,
      "outputs": [
        {
          "output_type": "display_data",
          "data": {
            "text/plain": [
              "<IPython.core.display.Latex object>"
            ],
            "text/latex": "\\text{Уравнение плоскости }\n19 x + 4 y - 13 z = 0"
          },
          "metadata": {}
        }
      ]
    },
    {
      "cell_type": "markdown",
      "source": [
        "## Чтение данных из файла xlsx\n",
        "Считать данные из табличного файла можно с помощью библиотеки pandas, нам понадобится функция\n",
        "### pandas.read_excel\n",
        "pandas.read_excel(io, sheet_name=0, header=0, names=None, index_col=None, usecols=None, squeeze=False, dtype=None, engine=None, converters=None, true_values=None, false_values=None, skiprows=None, nrows=None, na_values=None, keep_default_na=True, na_filter=True, verbose=False, parse_dates=False, date_parser=None, thousands=None, comment=None, skipfooter=0, convert_float=True, mangle_dupe_cols=True, storage_options=None)\n",
        "\n",
        "Подробности смотрите здесь:\n",
        "\n",
        "https://pandas.pydata.org/pandas-docs/stable/reference/api/pandas.read_excel.html\n",
        "\n",
        "\n",
        "## Пример 6\n",
        "Прочитать координаты точек в пространстве из файла 'points.xlsx' и вывести их на экран.\n",
        "\n",
        "Рекомендуется открыть файл и посмотреть на содержимое. Обратите внимание, что в таблице есть названия строк и столбцов, сами эти названия не являются данными.\n",
        "\n",
        "Для загрузки файла в среду colab.research нам понадобится импортировать модуль files и pandas"
      ],
      "metadata": {
        "id": "WLRoqdA5N6Ko"
      }
    },
    {
      "cell_type": "code",
      "source": [
        "from google.colab import files\n",
        "import pandas as pd"
      ],
      "metadata": {
        "id": "_tNHn_RpOr6Q"
      },
      "execution_count": 24,
      "outputs": []
    },
    {
      "cell_type": "markdown",
      "source": [
        "Загружаем файл программно"
      ],
      "metadata": {
        "id": "XmIXOpT1PKCU"
      }
    },
    {
      "cell_type": "code",
      "source": [
        "uploaded = files.upload() # загружаем нужные файлы, обращаться к ним будем по имени"
      ],
      "metadata": {
        "colab": {
          "base_uri": "https://localhost:8080/",
          "height": 73
        },
        "id": "58nrmPzkOwA7",
        "outputId": "2dd3d5f1-882d-4a6d-92e6-872e06d7d7d4"
      },
      "execution_count": 25,
      "outputs": [
        {
          "output_type": "display_data",
          "data": {
            "text/plain": [
              "<IPython.core.display.HTML object>"
            ],
            "text/html": [
              "\n",
              "     <input type=\"file\" id=\"files-fa1e8409-01e0-45ca-b348-642797a7f5ce\" name=\"files[]\" multiple disabled\n",
              "        style=\"border:none\" />\n",
              "     <output id=\"result-fa1e8409-01e0-45ca-b348-642797a7f5ce\">\n",
              "      Upload widget is only available when the cell has been executed in the\n",
              "      current browser session. Please rerun this cell to enable.\n",
              "      </output>\n",
              "      <script>// Copyright 2017 Google LLC\n",
              "//\n",
              "// Licensed under the Apache License, Version 2.0 (the \"License\");\n",
              "// you may not use this file except in compliance with the License.\n",
              "// You may obtain a copy of the License at\n",
              "//\n",
              "//      http://www.apache.org/licenses/LICENSE-2.0\n",
              "//\n",
              "// Unless required by applicable law or agreed to in writing, software\n",
              "// distributed under the License is distributed on an \"AS IS\" BASIS,\n",
              "// WITHOUT WARRANTIES OR CONDITIONS OF ANY KIND, either express or implied.\n",
              "// See the License for the specific language governing permissions and\n",
              "// limitations under the License.\n",
              "\n",
              "/**\n",
              " * @fileoverview Helpers for google.colab Python module.\n",
              " */\n",
              "(function(scope) {\n",
              "function span(text, styleAttributes = {}) {\n",
              "  const element = document.createElement('span');\n",
              "  element.textContent = text;\n",
              "  for (const key of Object.keys(styleAttributes)) {\n",
              "    element.style[key] = styleAttributes[key];\n",
              "  }\n",
              "  return element;\n",
              "}\n",
              "\n",
              "// Max number of bytes which will be uploaded at a time.\n",
              "const MAX_PAYLOAD_SIZE = 100 * 1024;\n",
              "\n",
              "function _uploadFiles(inputId, outputId) {\n",
              "  const steps = uploadFilesStep(inputId, outputId);\n",
              "  const outputElement = document.getElementById(outputId);\n",
              "  // Cache steps on the outputElement to make it available for the next call\n",
              "  // to uploadFilesContinue from Python.\n",
              "  outputElement.steps = steps;\n",
              "\n",
              "  return _uploadFilesContinue(outputId);\n",
              "}\n",
              "\n",
              "// This is roughly an async generator (not supported in the browser yet),\n",
              "// where there are multiple asynchronous steps and the Python side is going\n",
              "// to poll for completion of each step.\n",
              "// This uses a Promise to block the python side on completion of each step,\n",
              "// then passes the result of the previous step as the input to the next step.\n",
              "function _uploadFilesContinue(outputId) {\n",
              "  const outputElement = document.getElementById(outputId);\n",
              "  const steps = outputElement.steps;\n",
              "\n",
              "  const next = steps.next(outputElement.lastPromiseValue);\n",
              "  return Promise.resolve(next.value.promise).then((value) => {\n",
              "    // Cache the last promise value to make it available to the next\n",
              "    // step of the generator.\n",
              "    outputElement.lastPromiseValue = value;\n",
              "    return next.value.response;\n",
              "  });\n",
              "}\n",
              "\n",
              "/**\n",
              " * Generator function which is called between each async step of the upload\n",
              " * process.\n",
              " * @param {string} inputId Element ID of the input file picker element.\n",
              " * @param {string} outputId Element ID of the output display.\n",
              " * @return {!Iterable<!Object>} Iterable of next steps.\n",
              " */\n",
              "function* uploadFilesStep(inputId, outputId) {\n",
              "  const inputElement = document.getElementById(inputId);\n",
              "  inputElement.disabled = false;\n",
              "\n",
              "  const outputElement = document.getElementById(outputId);\n",
              "  outputElement.innerHTML = '';\n",
              "\n",
              "  const pickedPromise = new Promise((resolve) => {\n",
              "    inputElement.addEventListener('change', (e) => {\n",
              "      resolve(e.target.files);\n",
              "    });\n",
              "  });\n",
              "\n",
              "  const cancel = document.createElement('button');\n",
              "  inputElement.parentElement.appendChild(cancel);\n",
              "  cancel.textContent = 'Cancel upload';\n",
              "  const cancelPromise = new Promise((resolve) => {\n",
              "    cancel.onclick = () => {\n",
              "      resolve(null);\n",
              "    };\n",
              "  });\n",
              "\n",
              "  // Wait for the user to pick the files.\n",
              "  const files = yield {\n",
              "    promise: Promise.race([pickedPromise, cancelPromise]),\n",
              "    response: {\n",
              "      action: 'starting',\n",
              "    }\n",
              "  };\n",
              "\n",
              "  cancel.remove();\n",
              "\n",
              "  // Disable the input element since further picks are not allowed.\n",
              "  inputElement.disabled = true;\n",
              "\n",
              "  if (!files) {\n",
              "    return {\n",
              "      response: {\n",
              "        action: 'complete',\n",
              "      }\n",
              "    };\n",
              "  }\n",
              "\n",
              "  for (const file of files) {\n",
              "    const li = document.createElement('li');\n",
              "    li.append(span(file.name, {fontWeight: 'bold'}));\n",
              "    li.append(span(\n",
              "        `(${file.type || 'n/a'}) - ${file.size} bytes, ` +\n",
              "        `last modified: ${\n",
              "            file.lastModifiedDate ? file.lastModifiedDate.toLocaleDateString() :\n",
              "                                    'n/a'} - `));\n",
              "    const percent = span('0% done');\n",
              "    li.appendChild(percent);\n",
              "\n",
              "    outputElement.appendChild(li);\n",
              "\n",
              "    const fileDataPromise = new Promise((resolve) => {\n",
              "      const reader = new FileReader();\n",
              "      reader.onload = (e) => {\n",
              "        resolve(e.target.result);\n",
              "      };\n",
              "      reader.readAsArrayBuffer(file);\n",
              "    });\n",
              "    // Wait for the data to be ready.\n",
              "    let fileData = yield {\n",
              "      promise: fileDataPromise,\n",
              "      response: {\n",
              "        action: 'continue',\n",
              "      }\n",
              "    };\n",
              "\n",
              "    // Use a chunked sending to avoid message size limits. See b/62115660.\n",
              "    let position = 0;\n",
              "    do {\n",
              "      const length = Math.min(fileData.byteLength - position, MAX_PAYLOAD_SIZE);\n",
              "      const chunk = new Uint8Array(fileData, position, length);\n",
              "      position += length;\n",
              "\n",
              "      const base64 = btoa(String.fromCharCode.apply(null, chunk));\n",
              "      yield {\n",
              "        response: {\n",
              "          action: 'append',\n",
              "          file: file.name,\n",
              "          data: base64,\n",
              "        },\n",
              "      };\n",
              "\n",
              "      let percentDone = fileData.byteLength === 0 ?\n",
              "          100 :\n",
              "          Math.round((position / fileData.byteLength) * 100);\n",
              "      percent.textContent = `${percentDone}% done`;\n",
              "\n",
              "    } while (position < fileData.byteLength);\n",
              "  }\n",
              "\n",
              "  // All done.\n",
              "  yield {\n",
              "    response: {\n",
              "      action: 'complete',\n",
              "    }\n",
              "  };\n",
              "}\n",
              "\n",
              "scope.google = scope.google || {};\n",
              "scope.google.colab = scope.google.colab || {};\n",
              "scope.google.colab._files = {\n",
              "  _uploadFiles,\n",
              "  _uploadFilesContinue,\n",
              "};\n",
              "})(self);\n",
              "</script> "
            ]
          },
          "metadata": {}
        },
        {
          "output_type": "stream",
          "name": "stdout",
          "text": [
            "Saving points.xlsx to points.xlsx\n"
          ]
        }
      ]
    },
    {
      "cell_type": "markdown",
      "source": [
        "При запуске кода ячейки в файловой системе выбираем нужный файл, он загружается в виртуальное сессионное хранилище.\n",
        "\n",
        "Считываем данные и выводим их на экран."
      ],
      "metadata": {
        "id": "BpQsTd98PV3A"
      }
    },
    {
      "cell_type": "code",
      "source": [
        "points_table = pd.read_excel('points.xlsx', index_col=0)\n",
        "print(points_table)"
      ],
      "metadata": {
        "colab": {
          "base_uri": "https://localhost:8080/"
        },
        "id": "ofd4oIw5Oy1I",
        "outputId": "76bf16d4-efb8-436d-bd25-35d9af5f50e1"
      },
      "execution_count": 37,
      "outputs": [
        {
          "output_type": "stream",
          "name": "stdout",
          "text": [
            "    x   y   z\n",
            "A  29   7   2\n",
            "B  85  90  58\n",
            "C  39  66  47\n",
            "D  29  37  34\n",
            "E  20   4  37\n",
            "F  53  26  71\n",
            "G  21  53  98\n",
            "H  74  38  98\n",
            "K  59  33  17\n",
            "M  65  93  63\n"
          ]
        }
      ]
    },
    {
      "cell_type": "markdown",
      "source": [
        "Прочитались не только координаты точек, но и названия точек и координат. Выделим все отдельно и запишем в разные переменные."
      ],
      "metadata": {
        "id": "FCv1RYjTQyX6"
      }
    },
    {
      "cell_type": "code",
      "source": [
        "points_coords = points_table.to_numpy()\n",
        "points_names = points_table.index\n",
        "coords_names = points_table.columns\n",
        "print(f'points_names: {points_names}',\n",
        "      f'coords_names: {coords_names}',\n",
        "      f'points_coords:\\n{points_coords}', sep='\\n')"
      ],
      "metadata": {
        "colab": {
          "base_uri": "https://localhost:8080/"
        },
        "id": "27mvyQowQ_G0",
        "outputId": "6fa55dbe-47cd-43ba-bf2f-32bb22800b9a"
      },
      "execution_count": 44,
      "outputs": [
        {
          "output_type": "stream",
          "name": "stdout",
          "text": [
            "points_names: Index(['A', 'B', 'C', 'D', 'E', 'F', 'G', 'H', 'K', 'M'], dtype='object')\n",
            "coords_names: Index(['x', 'y', 'z'], dtype='object')\n",
            "points_coords:\n",
            "[[29  7  2]\n",
            " [85 90 58]\n",
            " [39 66 47]\n",
            " [29 37 34]\n",
            " [20  4 37]\n",
            " [53 26 71]\n",
            " [21 53 98]\n",
            " [74 38 98]\n",
            " [59 33 17]\n",
            " [65 93 63]]\n"
          ]
        }
      ]
    },
    {
      "cell_type": "code",
      "source": [
        "for point_name, coords in zip(points_names, points_coords):\n",
        "    x, y, z = coords\n",
        "    print(f'{point_name}({x}, {y}, {z})')"
      ],
      "metadata": {
        "colab": {
          "base_uri": "https://localhost:8080/"
        },
        "id": "8pnxYa-URfiE",
        "outputId": "f0072c9a-c929-4af3-e94a-2886b6a7634c"
      },
      "execution_count": 41,
      "outputs": [
        {
          "output_type": "stream",
          "name": "stdout",
          "text": [
            "A(29, 7, 2)\n",
            "B(85, 90, 58)\n",
            "C(39, 66, 47)\n",
            "D(29, 37, 34)\n",
            "E(20, 4, 37)\n",
            "F(53, 26, 71)\n",
            "G(21, 53, 98)\n",
            "H(74, 38, 98)\n",
            "K(59, 33, 17)\n",
            "M(65, 93, 63)\n"
          ]
        }
      ]
    }
  ]
}