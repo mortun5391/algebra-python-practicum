{
  "nbformat": 4,
  "nbformat_minor": 0,
  "metadata": {
    "kernelspec": {
      "display_name": "Python 3",
      "language": "python",
      "name": "python3"
    },
    "language_info": {
      "codemirror_mode": {
        "name": "ipython",
        "version": 3
      },
      "file_extension": ".py",
      "mimetype": "text/x-python",
      "name": "python",
      "nbconvert_exporter": "python",
      "pygments_lexer": "ipython3",
      "version": "3.7.3"
    },
    "colab": {
      "provenance": []
    }
  },
  "cells": [
    {
      "cell_type": "code",
      "metadata": {
        "id": "89leUlBEO3kD"
      },
      "source": [
        "from sympy import linsolve, Matrix, S, Symbol, symbols, linear_eq_to_matrix,\\\n",
        "Eq, zeros, latex, simplify\n",
        "from IPython.display import Latex"
      ],
      "execution_count": null,
      "outputs": []
    },
    {
      "cell_type": "markdown",
      "metadata": {
        "id": "PVEyzdFgO3kJ"
      },
      "source": [
        "# Занятие 5\n",
        "# Алгебра\n",
        "\n",
        "##  Прямые и плоскости в пространстве. Уравнения прямых и  плоскостей.\n",
        "### Задание 1.\n",
        "Определить, пересекаются ли плоскости (все сразу). Если пересекаются, найти точку пересечения.\n",
        "\n",
        "Составить СЛАУ в виде списка уравнений, решить с помощью linsolve.\n",
        "\n",
        "$-8x+5y-2z+28=0$\n",
        "\n",
        "$-11x-10y-16z+71=0$\n",
        "\n",
        "$-7x+3y+8z-27=0$."
      ]
    },
    {
      "cell_type": "code",
      "source": [
        "x, y, z = symbols('x y z')\n",
        "slau = [Eq(-8 * x + 5 * y - 2 * z + 28, 0),\n",
        "        Eq(-11 * x - 10*y - 16*z + 71, 0),\n",
        "        Eq(-7*x + 3*y + 8*z - 27, 0)]\n",
        "display(linsolve(slau, x, y, z))"
      ],
      "metadata": {
        "id": "Wkoc3KXxm-YA",
        "colab": {
          "base_uri": "https://localhost:8080/",
          "height": 37
        },
        "outputId": "4ff70eae-1b51-4960-af96-1a89d9e3da7b"
      },
      "execution_count": null,
      "outputs": [
        {
          "output_type": "display_data",
          "data": {
            "text/plain": [
              "{(1, -2, 5)}"
            ],
            "text/latex": "$\\displaystyle \\left\\{\\left( 1, \\  -2, \\  5\\right)\\right\\}$"
          },
          "metadata": {}
        }
      ]
    },
    {
      "cell_type": "markdown",
      "metadata": {
        "id": "ypS69_K9O3kQ"
      },
      "source": [
        "### Задание 2.\n",
        "Найти точку пересечения прямой, проходящей через точки $A(-3,5,1)$ и $B(5,2,-3)$ и плоскости, в которой лежат точки\n",
        "$K(4,3,0)$, $M(2,4,-2)$ и $N(-2,2,-1)$."
      ]
    },
    {
      "cell_type": "code",
      "source": [
        "x, y, z, t = symbols('x y z t')\n",
        "A = Matrix((-3,5,1))\n",
        "B = Matrix((5,2,-3))\n",
        "K = (4, 3, 0)\n",
        "M = (2, 4,-2)\n",
        "N = (-2,2,-1)\n",
        "\n",
        "plane = Matrix([[x - K[0], y - K[1], z - K[2]],\n",
        "               [M[0] - K[0], M[1] - K[1], M[2] - K[2]],\n",
        "               [N[0] - K[0], N[1] - K[1], N[2] - K[2]]])\n",
        "syms = (x,y,z)\n",
        "vect =  B - A\n",
        "\n",
        "line = [Eq(syms[i] , A[i] + t*vect[i]) for i in range(3)]\n",
        "plane_eq = Eq(Matrix.det(plane), 0)\n",
        "for i in line:\n",
        "  display(i)\n",
        "line.append(plane_eq)\n",
        "display(plane_eq)\n",
        "display(linsolve(line, x, y, z, t) )"
      ],
      "metadata": {
        "id": "i8jZ1hzInA6N",
        "colab": {
          "base_uri": "https://localhost:8080/",
          "height": 145
        },
        "outputId": "7d606b77-c632-4e1f-d1ed-b1269519aefb"
      },
      "execution_count": null,
      "outputs": [
        {
          "output_type": "display_data",
          "data": {
            "text/plain": [
              "Eq(x, 8*t - 3)"
            ],
            "text/latex": "$\\displaystyle x = 8 t - 3$"
          },
          "metadata": {}
        },
        {
          "output_type": "display_data",
          "data": {
            "text/plain": [
              "Eq(y, 5 - 3*t)"
            ],
            "text/latex": "$\\displaystyle y = 5 - 3 t$"
          },
          "metadata": {}
        },
        {
          "output_type": "display_data",
          "data": {
            "text/plain": [
              "Eq(z, 1 - 4*t)"
            ],
            "text/latex": "$\\displaystyle z = 1 - 4 t$"
          },
          "metadata": {}
        },
        {
          "output_type": "display_data",
          "data": {
            "text/plain": [
              "Eq(-3*x + 10*y + 8*z - 18, 0)"
            ],
            "text/latex": "$\\displaystyle - 3 x + 10 y + 8 z - 18 = 0$"
          },
          "metadata": {}
        },
        {
          "output_type": "display_data",
          "data": {
            "text/plain": [
              "{(67/43, 283/86, -55/43, 49/86)}"
            ],
            "text/latex": "$\\displaystyle \\left\\{\\left( \\frac{67}{43}, \\  \\frac{283}{86}, \\  - \\frac{55}{43}, \\  \\frac{49}{86}\\right)\\right\\}$"
          },
          "metadata": {}
        }
      ]
    },
    {
      "cell_type": "markdown",
      "metadata": {
        "id": "ok151h_IO3kS"
      },
      "source": [
        "### Задание 3.\n",
        "Составить параметрические уравнения прямой, являющейся линией пересечения плоскостей $𝑦+2𝑧−4=0$ и $4𝑥+3𝑦+2𝑧−4=0$.\n",
        "\n",
        "Указание: составить СЛАУ из уравнений плоскостей, воспользоваться linsolve(), заменить переменную в полученном решении на параметр t и составить СЛАУ из параметрических уравнений."
      ]
    },
    {
      "cell_type": "code",
      "source": [
        "x, y, z, t = symbols(\"x y z t\")\n",
        "symbs = (x, y, z)\n",
        "slae = (\n",
        "        Eq(y + 2*z - 4, 0),\n",
        "        Eq(4*x + 3*y + 2*z - 4, 0),\n",
        "    )\n",
        "line_equation = [eq for eq in linsolve(slae, x, y, z)][0].subs(z, t)\n",
        "line_slae = [Eq(symbs[i], equat, evaluate=False) for i, equat in enumerate(line_equation)]\n",
        "\n",
        "display(*line_slae)"
      ],
      "metadata": {
        "id": "0WCqCtTGnCmv",
        "colab": {
          "base_uri": "https://localhost:8080/",
          "height": 83
        },
        "outputId": "a89e4d64-f8fd-42c7-cb91-b7745e63ff82"
      },
      "execution_count": null,
      "outputs": [
        {
          "output_type": "display_data",
          "data": {
            "text/plain": [
              "Eq(x, t - 2)"
            ],
            "text/latex": "$\\displaystyle x = t - 2$"
          },
          "metadata": {}
        },
        {
          "output_type": "display_data",
          "data": {
            "text/plain": [
              "Eq(y, 4 - 2*t)"
            ],
            "text/latex": "$\\displaystyle y = 4 - 2 t$"
          },
          "metadata": {}
        },
        {
          "output_type": "display_data",
          "data": {
            "text/plain": [
              "Eq(z, t)"
            ],
            "text/latex": "$\\displaystyle z = t$"
          },
          "metadata": {}
        }
      ]
    },
    {
      "cell_type": "markdown",
      "metadata": {
        "id": "kU3zatrMO3ka"
      },
      "source": [
        "###  Задание 4.\n",
        "Прямая задана параметрическими уравнениями:\n",
        "$$\n",
        "\\left\\{\\begin{matrix}\n",
        "x=2+5t\\\\\n",
        "y=-1-2t\\\\\n",
        "z=4-3t\n",
        "\\end{matrix}\\right..\n",
        "$$\n",
        "Представить прямую в виде линии пересечения двух плоскостей, одна из которых проходит через начало координат, а вторая плоскость перпендикулярна первой плоскости. Вывести на экран уравнения плоскостей.\n",
        "\n",
        "Указание: составить параметрические уравнения прямой в виде списка правых частей уравнений, затем по образцу Примера 5 составить уравнение плоскости, проходящей через начало координат (по трем точкам). Для составления второй плоскости заметим, что вектор нормали к первой плоскости и любой вектор прямой параллельны второй плоскости, поэтому можно применить формулу 4 уравнения плоскости.\n",
        "Вектор нормали можно составить вручную, глядя на уравнение первой плоскости."
      ]
    },
    {
      "cell_type": "code",
      "source": [
        "\n",
        "x, y, z, t = symbols(\"x y z t\")\n",
        "\n",
        "symbs = Matrix((x, y, z))\n",
        "ab_vec = Matrix((5, -2, -3))\n",
        "ab_eq = Matrix((2, -1, 4)) + t * ab_vec\n",
        "m1_point = ab_eq.subs(t, 0)\n",
        "m2_point = ab_eq.subs(t, 1)\n",
        "o_point = zeros(3, 1)\n",
        "\n",
        "place_1_eq = Eq(Matrix([(symbs - p).T for p in (m1_point, m2_point, o_point)]).det(), 0)\n",
        "print(\"Equation of first place:\")\n",
        "display(place_1_eq)\n",
        "\n",
        "n_vec = Matrix((11, 26, 1))\n",
        "place_2_eq = Eq(\n",
        "Matrix((\n",
        "            Matrix([(symbs[i] - p_coord) for i, p_coord in enumerate(m1_point)]).T,\n",
        "            n_vec.T,\n",
        "            ab_vec.T\n",
        "        )).det(),\n",
        "        0\n",
        "    )\n",
        "print(\"Equation of the second place:\")\n",
        "display(place_2_eq)\n",
        "print(\"After simplifying:\")\n",
        "display(simplify(place_2_eq))"
      ],
      "metadata": {
        "id": "kCOMh2UlnELD",
        "colab": {
          "base_uri": "https://localhost:8080/",
          "height": 135
        },
        "outputId": "395800ef-fc74-45ac-ea4c-ca14cec40444"
      },
      "execution_count": null,
      "outputs": [
        {
          "output_type": "stream",
          "name": "stdout",
          "text": [
            "Equation of first place:\n"
          ]
        },
        {
          "output_type": "display_data",
          "data": {
            "text/plain": [
              "Eq(11*x + 26*y + z, 0)"
            ],
            "text/latex": "$\\displaystyle 11 x + 26 y + z = 0$"
          },
          "metadata": {}
        },
        {
          "output_type": "stream",
          "name": "stdout",
          "text": [
            "Equation of the second place:\n"
          ]
        },
        {
          "output_type": "display_data",
          "data": {
            "text/plain": [
              "Eq(-76*x + 38*y - 152*z + 798, 0)"
            ],
            "text/latex": "$\\displaystyle - 76 x + 38 y - 152 z + 798 = 0$"
          },
          "metadata": {}
        },
        {
          "output_type": "stream",
          "name": "stdout",
          "text": [
            "After simplifying:\n"
          ]
        },
        {
          "output_type": "display_data",
          "data": {
            "text/plain": [
              "Eq(2*x - y + 4*z, 21)"
            ],
            "text/latex": "$\\displaystyle 2 x - y + 4 z = 21$"
          },
          "metadata": {}
        }
      ]
    },
    {
      "cell_type": "markdown",
      "source": [
        "###  Задание 5*.\n",
        "Считать данные из файла 'points_task_5.xlsx'. Для каждой тройки точек из файла, не лежащих на одной прямой, вывести на экран название плоскости, состоящее из имен точек в алфавитном порядке, и уравнение плоскости, определяемой этой тройкой точек."
      ],
      "metadata": {
        "id": "xClGHBbbStKi"
      }
    },
    {
      "cell_type": "code",
      "source": [
        "from itertools import *\n",
        "from google.colab import files\n",
        "import pandas as pd\n",
        "points_table = pd.read_excel('points_task_5.xlsx', index_col=0)\n",
        "print(points_table)\n",
        "points_coords = list(points_table.to_numpy())\n",
        "points_names = list(points_table.index)\n",
        "coords = points_coords\n",
        "for i in range(len(points_coords)):\n",
        "  coords[i] = list(coords[i])\n",
        "  coords[i] += [points_names[i]]\n",
        "\n",
        "for point in combinations(coords, 3):\n",
        "  p1 = Matrix(point[0][:-1])\n",
        "  p2 = Matrix(point[1][:-1])\n",
        "  p3 = Matrix(point[2][:-1])\n",
        "  syms = symbols('x y z')\n",
        "  t = Symbol('t')\n",
        "  name = ''.join(point[i][-1] for i in range(3))\n",
        "  M = Matrix([[syms[0] - p1[0], syms[1] - p1[1], syms[2] - p1[2]],\n",
        "              [p2[0] - p1[0], p2[1] - p1[1], p2[2] - p1[2]],\n",
        "              [p3[0] - p1[0], p3[1] - p1[1], p3[2] - p1[2]]])\n",
        "  eq = Eq(Matrix.det(M), 0)\n",
        "  vec = p2 - p1\n",
        "  line_eq = [Eq(syms[i], p1[i] + t*vec[i]) for i in range(3)]\n",
        "  if eq != True:\n",
        "    print(name)\n",
        "    display(eq)\n",
        "    print()\n"
      ],
      "metadata": {
        "id": "aYEy3DHPTk1Y",
        "colab": {
          "base_uri": "https://localhost:8080/",
          "height": 1000
        },
        "outputId": "b69ea38f-5c32-4508-c891-5cc09713e366"
      },
      "execution_count": null,
      "outputs": [
        {
          "output_type": "stream",
          "name": "stdout",
          "text": [
            "      x     y     z\n",
            "A  29.0   7.0   2.0\n",
            "B  85.0  90.0  58.0\n",
            "C  39.0  66.0  47.0\n",
            "D  29.0  37.0  34.0\n",
            "E  -2.0   3.0   5.0\n",
            "F   4.0  -2.0   1.5\n",
            "G   6.0  -1.0   1.0\n",
            "H  74.0  38.0  98.0\n",
            "K  59.0  33.0  17.0\n",
            "M  66.5  35.5  57.5\n",
            "ABC\n"
          ]
        },
        {
          "output_type": "display_data",
          "data": {
            "text/plain": [
              "Eq(431.0*x - 1960.0*y + 2474.0*z - 3727.0, 0)"
            ],
            "text/latex": "$\\displaystyle 431.0 x - 1960.0 y + 2474.0 z - 3727.0 = 0$"
          },
          "metadata": {}
        },
        {
          "output_type": "stream",
          "name": "stdout",
          "text": [
            "\n",
            "ABD\n"
          ]
        },
        {
          "output_type": "display_data",
          "data": {
            "text/plain": [
              "Eq(976.0*x - 1792.0*y + 1680.0*z - 19120.0, 0)"
            ],
            "text/latex": "$\\displaystyle 976.0 x - 1792.0 y + 1680.0 z - 19120.0 = 0$"
          },
          "metadata": {}
        },
        {
          "output_type": "stream",
          "name": "stdout",
          "text": [
            "\n",
            "ABE\n"
          ]
        },
        {
          "output_type": "display_data",
          "data": {
            "text/plain": [
              "Eq(473.0*x - 1904.0*y + 2349.0*z - 5087.0, 0)"
            ],
            "text/latex": "$\\displaystyle 473.0 x - 1904.0 y + 2349.0 z - 5087.0 = 0$"
          },
          "metadata": {}
        },
        {
          "output_type": "stream",
          "name": "stdout",
          "text": [
            "\n",
            "ABF\n"
          ]
        },
        {
          "output_type": "display_data",
          "data": {
            "text/plain": [
              "Eq(462.5*x - 1372.0*y + 1571.0*z - 6950.5, 0)"
            ],
            "text/latex": "$\\displaystyle 462.5 x - 1372.0 y + 1571.0 z - 6950.5 = 0$"
          },
          "metadata": {}
        },
        {
          "output_type": "stream",
          "name": "stdout",
          "text": [
            "\n",
            "ABG\n"
          ]
        },
        {
          "output_type": "display_data",
          "data": {
            "text/plain": [
              "Eq(365.0*x - 1232.0*y + 1461.0*z - 4883.0, 0)"
            ],
            "text/latex": "$\\displaystyle 365.0 x - 1232.0 y + 1461.0 z - 4883.0 = 0$"
          },
          "metadata": {}
        },
        {
          "output_type": "stream",
          "name": "stdout",
          "text": [
            "\n",
            "ABH\n"
          ]
        },
        {
          "output_type": "display_data",
          "data": {
            "text/plain": [
              "Eq(6232.0*x - 2856.0*y - 1999.0*z - 156738.0, 0)"
            ],
            "text/latex": "$\\displaystyle 6232.0 x - 2856.0 y - 1999.0 z - 156738.0 = 0$"
          },
          "metadata": {}
        },
        {
          "output_type": "stream",
          "name": "stdout",
          "text": [
            "\n",
            "ABK\n"
          ]
        },
        {
          "output_type": "display_data",
          "data": {
            "text/plain": [
              "Eq(-211.0*x + 840.0*y - 1034.0*z + 2307.0, 0)"
            ],
            "text/latex": "$\\displaystyle - 211.0 x + 840.0 y - 1034.0 z + 2307.0 = 0$"
          },
          "metadata": {}
        },
        {
          "output_type": "stream",
          "name": "stdout",
          "text": [
            "\n",
            "ABM\n"
          ]
        },
        {
          "output_type": "display_data",
          "data": {
            "text/plain": [
              "Eq(3010.5*x - 1008.0*y - 1516.5*z - 77215.5, 0)"
            ],
            "text/latex": "$\\displaystyle 3010.5 x - 1008.0 y - 1516.5 z - 77215.5 = 0$"
          },
          "metadata": {}
        },
        {
          "output_type": "stream",
          "name": "stdout",
          "text": [
            "\n",
            "ACD\n"
          ]
        },
        {
          "output_type": "display_data",
          "data": {
            "text/plain": [
              "Eq(538.0*x - 320.0*y + 300.0*z - 13962.0, 0)"
            ],
            "text/latex": "$\\displaystyle 538.0 x - 320.0 y + 300.0 z - 13962.0 = 0$"
          },
          "metadata": {}
        },
        {
          "output_type": "stream",
          "name": "stdout",
          "text": [
            "\n",
            "ACE\n"
          ]
        },
        {
          "output_type": "display_data",
          "data": {
            "text/plain": [
              "Eq(357.0*x - 1425.0*y + 1789.0*z - 3956.0, 0)"
            ],
            "text/latex": "$\\displaystyle 357.0 x - 1425.0 y + 1789.0 z - 3956.0 = 0$"
          },
          "metadata": {}
        },
        {
          "output_type": "stream",
          "name": "stdout",
          "text": [
            "\n",
            "ACF\n"
          ]
        },
        {
          "output_type": "display_data",
          "data": {
            "text/plain": [
              "Eq(375.5*x - 1120.0*y + 1385.0*z - 5819.5, 0)"
            ],
            "text/latex": "$\\displaystyle 375.5 x - 1120.0 y + 1385.0 z - 5819.5 = 0$"
          },
          "metadata": {}
        },
        {
          "output_type": "stream",
          "name": "stdout",
          "text": [
            "\n",
            "ACG\n"
          ]
        },
        {
          "output_type": "display_data",
          "data": {
            "text/plain": [
              "Eq(301.0*x - 1025.0*y + 1277.0*z - 4108.0, 0)"
            ],
            "text/latex": "$\\displaystyle 301.0 x - 1025.0 y + 1277.0 z - 4108.0 = 0$"
          },
          "metadata": {}
        },
        {
          "output_type": "stream",
          "name": "stdout",
          "text": [
            "\n",
            "ACH\n"
          ]
        },
        {
          "output_type": "display_data",
          "data": {
            "text/plain": [
              "Eq(4269.0*x + 1065.0*y - 2345.0*z - 126566.0, 0)"
            ],
            "text/latex": "$\\displaystyle 4269.0 x + 1065.0 y - 2345.0 z - 126566.0 = 0$"
          },
          "metadata": {}
        },
        {
          "output_type": "stream",
          "name": "stdout",
          "text": [
            "\n",
            "ACK\n"
          ]
        },
        {
          "output_type": "display_data",
          "data": {
            "text/plain": [
              "Eq(-285.0*x + 1200.0*y - 1510.0*z + 2885.0, 0)"
            ],
            "text/latex": "$\\displaystyle - 285.0 x + 1200.0 y - 1510.0 z + 2885.0 = 0$"
          },
          "metadata": {}
        },
        {
          "output_type": "stream",
          "name": "stdout",
          "text": [
            "\n",
            "ACM\n"
          ]
        },
        {
          "output_type": "display_data",
          "data": {
            "text/plain": [
              "Eq(1992.0*x + 1132.5*y - 1927.5*z - 61840.5, 0)"
            ],
            "text/latex": "$\\displaystyle 1992.0 x + 1132.5 y - 1927.5 z - 61840.5 = 0$"
          },
          "metadata": {}
        },
        {
          "output_type": "stream",
          "name": "stdout",
          "text": [
            "\n",
            "ADE\n"
          ]
        },
        {
          "output_type": "display_data",
          "data": {
            "text/plain": [
              "Eq(218.0*x - 992.0*y + 930.0*z - 1238.0, 0)"
            ],
            "text/latex": "$\\displaystyle 218.0 x - 992.0 y + 930.0 z - 1238.0 = 0$"
          },
          "metadata": {}
        },
        {
          "output_type": "stream",
          "name": "stdout",
          "text": [
            "\n",
            "ADF\n"
          ]
        },
        {
          "output_type": "display_data",
          "data": {
            "text/plain": [
              "Eq(273.0*x - 800.0*y + 750.0*z - 3817.0, 0)"
            ],
            "text/latex": "$\\displaystyle 273.0 x - 800.0 y + 750.0 z - 3817.0 = 0$"
          },
          "metadata": {}
        },
        {
          "output_type": "stream",
          "name": "stdout",
          "text": [
            "\n",
            "ADG\n"
          ]
        },
        {
          "output_type": "display_data",
          "data": {
            "text/plain": [
              "Eq(226.0*x - 736.0*y + 690.0*z - 2782.0, 0)"
            ],
            "text/latex": "$\\displaystyle 226.0 x - 736.0 y + 690.0 z - 2782.0 = 0$"
          },
          "metadata": {}
        },
        {
          "output_type": "stream",
          "name": "stdout",
          "text": [
            "\n",
            "ADH\n"
          ]
        },
        {
          "output_type": "display_data",
          "data": {
            "text/plain": [
              "Eq(1888.0*x + 1440.0*y - 1350.0*z - 62132.0, 0)"
            ],
            "text/latex": "$\\displaystyle 1888.0 x + 1440.0 y - 1350.0 z - 62132.0 = 0$"
          },
          "metadata": {}
        },
        {
          "output_type": "stream",
          "name": "stdout",
          "text": [
            "\n",
            "ADK\n"
          ]
        },
        {
          "output_type": "display_data",
          "data": {
            "text/plain": [
              "Eq(-382.0*x + 960.0*y - 900.0*z + 6158.0, 0)"
            ],
            "text/latex": "$\\displaystyle - 382.0 x + 960.0 y - 900.0 z + 6158.0 = 0$"
          },
          "metadata": {}
        },
        {
          "output_type": "stream",
          "name": "stdout",
          "text": [
            "\n",
            "ADM\n"
          ]
        },
        {
          "output_type": "display_data",
          "data": {
            "text/plain": [
              "Eq(753.0*x + 1200.0*y - 1125.0*z - 27987.0, 0)"
            ],
            "text/latex": "$\\displaystyle 753.0 x + 1200.0 y - 1125.0 z - 27987.0 = 0$"
          },
          "metadata": {}
        },
        {
          "output_type": "stream",
          "name": "stdout",
          "text": [
            "\n",
            "AEF\n"
          ]
        },
        {
          "output_type": "display_data",
          "data": {
            "text/plain": [
              "Eq(29.0*x - 90.5*y + 179.0*z - 565.5, 0)"
            ],
            "text/latex": "$\\displaystyle 29.0 x - 90.5 y + 179.0 z - 565.5 = 0$"
          },
          "metadata": {}
        },
        {
          "output_type": "stream",
          "name": "stdout",
          "text": [
            "\n",
            "AEG\n"
          ]
        },
        {
          "output_type": "display_data",
          "data": {
            "text/plain": [
              "Eq(28.0*x - 100.0*y + 156.0*z - 424.0, 0)"
            ],
            "text/latex": "$\\displaystyle 28.0 x - 100.0 y + 156.0 z - 424.0 = 0$"
          },
          "metadata": {}
        },
        {
          "output_type": "stream",
          "name": "stdout",
          "text": [
            "\n",
            "AEH\n"
          ]
        },
        {
          "output_type": "display_data",
          "data": {
            "text/plain": [
              "Eq(-477.0*x + 3111.0*y - 781.0*z - 6382.0, 0)"
            ],
            "text/latex": "$\\displaystyle - 477.0 x + 3111.0 y - 781.0 z - 6382.0 = 0$"
          },
          "metadata": {}
        },
        {
          "output_type": "stream",
          "name": "stdout",
          "text": [
            "\n",
            "AEK\n"
          ]
        },
        {
          "output_type": "display_data",
          "data": {
            "text/plain": [
              "Eq(-138.0*x + 555.0*y - 686.0*z + 1489.0, 0)"
            ],
            "text/latex": "$\\displaystyle - 138.0 x + 555.0 y - 686.0 z + 1489.0 = 0$"
          },
          "metadata": {}
        },
        {
          "output_type": "stream",
          "name": "stdout",
          "text": [
            "\n",
            "AEM\n"
          ]
        },
        {
          "output_type": "display_data",
          "data": {
            "text/plain": [
              "Eq(-307.5*x + 1833.0*y - 733.5*z - 2446.5, 0)"
            ],
            "text/latex": "$\\displaystyle - 307.5 x + 1833.0 y - 733.5 z - 2446.5 = 0$"
          },
          "metadata": {}
        },
        {
          "output_type": "stream",
          "name": "stdout",
          "text": [
            "\n",
            "AFG\n"
          ]
        },
        {
          "output_type": "display_data",
          "data": {
            "text/plain": [
              "Eq(5.0*x - 13.5*y - 7.0*z - 36.5, 0)"
            ],
            "text/latex": "$\\displaystyle 5.0 x - 13.5 y - 7.0 z - 36.5 = 0$"
          },
          "metadata": {}
        },
        {
          "output_type": "stream",
          "name": "stdout",
          "text": [
            "\n",
            "AFH\n"
          ]
        },
        {
          "output_type": "display_data",
          "data": {
            "text/plain": [
              "Eq(-848.5*x + 2377.5*y - 370.0*z + 8704.0, 0)"
            ],
            "text/latex": "$\\displaystyle - 848.5 x + 2377.5 y - 370.0 z + 8704.0 = 0$"
          },
          "metadata": {}
        },
        {
          "output_type": "stream",
          "name": "stdout",
          "text": [
            "\n",
            "AFK\n"
          ]
        },
        {
          "output_type": "display_data",
          "data": {
            "text/plain": [
              "Eq(-122.0*x + 360.0*y - 380.0*z + 1778.0, 0)"
            ],
            "text/latex": "$\\displaystyle - 122.0 x + 360.0 y - 380.0 z + 1778.0 = 0$"
          },
          "metadata": {}
        },
        {
          "output_type": "stream",
          "name": "stdout",
          "text": [
            "\n",
            "AFM\n"
          ]
        },
        {
          "output_type": "display_data",
          "data": {
            "text/plain": [
              "Eq(-485.25*x + 1368.75*y - 375.0*z + 5241.0, 0)"
            ],
            "text/latex": "$\\displaystyle - 485.25 x + 1368.75 y - 375.0 z + 5241.0 = 0$"
          },
          "metadata": {}
        },
        {
          "output_type": "stream",
          "name": "stdout",
          "text": [
            "\n",
            "AGH\n"
          ]
        },
        {
          "output_type": "display_data",
          "data": {
            "text/plain": [
              "Eq(-737.0*x + 2163.0*y - 353.0*z + 6938.0, 0)"
            ],
            "text/latex": "$\\displaystyle - 737.0 x + 2163.0 y - 353.0 z + 6938.0 = 0$"
          },
          "metadata": {}
        },
        {
          "output_type": "stream",
          "name": "stdout",
          "text": [
            "\n",
            "AGK\n"
          ]
        },
        {
          "output_type": "display_data",
          "data": {
            "text/plain": [
              "Eq(-94.0*x + 315.0*y - 358.0*z + 1237.0, 0)"
            ],
            "text/latex": "$\\displaystyle - 94.0 x + 315.0 y - 358.0 z + 1237.0 = 0$"
          },
          "metadata": {}
        },
        {
          "output_type": "stream",
          "name": "stdout",
          "text": [
            "\n",
            "AGM\n"
          ]
        },
        {
          "output_type": "display_data",
          "data": {
            "text/plain": [
              "Eq(-415.5*x + 1239.0*y - 355.5*z + 4087.5, 0)"
            ],
            "text/latex": "$\\displaystyle - 415.5 x + 1239.0 y - 355.5 z + 4087.5 = 0$"
          },
          "metadata": {}
        },
        {
          "output_type": "stream",
          "name": "stdout",
          "text": [
            "\n",
            "AHK\n"
          ]
        },
        {
          "output_type": "display_data",
          "data": {
            "text/plain": [
              "Eq(-2031.0*x + 2205.0*y + 240.0*z + 42984.0, 0)"
            ],
            "text/latex": "$\\displaystyle - 2031.0 x + 2205.0 y + 240.0 z + 42984.0 = 0$"
          },
          "metadata": {}
        },
        {
          "output_type": "stream",
          "name": "stdout",
          "text": [
            "\n",
            "AHM\n"
          ]
        },
        {
          "output_type": "display_data",
          "data": {
            "text/plain": [
              "Eq(-1015.5*x + 1102.5*y + 120.0*z + 21492.0, 0)"
            ],
            "text/latex": "$\\displaystyle - 1015.5 x + 1102.5 y + 120.0 z + 21492.0 = 0$"
          },
          "metadata": {}
        },
        {
          "output_type": "stream",
          "name": "stdout",
          "text": [
            "\n",
            "AKM\n"
          ]
        },
        {
          "output_type": "display_data",
          "data": {
            "text/plain": [
              "Eq(1015.5*x - 1102.5*y - 120.0*z - 21492.0, 0)"
            ],
            "text/latex": "$\\displaystyle 1015.5 x - 1102.5 y - 120.0 z - 21492.0 = 0$"
          },
          "metadata": {}
        },
        {
          "output_type": "stream",
          "name": "stdout",
          "text": [
            "\n",
            "BCD\n"
          ]
        },
        {
          "output_type": "display_data",
          "data": {
            "text/plain": [
              "Eq(-7.0*x - 488.0*y + 1094.0*z - 18937.0, 0)"
            ],
            "text/latex": "$\\displaystyle - 7.0 x - 488.0 y + 1094.0 z - 18937.0 = 0$"
          },
          "metadata": {}
        },
        {
          "output_type": "stream",
          "name": "stdout",
          "text": [
            "\n",
            "BCE\n"
          ]
        },
        {
          "output_type": "display_data",
          "data": {
            "text/plain": [
              "Eq(315.0*x - 1481.0*y + 1914.0*z - 4497.0, 0)"
            ],
            "text/latex": "$\\displaystyle 315.0 x - 1481.0 y + 1914.0 z - 4497.0 = 0$"
          },
          "metadata": {}
        },
        {
          "output_type": "stream",
          "name": "stdout",
          "text": [
            "\n",
            "BCF\n"
          ]
        },
        {
          "output_type": "display_data",
          "data": {
            "text/plain": [
              "Eq(344.0*x - 1708.0*y + 2288.0*z - 8224.0, 0)"
            ],
            "text/latex": "$\\displaystyle 344.0 x - 1708.0 y + 2288.0 z - 8224.0 = 0$"
          },
          "metadata": {}
        },
        {
          "output_type": "stream",
          "name": "stdout",
          "text": [
            "\n",
            "BCG\n"
          ]
        },
        {
          "output_type": "display_data",
          "data": {
            "text/plain": [
              "Eq(367.0*x - 1753.0*y + 2290.0*z - 6245.0, 0)"
            ],
            "text/latex": "$\\displaystyle 367.0 x - 1753.0 y + 2290.0 z - 6245.0 = 0$"
          },
          "metadata": {}
        },
        {
          "output_type": "stream",
          "name": "stdout",
          "text": [
            "\n",
            "BCH\n"
          ]
        },
        {
          "output_type": "display_data",
          "data": {
            "text/plain": [
              "Eq(-1532.0*x + 1961.0*y + 2128.0*z - 169694.0, 0)"
            ],
            "text/latex": "$\\displaystyle - 1532.0 x + 1961.0 y + 2128.0 z - 169694.0 = 0$"
          },
          "metadata": {}
        },
        {
          "output_type": "stream",
          "name": "stdout",
          "text": [
            "\n",
            "BCK\n"
          ]
        },
        {
          "output_type": "display_data",
          "data": {
            "text/plain": [
              "Eq(357.0*x - 1600.0*y + 1998.0*z - 2229.0, 0)"
            ],
            "text/latex": "$\\displaystyle 357.0 x - 1600.0 y + 1998.0 z - 2229.0 = 0$"
          },
          "metadata": {}
        },
        {
          "output_type": "stream",
          "name": "stdout",
          "text": [
            "\n",
            "BCM\n"
          ]
        },
        {
          "output_type": "display_data",
          "data": {
            "text/plain": [
              "Eq(-587.5*x + 180.5*y + 2063.0*z - 85961.5, 0)"
            ],
            "text/latex": "$\\displaystyle - 587.5 x + 180.5 y + 2063.0 z - 85961.5 = 0$"
          },
          "metadata": {}
        },
        {
          "output_type": "stream",
          "name": "stdout",
          "text": [
            "\n",
            "BDE\n"
          ]
        },
        {
          "output_type": "display_data",
          "data": {
            "text/plain": [
              "Eq(721.0*x - 880.0*y + 261.0*z + 2777.0, 0)"
            ],
            "text/latex": "$\\displaystyle 721.0 x - 880.0 y + 261.0 z + 2777.0 = 0$"
          },
          "metadata": {}
        },
        {
          "output_type": "stream",
          "name": "stdout",
          "text": [
            "\n",
            "BDF\n"
          ]
        },
        {
          "output_type": "display_data",
          "data": {
            "text/plain": [
              "Eq(786.5*x - 1220.0*y + 859.0*z - 6874.5, 0)"
            ],
            "text/latex": "$\\displaystyle 786.5 x - 1220.0 y + 859.0 z - 6874.5 = 0$"
          },
          "metadata": {}
        },
        {
          "output_type": "stream",
          "name": "stdout",
          "text": [
            "\n",
            "BDG\n"
          ]
        },
        {
          "output_type": "display_data",
          "data": {
            "text/plain": [
              "Eq(837.0*x - 1296.0*y + 909.0*z - 7227.0, 0)"
            ],
            "text/latex": "$\\displaystyle 837.0 x - 1296.0 y + 909.0 z - 7227.0 = 0$"
          },
          "metadata": {}
        },
        {
          "output_type": "stream",
          "name": "stdout",
          "text": [
            "\n",
            "BDH\n"
          ]
        },
        {
          "output_type": "display_data",
          "data": {
            "text/plain": [
              "Eq(-3368.0*x + 2504.0*y + 2329.0*z - 74162.0, 0)"
            ],
            "text/latex": "$\\displaystyle - 3368.0 x + 2504.0 y + 2329.0 z - 74162.0 = 0$"
          },
          "metadata": {}
        },
        {
          "output_type": "stream",
          "name": "stdout",
          "text": [
            "\n",
            "BDK\n"
          ]
        },
        {
          "output_type": "display_data",
          "data": {
            "text/plain": [
              "Eq(805.0*x - 1672.0*y + 1814.0*z - 23157.0, 0)"
            ],
            "text/latex": "$\\displaystyle 805.0 x - 1672.0 y + 1814.0 z - 23157.0 = 0$"
          },
          "metadata": {}
        },
        {
          "output_type": "stream",
          "name": "stdout",
          "text": [
            "\n",
            "BDM\n"
          ]
        },
        {
          "output_type": "display_data",
          "data": {
            "text/plain": [
              "Eq(-1281.5*x + 416.0*y + 2071.5*z - 48659.5, 0)"
            ],
            "text/latex": "$\\displaystyle - 1281.5 x + 416.0 y + 2071.5 z - 48659.5 = 0$"
          },
          "metadata": {}
        },
        {
          "output_type": "stream",
          "name": "stdout",
          "text": [
            "\n",
            "BEF\n"
          ]
        },
        {
          "output_type": "display_data",
          "data": {
            "text/plain": [
              "Eq(39.5*x - 622.5*y + 957.0*z - 2838.5, 0)"
            ],
            "text/latex": "$\\displaystyle 39.5 x - 622.5 y + 957.0 z - 2838.5 = 0$"
          },
          "metadata": {}
        },
        {
          "output_type": "stream",
          "name": "stdout",
          "text": [
            "\n",
            "BEG\n"
          ]
        },
        {
          "output_type": "display_data",
          "data": {
            "text/plain": [
              "Eq(136.0*x - 772.0*y + 1044.0*z - 2632.0, 0)"
            ],
            "text/latex": "$\\displaystyle 136.0 x - 772.0 y + 1044.0 z - 2632.0 = 0$"
          },
          "metadata": {}
        },
        {
          "output_type": "stream",
          "name": "stdout",
          "text": [
            "\n",
            "BEH\n"
          ]
        },
        {
          "output_type": "display_data",
          "data": {
            "text/plain": [
              "Eq(-6236.0*x + 4063.0*y + 3567.0*z - 42496.0, 0)"
            ],
            "text/latex": "$\\displaystyle - 6236.0 x + 4063.0 y + 3567.0 z - 42496.0 = 0$"
          },
          "metadata": {}
        },
        {
          "output_type": "stream",
          "name": "stdout",
          "text": [
            "\n",
            "BEK\n"
          ]
        },
        {
          "output_type": "display_data",
          "data": {
            "text/plain": [
              "Eq(546.0*x - 2189.0*y + 2697.0*z - 5826.0, 0)"
            ],
            "text/latex": "$\\displaystyle 546.0 x - 2189.0 y + 2697.0 z - 5826.0 = 0$"
          },
          "metadata": {}
        },
        {
          "output_type": "stream",
          "name": "stdout",
          "text": [
            "\n",
            "BEM\n"
          ]
        },
        {
          "output_type": "display_data",
          "data": {
            "text/plain": [
              "Eq(-2845.0*x + 937.0*y + 3132.0*z - 24161.0, 0)"
            ],
            "text/latex": "$\\displaystyle - 2845.0 x + 937.0 y + 3132.0 z - 24161.0 = 0$"
          },
          "metadata": {}
        },
        {
          "output_type": "stream",
          "name": "stdout",
          "text": [
            "\n",
            "BFG\n"
          ]
        },
        {
          "output_type": "display_data",
          "data": {
            "text/plain": [
              "Eq(102.5*x - 153.5*y + 103.0*z - 871.5, 0)"
            ],
            "text/latex": "$\\displaystyle 102.5 x - 153.5 y + 103.0 z - 871.5 = 0$"
          },
          "metadata": {}
        },
        {
          "output_type": "stream",
          "name": "stdout",
          "text": [
            "\n",
            "BFH\n"
          ]
        },
        {
          "output_type": "display_data",
          "data": {
            "text/plain": [
              "Eq(-6618.0*x + 3861.5*y + 3200.0*z + 29395.0, 0)"
            ],
            "text/latex": "$\\displaystyle - 6618.0 x + 3861.5 y + 3200.0 z + 29395.0 = 0$"
          },
          "metadata": {}
        },
        {
          "output_type": "stream",
          "name": "stdout",
          "text": [
            "\n",
            "BFK\n"
          ]
        },
        {
          "output_type": "display_data",
          "data": {
            "text/plain": [
              "Eq(551.5*x - 1852.0*y + 2225.0*z - 9247.5, 0)"
            ],
            "text/latex": "$\\displaystyle 551.5 x - 1852.0 y + 2225.0 z - 9247.5 = 0$"
          },
          "metadata": {}
        },
        {
          "output_type": "stream",
          "name": "stdout",
          "text": [
            "\n",
            "BFM\n"
          ]
        },
        {
          "output_type": "display_data",
          "data": {
            "text/plain": [
              "Eq(-3033.25*x + 1004.75*y + 2712.5*z + 10073.75, 0)"
            ],
            "text/latex": "$\\displaystyle - 3033.25 x + 1004.75 y + 2712.5 z + 10073.75 = 0$"
          },
          "metadata": {}
        },
        {
          "output_type": "stream",
          "name": "stdout",
          "text": [
            "\n",
            "BGH\n"
          ]
        },
        {
          "output_type": "display_data",
          "data": {
            "text/plain": [
              "Eq(-6604.0*x + 3787.0*y + 3107.0*z + 40304.0, 0)"
            ],
            "text/latex": "$\\displaystyle - 6604.0 x + 3787.0 y + 3107.0 z + 40304.0 = 0$"
          },
          "metadata": {}
        },
        {
          "output_type": "stream",
          "name": "stdout",
          "text": [
            "\n",
            "BGK\n"
          ]
        },
        {
          "output_type": "display_data",
          "data": {
            "text/plain": [
              "Eq(482.0*x - 1757.0*y + 2137.0*z - 6786.0, 0)"
            ],
            "text/latex": "$\\displaystyle 482.0 x - 1757.0 y + 2137.0 z - 6786.0 = 0$"
          },
          "metadata": {}
        },
        {
          "output_type": "stream",
          "name": "stdout",
          "text": [
            "\n",
            "BGM\n"
          ]
        },
        {
          "output_type": "display_data",
          "data": {
            "text/plain": [
              "Eq(-3061.0*x + 1015.0*y + 2622.0*z + 16759.0, 0)"
            ],
            "text/latex": "$\\displaystyle - 3061.0 x + 1015.0 y + 2622.0 z + 16759.0 = 0$"
          },
          "metadata": {}
        },
        {
          "output_type": "stream",
          "name": "stdout",
          "text": [
            "\n",
            "BHK\n"
          ]
        },
        {
          "output_type": "display_data",
          "data": {
            "text/plain": [
              "Eq(4412.0*x - 1491.0*y - 725.0*z - 198780.0, 0)"
            ],
            "text/latex": "$\\displaystyle 4412.0 x - 1491.0 y - 725.0 z - 198780.0 = 0$"
          },
          "metadata": {}
        },
        {
          "output_type": "stream",
          "name": "stdout",
          "text": [
            "\n",
            "BHM\n"
          ]
        },
        {
          "output_type": "display_data",
          "data": {
            "text/plain": [
              "Eq(2206.0*x - 745.5*y - 362.5*z - 99390.0, 0)"
            ],
            "text/latex": "$\\displaystyle 2206.0 x - 745.5 y - 362.5 z - 99390.0 = 0$"
          },
          "metadata": {}
        },
        {
          "output_type": "stream",
          "name": "stdout",
          "text": [
            "\n",
            "BKM\n"
          ]
        },
        {
          "output_type": "display_data",
          "data": {
            "text/plain": [
              "Eq(-2206.0*x + 745.5*y + 362.5*z + 99390.0, 0)"
            ],
            "text/latex": "$\\displaystyle - 2206.0 x + 745.5 y + 362.5 z + 99390.0 = 0$"
          },
          "metadata": {}
        },
        {
          "output_type": "stream",
          "name": "stdout",
          "text": [
            "\n",
            "CDE\n"
          ]
        },
        {
          "output_type": "display_data",
          "data": {
            "text/plain": [
              "Eq(399.0*x + 113.0*y - 559.0*z + 3254.0, 0)"
            ],
            "text/latex": "$\\displaystyle 399.0 x + 113.0 y - 559.0 z + 3254.0 = 0$"
          },
          "metadata": {}
        },
        {
          "output_type": "stream",
          "name": "stdout",
          "text": [
            "\n",
            "CDF\n"
          ]
        },
        {
          "output_type": "display_data",
          "data": {
            "text/plain": [
              "Eq(435.5*x - 335.0*z - 1239.5, 0)"
            ],
            "text/latex": "$\\displaystyle 435.5 x - 335.0 z - 1239.5 = 0$"
          },
          "metadata": {}
        },
        {
          "output_type": "stream",
          "name": "stdout",
          "text": [
            "\n",
            "CDG\n"
          ]
        },
        {
          "output_type": "display_data",
          "data": {
            "text/plain": [
              "Eq(463.0*x - 31.0*y - 287.0*z - 2522.0, 0)"
            ],
            "text/latex": "$\\displaystyle 463.0 x - 31.0 y - 287.0 z - 2522.0 = 0$"
          },
          "metadata": {}
        },
        {
          "output_type": "stream",
          "name": "stdout",
          "text": [
            "\n",
            "CDH\n"
          ]
        },
        {
          "output_type": "display_data",
          "data": {
            "text/plain": [
              "Eq(-1843.0*x + 55.0*y + 1295.0*z + 7382.0, 0)"
            ],
            "text/latex": "$\\displaystyle - 1843.0 x + 55.0 y + 1295.0 z + 7382.0 = 0$"
          },
          "metadata": {}
        },
        {
          "output_type": "stream",
          "name": "stdout",
          "text": [
            "\n",
            "CDK\n"
          ]
        },
        {
          "output_type": "display_data",
          "data": {
            "text/plain": [
              "Eq(441.0*x - 560.0*y + 910.0*z - 23009.0, 0)"
            ],
            "text/latex": "$\\displaystyle 441.0 x - 560.0 y + 910.0 z - 23009.0 = 0$"
          },
          "metadata": {}
        },
        {
          "output_type": "stream",
          "name": "stdout",
          "text": [
            "\n",
            "CDM\n"
          ]
        },
        {
          "output_type": "display_data",
          "data": {
            "text/plain": [
              "Eq(-701.0*x - 252.5*y + 1102.5*z - 7813.5, 0)"
            ],
            "text/latex": "$\\displaystyle - 701.0 x - 252.5 y + 1102.5 z - 7813.5 = 0$"
          },
          "metadata": {}
        },
        {
          "output_type": "stream",
          "name": "stdout",
          "text": [
            "\n",
            "CEF\n"
          ]
        },
        {
          "output_type": "display_data",
          "data": {
            "text/plain": [
              "Eq(10.5*x - 395.5*y + 583.0*z - 1707.5, 0)"
            ],
            "text/latex": "$\\displaystyle 10.5 x - 395.5 y + 583.0 z - 1707.5 = 0$"
          },
          "metadata": {}
        },
        {
          "output_type": "stream",
          "name": "stdout",
          "text": [
            "\n",
            "CEG\n"
          ]
        },
        {
          "output_type": "display_data",
          "data": {
            "text/plain": [
              "Eq(84.0*x - 500.0*y + 668.0*z - 1672.0, 0)"
            ],
            "text/latex": "$\\displaystyle 84.0 x - 500.0 y + 668.0 z - 1672.0 = 0$"
          },
          "metadata": {}
        },
        {
          "output_type": "stream",
          "name": "stdout",
          "text": [
            "\n",
            "CEH\n"
          ]
        },
        {
          "output_type": "display_data",
          "data": {
            "text/plain": [
              "Eq(-4389.0*x + 621.0*y + 3353.0*z - 27406.0, 0)"
            ],
            "text/latex": "$\\displaystyle - 4389.0 x + 621.0 y + 3353.0 z - 27406.0 = 0$"
          },
          "metadata": {}
        },
        {
          "output_type": "stream",
          "name": "stdout",
          "text": [
            "\n",
            "CEK\n"
          ]
        },
        {
          "output_type": "display_data",
          "data": {
            "text/plain": [
              "Eq(504.0*x - 2070.0*y + 2613.0*z - 5847.0, 0)"
            ],
            "text/latex": "$\\displaystyle 504.0 x - 2070.0 y + 2613.0 z - 5847.0 = 0$"
          },
          "metadata": {}
        },
        {
          "output_type": "stream",
          "name": "stdout",
          "text": [
            "\n",
            "CEM\n"
          ]
        },
        {
          "output_type": "display_data",
          "data": {
            "text/plain": [
              "Eq(-1942.5*x - 724.5*y + 2983.0*z - 16626.5, 0)"
            ],
            "text/latex": "$\\displaystyle - 1942.5 x - 724.5 y + 2983.0 z - 16626.5 = 0$"
          },
          "metadata": {}
        },
        {
          "output_type": "stream",
          "name": "stdout",
          "text": [
            "\n",
            "CFG\n"
          ]
        },
        {
          "output_type": "display_data",
          "data": {
            "text/plain": [
              "Eq(79.5*x - 108.5*y + 101.0*z - 686.5, 0)"
            ],
            "text/latex": "$\\displaystyle 79.5 x - 108.5 y + 101.0 z - 686.5 = 0$"
          },
          "metadata": {}
        },
        {
          "output_type": "stream",
          "name": "stdout",
          "text": [
            "\n",
            "CFH\n"
          ]
        },
        {
          "output_type": "display_data",
          "data": {
            "text/plain": [
              "Eq(-4742.0*x + 192.5*y + 3360.0*z + 14313.0, 0)"
            ],
            "text/latex": "$\\displaystyle - 4742.0 x + 192.5 y + 3360.0 z + 14313.0 = 0$"
          },
          "metadata": {}
        },
        {
          "output_type": "stream",
          "name": "stdout",
          "text": [
            "\n",
            "CFK\n"
          ]
        },
        {
          "output_type": "display_data",
          "data": {
            "text/plain": [
              "Eq(538.5*x - 1960.0*y + 2515.0*z - 9846.5, 0)"
            ],
            "text/latex": "$\\displaystyle 538.5 x - 1960.0 y + 2515.0 z - 9846.5 = 0$"
          },
          "metadata": {}
        },
        {
          "output_type": "stream",
          "name": "stdout",
          "text": [
            "\n",
            "CFM\n"
          ]
        },
        {
          "output_type": "display_data",
          "data": {
            "text/plain": [
              "Eq(-2101.75*x - 883.75*y + 2937.5*z + 2233.25, 0)"
            ],
            "text/latex": "$\\displaystyle - 2101.75 x - 883.75 y + 2937.5 z + 2233.25 = 0$"
          },
          "metadata": {}
        },
        {
          "output_type": "stream",
          "name": "stdout",
          "text": [
            "\n",
            "CGH\n"
          ]
        },
        {
          "output_type": "display_data",
          "data": {
            "text/plain": [
              "Eq(-4705.0*x + 73.0*y + 3269.0*z + 25034.0, 0)"
            ],
            "text/latex": "$\\displaystyle - 4705.0 x + 73.0 y + 3269.0 z + 25034.0 = 0$"
          },
          "metadata": {}
        },
        {
          "output_type": "stream",
          "name": "stdout",
          "text": [
            "\n",
            "CGK\n"
          ]
        },
        {
          "output_type": "display_data",
          "data": {
            "text/plain": [
              "Eq(492.0*x - 1910.0*y + 2429.0*z - 7291.0, 0)"
            ],
            "text/latex": "$\\displaystyle 492.0 x - 1910.0 y + 2429.0 z - 7291.0 = 0$"
          },
          "metadata": {}
        },
        {
          "output_type": "stream",
          "name": "stdout",
          "text": [
            "\n",
            "CGM\n"
          ]
        },
        {
          "output_type": "display_data",
          "data": {
            "text/plain": [
              "Eq(-2106.5*x - 918.5*y + 2849.0*z + 8871.5, 0)"
            ],
            "text/latex": "$\\displaystyle - 2106.5 x - 918.5 y + 2849.0 z + 8871.5 = 0$"
          },
          "metadata": {}
        },
        {
          "output_type": "stream",
          "name": "stdout",
          "text": [
            "\n",
            "CHK\n"
          ]
        },
        {
          "output_type": "display_data",
          "data": {
            "text/plain": [
              "Eq(2523.0*x + 2070.0*y - 595.0*z - 207052.0, 0)"
            ],
            "text/latex": "$\\displaystyle 2523.0 x + 2070.0 y - 595.0 z - 207052.0 = 0$"
          },
          "metadata": {}
        },
        {
          "output_type": "stream",
          "name": "stdout",
          "text": [
            "\n",
            "CHM\n"
          ]
        },
        {
          "output_type": "display_data",
          "data": {
            "text/plain": [
              "Eq(1261.5*x + 1035.0*y - 297.5*z - 103526.0, 0)"
            ],
            "text/latex": "$\\displaystyle 1261.5 x + 1035.0 y - 297.5 z - 103526.0 = 0$"
          },
          "metadata": {}
        },
        {
          "output_type": "stream",
          "name": "stdout",
          "text": [
            "\n",
            "CKM\n"
          ]
        },
        {
          "output_type": "display_data",
          "data": {
            "text/plain": [
              "Eq(-1261.5*x - 1035.0*y + 297.5*z + 103526.0, 0)"
            ],
            "text/latex": "$\\displaystyle - 1261.5 x - 1035.0 y + 297.5 z + 103526.0 = 0$"
          },
          "metadata": {}
        },
        {
          "output_type": "stream",
          "name": "stdout",
          "text": [
            "\n",
            "DEF\n"
          ]
        },
        {
          "output_type": "display_data",
          "data": {
            "text/plain": [
              "Eq(-26.0*x - 282.5*y + 359.0*z - 999.5, 0)"
            ],
            "text/latex": "$\\displaystyle - 26.0 x - 282.5 y + 359.0 z - 999.5 = 0$"
          },
          "metadata": {}
        },
        {
          "output_type": "stream",
          "name": "stdout",
          "text": [
            "\n",
            "DEG\n"
          ]
        },
        {
          "output_type": "display_data",
          "data": {
            "text/plain": [
              "Eq(20.0*x - 356.0*y + 396.0*z - 872.0, 0)"
            ],
            "text/latex": "$\\displaystyle 20.0 x - 356.0 y + 396.0 z - 872.0 = 0$"
          },
          "metadata": {}
        },
        {
          "output_type": "stream",
          "name": "stdout",
          "text": [
            "\n",
            "DEH\n"
          ]
        },
        {
          "output_type": "display_data",
          "data": {
            "text/plain": [
              "Eq(-2147.0*x + 679.0*y + 1499.0*z - 13826.0, 0)"
            ],
            "text/latex": "$\\displaystyle - 2147.0 x + 679.0 y + 1499.0 z - 13826.0 = 0$"
          },
          "metadata": {}
        },
        {
          "output_type": "stream",
          "name": "stdout",
          "text": [
            "\n",
            "DEK\n"
          ]
        },
        {
          "output_type": "display_data",
          "data": {
            "text/plain": [
              "Eq(462.0*x - 1397.0*y + 1144.0*z - 605.0, 0)"
            ],
            "text/latex": "$\\displaystyle 462.0 x - 1397.0 y + 1144.0 z - 605.0 = 0$"
          },
          "metadata": {}
        },
        {
          "output_type": "stream",
          "name": "stdout",
          "text": [
            "\n",
            "DEM\n"
          ]
        },
        {
          "output_type": "display_data",
          "data": {
            "text/plain": [
              "Eq(-842.5*x - 359.0*y + 1321.5*z - 7215.5, 0)"
            ],
            "text/latex": "$\\displaystyle - 842.5 x - 359.0 y + 1321.5 z - 7215.5 = 0$"
          },
          "metadata": {}
        },
        {
          "output_type": "stream",
          "name": "stdout",
          "text": [
            "\n",
            "DFG\n"
          ]
        },
        {
          "output_type": "display_data",
          "data": {
            "text/plain": [
              "Eq(52.0*x - 77.5*y + 53.0*z - 442.5, 0)"
            ],
            "text/latex": "$\\displaystyle 52.0 x - 77.5 y + 53.0 z - 442.5 = 0$"
          },
          "metadata": {}
        },
        {
          "output_type": "stream",
          "name": "stdout",
          "text": [
            "\n",
            "DFH\n"
          ]
        },
        {
          "output_type": "display_data",
          "data": {
            "text/plain": [
              "Eq(-2463.5*x + 137.5*y + 1730.0*z + 7534.0, 0)"
            ],
            "text/latex": "$\\displaystyle - 2463.5 x + 137.5 y + 1730.0 z + 7534.0 = 0$"
          },
          "metadata": {}
        },
        {
          "output_type": "stream",
          "name": "stdout",
          "text": [
            "\n",
            "DFK\n"
          ]
        },
        {
          "output_type": "display_data",
          "data": {
            "text/plain": [
              "Eq(533.0*x - 1400.0*y + 1270.0*z - 6837.0, 0)"
            ],
            "text/latex": "$\\displaystyle 533.0 x - 1400.0 y + 1270.0 z - 6837.0 = 0$"
          },
          "metadata": {}
        },
        {
          "output_type": "stream",
          "name": "stdout",
          "text": [
            "\n",
            "DFM\n"
          ]
        },
        {
          "output_type": "display_data",
          "data": {
            "text/plain": [
              "Eq(-965.25*x - 631.25*y + 1500.0*z + 348.5, 0)"
            ],
            "text/latex": "$\\displaystyle - 965.25 x - 631.25 y + 1500.0 z + 348.5 = 0$"
          },
          "metadata": {}
        },
        {
          "output_type": "stream",
          "name": "stdout",
          "text": [
            "\n",
            "DGH\n"
          ]
        },
        {
          "output_type": "display_data",
          "data": {
            "text/plain": [
              "Eq(-2399.0*x - 13.0*y + 1687.0*z + 12694.0, 0)"
            ],
            "text/latex": "$\\displaystyle - 2399.0 x - 13.0 y + 1687.0 z + 12694.0 = 0$"
          },
          "metadata": {}
        },
        {
          "output_type": "stream",
          "name": "stdout",
          "text": [
            "\n",
            "DGK\n"
          ]
        },
        {
          "output_type": "display_data",
          "data": {
            "text/plain": [
              "Eq(514.0*x - 1381.0*y + 1232.0*z - 5697.0, 0)"
            ],
            "text/latex": "$\\displaystyle 514.0 x - 1381.0 y + 1232.0 z - 5697.0 = 0$"
          },
          "metadata": {}
        },
        {
          "output_type": "stream",
          "name": "stdout",
          "text": [
            "\n",
            "DGM\n"
          ]
        },
        {
          "output_type": "display_data",
          "data": {
            "text/plain": [
              "Eq(-942.5*x - 697.0*y + 1459.5*z + 3498.5, 0)"
            ],
            "text/latex": "$\\displaystyle - 942.5 x - 697.0 y + 1459.5 z + 3498.5 = 0$"
          },
          "metadata": {}
        },
        {
          "output_type": "stream",
          "name": "stdout",
          "text": [
            "\n",
            "DHK\n"
          ]
        },
        {
          "output_type": "display_data",
          "data": {
            "text/plain": [
              "Eq(239.0*x + 2685.0*y - 210.0*z - 99136.0, 0)"
            ],
            "text/latex": "$\\displaystyle 239.0 x + 2685.0 y - 210.0 z - 99136.0 = 0$"
          },
          "metadata": {}
        },
        {
          "output_type": "stream",
          "name": "stdout",
          "text": [
            "\n",
            "DHM\n"
          ]
        },
        {
          "output_type": "display_data",
          "data": {
            "text/plain": [
              "Eq(119.5*x + 1342.5*y - 105.0*z - 49568.0, 0)"
            ],
            "text/latex": "$\\displaystyle 119.5 x + 1342.5 y - 105.0 z - 49568.0 = 0$"
          },
          "metadata": {}
        },
        {
          "output_type": "stream",
          "name": "stdout",
          "text": [
            "\n",
            "DKM\n"
          ]
        },
        {
          "output_type": "display_data",
          "data": {
            "text/plain": [
              "Eq(-119.5*x - 1342.5*y + 105.0*z + 49568.0, 0)"
            ],
            "text/latex": "$\\displaystyle - 119.5 x - 1342.5 y + 105.0 z + 49568.0 = 0$"
          },
          "metadata": {}
        },
        {
          "output_type": "stream",
          "name": "stdout",
          "text": [
            "\n",
            "EFG\n"
          ]
        },
        {
          "output_type": "display_data",
          "data": {
            "text/plain": [
              "Eq(6.0*x - 4.0*y + 16.0*z - 56.0, 0)"
            ],
            "text/latex": "$\\displaystyle 6.0 x - 4.0 y + 16.0 z - 56.0 = 0$"
          },
          "metadata": {}
        },
        {
          "output_type": "stream",
          "name": "stdout",
          "text": [
            "\n",
            "EFH\n"
          ]
        },
        {
          "output_type": "display_data",
          "data": {
            "text/plain": [
              "Eq(-342.5*x - 824.0*y + 590.0*z - 1163.0, 0)"
            ],
            "text/latex": "$\\displaystyle - 342.5 x - 824.0 y + 590.0 z - 1163.0 = 0$"
          },
          "metadata": {}
        },
        {
          "output_type": "stream",
          "name": "stdout",
          "text": [
            "\n",
            "EFK\n"
          ]
        },
        {
          "output_type": "display_data",
          "data": {
            "text/plain": [
              "Eq(45.0*x - 285.5*y + 485.0*z - 1478.5, 0)"
            ],
            "text/latex": "$\\displaystyle 45.0 x - 285.5 y + 485.0 z - 1478.5 = 0$"
          },
          "metadata": {}
        },
        {
          "output_type": "stream",
          "name": "stdout",
          "text": [
            "\n",
            "EFM\n"
          ]
        },
        {
          "output_type": "display_data",
          "data": {
            "text/plain": [
              "Eq(-148.75*x - 554.75*y + 537.5*z - 1320.75, 0)"
            ],
            "text/latex": "$\\displaystyle - 148.75 x - 554.75 y + 537.5 z - 1320.75 = 0$"
          },
          "metadata": {}
        },
        {
          "output_type": "stream",
          "name": "stdout",
          "text": [
            "\n",
            "EGH\n"
          ]
        },
        {
          "output_type": "display_data",
          "data": {
            "text/plain": [
              "Eq(-232.0*x - 1048.0*y + 584.0*z - 240.0, 0)"
            ],
            "text/latex": "$\\displaystyle - 232.0 x - 1048.0 y + 584.0 z - 240.0 = 0$"
          },
          "metadata": {}
        },
        {
          "output_type": "stream",
          "name": "stdout",
          "text": [
            "\n",
            "EGK\n"
          ]
        },
        {
          "output_type": "display_data",
          "data": {
            "text/plain": [
              "Eq(72.0*x - 340.0*y + 484.0*z - 1256.0, 0)"
            ],
            "text/latex": "$\\displaystyle 72.0 x - 340.0 y + 484.0 z - 1256.0 = 0$"
          },
          "metadata": {}
        },
        {
          "output_type": "stream",
          "name": "stdout",
          "text": [
            "\n",
            "EGM\n"
          ]
        },
        {
          "output_type": "display_data",
          "data": {
            "text/plain": [
              "Eq(-80.0*x - 694.0*y + 534.0*z - 748.0, 0)"
            ],
            "text/latex": "$\\displaystyle - 80.0 x - 694.0 y + 534.0 z - 748.0 = 0$"
          },
          "metadata": {}
        },
        {
          "output_type": "stream",
          "name": "stdout",
          "text": [
            "\n",
            "EHK\n"
          ]
        },
        {
          "output_type": "display_data",
          "data": {
            "text/plain": [
              "Eq(-2370.0*x + 4761.0*y + 145.0*z - 19748.0, 0)"
            ],
            "text/latex": "$\\displaystyle - 2370.0 x + 4761.0 y + 145.0 z - 19748.0 = 0$"
          },
          "metadata": {}
        },
        {
          "output_type": "stream",
          "name": "stdout",
          "text": [
            "\n",
            "EHM\n"
          ]
        },
        {
          "output_type": "display_data",
          "data": {
            "text/plain": [
              "Eq(-1185.0*x + 2380.5*y + 72.5*z - 9874.0, 0)"
            ],
            "text/latex": "$\\displaystyle - 1185.0 x + 2380.5 y + 72.5 z - 9874.0 = 0$"
          },
          "metadata": {}
        },
        {
          "output_type": "stream",
          "name": "stdout",
          "text": [
            "\n",
            "EKM\n"
          ]
        },
        {
          "output_type": "display_data",
          "data": {
            "text/plain": [
              "Eq(1185.0*x - 2380.5*y - 72.5*z + 9874.0, 0)"
            ],
            "text/latex": "$\\displaystyle 1185.0 x - 2380.5 y - 72.5 z + 9874.0 = 0$"
          },
          "metadata": {}
        },
        {
          "output_type": "stream",
          "name": "stdout",
          "text": [
            "\n",
            "FGH\n"
          ]
        },
        {
          "output_type": "display_data",
          "data": {
            "text/plain": [
              "Eq(116.5*x - 228.0*y + 10.0*z - 937.0, 0)"
            ],
            "text/latex": "$\\displaystyle 116.5 x - 228.0 y + 10.0 z - 937.0 = 0$"
          },
          "metadata": {}
        },
        {
          "output_type": "stream",
          "name": "stdout",
          "text": [
            "\n",
            "FGK\n"
          ]
        },
        {
          "output_type": "display_data",
          "data": {
            "text/plain": [
              "Eq(33.0*x - 58.5*y + 15.0*z - 271.5, 0)"
            ],
            "text/latex": "$\\displaystyle 33.0 x - 58.5 y + 15.0 z - 271.5 = 0$"
          },
          "metadata": {}
        },
        {
          "output_type": "stream",
          "name": "stdout",
          "text": [
            "\n",
            "FGM\n"
          ]
        },
        {
          "output_type": "display_data",
          "data": {
            "text/plain": [
              "Eq(74.75*x - 143.25*y + 12.5*z - 604.25, 0)"
            ],
            "text/latex": "$\\displaystyle 74.75 x - 143.25 y + 12.5 z - 604.25 = 0$"
          },
          "metadata": {}
        },
        {
          "output_type": "stream",
          "name": "stdout",
          "text": [
            "\n",
            "FHK\n"
          ]
        },
        {
          "output_type": "display_data",
          "data": {
            "text/plain": [
              "Eq(-2757.5*x + 4222.5*y + 250.0*z + 19100.0, 0)"
            ],
            "text/latex": "$\\displaystyle - 2757.5 x + 4222.5 y + 250.0 z + 19100.0 = 0$"
          },
          "metadata": {}
        },
        {
          "output_type": "stream",
          "name": "stdout",
          "text": [
            "\n",
            "FHM\n"
          ]
        },
        {
          "output_type": "display_data",
          "data": {
            "text/plain": [
              "Eq(-1378.75*x + 2111.25*y + 125.0*z + 9550.0, 0)"
            ],
            "text/latex": "$\\displaystyle - 1378.75 x + 2111.25 y + 125.0 z + 9550.0 = 0$"
          },
          "metadata": {}
        },
        {
          "output_type": "stream",
          "name": "stdout",
          "text": [
            "\n",
            "FKM\n"
          ]
        },
        {
          "output_type": "display_data",
          "data": {
            "text/plain": [
              "Eq(1378.75*x - 2111.25*y - 125.0*z - 9550.0, 0)"
            ],
            "text/latex": "$\\displaystyle 1378.75 x - 2111.25 y - 125.0 z - 9550.0 = 0$"
          },
          "metadata": {}
        },
        {
          "output_type": "stream",
          "name": "stdout",
          "text": [
            "\n",
            "GHK\n"
          ]
        },
        {
          "output_type": "display_data",
          "data": {
            "text/plain": [
              "Eq(-2674.0*x + 4053.0*y + 245.0*z + 19852.0, 0)"
            ],
            "text/latex": "$\\displaystyle - 2674.0 x + 4053.0 y + 245.0 z + 19852.0 = 0$"
          },
          "metadata": {}
        },
        {
          "output_type": "stream",
          "name": "stdout",
          "text": [
            "\n",
            "GHM\n"
          ]
        },
        {
          "output_type": "display_data",
          "data": {
            "text/plain": [
              "Eq(-1337.0*x + 2026.5*y + 122.5*z + 9926.0, 0)"
            ],
            "text/latex": "$\\displaystyle - 1337.0 x + 2026.5 y + 122.5 z + 9926.0 = 0$"
          },
          "metadata": {}
        },
        {
          "output_type": "stream",
          "name": "stdout",
          "text": [
            "\n",
            "GKM\n"
          ]
        },
        {
          "output_type": "display_data",
          "data": {
            "text/plain": [
              "Eq(1337.0*x - 2026.5*y - 122.5*z - 9926.0, 0)"
            ],
            "text/latex": "$\\displaystyle 1337.0 x - 2026.5 y - 122.5 z - 9926.0 = 0$"
          },
          "metadata": {}
        },
        {
          "output_type": "stream",
          "name": "stdout",
          "text": [
            "\n"
          ]
        }
      ]
    },
    {
      "cell_type": "markdown",
      "metadata": {
        "id": "-4N5c7jDO3kd"
      },
      "source": [
        "### Индивидуальное задание\n",
        "Даны точки $A$, $B$, $C$, $M$, $K$ и $P$  в пространстве. Составить уравнение плоскостей $ABC$ и $MKP$, найти линию пересечения плоскостей или установить их параллельность.\n",
        "\n",
        "Составить систему параметрических уравнений прямых $MK$ и $CN$, прямая $CN$ перпендикулярна плоскости $ABC$. Найти точку пересечения $MK$ и $CN$.\n"
      ]
    },
    {
      "cell_type": "code",
      "source": [
        "A = Matrix((-2, 1, -1))\n",
        "B = Matrix((-3, 2, -1))\n",
        "C = Matrix( (2, 4, -4))\n",
        "M = Matrix((37, 17, -15))\n",
        "K = Matrix((18, 9, -13))\n",
        "P = Matrix((2, 14, -3))\n",
        "syms = symbols('x y z')\n",
        "\n",
        "planeABC = Matrix([[syms[i] - A[i] for i in range(3)],\n",
        "                   [B[i] - A[i] for i in range(3)],\n",
        "                   [C[i] - A[i] for i in range(3)]])\n",
        "\n",
        "planeMKP = Matrix([[syms[i] - M[i] for i in range(3)],\n",
        "                   [K[i] - M[i] for i in range(3)],\n",
        "                   [P[i] - M[i] for i in range(3)]])\n",
        "plane_eq1 = Eq(Matrix.det(planeABC), 0)\n",
        "plane_eq2 = Eq(Matrix.det(planeMKP), 0)\n",
        "display(plane_eq1, plane_eq2)\n",
        "display(linsolve([plane_eq1, plane_eq2], syms))\n",
        "\n",
        "\n",
        "\n",
        "t1 = Symbol('t1')\n",
        "t2 = Symbol('t2')\n",
        "mk = K - M\n",
        "mk_eqs =[Eq(syms[i], M[i] + t1*mk[i]) for i in range(3)]\n",
        "print(\"MK line equations:\")\n",
        "for i in mk_eqs: display(i)\n",
        "\n",
        "n_vec = Matrix((-3, -3, -7))\n",
        "cn_eqs = [Eq(syms[i], C[i] + t2*n_vec[i]) for i in range(3)]\n",
        "print(\"CN line equations:\")\n",
        "for i in cn_eqs: display(i)\n",
        "\n",
        "print(\"Point of intersection:\")\n",
        "display()\n",
        "display(linsolve(mk_eqs + cn_eqs, symbols('x y z t1 t2')))"
      ],
      "metadata": {
        "id": "HcQqNU_-nH6f",
        "colab": {
          "base_uri": "https://localhost:8080/",
          "height": 305
        },
        "outputId": "3595670c-e739-4c78-9ed1-48ec4e75aaf1"
      },
      "execution_count": null,
      "outputs": [
        {
          "output_type": "display_data",
          "data": {
            "text/plain": [
              "Eq(-3*x - 3*y - 7*z - 10, 0)"
            ],
            "text/latex": "$\\displaystyle - 3 x - 3 y - 7 z - 10 = 0$"
          },
          "metadata": {}
        },
        {
          "output_type": "display_data",
          "data": {
            "text/plain": [
              "Eq(-90*x + 158*y - 223*z - 2701, 0)"
            ],
            "text/latex": "$\\displaystyle - 90 x + 158 y - 223 z - 2701 = 0$"
          },
          "metadata": {}
        },
        {
          "output_type": "display_data",
          "data": {
            "text/plain": [
              "{(-1775*z/744 - 9683/744, 13*z/248 + 2401/248, z)}"
            ],
            "text/latex": "$\\displaystyle \\left\\{\\left( - \\frac{1775 z}{744} - \\frac{9683}{744}, \\  \\frac{13 z}{248} + \\frac{2401}{248}, \\  z\\right)\\right\\}$"
          },
          "metadata": {}
        },
        {
          "output_type": "stream",
          "name": "stdout",
          "text": [
            "MK line equations:\n"
          ]
        },
        {
          "output_type": "display_data",
          "data": {
            "text/plain": [
              "Eq(x, 37 - 19*t1)"
            ],
            "text/latex": "$\\displaystyle x = 37 - 19 t_{1}$"
          },
          "metadata": {}
        },
        {
          "output_type": "display_data",
          "data": {
            "text/plain": [
              "Eq(y, 17 - 8*t1)"
            ],
            "text/latex": "$\\displaystyle y = 17 - 8 t_{1}$"
          },
          "metadata": {}
        },
        {
          "output_type": "display_data",
          "data": {
            "text/plain": [
              "Eq(z, 2*t1 - 15)"
            ],
            "text/latex": "$\\displaystyle z = 2 t_{1} - 15$"
          },
          "metadata": {}
        },
        {
          "output_type": "stream",
          "name": "stdout",
          "text": [
            "CN line equations:\n"
          ]
        },
        {
          "output_type": "display_data",
          "data": {
            "text/plain": [
              "Eq(x, 2 - 3*t2)"
            ],
            "text/latex": "$\\displaystyle x = 2 - 3 t_{2}$"
          },
          "metadata": {}
        },
        {
          "output_type": "display_data",
          "data": {
            "text/plain": [
              "Eq(y, 4 - 3*t2)"
            ],
            "text/latex": "$\\displaystyle y = 4 - 3 t_{2}$"
          },
          "metadata": {}
        },
        {
          "output_type": "display_data",
          "data": {
            "text/plain": [
              "Eq(z, -7*t2 - 4)"
            ],
            "text/latex": "$\\displaystyle z = - 7 t_{2} - 4$"
          },
          "metadata": {}
        },
        {
          "output_type": "stream",
          "name": "stdout",
          "text": [
            "Point of intersection:\n"
          ]
        },
        {
          "output_type": "display_data",
          "data": {
            "text/plain": [
              "{(-1, 1, -11, 2, 1)}"
            ],
            "text/latex": "$\\displaystyle \\left\\{\\left( -1, \\  1, \\  -11, \\  2, \\  1\\right)\\right\\}$"
          },
          "metadata": {}
        }
      ]
    }
  ]
}