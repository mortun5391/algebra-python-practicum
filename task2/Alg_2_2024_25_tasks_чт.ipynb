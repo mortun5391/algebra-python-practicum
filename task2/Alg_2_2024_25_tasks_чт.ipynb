{
  "nbformat": 4,
  "nbformat_minor": 0,
  "metadata": {
    "kernelspec": {
      "display_name": "Python 3",
      "language": "python",
      "name": "python3"
    },
    "language_info": {
      "codemirror_mode": {
        "name": "ipython",
        "version": 3
      },
      "file_extension": ".py",
      "mimetype": "text/x-python",
      "name": "python",
      "nbconvert_exporter": "python",
      "pygments_lexer": "ipython3",
      "version": "3.7.3"
    },
    "colab": {
      "provenance": []
    }
  },
  "cells": [
    {
      "cell_type": "markdown",
      "metadata": {
        "id": "V1qo8kCJaU1a"
      },
      "source": [
        "# Практическое занятие 2\n",
        "# Компьютерный практикум по алгебре на Python"
      ]
    },
    {
      "cell_type": "markdown",
      "metadata": {
        "id": "nrNldgTvaU1k"
      },
      "source": [
        "## Матрицы. Подстановки, действия над строками, столбцами и элементами. Формулы Крамера для решения СЛАУ.\n",
        "\n",
        "https://docs.sympy.org/latest/tutorial/matrices.html\n",
        "\n",
        "С помощью конструктора класса Matrix можно создавать матрицы, элементами которых служат не только числа или числовые выражения, но и символы Symbol, играющие роль математических переменных. Переменные могут принимать какие-то значения, эти значения можно подставлять в матрицы (и не только в них!) с помощью метода subs."
      ]
    },
    {
      "cell_type": "code",
      "metadata": {
        "id": "DW7G-QrZaU1l"
      },
      "source": [
        "from sympy import Symbol, symbols, Matrix, simplify, factor, pi, latex\n",
        "from IPython.display import Latex"
      ],
      "execution_count": null,
      "outputs": []
    },
    {
      "cell_type": "markdown",
      "metadata": {
        "id": "pebe8gBxaU1n"
      },
      "source": [
        "### Задание 1\n",
        "Решить по формулам Крамера СЛАУ\n",
        "\\begin{align*}\n",
        "\\left\\{\\begin{matrix} 2 x_{1} +  x_{3}  = -8\\\\\n",
        "- 4 x_{1} + 5 x_{2} - x_{4} = 20\\\\\n",
        "- 6 x_{2} + x_{3} + 2 x_{4} = 2\\\\\n",
        "2 x_{1} +   x_{2} - x_{3} - x_{4} = 4\\\\\n",
        "\\end{matrix}\\right.\n",
        " \\end{align*}\n",
        "Проверить правильность найденного решения подстановкой (в математическом смысле! subs не нужно использовать).\n",
        "\n",
        "Под проверкой правильности понимается проверка выполнения равенства $AX=b$ или $AX-b=\\bar 0$."
      ]
    },
    {
      "cell_type": "code",
      "source": [
        "a_vars = ((2, 0, 1, 0), (-4, 5, 0, -1), (0, -6, 1, 2), (2, 1, -1, -1))\n",
        "a_matrix = Matrix(a_vars)\n",
        "a_det = a_matrix.det()\n",
        "\n",
        "if a_det:\n",
        "  b_column = Matrix((-8, 20, 2, 4))\n",
        "  x_column = Matrix([0 for _ in range(a_matrix.shape[0])])\n",
        "\n",
        "  for i in range(a_matrix.shape[0]):\n",
        "      a_i = a_matrix.copy()\n",
        "      a_i[:, i] = b_column\n",
        "      x_column[i] = a_i.det() / a_det\n",
        "\n",
        "  if simplify(a_matrix * x_column) == b_column:\n",
        "    print(\"Solution is:\")\n",
        "    display(x_column)\n",
        "  else:\n",
        "    print(\"Wasn't able to solve the task\")\n",
        "else:\n",
        "  display(\"det(A) is equal to 0\")"
      ],
      "metadata": {
        "id": "iWkPDcU0p24_",
        "colab": {
          "base_uri": "https://localhost:8080/",
          "height": 116
        },
        "outputId": "03bf5f8d-ec5a-40aa-8b32-39f60e85457b"
      },
      "execution_count": null,
      "outputs": [
        {
          "output_type": "stream",
          "name": "stdout",
          "text": [
            "Solution is:\n"
          ]
        },
        {
          "output_type": "display_data",
          "data": {
            "text/plain": [
              "Matrix([\n",
              "[-13],\n",
              "[-20],\n",
              "[ 18],\n",
              "[-68]])"
            ],
            "text/latex": "$\\displaystyle \\left[\\begin{matrix}-13\\\\-20\\\\18\\\\-68\\end{matrix}\\right]$"
          },
          "metadata": {}
        }
      ]
    },
    {
      "cell_type": "markdown",
      "metadata": {
        "id": "WfVS2gyDaU1r"
      },
      "source": [
        "### Задание 2\n",
        "Решить по формулам Крамера СЛАУ с параметром\n",
        "\\begin{align*}\n",
        "\\left\\{\\begin{matrix} x_{1}  + ax_{4}  = 1\\\\\n",
        "a x_{1} + x_{2} = 2\\\\\n",
        "a x_{2} + x_{3} = 1\\\\\n",
        "a x_{3} + x_{4} = 2\\\\\n",
        "\\end{matrix}\\right.\n",
        " \\end{align*}\n",
        "Проверить правильность найденного решения подстановкой.\n",
        "\n",
        "Составить матрицу $S$, столбцы которой являются решениями данной СЛАУ при $a = 0, 2, 3$.\n",
        "\n",
        "**Указание.**\n",
        "\n",
        "Оформить решение по формулам Крамера в виде функции.\n",
        "\n",
        "Параметр $a$ описать как символ.\n",
        "\n",
        "Использовать подстановки **subs** для построения матриц данной СЛАУ при $a = 0, 2, 3$ на основе матрицы с параметром.\n",
        "\n",
        "Воспользоваться **simplify** для того, чтобы упростить выражение при проверке."
      ]
    },
    {
      "cell_type": "code",
      "source": [
        "a_sym = Symbol('a')\n",
        "a_matrix = Matrix(((1, 0, 0, a_sym), (a_sym, 1, 0, 0), (0, a_sym, 1, 0), (0, 0, a_sym, 1)))\n",
        "\n",
        "b_column = Matrix((1, 2, 1, 2))\n",
        "\n",
        "# Form X column\n",
        "x_column = Matrix([0 for _ in range(a_matrix.shape[0])])\n",
        "for i in range(a_matrix.shape[0]):\n",
        "    a_i = a_matrix.copy()\n",
        "    a_i[:, i] = b_column\n",
        "    x_column[i] = a_i.det() / a_matrix.det()\n",
        "\n",
        "# Check whether X is a\n",
        "# solution of A * x = b\n",
        "if simplify(a_matrix * x_column) == b_column:\n",
        "  display(x_column)\n",
        "  print(f\"is a solution of A * x = b, with param a\\n\")\n",
        "\n",
        "# Check whether X is a solution\n",
        "# of A * x = b for each a variable\n",
        "for a in (0, 2, 3):\n",
        "  x_col_i = x_column.subs(a_sym, a)\n",
        "  a_matrix_i = a_matrix.copy().subs(a_sym, a)\n",
        "\n",
        "  if a_matrix_i.det() == 0:\n",
        "    print(f\"If a is equal to {a} then det(A) is equal to 0\")\n",
        "  elif simplify(a_matrix_i * x_col_i) == b_column:\n",
        "    display(x_col_i)\n",
        "    print(f\"is a solution of A * x = b, where a param equals to {a}\\n\")"
      ],
      "metadata": {
        "id": "tyw56nrIp5Vw",
        "colab": {
          "base_uri": "https://localhost:8080/",
          "height": 496
        },
        "outputId": "aa20343b-8ab4-4f70-cef5-1a9db6c34fc3"
      },
      "execution_count": null,
      "outputs": [
        {
          "output_type": "display_data",
          "data": {
            "text/plain": [
              "Matrix([\n",
              "[(-2*a**3 + a**2 - 2*a + 1)/(1 - a**4)],\n",
              "[  (-a**3 + 2*a**2 - a + 2)/(1 - a**4)],\n",
              "[(-2*a**3 + a**2 - 2*a + 1)/(1 - a**4)],\n",
              "[  (-a**3 + 2*a**2 - a + 2)/(1 - a**4)]])"
            ],
            "text/latex": "$\\displaystyle \\left[\\begin{matrix}\\frac{- 2 a^{3} + a^{2} - 2 a + 1}{1 - a^{4}}\\\\\\frac{- a^{3} + 2 a^{2} - a + 2}{1 - a^{4}}\\\\\\frac{- 2 a^{3} + a^{2} - 2 a + 1}{1 - a^{4}}\\\\\\frac{- a^{3} + 2 a^{2} - a + 2}{1 - a^{4}}\\end{matrix}\\right]$"
          },
          "metadata": {}
        },
        {
          "output_type": "stream",
          "name": "stdout",
          "text": [
            "is a solution of A * x = b, with param a\n",
            "\n"
          ]
        },
        {
          "output_type": "display_data",
          "data": {
            "text/plain": [
              "Matrix([\n",
              "[1],\n",
              "[2],\n",
              "[1],\n",
              "[2]])"
            ],
            "text/latex": "$\\displaystyle \\left[\\begin{matrix}1\\\\2\\\\1\\\\2\\end{matrix}\\right]$"
          },
          "metadata": {}
        },
        {
          "output_type": "stream",
          "name": "stdout",
          "text": [
            "is a solution of A * x = b, where a param equals to 0\n",
            "\n"
          ]
        },
        {
          "output_type": "display_data",
          "data": {
            "text/plain": [
              "Matrix([\n",
              "[1],\n",
              "[0],\n",
              "[1],\n",
              "[0]])"
            ],
            "text/latex": "$\\displaystyle \\left[\\begin{matrix}1\\\\0\\\\1\\\\0\\end{matrix}\\right]$"
          },
          "metadata": {}
        },
        {
          "output_type": "stream",
          "name": "stdout",
          "text": [
            "is a solution of A * x = b, where a param equals to 2\n",
            "\n"
          ]
        },
        {
          "output_type": "display_data",
          "data": {
            "text/plain": [
              "Matrix([\n",
              "[5/8],\n",
              "[1/8],\n",
              "[5/8],\n",
              "[1/8]])"
            ],
            "text/latex": "$\\displaystyle \\left[\\begin{matrix}\\frac{5}{8}\\\\\\frac{1}{8}\\\\\\frac{5}{8}\\\\\\frac{1}{8}\\end{matrix}\\right]$"
          },
          "metadata": {}
        },
        {
          "output_type": "stream",
          "name": "stdout",
          "text": [
            "is a solution of A * x = b, where a param equals to 3\n",
            "\n"
          ]
        }
      ]
    },
    {
      "cell_type": "markdown",
      "metadata": {
        "id": "Ufm8BDgxaU1t"
      },
      "source": [
        "### Задание 3.\n",
        "Решить по формулам Крамера СЛАУ с параметрами\n",
        "\\begin{align*}\n",
        "\\left\\{\\begin{matrix} 2 x_{1} + a_{12} x_{2} + x_{3}  = b_1\\\\\n",
        "x_{1} + a_{22} x_{2} - x_{3}   = b_2\\\\\n",
        "x_{1} + 2 x_{2} + 3 x_{3}   = 1\n",
        "\\end{matrix}\\right.\n",
        "\\end{align*}\n",
        "Проверить правильность найденного решения подстановкой.\n",
        "\n",
        "Найти такие наборы параметров, для которых полученное решение неприменимо (подсказка - из-за деления на ноль).\n",
        "\n",
        "Показать, что для этих наборов определитель матрицы левой части равен нулю, использовать подстановки subs."
      ]
    },
    {
      "cell_type": "code",
      "source": [
        "a12, a22 = symbols(\"a12 a22\")\n",
        "a_matrix = Matrix(((2, a12, 1), (1, a22, -1), (1, 2, 3)))\n",
        "b1, b2 = symbols('b1 b2')\n",
        "b_column = Matrix((b1, b2, 1))\n",
        "a_det = a_matrix.det()\n",
        "\n",
        "x_column = Matrix([0 for _ in range(a_matrix.shape[0])])\n",
        "for i in range(a_matrix.shape[0]):\n",
        "  a_matrix_i = a_matrix.copy()\n",
        "  a_matrix_i[:, i] = b_column\n",
        "  x_column[i] = a_matrix_i.det() / a_matrix.det()\n",
        "\n",
        "print(\"det(A) is equal to:\")\n",
        "display(a_det)\n",
        "print(\"\\n\")\n",
        "\n",
        "if simplify(a_matrix * x_column) == b_column:\n",
        "  print(\"The solution of A * x = b is\")\n",
        "  display(x_column)\n",
        "  print(\"\\n\")\n",
        "\n",
        "new_matrix = a_matrix.subs(a12, a22)\n",
        "print(\"If a12 == a22 then A matrix is equal to:\")\n",
        "display(new_matrix)\n",
        "print(\"And det(A) is equal to:\")\n",
        "display(new_matrix.det())"
      ],
      "metadata": {
        "id": "4x9qaosKp6aY",
        "colab": {
          "base_uri": "https://localhost:8080/",
          "height": 332
        },
        "outputId": "750e582e-4ceb-4a88-abe1-55472487e9a0"
      },
      "execution_count": null,
      "outputs": [
        {
          "output_type": "stream",
          "name": "stdout",
          "text": [
            "det(A) is equal to:\n"
          ]
        },
        {
          "output_type": "display_data",
          "data": {
            "text/plain": [
              "-4*a12 + 5*a22 + 6"
            ],
            "text/latex": "$\\displaystyle - 4 a_{12} + 5 a_{22} + 6$"
          },
          "metadata": {}
        },
        {
          "output_type": "stream",
          "name": "stdout",
          "text": [
            "\n",
            "\n",
            "The solution of A * x = b is\n"
          ]
        },
        {
          "output_type": "display_data",
          "data": {
            "text/plain": [
              "Matrix([\n",
              "[(-1*a12 - 1*a22 - 3*a12*b2 + 3*a22*b1 + 2*b1 + 2*b2)/(-4*a12 + 5*a22 + 6)],\n",
              "[                                 (3*1 - 4*b1 + 5*b2)/(-4*a12 + 5*a22 + 6)],\n",
              "[  (-1*a12 + 2*1*a22 + a12*b2 - a22*b1 + 2*b1 - 4*b2)/(-4*a12 + 5*a22 + 6)]])"
            ],
            "text/latex": "$\\displaystyle \\left[\\begin{matrix}\\frac{- 1 a_{12} - 1 a_{22} - 3 a_{12} b_{2} + 3 a_{22} b_{1} + 2 b_{1} + 2 b_{2}}{- 4 a_{12} + 5 a_{22} + 6}\\\\\\frac{3 \\cdot 1 - 4 b_{1} + 5 b_{2}}{- 4 a_{12} + 5 a_{22} + 6}\\\\\\frac{- 1 a_{12} + 2 \\cdot 1 a_{22} + a_{12} b_{2} - a_{22} b_{1} + 2 b_{1} - 4 b_{2}}{- 4 a_{12} + 5 a_{22} + 6}\\end{matrix}\\right]$"
          },
          "metadata": {}
        },
        {
          "output_type": "stream",
          "name": "stdout",
          "text": [
            "\n",
            "\n",
            "If a12 == a22 then A matrix is equal to:\n"
          ]
        },
        {
          "output_type": "display_data",
          "data": {
            "text/plain": [
              "Matrix([\n",
              "[2, a22,  1],\n",
              "[1, a22, -1],\n",
              "[1,   2,  3]])"
            ],
            "text/latex": "$\\displaystyle \\left[\\begin{matrix}2 & a_{22} & 1\\\\1 & a_{22} & -1\\\\1 & 2 & 3\\end{matrix}\\right]$"
          },
          "metadata": {}
        },
        {
          "output_type": "stream",
          "name": "stdout",
          "text": [
            "And det(A) is equal to:\n"
          ]
        },
        {
          "output_type": "display_data",
          "data": {
            "text/plain": [
              "a22 + 6"
            ],
            "text/latex": "$\\displaystyle a_{22} + 6$"
          },
          "metadata": {}
        }
      ]
    },
    {
      "cell_type": "markdown",
      "metadata": {
        "id": "bsNtxeRDaU1w"
      },
      "source": [
        "### Задание 4.\n",
        "Дана матрица\n",
        "\\begin{align*}\n",
        "M =\n",
        "\\left(\\begin{matrix}\n",
        "p & 1 & 0  & 0\\\\\n",
        "1 & q & 0  & 0\\\\\n",
        "0 & 0 & p & 1\\\\\n",
        "0 & 0 & 1 & q\n",
        "\\end{matrix}\\right)\n",
        "\\end{align*}\n",
        "Вычислить и вывести на экран определитель этой матрицы.\n",
        "\n",
        "Для целых четных $p$ от 2 до 8 **включительно** найти значения $q$, при которых определитель $M$ равен нулю, выводить на экран в цикле матрицу M, в которую подставлены значения $p$ и $q$. Использовать подстановки subs."
      ]
    },
    {
      "cell_type": "code",
      "source": [
        "from sympy import *\n",
        "p, q = symbols('p q')\n",
        "M = Matrix(((p, 1, 0, 0), (1, q, 0, 0), (0, 0, p, 1), (0, 0, 1, q)))\n",
        "m_det = M.det()\n",
        "display(m_det)\n",
        "for i in range(2, 9, 2):\n",
        "  equ = Eq(m_det.subs(p, i), 0)\n",
        "  display(M.subs(p, i).subs(q, solve(equ, q)[0]))\n",
        "\n",
        "\n"
      ],
      "metadata": {
        "id": "1ylv2i9Vp8U4",
        "colab": {
          "base_uri": "https://localhost:8080/",
          "height": 366
        },
        "outputId": "6486cabe-8b4a-41b0-b88d-4e06f0f4dcca"
      },
      "execution_count": null,
      "outputs": [
        {
          "output_type": "display_data",
          "data": {
            "text/plain": [
              "(p*q - 1)**2"
            ],
            "text/latex": "$\\displaystyle \\left(p q - 1\\right)^{2}$"
          },
          "metadata": {}
        },
        {
          "output_type": "display_data",
          "data": {
            "text/plain": [
              "Matrix([\n",
              "[2,   1, 0,   0],\n",
              "[1, 1/2, 0,   0],\n",
              "[0,   0, 2,   1],\n",
              "[0,   0, 1, 1/2]])"
            ],
            "text/latex": "$\\displaystyle \\left[\\begin{matrix}2 & 1 & 0 & 0\\\\1 & \\frac{1}{2} & 0 & 0\\\\0 & 0 & 2 & 1\\\\0 & 0 & 1 & \\frac{1}{2}\\end{matrix}\\right]$"
          },
          "metadata": {}
        },
        {
          "output_type": "display_data",
          "data": {
            "text/plain": [
              "Matrix([\n",
              "[4,   1, 0,   0],\n",
              "[1, 1/4, 0,   0],\n",
              "[0,   0, 4,   1],\n",
              "[0,   0, 1, 1/4]])"
            ],
            "text/latex": "$\\displaystyle \\left[\\begin{matrix}4 & 1 & 0 & 0\\\\1 & \\frac{1}{4} & 0 & 0\\\\0 & 0 & 4 & 1\\\\0 & 0 & 1 & \\frac{1}{4}\\end{matrix}\\right]$"
          },
          "metadata": {}
        },
        {
          "output_type": "display_data",
          "data": {
            "text/plain": [
              "Matrix([\n",
              "[6,   1, 0,   0],\n",
              "[1, 1/6, 0,   0],\n",
              "[0,   0, 6,   1],\n",
              "[0,   0, 1, 1/6]])"
            ],
            "text/latex": "$\\displaystyle \\left[\\begin{matrix}6 & 1 & 0 & 0\\\\1 & \\frac{1}{6} & 0 & 0\\\\0 & 0 & 6 & 1\\\\0 & 0 & 1 & \\frac{1}{6}\\end{matrix}\\right]$"
          },
          "metadata": {}
        },
        {
          "output_type": "display_data",
          "data": {
            "text/plain": [
              "Matrix([\n",
              "[8,   1, 0,   0],\n",
              "[1, 1/8, 0,   0],\n",
              "[0,   0, 8,   1],\n",
              "[0,   0, 1, 1/8]])"
            ],
            "text/latex": "$\\displaystyle \\left[\\begin{matrix}8 & 1 & 0 & 0\\\\1 & \\frac{1}{8} & 0 & 0\\\\0 & 0 & 8 & 1\\\\0 & 0 & 1 & \\frac{1}{8}\\end{matrix}\\right]$"
          },
          "metadata": {}
        }
      ]
    },
    {
      "cell_type": "markdown",
      "source": [
        "### Задание 5*.\n",
        "Матрица состоит из $n$  блоков\n",
        "$\n",
        "\\left(\\begin{matrix}\n",
        "p & 1\\\\\n",
        "1 & q\n",
        "\\end{matrix}\\right)\n",
        "$\n",
        "\\begin{align*}\n",
        "M =\n",
        "\\left(\\begin{matrix}\n",
        "p & 1 & 0  & 0\\\\\n",
        "1 & q & 0  & 0\\\\\n",
        "0 & 0 & p & 1\\\\\n",
        "0 & 0 & 1 & q\n",
        "\\end{matrix}\\right)\n",
        "\\end{align*}\n",
        "Вычислить и вывести на экран определитель этой матрицы.\n",
        "\n",
        "Для целых четных $p$ от 2 до 8 **включительно** найти значения $q$, при которых определитель $M$ равен нулю, выводить на экран в цикле матрицу M, в которую подставлены значения $p$ и $q$. Использовать подстановки subs."
      ],
      "metadata": {
        "id": "-15IckQwlH8v"
      }
    },
    {
      "cell_type": "code",
      "source": [
        "from sympy import *\n",
        "def build_block_matrix(blocks_2x2):\n",
        "\n",
        "\n",
        "    num_blocks = len(blocks_2x2)\n",
        "    block_size = 2\n",
        "    size = num_blocks * block_size\n",
        "    block_matrix_data = []\n",
        "    for i in range(num_blocks):\n",
        "        row = []\n",
        "        for j in range(num_blocks):\n",
        "            if i == j:\n",
        "                row.append(blocks_2x2[i])\n",
        "            else:\n",
        "                row.append(zeros(block_size, block_size))\n",
        "        block_matrix_data.append(row)\n",
        "\n",
        "    return BlockMatrix(block_matrix_data)\n",
        "\n",
        "def build_block_matrix_standard(blocks_2x2):\n",
        "    num_blocks = len(blocks_2x2)\n",
        "    block_size = 2\n",
        "    size = num_blocks * block_size\n",
        "    block_matrix = build_block_matrix(blocks_2x2)\n",
        "    return block_matrix.as_explicit()\n",
        "\n",
        "p, q = symbols('p q')\n",
        "n = 3\n",
        "block = Matrix(([p, 1], [1, q]))\n",
        "blocks = []\n",
        "\n",
        "for _ in range(n):\n",
        "  blocks.append(block)\n",
        "M = build_block_matrix_standard(blocks)\n",
        "m_det = M.det()\n",
        "display(m_det)\n",
        "for i in range(2, 9, 2):\n",
        "  equ = Eq(m_det.subs(p, i), 0)\n",
        "  for x in solve(equ, q):\n",
        "    display(M.subs(p, i).subs(q, x))"
      ],
      "metadata": {
        "id": "7B9xHg3-p9wU",
        "colab": {
          "base_uri": "https://localhost:8080/",
          "height": 529
        },
        "outputId": "3f09b3cd-65f5-4725-ae4b-9846a10f7ab3"
      },
      "execution_count": null,
      "outputs": [
        {
          "output_type": "display_data",
          "data": {
            "text/plain": [
              "(p*q - 1)**3"
            ],
            "text/latex": "$\\displaystyle \\left(p q - 1\\right)^{3}$"
          },
          "metadata": {}
        },
        {
          "output_type": "display_data",
          "data": {
            "text/plain": [
              "Matrix([\n",
              "[2,   1, 0,   0, 0,   0],\n",
              "[1, 1/2, 0,   0, 0,   0],\n",
              "[0,   0, 2,   1, 0,   0],\n",
              "[0,   0, 1, 1/2, 0,   0],\n",
              "[0,   0, 0,   0, 2,   1],\n",
              "[0,   0, 0,   0, 1, 1/2]])"
            ],
            "text/latex": "$\\displaystyle \\left[\\begin{matrix}2 & 1 & 0 & 0 & 0 & 0\\\\1 & \\frac{1}{2} & 0 & 0 & 0 & 0\\\\0 & 0 & 2 & 1 & 0 & 0\\\\0 & 0 & 1 & \\frac{1}{2} & 0 & 0\\\\0 & 0 & 0 & 0 & 2 & 1\\\\0 & 0 & 0 & 0 & 1 & \\frac{1}{2}\\end{matrix}\\right]$"
          },
          "metadata": {}
        },
        {
          "output_type": "display_data",
          "data": {
            "text/plain": [
              "Matrix([\n",
              "[4,   1, 0,   0, 0,   0],\n",
              "[1, 1/4, 0,   0, 0,   0],\n",
              "[0,   0, 4,   1, 0,   0],\n",
              "[0,   0, 1, 1/4, 0,   0],\n",
              "[0,   0, 0,   0, 4,   1],\n",
              "[0,   0, 0,   0, 1, 1/4]])"
            ],
            "text/latex": "$\\displaystyle \\left[\\begin{matrix}4 & 1 & 0 & 0 & 0 & 0\\\\1 & \\frac{1}{4} & 0 & 0 & 0 & 0\\\\0 & 0 & 4 & 1 & 0 & 0\\\\0 & 0 & 1 & \\frac{1}{4} & 0 & 0\\\\0 & 0 & 0 & 0 & 4 & 1\\\\0 & 0 & 0 & 0 & 1 & \\frac{1}{4}\\end{matrix}\\right]$"
          },
          "metadata": {}
        },
        {
          "output_type": "display_data",
          "data": {
            "text/plain": [
              "Matrix([\n",
              "[6,   1, 0,   0, 0,   0],\n",
              "[1, 1/6, 0,   0, 0,   0],\n",
              "[0,   0, 6,   1, 0,   0],\n",
              "[0,   0, 1, 1/6, 0,   0],\n",
              "[0,   0, 0,   0, 6,   1],\n",
              "[0,   0, 0,   0, 1, 1/6]])"
            ],
            "text/latex": "$\\displaystyle \\left[\\begin{matrix}6 & 1 & 0 & 0 & 0 & 0\\\\1 & \\frac{1}{6} & 0 & 0 & 0 & 0\\\\0 & 0 & 6 & 1 & 0 & 0\\\\0 & 0 & 1 & \\frac{1}{6} & 0 & 0\\\\0 & 0 & 0 & 0 & 6 & 1\\\\0 & 0 & 0 & 0 & 1 & \\frac{1}{6}\\end{matrix}\\right]$"
          },
          "metadata": {}
        },
        {
          "output_type": "display_data",
          "data": {
            "text/plain": [
              "Matrix([\n",
              "[8,   1, 0,   0, 0,   0],\n",
              "[1, 1/8, 0,   0, 0,   0],\n",
              "[0,   0, 8,   1, 0,   0],\n",
              "[0,   0, 1, 1/8, 0,   0],\n",
              "[0,   0, 0,   0, 8,   1],\n",
              "[0,   0, 0,   0, 1, 1/8]])"
            ],
            "text/latex": "$\\displaystyle \\left[\\begin{matrix}8 & 1 & 0 & 0 & 0 & 0\\\\1 & \\frac{1}{8} & 0 & 0 & 0 & 0\\\\0 & 0 & 8 & 1 & 0 & 0\\\\0 & 0 & 1 & \\frac{1}{8} & 0 & 0\\\\0 & 0 & 0 & 0 & 8 & 1\\\\0 & 0 & 0 & 0 & 1 & \\frac{1}{8}\\end{matrix}\\right]$"
          },
          "metadata": {}
        }
      ]
    },
    {
      "cell_type": "markdown",
      "metadata": {
        "id": "sr7hz7rNaU1y"
      },
      "source": [
        "### Индивидуальное задание.\n",
        "1) В матрице $A$ выполнить заданную подстановку.\n",
        "\n",
        "2) В матрице $B$\n",
        "выполнить подстановки в форме списка,\n",
        "а также выполнить подстановки в форме словаря.\n",
        "\n",
        "Подстановки в форме словаря выполнить одновременно и не одновременно.\n",
        "\n",
        "\n",
        "Результат каждой подстановки выводить в виде отдельной матрицы."
      ]
    },
    {
      "cell_type": "code",
      "source": [
        "k, p = symbols('k p')\n",
        "A = Matrix([[16, k+3, 10, 9], [11, 3, 19, 7], [1, 13, 8, 15], [p + 4, 13, 18, 19], [11, 13, 9, 11]])\n",
        "display(A.subs(k, 3*p/k))\n",
        "print()\n",
        "m, p, g, b, w, q= symbols('m p g b w q')\n",
        "sbs = [[m, 4*b*p], [p, 3*m*p], [g, 5*m*p]]\n",
        "B = Matrix([[11, p, 2, 9, 16, 17], [8, 5, 1, 9, b, 18], [11, 17, 12, 3, 8, 7], [11, g-3, m + 1, 14, 14, w+1]])\n",
        "for sb in sbs:\n",
        "  B2 = B.subs(sb[0], sb[1])\n",
        "d = dict({p : m -4, m : p + 4})\n",
        "display(B2)\n",
        "print()\n",
        "display(B.subs(p, d[p]).subs(m, d[m]))\n",
        "print()\n",
        "B3 = B.subs(p, d[p].subs(m, q)).subs(m, d[m]).subs(q, m)\n",
        "display(B3)"
      ],
      "metadata": {
        "id": "9f475Os8p_Qk",
        "colab": {
          "base_uri": "https://localhost:8080/",
          "height": 416
        },
        "outputId": "96498951-9be9-41bc-96c2-d3bd23624161"
      },
      "execution_count": null,
      "outputs": [
        {
          "output_type": "display_data",
          "data": {
            "text/plain": [
              "Matrix([\n",
              "[   16, 3 + 3*p/k, 10,  9],\n",
              "[   11,         3, 19,  7],\n",
              "[    1,        13,  8, 15],\n",
              "[p + 4,        13, 18, 19],\n",
              "[   11,        13,  9, 11]])"
            ],
            "text/latex": "$\\displaystyle \\left[\\begin{matrix}16 & 3 + \\frac{3 p}{k} & 10 & 9\\\\11 & 3 & 19 & 7\\\\1 & 13 & 8 & 15\\\\p + 4 & 13 & 18 & 19\\\\11 & 13 & 9 & 11\\end{matrix}\\right]$"
          },
          "metadata": {}
        },
        {
          "output_type": "stream",
          "name": "stdout",
          "text": [
            "\n"
          ]
        },
        {
          "output_type": "display_data",
          "data": {
            "text/plain": [
              "Matrix([\n",
              "[11,         p,     2,  9, 16,    17],\n",
              "[ 8,         5,     1,  9,  b,    18],\n",
              "[11,        17,    12,  3,  8,     7],\n",
              "[11, 5*m*p - 3, m + 1, 14, 14, w + 1]])"
            ],
            "text/latex": "$\\displaystyle \\left[\\begin{matrix}11 & p & 2 & 9 & 16 & 17\\\\8 & 5 & 1 & 9 & b & 18\\\\11 & 17 & 12 & 3 & 8 & 7\\\\11 & 5 m p - 3 & m + 1 & 14 & 14 & w + 1\\end{matrix}\\right]$"
          },
          "metadata": {}
        },
        {
          "output_type": "stream",
          "name": "stdout",
          "text": [
            "\n"
          ]
        },
        {
          "output_type": "display_data",
          "data": {
            "text/plain": [
              "Matrix([\n",
              "[11,     p,     2,  9, 16,    17],\n",
              "[ 8,     5,     1,  9,  b,    18],\n",
              "[11,    17,    12,  3,  8,     7],\n",
              "[11, g - 3, p + 5, 14, 14, w + 1]])"
            ],
            "text/latex": "$\\displaystyle \\left[\\begin{matrix}11 & p & 2 & 9 & 16 & 17\\\\8 & 5 & 1 & 9 & b & 18\\\\11 & 17 & 12 & 3 & 8 & 7\\\\11 & g - 3 & p + 5 & 14 & 14 & w + 1\\end{matrix}\\right]$"
          },
          "metadata": {}
        },
        {
          "output_type": "stream",
          "name": "stdout",
          "text": [
            "\n"
          ]
        },
        {
          "output_type": "display_data",
          "data": {
            "text/plain": [
              "Matrix([\n",
              "[11, m - 4,     2,  9, 16,    17],\n",
              "[ 8,     5,     1,  9,  b,    18],\n",
              "[11,    17,    12,  3,  8,     7],\n",
              "[11, g - 3, p + 5, 14, 14, w + 1]])"
            ],
            "text/latex": "$\\displaystyle \\left[\\begin{matrix}11 & m - 4 & 2 & 9 & 16 & 17\\\\8 & 5 & 1 & 9 & b & 18\\\\11 & 17 & 12 & 3 & 8 & 7\\\\11 & g - 3 & p + 5 & 14 & 14 & w + 1\\end{matrix}\\right]$"
          },
          "metadata": {}
        }
      ]
    }
  ]
}