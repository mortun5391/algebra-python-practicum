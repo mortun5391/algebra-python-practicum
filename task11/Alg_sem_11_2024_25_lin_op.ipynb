{
  "nbformat": 4,
  "nbformat_minor": 0,
  "metadata": {
    "kernelspec": {
      "display_name": "Python 3",
      "language": "python",
      "name": "python3"
    },
    "language_info": {
      "codemirror_mode": {
        "name": "ipython",
        "version": 3
      },
      "file_extension": ".py",
      "mimetype": "text/x-python",
      "name": "python",
      "nbconvert_exporter": "python",
      "pygments_lexer": "ipython3",
      "version": "3.7.3"
    },
    "colab": {
      "provenance": []
    }
  },
  "cells": [
    {
      "cell_type": "code",
      "metadata": {
        "id": "JkaN7ogu-Gaq"
      },
      "source": [
        "import sympy\n",
        "import numpy as np\n",
        "from sympy import latex, Matrix, plot, solve, linsolve, symbols, eye, zeros\n",
        "from sympy import lambdify, S, Point, Line\n",
        "from sympy import pi as Pi\n",
        "from sympy import cos as Cos\n",
        "from sympy import sin as Sin\n",
        "from sympy.vector import Vector, matrix_to_vector, AxisOrienter, express\n",
        "from sympy.vector import CoordSys3D\n",
        "import matplotlib.pyplot as plt\n",
        "from IPython.display import Latex"
      ],
      "execution_count": 47,
      "outputs": []
    },
    {
      "cell_type": "markdown",
      "metadata": {
        "id": "WYm6Ebe2-Ga6"
      },
      "source": [
        "# Практическое занятие 11\n",
        "# Компьютерный практикум по алгебре на Python\n",
        "## Линейные операторы на плоскости и в пространстве\n",
        "**Линейный оператор** осуществляет **линейное отображение** линейного пространства на линейное пространство:\n",
        "$$\n",
        "A:\\ Ax=y,\\quad x\\in X, y \\in Y,\n",
        "$$\n",
        "при этом\n",
        "$$\n",
        "A(a_1x'+a_2x'')=a_1Ax'+a_2Ax''=a_1y'+a_2y'',\n",
        "$$\n",
        "где $a_1$ и $a_2$ - числа, $x'$ и $x''$ - элементы линейного пространства $X$, $y'$ и $y''$ - элементы линейного пространства $Y$.\n",
        "\n",
        "$X$ и $Y$ могут быть разными или совпадать.\n",
        "\n",
        "$x'$ и $x''$ - **прообразы** при линейном отображении $A$.\n",
        "\n",
        "$y'$ и $y''$ - **образы** $x'$ и $x''$ при линейном отображении $A$.\n",
        "\n",
        "Множество образов всех векторов пространства $X$ при линейном отображении $A$ называется **образом линейного оператора**.\n",
        "\n",
        "Ввиду линейности оператора его ***образ полностью определяется образами базисных векторов*** $(e_1,e_2,...,e_n)$ пространства $X$, поскольку любой вектор $x$ пространства $X$ можно представить в виде $x=x_1e_1+x_2e_2+...+x_ne_n$,\n",
        "откуда из линейности оператора следует  $Ax=A(x_1e_1+x_2e_2+...+x_ne_n)=x_1Ae_1+x_2Ae_2+...+x_nAe_n$.\n",
        "\n",
        "Раскладывая векторы $Ae_k$, $k=1,2,..,n$ по базису $f_1,f_2,...,f_m$ пространства $Y$, получим\n",
        "$Ae_k=a_{1k}f_1+a_{2k}f_2+...+a_{mk}f_m$, поэтому\n",
        "$$\n",
        "Ax=x_1Ae_1+...+x_nAe_n=x_1(a_{11}f_1+a_{21}f_2+...+a_{m1}f_m)+...+x_n(a_{1n}f_1+a_{2n}f_2+...+a_{mn}f_m).\n",
        "$$\n",
        "Сгруппируем слагаемые по базисным векторам $f_1,f_2,...,f_m$:\n",
        "$$\n",
        "Ax=(x_1a_{11}+...+x_na_{1n})f_1+(x_1a_{21}+...+x_na_{2n})f_2+...+(x_1a_{m1}+...+x_na_{mn})f_m\n",
        "$$\n",
        "Таким образом, координаты $y_1,y_2,...,y_m$ образа $Ax$ вектора $x$ выражаются через координаты $x_1$, $x_2$,...+$x_n$ вектора $x$ в базисе $(e_1,e_2,...,e_n)$ пространства $X$ и координаты $a_{ij}$ образов базисных векторов $f_1,f_2,...,f_m$ пространства $Y$ при линейном отображении $A$:\n",
        "$$\n",
        "y_j=x_1a_{j1}+x_2a_{j2}+...+x_na_{jn},\\quad j=1,...m,\n",
        "$$\n",
        "в матричной форме это запишется как $y=Ax$, где $A$ - матрица с элементами $a_{ij}$ - $i$-я координата $j$-го базисного вектора $e_j$, т.е. матрица $A$ состоит из векторов - столбцов образов базисных векторов.\n",
        "\n",
        "### Пример 1.\n",
        "Построим матрицу оператора А, поворачивающего вектор на угол $\\alpha$ против часовой стрелки. Такой оператор переводит вектор $(1,0)$ в вектор $(\\cos\\alpha,\\sin\\alpha)$, $(0,1)$ в $(-\\sin\\alpha,\\cos\\alpha)$, поэтому матрица $A$ имеет вид\n",
        "$$\n",
        "\\left(\\begin{matrix}\\cos\\alpha&-\\sin\\alpha\\\\ \\sin\\alpha&\\cos\\alpha\\end{matrix}\\right)\n",
        "$$"
      ]
    },
    {
      "cell_type": "code",
      "metadata": {
        "id": "M0wrDpZA-Ga-",
        "outputId": "eb72aad0-4b07-4ed4-b3fa-4d919613e42a",
        "colab": {
          "base_uri": "https://localhost:8080/",
          "height": 61
        }
      },
      "source": [
        "alpha = Pi / 3\n",
        "A = Matrix([[Cos(alpha), -Sin(alpha)], [Sin(alpha), Cos(alpha)]])\n",
        "e1 = Matrix([1, 0])\n",
        "e2 = Matrix([0, 1])\n",
        "display(Latex(f'Ae_1 = {latex(A * e1)}, Ae_2 = {latex(A * e2)}'))"
      ],
      "execution_count": 48,
      "outputs": [
        {
          "output_type": "display_data",
          "data": {
            "text/plain": [
              "<IPython.core.display.Latex object>"
            ],
            "text/latex": "Ae_1 = \\left[\\begin{matrix}\\frac{1}{2}\\\\\\frac{\\sqrt{3}}{2}\\end{matrix}\\right], Ae_2 = \\left[\\begin{matrix}- \\frac{\\sqrt{3}}{2}\\\\\\frac{1}{2}\\end{matrix}\\right]"
          },
          "metadata": {}
        }
      ]
    },
    {
      "cell_type": "markdown",
      "source": [
        "Для удобства опишем в виде функции изображение вектора на плоскости, цвет по умолчанию красный.\n",
        "Используем эту функцию для изображения нескольких векторов, аргументы - tuple из вектора и цвета, что позволит каждый вектор изобразить своим цветом."
      ],
      "metadata": {
        "id": "e1Z8tXQOCJFj"
      }
    },
    {
      "cell_type": "code",
      "metadata": {
        "id": "t2rtcsQR-GbB",
        "outputId": "8d1b3c64-4096-4f8f-f808-3cc132303701",
        "colab": {
          "base_uri": "https://localhost:8080/",
          "height": 448
        }
      },
      "source": [
        "def plotvec(vect, **kwargs):\n",
        "    x, y = [float(item) for item in vect]\n",
        "    plt.plot([0, x], [0, y], **kwargs)\n",
        "    plt.arrow(0, 0, x, y, head_width=0.05, **kwargs)\n",
        "    return None\n",
        "\n",
        "def plotvecs(*vecscolors):\n",
        "    for item in vecscolors:\n",
        "        plotvec(item[0], color=item[1])\n",
        "    return None\n",
        "\n",
        "plotvecs((e1, 'r'), (e2, 'g'), (A * e1, 'm'), (A * e2, 'y'))\n",
        "plt.axis('equal')\n",
        "plt.annotate('', xy=(-0.3, 0.15), xytext=(0.0, 0.3),\n",
        "             arrowprops=dict(arrowstyle=\"->\", connectionstyle=\"arc3\"))\n",
        "plt.annotate(latex(alpha, mode='inline'), xy=(-0.2, 0.3), fontsize=16)\n",
        "plt.annotate('', xy=(0.1, 0.2), xytext=(0.3, 0.0),\n",
        "             arrowprops=dict(arrowstyle=\"->\", connectionstyle=\"arc3\"))\n",
        "plt.annotate(latex(alpha, mode='inline'), xy=(0.25, 0.1), fontsize=16)"
      ],
      "execution_count": 49,
      "outputs": [
        {
          "output_type": "execute_result",
          "data": {
            "text/plain": [
              "Text(0.25, 0.1, '$\\\\pi / 3$')"
            ]
          },
          "metadata": {},
          "execution_count": 49
        },
        {
          "output_type": "display_data",
          "data": {
            "text/plain": [
              "<Figure size 640x480 with 1 Axes>"
            ],
            "image/png": "[encoded data removed]"
          },
          "metadata": {}
        }
      ]
    },
    {
      "cell_type": "markdown",
      "metadata": {
        "id": "lHiWv61B-GbC"
      },
      "source": [
        "Проверим, что при умножении матрицы А на произвольный вектор плоскости получается вектор, образующий угол с исходным вектором. Воспользуемся возможностями модуля Geometry:"
      ]
    },
    {
      "cell_type": "code",
      "metadata": {
        "id": "TglqrVvG-GbD",
        "outputId": "559d32ad-34dd-4749-c041-2a7d99efb58d",
        "colab": {
          "base_uri": "https://localhost:8080/",
          "height": 39
        }
      },
      "source": [
        "from sympy.abc import x, y\n",
        "O = Point(0, 0)\n",
        "M = Point(x, y)\n",
        "X = Matrix([x, y])\n",
        "AX = A * X\n",
        "B = Point(*AX)\n",
        "OM = Line(O, M)\n",
        "OB = Line(O, B)\n",
        "display(Latex(f'Угол\\ MOB\\ {latex(OM.angle_between(OB).simplify())}'))"
      ],
      "execution_count": 50,
      "outputs": [
        {
          "output_type": "display_data",
          "data": {
            "text/plain": [
              "<IPython.core.display.Latex object>"
            ],
            "text/latex": "Угол\\ MOB\\ \\frac{\\pi}{3}"
          },
          "metadata": {}
        }
      ]
    },
    {
      "cell_type": "markdown",
      "metadata": {
        "id": "OyHHWYdt-GbE"
      },
      "source": [
        "### Пример 2.\n",
        "\n",
        "Построить матрицу оператора, переводящего базисные векторы $i$, $j$ и $k$ трехмерного пространства в векторы\n",
        "$(1,2,3)$, $(-2,1,4)$ и $(2,0,5)$.\n",
        "Матрица такого оператора\n",
        "$$\n",
        "\\left(\\begin{matrix}\n",
        "1&-2&2\\\\\n",
        "2&1&0\\\\\n",
        "3&4&5\n",
        "\\end{matrix}\\right)\n",
        "$$"
      ]
    },
    {
      "cell_type": "code",
      "metadata": {
        "id": "IRq4l-rb-GbF",
        "outputId": "05a944c4-3e95-4944-d961-00096d10261d",
        "colab": {
          "base_uri": "https://localhost:8080/",
          "height": 78
        }
      },
      "source": [
        "A = Matrix([[1, -2, 2], [2, 1, 0], [3, 4, 5]])\n",
        "display(Latex(f'A = {latex(A)}'))"
      ],
      "execution_count": 51,
      "outputs": [
        {
          "output_type": "display_data",
          "data": {
            "text/plain": [
              "<IPython.core.display.Latex object>"
            ],
            "text/latex": "A = \\left[\\begin{matrix}1 & -2 & 2\\\\2 & 1 & 0\\\\3 & 4 & 5\\end{matrix}\\right]"
          },
          "metadata": {}
        }
      ]
    },
    {
      "cell_type": "markdown",
      "metadata": {
        "id": "ycej482t-GbG"
      },
      "source": [
        "Проверим, что при умножении базисных векторов на эту матрицу действительно получаются заданные векторы:"
      ]
    },
    {
      "cell_type": "code",
      "metadata": {
        "id": "u-Um5gz_-GbH",
        "outputId": "cfec8adf-d5f2-4470-f1a1-0720e65d236d",
        "colab": {
          "base_uri": "https://localhost:8080/",
          "height": 78
        }
      },
      "source": [
        "i = Matrix([1, 0, 0])\n",
        "j = Matrix([0, 1, 0])\n",
        "k = Matrix([0, 0, 1])\n",
        "vects_latex = [latex(A * vect) for vect in (i, j, k)]\n",
        "display(Latex('A_i = {},\\ A_j = {},\\ A_k = {}'.format(*vects_latex)))"
      ],
      "execution_count": 52,
      "outputs": [
        {
          "output_type": "display_data",
          "data": {
            "text/plain": [
              "<IPython.core.display.Latex object>"
            ],
            "text/latex": "A_i = \\left[\\begin{matrix}1\\\\2\\\\3\\end{matrix}\\right],\\ A_j = \\left[\\begin{matrix}-2\\\\1\\\\4\\end{matrix}\\right],\\ A_k = \\left[\\begin{matrix}2\\\\0\\\\5\\end{matrix}\\right]"
          },
          "metadata": {}
        }
      ]
    },
    {
      "cell_type": "markdown",
      "metadata": {
        "id": "pR0uZrLA-GbI"
      },
      "source": [
        "Найдем вектор, в который оператор переводит вектор $$\n",
        "\\left(\\begin{matrix}\n",
        "3\\\\\n",
        "-7\\\\\n",
        "9\n",
        "\\end{matrix}\\right)\n",
        "$$"
      ]
    },
    {
      "cell_type": "code",
      "metadata": {
        "id": "itpfgQrZ-GbJ",
        "outputId": "324ea7a8-0e15-4721-c99b-adc2417cdd2f",
        "colab": {
          "base_uri": "https://localhost:8080/",
          "height": 78
        }
      },
      "source": [
        "vec = Matrix([3, -7, 9])\n",
        "display(Latex(f'z = {latex(vec)},\\ A z = {latex(A * vec)}'))"
      ],
      "execution_count": 53,
      "outputs": [
        {
          "output_type": "display_data",
          "data": {
            "text/plain": [
              "<IPython.core.display.Latex object>"
            ],
            "text/latex": "z = \\left[\\begin{matrix}3\\\\-7\\\\9\\end{matrix}\\right],\\ A z = \\left[\\begin{matrix}35\\\\-1\\\\26\\end{matrix}\\right]"
          },
          "metadata": {}
        }
      ]
    },
    {
      "cell_type": "markdown",
      "metadata": {
        "id": "GioNLsc6-GbK"
      },
      "source": [
        "## Матрица линейного оператора в новом базисе\n",
        "Пусть в новом базисе у оператора А матрица $A_{new}$, тогда получить образ вектора $x$ можно так: зная координаты  $x$ в новом базисе, находим его координаты в старом базисе с помощью преобразования, определяемого матрицей $P$, потом к полученному вектору в старом базисе применяем оператор А, умножая вектор в старом базисе на матрицу А в старом же базисе, после чего переводим полученный образ из старого базиса в новый умножением на матрицу  $P^{-1}$.\n",
        "В итоге получается цепочка умножений $P^{-1}AP$, это произведение и есть матрица оператора А в новом базисе, где $P$ - матрица перехода от нового базиса к старому.\n",
        "\n",
        "Тонкость такая: базисные векторы нового базиса в новом базисе будут иметь координаты $(1,0,0)$, $(0,1,0)$ и $(0,0,1)$, точно как базисные векторы старого базиса в старом базисе, поэтому умножая вектор $v$ с координатами в новом базисе на матрицу  $P$ мы получим координаты вектора $v$ в старом базисе. Если требуется по координатам в старом базисе найти координаты в новом, нужно умножать на обратную матрицу, т.е. $P^{-1}$.\n",
        "$$\n",
        "A_{new}=P^{-1}AP\\qquad(1)\n",
        "$$\n",
        "\n",
        "### Пример 3.\n",
        "\n",
        "Найти матрицу оператора А примера 2 в базисе из векторов $(1,2,0)$, $(1,0,3)$ и $(0,1,5)$.\n",
        "\n",
        "Вначале составим матрицу перехода, она будет такой же, как матрица некоторого оператора, переводящего текущий базис $(1,0,0)$, $(0,1,0)$ и $(0,0,1)$ в новый:\n",
        "$$\n",
        "P=\\left(\\begin{matrix}\n",
        "1&1&0\\\\\n",
        "2&0&1\\\\\n",
        "0&3&5\n",
        "\\end{matrix}\\right)\n",
        "$$\n",
        "Затем найдем матрицу оператора в новом базисе по формуле (1)"
      ]
    },
    {
      "cell_type": "code",
      "metadata": {
        "id": "X016b94T-GbL",
        "outputId": "af904731-efac-4403-a89f-127839b788dd",
        "colab": {
          "base_uri": "https://localhost:8080/",
          "height": 78
        }
      },
      "source": [
        "P = Matrix([[1, 1, 0], [2, 0, 1], [0, 3, 5]])\n",
        "A_new = P ** (-1) * A * P\n",
        "display(Latex(f'P = {latex(P)}, A_{{new}} = {latex(A_new)}'))"
      ],
      "execution_count": 54,
      "outputs": [
        {
          "output_type": "display_data",
          "data": {
            "text/plain": [
              "<IPython.core.display.Latex object>"
            ],
            "text/latex": "P = \\left[\\begin{matrix}1 & 1 & 0\\\\2 & 0 & 1\\\\0 & 3 & 5\\end{matrix}\\right], A_{new} = \\left[\\begin{matrix}0 & 1 & 0\\\\-3 & 6 & 8\\\\4 & 0 & 1\\end{matrix}\\right]"
          },
          "metadata": {}
        }
      ]
    },
    {
      "cell_type": "markdown",
      "metadata": {
        "id": "mbRZF6hl-GbM"
      },
      "source": [
        "Проследим за трансформацией новых базисных векторов $f_1$, $f_2$, $f_3$. Вначале найдем их образы при операторе А, умножая их на матрицу А в старом базисе, поскольку мы знаем координаты новых базисных векторов в старом базисе:"
      ]
    },
    {
      "cell_type": "code",
      "metadata": {
        "id": "C2eJoClo-GbN",
        "outputId": "ba6275d1-c23e-459c-adad-450dea4fb1f5",
        "colab": {
          "base_uri": "https://localhost:8080/",
          "height": 78
        }
      },
      "source": [
        "f1 = Matrix((1, 2, 0))\n",
        "f2 = Matrix((1, 0, 3))\n",
        "f3 = Matrix((0, 1, 5))\n",
        "vects_latex = [latex(A * vect) for vect in (f1, f2, f3)]\n",
        "display(Latex('Af_1 = {}, Af_2 = {}, Af_3 = {}'.format(*vects_latex)))"
      ],
      "execution_count": 55,
      "outputs": [
        {
          "output_type": "display_data",
          "data": {
            "text/plain": [
              "<IPython.core.display.Latex object>"
            ],
            "text/latex": "Af_1 = \\left[\\begin{matrix}-3\\\\4\\\\11\\end{matrix}\\right], Af_2 = \\left[\\begin{matrix}7\\\\2\\\\18\\end{matrix}\\right], Af_3 = \\left[\\begin{matrix}8\\\\1\\\\29\\end{matrix}\\right]"
          },
          "metadata": {}
        }
      ]
    },
    {
      "cell_type": "markdown",
      "metadata": {
        "id": "KpgNkJN8-GbN"
      },
      "source": [
        "Мы получили координаты образов векторов нового базиса в старом базисе, теперь нужно найти координаты полученных векторов в новом базисе. Для этого нужно умножить векторы на матрицу, обратную к матрице $P$:"
      ]
    },
    {
      "cell_type": "code",
      "metadata": {
        "id": "V-mDh_RJ-GbO",
        "outputId": "58b79978-b3c8-4c94-ed80-74d55d2e65ec",
        "colab": {
          "base_uri": "https://localhost:8080/",
          "height": 78
        }
      },
      "source": [
        "Pinv = 'P^{-1}'\n",
        "vects_latex = [latex(P ** (-1) *A * vect) for vect in (f1, f2, f3)]\n",
        "display(Latex(\"\"\"{Pinv}Af_1 = {},\n",
        "{Pinv}Af_2 = {}, {Pinv}Af_3 = {}\"\"\".format(Pinv=Pinv, *vects_latex)))"
      ],
      "execution_count": 56,
      "outputs": [
        {
          "output_type": "display_data",
          "data": {
            "text/plain": [
              "<IPython.core.display.Latex object>"
            ],
            "text/latex": "P^{-1}Af_1 = \\left[\\begin{matrix}0\\\\-3\\\\4\\end{matrix}\\right],\nP^{-1}Af_2 = \\left[\\begin{matrix}1\\\\6\\\\0\\end{matrix}\\right], P^{-1}Af_3 = \\left[\\begin{matrix}0\\\\8\\\\1\\end{matrix}\\right]"
          },
          "metadata": {}
        }
      ]
    },
    {
      "cell_type": "markdown",
      "metadata": {
        "id": "3DlNfvvg-GbO"
      },
      "source": [
        "## Собственные числа и собственные векторы линейного оператора.\n",
        "\n",
        "Пусть для некоторого ненулевого вектора $x$ и числа $\\lambda$ выполняется **$$Ax=\\lambda x, \\quad x\\neq0,$$**\n",
        "тогда $\\lambda$ - **собственное число** линейного оператора $A$, а $x$ - **собственный вектор**, соответствующий собственному числу $\\lambda$.\n",
        "\n",
        "Собственные числа не зависят от выбора базиса!\n",
        "\n",
        "Находить собственные числа можно, решая **характеристическое уравнение** $|A-\\lambda E|=0$, где $E$ - единичная матрица подходящей размерности.\n",
        "\n",
        "Собственные векторы получаются как решения СЛАУ $(A-\\lambda E)x=0$, где $\\lambda$ - соответствующее собственное число.\n",
        "\n",
        "В sympy есть средства вычисления собственных чисел и векторов\n",
        "\n",
        "**eigenvals** (словарь, ключи - собственные числа, значения - их кратности)\n",
        "\n",
        "**eigenvects** (список кортежей, первый элемент кортежа - собственное число, второй - его кратность, третий - список собственных векторов, соответствующих этому собственному числу)\n",
        "\n",
        "Если у оператора в трехмерном пространстве есть три собственных вектора, то в базисе из этих векторов матрица оператора диагональная, на диагонали - собственные числа оператора.\n",
        "\n",
        "### Пример 3.\n",
        "Дана матрица оператора В:\n",
        "$$\n",
        "\\left(\\begin{matrix}\n",
        "51&-8&-12\\\\\n",
        "9&33&-18\\\\\n",
        "-18&-6&66\n",
        "\\end{matrix}\\right)\n",
        "$$\n",
        "\n",
        "Найти матрицу оператора B в базисе из собственных векторов.\n",
        "\n",
        "Вначале найдем собственные векторы:"
      ]
    },
    {
      "cell_type": "code",
      "metadata": {
        "id": "fHY52fYe-GbP",
        "outputId": "85a60d3a-e862-4557-c107-6b1f9bac601a",
        "colab": {
          "base_uri": "https://localhost:8080/",
          "height": 78
        }
      },
      "source": [
        "B = Matrix([[51, -8, -12], [9, 33, -18], [-18, -6, 66]])\n",
        "res = B.eigenvects()\n",
        "display(Latex(latex(res)))"
      ],
      "execution_count": 57,
      "outputs": [
        {
          "output_type": "display_data",
          "data": {
            "text/plain": [
              "<IPython.core.display.Latex object>"
            ],
            "text/latex": "\\left[ \\left( 30, \\  1, \\  \\left[ \\left[\\begin{matrix}\\frac{4}{3}\\\\2\\\\1\\end{matrix}\\right]\\right]\\right), \\  \\left( 45, \\  1, \\  \\left[ \\left[\\begin{matrix}\\frac{4}{3}\\\\- \\frac{1}{2}\\\\1\\end{matrix}\\right]\\right]\\right), \\  \\left( 75, \\  1, \\  \\left[ \\left[\\begin{matrix}- \\frac{1}{3}\\\\- \\frac{1}{2}\\\\1\\end{matrix}\\right]\\right]\\right)\\right]"
          },
          "metadata": {}
        }
      ]
    },
    {
      "cell_type": "markdown",
      "metadata": {
        "id": "uYH9dwIw-GbQ"
      },
      "source": [
        "Составим матрицу перехода, она состоит из столбцов с координатами собственных векторов в старом базисе:"
      ]
    },
    {
      "cell_type": "code",
      "metadata": {
        "id": "BEK2yHaE-GbR",
        "outputId": "65d5f45c-e585-4a6e-ccc1-ce7e55e8b1ad",
        "colab": {
          "base_uri": "https://localhost:8080/",
          "height": 78
        }
      },
      "source": [
        "P = res[0][2][0].row_join(res[1][2][0]).row_join(res[2][2][0])\n",
        "display(Latex(f'P = {latex(P)},\\ |P| = {P.det()}'))"
      ],
      "execution_count": 58,
      "outputs": [
        {
          "output_type": "display_data",
          "data": {
            "text/plain": [
              "<IPython.core.display.Latex object>"
            ],
            "text/latex": "P = \\left[\\begin{matrix}\\frac{4}{3} & \\frac{4}{3} & - \\frac{1}{3}\\\\2 & - \\frac{1}{2} & - \\frac{1}{2}\\\\1 & 1 & 1\\end{matrix}\\right],\\ |P| = -25/6"
          },
          "metadata": {}
        }
      ]
    },
    {
      "cell_type": "markdown",
      "metadata": {
        "id": "o1lnGpZe-GbR"
      },
      "source": [
        "Найдем матрицу в базисе из собственных векторов по формуле (1) перед примером 3:"
      ]
    },
    {
      "cell_type": "code",
      "metadata": {
        "id": "h7z7ftE9-GbS",
        "outputId": "ea97301d-0d7f-4912-d4a8-feb3dcc4aa68",
        "colab": {
          "base_uri": "https://localhost:8080/",
          "height": 78
        }
      },
      "source": [
        "B_new = P ** (-1) * B * P\n",
        "display(Latex(f'B_{{new}} = {latex(B_new)}'))"
      ],
      "execution_count": 59,
      "outputs": [
        {
          "output_type": "display_data",
          "data": {
            "text/plain": [
              "<IPython.core.display.Latex object>"
            ],
            "text/latex": "B_{new} = \\left[\\begin{matrix}30 & 0 & 0\\\\0 & 45 & 0\\\\0 & 0 & 75\\end{matrix}\\right]"
          },
          "metadata": {}
        }
      ]
    },
    {
      "cell_type": "markdown",
      "metadata": {
        "id": "90-Rkcfy-GbS"
      },
      "source": [
        "Поменяем в матрице P последовательность векторов, поменяем местами второй и третий векторы:"
      ]
    },
    {
      "cell_type": "code",
      "metadata": {
        "id": "U4k6Zdw0-GbT",
        "outputId": "ef5fb520-3ab5-4afd-d573-7981bd766abe",
        "colab": {
          "base_uri": "https://localhost:8080/",
          "height": 78
        }
      },
      "source": [
        "P_new = P[:, 0].row_join(P[:, 2]).row_join(P[:, 1])\n",
        "B_new_1 = P_new ** (-1) * B * P_new\n",
        "display(Latex(f'P_{{new}} = {latex(P_new)},\\\n",
        "\\ B_{{new}}^1 = {latex(B_new_1)}'))"
      ],
      "execution_count": 60,
      "outputs": [
        {
          "output_type": "display_data",
          "data": {
            "text/plain": [
              "<IPython.core.display.Latex object>"
            ],
            "text/latex": "P_{new} = \\left[\\begin{matrix}\\frac{4}{3} & - \\frac{1}{3} & \\frac{4}{3}\\\\2 & - \\frac{1}{2} & - \\frac{1}{2}\\\\1 & 1 & 1\\end{matrix}\\right],\\ B_{new}^1 = \\left[\\begin{matrix}30 & 0 & 0\\\\0 & 75 & 0\\\\0 & 0 & 45\\end{matrix}\\right]"
          },
          "metadata": {}
        }
      ]
    },
    {
      "cell_type": "markdown",
      "metadata": {
        "id": "ZJNzlTbf-GbU"
      },
      "source": [
        "Заметим, что изменилась последовательность собственных чисел на главной диагонали, причем в соответствии с изменением порядка следования собственных векторов в матрице перехода."
      ]
    },
    {
      "cell_type": "markdown",
      "metadata": {
        "id": "RPv1e23H-GbU"
      },
      "source": [
        "### Пример 4\n",
        "\n",
        "Найдем собственные числа по определению, т.е. как корни характеристического многочлена $|B-\\lambda E|=0$"
      ]
    },
    {
      "cell_type": "code",
      "metadata": {
        "id": "ZRBGErC_-GbV",
        "outputId": "476c6e92-b630-4e7a-b099-0be49d2fe9b7",
        "colab": {
          "base_uri": "https://localhost:8080/",
          "height": 39
        }
      },
      "source": [
        "lam = symbols('lamda')\n",
        "lambdas = solve((B - lam * eye(3)).det())\n",
        "display(Latex('\\lambda = ' + \\\n",
        "              ',\\ '.join(['{}'] * len(lambdas)).format(*lambdas)))"
      ],
      "execution_count": 61,
      "outputs": [
        {
          "output_type": "display_data",
          "data": {
            "text/plain": [
              "<IPython.core.display.Latex object>"
            ],
            "text/latex": "\\lambda = 30,\\ 45,\\ 75"
          },
          "metadata": {}
        }
      ]
    },
    {
      "cell_type": "markdown",
      "metadata": {
        "id": "pQ0g__vq-GbV"
      },
      "source": [
        "Для каждого собственного числа найдем собственный вектор, решив СЛАУ $(B-\\lambda E)x=0$:"
      ]
    },
    {
      "cell_type": "code",
      "metadata": {
        "id": "GhCiAJ0H-GbW",
        "outputId": "7ede9cb7-c8c3-4d43-a100-e271d3639b23",
        "colab": {
          "base_uri": "https://localhost:8080/",
          "height": 78
        }
      },
      "source": [
        "evects = set()\n",
        "zero_vect = zeros(3, 1)\n",
        "k1, k2, k3 = symbols('k1:4')\n",
        "for lam in lambdas:\n",
        "    sol = linsolve(((B - lam * eye(3)), zero_vect), k1, k2, k3)\n",
        "    evects = sympy.Union(evects, sol)\n",
        "P = Matrix([p.subs(symb, 1) for p in evects for symb in p.free_symbols]).T\n",
        "display(Latex('e_1 = {}, e_2 = {},\\\n",
        " e_3 = {}, P = {}'.format(*[latex(item) for item in evects], latex(P))))"
      ],
      "execution_count": 62,
      "outputs": [
        {
          "output_type": "display_data",
          "data": {
            "text/plain": [
              "<IPython.core.display.Latex object>"
            ],
            "text/latex": "e_1 = \\left( - \\frac{k_{3}}{3}, \\  - \\frac{k_{3}}{2}, \\  k_{3}\\right), e_2 = \\left( \\frac{4 k_{3}}{3}, \\  - \\frac{k_{3}}{2}, \\  k_{3}\\right), e_3 = \\left( \\frac{4 k_{3}}{3}, \\  2 k_{3}, \\  k_{3}\\right), P = \\left[\\begin{matrix}- \\frac{1}{3} & \\frac{4}{3} & \\frac{4}{3}\\\\- \\frac{1}{2} & - \\frac{1}{2} & 2\\\\1 & 1 & 1\\end{matrix}\\right]"
          },
          "metadata": {}
        }
      ]
    },
    {
      "cell_type": "markdown",
      "source": [
        "# Sympy-Numpy взаимодействие\n",
        "### Пример 5\n",
        "Опишем функцию, использующую Sympy, возвращающую длину вектора с координатами $(\\sin(\\phi), \\sin(2\\phi), \\sin(3\\phi))$. Этой функции в качестве аргумента можно передавать числовые объекты Sympy, например число $\\pi$.\n",
        "\n",
        "В теле функции введем безымянную систему координат, составим вектор и применим к нему метод magnitude для вычисления длины."
      ],
      "metadata": {
        "id": "GDqn5Wj2h_qf"
      }
    },
    {
      "cell_type": "code",
      "source": [
        "def vect_angle(phi):\n",
        "    Sys = CoordSys3D('')\n",
        "    vect = Cos(phi) * Sys.i + Cos(2 * phi) * Sys.j + Cos(3 * phi) * Sys.k\n",
        "    return vect.magnitude()"
      ],
      "metadata": {
        "id": "nIpnO2TtqSDm"
      },
      "execution_count": 68,
      "outputs": []
    },
    {
      "cell_type": "markdown",
      "source": [
        "Выведем на экран несколько значений этой функции с аргументом, равным $\\pi/3$, $-\\pi/4$ и $\\pi/6$."
      ],
      "metadata": {
        "id": "SLy0uBIqGi5Q"
      }
    },
    {
      "cell_type": "code",
      "source": [
        "phi = S('phi')\n",
        "phi_arr = (sympy.pi / 3,  -sympy.pi / 4, sympy.pi / 6)\n",
        "n = len(phi_arr)\n",
        "display(Latex(',\\ '.join(['{}:\\ длина\\ {}\\ '.format(*map(latex,\\\n",
        "(phi_val, vect_angle(phi_val)))) for phi_val in phi_arr])))"
      ],
      "metadata": {
        "colab": {
          "base_uri": "https://localhost:8080/",
          "height": 40
        },
        "id": "YM0aikevrnqw",
        "outputId": "83c9093a-8725-4d49-e682-ab63112a1a02"
      },
      "execution_count": 76,
      "outputs": [
        {
          "output_type": "display_data",
          "data": {
            "text/plain": [
              "<IPython.core.display.Latex object>"
            ],
            "text/latex": "\\frac{\\pi}{3}:\\ длина\\ \\frac{\\sqrt{6}}{2}\\ ,\\ - \\frac{\\pi}{4}:\\ длина\\ 1\\ ,\\ \\frac{\\pi}{6}:\\ длина\\ 1\\ "
          },
          "metadata": {}
        }
      ]
    },
    {
      "cell_type": "markdown",
      "source": [
        "Создадим на основе этой функции ее двойник для numpy, назовем vect_angle_np. При вызове этой функции передадим в качестве аргумента последовательность значений np.linspace(0, 2, 5), это 5 чисел, равномерно расположенных на отрезке от 0 до 2."
      ],
      "metadata": {
        "id": "p2-SIl1OJCDv"
      }
    },
    {
      "cell_type": "code",
      "source": [
        "vect_angle_np = lambdify(phi, vect_angle(phi), 'numpy')\n",
        "print(vect_angle_np(np.linspace(0, 2, 5)), sep='\\n')"
      ],
      "metadata": {
        "colab": {
          "base_uri": "https://localhost:8080/"
        },
        "id": "TO9QjU5CrzRg",
        "outputId": "09e56ca0-ee2f-4124-f754-e1dc65a646b3"
      },
      "execution_count": 77,
      "outputs": [
        {
          "output_type": "stream",
          "name": "stdout",
          "text": [
            "[1.73205081 1.03299636 1.20216052 1.0146545  1.23383757]\n"
          ]
        }
      ]
    },
    {
      "cell_type": "markdown",
      "source": [
        "Функцию vect_angle_np можно использовать для построения графика зависимости длины вектора $(\\sin(\\phi), \\sin(2\\phi), \\sin(3\\phi))$ от угла $\\phi$."
      ],
      "metadata": {
        "id": "KXMHfGWqJjWW"
      }
    },
    {
      "cell_type": "code",
      "source": [
        "x_ls = np.linspace(0, 2 * np.pi, 201)\n",
        "plt.plot(x_ls, vect_angle_np(x_ls))"
      ],
      "metadata": {
        "colab": {
          "base_uri": "https://localhost:8080/",
          "height": 448
        },
        "id": "GsjCGwVPJtRw",
        "outputId": "43005635-61e0-4616-bc93-5fd2b45e7c4a"
      },
      "execution_count": 79,
      "outputs": [
        {
          "output_type": "execute_result",
          "data": {
            "text/plain": [
              "[<matplotlib.lines.Line2D at 0x7a462801a6d0>]"
            ]
          },
          "metadata": {},
          "execution_count": 79
        },
        {
          "output_type": "display_data",
          "data": {
            "text/plain": [
              "<Figure size 640x480 with 1 Axes>"
            ],
            "image/png": "[encoded data removed]"
          },
          "metadata": {}
        }
      ]
    },
    {
      "cell_type": "markdown",
      "source": [
        "### Пример 6\n",
        "Опишем функцию slope_func, возвращающую угол между прямой, проходящей через точки $(x1, y1)$ и $(x2, y2)$ и осью $OX$."
      ],
      "metadata": {
        "id": "5eWwd-zyLySM"
      }
    },
    {
      "cell_type": "code",
      "source": [
        "def slope_func(x1, y1, x2, y2):\n",
        "    a_line = Line(Point(x1, y1), Point(x2, y2))\n",
        "    return a_line.smallest_angle_between(Line(Point(0, 0), Point(1, 0)))"
      ],
      "metadata": {
        "id": "zWPtMktbKqIO"
      },
      "execution_count": 101,
      "outputs": []
    },
    {
      "cell_type": "markdown",
      "source": [
        "Будем подставлять в функцию координаты точек"
      ],
      "metadata": {
        "id": "TFRJ-V28SfX2"
      }
    },
    {
      "cell_type": "code",
      "source": [
        "for x1, y1, x2, y2 in zip((1, 2, 0), (1, 1, 0), (2, 2, 1), (2, 3, sympy.sqrt(3))):\n",
        "    display(Latex(f'Точки\\ A({x1}, {y1}),\\ B({x2}, {latex(y2)}):\\ {latex(slope_func(x1, y1, x2, y2))}'))"
      ],
      "metadata": {
        "colab": {
          "base_uri": "https://localhost:8080/",
          "height": 83
        },
        "id": "MlBsOSfRLdte",
        "outputId": "359ed46a-7fef-4f56-f416-ae49262faff6"
      },
      "execution_count": 103,
      "outputs": [
        {
          "output_type": "display_data",
          "data": {
            "text/plain": [
              "<IPython.core.display.Latex object>"
            ],
            "text/latex": "Точки\\ A(1, 1),\\ B(2, 2):\\ \\frac{\\pi}{4}"
          },
          "metadata": {}
        },
        {
          "output_type": "display_data",
          "data": {
            "text/plain": [
              "<IPython.core.display.Latex object>"
            ],
            "text/latex": "Точки\\ A(2, 1),\\ B(2, 3):\\ \\frac{\\pi}{2}"
          },
          "metadata": {}
        },
        {
          "output_type": "display_data",
          "data": {
            "text/plain": [
              "<IPython.core.display.Latex object>"
            ],
            "text/latex": "Точки\\ A(0, 0),\\ B(1, \\sqrt{3}):\\ \\frac{\\pi}{3}"
          },
          "metadata": {}
        }
      ]
    },
    {
      "cell_type": "markdown",
      "source": [
        "Создадим на основе этой функции ее двойник для numpy, назовем slope_func_np. Обратим внимание, что аргументы сгруппированы в список при вызове lambdify."
      ],
      "metadata": {
        "id": "7J7booPYS54J"
      }
    },
    {
      "cell_type": "code",
      "source": [
        "x1, y1, x2, y2 = symbols('x1 y1 x2 y2')\n",
        "slope_func_np = lambdify([x1, y1, x2, y2], slope_func(x1, y1, x2, y2))"
      ],
      "metadata": {
        "id": "0viFjfUtPCeo"
      },
      "execution_count": 96,
      "outputs": []
    },
    {
      "cell_type": "markdown",
      "source": [
        "При вызове этой функции передадим в качестве аргументов np.linspace."
      ],
      "metadata": {
        "id": "hTF6hvhiTBYX"
      }
    },
    {
      "cell_type": "code",
      "source": [
        "x1_arr = np.linspace(0, 2, 4)\n",
        "y1_arr = np.linspace(1, 2, 4)\n",
        "x2_arr = np.linspace(-1, 2, 4)\n",
        "y2_arr = np.linspace(4, 8, 4)\n",
        "print(*slope_func_np(x1_arr, y1_arr, x2_arr, y2_arr), sep=', ')"
      ],
      "metadata": {
        "colab": {
          "base_uri": "https://localhost:8080/"
        },
        "id": "5y0SHUGZPjvW",
        "outputId": "77e14a0d-ced3-42a0-c244-3691e2b5b3c4"
      },
      "execution_count": 100,
      "outputs": [
        {
          "output_type": "stream",
          "name": "stdout",
          "text": [
            "1.2490457723982544, 1.4056476493802699, 1.5042281630190728, 1.5707963267948966\n"
          ]
        }
      ]
    }
  ]
}