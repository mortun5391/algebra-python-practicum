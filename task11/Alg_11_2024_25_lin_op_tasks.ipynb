{
  "nbformat": 4,
  "nbformat_minor": 0,
  "metadata": {
    "kernelspec": {
      "display_name": "Python 3",
      "language": "python",
      "name": "python3"
    },
    "language_info": {
      "codemirror_mode": {
        "name": "ipython",
        "version": 3
      },
      "file_extension": ".py",
      "mimetype": "text/x-python",
      "name": "python",
      "nbconvert_exporter": "python",
      "pygments_lexer": "ipython3",
      "version": "3.7.3"
    },
    "colab": {
      "provenance": []
    }
  },
  "cells": [
    {
      "cell_type": "code",
      "metadata": {
        "id": "N4mLs7g4G85I"
      },
      "source": [
        "import sympy\n",
        "import numpy as np\n",
        "import pandas as pd\n",
        "from sympy import latex, Matrix, plot, solve, linsolve, symbols, eye, zeros\n",
        "from sympy import lambdify, S, Point, Line\n",
        "from sympy import pi as Pi\n",
        "from sympy import cos as Cos\n",
        "from sympy import sin as Sin\n",
        "from sympy.vector import Vector, matrix_to_vector, AxisOrienter, express\n",
        "from sympy.vector import CoordSys3D\n",
        "import matplotlib.pyplot as plt\n",
        "from IPython.display import Latex"
      ],
      "execution_count": null,
      "outputs": []
    },
    {
      "cell_type": "markdown",
      "metadata": {
        "id": "L53ZTfO2G85R"
      },
      "source": [
        "# Практическое занятие 11\n",
        "# Компьютерный практикум по алгебре на Python\n",
        "## Линейные операторы на плоскости и в пространстве\n",
        "### Задание 1.\n",
        "Написать функцию, составляющую матрицу линейного оператора поворота на $\\alpha$ градусов или радиан **по** или **против часовой стрелки** на плоскости. Параметры: обязательные - угол поворота, необязательные - тип меры угла (градусы или радианы), направление поворота (по или против часовой стрелки). Значения по умолчанию - против часовой стрелки в радианах.\n",
        "\n",
        "Использовать полученную функцию для выведения на экран координат векторов, полученных поворотом вектора [1, 2]\n",
        "\n",
        "1) на 20, 30, 45 градусов **по  часовой стрелке**\n",
        "\n",
        "2) на $\\pi/6$ радиан **против часовой стрелки**."
      ]
    },
    {
      "cell_type": "code",
      "metadata": {
        "id": "PTVXRfaWG85S",
        "colab": {
          "base_uri": "https://localhost:8080/",
          "height": 262
        },
        "outputId": "19df4a63-3395-458d-e615-0f9ea5b29ef1"
      },
      "source": [
        "def rot(alpha, measure = 'rad', direction = 0):\n",
        "  if measure == 'deg':\n",
        "    alpha = sympy.Rational(alpha, 180) * Pi\n",
        "  if direction == 1:\n",
        "    alpha = -alpha\n",
        "  return Matrix([\n",
        "        [Cos(alpha), -Sin(alpha)],\n",
        "        [Sin(alpha), Cos(alpha)]\n",
        "    ])\n",
        "\n",
        "vec = Matrix([1, 2])\n",
        "\n",
        "for angle in (20,30 ,45):\n",
        "    A = rot(angle, 'deg', 1)\n",
        "    display(A*vec)\n",
        "    print()\n",
        "A = rot(Pi/6)\n",
        "display(A * vec)"
      ],
      "execution_count": null,
      "outputs": [
        {
          "output_type": "display_data",
          "data": {
            "text/plain": [
              "Matrix([\n",
              "[ 2*sin(pi/9) + cos(pi/9)],\n",
              "[-sin(pi/9) + 2*cos(pi/9)]])"
            ],
            "text/latex": "$\\displaystyle \\left[\\begin{matrix}2 \\sin{\\left(\\frac{\\pi}{9} \\right)} + \\cos{\\left(\\frac{\\pi}{9} \\right)}\\\\- \\sin{\\left(\\frac{\\pi}{9} \\right)} + 2 \\cos{\\left(\\frac{\\pi}{9} \\right)}\\end{matrix}\\right]$"
          },
          "metadata": {}
        },
        {
          "output_type": "stream",
          "name": "stdout",
          "text": [
            "\n"
          ]
        },
        {
          "output_type": "display_data",
          "data": {
            "text/plain": [
              "Matrix([\n",
              "[ sqrt(3)/2 + 1],\n",
              "[-1/2 + sqrt(3)]])"
            ],
            "text/latex": "$\\displaystyle \\left[\\begin{matrix}\\frac{\\sqrt{3}}{2} + 1\\\\- \\frac{1}{2} + \\sqrt{3}\\end{matrix}\\right]$"
          },
          "metadata": {}
        },
        {
          "output_type": "stream",
          "name": "stdout",
          "text": [
            "\n"
          ]
        },
        {
          "output_type": "display_data",
          "data": {
            "text/plain": [
              "Matrix([\n",
              "[3*sqrt(2)/2],\n",
              "[  sqrt(2)/2]])"
            ],
            "text/latex": "$\\displaystyle \\left[\\begin{matrix}\\frac{3 \\sqrt{2}}{2}\\\\\\frac{\\sqrt{2}}{2}\\end{matrix}\\right]$"
          },
          "metadata": {}
        },
        {
          "output_type": "stream",
          "name": "stdout",
          "text": [
            "\n"
          ]
        },
        {
          "output_type": "display_data",
          "data": {
            "text/plain": [
              "Matrix([\n",
              "[-1 + sqrt(3)/2],\n",
              "[ 1/2 + sqrt(3)]])"
            ],
            "text/latex": "$\\displaystyle \\left[\\begin{matrix}-1 + \\frac{\\sqrt{3}}{2}\\\\\\frac{1}{2} + \\sqrt{3}\\end{matrix}\\right]$"
          },
          "metadata": {}
        }
      ]
    },
    {
      "cell_type": "markdown",
      "metadata": {
        "id": "oqFUkn1SG85T"
      },
      "source": [
        "### Задание 2.\n",
        "Найти собственные числа и собственные векторы линейного оператора, заданного матрицей\n",
        "$$\n",
        "\\left(\\begin{matrix}\n",
        "-34&20&-5\\\\\n",
        "-40&56&-20\\\\\n",
        "20&-8&50\n",
        "\\end{matrix}\\right)\n",
        "$$\n",
        "Воспользоваться eigenvals и eigenvects, проверить выполнение равенства нулю характеристического многочлена $|A-\\lambda E|$ и условия $Ax=\\lambda x$.\n"
      ]
    },
    {
      "cell_type": "code",
      "metadata": {
        "id": "kvICFOnpG85U",
        "colab": {
          "base_uri": "https://localhost:8080/",
          "height": 313
        },
        "outputId": "24bab2c8-e822-4a13-8d05-5dafe07ae6fc"
      },
      "source": [
        "from sympy import Symbol\n",
        "from typing import Union, Any, Dict, List, Tuple, Literal\n",
        "A = Matrix([\n",
        "    [-34, 20, -5],\n",
        "    [-40, 56, -20],\n",
        "    [20, -8, 50]\n",
        "])\n",
        "\n",
        "vals: Union[List, Dict] = A.eigenvals()\n",
        "res: List[Tuple[Any, Any, List]] = A.eigenvects()\n",
        "for lamb, mult, vectors in res:\n",
        "    x = vectors[0]\n",
        "    display(lamb, x)\n",
        "\n",
        "    eq_det = (A - lamb * sympy.eye(3)).det()\n",
        "    assert eq_det == 0 and A*x == lamb * x\n",
        "    print()"
      ],
      "execution_count": null,
      "outputs": [
        {
          "output_type": "display_data",
          "data": {
            "text/plain": [
              "-24"
            ],
            "text/latex": "$\\displaystyle -24$"
          },
          "metadata": {}
        },
        {
          "output_type": "display_data",
          "data": {
            "text/plain": [
              "Matrix([\n",
              "[-9/2],\n",
              "[  -2],\n",
              "[   1]])"
            ],
            "text/latex": "$\\displaystyle \\left[\\begin{matrix}- \\frac{9}{2}\\\\-2\\\\1\\end{matrix}\\right]$"
          },
          "metadata": {}
        },
        {
          "output_type": "stream",
          "name": "stdout",
          "text": [
            "\n"
          ]
        },
        {
          "output_type": "display_data",
          "data": {
            "text/plain": [
              "40"
            ],
            "text/latex": "$\\displaystyle 40$"
          },
          "metadata": {}
        },
        {
          "output_type": "display_data",
          "data": {
            "text/plain": [
              "Matrix([\n",
              "[ 5/6],\n",
              "[10/3],\n",
              "[   1]])"
            ],
            "text/latex": "$\\displaystyle \\left[\\begin{matrix}\\frac{5}{6}\\\\\\frac{10}{3}\\\\1\\end{matrix}\\right]$"
          },
          "metadata": {}
        },
        {
          "output_type": "stream",
          "name": "stdout",
          "text": [
            "\n"
          ]
        },
        {
          "output_type": "display_data",
          "data": {
            "text/plain": [
              "56"
            ],
            "text/latex": "$\\displaystyle 56$"
          },
          "metadata": {}
        },
        {
          "output_type": "display_data",
          "data": {
            "text/plain": [
              "Matrix([\n",
              "[-1/2],\n",
              "[  -2],\n",
              "[   1]])"
            ],
            "text/latex": "$\\displaystyle \\left[\\begin{matrix}- \\frac{1}{2}\\\\-2\\\\1\\end{matrix}\\right]$"
          },
          "metadata": {}
        },
        {
          "output_type": "stream",
          "name": "stdout",
          "text": [
            "\n"
          ]
        }
      ]
    },
    {
      "cell_type": "markdown",
      "metadata": {
        "id": "4sQHp6cxG85U"
      },
      "source": [
        "### Задание 3.\n",
        "Построить матрицу оператора из Задания 2 в базисе из векторов $(1,1,1)$, $(0,5,3)$ и $(1,6,0)$.Вывести на экран матрицу перехода к новому базису и матрицу оператора в новом базисе, а также собственные числа и собственные векторы в исходном и новом базисе.\n"
      ]
    },
    {
      "cell_type": "code",
      "metadata": {
        "id": "_TqGZqSKG85V",
        "colab": {
          "base_uri": "https://localhost:8080/",
          "height": 457
        },
        "outputId": "add59084-8771-4bb3-88b1-53376ae45b4b"
      },
      "source": [
        "from sympy.core.numbers import Integer\n",
        "P = Matrix([\n",
        "    [1, 0, 1],\n",
        "    [1, 5, 6],\n",
        "    [1, 3, 0]\n",
        "])\n",
        "assert P.det() != 0\n",
        "\n",
        "A_new = P**(-1) * A * P\n",
        "\n",
        "\n",
        "res: List[Tuple[Any, Any, List]] = A.eigenvects()\n",
        "lambdas: List[Integer] = [tup[0] for tup in res]\n",
        "\n",
        "rot = res[0][2][0].row_join(res[1][2][0]).row_join(res[2][2][0])\n",
        "\n",
        "\n",
        "\n",
        "res_new: List[Tuple[Any, Any, List]] = A.eigenvects()\n",
        "lambdas_new: List[Integer] = [tup[0] for tup in res_new]\n",
        "display(rot)\n",
        "display(Latex(f\"A_{{new}} = {latex(A_new)}\"))\n",
        "display(Latex(f\"lambdas = {latex(', '.join(map(latex, lambdas)))}\"))\n",
        "\n",
        "for lamb, mult, vectors in res_new:\n",
        "    x = vectors[0]\n",
        "    display(lamb, x)\n",
        "    print()"
      ],
      "execution_count": null,
      "outputs": [
        {
          "output_type": "display_data",
          "data": {
            "text/plain": [
              "Matrix([\n",
              "[-9/2,  5/6, -1/2],\n",
              "[  -2, 10/3,   -2],\n",
              "[   1,    1,    1]])"
            ],
            "text/latex": "$\\displaystyle \\left[\\begin{matrix}- \\frac{9}{2} & \\frac{5}{6} & - \\frac{1}{2}\\\\-2 & \\frac{10}{3} & -2\\\\1 & 1 & 1\\end{matrix}\\right]$"
          },
          "metadata": {}
        },
        {
          "output_type": "display_data",
          "data": {
            "text/plain": [
              "<IPython.core.display.Latex object>"
            ],
            "text/latex": "A_{new} = \\left[\\begin{matrix}-1 & 71 & 26\\\\21 & 13 & -18\\\\-18 & 14 & 60\\end{matrix}\\right]"
          },
          "metadata": {}
        },
        {
          "output_type": "display_data",
          "data": {
            "text/plain": [
              "<IPython.core.display.Latex object>"
            ],
            "text/latex": "lambdas = \\mathtt{\\text{-24, 40, 56}}"
          },
          "metadata": {}
        },
        {
          "output_type": "display_data",
          "data": {
            "text/plain": [
              "-24"
            ],
            "text/latex": "$\\displaystyle -24$"
          },
          "metadata": {}
        },
        {
          "output_type": "display_data",
          "data": {
            "text/plain": [
              "Matrix([\n",
              "[-9/2],\n",
              "[  -2],\n",
              "[   1]])"
            ],
            "text/latex": "$\\displaystyle \\left[\\begin{matrix}- \\frac{9}{2}\\\\-2\\\\1\\end{matrix}\\right]$"
          },
          "metadata": {}
        },
        {
          "output_type": "stream",
          "name": "stdout",
          "text": [
            "\n"
          ]
        },
        {
          "output_type": "display_data",
          "data": {
            "text/plain": [
              "40"
            ],
            "text/latex": "$\\displaystyle 40$"
          },
          "metadata": {}
        },
        {
          "output_type": "display_data",
          "data": {
            "text/plain": [
              "Matrix([\n",
              "[ 5/6],\n",
              "[10/3],\n",
              "[   1]])"
            ],
            "text/latex": "$\\displaystyle \\left[\\begin{matrix}\\frac{5}{6}\\\\\\frac{10}{3}\\\\1\\end{matrix}\\right]$"
          },
          "metadata": {}
        },
        {
          "output_type": "stream",
          "name": "stdout",
          "text": [
            "\n"
          ]
        },
        {
          "output_type": "display_data",
          "data": {
            "text/plain": [
              "56"
            ],
            "text/latex": "$\\displaystyle 56$"
          },
          "metadata": {}
        },
        {
          "output_type": "display_data",
          "data": {
            "text/plain": [
              "Matrix([\n",
              "[-1/2],\n",
              "[  -2],\n",
              "[   1]])"
            ],
            "text/latex": "$\\displaystyle \\left[\\begin{matrix}- \\frac{1}{2}\\\\-2\\\\1\\end{matrix}\\right]$"
          },
          "metadata": {}
        },
        {
          "output_type": "stream",
          "name": "stdout",
          "text": [
            "\n"
          ]
        }
      ]
    },
    {
      "cell_type": "markdown",
      "metadata": {
        "id": "q0SjtudQG85V"
      },
      "source": [
        "### Задание 4.\n",
        "Считать из файла 'sem_11_task_4.xlsx' матрицу линейного оператора.\n",
        "Построить матрицу оператора в базисе из собственных векторов с помощью eigenvects и матрицы перехода. Сравнить (визуально) диагональные элементы с собственными числами. Вывести на экран матрицу перехода и матрицу линейного оператора в новом базисе, записать обе матрицы на листы 'P' и 'Anew' 'sem_11_task_4_ans.xlsx'.\n",
        "\n",
        "**Указание:** для записи матрицы sympy в файл xlsx сначала нужно преобразовать матрицу в список с помощью метода матриц tolist, затем на основе полученного списка составить DataFrame.\n",
        "\n",
        "За счет необязательных аргументов header и index функции to_excel обеспечить запись матриц в файл без подписей строк и столбцов."
      ]
    },
    {
      "cell_type": "code",
      "metadata": {
        "id": "-umKhqm8G85W",
        "colab": {
          "base_uri": "https://localhost:8080/",
          "height": 73
        },
        "outputId": "ef2b6e90-7e64-40a2-878b-ae64068b9b7e"
      },
      "source": [
        "from google.colab import files\n",
        "uploaded = files.upload()"
      ],
      "execution_count": null,
      "outputs": [
        {
          "output_type": "display_data",
          "data": {
            "text/plain": [
              "<IPython.core.display.HTML object>"
            ],
            "text/html": [
              "\n",
              "     <input type=\"file\" id=\"files-affcf57f-14fe-4892-8d46-e6b4b10d0edc\" name=\"files[]\" multiple disabled\n",
              "        style=\"border:none\" />\n",
              "     <output id=\"result-affcf57f-14fe-4892-8d46-e6b4b10d0edc\">\n",
              "      Upload widget is only available when the cell has been executed in the\n",
              "      current browser session. Please rerun this cell to enable.\n",
              "      </output>\n",
              "      <script>// Copyright 2017 Google LLC\n",
              "//\n",
              "// Licensed under the Apache License, Version 2.0 (the \"License\");\n",
              "// you may not use this file except in compliance with the License.\n",
              "// You may obtain a copy of the License at\n",
              "//\n",
              "//      http://www.apache.org/licenses/LICENSE-2.0\n",
              "//\n",
              "// Unless required by applicable law or agreed to in writing, software\n",
              "// distributed under the License is distributed on an \"AS IS\" BASIS,\n",
              "// WITHOUT WARRANTIES OR CONDITIONS OF ANY KIND, either express or implied.\n",
              "// See the License for the specific language governing permissions and\n",
              "// limitations under the License.\n",
              "\n",
              "/**\n",
              " * @fileoverview Helpers for google.colab Python module.\n",
              " */\n",
              "(function(scope) {\n",
              "function span(text, styleAttributes = {}) {\n",
              "  const element = document.createElement('span');\n",
              "  element.textContent = text;\n",
              "  for (const key of Object.keys(styleAttributes)) {\n",
              "    element.style[key] = styleAttributes[key];\n",
              "  }\n",
              "  return element;\n",
              "}\n",
              "\n",
              "// Max number of bytes which will be uploaded at a time.\n",
              "const MAX_PAYLOAD_SIZE = 100 * 1024;\n",
              "\n",
              "function _uploadFiles(inputId, outputId) {\n",
              "  const steps = uploadFilesStep(inputId, outputId);\n",
              "  const outputElement = document.getElementById(outputId);\n",
              "  // Cache steps on the outputElement to make it available for the next call\n",
              "  // to uploadFilesContinue from Python.\n",
              "  outputElement.steps = steps;\n",
              "\n",
              "  return _uploadFilesContinue(outputId);\n",
              "}\n",
              "\n",
              "// This is roughly an async generator (not supported in the browser yet),\n",
              "// where there are multiple asynchronous steps and the Python side is going\n",
              "// to poll for completion of each step.\n",
              "// This uses a Promise to block the python side on completion of each step,\n",
              "// then passes the result of the previous step as the input to the next step.\n",
              "function _uploadFilesContinue(outputId) {\n",
              "  const outputElement = document.getElementById(outputId);\n",
              "  const steps = outputElement.steps;\n",
              "\n",
              "  const next = steps.next(outputElement.lastPromiseValue);\n",
              "  return Promise.resolve(next.value.promise).then((value) => {\n",
              "    // Cache the last promise value to make it available to the next\n",
              "    // step of the generator.\n",
              "    outputElement.lastPromiseValue = value;\n",
              "    return next.value.response;\n",
              "  });\n",
              "}\n",
              "\n",
              "/**\n",
              " * Generator function which is called between each async step of the upload\n",
              " * process.\n",
              " * @param {string} inputId Element ID of the input file picker element.\n",
              " * @param {string} outputId Element ID of the output display.\n",
              " * @return {!Iterable<!Object>} Iterable of next steps.\n",
              " */\n",
              "function* uploadFilesStep(inputId, outputId) {\n",
              "  const inputElement = document.getElementById(inputId);\n",
              "  inputElement.disabled = false;\n",
              "\n",
              "  const outputElement = document.getElementById(outputId);\n",
              "  outputElement.innerHTML = '';\n",
              "\n",
              "  const pickedPromise = new Promise((resolve) => {\n",
              "    inputElement.addEventListener('change', (e) => {\n",
              "      resolve(e.target.files);\n",
              "    });\n",
              "  });\n",
              "\n",
              "  const cancel = document.createElement('button');\n",
              "  inputElement.parentElement.appendChild(cancel);\n",
              "  cancel.textContent = 'Cancel upload';\n",
              "  const cancelPromise = new Promise((resolve) => {\n",
              "    cancel.onclick = () => {\n",
              "      resolve(null);\n",
              "    };\n",
              "  });\n",
              "\n",
              "  // Wait for the user to pick the files.\n",
              "  const files = yield {\n",
              "    promise: Promise.race([pickedPromise, cancelPromise]),\n",
              "    response: {\n",
              "      action: 'starting',\n",
              "    }\n",
              "  };\n",
              "\n",
              "  cancel.remove();\n",
              "\n",
              "  // Disable the input element since further picks are not allowed.\n",
              "  inputElement.disabled = true;\n",
              "\n",
              "  if (!files) {\n",
              "    return {\n",
              "      response: {\n",
              "        action: 'complete',\n",
              "      }\n",
              "    };\n",
              "  }\n",
              "\n",
              "  for (const file of files) {\n",
              "    const li = document.createElement('li');\n",
              "    li.append(span(file.name, {fontWeight: 'bold'}));\n",
              "    li.append(span(\n",
              "        `(${file.type || 'n/a'}) - ${file.size} bytes, ` +\n",
              "        `last modified: ${\n",
              "            file.lastModifiedDate ? file.lastModifiedDate.toLocaleDateString() :\n",
              "                                    'n/a'} - `));\n",
              "    const percent = span('0% done');\n",
              "    li.appendChild(percent);\n",
              "\n",
              "    outputElement.appendChild(li);\n",
              "\n",
              "    const fileDataPromise = new Promise((resolve) => {\n",
              "      const reader = new FileReader();\n",
              "      reader.onload = (e) => {\n",
              "        resolve(e.target.result);\n",
              "      };\n",
              "      reader.readAsArrayBuffer(file);\n",
              "    });\n",
              "    // Wait for the data to be ready.\n",
              "    let fileData = yield {\n",
              "      promise: fileDataPromise,\n",
              "      response: {\n",
              "        action: 'continue',\n",
              "      }\n",
              "    };\n",
              "\n",
              "    // Use a chunked sending to avoid message size limits. See b/62115660.\n",
              "    let position = 0;\n",
              "    do {\n",
              "      const length = Math.min(fileData.byteLength - position, MAX_PAYLOAD_SIZE);\n",
              "      const chunk = new Uint8Array(fileData, position, length);\n",
              "      position += length;\n",
              "\n",
              "      const base64 = btoa(String.fromCharCode.apply(null, chunk));\n",
              "      yield {\n",
              "        response: {\n",
              "          action: 'append',\n",
              "          file: file.name,\n",
              "          data: base64,\n",
              "        },\n",
              "      };\n",
              "\n",
              "      let percentDone = fileData.byteLength === 0 ?\n",
              "          100 :\n",
              "          Math.round((position / fileData.byteLength) * 100);\n",
              "      percent.textContent = `${percentDone}% done`;\n",
              "\n",
              "    } while (position < fileData.byteLength);\n",
              "  }\n",
              "\n",
              "  // All done.\n",
              "  yield {\n",
              "    response: {\n",
              "      action: 'complete',\n",
              "    }\n",
              "  };\n",
              "}\n",
              "\n",
              "scope.google = scope.google || {};\n",
              "scope.google.colab = scope.google.colab || {};\n",
              "scope.google.colab._files = {\n",
              "  _uploadFiles,\n",
              "  _uploadFilesContinue,\n",
              "};\n",
              "})(self);\n",
              "</script> "
            ]
          },
          "metadata": {}
        },
        {
          "output_type": "stream",
          "name": "stdout",
          "text": [
            "Saving sem_11_task_5.xlsx to sem_11_task_5.xlsx\n"
          ]
        }
      ]
    },
    {
      "cell_type": "code",
      "source": [
        "df = pd.read_excel(\"sem_11_task_4.xlsx\", header=None)\n",
        "A = sympy.Matrix(df.values)\n",
        "\n",
        "eigenvectors = A.eigenvects()\n",
        "P = sympy.Matrix.hstack(*[vect for eigval, mult, vects in eigenvectors for vect in vects])\n",
        "display(P)\n",
        "\n",
        "A_new = P.inv() * A * P\n",
        "display(A_new)\n",
        "\n",
        "with pd.ExcelWriter('sem_11_task_4_ans.xlsx') as writer:\n",
        "    pd.DataFrame(list(P)).to_excel(writer, sheet_name='P', header=False, index=False)\n",
        "    pd.DataFrame(list(A_new)).to_excel(writer, sheet_name='A_new', header=False, index=False)"
      ],
      "metadata": {
        "colab": {
          "base_uri": "https://localhost:8080/",
          "height": 139
        },
        "id": "YYW6POICC0-z",
        "outputId": "b5ba7513-6009-4826-a778-dd7e8d184ae9"
      },
      "execution_count": null,
      "outputs": [
        {
          "output_type": "display_data",
          "data": {
            "text/plain": [
              "Matrix([\n",
              "[9, 5, 8],\n",
              "[6, 3, 5],\n",
              "[1, 1, 1]])"
            ],
            "text/latex": "$\\displaystyle \\left[\\begin{matrix}9 & 5 & 8\\\\6 & 3 & 5\\\\1 & 1 & 1\\end{matrix}\\right]$"
          },
          "metadata": {}
        },
        {
          "output_type": "display_data",
          "data": {
            "text/plain": [
              "Matrix([\n",
              "[-4, 0, 0],\n",
              "[ 0, 2, 0],\n",
              "[ 0, 0, 8]])"
            ],
            "text/latex": "$\\displaystyle \\left[\\begin{matrix}-4 & 0 & 0\\\\0 & 2 & 0\\\\0 & 0 & 8\\end{matrix}\\right]$"
          },
          "metadata": {}
        }
      ]
    },
    {
      "cell_type": "markdown",
      "source": [
        "### Задание 5.\n",
        "Описать функцию от аргументов $a11$, $a12$, $a21$, $a22$, которая с помощью функций  sympy находит собственные числа линейного оператора с матрицей\n",
        "$\\left(\\begin{matrix}a_{11} & a_{12}\\\\ a_{21} & a_{22}\\end{matrix}\\right)$ и возвращает максимальный модуль собственного числа, если это число вещественное. В случае комплексных корней характеристического уравнения функция возвращает -1.\n",
        "\n",
        "Вывести на экран максимальное по модулю собственное число для каждой из матриц, состоящих из  элементов $a11$, $a12$, $a21$, $a22$ файла 'sem_11_task_5.xlsx'."
      ],
      "metadata": {
        "id": "0_DfgUpali7S"
      }
    },
    {
      "cell_type": "code",
      "source": [
        "def max_real_eigenvalue(a11, a12, a21, a22):\n",
        "    A = sympy.Matrix([[a11, a12], [a21, a22]])\n",
        "    reals = [ev for ev in A.eigenvals() if ev.is_real]\n",
        "\n",
        "    if reals != []:\n",
        "        return max(abs(ev) for ev in reals)\n",
        "    else:\n",
        "        return -1\n",
        "\n",
        "df = pd.read_excel(\"sem_11_task_5.xlsx\", header=0, index_col=0)\n",
        "\n",
        "for a11, a12, a21, a22 in df.values:\n",
        "  display(max_real_eigenvalue(a11, a12, a21, a22))"
      ],
      "metadata": {
        "id": "FrsObl1_oTgY",
        "colab": {
          "base_uri": "https://localhost:8080/",
          "height": 153
        },
        "outputId": "fd0de79a-115a-41d4-df41-38c12c3fd53a"
      },
      "execution_count": null,
      "outputs": [
        {
          "output_type": "display_data",
          "data": {
            "text/plain": [
              "1"
            ],
            "text/latex": "$\\displaystyle 1$"
          },
          "metadata": {}
        },
        {
          "output_type": "display_data",
          "data": {
            "text/plain": [
              "11"
            ],
            "text/latex": "$\\displaystyle 11$"
          },
          "metadata": {}
        },
        {
          "output_type": "display_data",
          "data": {
            "text/plain": [
              "-1"
            ]
          },
          "metadata": {}
        },
        {
          "output_type": "display_data",
          "data": {
            "text/plain": [
              "16"
            ],
            "text/latex": "$\\displaystyle 16$"
          },
          "metadata": {}
        },
        {
          "output_type": "display_data",
          "data": {
            "text/plain": [
              "-1"
            ]
          },
          "metadata": {}
        },
        {
          "output_type": "display_data",
          "data": {
            "text/plain": [
              "18"
            ],
            "text/latex": "$\\displaystyle 18$"
          },
          "metadata": {}
        },
        {
          "output_type": "display_data",
          "data": {
            "text/plain": [
              "18"
            ],
            "text/latex": "$\\displaystyle 18$"
          },
          "metadata": {}
        }
      ]
    },
    {
      "cell_type": "markdown",
      "source": [
        "### Задание 6*.\n",
        "Описать функцию с аргументами $a$, $slope$, где $a$ - горизонтальная координата точки на оси  $OX$, $slope$ - тангенс угла наклона прямой, проходящей через точку $A(a, 0)$. Функция возвращает вертикальную координату точки пересечения прямой с осью $OY$ (при $a = -3$, $slope = 2$ должно получиться 6).\n",
        "\n",
        "С помощью lambdify получить функцию - \"двойник\" для работы с объектами numpy, затем при помощи этой функции и matplotlib.pyplot построить график зависимости вертикальной координаты точки пересечения от $a$, если $a=np.linspace(-5, 5)$, $slope = 2$, затем график при  $slope = np.linspace(-2, 1)$,  $a = -2$."
      ],
      "metadata": {
        "id": "hCVotTaf9bUC"
      }
    },
    {
      "cell_type": "code",
      "source": [],
      "metadata": {
        "id": "84dx-NcJ9K6f"
      },
      "execution_count": null,
      "outputs": []
    },
    {
      "cell_type": "markdown",
      "source": [
        "# Задание 7*\n",
        "\n",
        "Для оператора поворота на угол $\\alpha$  найти значения  угла $\\alpha$, при которых у оператора есть собственные числа и собственные векторы, вывести на экран такие значения $\\alpha$ и соответствующие  собственные числа и собственные векторы для  $\\alpha$ от 0 до $5\\pi$."
      ],
      "metadata": {
        "id": "-Qyx5ZYCRoCR"
      }
    },
    {
      "cell_type": "code",
      "source": [],
      "metadata": {
        "id": "RwdLx0q6Spgg"
      },
      "execution_count": null,
      "outputs": []
    },
    {
      "cell_type": "markdown",
      "metadata": {
        "id": "DeW-9Q28G85W"
      },
      "source": [
        "###  Индивидуальное задание\n",
        "Найти собственные числа и собственные векторы линейного оператора. Построить матрицу оператора в заданном базисе. Построить матрицу оператора в базисе из собственных векторов.\n",
        "\n",
        "Вывести на экран матрицу оператора А, матрицу перехода к базису ($e_1$, $e_2$, $e_3$), матрицу оператора в базисе ($e_1$, $e_2$, $e_3$), матрицу перехода к базису из собственных векторов, матрицу оператора в базисе из собственных векторов.\n",
        "\n",
        "Матрица оператора A, векторы базиса $e_1$, $e_2$, $e_3$:\n",
        "$$\n",
        "A = \\left(\n",
        "\\begin{matrix}\n",
        "48 & -12 & -4\\\\\n",
        "-40 & 44 & -8\\\\\n",
        "50 & 30 & 78\n",
        "\\end{matrix}\\right),\n",
        "\\quad\n",
        "e_1 = \\left(\n",
        "\\begin{matrix}\n",
        "2\\\\ -1\\\\ 3\n",
        "\\end{matrix}\n",
        "\\right)\n",
        "\\quad\n",
        "e_2 =\n",
        "\\left(\\begin{matrix}\n",
        "2\\\\ 0\\\\ -3\n",
        "\\end{matrix}\\right)\n",
        "\\quad\n",
        "e_3 =\n",
        "\\left(\\begin{matrix}\n",
        "5\\\\ 1\\\\ -2\n",
        "\\end{matrix}\\right)\n",
        "$$"
      ]
    },
    {
      "cell_type": "code",
      "metadata": {
        "id": "8gu1WSYwG85X",
        "colab": {
          "base_uri": "https://localhost:8080/",
          "height": 322
        },
        "outputId": "1aa571ca-d48c-4182-f95a-6291cc0b7e9c"
      },
      "source": [
        "A = sympy.Matrix([\n",
        "    [93, 51, -23],\n",
        "    [-144, -88, 48],\n",
        "    [-177, -135, 83]\n",
        "])\n",
        "\n",
        "e1 = sympy.Matrix([3, 4, -3])\n",
        "e2 = sympy.Matrix([3, -3, -2])\n",
        "e3 = sympy.Matrix([-1, 4, 1])\n",
        "\n",
        "eigenvectors = A.eigenvects()\n",
        "display(Latex(latex(eigenvectors)))\n",
        "\n",
        "P = sympy.Matrix.hstack(e1, e2, e3)\n",
        "display(P)\n",
        "A_new = P.inv() * A * P\n",
        "display(A_new)\n",
        "\n",
        "P = sympy.Matrix.hstack(*[vect for eigval, mult, vects in eigenvectors for vect in vects])\n",
        "display(P)\n",
        "A_new = P.inv() * A * P\n",
        "display(A_new)"
      ],
      "execution_count": null,
      "outputs": [
        {
          "output_type": "display_data",
          "data": {
            "text/plain": [
              "<IPython.core.display.Latex object>"
            ],
            "text/latex": "\\left[ \\left( 8, \\  1, \\  \\left[ \\left[\\begin{matrix}- \\frac{5}{17}\\\\\\frac{16}{17}\\\\1\\end{matrix}\\right]\\right]\\right), \\  \\left( 24, \\  1, \\  \\left[ \\left[\\begin{matrix}\\frac{1}{3}\\\\0\\\\1\\end{matrix}\\right]\\right]\\right), \\  \\left( 56, \\  1, \\  \\left[ \\left[\\begin{matrix}- \\frac{3}{7}\\\\\\frac{16}{21}\\\\1\\end{matrix}\\right]\\right]\\right)\\right]"
          },
          "metadata": {}
        },
        {
          "output_type": "display_data",
          "data": {
            "text/plain": [
              "Matrix([\n",
              "[ 3,  3, -1],\n",
              "[ 4, -3,  4],\n",
              "[-3, -2,  1]])"
            ],
            "text/latex": "$\\displaystyle \\left[\\begin{matrix}3 & 3 & -1\\\\4 & -3 & 4\\\\-3 & -2 & 1\\end{matrix}\\right]$"
          },
          "metadata": {}
        },
        {
          "output_type": "display_data",
          "data": {
            "text/plain": [
              "Matrix([\n",
              "[  512,   94,  120],\n",
              "[ -768, -120, -192],\n",
              "[-1320, -250, -304]])"
            ],
            "text/latex": "$\\displaystyle \\left[\\begin{matrix}512 & 94 & 120\\\\-768 & -120 & -192\\\\-1320 & -250 & -304\\end{matrix}\\right]$"
          },
          "metadata": {}
        },
        {
          "output_type": "display_data",
          "data": {
            "text/plain": [
              "Matrix([\n",
              "[-5/17, 1/3,  -3/7],\n",
              "[16/17,   0, 16/21],\n",
              "[    1,   1,     1]])"
            ],
            "text/latex": "$\\displaystyle \\left[\\begin{matrix}- \\frac{5}{17} & \\frac{1}{3} & - \\frac{3}{7}\\\\\\frac{16}{17} & 0 & \\frac{16}{21}\\\\1 & 1 & 1\\end{matrix}\\right]$"
          },
          "metadata": {}
        },
        {
          "output_type": "display_data",
          "data": {
            "text/plain": [
              "Matrix([\n",
              "[8,  0,  0],\n",
              "[0, 24,  0],\n",
              "[0,  0, 56]])"
            ],
            "text/latex": "$\\displaystyle \\left[\\begin{matrix}8 & 0 & 0\\\\0 & 24 & 0\\\\0 & 0 & 56\\end{matrix}\\right]$"
          },
          "metadata": {}
        }
      ]
    }
  ]
}