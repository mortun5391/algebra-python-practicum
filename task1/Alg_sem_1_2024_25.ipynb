{
  "nbformat": 4,
  "nbformat_minor": 0,
  "metadata": {
    "kernelspec": {
      "display_name": "Python 3",
      "language": "python",
      "name": "python3"
    },
    "language_info": {
      "codemirror_mode": {
        "name": "ipython",
        "version": 3
      },
      "file_extension": ".py",
      "mimetype": "text/x-python",
      "name": "python",
      "nbconvert_exporter": "python",
      "pygments_lexer": "ipython3",
      "version": "3.7.3"
    },
    "colab": {
      "provenance": []
    }
  },
  "cells": [
    {
      "cell_type": "markdown",
      "metadata": {
        "id": "UzV0rFa3ZIE6"
      },
      "source": [
        "# Практическое занятие 1\n",
        "## Компьютерный практикум по алгебре на Python"
      ]
    },
    {
      "cell_type": "markdown",
      "metadata": {
        "id": "mX8d718PZIFA"
      },
      "source": [
        "https://docs.sympy.org/latest/tutorial/intro.html"
      ]
    },
    {
      "cell_type": "code",
      "metadata": {
        "id": "1uiC2YF7ZIFB"
      },
      "source": [
        "from sympy import sqrt, sin, cos, tan, atan, pi, E, Symbol, symbols, Matrix\n",
        "from sympy import expand, simplify, factor, collect, zeros, ones, eye, diag"
      ],
      "execution_count": null,
      "outputs": []
    },
    {
      "cell_type": "markdown",
      "metadata": {
        "id": "T9m5qBLdZIFD"
      },
      "source": [
        "## Действия с числами, числовые выражения\n",
        "Об основных типах данных Python 3.10 читайте здесь:\n",
        "https://docs.python.org/3/reference/datamodel.html#index-19\n",
        "\n",
        "Сейчас нам понадобятся типы:\n",
        "\n",
        "**int** - целое число (насколько большим оно может быть, зависит только от объема доступной памяти)\n",
        "\n",
        "**float** - вещественное число (double precision floating point numbers)\n",
        "\n",
        "### Пример 1.\n",
        "Сумма, разность, произведение чисел 3000 и 50000 и квадрат 3000 ($3000^2$).\n",
        "\n",
        "Для вывода результата в **colab** можно просто на последней строке написать, что нужно выводить."
      ]
    },
    {
      "cell_type": "code",
      "metadata": {
        "colab": {
          "base_uri": "https://localhost:8080/"
        },
        "id": "LFEVN9lGZIFE",
        "outputId": "f697a9b8-fa8e-47a9-ab00-2d71e358379c"
      },
      "source": [
        "3000 + 50000, 3000 - 50000, 3000 * 50000, 3000 ** 2"
      ],
      "execution_count": null,
      "outputs": [
        {
          "output_type": "execute_result",
          "data": {
            "text/plain": [
              "(53000, -47000, 150000000, 9000000)"
            ]
          },
          "metadata": {},
          "execution_count": 10
        }
      ]
    },
    {
      "cell_type": "markdown",
      "metadata": {
        "id": "cihtmDmKqu4B"
      },
      "source": [
        "Для более информативного вывода используем встроенную функцию **print**."
      ]
    },
    {
      "cell_type": "code",
      "metadata": {
        "colab": {
          "base_uri": "https://localhost:8080/"
        },
        "id": "FcCIriVrq3To",
        "outputId": "532c97c3-876e-4f38-9d41-035629b1d5d5"
      },
      "source": [
        "print('3000 + 50000 =', 3000 + 50000, '3000 - 50000 =', 3000 - 50000,\n",
        "      '3000 * 50000 =', 3000 * 50000, '3000 ** 2 =', 3000 ** 2)"
      ],
      "execution_count": null,
      "outputs": [
        {
          "output_type": "stream",
          "name": "stdout",
          "text": [
            "3000 + 50000 = 53000 3000 - 50000 = -47000 3000 * 50000 = 150000000 3000 ** 2 = 9000000\n"
          ]
        }
      ]
    },
    {
      "cell_type": "markdown",
      "metadata": {
        "id": "VYxyHv4DrZCx"
      },
      "source": [
        "Еще более красивый вывод получается с использованием **формата строк**:"
      ]
    },
    {
      "cell_type": "code",
      "metadata": {
        "colab": {
          "base_uri": "https://localhost:8080/"
        },
        "id": "1dartSqArfzY",
        "outputId": "12d2d0e8-d5b6-40dc-f92a-360ef8af6a9b"
      },
      "source": [
        "print(f'3000 + 50000 = {3000 + 50000}, 3000 - 50000 = {3000 - 50000}, \\\n",
        "3000 * 50000 = {3000 * 50000}, 3000 ** 2 = {3000 ** 2}')"
      ],
      "execution_count": null,
      "outputs": [
        {
          "output_type": "stream",
          "name": "stdout",
          "text": [
            "3000 + 50000 = 53000, 3000 - 50000 = -47000, 3000 * 50000 = 150000000, 3000 ** 2 = 9000000\n"
          ]
        }
      ]
    },
    {
      "cell_type": "markdown",
      "metadata": {
        "id": "OeBsnLh6r2Rg"
      },
      "source": [
        "В **f-строке** содержимое фигурных скобок заменяется на его значение.\n",
        "\n",
        "Для переноса строки внутри вызова функции **print** можно использовать \"\"\" вместо '."
      ]
    },
    {
      "cell_type": "code",
      "metadata": {
        "colab": {
          "base_uri": "https://localhost:8080/"
        },
        "id": "72B9ipRGsBtg",
        "outputId": "15a8ed6b-ecb7-4bb6-f02e-8bca2ff387f6"
      },
      "source": [
        "print(f\"\"\"3000 + 50000 = {3000 + 50000}, 3000 - 50000 = {3000 - 50000},\n",
        "3000 * 50000 = {3000 * 50000}, 3000 ** 2 = {3000 ** 2}\"\"\")"
      ],
      "execution_count": null,
      "outputs": [
        {
          "output_type": "stream",
          "name": "stdout",
          "text": [
            "3000 + 50000 = 53000, 3000 - 50000 = -47000,\n",
            "3000 * 50000 = 150000000, 3000 ** 2 = 9000000\n"
          ]
        }
      ]
    },
    {
      "cell_type": "markdown",
      "source": [
        "Чтобы все выводилось на одной строке в конце первой строки будем ставить $\\backslash$"
      ],
      "metadata": {
        "id": "Oz68vp5E2H3t"
      }
    },
    {
      "cell_type": "code",
      "source": [
        "print(f\"\"\"3000 + 50000 = {3000 + 50000}, 3000 - 50000 = {3000 - 50000}, \\\n",
        "3000 * 50000 = {3000 * 50000}, 3000 ** 2 = {3000 ** 2}\"\"\")"
      ],
      "metadata": {
        "colab": {
          "base_uri": "https://localhost:8080/"
        },
        "id": "sn5nVSm72RMw",
        "outputId": "9bf6cea5-351d-49ad-d565-b57ce88afc78"
      },
      "execution_count": null,
      "outputs": [
        {
          "output_type": "stream",
          "name": "stdout",
          "text": [
            "3000 + 50000 = 53000, 3000 - 50000 = -47000, 3000 * 50000 = 150000000, 3000 ** 2 = 9000000\n"
          ]
        }
      ]
    },
    {
      "cell_type": "markdown",
      "metadata": {
        "id": "HOzvuoziZIFF"
      },
      "source": [
        "### Пример 2.\n",
        "При делении целых чисел рекомендуется пользоваться целочисленными операциями деления и вычисления остатка от деления, поскольку обычное деление неизбежно приводит к результату типа **float**, даже если делимое нацело делится на делитель.\n",
        "\n",
        "Выведем на экран целую часть от деления 8 на 4 и остаток от деления, а также результат обычного деления 8 на 4."
      ]
    },
    {
      "cell_type": "code",
      "metadata": {
        "colab": {
          "base_uri": "https://localhost:8080/"
        },
        "id": "iT4mc8XbZIFG",
        "outputId": "12e4b9a0-ca31-4543-ab57-0d3f5e5d29e6"
      },
      "source": [
        "print(f'8 // 4 = {8 // 4}, 8 % 4 = {8 % 4}, 8 / 4 = {8 / 4}')"
      ],
      "execution_count": null,
      "outputs": [
        {
          "output_type": "stream",
          "name": "stdout",
          "text": [
            "8 // 4 = 2, 8 % 4 = 0, 8 / 4 = 2.0\n"
          ]
        }
      ]
    },
    {
      "cell_type": "markdown",
      "metadata": {
        "id": "TuxfiY6MZIFG"
      },
      "source": [
        "### Пример 3.\n",
        "У функции **print** есть необязательный параметр **end**, по умолчанию равный переводу на новую строку, так что каждый вызов **print** дает отдельную строку на экране. Если нужно результаты вызова **print** вывести на одной строке, например, через запятую и пробел, то устанавливаем **end**=', '."
      ]
    },
    {
      "cell_type": "code",
      "metadata": {
        "colab": {
          "base_uri": "https://localhost:8080/"
        },
        "id": "ZbtYmEp_ZIFH",
        "outputId": "fca0e220-148f-4e48-e18b-b455a471f239"
      },
      "source": [
        "print(f'8 // 3 = {8 // 3}', end=', ')\n",
        "print(f'8 % 3 = {8 % 3}', end=', ')\n",
        "print(f'8 / 3 = {8 / 3}')"
      ],
      "execution_count": null,
      "outputs": [
        {
          "output_type": "stream",
          "name": "stdout",
          "text": [
            "8 // 3 = 2, 8 % 3 = 2, 8 / 3 = 2.6666666666666665\n"
          ]
        }
      ]
    },
    {
      "cell_type": "markdown",
      "metadata": {
        "id": "fdnsbGllwG7C"
      },
      "source": [
        "В качестве разделителя между отдельными аргументами **print** по умолчанию используется пробел, но это можно изменить, используя необязательный параметр **sep**. Сравните результат с **sep**=', ' и без."
      ]
    },
    {
      "cell_type": "code",
      "metadata": {
        "colab": {
          "base_uri": "https://localhost:8080/"
        },
        "id": "PkCZKfvowq5g",
        "outputId": "5e719b85-6fd7-449f-be85-c27f01356895"
      },
      "source": [
        "print(f'8 // 4 = {8 // 4}', f'8 % 4 = {8 % 4}', f'8 / 4 = {8 / 4}')\n",
        "print(f'8 // 4 = {8 // 4}', f'8 % 4 = {8 % 4}', f'8 / 4 = {8 / 4}', sep=', ')"
      ],
      "execution_count": null,
      "outputs": [
        {
          "output_type": "stream",
          "name": "stdout",
          "text": [
            "8 // 4 = 2 8 % 4 = 0 8 / 4 = 2.0\n",
            "8 // 4 = 2, 8 % 4 = 0, 8 / 4 = 2.0\n"
          ]
        }
      ]
    },
    {
      "cell_type": "markdown",
      "metadata": {
        "id": "fMo_sHeeZIFJ"
      },
      "source": [
        "### Пример 4.\n",
        "Далее будем пользоваться функцией **display** для красивого вывода математических формул там, где это не получается автоматически.\n",
        "Cравним результат с **print**.\n",
        "\n",
        "Посмотрим, как выглядят значения некоторых математических функций из **sympy**:"
      ]
    },
    {
      "cell_type": "code",
      "metadata": {
        "colab": {
          "base_uri": "https://localhost:8080/",
          "height": 116
        },
        "id": "-02XX_t3ZIFK",
        "outputId": "255797ad-adb8-4e85-d24c-323b493f4862"
      },
      "source": [
        "display(sqrt(8), sin(pi / 3), atan(0))\n",
        "print(sqrt(8), sin(pi / 3), atan(0))"
      ],
      "execution_count": null,
      "outputs": [
        {
          "output_type": "display_data",
          "data": {
            "text/plain": [
              "2*sqrt(2)"
            ],
            "text/latex": "$\\displaystyle 2 \\sqrt{2}$"
          },
          "metadata": {}
        },
        {
          "output_type": "display_data",
          "data": {
            "text/plain": [
              "sqrt(3)/2"
            ],
            "text/latex": "$\\displaystyle \\frac{\\sqrt{3}}{2}$"
          },
          "metadata": {}
        },
        {
          "output_type": "display_data",
          "data": {
            "text/plain": [
              "0"
            ],
            "text/latex": "$\\displaystyle 0$"
          },
          "metadata": {}
        },
        {
          "output_type": "stream",
          "name": "stdout",
          "text": [
            "2*sqrt(2) sqrt(3)/2 0\n"
          ]
        }
      ]
    },
    {
      "cell_type": "markdown",
      "metadata": {
        "id": "PZGMn6l4c4qG"
      },
      "source": [
        "Если нужны приближенные значения, преобразуем выражения в тип **float**, используя метод **evalf**."
      ]
    },
    {
      "cell_type": "code",
      "source": [
        "sqrt(8).evalf()"
      ],
      "metadata": {
        "colab": {
          "base_uri": "https://localhost:8080/",
          "height": 38
        },
        "id": "e7hoTjb98wzp",
        "outputId": "8020393c-f369-4368-8947-0639c3612e0f"
      },
      "execution_count": null,
      "outputs": [
        {
          "output_type": "execute_result",
          "data": {
            "text/plain": [
              "2.82842712474619"
            ],
            "text/latex": "$\\displaystyle 2.82842712474619$"
          },
          "metadata": {},
          "execution_count": 19
        }
      ]
    },
    {
      "cell_type": "markdown",
      "metadata": {
        "id": "bIbi_fYDZIFL"
      },
      "source": [
        "## Символы, символьные выражения\n",
        "Для аналитических преобразований в sympy используется класс Symbol\n",
        "\n",
        "https://docs.sympy.org/latest/modules/core.html?highlight=symbol#module-sympy.core.symbol\n",
        "\n",
        "В этом классе есть метод Symbol для создания одного символа.\n",
        "### Пример 5.\n",
        "Создадим символ $x$ и используем его для составления выражения"
      ]
    },
    {
      "cell_type": "code",
      "metadata": {
        "colab": {
          "base_uri": "https://localhost:8080/",
          "height": 53
        },
        "id": "0kLyN2W4ZIFL",
        "outputId": "391e39aa-1622-4488-8794-a9ff5c9bf5be"
      },
      "source": [
        "x = Symbol('x')\n",
        "expr1 = x + 2 ** x\n",
        "expr2 = sin(x) / x\n",
        "expr1 * expr2"
      ],
      "execution_count": null,
      "outputs": [
        {
          "output_type": "execute_result",
          "data": {
            "text/plain": [
              "(2**x + x)*sin(x)/x"
            ],
            "text/latex": "$\\displaystyle \\frac{\\left(2^{x} + x\\right) \\sin{\\left(x \\right)}}{x}$"
          },
          "metadata": {},
          "execution_count": 20
        }
      ]
    },
    {
      "cell_type": "markdown",
      "metadata": {
        "id": "iUR1SPXDZIFM"
      },
      "source": [
        "Можно создавать несколько символов сразу.\n",
        "### Пример 6.\n",
        "Создадим символы $y$ и $z$ и упростим выражение с ними.\n",
        "Обратим внимание, что используется **symbols**, а не **Symbol**!"
      ]
    },
    {
      "cell_type": "code",
      "metadata": {
        "colab": {
          "base_uri": "https://localhost:8080/",
          "height": 38
        },
        "id": "NWLz0GD7ZIFN",
        "outputId": "3c56659e-76ef-4d52-9764-2366dbac5fc2"
      },
      "source": [
        "y, z = symbols('y z')\n",
        "y ** 2 + 1 - z * y ** 2 + 5 * z ** 3 - 3 * y ** 2"
      ],
      "execution_count": null,
      "outputs": [
        {
          "output_type": "execute_result",
          "data": {
            "text/plain": [
              "-y**2*z - 2*y**2 + 5*z**3 + 1"
            ],
            "text/latex": "$\\displaystyle - y^{2} z - 2 y^{2} + 5 z^{3} + 1$"
          },
          "metadata": {},
          "execution_count": 21
        }
      ]
    },
    {
      "cell_type": "markdown",
      "source": [
        "Метод **evalf** можно применить и к выражению, содержащему символы, тогда будут вычислены только числовые выражения:"
      ],
      "metadata": {
        "id": "akSGzenw-uW8"
      }
    },
    {
      "cell_type": "code",
      "source": [
        "(sqrt(2 * y) + sin(3)).evalf()"
      ],
      "metadata": {
        "colab": {
          "base_uri": "https://localhost:8080/",
          "height": 38
        },
        "id": "0pxAHeUC-waT",
        "outputId": "80d356d9-ab93-4eb9-9ec3-8062180f3d91"
      },
      "execution_count": null,
      "outputs": [
        {
          "output_type": "execute_result",
          "data": {
            "text/plain": [
              "1.4142135623731*y**0.5 + 0.141120008059867"
            ],
            "text/latex": "$\\displaystyle 1.4142135623731 y^{0.5} + 0.141120008059867$"
          },
          "metadata": {},
          "execution_count": 22
        }
      ]
    },
    {
      "cell_type": "markdown",
      "metadata": {
        "id": "AuPXWfT1ZIFN"
      },
      "source": [
        "### Пример 7.\n",
        "Создадим символы $x_0,...x_9$ и составим выражение с ними\n",
        "\n",
        "Здесь используется цикл **for** со счетчиком **i**, значения счетчика берутся из диапазона **range(start, end, step)**. По умолчанию **start** равен 0, **step** единица, так что если передать только один аргумент, получится последовательность всех целых чисел от 0 до end-1.\n",
        "\n",
        "ВАЖНО!!! **end** не включается в **range**.\n",
        "\n",
        "len(X) - длина X, в данном случае число элементов X."
      ]
    },
    {
      "cell_type": "code",
      "metadata": {
        "colab": {
          "base_uri": "https://localhost:8080/",
          "height": 57
        },
        "id": "eN3Bauv4ZIFO",
        "outputId": "1167c504-75ee-4a20-c61a-03d32ab4d860"
      },
      "source": [
        "X = symbols('x:10')\n",
        "display(X)\n",
        "expr7 = 0\n",
        "for i in range(len(X)):\n",
        "    expr7 += X[i] ** i\n",
        "expr7"
      ],
      "execution_count": null,
      "outputs": [
        {
          "output_type": "display_data",
          "data": {
            "text/plain": [
              "(x0, x1, x2, x3, x4, x5, x6, x7, x8, x9)"
            ]
          },
          "metadata": {}
        },
        {
          "output_type": "execute_result",
          "data": {
            "text/plain": [
              "x1 + x2**2 + x3**3 + x4**4 + x5**5 + x6**6 + x7**7 + x8**8 + x9**9 + 1"
            ],
            "text/latex": "$\\displaystyle x_{1} + x_{2}^{2} + x_{3}^{3} + x_{4}^{4} + x_{5}^{5} + x_{6}^{6} + x_{7}^{7} + x_{8}^{8} + x_{9}^{9} + 1$"
          },
          "metadata": {},
          "execution_count": 23
        }
      ]
    },
    {
      "cell_type": "markdown",
      "metadata": {
        "id": "VqBBBJdgZIFO"
      },
      "source": [
        "### Пример 8.\n",
        "Создадим символы x10,...x13. Обратите внимание, что послений индекс не учитывается, так что пишем x10:14, а не x10:13.\n",
        "\n",
        "Для красивого вывода используем **display**, для поэлементного вывода используем $*$ перед именем X10_13 (X10_13 - **tuple**, состоящий из отдельных символов).\n",
        "\n",
        "Сравните результат с $*$ и без."
      ]
    },
    {
      "cell_type": "code",
      "metadata": {
        "colab": {
          "base_uri": "https://localhost:8080/",
          "height": 121
        },
        "id": "xjEzjIU2ZIFP",
        "outputId": "ae994d88-d72d-4c12-d648-b25699c855cd"
      },
      "source": [
        "X10_13 = symbols('x10:14')\n",
        "display(X10_13, *X10_13)"
      ],
      "execution_count": null,
      "outputs": [
        {
          "output_type": "display_data",
          "data": {
            "text/plain": [
              "(x10, x11, x12, x13)"
            ]
          },
          "metadata": {}
        },
        {
          "output_type": "display_data",
          "data": {
            "text/plain": [
              "x10"
            ],
            "text/latex": "$\\displaystyle x_{10}$"
          },
          "metadata": {}
        },
        {
          "output_type": "display_data",
          "data": {
            "text/plain": [
              "x11"
            ],
            "text/latex": "$\\displaystyle x_{11}$"
          },
          "metadata": {}
        },
        {
          "output_type": "display_data",
          "data": {
            "text/plain": [
              "x12"
            ],
            "text/latex": "$\\displaystyle x_{12}$"
          },
          "metadata": {}
        },
        {
          "output_type": "display_data",
          "data": {
            "text/plain": [
              "x13"
            ],
            "text/latex": "$\\displaystyle x_{13}$"
          },
          "metadata": {}
        }
      ]
    },
    {
      "cell_type": "markdown",
      "metadata": {
        "id": "6bCvZvh-ZIFQ"
      },
      "source": [
        "## Операции с символьными выражениями: simplify, expand,factor,collect\n",
        "#### simplify\n",
        "используется для упрощения выражения\n",
        "#### expand\n",
        "используется для раскрытия скобок\n",
        "#### factor\n",
        "для разложения на множители\n",
        "#### collect\n",
        "для группировки по степеням переменной\n",
        "### Пример 9.\n",
        "Создадим выражение $(x-3)^2$  и раскроем скобки.\n",
        "К полученному выражению применим **factor**.\n",
        "Выражение $x+5xy-x^2y^3-x^2$ сгруппируем по степеням $x$. Упростим последнее выражение.\n",
        "\n",
        "В этом примере будем выводить на экран выражения по мере их получения, нам придется использовать **display** для математических выражений и **print** для текста, позднее мы научимся совмещать текст и формулы в **display**."
      ]
    },
    {
      "cell_type": "code",
      "metadata": {
        "colab": {
          "base_uri": "https://localhost:8080/",
          "height": 218
        },
        "id": "1pbWlkDeZIFR",
        "outputId": "40243e10-2a83-44ee-eeff-8944110bc7e6"
      },
      "source": [
        "expr9 = (x - 3) ** 2\n",
        "print('expr9')\n",
        "display(expr9)\n",
        "\n",
        "expr9_1 = expand(expr9)\n",
        "print('expand(expr9)')\n",
        "display(expr9_1)\n",
        "\n",
        "expr9_2 = factor(expr9_1)\n",
        "print('factor(expr9_1)')\n",
        "display(expr9_2)\n",
        "\n",
        "expr9_3 = x - 5 * x * y - x ** 2 * y ** 3 - x ** 2\n",
        "print('collect(expr9_3, x)')\n",
        "display(collect(expr9_3, x))\n",
        "\n",
        "expr9_4 = simplify(expr9_3)\n",
        "print('simplify(expr9_3)')\n",
        "display(expr9_4)"
      ],
      "execution_count": null,
      "outputs": [
        {
          "output_type": "stream",
          "name": "stdout",
          "text": [
            "expr9\n"
          ]
        },
        {
          "output_type": "display_data",
          "data": {
            "text/plain": [
              "(x - 3)**2"
            ],
            "text/latex": "$\\displaystyle \\left(x - 3\\right)^{2}$"
          },
          "metadata": {}
        },
        {
          "output_type": "stream",
          "name": "stdout",
          "text": [
            "expand(expr9)\n"
          ]
        },
        {
          "output_type": "display_data",
          "data": {
            "text/plain": [
              "x**2 - 6*x + 9"
            ],
            "text/latex": "$\\displaystyle x^{2} - 6 x + 9$"
          },
          "metadata": {}
        },
        {
          "output_type": "stream",
          "name": "stdout",
          "text": [
            "factor(expr9_1)\n"
          ]
        },
        {
          "output_type": "display_data",
          "data": {
            "text/plain": [
              "(x - 3)**2"
            ],
            "text/latex": "$\\displaystyle \\left(x - 3\\right)^{2}$"
          },
          "metadata": {}
        },
        {
          "output_type": "stream",
          "name": "stdout",
          "text": [
            "collect(expr9_3, x)\n"
          ]
        },
        {
          "output_type": "display_data",
          "data": {
            "text/plain": [
              "x**2*(-y**3 - 1) + x*(1 - 5*y)"
            ],
            "text/latex": "$\\displaystyle x^{2} \\left(- y^{3} - 1\\right) + x \\left(1 - 5 y\\right)$"
          },
          "metadata": {}
        },
        {
          "output_type": "stream",
          "name": "stdout",
          "text": [
            "simplify(expr9_3)\n"
          ]
        },
        {
          "output_type": "display_data",
          "data": {
            "text/plain": [
              "x*(-x*y**3 - x - 5*y + 1)"
            ],
            "text/latex": "$\\displaystyle x \\left(- x y^{3} - x - 5 y + 1\\right)$"
          },
          "metadata": {}
        }
      ]
    },
    {
      "cell_type": "markdown",
      "source": [
        "Можно применять **expand**, **factor** и **simplify** в цикле, покажем это на нашем примере. Будем применять по очереди перечисленные функции сначала к выражению **expr9**, затем к результату применения к нему  **expand** и т.д. Выводить названия функций можно при помощи f-строки, в которую подставим свойство (@property) \\_\\_name\\_\\_"
      ],
      "metadata": {
        "id": "ZJCwD0fmI2y0"
      }
    },
    {
      "cell_type": "code",
      "metadata": {
        "colab": {
          "base_uri": "https://localhost:8080/",
          "height": 138
        },
        "id": "loRp4jPjZIFR",
        "outputId": "563dba3c-c0df-42df-b842-122bff949b16"
      },
      "source": [
        "next = expr9\n",
        "for func in (expand, factor, simplify):\n",
        "    print(f'{func.__name__}')\n",
        "    next = func(next)\n",
        "    display(next)"
      ],
      "execution_count": null,
      "outputs": [
        {
          "output_type": "stream",
          "name": "stdout",
          "text": [
            "expand\n"
          ]
        },
        {
          "output_type": "display_data",
          "data": {
            "text/plain": [
              "x**2 - 6*x + 9"
            ],
            "text/latex": "$\\displaystyle x^{2} - 6 x + 9$"
          },
          "metadata": {}
        },
        {
          "output_type": "stream",
          "name": "stdout",
          "text": [
            "factor\n"
          ]
        },
        {
          "output_type": "display_data",
          "data": {
            "text/plain": [
              "(x - 3)**2"
            ],
            "text/latex": "$\\displaystyle \\left(x - 3\\right)^{2}$"
          },
          "metadata": {}
        },
        {
          "output_type": "stream",
          "name": "stdout",
          "text": [
            "simplify\n"
          ]
        },
        {
          "output_type": "display_data",
          "data": {
            "text/plain": [
              "(x - 3)**2"
            ],
            "text/latex": "$\\displaystyle \\left(x - 3\\right)^{2}$"
          },
          "metadata": {}
        }
      ]
    },
    {
      "cell_type": "markdown",
      "metadata": {
        "id": "DWdx1i4uZIFS"
      },
      "source": [
        "## Списки и кортежи\n",
        "Нам понадобятся два итерируемых типа\n",
        "\n",
        "#### списки list\n",
        "изменяемый тип\n",
        "#### кортежи tuple\n",
        "неизменяемый тип\n",
        "\n",
        "### Пример 10\n",
        "создадим кортеж символов:"
      ]
    },
    {
      "cell_type": "code",
      "metadata": {
        "colab": {
          "base_uri": "https://localhost:8080/",
          "height": 143
        },
        "id": "T5dfMopzZIFS",
        "outputId": "7e91f1e1-2ea2-4490-9e4e-86517ff85ea8"
      },
      "source": [
        "tup = symbols('c:f')\n",
        "display(tup, *tup, tup[1])"
      ],
      "execution_count": null,
      "outputs": [
        {
          "output_type": "display_data",
          "data": {
            "text/plain": [
              "(c, d, e, f)"
            ]
          },
          "metadata": {}
        },
        {
          "output_type": "display_data",
          "data": {
            "text/plain": [
              "c"
            ],
            "text/latex": "$\\displaystyle c$"
          },
          "metadata": {}
        },
        {
          "output_type": "display_data",
          "data": {
            "text/plain": [
              "d"
            ],
            "text/latex": "$\\displaystyle d$"
          },
          "metadata": {}
        },
        {
          "output_type": "display_data",
          "data": {
            "text/plain": [
              "e"
            ],
            "text/latex": "$\\displaystyle e$"
          },
          "metadata": {}
        },
        {
          "output_type": "display_data",
          "data": {
            "text/plain": [
              "f"
            ],
            "text/latex": "$\\displaystyle f$"
          },
          "metadata": {}
        },
        {
          "output_type": "display_data",
          "data": {
            "text/plain": [
              "d"
            ],
            "text/latex": "$\\displaystyle d$"
          },
          "metadata": {}
        }
      ]
    },
    {
      "cell_type": "markdown",
      "metadata": {
        "id": "U07_RQIvZIFS"
      },
      "source": [
        "### Пример 11\n",
        "Создадим  список символов и заменим в нем второй символ на символ $х$."
      ]
    },
    {
      "cell_type": "code",
      "metadata": {
        "colab": {
          "base_uri": "https://localhost:8080/",
          "height": 54
        },
        "id": "TZIWuJ0wZIFS",
        "outputId": "4099ff0a-6435-40d1-8a78-868d44bf188d"
      },
      "source": [
        "list_sym = symbols(['m', 'p', 'q', 'r'])\n",
        "display(list_sym)\n",
        "list_sym[2] = x\n",
        "display(list_sym)"
      ],
      "execution_count": null,
      "outputs": [
        {
          "output_type": "display_data",
          "data": {
            "text/plain": [
              "[m, p, q, r]"
            ]
          },
          "metadata": {}
        },
        {
          "output_type": "display_data",
          "data": {
            "text/plain": [
              "[m, p, x, r]"
            ]
          },
          "metadata": {}
        }
      ]
    },
    {
      "cell_type": "markdown",
      "metadata": {
        "id": "PskKu9AeZIFT"
      },
      "source": [
        "Если попытаемся заменить элемент кортежа, получим сообщение об ошибке"
      ]
    },
    {
      "cell_type": "code",
      "metadata": {
        "id": "Rox28vfzZIFT",
        "outputId": "02b49751-3450-4f83-8b94-09bb1b2791e7",
        "colab": {
          "base_uri": "https://localhost:8080/",
          "height": 148
        }
      },
      "source": [
        "tup[1] = 1"
      ],
      "execution_count": null,
      "outputs": [
        {
          "output_type": "error",
          "ename": "TypeError",
          "evalue": "'tuple' object does not support item assignment",
          "traceback": [
            "\u001b[0;31m---------------------------------------------------------------------------\u001b[0m",
            "\u001b[0;31mTypeError\u001b[0m                                 Traceback (most recent call last)",
            "\u001b[0;32m<ipython-input-36-d516279dfb61>\u001b[0m in \u001b[0;36m<cell line: 1>\u001b[0;34m()\u001b[0m\n\u001b[0;32m----> 1\u001b[0;31m \u001b[0mtup\u001b[0m\u001b[0;34m[\u001b[0m\u001b[0;36m1\u001b[0m\u001b[0;34m]\u001b[0m \u001b[0;34m=\u001b[0m \u001b[0;36m1\u001b[0m\u001b[0;34m\u001b[0m\u001b[0;34m\u001b[0m\u001b[0m\n\u001b[0m",
            "\u001b[0;31mTypeError\u001b[0m: 'tuple' object does not support item assignment"
          ]
        }
      ]
    },
    {
      "cell_type": "markdown",
      "metadata": {
        "id": "6dxuudZRZIFT"
      },
      "source": [
        "## Вложенные списки\n",
        "\n",
        "Создадим вложенный список - аналог двумерного массива:"
      ]
    },
    {
      "cell_type": "code",
      "metadata": {
        "colab": {
          "base_uri": "https://localhost:8080/",
          "height": 54
        },
        "id": "U8u2W5P4ZIFT",
        "outputId": "5d04d527-4515-4ced-8dae-b959ed0463ba"
      },
      "source": [
        "list2d = [[1, 2], [3, 4]]\n",
        "display(list2d)\n",
        "list2d[1][0] = 5\n",
        "display(list2d)"
      ],
      "execution_count": null,
      "outputs": [
        {
          "output_type": "display_data",
          "data": {
            "text/plain": [
              "[[1, 2], [3, 4]]"
            ]
          },
          "metadata": {}
        },
        {
          "output_type": "display_data",
          "data": {
            "text/plain": [
              "[[1, 2], [5, 4]]"
            ]
          },
          "metadata": {}
        }
      ]
    },
    {
      "cell_type": "markdown",
      "metadata": {
        "id": "7qJ7Qe9jZIFU"
      },
      "source": [
        "Индексация во вложенном списке:\n",
        "\n",
        "$A[i][j]$ - элемент списка $A$, находящийся в $i$-й строке $j$-м столбце\n",
        "\n",
        "## Матрицы\n",
        "В sympy есть объекты Matrix\n",
        "\n",
        "https://docs.sympy.org/latest/tutorial/matrices.html?highlight=matrix\n",
        "\n",
        "К матрицам можно применять метод det().\n",
        "\n",
        "У матриц есть свойство shape.\n",
        "\n",
        "Матрицу можно построить, например, на основе списка:"
      ]
    },
    {
      "cell_type": "code",
      "metadata": {
        "colab": {
          "base_uri": "https://localhost:8080/",
          "height": 97
        },
        "id": "okyYfuLtZIFU",
        "outputId": "7a062d9e-bc00-46b3-b411-1453ab4f3cd2"
      },
      "source": [
        "M = Matrix(list2d)\n",
        "display(M)\n",
        "display(M.det())\n",
        "M.shape"
      ],
      "execution_count": null,
      "outputs": [
        {
          "output_type": "display_data",
          "data": {
            "text/plain": [
              "Matrix([\n",
              "[1, 2],\n",
              "[5, 4]])"
            ],
            "text/latex": "$\\displaystyle \\left[\\begin{matrix}1 & 2\\\\5 & 4\\end{matrix}\\right]$"
          },
          "metadata": {}
        },
        {
          "output_type": "display_data",
          "data": {
            "text/plain": [
              "-6"
            ],
            "text/latex": "$\\displaystyle -6$"
          },
          "metadata": {}
        },
        {
          "output_type": "execute_result",
          "data": {
            "text/plain": [
              "(2, 2)"
            ]
          },
          "metadata": {},
          "execution_count": 38
        }
      ]
    },
    {
      "cell_type": "markdown",
      "metadata": {
        "id": "7xi6pdGAZIFU"
      },
      "source": [
        "### Создание матриц определенного вида\n",
        "\n",
        "Можно создавать матрицы из нулей, единиц и единичные матрицы с помощью встренных функций"
      ]
    },
    {
      "cell_type": "code",
      "metadata": {
        "colab": {
          "base_uri": "https://localhost:8080/",
          "height": 200
        },
        "id": "DkFburGnZIFU",
        "outputId": "d23fdb93-8737-4d5c-cf27-79c96bd64654"
      },
      "source": [
        "display(zeros(2), ones(3), eye(4))"
      ],
      "execution_count": null,
      "outputs": [
        {
          "output_type": "display_data",
          "data": {
            "text/plain": [
              "Matrix([\n",
              "[0, 0],\n",
              "[0, 0]])"
            ],
            "text/latex": "$\\displaystyle \\left[\\begin{matrix}0 & 0\\\\0 & 0\\end{matrix}\\right]$"
          },
          "metadata": {}
        },
        {
          "output_type": "display_data",
          "data": {
            "text/plain": [
              "Matrix([\n",
              "[1, 1, 1],\n",
              "[1, 1, 1],\n",
              "[1, 1, 1]])"
            ],
            "text/latex": "$\\displaystyle \\left[\\begin{matrix}1 & 1 & 1\\\\1 & 1 & 1\\\\1 & 1 & 1\\end{matrix}\\right]$"
          },
          "metadata": {}
        },
        {
          "output_type": "display_data",
          "data": {
            "text/plain": [
              "Matrix([\n",
              "[1, 0, 0, 0],\n",
              "[0, 1, 0, 0],\n",
              "[0, 0, 1, 0],\n",
              "[0, 0, 0, 1]])"
            ],
            "text/latex": "$\\displaystyle \\left[\\begin{matrix}1 & 0 & 0 & 0\\\\0 & 1 & 0 & 0\\\\0 & 0 & 1 & 0\\\\0 & 0 & 0 & 1\\end{matrix}\\right]$"
          },
          "metadata": {}
        }
      ]
    },
    {
      "cell_type": "markdown",
      "metadata": {
        "id": "ZZRNrPJJZIFV"
      },
      "source": [
        "Можно создать диагональную матрицу:"
      ]
    },
    {
      "cell_type": "code",
      "metadata": {
        "colab": {
          "base_uri": "https://localhost:8080/",
          "height": 119
        },
        "id": "T9uKGmL6ZIFV",
        "outputId": "c414486b-b1c5-4d2d-ac77-cf9075aaed7f"
      },
      "source": [
        "R = diag(1, 2, ones(3))\n",
        "R"
      ],
      "execution_count": null,
      "outputs": [
        {
          "output_type": "execute_result",
          "data": {
            "text/plain": [
              "Matrix([\n",
              "[1, 0, 0, 0, 0],\n",
              "[0, 2, 0, 0, 0],\n",
              "[0, 0, 1, 1, 1],\n",
              "[0, 0, 1, 1, 1],\n",
              "[0, 0, 1, 1, 1]])"
            ],
            "text/latex": "$\\displaystyle \\left[\\begin{matrix}1 & 0 & 0 & 0 & 0\\\\0 & 2 & 0 & 0 & 0\\\\0 & 0 & 1 & 1 & 1\\\\0 & 0 & 1 & 1 & 1\\\\0 & 0 & 1 & 1 & 1\\end{matrix}\\right]$"
          },
          "metadata": {},
          "execution_count": 40
        }
      ]
    },
    {
      "cell_type": "markdown",
      "metadata": {
        "id": "iGBbGIBFZIFV"
      },
      "source": [
        "В матрице можно выделить строку или столбец:"
      ]
    },
    {
      "cell_type": "code",
      "metadata": {
        "colab": {
          "base_uri": "https://localhost:8080/",
          "height": 38
        },
        "id": "_oFyyukxZIFV",
        "outputId": "d4658c95-1b6c-419d-ed69-158589edad3c"
      },
      "source": [
        "R.row(1)"
      ],
      "execution_count": null,
      "outputs": [
        {
          "output_type": "execute_result",
          "data": {
            "text/plain": [
              "Matrix([[0, 2, 0, 0, 0]])"
            ],
            "text/latex": "$\\displaystyle \\left[\\begin{matrix}0 & 2 & 0 & 0 & 0\\end{matrix}\\right]$"
          },
          "metadata": {},
          "execution_count": 41
        }
      ]
    },
    {
      "cell_type": "code",
      "metadata": {
        "colab": {
          "base_uri": "https://localhost:8080/",
          "height": 119
        },
        "id": "zcbTarvJZIFV",
        "outputId": "346aec21-a4c8-4c01-e353-55bc7a8cc3d9"
      },
      "source": [
        "R.col(0)"
      ],
      "execution_count": null,
      "outputs": [
        {
          "output_type": "execute_result",
          "data": {
            "text/plain": [
              "Matrix([\n",
              "[1],\n",
              "[0],\n",
              "[0],\n",
              "[0],\n",
              "[0]])"
            ],
            "text/latex": "$\\displaystyle \\left[\\begin{matrix}1\\\\0\\\\0\\\\0\\\\0\\end{matrix}\\right]$"
          },
          "metadata": {},
          "execution_count": 42
        }
      ]
    },
    {
      "cell_type": "markdown",
      "metadata": {
        "id": "K-T1nToJZIFW"
      },
      "source": [
        "Можно использовать нумерацию \"с хвоста\":"
      ]
    },
    {
      "cell_type": "code",
      "metadata": {
        "colab": {
          "base_uri": "https://localhost:8080/",
          "height": 119
        },
        "id": "X_pUrFMsZIFW",
        "outputId": "ae2c840f-93da-4598-e634-7f124da412af"
      },
      "source": [
        "R.col(-4)"
      ],
      "execution_count": null,
      "outputs": [
        {
          "output_type": "execute_result",
          "data": {
            "text/plain": [
              "Matrix([\n",
              "[0],\n",
              "[2],\n",
              "[0],\n",
              "[0],\n",
              "[0]])"
            ],
            "text/latex": "$\\displaystyle \\left[\\begin{matrix}0\\\\2\\\\0\\\\0\\\\0\\end{matrix}\\right]$"
          },
          "metadata": {},
          "execution_count": 43
        }
      ]
    },
    {
      "cell_type": "markdown",
      "metadata": {
        "id": "yYMpf5FSZIFW"
      },
      "source": [
        "Можно удалить или добавить строку или столбец:"
      ]
    },
    {
      "cell_type": "code",
      "metadata": {
        "colab": {
          "base_uri": "https://localhost:8080/",
          "height": 220
        },
        "id": "LY9bkHruZIFW",
        "outputId": "723d3468-023b-459d-a75d-c4481d05fc9f"
      },
      "source": [
        "Q = diag(2, 3, 4, 5, 6)\n",
        "display(Q)\n",
        "Q.col_del(3)\n",
        "Q"
      ],
      "execution_count": null,
      "outputs": [
        {
          "output_type": "display_data",
          "data": {
            "text/plain": [
              "Matrix([\n",
              "[2, 0, 0, 0, 0],\n",
              "[0, 3, 0, 0, 0],\n",
              "[0, 0, 4, 0, 0],\n",
              "[0, 0, 0, 5, 0],\n",
              "[0, 0, 0, 0, 6]])"
            ],
            "text/latex": "$\\displaystyle \\left[\\begin{matrix}2 & 0 & 0 & 0 & 0\\\\0 & 3 & 0 & 0 & 0\\\\0 & 0 & 4 & 0 & 0\\\\0 & 0 & 0 & 5 & 0\\\\0 & 0 & 0 & 0 & 6\\end{matrix}\\right]$"
          },
          "metadata": {}
        },
        {
          "output_type": "execute_result",
          "data": {
            "text/plain": [
              "Matrix([\n",
              "[2, 0, 0, 0],\n",
              "[0, 3, 0, 0],\n",
              "[0, 0, 4, 0],\n",
              "[0, 0, 0, 0],\n",
              "[0, 0, 0, 6]])"
            ],
            "text/latex": "$\\displaystyle \\left[\\begin{matrix}2 & 0 & 0 & 0\\\\0 & 3 & 0 & 0\\\\0 & 0 & 4 & 0\\\\0 & 0 & 0 & 0\\\\0 & 0 & 0 & 6\\end{matrix}\\right]$"
          },
          "metadata": {},
          "execution_count": 44
        }
      ]
    },
    {
      "cell_type": "code",
      "metadata": {
        "colab": {
          "base_uri": "https://localhost:8080/",
          "height": 139
        },
        "id": "F84sgJ1oZIFW",
        "outputId": "7bcdd0e5-e9db-40b9-cc34-7bb8bfda54f5"
      },
      "source": [
        "G = ones(2)\n",
        "display(G)\n",
        "G.row_insert(1, zeros(2))"
      ],
      "execution_count": null,
      "outputs": [
        {
          "output_type": "display_data",
          "data": {
            "text/plain": [
              "Matrix([\n",
              "[1, 1],\n",
              "[1, 1]])"
            ],
            "text/latex": "$\\displaystyle \\left[\\begin{matrix}1 & 1\\\\1 & 1\\end{matrix}\\right]$"
          },
          "metadata": {}
        },
        {
          "output_type": "execute_result",
          "data": {
            "text/plain": [
              "Matrix([\n",
              "[1, 1],\n",
              "[0, 0],\n",
              "[0, 0],\n",
              "[1, 1]])"
            ],
            "text/latex": "$\\displaystyle \\left[\\begin{matrix}1 & 1\\\\0 & 0\\\\0 & 0\\\\1 & 1\\end{matrix}\\right]$"
          },
          "metadata": {},
          "execution_count": 45
        }
      ]
    },
    {
      "cell_type": "markdown",
      "metadata": {
        "id": "dBdme5GNZIFX"
      },
      "source": [
        "Внимание!\n",
        "\n",
        "col_insert и row_insert НЕ изменяют матрицу, к которой они применяются!!!\n",
        "col_insert и row_insert возвращают измененную матрицу в качестве результата."
      ]
    },
    {
      "cell_type": "code",
      "metadata": {
        "colab": {
          "base_uri": "https://localhost:8080/",
          "height": 335
        },
        "id": "BAIwZeMfZIFX",
        "outputId": "139b7aff-3439-47bb-d9e4-54814540be2d"
      },
      "source": [
        "D = diag(7, 8, 9, 0)\n",
        "print('D:')\n",
        "display(D)\n",
        "T = D.col_insert(1, Matrix([3, 4, 5, 6]))\n",
        "print('после вставки столбца\\nT:')\n",
        "display(T)\n",
        "print('D:')\n",
        "display(D)"
      ],
      "execution_count": null,
      "outputs": [
        {
          "output_type": "stream",
          "name": "stdout",
          "text": [
            "D:\n"
          ]
        },
        {
          "output_type": "display_data",
          "data": {
            "text/plain": [
              "Matrix([\n",
              "[7, 0, 0, 0],\n",
              "[0, 8, 0, 0],\n",
              "[0, 0, 9, 0],\n",
              "[0, 0, 0, 0]])"
            ],
            "text/latex": "$\\displaystyle \\left[\\begin{matrix}7 & 0 & 0 & 0\\\\0 & 8 & 0 & 0\\\\0 & 0 & 9 & 0\\\\0 & 0 & 0 & 0\\end{matrix}\\right]$"
          },
          "metadata": {}
        },
        {
          "output_type": "stream",
          "name": "stdout",
          "text": [
            "после вставки столбца\n",
            "T:\n"
          ]
        },
        {
          "output_type": "display_data",
          "data": {
            "text/plain": [
              "Matrix([\n",
              "[7, 3, 0, 0, 0],\n",
              "[0, 4, 8, 0, 0],\n",
              "[0, 5, 0, 9, 0],\n",
              "[0, 6, 0, 0, 0]])"
            ],
            "text/latex": "$\\displaystyle \\left[\\begin{matrix}7 & 3 & 0 & 0 & 0\\\\0 & 4 & 8 & 0 & 0\\\\0 & 5 & 0 & 9 & 0\\\\0 & 6 & 0 & 0 & 0\\end{matrix}\\right]$"
          },
          "metadata": {}
        },
        {
          "output_type": "stream",
          "name": "stdout",
          "text": [
            "D:\n"
          ]
        },
        {
          "output_type": "display_data",
          "data": {
            "text/plain": [
              "Matrix([\n",
              "[7, 0, 0, 0],\n",
              "[0, 8, 0, 0],\n",
              "[0, 0, 9, 0],\n",
              "[0, 0, 0, 0]])"
            ],
            "text/latex": "$\\displaystyle \\left[\\begin{matrix}7 & 0 & 0 & 0\\\\0 & 8 & 0 & 0\\\\0 & 0 & 9 & 0\\\\0 & 0 & 0 & 0\\end{matrix}\\right]$"
          },
          "metadata": {}
        }
      ]
    },
    {
      "cell_type": "markdown",
      "metadata": {
        "id": "FW1QLS64ZIFX"
      },
      "source": [
        "### Пригодится\n",
        "\n",
        "Числа $\\pi$ и $e$ есть в Sympy:"
      ]
    },
    {
      "cell_type": "code",
      "metadata": {
        "colab": {
          "base_uri": "https://localhost:8080/",
          "height": 60
        },
        "id": "bFRlXA2rZIFX",
        "outputId": "11d45ded-651d-453d-87ff-149e1ab7dab0"
      },
      "source": [
        "display(pi, E)"
      ],
      "execution_count": null,
      "outputs": [
        {
          "output_type": "display_data",
          "data": {
            "text/plain": [
              "pi"
            ],
            "text/latex": "$\\displaystyle \\pi$"
          },
          "metadata": {}
        },
        {
          "output_type": "display_data",
          "data": {
            "text/plain": [
              "E"
            ],
            "text/latex": "$\\displaystyle e$"
          },
          "metadata": {}
        }
      ]
    },
    {
      "cell_type": "markdown",
      "metadata": {
        "id": "DH0OcRRoZIFX"
      },
      "source": [
        "Можем посмотреть на их приближенные значения:"
      ]
    },
    {
      "cell_type": "code",
      "source": [
        "print(f'pi = {pi.evalf()}, e={E.evalf()}')"
      ],
      "metadata": {
        "colab": {
          "base_uri": "https://localhost:8080/"
        },
        "id": "pqeBeupdKYXS",
        "outputId": "c4fa4b3f-50ad-40df-cbb3-6778cee642f8"
      },
      "execution_count": null,
      "outputs": [
        {
          "output_type": "stream",
          "name": "stdout",
          "text": [
            "pi = 3.14159265358979, e=2.71828182845905\n"
          ]
        }
      ]
    }
  ]
}