{
  "cells": [
    {
      "cell_type": "markdown",
      "metadata": {
        "id": "NWxN--Ciycml"
      },
      "source": [
        "# Практическое занятие 1\n",
        "# Компьютерный практикум по алгебре на Python"
      ]
    },
    {
      "cell_type": "markdown",
      "metadata": {
        "id": "JITt7G7iycmp"
      },
      "source": [
        "https://docs.sympy.org/latest/tutorial/intro.html"
      ]
    },
    {
      "cell_type": "code",
      "execution_count": null,
      "metadata": {
        "id": "VKvRy_UGycmq"
      },
      "outputs": [],
      "source": [
        "from sympy import sqrt, sin, cos, pi, Symbol, symbols, Matrix\n",
        "from sympy import expand, simplify, factor, collect, zeros, ones, eye"
      ]
    },
    {
      "cell_type": "markdown",
      "metadata": {
        "id": "x3mNO8qJycmr"
      },
      "source": [
        "**Действия с числами, числовые выражения**\n",
        "\n",
        "Об основных типах данных Python 3.10 читайте здесь:\n",
        "https://docs.python.org/3/reference/datamodel.html#index-19\n",
        "\n",
        "**Символы, символьные выражения**\n",
        "\n",
        "Для аналитических преобразований в sympy используется класс Symbol\n",
        "\n",
        "https://docs.sympy.org/latest/modules/core.html?highlight=symbol#module-sympy.core.symbol\n",
        "\n",
        "В этом классе есть метод Symbol для создания одного символа.\n",
        "\n",
        "**Операции с символьными выражениями: simplify, expand,factor,collect**\n",
        "\n",
        "**simplify**\n",
        "используется для упрощения выражения\n",
        "\n",
        "**expand**\n",
        "используется для раскрытия скобок\n",
        "\n",
        "**factor**\n",
        "для разложения на множители\n",
        "\n",
        "**collect**\n",
        "для группировки по степеням переменной\n",
        "### Задание 1.\n",
        "Вычислите значение выражения\n",
        "$$\n",
        "6\\cos\\left(\\frac{\\pi}{3}\\right)\\frac{3^{\\sin\\left(\\frac{\\pi}{6}\\right)} + 1}{\\sqrt{3} + 1}\n",
        "$$"
      ]
    },
    {
      "cell_type": "code",
      "execution_count": null,
      "metadata": {
        "id": "GLFKZMewC4A5",
        "colab": {
          "base_uri": "https://localhost:8080/",
          "height": 60
        },
        "outputId": "f5772a1a-2c4f-4474-8060-e1d9050e3c95"
      },
      "outputs": [
        {
          "output_type": "display_data",
          "data": {
            "text/plain": [
              "(3 + 3*sqrt(3))/(1 + sqrt(3))"
            ],
            "text/latex": "$\\displaystyle \\frac{3 + 3 \\sqrt{3}}{1 + \\sqrt{3}}$"
          },
          "metadata": {}
        }
      ],
      "source": [
        "display(6*cos(pi/3) * (3 ** sin(pi/6) + 1) / (sqrt(3) + 1))"
      ]
    },
    {
      "cell_type": "markdown",
      "metadata": {
        "id": "G3b9I6dNycmr"
      },
      "source": [
        "###  Задание 2.\n",
        "Создайте символ $t$ и выведите на экран автоматически разложенное на множители выражение $t^{11} + 3 t^{10} + 2 t^{9} - 6 t^{8} - 15 t^{7} - 9 t^{6} + 12 t^{5} + 24 t^{4} + 12 t^{3} - 8 t^{2} - 12 t - 4$."
      ]
    },
    {
      "cell_type": "code",
      "execution_count": null,
      "metadata": {
        "id": "FxIwv4mCC6Fy",
        "colab": {
          "base_uri": "https://localhost:8080/",
          "height": 42
        },
        "outputId": "120cf50d-fe38-46ab-bb86-ccda0153fa0f"
      },
      "outputs": [
        {
          "output_type": "display_data",
          "data": {
            "text/plain": [
              "(t - 1)*(t + 1)**4*(t**3 - 2)**2"
            ],
            "text/latex": "$\\displaystyle \\left(t - 1\\right) \\left(t + 1\\right)^{4} \\left(t^{3} - 2\\right)^{2}$"
          },
          "metadata": {}
        }
      ],
      "source": [
        "t = symbols('t')\n",
        "display(factor(t**11 + 3 * t**10 + 2 * t ** 9 - 6 * t ** 8 - 15 * t**7 - 9 * t**6 +\n",
        "               12 * t**5 + 24 * t**4 + 12 * t**3 - 8 * t**2 - 12 * t - 4))\n"
      ]
    },
    {
      "cell_type": "markdown",
      "metadata": {
        "id": "qMlP2YM5ycms"
      },
      "source": [
        "###  Задание 3.\n",
        "Упростите выражение\n",
        "$$\n",
        "\\left(\\left(3 - \\sin{\\left(\\pi k \\right)}\\right)^{2} + \\cos^{2}{\\left(\\pi k \\right)} - 10\\right)^{2} + 36 \\cos^{2}{\\left(\\pi k \\right)}\n",
        "$$"
      ]
    },
    {
      "cell_type": "code",
      "execution_count": null,
      "metadata": {
        "id": "Z83F9UXKC8DJ",
        "colab": {
          "base_uri": "https://localhost:8080/",
          "height": 37
        },
        "outputId": "01fce72e-b1a2-4787-894f-312087ed3cd3"
      },
      "outputs": [
        {
          "output_type": "display_data",
          "data": {
            "text/plain": [
              "36"
            ],
            "text/latex": "$\\displaystyle 36$"
          },
          "metadata": {}
        }
      ],
      "source": [
        "k = symbols('k')\n",
        "display(simplify(((3 - sin(pi * k)) ** 2 + cos(pi * k) ** 2 - 10) ** 2 + 36*cos(pi * k) ** 2))\n"
      ]
    },
    {
      "cell_type": "markdown",
      "metadata": {
        "id": "gasezWy-ycmt"
      },
      "source": [
        "###  Задание 4.\n",
        "Упростите выражение\n",
        "$$\n",
        "\\frac{\\left(a + b + c + d\\right)^{2}- \\left(a + c\\right)^{2} - \\left(b + d\\right)^{2}}{a + c}\n",
        "$$\n",
        "Если в выражении есть общий множитель, его необходимо вынести за скобки!"
      ]
    },
    {
      "cell_type": "code",
      "execution_count": null,
      "metadata": {
        "id": "RE_Psb_mC9q3",
        "colab": {
          "base_uri": "https://localhost:8080/",
          "height": 39
        },
        "outputId": "b6e4fead-611d-4489-bc34-20ef401d735b"
      },
      "outputs": [
        {
          "output_type": "display_data",
          "data": {
            "text/plain": [
              "2*(b + d)"
            ],
            "text/latex": "$\\displaystyle 2 \\left(b + d\\right)$"
          },
          "metadata": {}
        }
      ],
      "source": [
        "a, b , c , d = symbols('a b c d')\n",
        "display(factor(simplify(((a + b + c + d)**2 - (a + c)**2 - (b + d)**2) / (a + c))))\n"
      ]
    },
    {
      "cell_type": "markdown",
      "metadata": {
        "id": "d9_rZkk7ycmt"
      },
      "source": [
        "###  Задание 5.\n",
        "Разложите на множители\n",
        "$2u^4+3u^3v-2u^2v^2-2u^2v-3uv^2+2v^3$"
      ]
    },
    {
      "cell_type": "code",
      "execution_count": null,
      "metadata": {
        "id": "CSfOa1XeC-7F",
        "colab": {
          "base_uri": "https://localhost:8080/",
          "height": 39
        },
        "outputId": "ce44476a-4506-4a5a-b64c-ede1c6c02765"
      },
      "outputs": [
        {
          "output_type": "display_data",
          "data": {
            "text/plain": [
              "(u + 2*v)*(2*u - v)*(u**2 - v)"
            ],
            "text/latex": "$\\displaystyle \\left(u + 2 v\\right) \\left(2 u - v\\right) \\left(u^{2} - v\\right)$"
          },
          "metadata": {}
        }
      ],
      "source": [
        "u, v = symbols('u v')\n",
        "display(factor(2*u**4 + 3*u**3*v - 2*u**2*v**2 - 2*u**2*v - 3*u*v**2 + 2*v**3))\n"
      ]
    },
    {
      "cell_type": "markdown",
      "metadata": {
        "id": "Cnm5vka3ycmu"
      },
      "source": [
        "###  Задание 6.\n",
        "Создайте символы $x$ и $y$ и сгруппируйте по степеням $y$ выражение\n",
        "$$\n",
        "(x + y)^{3}(2x^{2} - 3y^{2}) + x y^5 - 2x^2 y^2\n",
        "$$"
      ]
    },
    {
      "cell_type": "code",
      "execution_count": null,
      "metadata": {
        "id": "8k1LvuyQDAD3",
        "colab": {
          "base_uri": "https://localhost:8080/",
          "height": 40
        },
        "outputId": "022a243d-d2cb-450c-c39d-2f6c72c3d3ea"
      },
      "outputs": [
        {
          "output_type": "display_data",
          "data": {
            "text/plain": [
              "-2*x**2*y**2 + x*y**5 + (x + y)**3*(2*x**2 - 3*y**2)"
            ],
            "text/latex": "$\\displaystyle - 2 x^{2} y^{2} + x y^{5} + \\left(x + y\\right)^{3} \\left(2 x^{2} - 3 y^{2}\\right)$"
          },
          "metadata": {}
        }
      ],
      "source": [
        "x, y = symbols('x y')\n",
        "display(collect((x+y)**3 * (2*x**2 - 3*y**2) + x*y**5 - 2*x**2*y**2, y))\n"
      ]
    },
    {
      "cell_type": "markdown",
      "metadata": {
        "id": "nvztFMwyycmv"
      },
      "source": [
        "## Списки и кортежи\n",
        "Нам понадобятся два итерируемых типа\n",
        "\n",
        "#### списки list\n",
        "изменяемый тип\n",
        "#### кортежи tuple\n",
        "неизменяемый тип\n",
        "\n",
        "### Задание 7*\n",
        "Создайте кортеж $powers$, состоящий из символов $x_1$, ..., $x_{12}$ в степени,  равной удвоенному индексу, т.е $x_1^2$, ..., $x_{12}^{24}$.\n",
        "\n",
        "Использовать цикл!"
      ]
    },
    {
      "cell_type": "code",
      "execution_count": null,
      "metadata": {
        "id": "GDRwlT7NDBQP",
        "colab": {
          "base_uri": "https://localhost:8080/",
          "height": 225
        },
        "outputId": "7b82f685-caeb-4d1c-dccd-807b5f72e8bb"
      },
      "outputs": [
        {
          "output_type": "display_data",
          "data": {
            "text/plain": [
              "(x1**2,\n",
              " x2**4,\n",
              " x3**6,\n",
              " x4**8,\n",
              " x5**10,\n",
              " x6**12,\n",
              " x7**14,\n",
              " x8**16,\n",
              " x9**18,\n",
              " x10**20,\n",
              " x11**22,\n",
              " x12**24)"
            ]
          },
          "metadata": {}
        }
      ],
      "source": [
        "i = 1\n",
        "powers = []\n",
        "for x in symbols('x1 x2 x3 x4 x5 x6 x7 x8 x9 x10 x11 x12'):\n",
        "    powers += [x ** (i * 2)]\n",
        "    i+=1\n",
        "powers = tuple(powers)\n",
        "display(powers)"
      ]
    },
    {
      "cell_type": "markdown",
      "metadata": {
        "id": "sE10eEvqycmv"
      },
      "source": [
        "## Матрицы\n",
        "### Задание 8\n",
        "Вывести на экран значение выражения $2A + 3 B + C\\cdot D$, где $A$ единичная матрица четвертого порядка, $B$ - матрица  четвертого порядка из единиц, $C = \\left[\\begin{matrix}1 & 5\\\\2 & 6\\\\3 & 0\\\\4 & 1\\end{matrix}\\right]$, $D = \\left[\\begin{matrix}7 & 8 & 9 & 0\\\\4 & 3 & 2 & 1\\end{matrix}\\right]$."
      ]
    },
    {
      "cell_type": "code",
      "execution_count": null,
      "metadata": {
        "id": "5ep8PMzVDCzm",
        "colab": {
          "base_uri": "https://localhost:8080/",
          "height": 98
        },
        "outputId": "7153ca4f-1054-4045-9ad5-cdb255574e32"
      },
      "outputs": [
        {
          "output_type": "display_data",
          "data": {
            "text/plain": [
              "Matrix([\n",
              "[32, 26, 22, 8],\n",
              "[41, 39, 33, 9],\n",
              "[24, 27, 32, 3],\n",
              "[35, 38, 41, 6]])"
            ],
            "text/latex": "$\\displaystyle \\left[\\begin{matrix}32 & 26 & 22 & 8\\\\41 & 39 & 33 & 9\\\\24 & 27 & 32 & 3\\\\35 & 38 & 41 & 6\\end{matrix}\\right]$"
          },
          "metadata": {}
        }
      ],
      "source": [
        "A = eye(4)\n",
        "B = Matrix([[1,1,1,1], [1,1,1,1], [1,1,1,1], [1,1,1,1]])\n",
        "C = Matrix([[1, 5], [2, 6], [3,0], [4,1]])\n",
        "D = Matrix([[7, 8, 9, 0], [4,3,2,1]])\n",
        "display(2*A + 3*B + C * D)"
      ]
    },
    {
      "cell_type": "markdown",
      "metadata": {
        "id": "PmrUn7iVycmw"
      },
      "source": [
        "### Задание 9*\n",
        "Составить матрицу  $A_{3\\times 4}$ из чисел вида $3k+1$, $k=1,2,...$, должно получиться\n",
        "$$\n",
        "A=\n",
        "\\left(\n",
        "\\begin{matrix}\n",
        "4& 7& 10& 13\\\\\n",
        "16& 19& 22& 25\\\\\n",
        "28& 31& 34& 37\n",
        "\\end{matrix}\n",
        "\\right)\n",
        "$$\n",
        "**Указание:** создать матрицу из нулей нужной размерности, использовать цикл для заполнения элементов матрицы числами вида $3k+1$, $k=1,2,...$"
      ]
    },
    {
      "cell_type": "code",
      "execution_count": null,
      "metadata": {
        "id": "ki2iFf6DDEh0",
        "colab": {
          "base_uri": "https://localhost:8080/",
          "height": 78
        },
        "outputId": "8de1223b-4c1d-4cfe-a366-723286429251"
      },
      "outputs": [
        {
          "output_type": "display_data",
          "data": {
            "text/plain": [
              "Matrix([\n",
              "[ 4,  7, 10, 13],\n",
              "[16, 19, 22, 25],\n",
              "[28, 31, 34, 37]])"
            ],
            "text/latex": "$\\displaystyle \\left[\\begin{matrix}4 & 7 & 10 & 13\\\\16 & 19 & 22 & 25\\\\28 & 31 & 34 & 37\\end{matrix}\\right]$"
          },
          "metadata": {}
        }
      ],
      "source": [
        "A = zeros(3, 4)\n",
        "k = 1\n",
        "for i in range(3):\n",
        "    for j in range(4):\n",
        "        A[i,j] = 3*k + 1\n",
        "        k+=1\n",
        "display(A)\n"
      ]
    },
    {
      "cell_type": "markdown",
      "metadata": {
        "id": "lU6I_nCJycmw"
      },
      "source": [
        "### Задание 10\n",
        "В матрице А удалить вторую строку и вставить столбец из нулей между первым и вторым\n",
        "$$\n",
        "A=\n",
        "\\left[\\begin{matrix}27 & 23 & 19 & 5\\\\38 & 34 & 30 & 6\\\\21 & 24 & 27 & 0\\\\32 & 35 & 38 & 1\\end{matrix}\\right],\n",
        "$$\n",
        "должно получиться\n",
        "$$\n",
        "\\left[\\begin{matrix}27 & 0 & 23 & 19 & 5\\\\21 & 0 & 24 & 27 & 0\\\\32 & 0 & 35 & 38 & 1\\end{matrix}\\right]\n",
        "$$"
      ]
    },
    {
      "cell_type": "code",
      "execution_count": null,
      "metadata": {
        "id": "gPAU7FNPDHqs",
        "colab": {
          "base_uri": "https://localhost:8080/",
          "height": 78
        },
        "outputId": "43a6b0a8-d797-4805-f2e7-5e8c896354b5"
      },
      "outputs": [
        {
          "output_type": "display_data",
          "data": {
            "text/plain": [
              "Matrix([\n",
              "[27, 0, 23, 19, 5],\n",
              "[21, 0, 24, 27, 0],\n",
              "[32, 0, 35, 38, 1]])"
            ],
            "text/latex": "$\\displaystyle \\left[\\begin{matrix}27 & 0 & 23 & 19 & 5\\\\21 & 0 & 24 & 27 & 0\\\\32 & 0 & 35 & 38 & 1\\end{matrix}\\right]$"
          },
          "metadata": {}
        }
      ],
      "source": [
        "A = Matrix([[27,23,19,5],\n",
        "            [38,34,30,6],\n",
        "            [21,24,27,0],\n",
        "            [32,35,38,1]])\n",
        "A.row_del(1)\n",
        "A = (A.row_join(Matrix([0,0,0])))\n",
        "A.col_swap(3,4)\n",
        "A.col_swap(2,3)\n",
        "A.col_swap(1,2)\n",
        "display(A)"
      ]
    },
    {
      "cell_type": "markdown",
      "metadata": {
        "id": "bSKQcn87ycmx"
      },
      "source": [
        "### Индивидуальное задание\n",
        "Дана матрица $A$ левой части СЛАУ и вектор-столбец $X$ - решение СЛАУ $AX = b$, а также имена переменных. Вычислить вектор-столбец правой части. Представить СЛАУ в виде списка левых частей уравнений.\n",
        "\n",
        "У каждого свой вариант с $A$, $X$ и именами переменных.\n",
        "\n",
        "Например,\n",
        "$$\n",
        "A = \\left[\\begin{matrix}2 & 3 & 1\\\\8 & -4 & 6\\\\-1 & 2 & 7\\end{matrix}\\right],\n",
        "\\qquad\n",
        "X = \\left[\\begin{matrix}-2\\\\5\\\\3\\end{matrix}\\right], \\quad\n",
        "\\mbox{ переменные }\\ x,\\ y,\\ z,\n",
        "$$\n",
        "тогда\n",
        "$$\n",
        "b = \\left[\\begin{matrix}14\\\\-18\\\\33\\end{matrix}\\right],\n",
        "\\quad\n",
        "\\left[\\begin{matrix}2 x + 3 y + z\\\\8 x - 4 y + 6 z\\\\- x + 2 y + 7 z\\end{matrix}\\right]\n",
        "$$"
      ]
    },
    {
      "cell_type": "code",
      "execution_count": null,
      "metadata": {
        "id": "o1hMigXODI8Y",
        "colab": {
          "base_uri": "https://localhost:8080/",
          "height": 86
        },
        "outputId": "ddbdc3f2-1d51-480e-ba38-d8958168ea20"
      },
      "outputs": [
        {
          "output_type": "display_data",
          "data": {
            "text/plain": [
              "[-2*a - 8*c + 9*f - 9*g - x,\n",
              " 6*a - 5*c - 9*f + 7*g - 4*x,\n",
              " a + c + 9*f - 7*g + 8*x,\n",
              " -7*a - 3*c - 7*f - g - 5*x]"
            ]
          },
          "metadata": {}
        }
      ],
      "source": [
        "# ИДЗ 169 вариант\n",
        "a, c, f, g, x = symbols('a c f g x')\n",
        "A = Matrix([[-2, -8, 9, -9, -1],\n",
        "            [6, -5, -9, 7, -4],\n",
        "            [1, 1, 9, -7, 8],\n",
        "            [-7, -3,-7,-1,-5]])\n",
        "X = Matrix([-8, -2, -9, 4, 6])\n",
        "b = A * X\n",
        "slau =[]\n",
        "for i in range(4):\n",
        "    slau += list(A[i, :] * Matrix([a, c, f, g, x]))\n",
        "display(slau)"
      ]
    }
  ],
  "metadata": {
    "colab": {
      "provenance": []
    },
    "kernelspec": {
      "display_name": "Python 3",
      "language": "python",
      "name": "python3"
    },
    "language_info": {
      "codemirror_mode": {
        "name": "ipython",
        "version": 3
      },
      "file_extension": ".py",
      "mimetype": "text/x-python",
      "name": "python",
      "nbconvert_exporter": "python",
      "pygments_lexer": "ipython3",
      "version": "3.12.3"
    }
  },
  "nbformat": 4,
  "nbformat_minor": 0
}