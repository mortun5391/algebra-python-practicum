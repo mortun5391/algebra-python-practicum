{
  "nbformat": 4,
  "nbformat_minor": 0,
  "metadata": {
    "kernelspec": {
      "display_name": "Python 3",
      "language": "python",
      "name": "python3"
    },
    "language_info": {
      "codemirror_mode": {
        "name": "ipython",
        "version": 3
      },
      "file_extension": ".py",
      "mimetype": "text/x-python",
      "name": "python",
      "nbconvert_exporter": "python",
      "pygments_lexer": "ipython3",
      "version": "3.7.3"
    },
    "colab": {
      "provenance": []
    }
  },
  "cells": [
    {
      "cell_type": "markdown",
      "metadata": {
        "id": "Lq_8i_zvJF8o"
      },
      "source": [
        "# Практическое занятие 3\n",
        "# Компьютерный практикум по алгебре на Python\n",
        "## Решение систем линейных алгебраических уравнений (СЛАУ)"
      ]
    },
    {
      "cell_type": "markdown",
      "metadata": {
        "id": "4pcXPsZ5JF8v"
      },
      "source": [
        "https://docs.sympy.org/latest/modules/solvers/solveset.html#sympy.solvers.solveset.linsolve"
      ]
    },
    {
      "cell_type": "code",
      "metadata": {
        "id": "fLJ7y0XDJF8w"
      },
      "source": [
        "import sympy\n",
        "from sympy import linsolve, Matrix, S, Symbol, symbols, Eq,\\\n",
        "linear_eq_to_matrix, simplify, ones, latex, I, sqrt\n",
        "from IPython.display import Latex, display\n",
        "\n"
      ],
      "execution_count": null,
      "outputs": []
    },
    {
      "cell_type": "markdown",
      "metadata": {
        "id": "ApqHKVFaJF8x"
      },
      "source": [
        "### Задание 1.\n",
        "Решить СЛАУ, представив их тремя различными способами (расширенная матрица, список уравнений, матричный вид)\n",
        "$$\n",
        "a)\\ \\left\\{\\begin{matrix} - 2 x_{1} + 3 x_{2} - 9 x_{3} = 51 \\\\ 4 x_{1} - 6 x_{2} + x_{3} = 51 \\\\ 5 x_{1} + 6 x_{2} - 8 x_{3} = 93\\end{matrix}\\right.\\qquad\n",
        "b)\\ \\left\\{\\begin{matrix} 2 x_{1} + 6 x_{2} - x_{3} + 2 x_{4} = -9 \\\\ - 5 x_{1} - x_{2} + 5 x_{3} + 2 x_{4} = -98 \\\\ - x_{1} + 2 x_{2} - 2 x_{3} + 7 x_{4} = -41\\end{matrix}\\right.\\qquad\n",
        "c)\\ \\left\\{\\begin{matrix} - 6 x_{1} - x_{2} + x_{3} = -59 \\\\ 8 x_{1} + x_{2} + x_{3} = 59 \\\\ 2 x_{1} - 6 x_{2} + 2 x_{3} = 25 \\\\ 2 x_{1} - 7 x_{2} + 9 x_{3} = -35\\end{matrix}\\right.\\qquad\n",
        "$$"
      ]
    },
    {
      "cell_type": "code",
      "source": [
        "matrix = Matrix([\n",
        "    [6, 2, 3, -2, -7],\n",
        "    [5, 3, 7, -6, -4],\n",
        "    [8, 0, -5, 6, -13],\n",
        "    [4, -2, -7, 5, -7]\n",
        "])\n",
        "\n",
        "# Приводим матрицу к ступенчатому виду с помощью rref()\n",
        "new, pivot_positions = matrix.rref()\n",
        "display(new)\n",
        "z = ((-sqrt(3) - I)**3) ** (S(1)/7)\n",
        "display(simplify(z/(-1 + I)))"
      ],
      "metadata": {
        "id": "vE-5Rjxnb1Jb",
        "colab": {
          "base_uri": "https://localhost:8080/",
          "height": 148
        },
        "outputId": "6b16f6ad-05d8-4df2-866a-9ac124bf7e55"
      },
      "execution_count": null,
      "outputs": [
        {
          "output_type": "display_data",
          "data": {
            "text/plain": [
              "Matrix([\n",
              "[1, 0, 0, -1/2, -1],\n",
              "[0, 1, 0,  7/2, -2],\n",
              "[0, 0, 1,   -2,  1],\n",
              "[0, 0, 0,    0,  0]])"
            ],
            "text/latex": "$\\displaystyle \\left[\\begin{matrix}1 & 0 & 0 & - \\frac{1}{2} & -1\\\\0 & 1 & 0 & \\frac{7}{2} & -2\\\\0 & 0 & 1 & -2 & 1\\\\0 & 0 & 0 & 0 & 0\\end{matrix}\\right]$"
          },
          "metadata": {}
        },
        {
          "output_type": "display_data",
          "data": {
            "text/plain": [
              "(-(sqrt(3) + I)**3)**(1/7)*(-1 - I)/2"
            ],
            "text/latex": "$\\displaystyle \\frac{\\sqrt[7]{- \\left(\\sqrt{3} + i\\right)^{3}} \\left(-1 - i\\right)}{2}$"
          },
          "metadata": {}
        }
      ]
    },
    {
      "cell_type": "markdown",
      "source": [
        "**Ответ:**\n",
        "$$\n",
        "a)\\ A = \\left[\\begin{matrix}-2 & 3 & -9\\\\4 & -6 & 1\\\\5 & 6 & -8\\end{matrix}\\right],\\ b = \\left[\\begin{matrix}51\\\\51\\\\93\\end{matrix}\\right],\\ X = \\left\\{\\left( 9, \\  -4, \\  -9\\right)\\right\\}\\\\\n",
        "b)\\ A = \\left[\\begin{matrix}2 & 6 & -1 & 2\\\\-5 & -1 & 5 & 2\\\\-1 & 2 & -2 & 7\\end{matrix}\\right],\\ b = \\left[\\begin{matrix}-9\\\\-98\\\\-41\\end{matrix}\\right],\\ X = \\left\\{\\left( \\frac{207 \\tau_{0}}{95} + \\frac{2097}{95}, \\  - \\frac{15 \\tau_{0}}{19} - \\frac{166}{19}, \\  \\frac{154 \\tau_{0}}{95} + \\frac{69}{95}, \\  \\tau_{0}\\right)\\right\\}\\\\\n",
        "c)\\ A = \\left[\\begin{matrix}-6 & -1 & 1\\\\8 & 1 & 1\\\\2 & -6 & 2\\\\2 & -7 & 9\\end{matrix}\\right],\\ b = \\left[\\begin{matrix}-59\\\\59\\\\25\\\\-35\\end{matrix}\\right],\\ X = \\emptyset\\\\\n",
        "$$"
      ],
      "metadata": {
        "id": "-cPy1Wv4oTIg"
      }
    },
    {
      "cell_type": "markdown",
      "metadata": {
        "id": "uC_T9sNpJF9X"
      },
      "source": [
        "### Задание 2.\n",
        "\n",
        "Решить СЛАУ с параметром $a$, представив их списком уравнений, а затем приведя к матричному виду с помощью linear_eq_to_matrix\n",
        "$$\n",
        "a)\\ \\left\\{\n",
        "\\begin{matrix}\n",
        "x+3y-2az=8\\\\\n",
        "2x-4y+5z=-1\\\\\n",
        "3x+4y+5z=10\n",
        "\\end{matrix}\n",
        "\\right., \\quad\n",
        "b)\\ \\left\\{\n",
        "\\begin{matrix}\n",
        "x+5(a-1)y-3z=8\\\\\n",
        "x-(5a + 4)y+4z=-1\\\\\n",
        "3x+99y+5z=6\n",
        "\\end{matrix}\n",
        "\\right., \\quad\n",
        "c) \\left\\{\n",
        "\\begin{matrix}\n",
        "-x+5ay-3z=1\\\\\n",
        "4ax-ay+z= -5\\\\\n",
        "(120a^2 - 6a)x + (20a^2 - a) y+z= - 140 a - 5\n",
        "\\end{matrix}\n",
        "\\right.\n",
        "$$\n",
        "Получить с помощью linsolve решение с произвольным значением параметра (т.е. подставить матрицу как есть, с символами $a$).\n",
        "Решить СЛАУ а) при $a=-\\frac{25}{40}$ и $a=-0.625$, b) при $a$, обращающем в 0 определитель, записанном в символьном и десятичном формате, c) при $a=0,\\ S(1) / 20,\\ 0.05$.\n",
        "\n",
        "Проанализировать результаты. Для каждого случая (кроме случая несовместной СЛАУ) провести проверку подстановкой.\n",
        "\n",
        "При подстановке дробей (символьный формат) пользоваться конструкцией вида $S(num)/den$, например,\n",
        "$S(2)/3$"
      ]
    },
    {
      "cell_type": "code",
      "source": [
        "a = Symbol('a')\n",
        "x, y, z = symbols(\"x y z\")\n",
        "\n",
        "\n",
        "\n",
        "\n",
        "a_matrix, b_matrix = linear_eq_to_matrix((\n",
        "    Eq(x + 3*y - 2*a*z, 8),\n",
        "    Eq(2*x - 4 * y + 5*z, -1),\n",
        "    Eq(3*x + 4*y + 5*z, 10),\n",
        "), x, y, z)\n",
        "\n",
        "display(linsolve((a_matrix.subs({a : S(-25)/40}), b_matrix), x, y, z))\n",
        "\n",
        "display(linsolve((a_matrix.subs({a : -0.625}), b_matrix), x, y, z))\n",
        "b_matrix = linear_eq_to_matrix((\n",
        "    Eq(x + 5*(a - 1)*y - 3*z, 8),\n",
        "    Eq(x - (5*a + 4) * y + 4*z, -1),\n",
        "    Eq(3*x + 99*y + 5*z, 6),\n",
        "), x, y, z)\n",
        "B = Matrix([1, 5*(a-1), -3])\n",
        "c_matrix = linear_eq_to_matrix((\n",
        "    Eq(-x + 5*y - 3*z, 1),\n",
        "    Eq(4*a*x - a*y + z, -5),\n",
        "    Eq((120*a**2 - 6*a)*x + (20*a**2 - a)*y + z, -140*a - 5),\n",
        "), x, y, z)\n",
        "display(a_matrix)\n",
        "solutionA = linsolve(a_matrix, x, y, z)\n",
        "display(solutionA)\n",
        "\n",
        "detB = Matrix.det(b_matrix[0])\n",
        "solutionB = linsolve(b_matrix, x, y, z)\n",
        "display(solutionB.subs({a : sympy.solve(detB, a)[0]}))\n",
        "\n",
        "solutionC = linsolve(c_matrix, x, y, z)\n",
        "display(solutionC.subs({a : 0}))\n",
        "display(solutionC.subs({a : S(1)/25}))\n",
        "display(solutionC.subs({a : 0.05}))"
      ],
      "metadata": {
        "id": "eYhQxNInb32l",
        "colab": {
          "base_uri": "https://localhost:8080/",
          "height": 262
        },
        "outputId": "dd585a2b-df26-4d38-d46b-a8d0d4291823"
      },
      "execution_count": null,
      "outputs": [
        {
          "output_type": "display_data",
          "data": {
            "text/plain": [
              "EmptySet"
            ],
            "text/latex": "$\\displaystyle \\emptyset$"
          },
          "metadata": {}
        },
        {
          "output_type": "display_data",
          "data": {
            "text/plain": [
              "{(-1.98158383604302e+16, 2.47697979505377e+15, 9.90791918021509e+15)}"
            ],
            "text/latex": "$\\displaystyle \\left\\{\\left( -1.98158383604302 \\cdot 10^{16}, \\  2.47697979505377 \\cdot 10^{15}, \\  9.90791918021509 \\cdot 10^{15}\\right)\\right\\}$"
          },
          "metadata": {}
        },
        {
          "output_type": "display_data",
          "data": {
            "text/plain": [
              "Matrix([\n",
              "[1,  3, -2*a],\n",
              "[2, -4,    5],\n",
              "[3,  4,    5]])"
            ],
            "text/latex": "$\\displaystyle \\left[\\begin{matrix}1 & 3 & - 2 a\\\\2 & -4 & 5\\\\3 & 4 & 5\\end{matrix}\\right]$"
          },
          "metadata": {}
        },
        {
          "output_type": "display_data",
          "data": {
            "text/plain": [
              "EmptySet"
            ],
            "text/latex": "$\\displaystyle \\emptyset$"
          },
          "metadata": {}
        },
        {
          "output_type": "display_data",
          "data": {
            "text/plain": [
              "{(29/7, 0, -9/7)}"
            ],
            "text/latex": "$\\displaystyle \\left\\{\\left( \\frac{29}{7}, \\  0, \\  - \\frac{9}{7}\\right)\\right\\}$"
          },
          "metadata": {}
        },
        {
          "output_type": "display_data",
          "data": {
            "text/plain": [
              "{(14, 0, -5)}"
            ],
            "text/latex": "$\\displaystyle \\left\\{\\left( 14, \\  0, \\  -5\\right)\\right\\}$"
          },
          "metadata": {}
        },
        {
          "output_type": "display_data",
          "data": {
            "text/plain": [
              "{(350/13, 0, -121/13)}"
            ],
            "text/latex": "$\\displaystyle \\left\\{\\left( \\frac{350}{13}, \\  0, \\  - \\frac{121}{13}\\right)\\right\\}$"
          },
          "metadata": {}
        },
        {
          "output_type": "display_data",
          "data": {
            "text/plain": [
              "{(35.0, 0, -12.0)}"
            ],
            "text/latex": "$\\displaystyle \\left\\{\\left( 35.0, \\  0, \\  -12.0\\right)\\right\\}$"
          },
          "metadata": {}
        }
      ]
    },
    {
      "cell_type": "markdown",
      "metadata": {
        "id": "Zm2BtqFeJF90"
      },
      "source": [
        "### Задание 3\n",
        "В  матрице\n",
        "$$\n",
        " \\left[\\begin{matrix}-2 & 3 & -9 & 5\\\\\n",
        " 4 & -6 & 1 & -2\\\\\n",
        " 5 & 6 & -3 & 0\n",
        " \\end{matrix}\\right]\n",
        "$$\n",
        "\n",
        "1) выделить матрицу из правых двух столбцов\n",
        "\n",
        "2) выделить нижнюю строку\n",
        "\n",
        "3) транспонировать матрицу, полученную в 1)\n",
        "\n",
        "4) получить расширенную матрицу некоторой СЛАУ из матрицы 3) (как матрицы левой части) и столбца из единиц\n",
        "\n",
        "5) создать на основе лямбда-функции матрицу $3\\times 4$ из расположенных в шахматном порядке чисел 2 и 3, в левом верхнем углу 2."
      ]
    },
    {
      "cell_type": "code",
      "source": [
        "matrix =  Matrix((\n",
        "    (-2, 3, -9, 5),\n",
        "    (4, -6, 1, -2),\n",
        "    (5, 6, -3, 0)\n",
        "))\n",
        "a = matrix[:, -2:]\n",
        "b = matrix[-1:, :]\n",
        "c = a.T\n",
        "d = c.row_join(Matrix([[1], [1]]))\n",
        "e = Matrix(3, 4, lambda i, j: 2 if (i + j)%2 == 0 else 3)\n",
        "display(a)\n",
        "display(b)\n",
        "display(c)\n",
        "display(d)\n",
        "display(e)"
      ],
      "metadata": {
        "id": "Htq9ceJVb6mr",
        "colab": {
          "base_uri": "https://localhost:8080/",
          "height": 241
        },
        "outputId": "cee205c0-72b4-4946-c15e-253a27cade58"
      },
      "execution_count": null,
      "outputs": [
        {
          "output_type": "display_data",
          "data": {
            "text/plain": [
              "Matrix([\n",
              "[-9,  5],\n",
              "[ 1, -2],\n",
              "[-3,  0]])"
            ],
            "text/latex": "$\\displaystyle \\left[\\begin{matrix}-9 & 5\\\\1 & -2\\\\-3 & 0\\end{matrix}\\right]$"
          },
          "metadata": {}
        },
        {
          "output_type": "display_data",
          "data": {
            "text/plain": [
              "Matrix([[5, 6, -3, 0]])"
            ],
            "text/latex": "$\\displaystyle \\left[\\begin{matrix}5 & 6 & -3 & 0\\end{matrix}\\right]$"
          },
          "metadata": {}
        },
        {
          "output_type": "display_data",
          "data": {
            "text/plain": [
              "Matrix([\n",
              "[-9,  1, -3],\n",
              "[ 5, -2,  0]])"
            ],
            "text/latex": "$\\displaystyle \\left[\\begin{matrix}-9 & 1 & -3\\\\5 & -2 & 0\\end{matrix}\\right]$"
          },
          "metadata": {}
        },
        {
          "output_type": "display_data",
          "data": {
            "text/plain": [
              "Matrix([\n",
              "[-9,  1, -3, 1],\n",
              "[ 5, -2,  0, 1]])"
            ],
            "text/latex": "$\\displaystyle \\left[\\begin{matrix}-9 & 1 & -3 & 1\\\\5 & -2 & 0 & 1\\end{matrix}\\right]$"
          },
          "metadata": {}
        },
        {
          "output_type": "display_data",
          "data": {
            "text/plain": [
              "Matrix([\n",
              "[2, 3, 2, 3],\n",
              "[3, 2, 3, 2],\n",
              "[2, 3, 2, 3]])"
            ],
            "text/latex": "$\\displaystyle \\left[\\begin{matrix}2 & 3 & 2 & 3\\\\3 & 2 & 3 & 2\\\\2 & 3 & 2 & 3\\end{matrix}\\right]$"
          },
          "metadata": {}
        }
      ]
    },
    {
      "cell_type": "markdown",
      "source": [
        "### Задание 4* четверг\n",
        "В расширенной матрице СЛАУ найти значения параметра $b$, при котором она имеет единственное решение, не имеет решений,  бесконечное число решений.\n",
        "\n",
        "Для каждого случая составить СЛАУ, найти решение с помощью linsolve и вывести на экран значение параметра и найденное решение СЛАУ.\n",
        "$$\n",
        "\\left\\{\n",
        "\\begin{matrix}\n",
        "x+2y+bz=3\\\\\n",
        "-x-4y+5z=-1\\\\\n",
        "bx+2y+z=3\n",
        "\\end{matrix}\n",
        "\\right.\n",
        "$$"
      ],
      "metadata": {
        "id": "2vZqLUpXZrHT"
      }
    },
    {
      "cell_type": "code",
      "source": [
        "b, x, y, z = symbols('b x y z')\n",
        "\n",
        "# Матрица и вектор свободных членов с параметром 'a'\n",
        "A = Matrix([[1, 2, b], [-1, -4, 5], [b, 2, 1]])\n",
        "B = Matrix([3, -1, 3])\n",
        "slau = A.row_join(B)\n",
        "\n",
        "# Находим RREF, учитывая параметр 'a'\n",
        "display(slau)\n",
        "n, m = A.shape\n",
        "\n",
        "detA = Matrix.det(A)\n",
        "\n",
        "print(\"\\nОбщее решение, при b не равным [-3, 1] (det равен 0):\")\n",
        "display(linsolve(slau, x, y, z))\n",
        "print(\"Единственное решение\\n\")\n",
        "\n",
        "# Находим значения 'a', при которых выполняются условия:\n",
        "b_solution = sympy.solve(detA, b)\n",
        "\n",
        "print(\"При b = -3 нельзя решить по общей формуле\\nРешение при b = -3:\")\n",
        "display(linsolve(slau.subs({b: -3}), x, y, z))\n",
        "print(\"Нет решений\\n\")\n",
        "\n",
        "print(\"Решение при b = 1:\")\n",
        "display(linsolve(slau.subs({b: 1}), x, y, z))\n",
        "print(\"Бесконечное количество решений\")\n",
        "\n",
        "\n",
        "\n"
      ],
      "metadata": {
        "id": "KWCoF9l_cFTN",
        "colab": {
          "base_uri": "https://localhost:8080/",
          "height": 334
        },
        "outputId": "a4001594-6a6e-456e-fc24-506d2bd5cf62"
      },
      "execution_count": null,
      "outputs": [
        {
          "output_type": "display_data",
          "data": {
            "text/plain": [
              "Matrix([\n",
              "[ 1,  2, b,  3],\n",
              "[-1, -4, 5, -1],\n",
              "[ b,  2, 1,  3]])"
            ],
            "text/latex": "$\\displaystyle \\left[\\begin{matrix}1 & 2 & b & 3\\\\-1 & -4 & 5 & -1\\\\b & 2 & 1 & 3\\end{matrix}\\right]$"
          },
          "metadata": {}
        },
        {
          "output_type": "stream",
          "name": "stdout",
          "text": [
            "\n",
            "Общее решение, при b не равным [-3, 1] (det равен 0):\n"
          ]
        },
        {
          "output_type": "display_data",
          "data": {
            "text/plain": [
              "{(5/(2*b + 6), (b + 13)/(4*b + 12), 5/(2*b + 6))}"
            ],
            "text/latex": "$\\displaystyle \\left\\{\\left( \\frac{5}{2 b + 6}, \\  \\frac{b + 13}{4 b + 12}, \\  \\frac{5}{2 b + 6}\\right)\\right\\}$"
          },
          "metadata": {}
        },
        {
          "output_type": "stream",
          "name": "stdout",
          "text": [
            "Единственное решение\n",
            "\n",
            "При b = -3 нельзя решить по общей формуле\n",
            "Решение при b = -3:\n"
          ]
        },
        {
          "output_type": "display_data",
          "data": {
            "text/plain": [
              "EmptySet"
            ],
            "text/latex": "$\\displaystyle \\emptyset$"
          },
          "metadata": {}
        },
        {
          "output_type": "stream",
          "name": "stdout",
          "text": [
            "Нет решений\n",
            "\n",
            "Решение при b = 1:\n"
          ]
        },
        {
          "output_type": "display_data",
          "data": {
            "text/plain": [
              "{(5 - 7*z, 3*z - 1, z)}"
            ],
            "text/latex": "$\\displaystyle \\left\\{\\left( 5 - 7 z, \\  3 z - 1, \\  z\\right)\\right\\}$"
          },
          "metadata": {}
        },
        {
          "output_type": "stream",
          "name": "stdout",
          "text": [
            "Бесконечное количество решений\n"
          ]
        }
      ]
    },
    {
      "cell_type": "markdown",
      "source": [
        "### Задание 5*\n",
        "Описать функцию с обязательными аргументами матрицей левой части СЛАУ и матрицей столбцом правой части, возвращающую список, первый элемент которого - решение СЛАУ (может быть пустым множеством!), второй - текст о том, сколько решений у СЛАУ (\"единственное решение\", \"бесконечное число решений\", \"нет решений\").  "
      ],
      "metadata": {
        "id": "iOgRfUvOlxEn"
      }
    },
    {
      "cell_type": "code",
      "source": [
        "def num_of_solutions(A, b):\n",
        "  n,m = A.shape\n",
        "  slau = A.row_join(b)\n",
        "  result = [linsolve(slau)]\n",
        "\n",
        "  if A.rank() == slau.rank() and A.rank() != m:\n",
        "    result += [\"Система имеет бесконечное количество решений\"]\n",
        "\n",
        "  elif A.rank() == slau.rank() and A.rank() == m:\n",
        "    result += [\"Система имеет единственное решение\"]\n",
        "  elif A.rank() != slau.rank():\n",
        "    result += [\"Система не имеет решения\"]\n",
        "  return result\n",
        "\n",
        "display(a_matrix.row_join(b_matrix))\n",
        "display(num_of_solutions(a_matrix, b_matrix))\n",
        "print(\"\\n\")\n",
        "A = Matrix((\n",
        "    (-2, 3, -9),\n",
        "    (4, -6, 1),\n",
        "    (5, 6, -8,),\n",
        "))\n",
        "B = Matrix((51, 51, 93))\n",
        "display(A.row_join(B))\n",
        "display(num_of_solutions(A, B))"
      ],
      "metadata": {
        "colab": {
          "base_uri": "https://localhost:8080/",
          "height": 229
        },
        "id": "HcmO7Yj2xP-M",
        "outputId": "9f9aa9c0-0859-4e33-eed2-f0c7c93ba430"
      },
      "execution_count": null,
      "outputs": [
        {
          "output_type": "display_data",
          "data": {
            "text/plain": [
              "Matrix([\n",
              "[-6,  1, 1, -59],\n",
              "[ 8,  1, 1,  59],\n",
              "[ 2, -6, 2,  25],\n",
              "[ 2, -7, 9, -35]])"
            ],
            "text/latex": "$\\displaystyle \\left[\\begin{matrix}-6 & 1 & 1 & -59\\\\8 & 1 & 1 & 59\\\\2 & -6 & 2 & 25\\\\2 & -7 & 9 & -35\\end{matrix}\\right]$"
          },
          "metadata": {}
        },
        {
          "output_type": "display_data",
          "data": {
            "text/plain": [
              "[EmptySet, 'Система не имеет решения']"
            ]
          },
          "metadata": {}
        },
        {
          "output_type": "stream",
          "name": "stdout",
          "text": [
            "\n",
            "\n"
          ]
        },
        {
          "output_type": "display_data",
          "data": {
            "text/plain": [
              "Matrix([\n",
              "[-2,  3, -9, 51],\n",
              "[ 4, -6,  1, 51],\n",
              "[ 5,  6, -8, 93]])"
            ],
            "text/latex": "$\\displaystyle \\left[\\begin{matrix}-2 & 3 & -9 & 51\\\\4 & -6 & 1 & 51\\\\5 & 6 & -8 & 93\\end{matrix}\\right]$"
          },
          "metadata": {}
        },
        {
          "output_type": "display_data",
          "data": {
            "text/plain": [
              "[{(9, -4, -9)}, 'Система имеет единственное решение']"
            ]
          },
          "metadata": {}
        }
      ]
    },
    {
      "cell_type": "markdown",
      "source": [
        "**Сложность задачи состоит в определении ситуации бесконечного числа решений.**"
      ],
      "metadata": {
        "id": "TtJyZrPrakO7"
      }
    },
    {
      "cell_type": "markdown",
      "metadata": {
        "id": "M_AOl3WSJF91"
      },
      "source": [
        "### Индивидуальное задание.\n",
        "СЛАУ с параметром задана матрицей левой части и столбцом правой части. Представить СЛАУ расширенной матрицей и списком уравнений (автоматически, изученными средствами sympy), вывести на экран.\n",
        "\n",
        "Решить СЛАУ c параметром тремя способами, провести проверку подстановкой (один раз).\n",
        "\n",
        "Затем отдельно рассмотреть значение параметра, при котором решение СЛАУ нельзя получить по общей формуле, полученной ранее.\n",
        "Найти решение СЛАУ при этом значении параметра первым или третьим способом, используя подстановку subs."
      ]
    },
    {
      "cell_type": "code",
      "source": [
        "t = Symbol('t')\n",
        "# a)\n",
        "ext_ab_matrix = Matrix((\n",
        "    (8, -2, 7, 3, 31),\n",
        "    (7, -3, 6, 2, 37),\n",
        "    (-2, t, 3, -3, -56),\n",
        "    (1, 1, 1, 1, -6)\n",
        "))\n",
        "solution_1 = linsolve(ext_ab_matrix)\n",
        "display(solution_1)\n",
        "\n",
        "# b)\n",
        "x, y, z, w = symbols(\"x y z w\")\n",
        "system_eqs_raw = [\n",
        "    8 * x - 2 * y + 7 * z + 3 * w - 31,\n",
        "    7 * x - 3 * y + 6 * z + 2 * w - 37,\n",
        "    -2* x + t * y + 3 * z - 3 * w + 56,\n",
        "    x + y + z + w + 6\n",
        "]\n",
        "solution_2 = linsolve(system_eqs_raw, x, y, z, w)\n",
        "display(solution_2)\n",
        "\n",
        "\n",
        "# c)\n",
        "a_matrix = Matrix((\n",
        "    (8, -2, 7, 3),\n",
        "    (7, -3, 6, 2),\n",
        "    (-2, t, 3, -3),\n",
        "    (1, 1, 1, 1)\n",
        "))\n",
        "b_matrix = Matrix([31, 37, -56, -6])\n",
        "solution_3 = linsolve((a_matrix, b_matrix))\n",
        "display(solution_3)\n",
        "\n",
        "\n",
        "\n",
        "# при t = 48  нельзя решить по общ формуле\n",
        "display(linsolve(ext_ab_matrix.subs({t : 48})))"
      ],
      "metadata": {
        "colab": {
          "base_uri": "https://localhost:8080/",
          "height": 180
        },
        "id": "9ZNWleXafwI6",
        "outputId": "2f6e2e6e-7823-4cd8-bba0-ff14e3feb372"
      },
      "execution_count": null,
      "outputs": [
        {
          "output_type": "display_data",
          "data": {
            "text/plain": [
              "{(tau0*(4*t + 42)/(t - 48) + (73*t - 561)/(t - 48), 26*tau0/(t - 48) + 327/(t - 48), tau0*(-5*t - 20)/(t - 48) + (522 - 79*t)/(t - 48), tau0)}"
            ],
            "text/latex": "$\\displaystyle \\left\\{\\left( \\frac{\\tau_{0} \\left(4 t + 42\\right)}{t - 48} + \\frac{73 t - 561}{t - 48}, \\  \\frac{26 \\tau_{0}}{t - 48} + \\frac{327}{t - 48}, \\  \\frac{\\tau_{0} \\left(- 5 t - 20\\right)}{t - 48} + \\frac{522 - 79 t}{t - 48}, \\  \\tau_{0}\\right)\\right\\}$"
          },
          "metadata": {}
        },
        {
          "output_type": "display_data",
          "data": {
            "text/plain": [
              "{(w*(4*t + 42)/(t - 48) + (73*t - 561)/(t - 48), 26*w/(t - 48) + 327/(t - 48), w*(-5*t - 20)/(t - 48) + (522 - 79*t)/(t - 48), w)}"
            ],
            "text/latex": "$\\displaystyle \\left\\{\\left( \\frac{w \\left(4 t + 42\\right)}{t - 48} + \\frac{73 t - 561}{t - 48}, \\  \\frac{26 w}{t - 48} + \\frac{327}{t - 48}, \\  \\frac{w \\left(- 5 t - 20\\right)}{t - 48} + \\frac{522 - 79 t}{t - 48}, \\  w\\right)\\right\\}$"
          },
          "metadata": {}
        },
        {
          "output_type": "display_data",
          "data": {
            "text/plain": [
              "{(tau0*(4*t + 42)/(t - 48) + (73*t - 561)/(t - 48), 26*tau0/(t - 48) + 327/(t - 48), tau0*(-5*t - 20)/(t - 48) + (522 - 79*t)/(t - 48), tau0)}"
            ],
            "text/latex": "$\\displaystyle \\left\\{\\left( \\frac{\\tau_{0} \\left(4 t + 42\\right)}{t - 48} + \\frac{73 t - 561}{t - 48}, \\  \\frac{26 \\tau_{0}}{t - 48} + \\frac{327}{t - 48}, \\  \\frac{\\tau_{0} \\left(- 5 t - 20\\right)}{t - 48} + \\frac{522 - 79 t}{t - 48}, \\  \\tau_{0}\\right)\\right\\}$"
          },
          "metadata": {}
        },
        {
          "output_type": "display_data",
          "data": {
            "text/plain": [
              "{(2129/260 - 9*tau0/10, -tau0/10 - 419/260, tau0, -327/26)}"
            ],
            "text/latex": "$\\displaystyle \\left\\{\\left( \\frac{2129}{260} - \\frac{9 \\tau_{0}}{10}, \\  - \\frac{\\tau_{0}}{10} - \\frac{419}{260}, \\  \\tau_{0}, \\  - \\frac{327}{26}\\right)\\right\\}$"
          },
          "metadata": {}
        }
      ]
    }
  ]
}