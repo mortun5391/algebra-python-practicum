{
  "nbformat": 4,
  "nbformat_minor": 0,
  "metadata": {
    "kernelspec": {
      "display_name": "Python 3",
      "language": "python",
      "name": "python3"
    },
    "language_info": {
      "codemirror_mode": {
        "name": "ipython",
        "version": 3
      },
      "file_extension": ".py",
      "mimetype": "text/x-python",
      "name": "python",
      "nbconvert_exporter": "python",
      "pygments_lexer": "ipython3",
      "version": "3.7.3"
    },
    "colab": {
      "provenance": []
    }
  },
  "cells": [
    {
      "cell_type": "markdown",
      "metadata": {
        "id": "c6HyBQxAzvAa"
      },
      "source": [
        "# Практическое занятие 3\n",
        "## Компьютерный практикум по алгебре на Python\n",
        "## Решение систем линейных алгебраических уравнений (СЛАУ)"
      ]
    },
    {
      "cell_type": "markdown",
      "metadata": {
        "id": "H2TtQzFozvAj"
      },
      "source": [
        "https://docs.sympy.org/latest/modules/solvers/solveset.html#sympy.solvers.solveset.linsolve"
      ]
    },
    {
      "cell_type": "code",
      "metadata": {
        "id": "Szq1iyf_zvAk"
      },
      "source": [
        "from sympy import linsolve, Matrix, S, Symbol, symbols, Eq,\\\n",
        "linear_eq_to_matrix, simplify, diag"
      ],
      "execution_count": null,
      "outputs": []
    },
    {
      "cell_type": "markdown",
      "metadata": {
        "id": "5Y0ARnYvzvAm"
      },
      "source": [
        "## linsolve(system, *symbols)\n",
        "\n",
        "linsolve это решатель СЛАУ из N уравнений от M переменных, в том числе недоопределенных и переопределенных. Возможное число решений ноль, одно или бесконечное множество решений.\n",
        "\n",
        "В случае несовместной СЛАУ linsolve возвращает ***пустое множество*** $∅$. Если у СЛАУ единственное решение, то linsolve возвращает множество (set), состоящее из единственного элемента - кортежа значений переменных, а бесконечное число решений описывается параметрически выражениями от переменных СЛАУ.\n",
        "\n",
        "Если linsolve не передали переменные СЛАУ, заданной списком уравнений, то выдается сообщение об ошибке ValueError.\n",
        "\n",
        "**Входные данные** могут быть представлены тремя способами.\n",
        "\n",
        "1.\tВ виде расширенной матрицы СЛАУ\n",
        "\n",
        "2.\tВ виде списка из уравнений\n",
        "\n",
        "3.\tВ матричном виде, т.е. в виде кортежа (A, b), где А – матрица левой части, b – столбец свободных членов\n",
        "\n",
        "\n",
        "Внимание! linsolve всегда возвращает множество (set)! Это сделано для более корректного сравнения на равенство решений СЛАУ.\n",
        "\n",
        "**Множества в sympy**\n",
        "\n",
        "https://docs.sympy.org/latest/_modules/sympy/sets/sets.html#FiniteSet\n",
        "    \n",
        "**Множество (set)** - неупорядоченный набор элементов.\n",
        "\n",
        "В Sympy конечное множество называется **FiniteSet**.\n",
        "\n",
        "### Пример 1.\n",
        "Рассмотрим СЛАУ\n",
        "$$\n",
        "\\left\\{\n",
        "\\begin{matrix}\n",
        "2x + 3y - z = 5\\\\\n",
        "3x - 2y + z = 2\\\\\n",
        "x + y - z = 0\n",
        "\\end{matrix}\n",
        "\\right.\n",
        "$$\n",
        "### Способ 1. СЛАУ в виде расширенной матрицы.\n",
        "Составим расширенную матрицу СЛАУ и вызовем  linsolve. Передавать  linsolve имена переменных необязательно."
      ]
    },
    {
      "cell_type": "code",
      "metadata": {
        "id": "dyd9g6rrzvAo",
        "colab": {
          "base_uri": "https://localhost:8080/",
          "height": 38
        },
        "outputId": "08761499-dcb1-48a9-8624-92435ab99143"
      },
      "source": [
        "Ab = Matrix([[2, 3, -1, 5],\n",
        "             [3, -2, 1, 2],\n",
        "             [1, 1, -1, 0]])\n",
        "linsolve(Ab)"
      ],
      "execution_count": null,
      "outputs": [
        {
          "output_type": "execute_result",
          "data": {
            "text/plain": [
              "{(1, 2, 3)}"
            ],
            "text/latex": "$\\displaystyle \\left\\{\\left( 1, \\  2, \\  3\\right)\\right\\}$"
          },
          "metadata": {},
          "execution_count": 2
        }
      ]
    },
    {
      "cell_type": "markdown",
      "metadata": {
        "id": "hOdhwn9FzvAq"
      },
      "source": [
        "### Способ 2. В виде списка из уравнений\n",
        "Обязательно указывать имена переменных, поскольку бывают СЛАУ с параметрами, и в этом случае без явного указания переменных неясно, где переменная, а где параметр.\n",
        "\n",
        "Можно перенести свободные члены в правую часть и представить СЛАУ в таком виде:"
      ]
    },
    {
      "cell_type": "code",
      "metadata": {
        "id": "Im4M85BXzvAr",
        "colab": {
          "base_uri": "https://localhost:8080/",
          "height": 38
        },
        "outputId": "a2ba57dd-1f78-4929-9029-24a05b4d3cc0"
      },
      "source": [
        "x, y, z = symbols('x y z')\n",
        "System_eq = [2 * x + 3 * y - z - 5, 3 * x - 2 * y + z - 2, x + y - z]\n",
        "linsolve(System_eq, x, y, z)"
      ],
      "execution_count": null,
      "outputs": [
        {
          "output_type": "execute_result",
          "data": {
            "text/plain": [
              "{(1, 2, 3)}"
            ],
            "text/latex": "$\\displaystyle \\left\\{\\left( 1, \\  2, \\  3\\right)\\right\\}$"
          },
          "metadata": {},
          "execution_count": 3
        }
      ]
    },
    {
      "cell_type": "markdown",
      "metadata": {
        "id": "1abz14iwzvAs"
      },
      "source": [
        "Альтернатива Eq(lhs, rhs), аргументы соответственно левая и правая части СЛАУ. Если правая часть уравнения 0, все равно нужно ее указывать в Eq."
      ]
    },
    {
      "cell_type": "code",
      "metadata": {
        "id": "PchZcFKPzvAt",
        "colab": {
          "base_uri": "https://localhost:8080/",
          "height": 38
        },
        "outputId": "8d9e4750-eeeb-484b-8f06-f669d81fa22c"
      },
      "source": [
        "System_eq1 = [Eq(2 * x + 3 * y - z, 5),\n",
        "              Eq(3 * x - 2 * y + z, 2),\n",
        "              Eq(x + y - z, 0)]\n",
        "linsolve(System_eq1, x, y, z)"
      ],
      "execution_count": null,
      "outputs": [
        {
          "output_type": "execute_result",
          "data": {
            "text/plain": [
              "{(1, 2, 3)}"
            ],
            "text/latex": "$\\displaystyle \\left\\{\\left( 1, \\  2, \\  3\\right)\\right\\}$"
          },
          "metadata": {},
          "execution_count": 4
        }
      ]
    },
    {
      "cell_type": "markdown",
      "metadata": {
        "id": "730QoVGbzvAv"
      },
      "source": [
        "### Способ 3.\n",
        "Перечислять переменные необязательно. Отличие от способа 2 в том, что каждому столбцу матрицы левой части СЛАУ всегда соответствует ровно одна переменная. Если имя переменной не указано, Sympy сам придумает имя."
      ]
    },
    {
      "cell_type": "code",
      "metadata": {
        "id": "SGZ1_0ApzvAw",
        "colab": {
          "base_uri": "https://localhost:8080/",
          "height": 38
        },
        "outputId": "7c61cd5c-54eb-4649-d0d2-07debee0c645"
      },
      "source": [
        "A = Matrix([[2, 3, -1], [3, -2, 1], [1, 1, -1]])\n",
        "b = Matrix([5, 2, 0])\n",
        "linsolve((A, b))"
      ],
      "execution_count": null,
      "outputs": [
        {
          "output_type": "execute_result",
          "data": {
            "text/plain": [
              "{(1, 2, 3)}"
            ],
            "text/latex": "$\\displaystyle \\left\\{\\left( 1, \\  2, \\  3\\right)\\right\\}$"
          },
          "metadata": {},
          "execution_count": 5
        }
      ]
    },
    {
      "cell_type": "markdown",
      "metadata": {
        "id": "iOc23Ur8zvAy"
      },
      "source": [
        "### Пример 2. Несовместная СЛАУ\n",
        "$$\n",
        "\\left\\{\n",
        "\\begin{matrix}\n",
        "2x + 3y - z = 5\\\\\n",
        "3x - 2y + z = 2\\\\\n",
        "5x + y = 0\n",
        "\\end{matrix}\n",
        "\\right.\n",
        "$$"
      ]
    },
    {
      "cell_type": "code",
      "metadata": {
        "id": "b6jT5-9nzvA1",
        "colab": {
          "base_uri": "https://localhost:8080/",
          "height": 38
        },
        "outputId": "e020ba78-adcf-41bf-a479-02ddd4b15f3f"
      },
      "source": [
        "A = Matrix([[2, 3, -1], [3, -2, 1], [5, 1, 0]])\n",
        "b = Matrix([5, 2, 0])\n",
        "linsolve((A, b))"
      ],
      "execution_count": null,
      "outputs": [
        {
          "output_type": "execute_result",
          "data": {
            "text/plain": [
              "EmptySet"
            ],
            "text/latex": "$\\displaystyle \\emptyset$"
          },
          "metadata": {},
          "execution_count": 6
        }
      ]
    },
    {
      "cell_type": "markdown",
      "metadata": {
        "id": "WQmibXfLzvA1"
      },
      "source": [
        "### Пример 3. Недоопределенная СЛАУ\n",
        "$$\n",
        "\\left\\{\n",
        "\\begin{matrix}\n",
        "2x + 3y - z = 5\\\\\n",
        "3x - 2y + z = 2\\\\\n",
        "5x + y = 7\n",
        "\\end{matrix}\n",
        "\\right.\n",
        "$$"
      ]
    },
    {
      "cell_type": "code",
      "metadata": {
        "id": "sybkkYpLzvA2",
        "colab": {
          "base_uri": "https://localhost:8080/",
          "height": 58
        },
        "outputId": "40f201ca-0673-4821-aa74-754c26360a88"
      },
      "source": [
        "A = Matrix([[2, 3, -1], [3, -2, 1], [5, 1, 0]])\n",
        "b = Matrix([5, 2, 7])\n",
        "linsolve((A, b))"
      ],
      "execution_count": null,
      "outputs": [
        {
          "output_type": "execute_result",
          "data": {
            "text/plain": [
              "{(16/13 - tau0/13, 5*tau0/13 + 11/13, tau0)}"
            ],
            "text/latex": "$\\displaystyle \\left\\{\\left( \\frac{16}{13} - \\frac{\\tau_{0}}{13}, \\  \\frac{5 \\tau_{0}}{13} + \\frac{11}{13}, \\  \\tau_{0}\\right)\\right\\}$"
          },
          "metadata": {},
          "execution_count": 7
        }
      ]
    },
    {
      "cell_type": "markdown",
      "metadata": {
        "id": "pGhergNGzvA2"
      },
      "source": [
        "#### Комментарий:\n",
        "linsolve сам придумал имя независимой переменной"
      ]
    },
    {
      "cell_type": "code",
      "metadata": {
        "id": "_BJDU276zvA3",
        "colab": {
          "base_uri": "https://localhost:8080/",
          "height": 58
        },
        "outputId": "50b6be4b-8049-44ac-a1d2-bceb06fcd27d"
      },
      "source": [
        "linsolve((A, b), x, y, z)"
      ],
      "execution_count": null,
      "outputs": [
        {
          "output_type": "execute_result",
          "data": {
            "text/plain": [
              "{(16/13 - z/13, 5*z/13 + 11/13, z)}"
            ],
            "text/latex": "$\\displaystyle \\left\\{\\left( \\frac{16}{13} - \\frac{z}{13}, \\  \\frac{5 z}{13} + \\frac{11}{13}, \\  z\\right)\\right\\}$"
          },
          "metadata": {},
          "execution_count": 8
        }
      ]
    },
    {
      "cell_type": "markdown",
      "metadata": {
        "id": "dxPfh63izvA3"
      },
      "source": [
        "**Комментарий:** linsolve выбрал независимую переменную из списка своих аргументов."
      ]
    },
    {
      "cell_type": "markdown",
      "metadata": {
        "id": "l74lTqV2zvA4"
      },
      "source": [
        "## Приведение СЛАУ к матричному виду\n",
        "Пусть СЛАУ задана в виде списка уравнений, но требуется записать ее в матричном виде. Для представления СЛАУ в виде tuple из матрицы левой части и столбца правой части используется\n",
        "linear_eq_to_matrix(equations, *symbols).\n",
        "\n",
        "Символы переменных СЛАУ передавать необязательно, если СЛАУ не содержит параметров и все переменные встречаются хотя бы в одном уравнении.\n",
        "\n",
        "### Пример 4.\n",
        "Представить в матричном виде СЛАУ (построить матрицу левой части и столбец правой части)\n",
        "$$\n",
        "\\left\\{\n",
        "\\begin{matrix}\n",
        "c x + z = c + 1\\\\\n",
        "y + z = -2\\\\\n",
        "x - y = 5\n",
        "\\end{matrix}\n",
        "\\right.\n",
        "$$\n"
      ]
    },
    {
      "cell_type": "code",
      "metadata": {
        "id": "y7CdYwZUzvA4",
        "colab": {
          "base_uri": "https://localhost:8080/",
          "height": 99
        },
        "outputId": "72861ba2-6c0c-4ad4-b8c8-108e6cd2ba0f"
      },
      "source": [
        "c = Symbol('c')\n",
        "eqns = [Eq(c * x + z, c + 1), Eq(y + z, -2), Eq(x - y, 5)]\n",
        "A, b = linear_eq_to_matrix(eqns, [x, y, z])\n",
        "display(A, b.T)"
      ],
      "execution_count": null,
      "outputs": [
        {
          "output_type": "display_data",
          "data": {
            "text/plain": [
              "Matrix([\n",
              "[c,  0, 1],\n",
              "[0,  1, 1],\n",
              "[1, -1, 0]])"
            ],
            "text/latex": "$\\displaystyle \\left[\\begin{matrix}c & 0 & 1\\\\0 & 1 & 1\\\\1 & -1 & 0\\end{matrix}\\right]$"
          },
          "metadata": {}
        },
        {
          "output_type": "display_data",
          "data": {
            "text/plain": [
              "Matrix([[c + 1, -2, 5]])"
            ],
            "text/latex": "$\\displaystyle \\left[\\begin{matrix}c + 1 & -2 & 5\\end{matrix}\\right]$"
          },
          "metadata": {}
        }
      ]
    },
    {
      "cell_type": "markdown",
      "metadata": {
        "id": "N6teUzM-zvA4"
      },
      "source": [
        "Решим СЛАУ $AX = b$. Во избежание путаницы будем обозначать $X$ вектор переменных СЛАУ, в нашем случае $X = \\left(\\begin{matrix}x\\\\ y\\\\ z\\end{matrix}\\right)$"
      ]
    },
    {
      "cell_type": "code",
      "metadata": {
        "id": "kqsLzeZjzvA5",
        "colab": {
          "base_uri": "https://localhost:8080/",
          "height": 58
        },
        "outputId": "5c0a7b41-4eb1-460c-e106-7a880a403d9d"
      },
      "source": [
        "linsolve((A, b))"
      ],
      "execution_count": null,
      "outputs": [
        {
          "output_type": "execute_result",
          "data": {
            "text/plain": [
              "{((c - 2)/(c - 1), (3 - 4*c)/(c - 1), (2*c - 1)/(c - 1))}"
            ],
            "text/latex": "$\\displaystyle \\left\\{\\left( \\frac{c - 2}{c - 1}, \\  \\frac{3 - 4 c}{c - 1}, \\  \\frac{2 c - 1}{c - 1}\\right)\\right\\}$"
          },
          "metadata": {},
          "execution_count": 10
        }
      ]
    },
    {
      "cell_type": "markdown",
      "metadata": {
        "id": "K3q5h-3zzvA5"
      },
      "source": [
        "Заметим, что по этой формуле можно найти решение СЛАУ только при $c \\neq 1$. В случае $c = 1$ нужно в исходной СЛАУ выполнить подстановку  $c = 1$ и найти другие решения:"
      ]
    },
    {
      "cell_type": "code",
      "metadata": {
        "id": "v6knaNIKzvA6",
        "colab": {
          "base_uri": "https://localhost:8080/",
          "height": 38
        },
        "outputId": "235d422c-d8c2-4cfe-a95f-d91f3aedbe8e"
      },
      "source": [
        "linsolve((A.subs(c, 1), b.subs(c, 1)))"
      ],
      "execution_count": null,
      "outputs": [
        {
          "output_type": "execute_result",
          "data": {
            "text/plain": [
              "EmptySet"
            ],
            "text/latex": "$\\displaystyle \\emptyset$"
          },
          "metadata": {},
          "execution_count": 11
        }
      ]
    },
    {
      "cell_type": "markdown",
      "metadata": {
        "id": "099lsJjJzvA6"
      },
      "source": [
        "В случае $c = 1$ исходная СЛАУ несовместна."
      ]
    },
    {
      "cell_type": "markdown",
      "metadata": {
        "id": "JSulYJS8zvA6"
      },
      "source": [
        "## Проверка правильности расчетов.\n",
        "### Пример 5.\n",
        "Рассмотрим СЛАУ\n",
        "$$\n",
        "\\left\\{\n",
        "\\begin{matrix}\n",
        "5x - 3y + z = 11\\\\\n",
        "2x - 2y + z = 7\\\\\n",
        "-x + 3y -2z = -10\n",
        "\\end{matrix}\n",
        "\\right.\n",
        "$$\n",
        "Найдем решение $X_5$ данной СЛАУ, записанной в виде $AX = b$. Проверим подстановкой, что $AX_5 = b$, для удобства будем проверять эквивалентное условие  $AX_5 - b = \\bar 0$.\n",
        "\n",
        "Вначале приведем СЛАУ к матричному виду с помощью linear_eq_to_matrix и воспользуемся linsolve"
      ]
    },
    {
      "cell_type": "code",
      "metadata": {
        "id": "Pdd7xvPDzvA6",
        "colab": {
          "base_uri": "https://localhost:8080/",
          "height": 58
        },
        "outputId": "28dbae4e-a930-400e-dc7f-5fe74b84f6cc"
      },
      "source": [
        "A, b = linear_eq_to_matrix([Eq(5 * x - 3 * y + z, 11),\n",
        "                            Eq(2 * x - 2 * y + z, 7),\n",
        "                            Eq(-x + 3 * y - 2 * z, -10)],\n",
        "                           [x, y, z])\n",
        "X5 = linsolve((A, b), x, y, z)\n",
        "X5"
      ],
      "execution_count": null,
      "outputs": [
        {
          "output_type": "execute_result",
          "data": {
            "text/plain": [
              "{(z/4 + 1/4, 3*z/4 - 13/4, z)}"
            ],
            "text/latex": "$\\displaystyle \\left\\{\\left( \\frac{z}{4} + \\frac{1}{4}, \\  \\frac{3 z}{4} - \\frac{13}{4}, \\  z\\right)\\right\\}$"
          },
          "metadata": {},
          "execution_count": 12
        }
      ]
    },
    {
      "cell_type": "markdown",
      "metadata": {
        "id": "09TiQcs_zvA6"
      },
      "source": [
        "Теперь нужно преобразовать в матрицу полученное решение, предварительно распаковав с помощью * множество:"
      ]
    },
    {
      "cell_type": "code",
      "metadata": {
        "id": "J739gVfpzvA7",
        "colab": {
          "base_uri": "https://localhost:8080/",
          "height": 39
        },
        "outputId": "3b20093b-0a44-4208-c195-c72f5b744ede"
      },
      "source": [
        "X5_matr = Matrix(*X5)\n",
        "display(X5_matr.T)"
      ],
      "execution_count": null,
      "outputs": [
        {
          "output_type": "display_data",
          "data": {
            "text/plain": [
              "Matrix([[z/4 + 1/4, 3*z/4 - 13/4, z]])"
            ],
            "text/latex": "$\\displaystyle \\left[\\begin{matrix}\\frac{z}{4} + \\frac{1}{4} & \\frac{3 z}{4} - \\frac{13}{4} & z\\end{matrix}\\right]$"
          },
          "metadata": {}
        }
      ]
    },
    {
      "cell_type": "markdown",
      "metadata": {
        "id": "r9DJLmjuzvA7"
      },
      "source": [
        "Теперь можно проверить $AX_0 - b = \\bar 0$"
      ]
    },
    {
      "cell_type": "code",
      "metadata": {
        "id": "Yi3X-g-tzvA7",
        "colab": {
          "base_uri": "https://localhost:8080/",
          "height": 38
        },
        "outputId": "402f75fb-b846-4266-a5b3-5805ceda6957"
      },
      "source": [
        "display((A * X5_matr - b).T)"
      ],
      "execution_count": null,
      "outputs": [
        {
          "output_type": "display_data",
          "data": {
            "text/plain": [
              "Matrix([[0, 0, 0]])"
            ],
            "text/latex": "$\\displaystyle \\left[\\begin{matrix}0 & 0 & 0\\end{matrix}\\right]$"
          },
          "metadata": {}
        }
      ]
    },
    {
      "cell_type": "markdown",
      "metadata": {
        "id": "Vez6Su0_zvA7"
      },
      "source": [
        "### Пример 6.\n",
        "Записать сразу в матричном виде СЛАУ\n",
        "$$\n",
        "\\left\\{\n",
        "\\begin{matrix}\n",
        "x + ky - z = 1\\\\\n",
        "2x + y + z = -2\\\\\n",
        "-3x + (k - 2)z -3z = 5\n",
        "\\end{matrix}\n",
        "\\right..\n",
        "$$\n",
        "Решить СЛАУ при всех значениях параметра и выполнить проверку.\n",
        "\n",
        "При вызове linsolve передаем имена переменных, поскольку наша СЛАУ с параметром $k$."
      ]
    },
    {
      "cell_type": "code",
      "metadata": {
        "id": "ivXRLFSVzvA7",
        "colab": {
          "base_uri": "https://localhost:8080/",
          "height": 58
        },
        "outputId": "76bbe1d8-12e6-45ce-df0d-312e9bc2f257"
      },
      "source": [
        "k = Symbol('k')\n",
        "A6 = Matrix([[1, k, -1],\n",
        "            [2, 1, 1],\n",
        "            [-3, k - 2, -3]])\n",
        "b6 = Matrix([1, -2, 5])\n",
        "sol6 = linsolve((A6, b6), x, y, z)\n",
        "display(sol6)"
      ],
      "execution_count": null,
      "outputs": [
        {
          "output_type": "display_data",
          "data": {
            "text/plain": [
              "{(z*(-k - 1)/(2*k - 1) + (-2*k - 1)/(2*k - 1), 3*z/(2*k - 1) + 4/(2*k - 1), z)}"
            ],
            "text/latex": "$\\displaystyle \\left\\{\\left( \\frac{z \\left(- k - 1\\right)}{2 k - 1} + \\frac{- 2 k - 1}{2 k - 1}, \\  \\frac{3 z}{2 k - 1} + \\frac{4}{2 k - 1}, \\  z\\right)\\right\\}$"
          },
          "metadata": {}
        }
      ]
    },
    {
      "cell_type": "markdown",
      "metadata": {
        "id": "WMyx0jsUzvA8"
      },
      "source": [
        "Преобразуем множество из одного tuple в матрицу, как в Примере 5."
      ]
    },
    {
      "cell_type": "code",
      "metadata": {
        "id": "ZC2D8vKEzvA8",
        "colab": {
          "base_uri": "https://localhost:8080/",
          "height": 47
        },
        "outputId": "cebe8dc8-c301-46c1-b568-aa99a958d488"
      },
      "source": [
        "X6 = Matrix(*sol6)\n",
        "display(X6.T)"
      ],
      "execution_count": null,
      "outputs": [
        {
          "output_type": "display_data",
          "data": {
            "text/plain": [
              "Matrix([[z*(-k - 1)/(2*k - 1) + (-2*k - 1)/(2*k - 1), 3*z/(2*k - 1) + 4/(2*k - 1), z]])"
            ],
            "text/latex": "$\\displaystyle \\left[\\begin{matrix}\\frac{z \\left(- k - 1\\right)}{2 k - 1} + \\frac{- 2 k - 1}{2 k - 1} & \\frac{3 z}{2 k - 1} + \\frac{4}{2 k - 1} & z\\end{matrix}\\right]$"
          },
          "metadata": {}
        }
      ]
    },
    {
      "cell_type": "markdown",
      "metadata": {
        "id": "5SiFVjy9zvA8"
      },
      "source": [
        "Проверим правильность решения, вычисляя $A_6X_6 - b_6$ и сравнивая полученное значение с нулевым вектором."
      ]
    },
    {
      "cell_type": "code",
      "metadata": {
        "id": "DIaK-lwYzvA8",
        "colab": {
          "base_uri": "https://localhost:8080/",
          "height": 89
        },
        "outputId": "e71ca6cc-95e4-4f9f-aa80-e874c94954e9"
      },
      "source": [
        "display((A6 * X6 - b6))"
      ],
      "execution_count": null,
      "outputs": [
        {
          "output_type": "display_data",
          "data": {
            "text/plain": [
              "Matrix([\n",
              "[             k*(3*z/(2*k - 1) + 4/(2*k - 1)) + z*(-k - 1)/(2*k - 1) - z + (-2*k - 1)/(2*k - 1) - 1],\n",
              "[             2*z*(-k - 1)/(2*k - 1) + z + 3*z/(2*k - 1) + 2*(-2*k - 1)/(2*k - 1) + 2 + 4/(2*k - 1)],\n",
              "[-3*z*(-k - 1)/(2*k - 1) - 3*z - 3*(-2*k - 1)/(2*k - 1) + (k - 2)*(3*z/(2*k - 1) + 4/(2*k - 1)) - 5]])"
            ],
            "text/latex": "$\\displaystyle \\left[\\begin{matrix}k \\left(\\frac{3 z}{2 k - 1} + \\frac{4}{2 k - 1}\\right) + \\frac{z \\left(- k - 1\\right)}{2 k - 1} - z + \\frac{- 2 k - 1}{2 k - 1} - 1\\\\\\frac{2 z \\left(- k - 1\\right)}{2 k - 1} + z + \\frac{3 z}{2 k - 1} + \\frac{2 \\left(- 2 k - 1\\right)}{2 k - 1} + 2 + \\frac{4}{2 k - 1}\\\\- \\frac{3 z \\left(- k - 1\\right)}{2 k - 1} - 3 z - \\frac{3 \\left(- 2 k - 1\\right)}{2 k - 1} + \\left(k - 2\\right) \\left(\\frac{3 z}{2 k - 1} + \\frac{4}{2 k - 1}\\right) - 5\\end{matrix}\\right]$"
          },
          "metadata": {}
        }
      ]
    },
    {
      "cell_type": "markdown",
      "source": [
        "Нужно упростить выражения в полученном решении:"
      ],
      "metadata": {
        "id": "GAAcdVURCBd5"
      }
    },
    {
      "cell_type": "code",
      "source": [
        "display(simplify(A6 * X6 - b6).T)"
      ],
      "metadata": {
        "colab": {
          "base_uri": "https://localhost:8080/",
          "height": 38
        },
        "id": "-_Ls5H3yCIXZ",
        "outputId": "ff7956b0-dc15-4482-f66b-dd017cf292c3"
      },
      "execution_count": null,
      "outputs": [
        {
          "output_type": "display_data",
          "data": {
            "text/plain": [
              "Matrix([[0, 0, 0]])"
            ],
            "text/latex": "$\\displaystyle \\left[\\begin{matrix}0 & 0 & 0\\end{matrix}\\right]$"
          },
          "metadata": {}
        }
      ]
    },
    {
      "cell_type": "markdown",
      "metadata": {
        "id": "VuYvFrDgzvA9"
      },
      "source": [
        "Случай $2k - 1 = 0$ нужно рассмотреть отдельно. Выполним подстановку subs в матрице $A_6$ и решим полученную СЛАУ."
      ]
    },
    {
      "cell_type": "code",
      "metadata": {
        "id": "i-QmTfuNzvA9",
        "colab": {
          "base_uri": "https://localhost:8080/",
          "height": 58
        },
        "outputId": "61ac6a2d-f013-48d6-e8a9-a63635aa14d4"
      },
      "source": [
        "A6_spec = A6.subs(k, S(1) / 2)\n",
        "sol6_spec = linsolve((A6_spec, b6), x, y, z)\n",
        "display(sol6_spec)"
      ],
      "execution_count": null,
      "outputs": [
        {
          "output_type": "display_data",
          "data": {
            "text/plain": [
              "{(-y/2 - 1/3, y, -4/3)}"
            ],
            "text/latex": "$\\displaystyle \\left\\{\\left( - \\frac{y}{2} - \\frac{1}{3}, \\  y, \\  - \\frac{4}{3}\\right)\\right\\}$"
          },
          "metadata": {}
        }
      ]
    },
    {
      "cell_type": "markdown",
      "metadata": {
        "id": "DZnlZgubzvA9"
      },
      "source": [
        "Проверим его, вычисляя $A_{6spec} X_{6spec} - b_6$ и сравнивая полученное значение с нулевым вектором.\n",
        "Преобразуем множество из одного tuple в матрицу, как в Примере 5.\n",
        "\n",
        "**Важно:** при проверке используем не матрицу $A_6$ а матрицу $A_{6spec}$, в которой уже подставлено $k = 1/2$."
      ]
    },
    {
      "cell_type": "code",
      "metadata": {
        "id": "LOblHpVgzvA9",
        "colab": {
          "base_uri": "https://localhost:8080/",
          "height": 60
        },
        "outputId": "9fb61c19-3d3b-494f-9efc-682007e4b124"
      },
      "source": [
        "X6_spec = Matrix(*sol6_spec)\n",
        "display(X6_spec.T, (A6_spec * X6_spec - b6).T)"
      ],
      "execution_count": null,
      "outputs": [
        {
          "output_type": "display_data",
          "data": {
            "text/plain": [
              "Matrix([[-y/2 - 1/3, y, -4/3]])"
            ],
            "text/latex": "$\\displaystyle \\left[\\begin{matrix}- \\frac{y}{2} - \\frac{1}{3} & y & - \\frac{4}{3}\\end{matrix}\\right]$"
          },
          "metadata": {}
        },
        {
          "output_type": "display_data",
          "data": {
            "text/plain": [
              "Matrix([[0, 0, 0]])"
            ],
            "text/latex": "$\\displaystyle \\left[\\begin{matrix}0 & 0 & 0\\end{matrix}\\right]$"
          },
          "metadata": {}
        }
      ]
    },
    {
      "cell_type": "markdown",
      "metadata": {
        "id": "68px-SJSzvA9"
      },
      "source": [
        "## Присоединение матриц в строку или в столбик\n",
        "Матрицы $A$ и $B$ можно соединить в строку, присоединяя $B$ справа к $A$,\n",
        "это делается с помощью метода  row_join. Можем использовать это для построения расширенной матрицы СЛАУ на основе матриц левой и правой части."
      ]
    },
    {
      "cell_type": "code",
      "metadata": {
        "id": "4hbaUIJOzvA-",
        "colab": {
          "base_uri": "https://localhost:8080/",
          "height": 139
        },
        "outputId": "72c65850-0a42-4f87-e455-e939b569750f"
      },
      "source": [
        "A = diag(1, 2)\n",
        "b = Matrix([3, 4])\n",
        "A_with_B = A.row_join(b)\n",
        "display(A, b, A_with_B)"
      ],
      "execution_count": null,
      "outputs": [
        {
          "output_type": "display_data",
          "data": {
            "text/plain": [
              "Matrix([\n",
              "[1, 0],\n",
              "[0, 2]])"
            ],
            "text/latex": "$\\displaystyle \\left[\\begin{matrix}1 & 0\\\\0 & 2\\end{matrix}\\right]$"
          },
          "metadata": {}
        },
        {
          "output_type": "display_data",
          "data": {
            "text/plain": [
              "Matrix([\n",
              "[3],\n",
              "[4]])"
            ],
            "text/latex": "$\\displaystyle \\left[\\begin{matrix}3\\\\4\\end{matrix}\\right]$"
          },
          "metadata": {}
        },
        {
          "output_type": "display_data",
          "data": {
            "text/plain": [
              "Matrix([\n",
              "[1, 0, 3],\n",
              "[0, 2, 4]])"
            ],
            "text/latex": "$\\displaystyle \\left[\\begin{matrix}1 & 0 & 3\\\\0 & 2 & 4\\end{matrix}\\right]$"
          },
          "metadata": {}
        }
      ]
    },
    {
      "cell_type": "markdown",
      "metadata": {
        "id": "y4dg4uCPzvA-"
      },
      "source": [
        "Матрицу $B$ можно присоединить к матрице $A$ снизу с помощью col_join."
      ]
    },
    {
      "cell_type": "code",
      "metadata": {
        "id": "s78bzTArzvA-",
        "colab": {
          "base_uri": "https://localhost:8080/",
          "height": 78
        },
        "outputId": "5a563556-148e-44f6-c9db-63fbce41ba7f"
      },
      "source": [
        "C = Matrix([[5, 6]])\n",
        "C_under_A = A.col_join(C)\n",
        "C_under_A"
      ],
      "execution_count": null,
      "outputs": [
        {
          "output_type": "execute_result",
          "data": {
            "text/plain": [
              "Matrix([\n",
              "[1, 0],\n",
              "[0, 2],\n",
              "[5, 6]])"
            ],
            "text/latex": "$\\displaystyle \\left[\\begin{matrix}1 & 0\\\\0 & 2\\\\5 & 6\\end{matrix}\\right]$"
          },
          "metadata": {},
          "execution_count": 22
        }
      ]
    },
    {
      "cell_type": "markdown",
      "metadata": {
        "id": "FxH4X5T2zvA-"
      },
      "source": [
        "### Выделение строки, столбца и подматрицы в матрице\n",
        "Для выделения части матрицы будем использовать диапазоны (срезы, slice)\n",
        "\n",
        "Напомним, что обращение к элементу матрицы осуществляется указанием в квадратных скобках после имени матрицы номера строки и номера столбца через запятую,\n",
        "\n",
        "например, $А[2, 3]$.\n",
        "\n",
        "Если нужно выделить элементы строки, стоящие в столбцах с 3 до 5 (не включая 5!), то вместо номера столбца указываем диапазон (срез) 3:5,\n",
        "двоеточие обозначает, что берутся и все промежуточные индексы.\n",
        "\n",
        "**!!!ВАЖНО!!!**\n",
        "\n",
        "В диапазонах не учитывается последнее значение,\n",
        "так срез 3:5 не включает элемент с номером 5!\n",
        "\n",
        "Например, можно в матрице $A\\_with\\_B$ выделить в первой строке элементы, стоящие в столбцах с 1 до 3 (не включая 3!):"
      ]
    },
    {
      "cell_type": "code",
      "metadata": {
        "id": "tKtuG-KSzvA_",
        "colab": {
          "base_uri": "https://localhost:8080/",
          "height": 38
        },
        "outputId": "56079f64-0d30-41b5-f0c8-3f1de4092961"
      },
      "source": [
        "A_with_B[0, 1:3]"
      ],
      "execution_count": null,
      "outputs": [
        {
          "output_type": "execute_result",
          "data": {
            "text/plain": [
              "Matrix([[0, 3]])"
            ],
            "text/latex": "$\\displaystyle \\left[\\begin{matrix}0 & 3\\end{matrix}\\right]$"
          },
          "metadata": {},
          "execution_count": 23
        }
      ]
    },
    {
      "cell_type": "markdown",
      "metadata": {
        "id": "0q09ySJIzvA_"
      },
      "source": [
        "Выделим столбец с номером 1 в матрице $A$"
      ]
    },
    {
      "cell_type": "code",
      "metadata": {
        "id": "zfXvXrgCzvA_",
        "colab": {
          "base_uri": "https://localhost:8080/",
          "height": 58
        },
        "outputId": "685ceea1-dea0-420a-bb34-d2ca4e83f0db"
      },
      "source": [
        "A[:, 1]"
      ],
      "execution_count": null,
      "outputs": [
        {
          "output_type": "execute_result",
          "data": {
            "text/plain": [
              "Matrix([\n",
              "[0],\n",
              "[2]])"
            ],
            "text/latex": "$\\displaystyle \\left[\\begin{matrix}0\\\\2\\end{matrix}\\right]$"
          },
          "metadata": {},
          "execution_count": 24
        }
      ]
    },
    {
      "cell_type": "markdown",
      "metadata": {
        "id": "U_Yf3QnMzvA_"
      },
      "source": [
        "Выделим строку с номером 0 в матрице $A$"
      ]
    },
    {
      "cell_type": "code",
      "metadata": {
        "id": "KEDYWMAxzvBA",
        "colab": {
          "base_uri": "https://localhost:8080/",
          "height": 38
        },
        "outputId": "3e35e33d-ed20-4990-a1a3-4ca0770a0411"
      },
      "source": [
        "A[0, :]"
      ],
      "execution_count": null,
      "outputs": [
        {
          "output_type": "execute_result",
          "data": {
            "text/plain": [
              "Matrix([[1, 0]])"
            ],
            "text/latex": "$\\displaystyle \\left[\\begin{matrix}1 & 0\\end{matrix}\\right]$"
          },
          "metadata": {},
          "execution_count": 25
        }
      ]
    },
    {
      "cell_type": "markdown",
      "metadata": {
        "id": "OKmhh0dAzvBA"
      },
      "source": [
        "Допишем снизу к матрице $A$ ее строку номер 1"
      ]
    },
    {
      "cell_type": "code",
      "metadata": {
        "id": "HjvqxA11zvBA",
        "colab": {
          "base_uri": "https://localhost:8080/",
          "height": 78
        },
        "outputId": "4732263d-50ee-4eda-8dc2-afa5e1324ace"
      },
      "source": [
        "A_with_A1 = A.col_join(A[1, :])\n",
        "A_with_A1"
      ],
      "execution_count": null,
      "outputs": [
        {
          "output_type": "execute_result",
          "data": {
            "text/plain": [
              "Matrix([\n",
              "[1, 0],\n",
              "[0, 2],\n",
              "[0, 2]])"
            ],
            "text/latex": "$\\displaystyle \\left[\\begin{matrix}1 & 0\\\\0 & 2\\\\0 & 2\\end{matrix}\\right]$"
          },
          "metadata": {},
          "execution_count": 26
        }
      ]
    },
    {
      "cell_type": "markdown",
      "metadata": {
        "id": "cnlh9ELSzvBA"
      },
      "source": [
        "Допишем справа к матрице $A$ ее столбец номер 0"
      ]
    },
    {
      "cell_type": "code",
      "metadata": {
        "id": "da_RdZS7zvBA",
        "colab": {
          "base_uri": "https://localhost:8080/",
          "height": 58
        },
        "outputId": "72f26b6f-07b2-48e3-eee2-d6f76bbc931f"
      },
      "source": [
        "A_with_A0 = A.row_join(A[:, 0])\n",
        "A_with_A0"
      ],
      "execution_count": null,
      "outputs": [
        {
          "output_type": "execute_result",
          "data": {
            "text/plain": [
              "Matrix([\n",
              "[1, 0, 1],\n",
              "[0, 2, 0]])"
            ],
            "text/latex": "$\\displaystyle \\left[\\begin{matrix}1 & 0 & 1\\\\0 & 2 & 0\\end{matrix}\\right]$"
          },
          "metadata": {},
          "execution_count": 27
        }
      ]
    },
    {
      "cell_type": "markdown",
      "metadata": {
        "id": "VBryvDnWzvBA"
      },
      "source": [
        "### Выделение подматрицы\n",
        "\n",
        "Из матрицы можно выделить подматрицу, расположенную в заданных строках и столбцах с помощью метода\n",
        "\n",
        "#### extract\n",
        "\n",
        "метод применяется к матрице, аргументы - список строк и список столбцов:\n",
        "\n",
        "Matrix_name(row_list,col_list)"
      ]
    },
    {
      "cell_type": "code",
      "metadata": {
        "id": "ESoremRazvBB",
        "colab": {
          "base_uri": "https://localhost:8080/",
          "height": 220
        },
        "outputId": "8468d13f-8d14-4218-d954-cce39968f70e"
      },
      "source": [
        "M = diag(*range(7))\n",
        "display(M, M.extract([0, 4, 6], [4, 5]))"
      ],
      "execution_count": null,
      "outputs": [
        {
          "output_type": "display_data",
          "data": {
            "text/plain": [
              "Matrix([\n",
              "[0, 0, 0, 0, 0, 0, 0],\n",
              "[0, 1, 0, 0, 0, 0, 0],\n",
              "[0, 0, 2, 0, 0, 0, 0],\n",
              "[0, 0, 0, 3, 0, 0, 0],\n",
              "[0, 0, 0, 0, 4, 0, 0],\n",
              "[0, 0, 0, 0, 0, 5, 0],\n",
              "[0, 0, 0, 0, 0, 0, 6]])"
            ],
            "text/latex": "$\\displaystyle \\left[\\begin{matrix}0 & 0 & 0 & 0 & 0 & 0 & 0\\\\0 & 1 & 0 & 0 & 0 & 0 & 0\\\\0 & 0 & 2 & 0 & 0 & 0 & 0\\\\0 & 0 & 0 & 3 & 0 & 0 & 0\\\\0 & 0 & 0 & 0 & 4 & 0 & 0\\\\0 & 0 & 0 & 0 & 0 & 5 & 0\\\\0 & 0 & 0 & 0 & 0 & 0 & 6\\end{matrix}\\right]$"
          },
          "metadata": {}
        },
        {
          "output_type": "display_data",
          "data": {
            "text/plain": [
              "Matrix([\n",
              "[0, 0],\n",
              "[4, 0],\n",
              "[0, 0]])"
            ],
            "text/latex": "$\\displaystyle \\left[\\begin{matrix}0 & 0\\\\4 & 0\\\\0 & 0\\end{matrix}\\right]$"
          },
          "metadata": {}
        }
      ]
    },
    {
      "cell_type": "markdown",
      "metadata": {
        "id": "_KZKi5cgzvBB"
      },
      "source": [
        "### Ввод с консоли:\n",
        "\n",
        "\n",
        "```\n",
        "input()\n",
        "```\n",
        "\n",
        "\n",
        "\n",
        "\n",
        "есть необязательный переметр - приглашение к вводу:"
      ]
    },
    {
      "cell_type": "code",
      "metadata": {
        "id": "31tGLBLUzvBC",
        "colab": {
          "base_uri": "https://localhost:8080/",
          "height": 194
        },
        "outputId": "688bc2be-5dab-4874-a433-edb795380eab"
      },
      "source": [
        "symbols_my = input('Введите несколько символов через пробел: \\n')\n",
        "K = Matrix(symbols_my.split())\n",
        "print('Получился вектор-столбец')\n",
        "K"
      ],
      "execution_count": null,
      "outputs": [
        {
          "output_type": "stream",
          "name": "stdout",
          "text": [
            "Введите несколько символов через пробел: \n",
            "m a t r i x\n",
            "Получился вектор-столбец\n"
          ]
        },
        {
          "output_type": "execute_result",
          "data": {
            "text/plain": [
              "Matrix([\n",
              "[m],\n",
              "[a],\n",
              "[t],\n",
              "[r],\n",
              "[i],\n",
              "[x]])"
            ],
            "text/latex": "$\\displaystyle \\left[\\begin{matrix}m\\\\a\\\\t\\\\r\\\\i\\\\x\\end{matrix}\\right]$"
          },
          "metadata": {},
          "execution_count": 29
        }
      ]
    },
    {
      "cell_type": "markdown",
      "metadata": {
        "id": "ZmctpRsxzvBD"
      },
      "source": [
        "### Транспонирование\n",
        "Создадим матрицу $M$, элементы которой - произведения номеров строк и столбцов при условии нумерации с 1.\n",
        "\n",
        "Транспонируем М с помощью метода transpose() и с помощью его сокращения T."
      ]
    },
    {
      "cell_type": "code",
      "metadata": {
        "id": "IHRiq2GizvBD",
        "colab": {
          "base_uri": "https://localhost:8080/",
          "height": 281
        },
        "outputId": "86a36227-3b8a-45c4-9795-e780258bf45e"
      },
      "source": [
        "M = Matrix([[i ** j for i in range(1, 6)] for j in range(1, 4)])\n",
        "display(M, M.transpose(), M.T)"
      ],
      "execution_count": null,
      "outputs": [
        {
          "output_type": "display_data",
          "data": {
            "text/plain": [
              "Matrix([\n",
              "[1, 2,  3,  4,   5],\n",
              "[1, 4,  9, 16,  25],\n",
              "[1, 8, 27, 64, 125]])"
            ],
            "text/latex": "$\\displaystyle \\left[\\begin{matrix}1 & 2 & 3 & 4 & 5\\\\1 & 4 & 9 & 16 & 25\\\\1 & 8 & 27 & 64 & 125\\end{matrix}\\right]$"
          },
          "metadata": {}
        },
        {
          "output_type": "display_data",
          "data": {
            "text/plain": [
              "Matrix([\n",
              "[1,  1,   1],\n",
              "[2,  4,   8],\n",
              "[3,  9,  27],\n",
              "[4, 16,  64],\n",
              "[5, 25, 125]])"
            ],
            "text/latex": "$\\displaystyle \\left[\\begin{matrix}1 & 1 & 1\\\\2 & 4 & 8\\\\3 & 9 & 27\\\\4 & 16 & 64\\\\5 & 25 & 125\\end{matrix}\\right]$"
          },
          "metadata": {}
        },
        {
          "output_type": "display_data",
          "data": {
            "text/plain": [
              "Matrix([\n",
              "[1,  1,   1],\n",
              "[2,  4,   8],\n",
              "[3,  9,  27],\n",
              "[4, 16,  64],\n",
              "[5, 25, 125]])"
            ],
            "text/latex": "$\\displaystyle \\left[\\begin{matrix}1 & 1 & 1\\\\2 & 4 & 8\\\\3 & 9 & 27\\\\4 & 16 & 64\\\\5 & 25 & 125\\end{matrix}\\right]$"
          },
          "metadata": {}
        }
      ]
    },
    {
      "cell_type": "markdown",
      "metadata": {
        "id": "WhWVr0U8zvBD"
      },
      "source": [
        "Перемножим столбец 1 и строку 0, нумерация с нуля!"
      ]
    },
    {
      "cell_type": "code",
      "metadata": {
        "id": "lzJRuZDQzvBD",
        "colab": {
          "base_uri": "https://localhost:8080/",
          "height": 160
        },
        "outputId": "2c319018-ec5d-4ecc-ec60-975cf6e79ebb"
      },
      "source": [
        "display(M[:, 1], M[0, :])\n",
        "M2 = M[:, 1] * M[0, :]\n",
        "M2"
      ],
      "execution_count": null,
      "outputs": [
        {
          "output_type": "display_data",
          "data": {
            "text/plain": [
              "Matrix([\n",
              "[2],\n",
              "[4],\n",
              "[8]])"
            ],
            "text/latex": "$\\displaystyle \\left[\\begin{matrix}2\\\\4\\\\8\\end{matrix}\\right]$"
          },
          "metadata": {}
        },
        {
          "output_type": "display_data",
          "data": {
            "text/plain": [
              "Matrix([[1, 2, 3, 4, 5]])"
            ],
            "text/latex": "$\\displaystyle \\left[\\begin{matrix}1 & 2 & 3 & 4 & 5\\end{matrix}\\right]$"
          },
          "metadata": {}
        },
        {
          "output_type": "execute_result",
          "data": {
            "text/plain": [
              "Matrix([\n",
              "[2,  4,  6,  8, 10],\n",
              "[4,  8, 12, 16, 20],\n",
              "[8, 16, 24, 32, 40]])"
            ],
            "text/latex": "$\\displaystyle \\left[\\begin{matrix}2 & 4 & 6 & 8 & 10\\\\4 & 8 & 12 & 16 & 20\\\\8 & 16 & 24 & 32 & 40\\end{matrix}\\right]$"
          },
          "metadata": {},
          "execution_count": 31
        }
      ]
    },
    {
      "cell_type": "markdown",
      "metadata": {
        "id": "jniAvWSjzvBE"
      },
      "source": [
        "Выделим верхнюю левую подматрицу порядка 3"
      ]
    },
    {
      "cell_type": "code",
      "metadata": {
        "id": "zAXiCCr2zvBE",
        "colab": {
          "base_uri": "https://localhost:8080/",
          "height": 78
        },
        "outputId": "c5eeb61e-98e3-4cf7-a94f-70c40bff2f02"
      },
      "source": [
        "M3 = M2[:3, :3]\n",
        "M3"
      ],
      "execution_count": null,
      "outputs": [
        {
          "output_type": "execute_result",
          "data": {
            "text/plain": [
              "Matrix([\n",
              "[2,  4,  6],\n",
              "[4,  8, 12],\n",
              "[8, 16, 24]])"
            ],
            "text/latex": "$\\displaystyle \\left[\\begin{matrix}2 & 4 & 6\\\\4 & 8 & 12\\\\8 & 16 & 24\\end{matrix}\\right]$"
          },
          "metadata": {},
          "execution_count": 32
        }
      ]
    },
    {
      "cell_type": "markdown",
      "metadata": {
        "id": "-is6MeCYzvBE"
      },
      "source": [
        "Выделим нижнюю правую подматрицу"
      ]
    },
    {
      "cell_type": "code",
      "metadata": {
        "id": "DSxNHS36zvBE",
        "colab": {
          "base_uri": "https://localhost:8080/",
          "height": 38
        },
        "outputId": "7532b955-d3e1-430b-9b41-17b759c8cf48"
      },
      "source": [
        "M3 = M2[2:, 2:]\n",
        "M3"
      ],
      "execution_count": null,
      "outputs": [
        {
          "output_type": "execute_result",
          "data": {
            "text/plain": [
              "Matrix([[24, 32, 40]])"
            ],
            "text/latex": "$\\displaystyle \\left[\\begin{matrix}24 & 32 & 40\\end{matrix}\\right]$"
          },
          "metadata": {},
          "execution_count": 33
        }
      ]
    },
    {
      "cell_type": "markdown",
      "metadata": {
        "id": "BvulSmyzzvBF"
      },
      "source": [
        "Составим матрицы из 0, 1 и 2-й строк матрицы $M2$"
      ]
    },
    {
      "cell_type": "code",
      "metadata": {
        "id": "UmqFQy1qzvBF",
        "colab": {
          "base_uri": "https://localhost:8080/",
          "height": 78
        },
        "outputId": "673632df-6fbc-4dbd-952d-718c5d6f684e"
      },
      "source": [
        "M_013 = ((M[0, :]).col_join(M[1, :])).col_join(M[2, :])\n",
        "M_013"
      ],
      "execution_count": null,
      "outputs": [
        {
          "output_type": "execute_result",
          "data": {
            "text/plain": [
              "Matrix([\n",
              "[1, 2,  3,  4,   5],\n",
              "[1, 4,  9, 16,  25],\n",
              "[1, 8, 27, 64, 125]])"
            ],
            "text/latex": "$\\displaystyle \\left[\\begin{matrix}1 & 2 & 3 & 4 & 5\\\\1 & 4 & 9 & 16 & 25\\\\1 & 8 & 27 & 64 & 125\\end{matrix}\\right]$"
          },
          "metadata": {},
          "execution_count": 34
        }
      ]
    },
    {
      "cell_type": "markdown",
      "metadata": {
        "id": "wVwyy0_szvBF"
      },
      "source": [
        "Изменим значение элемента второй строки второго столбца матрицы $M\\_013$"
      ]
    },
    {
      "cell_type": "code",
      "metadata": {
        "id": "g4z9ltS3zvBF",
        "colab": {
          "base_uri": "https://localhost:8080/",
          "height": 78
        },
        "outputId": "50665415-568e-41a4-cb9b-4d81245f6657"
      },
      "source": [
        "M_013[2, 2] = 0\n",
        "M_013"
      ],
      "execution_count": null,
      "outputs": [
        {
          "output_type": "execute_result",
          "data": {
            "text/plain": [
              "Matrix([\n",
              "[1, 2, 3,  4,   5],\n",
              "[1, 4, 9, 16,  25],\n",
              "[1, 8, 0, 64, 125]])"
            ],
            "text/latex": "$\\displaystyle \\left[\\begin{matrix}1 & 2 & 3 & 4 & 5\\\\1 & 4 & 9 & 16 & 25\\\\1 & 8 & 0 & 64 & 125\\end{matrix}\\right]$"
          },
          "metadata": {},
          "execution_count": 35
        }
      ]
    },
    {
      "cell_type": "markdown",
      "metadata": {
        "id": "ZalnsirqzvBF"
      },
      "source": [
        "### Создание матрицы на основе lambda-функции\n",
        "Используем анонимную функцию (lambda-функцию)"
      ]
    },
    {
      "cell_type": "code",
      "metadata": {
        "id": "A9mNh6KKzvBF",
        "colab": {
          "base_uri": "https://localhost:8080/",
          "height": 98
        },
        "outputId": "cdbabdf6-20b5-420e-d2ec-9eca66d4d4ec"
      },
      "source": [
        "P = Matrix(4, 5, lambda i, j: 2 * i + (-1) ** j)\n",
        "P"
      ],
      "execution_count": null,
      "outputs": [
        {
          "output_type": "execute_result",
          "data": {
            "text/plain": [
              "Matrix([\n",
              "[1, -1, 1, -1, 1],\n",
              "[3,  1, 3,  1, 3],\n",
              "[5,  3, 5,  3, 5],\n",
              "[7,  5, 7,  5, 7]])"
            ],
            "text/latex": "$\\displaystyle \\left[\\begin{matrix}1 & -1 & 1 & -1 & 1\\\\3 & 1 & 3 & 1 & 3\\\\5 & 3 & 5 & 3 & 5\\\\7 & 5 & 7 & 5 & 7\\end{matrix}\\right]$"
          },
          "metadata": {},
          "execution_count": 36
        }
      ]
    },
    {
      "cell_type": "markdown",
      "metadata": {
        "id": "jJR8I7pQzvBG"
      },
      "source": [
        "### Создание матрицы на основе функции пользователя"
      ]
    },
    {
      "cell_type": "code",
      "metadata": {
        "id": "i5-kitcqzvBG",
        "colab": {
          "base_uri": "https://localhost:8080/",
          "height": 78
        },
        "outputId": "d7b322fb-c948-458a-e04f-928665b89b2d"
      },
      "source": [
        "def matr(i, j):\n",
        "    if i > j:\n",
        "        return i - j\n",
        "    elif i == j:\n",
        "        return 2 ** i\n",
        "    return i + j\n",
        "\n",
        "NewM = Matrix(3, 5, matr)\n",
        "NewM"
      ],
      "execution_count": null,
      "outputs": [
        {
          "output_type": "execute_result",
          "data": {
            "text/plain": [
              "Matrix([\n",
              "[1, 1, 2, 3, 4],\n",
              "[1, 2, 3, 4, 5],\n",
              "[2, 1, 4, 5, 6]])"
            ],
            "text/latex": "$\\displaystyle \\left[\\begin{matrix}1 & 1 & 2 & 3 & 4\\\\1 & 2 & 3 & 4 & 5\\\\2 & 1 & 4 & 5 & 6\\end{matrix}\\right]$"
          },
          "metadata": {},
          "execution_count": 37
        }
      ]
    }
  ]
}