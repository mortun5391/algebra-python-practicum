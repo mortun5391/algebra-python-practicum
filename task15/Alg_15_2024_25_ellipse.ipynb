{
  "cells": [
    {
      "cell_type": "code",
      "execution_count": 1,
      "metadata": {
        "id": "Dd3-2mHHP8eU"
      },
      "outputs": [],
      "source": [
        "import sympy\n",
        "from sympy import Ellipse, Point, S, Eq, latex, plot_implicit\n",
        "from sympy import symbols, simplify, Rational, Matrix, Line\n",
        "from sympy import cos as Cos\n",
        "from sympy import sin as Sin\n",
        "from IPython.display import Latex"
      ]
    },
    {
      "cell_type": "markdown",
      "metadata": {
        "id": "LOxIvPI1P8eZ"
      },
      "source": [
        "# Практическое занятие 15\n",
        "# Компьютерный практикум по алгебре на Python\n",
        "## Кривые второго порядка на плоскости: эллипс\n",
        "https://ru.wikipedia.org/wiki/%D0%AD%D0%BB%D0%BB%D0%B8%D0%BF%D1%81\n",
        "\n",
        "В Sympy в части Geometry есть класс эллипсов Ellipse,\n",
        "экземпляры класса задаются точкой - центром эллипса и горизонтальной и вертикальной полуосями или одной из осей и эксцентриситетом.\n",
        "\n",
        "По умолчанию центр эллипса находится в начале координат, так что точку - центр эллипса можно конструктору не передавать. А оси или одну из них и эксцентриситет передать обязательно.\n",
        "\n",
        "https://docs.sympy.org/latest/modules/geometry/ellipses.html\n",
        "### Пример 1\n",
        "Построим эллипс Ellipse1: центр в начале координат, полуоси 13 и 5."
      ]
    },
    {
      "cell_type": "code",
      "execution_count": 2,
      "metadata": {
        "colab": {
          "base_uri": "https://localhost:8080/",
          "height": 37
        },
        "id": "r0SV3hOXP8eb",
        "outputId": "d3463160-f31b-412a-8ca6-591199d03151"
      },
      "outputs": [
        {
          "output_type": "execute_result",
          "data": {
            "text/plain": [
              "Ellipse(Point2D(0, 0), 13, 5)"
            ],
            "image/svg+xml": "<svg xmlns=\"http://www.w3.org/2000/svg\"\n            xmlns:xlink=\"http://www.w3.org/1999/xlink\"\n            width=\"100.0\" height=\"100.0\" viewBox=\"-15.6000000000000 -7.60000000000000 31.2000000000000 15.2000000000000\"\n            preserveAspectRatio=\"xMinYMin meet\">\n            <defs>\n                <marker id=\"markerCircle\" markerWidth=\"8\" markerHeight=\"8\"\n                    refx=\"5\" refy=\"5\" markerUnits=\"strokeWidth\">\n                    <circle cx=\"5\" cy=\"5\" r=\"1.5\" style=\"stroke: none; fill:#000000;\"/>\n                </marker>\n                <marker id=\"markerArrow\" markerWidth=\"13\" markerHeight=\"13\" refx=\"2\" refy=\"4\"\n                       orient=\"auto\" markerUnits=\"strokeWidth\">\n                    <path d=\"M2,2 L2,6 L6,4\" style=\"fill: #000000;\" />\n                </marker>\n                <marker id=\"markerReverseArrow\" markerWidth=\"13\" markerHeight=\"13\" refx=\"6\" refy=\"4\"\n                       orient=\"auto\" markerUnits=\"strokeWidth\">\n                    <path d=\"M6,2 L6,6 L2,4\" style=\"fill: #000000;\" />\n                </marker>\n            </defs><g transform=\"matrix(1,0,0,-1,0,0)\"><ellipse fill=\"#66cc99\" stroke=\"#555555\" stroke-width=\"0.624000000000000\" opacity=\"0.6\" cx=\"0\" cy=\"0\" rx=\"13.0000000000000\" ry=\"5.00000000000000\"/></g></svg>",
            "text/latex": "$\\displaystyle \\operatorname{Ellipse}\\left(\\operatorname{Point2D}\\left(0, 0\\right), 13, 5\\right)$"
          },
          "metadata": {},
          "execution_count": 2
        }
      ],
      "source": [
        "Ellipse1 = Ellipse(hradius=13,  vradius=5)\n",
        "Ellipse1"
      ]
    },
    {
      "cell_type": "markdown",
      "metadata": {
        "id": "EpJ1fH5UP8ee"
      },
      "source": [
        "Эллипс можно задать центром, горизонтальной полуосью и эксцентриситетом"
      ]
    },
    {
      "cell_type": "code",
      "execution_count": 3,
      "metadata": {
        "colab": {
          "base_uri": "https://localhost:8080/",
          "height": 37
        },
        "id": "412pvQxdP8ef",
        "outputId": "bed6432b-e4da-43cc-ab7c-5a05f7eeb024"
      },
      "outputs": [
        {
          "output_type": "execute_result",
          "data": {
            "text/plain": [
              "Ellipse(Point2D(3, 1), 13, 5)"
            ],
            "image/svg+xml": "<svg xmlns=\"http://www.w3.org/2000/svg\"\n            xmlns:xlink=\"http://www.w3.org/1999/xlink\"\n            width=\"100.0\" height=\"100.0\" viewBox=\"-12.6000000000000 -6.60000000000000 31.2000000000000 15.2000000000000\"\n            preserveAspectRatio=\"xMinYMin meet\">\n            <defs>\n                <marker id=\"markerCircle\" markerWidth=\"8\" markerHeight=\"8\"\n                    refx=\"5\" refy=\"5\" markerUnits=\"strokeWidth\">\n                    <circle cx=\"5\" cy=\"5\" r=\"1.5\" style=\"stroke: none; fill:#000000;\"/>\n                </marker>\n                <marker id=\"markerArrow\" markerWidth=\"13\" markerHeight=\"13\" refx=\"2\" refy=\"4\"\n                       orient=\"auto\" markerUnits=\"strokeWidth\">\n                    <path d=\"M2,2 L2,6 L6,4\" style=\"fill: #000000;\" />\n                </marker>\n                <marker id=\"markerReverseArrow\" markerWidth=\"13\" markerHeight=\"13\" refx=\"6\" refy=\"4\"\n                       orient=\"auto\" markerUnits=\"strokeWidth\">\n                    <path d=\"M6,2 L6,6 L2,4\" style=\"fill: #000000;\" />\n                </marker>\n            </defs><g transform=\"matrix(1,0,0,-1,0,2.00000000000000)\"><ellipse fill=\"#66cc99\" stroke=\"#555555\" stroke-width=\"0.624000000000000\" opacity=\"0.6\" cx=\"3.00000000000000\" cy=\"1.00000000000000\" rx=\"13.0000000000000\" ry=\"5.00000000000000\"/></g></svg>",
            "text/latex": "$\\displaystyle \\operatorname{Ellipse}\\left(\\operatorname{Point2D}\\left(3, 1\\right), 13, 5\\right)$"
          },
          "metadata": {},
          "execution_count": 3
        }
      ],
      "source": [
        "Ellipse2 = Ellipse(Point(3, 1), hradius=13, eccentricity=Rational(12, 13))\n",
        "Ellipse2"
      ]
    },
    {
      "cell_type": "markdown",
      "metadata": {
        "id": "eoPQlpPiP8ef"
      },
      "source": [
        "### Атрибуты класса Ellipse\n",
        "\n",
        "**center**\n",
        "центр эллипса, точка пересечения его осей\n",
        "\n",
        "\n",
        "**hradius**\n",
        "горизонтальная полуось\n",
        "    \n",
        "**vradius**\n",
        "вертикальная полуось\n",
        "\n",
        "**area**\n",
        "площадь\n",
        "\n",
        "**circumference**\n",
        "длина (дуги) эллипса (аналог длины окружности)\n",
        "$$\n",
        "l = 4a \\int_0^{\\pi/2} \\sqrt{1 - \\varepsilon^2\\cos^2 t}\\,dt = 4aE(\\varepsilon^2),\n",
        "$$\n",
        "где $a$ - большая полуось, $\\varepsilon$ - эксцентриситет, $E(\\varepsilon^2)$ - полный эллиптический интеграл\n",
        "\n",
        "**eccentricity**\n",
        "эксцентриситет отношение фокусного расстояния к горизонтальной оси (той, на которой расположены фокусы)\n",
        "\n",
        "**periapsis**\n",
        "перифокусное расстояние (минимальное расстояние от фокуса до точки на эллипсе)\n",
        "\n",
        "**apoapsis**\n",
        "апофокусное расстояние (максимальное расстояние от фокуса до точки на эллипсе)\n",
        "\n",
        "**focus_distance**\n",
        "фокусное расстояние - половина расстояния между фокусами\n",
        "\n",
        "**foci**\n",
        "фокусы\n",
        "### Пример 2.\n",
        "Выведем на экран атрибуты эллипса Ellipse2."
      ]
    },
    {
      "cell_type": "code",
      "execution_count": 4,
      "metadata": {
        "colab": {
          "base_uri": "https://localhost:8080/",
          "height": 236
        },
        "id": "QBve1LP_P8eg",
        "outputId": "4786f9e1-26b6-43d9-a36b-acab26bbe9fc"
      },
      "outputs": [
        {
          "output_type": "display_data",
          "data": {
            "text/plain": [
              "<IPython.core.display.Latex object>"
            ],
            "text/latex": "center = \\operatorname{Point2D}\\left(3, 1\\right)"
          },
          "metadata": {}
        },
        {
          "output_type": "display_data",
          "data": {
            "text/plain": [
              "<IPython.core.display.Latex object>"
            ],
            "text/latex": "hradius = 13"
          },
          "metadata": {}
        },
        {
          "output_type": "display_data",
          "data": {
            "text/plain": [
              "<IPython.core.display.Latex object>"
            ],
            "text/latex": "vradius = 5"
          },
          "metadata": {}
        },
        {
          "output_type": "display_data",
          "data": {
            "text/plain": [
              "<IPython.core.display.Latex object>"
            ],
            "text/latex": "area = 65 \\pi"
          },
          "metadata": {}
        },
        {
          "output_type": "display_data",
          "data": {
            "text/plain": [
              "<IPython.core.display.Latex object>"
            ],
            "text/latex": "circumference = 52 E\\left(\\frac{144}{169}\\right)"
          },
          "metadata": {}
        },
        {
          "output_type": "display_data",
          "data": {
            "text/plain": [
              "<IPython.core.display.Latex object>"
            ],
            "text/latex": "eccentricity = \\frac{12}{13}"
          },
          "metadata": {}
        },
        {
          "output_type": "display_data",
          "data": {
            "text/plain": [
              "<IPython.core.display.Latex object>"
            ],
            "text/latex": "periapsis = 1"
          },
          "metadata": {}
        },
        {
          "output_type": "display_data",
          "data": {
            "text/plain": [
              "<IPython.core.display.Latex object>"
            ],
            "text/latex": "apoapsis = 25"
          },
          "metadata": {}
        },
        {
          "output_type": "display_data",
          "data": {
            "text/plain": [
              "<IPython.core.display.Latex object>"
            ],
            "text/latex": "focus\\_distance = 12"
          },
          "metadata": {}
        },
        {
          "output_type": "display_data",
          "data": {
            "text/plain": [
              "<IPython.core.display.Latex object>"
            ],
            "text/latex": "foci = \\left( \\operatorname{Point2D}\\left(-9, 1\\right), \\  \\operatorname{Point2D}\\left(15, 1\\right)\\right)"
          },
          "metadata": {}
        }
      ],
      "source": [
        "props = {'center': Ellipse2.center,\n",
        "         'hradius': Ellipse2.hradius,\n",
        "         'vradius': Ellipse2.vradius,\n",
        "         'area': Ellipse2.area,\n",
        "         'circumference': Ellipse2.circumference,\n",
        "         'eccentricity': Ellipse2.eccentricity,\n",
        "         'periapsis': Ellipse2.periapsis,\n",
        "         'apoapsis': Ellipse2.apoapsis,\n",
        "         'focus\\_distance': Ellipse2.focus_distance,\n",
        "         'foci': Ellipse2.foci}\n",
        "display(*[Latex(f'{key} = {latex(props[key])}') for key in props])"
      ]
    },
    {
      "cell_type": "markdown",
      "metadata": {
        "id": "KoauhcabP8ei"
      },
      "source": [
        "### Методы класса Ellipse\n",
        "\n",
        "**encloses_point(p)** - является ли внутренней точкой эллипса точка p?\n",
        "\n",
        "**equation(x='x', y='y', _slope=None)**- уравнение эллипса\n",
        "\n",
        "необязательный аргумент _slope - наклон главной оси, т.е. **тангенс** угла (в радианах!) между положительным направлением оси $OX$ и прямой, проходящей через фокусы эллипса.\n",
        "### Пример 3.\n",
        "Выведем на экран, является ли  внутренней точкой эллипса точка (0, 0), (3, 6) и (20, 20)."
      ]
    },
    {
      "cell_type": "code",
      "execution_count": 5,
      "metadata": {
        "colab": {
          "base_uri": "https://localhost:8080/"
        },
        "id": "ZbvfWa3ZP8ei",
        "outputId": "c814aaf1-c9e8-4ba5-ba5c-23c6382acf2e"
      },
      "outputs": [
        {
          "output_type": "stream",
          "name": "stdout",
          "text": [
            "Точка Point2D(0, 0) является внутренней точкой эллипса.\n",
            "Точка Point2D(3, 6) не является внутренней точкой эллипса.\n",
            "Точка Point2D(20, 20) не является внутренней точкой эллипса.\n"
          ]
        }
      ],
      "source": [
        "print(*[f'Точка {p} {\"не \" * (not Ellipse2.encloses_point(p))}\\\n",
        "является внутренней точкой \\\n",
        "эллипса.' for p in (Point(0, 0), Point(3, 6), Point(20, 20))],\n",
        "sep='\\n')"
      ]
    },
    {
      "cell_type": "markdown",
      "metadata": {
        "id": "Im1rfr29P8ej"
      },
      "source": [
        "Заметим, что граничные точки, т.е. точки на самом эллипсе, не являются внутренними!\n",
        "### Пример 4.\n",
        "Выведем на экран уравнение эллипса Ellipse2, а также уравнение этого эллипса, повернутого на угол с тангенсом 2."
      ]
    },
    {
      "cell_type": "code",
      "execution_count": 6,
      "metadata": {
        "colab": {
          "base_uri": "https://localhost:8080/",
          "height": 61
        },
        "id": "IYqIQ1_aP8ek",
        "outputId": "409a5016-80e9-4c97-afa0-e2dd7be4790f"
      },
      "outputs": [
        {
          "output_type": "execute_result",
          "data": {
            "text/plain": [
              "(x/13 - 3/13)**2 + (y/5 - 1/5)**2 - 1"
            ],
            "text/latex": "$\\displaystyle \\left(\\frac{x}{13} - \\frac{3}{13}\\right)^{2} + \\left(\\frac{y}{5} - \\frac{1}{5}\\right)^{2} - 1$"
          },
          "metadata": {},
          "execution_count": 6
        }
      ],
      "source": [
        "from sympy.abc import x, y\n",
        "expr2 = Ellipse2.equation(x='x', y='y')\n",
        "expr2"
      ]
    },
    {
      "cell_type": "markdown",
      "source": [
        "Это только левая часть уравнения эллипса при равой, равной нулю. Составим уравнение:"
      ],
      "metadata": {
        "id": "FrJjj1VAutjc"
      }
    },
    {
      "cell_type": "code",
      "source": [
        "eq2 = Eq(expr2, 0)\n",
        "eq2"
      ],
      "metadata": {
        "colab": {
          "base_uri": "https://localhost:8080/",
          "height": 61
        },
        "id": "qOkdF_Rkus2m",
        "outputId": "195f9c1d-fe6b-4a84-aa65-8669e2d47d5c"
      },
      "execution_count": 7,
      "outputs": [
        {
          "output_type": "execute_result",
          "data": {
            "text/plain": [
              "Eq((x/13 - 3/13)**2 + (y/5 - 1/5)**2 - 1, 0)"
            ],
            "text/latex": "$\\displaystyle \\left(\\frac{x}{13} - \\frac{3}{13}\\right)^{2} + \\left(\\frac{y}{5} - \\frac{1}{5}\\right)^{2} - 1 = 0$"
          },
          "metadata": {},
          "execution_count": 7
        }
      ]
    },
    {
      "cell_type": "markdown",
      "source": [
        "Перенесем свободный член в правую часть:"
      ],
      "metadata": {
        "id": "UF0jbecTvO1N"
      }
    },
    {
      "cell_type": "code",
      "source": [
        "right_side = -expr2.as_coeff_add()[0]\n",
        "eq2_new = Eq(expr2 + right_side, right_side)\n",
        "eq2_new"
      ],
      "metadata": {
        "colab": {
          "base_uri": "https://localhost:8080/",
          "height": 61
        },
        "id": "d-RqZnQ6vUi7",
        "outputId": "adc99526-7426-4e46-c803-204b8ce09d42"
      },
      "execution_count": 8,
      "outputs": [
        {
          "output_type": "execute_result",
          "data": {
            "text/plain": [
              "Eq((x/13 - 3/13)**2 + (y/5 - 1/5)**2, 1)"
            ],
            "text/latex": "$\\displaystyle \\left(\\frac{x}{13} - \\frac{3}{13}\\right)^{2} + \\left(\\frac{y}{5} - \\frac{1}{5}\\right)^{2} = 1$"
          },
          "metadata": {},
          "execution_count": 8
        }
      ]
    },
    {
      "cell_type": "markdown",
      "metadata": {
        "id": "zsyNynKDP8el"
      },
      "source": [
        "Посмотрим, как изменится уравнение эллипса при повороте,\n",
        "для этого изменим наклон главной оси с 0 на 2:"
      ]
    },
    {
      "cell_type": "code",
      "execution_count": 9,
      "metadata": {
        "colab": {
          "base_uri": "https://localhost:8080/",
          "height": 56
        },
        "id": "bpCKkeYIP8em",
        "outputId": "79dd0de7-8729-42f0-d6f5-046ac4237679"
      },
      "outputs": [
        {
          "output_type": "execute_result",
          "data": {
            "text/plain": [
              "(-2*x + y + 5)**2/125 + (x + 2*y - 5)**2/845 - 1"
            ],
            "text/latex": "$\\displaystyle \\frac{\\left(- 2 x + y + 5\\right)^{2}}{125} + \\frac{\\left(x + 2 y - 5\\right)^{2}}{845} - 1$"
          },
          "metadata": {},
          "execution_count": 9
        }
      ],
      "source": [
        "expr2_slope = Ellipse2.equation(_slope=2)\n",
        "expr2_slope"
      ]
    },
    {
      "cell_type": "markdown",
      "source": [
        "Перепишем в виде уравнения:"
      ],
      "metadata": {
        "id": "d73EwrIMx9B2"
      }
    },
    {
      "cell_type": "code",
      "source": [
        "eq2_slope = Eq(expr2_slope, 0)\n",
        "eq2_slope"
      ],
      "metadata": {
        "colab": {
          "base_uri": "https://localhost:8080/",
          "height": 56
        },
        "id": "thlDt9_jyAbs",
        "outputId": "6be4348c-4259-4f62-b34c-820d3cacb2ba"
      },
      "execution_count": 10,
      "outputs": [
        {
          "output_type": "execute_result",
          "data": {
            "text/plain": [
              "Eq((-2*x + y + 5)**2/125 + (x + 2*y - 5)**2/845 - 1, 0)"
            ],
            "text/latex": "$\\displaystyle \\frac{\\left(- 2 x + y + 5\\right)^{2}}{125} + \\frac{\\left(x + 2 y - 5\\right)^{2}}{845} - 1 = 0$"
          },
          "metadata": {},
          "execution_count": 10
        }
      ]
    },
    {
      "cell_type": "markdown",
      "source": [
        "Перенесем свободный член в правую часть:"
      ],
      "metadata": {
        "id": "z7QreNkQyIlE"
      }
    },
    {
      "cell_type": "code",
      "source": [
        "right_slope_side = -expr2_slope.as_coeff_add()[0]\n",
        "eq2_slope_new = Eq(expr2_slope + right_slope_side, right_slope_side)\n",
        "eq2_slope_new"
      ],
      "metadata": {
        "colab": {
          "base_uri": "https://localhost:8080/",
          "height": 56
        },
        "id": "fTm8sSX9yK90",
        "outputId": "35773e91-c050-4a92-b467-e86ee2d08a13"
      },
      "execution_count": 11,
      "outputs": [
        {
          "output_type": "execute_result",
          "data": {
            "text/plain": [
              "Eq((-2*x + y + 5)**2/125 + (x + 2*y - 5)**2/845, 1)"
            ],
            "text/latex": "$\\displaystyle \\frac{\\left(- 2 x + y + 5\\right)^{2}}{125} + \\frac{\\left(x + 2 y - 5\\right)^{2}}{845} = 1$"
          },
          "metadata": {},
          "execution_count": 11
        }
      ]
    },
    {
      "cell_type": "markdown",
      "metadata": {
        "id": "pR2hEHs2P8em"
      },
      "source": [
        "### Пример 5.\n",
        "Изобразим на графике эллипс, повернутый на угол с тангенсом 2.\n",
        "\n",
        "Для того, чтобы изобразить эллипс на графике, нужны его переменные, извлечем их с помощью .free_symbols"
      ]
    },
    {
      "cell_type": "code",
      "execution_count": 12,
      "metadata": {
        "id": "p_eJevwmP8en",
        "colab": {
          "base_uri": "https://localhost:8080/"
        },
        "outputId": "7e70f946-4a18-4bab-cac5-18c877062936"
      },
      "outputs": [
        {
          "output_type": "execute_result",
          "data": {
            "text/plain": [
              "{x, y}"
            ]
          },
          "metadata": {},
          "execution_count": 12
        }
      ],
      "source": [
        "symb_free = eq2_slope.free_symbols\n",
        "symb_free"
      ]
    },
    {
      "cell_type": "markdown",
      "source": [
        "Для того, чтобы задать достаточно большой диапазон значений переменных, используем словарь и списочное выражение:"
      ],
      "metadata": {
        "id": "7ix9nW_Y1I6I"
      }
    },
    {
      "cell_type": "code",
      "source": [
        "plot_implicit(eq2_slope,\n",
        "              aspect_ratio=(1, 1),\n",
        "              *[(variable, -15, 15) for variable in eq2_slope.free_symbols])"
      ],
      "metadata": {
        "colab": {
          "base_uri": "https://localhost:8080/",
          "height": 504
        },
        "id": "79XcepjC1C-R",
        "outputId": "6e75c0de-966a-460a-91bc-2f99c024c8eb"
      },
      "execution_count": 13,
      "outputs": [
        {
          "output_type": "display_data",
          "data": {
            "text/plain": [
              "<Figure size 640x480 with 1 Axes>"
            ],
            "image/png": "[encoded data removed]"
          },
          "metadata": {}
        },
        {
          "output_type": "execute_result",
          "data": {
            "text/plain": [
              "<sympy.plotting.backends.matplotlibbackend.matplotlib.MatplotlibBackend at 0x7e99833ca510>"
            ]
          },
          "metadata": {},
          "execution_count": 13
        }
      ]
    },
    {
      "cell_type": "markdown",
      "metadata": {
        "id": "hW3xfce4P8eo"
      },
      "source": [
        "Как видим, первая переменная оказалась не $x$, а $y$.\n",
        "\n",
        "Обеспечим доступ к символам по имени, составив словарь dict_free по множеству set_free переменных уравнения эллипса:"
      ]
    },
    {
      "cell_type": "code",
      "execution_count": 14,
      "metadata": {
        "id": "cH3uZI3RP8eo",
        "colab": {
          "base_uri": "https://localhost:8080/"
        },
        "outputId": "a3baf596-2a1f-466e-970e-160059f31bd9"
      },
      "outputs": [
        {
          "output_type": "execute_result",
          "data": {
            "text/plain": [
              "(x, y)"
            ]
          },
          "metadata": {},
          "execution_count": 14
        }
      ],
      "source": [
        "dict_free = {str(a): a for a in symb_free}\n",
        "dict_free['x'], dict_free['y']"
      ]
    },
    {
      "cell_type": "code",
      "execution_count": 15,
      "metadata": {
        "colab": {
          "base_uri": "https://localhost:8080/",
          "height": 504
        },
        "id": "syBCx3BSP8ep",
        "outputId": "c65ed805-2fac-498a-b1af-36c6d40583b1"
      },
      "outputs": [
        {
          "output_type": "display_data",
          "data": {
            "text/plain": [
              "<Figure size 640x480 with 1 Axes>"
            ],
            "image/png": "[encoded data removed]"
          },
          "metadata": {}
        },
        {
          "output_type": "execute_result",
          "data": {
            "text/plain": [
              "<sympy.plotting.backends.matplotlibbackend.matplotlib.MatplotlibBackend at 0x7e9983156c90>"
            ]
          },
          "metadata": {},
          "execution_count": 15
        }
      ],
      "source": [
        "plot_implicit(eq2_slope,\n",
        "              (dict_free['x'], -15, 15),\n",
        "              (dict_free['y'], -15, 15),\n",
        "              aspect_ratio=(1, 1))"
      ]
    },
    {
      "cell_type": "markdown",
      "source": [
        "### Пример 6.\n",
        "На графике изобразим эллипс Ellipse6 (с центром в (2, 3), осями 13 и 5). Составим уравнение эллипса с переменными $u$ и $v$.\n",
        "\n",
        "При вызове метода equation зададим имена переменных и используем их при построении графика."
      ],
      "metadata": {
        "id": "jxWZLd7q6eim"
      }
    },
    {
      "cell_type": "code",
      "source": [
        "Ellipse6 = Ellipse(Point(2, 3), 13, 5)\n",
        "expr6 = Ellipse6.equation(x='u', y='v')\n",
        "uv = {str(a): a for a in expr6.free_symbols}\n",
        "p = plot_implicit(expr6,\n",
        "                  (uv['u'], -15, 20), (uv['v'], -5, 10),\n",
        "                  aspect_ratio=(1, 1))\n",
        "right_slope_side = -expr6.as_coeff_add()[0]\n",
        "display(Latex(f'\\\\text{{Уравнение эллипса: }}\\\n",
        "{latex(Eq(expr6 + right_slope_side, right_slope_side))}'))"
      ],
      "metadata": {
        "colab": {
          "base_uri": "https://localhost:8080/",
          "height": 317
        },
        "id": "l3Ax-EF8664m",
        "outputId": "1df173de-777e-42aa-f7aa-2403c10f1cca"
      },
      "execution_count": 16,
      "outputs": [
        {
          "output_type": "display_data",
          "data": {
            "text/plain": [
              "<Figure size 640x480 with 1 Axes>"
            ],
            "image/png": "[encoded data removed]"
          },
          "metadata": {}
        },
        {
          "output_type": "display_data",
          "data": {
            "text/plain": [
              "<IPython.core.display.Latex object>"
            ],
            "text/latex": "\\text{Уравнение эллипса: }\\left(\\frac{u}{13} - \\frac{2}{13}\\right)^{2} + \\left(\\frac{v}{5} - \\frac{3}{5}\\right)^{2} = 1"
          },
          "metadata": {}
        }
      ]
    },
    {
      "cell_type": "markdown",
      "metadata": {
        "id": "_vcnvW65P8ep"
      },
      "source": [
        "### Немного о plot_implicit\n",
        "plot_implicit позволяет изобразить график одной кривой, заданной неявно с помощью уравнения.\n",
        "\n",
        "Если нужно построить на одной плоскости два и более графика неявно заданных функций, можно поступить так:\n",
        "\n",
        "вначале создаем все графики, указываем необязательный параметр show=False и запоминаем созданные с помощью plot_implicit объекты в переменные\n",
        "\n",
        "затем объединяем объекты в один с помощью метода extend\n",
        "\n",
        "### Пример 7.\n",
        "На графике изобразить эллипс Ellipse7 (с центром в (0, 0), осями 5 и 3) и его копии с наклоном 1, 2, -2, -1"
      ]
    },
    {
      "cell_type": "code",
      "source": [
        "Ellipse7 = Ellipse(Point(0, 0), 5, 3)\n",
        "eq6 = Ellipse6.equation(x='x', y='y')\n",
        "p = plot_implicit(Ellipse7.equation(x='x', y='y'),\n",
        "                  aspect_ratio=(1, 1),\n",
        "                  show=False)\n",
        "for slope in (-2, -1, 1, 2):\n",
        "    p.extend(plot_implicit(Ellipse7.equation(x='x', y='y', _slope=slope),\n",
        "                           aspect_ratio=(1, 1),\n",
        "                           show=False))\n",
        "p.show()"
      ],
      "metadata": {
        "colab": {
          "base_uri": "https://localhost:8080/",
          "height": 486
        },
        "id": "h08NpTMY6LdH",
        "outputId": "fbef2cce-f93f-435a-90df-73783b39805a"
      },
      "execution_count": 17,
      "outputs": [
        {
          "output_type": "display_data",
          "data": {
            "text/plain": [
              "<Figure size 640x480 with 1 Axes>"
            ],
            "image/png": "[encoded data removed]"
          },
          "metadata": {}
        }
      ]
    },
    {
      "cell_type": "markdown",
      "source": [
        "## Классы: наследование, полиморфизм методов\n",
        "Создадим дочерний класс эллипсов Ellipse_new, родительский класс Ellipse.\n",
        "\n",
        "Особенности дочернего класса: центр эллипса всегда в начале координат, есть переменная класса - угол поворота против часовой стрелки относительно начала координат, по умолчанию равен нулю. Кроме того, метод equation осуществляет поворот на угол $\\alpha$ в соответствии с матрицей поворота\n",
        "$$\n",
        "\\left(\\begin{matrix}\\cos\\alpha&-\\sin\\alpha\\\\ \\sin\\alpha&\\cos\\alpha\\end{matrix}\\right).\n",
        "$$\n",
        "\n",
        "Вначале создадим класс наших эллипсов в упрощенном варианте, он будет от родительского класса отличаться только  наличием необязательной переменной angle.\n",
        "\n",
        "В родительском классе для создания экземпляра класса используется метод __new__, поэтому мы и в дочернем классе тоже будем его использовать. В отличие от метода __init__ для инициализации уже созданного экземпляра, метод __new__ возвращает созданный экземпляр. Поскольку мы унаследовали класс Ellipse_new от класса Ellipse, то в __new__ класса Ellipse_new мы можем воспользоваться методом __new__ класса Ellipse, для обращения к родительскому классу используем super(). Созданный экземпляр запишем в переменную el, после чего инициализируем переменную angle и вернем el, уже имеющий переменную angle."
      ],
      "metadata": {
        "id": "WfGNLsPnYS8l"
      }
    },
    {
      "cell_type": "code",
      "source": [
        "class Ellipse_new(Ellipse):\n",
        "    \"\"\"Ellipses with center in O(0, 0)\"\"\"\n",
        "    def __new__(\n",
        "        cls, hradius=None, vradius=None, eccentricity=None, angle=0, **kwargs):\n",
        "        el = super().__new__(cls, Point(0, 0), hradius, vradius,\n",
        "                             eccentricity, **kwargs)\n",
        "        el.angle = angle\n",
        "        return el"
      ],
      "metadata": {
        "id": "CPkgBP0SXg5X"
      },
      "execution_count": 18,
      "outputs": []
    },
    {
      "cell_type": "markdown",
      "source": [
        "Протестируем класс, для этого создадим два экземпляра эллипсов, первый эллипс с полуосями длины 5 и 3, а второй с эксцентриситетом $1/2$ (S.Half). Выведем на экран экземпляры эллипсов и их угол, полуоси и эксцентриситет."
      ],
      "metadata": {
        "id": "dg9LVBWzQsRG"
      }
    },
    {
      "cell_type": "code",
      "source": [
        "el1 = Ellipse_new(5, 3, angle=sympy.pi / 3)\n",
        "el2 = Ellipse_new(3, eccentricity=S.Half, angle=sympy.pi / 6)\n",
        "for el in (el1, el2):\n",
        "    display(Latex(f\"\"\"{latex(el)}, angle = {latex(el.angle)},\n",
        "a = {latex(el.hradius)}, b = {latex(el.vradius)},\n",
        "e = {latex(el.eccentricity)}\"\"\"))"
      ],
      "metadata": {
        "colab": {
          "base_uri": "https://localhost:8080/",
          "height": 69
        },
        "id": "t-v0vE6iSxbI",
        "outputId": "010d9fb3-9c18-4aa8-fd9c-587f8181c259"
      },
      "execution_count": 19,
      "outputs": [
        {
          "output_type": "display_data",
          "data": {
            "text/plain": [
              "<IPython.core.display.Latex object>"
            ],
            "text/latex": "\\operatorname{Ellipse_{new}}\\left(\\operatorname{Point2D}\\left(0, 0\\right), 5, 3\\right), angle = \\frac{\\pi}{3},\na = 5, b = 3,\ne = \\frac{4}{5}"
          },
          "metadata": {}
        },
        {
          "output_type": "display_data",
          "data": {
            "text/plain": [
              "<IPython.core.display.Latex object>"
            ],
            "text/latex": "\\operatorname{Ellipse_{new}}\\left(\\operatorname{Point2D}\\left(0, 0\\right), 3, \\frac{3 \\sqrt{3}}{2}\\right), angle = \\frac{\\pi}{6},\na = 3, b = \\frac{3 \\sqrt{3}}{2},\ne = \\frac{1}{2}"
          },
          "metadata": {}
        }
      ]
    },
    {
      "cell_type": "markdown",
      "source": [
        "Рассмотрим альтернативную реализацию класса эллипсов с центром в начале координат Ellipse_my. Поскольку в родительском классе для создания экземпляра класса используется метод __new__, поэтому мы и в дочернем классе тоже будем его использовать, но используем его только для создания экземпляра. Инициализировать переменную angle будем уже в __init__"
      ],
      "metadata": {
        "id": "c1VxoLzRZBK7"
      }
    },
    {
      "cell_type": "code",
      "source": [
        " class Ellipse_my(Ellipse):\n",
        "    \"\"\"Ellipses with center in O(0, 0)\"\"\"\n",
        "    def __new__(cls, hradius=None, vradius=None, eccentricity=None,\n",
        "                angle=0, **kwargs):\n",
        "        return super().__new__(cls, Point(0, 0), hradius, vradius,\n",
        "                             eccentricity, **kwargs)\n",
        "    def __init__(self, hradius=None, vradius=None, eccentricity=None,\n",
        "                 angle=0, **kwargs):\n",
        "        self.angle = angle"
      ],
      "metadata": {
        "id": "5kb4oZA0y5Ju"
      },
      "execution_count": 20,
      "outputs": []
    },
    {
      "cell_type": "code",
      "source": [
        "el3 = Ellipse_my(4, 3, angle=sympy.pi / 4)\n",
        "el4 = Ellipse_my(vradius=3, eccentricity=S.Half, angle=sympy.pi / 2)\n",
        "for el in (el3, el4):\n",
        "    display(Latex(f\"\"\"{latex(el)}, angle = {latex(el.angle)},\n",
        "a = {latex(el.hradius)}, b = {latex(el.vradius)},\n",
        "e = {latex(el.eccentricity)}\"\"\"))"
      ],
      "metadata": {
        "colab": {
          "base_uri": "https://localhost:8080/",
          "height": 63
        },
        "id": "DHpoQiDnNpsg",
        "outputId": "d2021378-0606-4ea5-9396-81f42cf52187"
      },
      "execution_count": 21,
      "outputs": [
        {
          "output_type": "display_data",
          "data": {
            "text/plain": [
              "<IPython.core.display.Latex object>"
            ],
            "text/latex": "\\operatorname{Ellipse_{my}}\\left(\\operatorname{Point2D}\\left(0, 0\\right), 4, 3\\right), angle = \\frac{\\pi}{4},\na = 4, b = 3,\ne = \\frac{\\sqrt{7}}{4}"
          },
          "metadata": {}
        },
        {
          "output_type": "display_data",
          "data": {
            "text/plain": [
              "<IPython.core.display.Latex object>"
            ],
            "text/latex": "\\operatorname{Ellipse_{my}}\\left(\\operatorname{Point2D}\\left(0, 0\\right), 2 \\sqrt{3}, 3\\right), angle = \\frac{\\pi}{2},\na = 2 \\sqrt{3}, b = 3,\ne = \\frac{1}{2}"
          },
          "metadata": {}
        }
      ]
    },
    {
      "cell_type": "markdown",
      "source": [
        "Продемонстрируем использование матрицы поворота на примере определения координат фокусов. В каноническом положении координаты фокусов $(-c, 0)$ и $(c, 0)$, где $c$ это focus_distance эллипса."
      ],
      "metadata": {
        "id": "OVi16r0BaOdl"
      }
    },
    {
      "cell_type": "code",
      "source": [
        "alpha = sympy.pi / 6\n",
        "rot_matr = Matrix([[Cos(alpha), -Sin(alpha)], [Sin(alpha), Cos(alpha)]])\n",
        "c = el3.focus_distance\n",
        "F1, F2 = [Matrix((c_val, 0)) for c_val in (-c, c)]\n",
        "display(Latex(\"\"\"F_1 = {}, F_2 = {}, F_{{1new}} = {},\n",
        " F_{{2new}} = {}\"\"\".format(*map(latex, map(sympy.transpose,\n",
        "                                           (F1, F2,\n",
        "                                            rot_matr * F1, rot_matr * F2))))))"
      ],
      "metadata": {
        "id": "4rw5DjsZa1j4",
        "colab": {
          "base_uri": "https://localhost:8080/",
          "height": 47
        },
        "outputId": "ffc2d375-a403-4e67-ca98-44881526e884"
      },
      "execution_count": 22,
      "outputs": [
        {
          "output_type": "display_data",
          "data": {
            "text/plain": [
              "<IPython.core.display.Latex object>"
            ],
            "text/latex": "F_1 = \\left[\\begin{matrix}- \\sqrt{7} & 0\\end{matrix}\\right], F_2 = \\left[\\begin{matrix}\\sqrt{7} & 0\\end{matrix}\\right], F_{1new} = \\left[\\begin{matrix}- \\frac{\\sqrt{21}}{2} & - \\frac{\\sqrt{7}}{2}\\end{matrix}\\right],\n F_{2new} = \\left[\\begin{matrix}\\frac{\\sqrt{21}}{2} & \\frac{\\sqrt{7}}{2}\\end{matrix}\\right]"
          },
          "metadata": {}
        }
      ]
    },
    {
      "cell_type": "markdown",
      "source": [
        "Проверим, что угол между прямыми, проходящими через старые и новые фокусы равен заданному углу."
      ],
      "metadata": {
        "id": "7bNfC3bLegel"
      }
    },
    {
      "cell_type": "code",
      "source": [
        "F11, F21 = rot_matr * F1, rot_matr * F2\n",
        "line1 = Line(Point(*F1), Point(*F2))\n",
        "line2 = Line(Point(*F11), Point(*F21))\n",
        "line1.angle_between(line2)"
      ],
      "metadata": {
        "colab": {
          "base_uri": "https://localhost:8080/",
          "height": 47
        },
        "id": "p0Csao57cx1r",
        "outputId": "49778fdc-e143-40db-ed5f-aab418fa9833"
      },
      "execution_count": 23,
      "outputs": [
        {
          "output_type": "execute_result",
          "data": {
            "text/plain": [
              "pi/6"
            ],
            "text/latex": "$\\displaystyle \\frac{\\pi}{6}$"
          },
          "metadata": {},
          "execution_count": 23
        }
      ]
    },
    {
      "cell_type": "markdown",
      "source": [
        "Впишем теперь вычисление координат фокусов в соответствии с углом поворота в класс Ellipse_my"
      ],
      "metadata": {
        "id": "igbEyTp0ezL2"
      }
    },
    {
      "cell_type": "code",
      "source": [
        " class Ellipse_my(Ellipse):\n",
        "    \"\"\"Ellipses with center in O(0, 0)\"\"\"\n",
        "    def __new__(cls, hradius=None, vradius=None, eccentricity=None,\n",
        "                angle=0, **kwargs):\n",
        "        return super().__new__(cls, Point(0, 0), hradius, vradius,\n",
        "                             eccentricity, **kwargs)\n",
        "    def __init__(self, hradius=None, vradius=None, eccentricity=None,\n",
        "                 angle=0, **kwargs):\n",
        "        self.angle = angle\n",
        "\n",
        "    @property\n",
        "    def focus_distance(self):\n",
        "        return sympy.sqrt(self.hradius ** 2 - self.vradius ** 2)\n",
        "\n",
        "    @property\n",
        "    def foci(self):\n",
        "        c = self.focus_distance\n",
        "        alpha = self.angle\n",
        "        if alpha == 0:\n",
        "            return tuple([Point((c_val, 0)) for c_val in (-c, c)])\n",
        "        F1, F2 = [Matrix((c_val, 0)) for c_val in (-c, c)]\n",
        "        rot_matr = Matrix([[Cos(alpha), -Sin(alpha)], [Sin(alpha), Cos(alpha)]])\n",
        "        return tuple([Point(*(rot_matr * F)) for F in (F1, F2)])"
      ],
      "metadata": {
        "id": "JibE0mOGfJ35"
      },
      "execution_count": 24,
      "outputs": []
    },
    {
      "cell_type": "markdown",
      "source": [
        "Проверим, как это работает"
      ],
      "metadata": {
        "id": "Jb_alEYNg5lA"
      }
    },
    {
      "cell_type": "code",
      "source": [
        "el5 = Ellipse_my(4, 3, angle=sympy.pi / 6)\n",
        "F1, F2 = el5.foci\n",
        "display(Latex(\"\"\"c = {}, F_1 = {}, F_2 = {}\"\"\".format(*map(latex,\n",
        "                                                           (el5.focus_distance,\n",
        "                                                            F1, F2)))))"
      ],
      "metadata": {
        "colab": {
          "base_uri": "https://localhost:8080/",
          "height": 47
        },
        "id": "b8RD6n3kiBPW",
        "outputId": "3a017784-3e2c-4837-f3a8-d8fa0c3b40db"
      },
      "execution_count": 25,
      "outputs": [
        {
          "output_type": "display_data",
          "data": {
            "text/plain": [
              "<IPython.core.display.Latex object>"
            ],
            "text/latex": "c = \\sqrt{7}, F_1 = \\operatorname{Point2D}\\left(- \\frac{\\sqrt{21}}{2}, - \\frac{\\sqrt{7}}{2}\\right), F_2 = \\operatorname{Point2D}\\left(\\frac{\\sqrt{21}}{2}, \\frac{\\sqrt{7}}{2}\\right)"
          },
          "metadata": {}
        }
      ]
    },
    {
      "cell_type": "code",
      "source": [
        "line1 = Line(Point(0, 0), Point(1, 0))\n",
        "line2 = Line(F1, F2)\n",
        "line1.angle_between(line2)"
      ],
      "metadata": {
        "colab": {
          "base_uri": "https://localhost:8080/",
          "height": 47
        },
        "id": "4VLuxFNIg8kz",
        "outputId": "1006f6c0-4995-4432-c1a1-502ca6ed3f0e"
      },
      "execution_count": 26,
      "outputs": [
        {
          "output_type": "execute_result",
          "data": {
            "text/plain": [
              "pi/6"
            ],
            "text/latex": "$\\displaystyle \\frac{\\pi}{6}$"
          },
          "metadata": {},
          "execution_count": 26
        }
      ]
    }
  ],
  "metadata": {
    "kernelspec": {
      "display_name": "Python 3",
      "language": "python",
      "name": "python3"
    },
    "language_info": {
      "codemirror_mode": {
        "name": "ipython",
        "version": 3
      },
      "file_extension": ".py",
      "mimetype": "text/x-python",
      "name": "python",
      "nbconvert_exporter": "python",
      "pygments_lexer": "ipython3",
      "version": "3.7.3"
    },
    "colab": {
      "provenance": []
    }
  },
  "nbformat": 4,
  "nbformat_minor": 0
}