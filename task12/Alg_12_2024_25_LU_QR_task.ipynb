{
  "nbformat": 4,
  "nbformat_minor": 0,
  "metadata": {
    "kernelspec": {
      "display_name": "Python 3",
      "language": "python",
      "name": "python3"
    },
    "language_info": {
      "codemirror_mode": {
        "name": "ipython",
        "version": 3
      },
      "file_extension": ".py",
      "mimetype": "text/x-python",
      "name": "python",
      "nbconvert_exporter": "python",
      "pygments_lexer": "ipython3",
      "version": "3.7.3"
    },
    "colab": {
      "provenance": []
    }
  },
  "cells": [
    {
      "cell_type": "code",
      "metadata": {
        "id": "icrkYljeEln7"
      },
      "source": [
        "import sympy\n",
        "from sympy import Matrix, S, Symbol, symbols, I, zeros, eye\n",
        "from sympy import simplify, expand, expand_complex, latex\n",
        "import numpy as np\n",
        "from IPython.display import Latex"
      ],
      "execution_count": null,
      "outputs": []
    },
    {
      "cell_type": "markdown",
      "metadata": {
        "id": "t-ZvhFPEEln9"
      },
      "source": [
        "# Практическое занятие 12\n",
        "# Компьютерный практикум по алгебре на Python\n",
        "## Матричные разложения: Холецкого, LDL, LU, QR."
      ]
    },
    {
      "cell_type": "markdown",
      "source": [
        "### Задание 1\n",
        "Построить скелетное разложение для матрицы\n",
        "$\n",
        "\\left(\n",
        "\\begin{matrix}\n",
        "1 & 2 & -5 & 9 & 1\\\\\n",
        "4 & 3 & -3 & 4 & 1\\\\\n",
        "5 & 5 & -8 & 13 & 2\\\\\n",
        "3 & 1 & 2 & -5 & 0\n",
        "\\end{matrix}\n",
        "\\right)\n",
        "$\n",
        "Вывести на экран все элементы разложения.  Проверить, что получено разложение именно этиой матрицы (соответствующее произведение равно исходной матрице)."
      ],
      "metadata": {
        "id": "_3IPblWqmWxY"
      }
    },
    {
      "cell_type": "code",
      "source": [
        "A1 = Matrix([[1,2,-5,9,1],\n",
        "            [4,3,-3,4,1],\n",
        "            [5,5,-8,13,2],\n",
        "            [3,1,2,-5, 0]\n",
        "])\n",
        "A1_rref = A1.rref()\n",
        "display(A1_rref[0])\n",
        "cols = A1_rref[1]\n",
        "k = len(cols)\n",
        "B = A1[:, cols]\n",
        "C = A1_rref[0][:k, :]\n",
        "display(Latex(f'cols = {latex(cols)}, k = {k}, B = {latex(B)}'))\n",
        "display(Latex(f'C = {latex(C)}'))\n",
        "display(Latex(f'A = {latex(A1)}\\quad BC = {latex(B * C)}'))"
      ],
      "metadata": {
        "id": "vq8Glj6WtGGy",
        "colab": {
          "base_uri": "https://localhost:8080/",
          "height": 302
        },
        "outputId": "fc7b36e1-fa3a-4009-a949-d2f15abe6910"
      },
      "execution_count": null,
      "outputs": [
        {
          "output_type": "display_data",
          "data": {
            "text/plain": [
              "Matrix([\n",
              "[1, 0,   9/5, -19/5, -1/5],\n",
              "[0, 1, -17/5,  32/5,  3/5],\n",
              "[0, 0,     0,     0,    0],\n",
              "[0, 0,     0,     0,    0]])"
            ],
            "text/latex": "$\\displaystyle \\left[\\begin{matrix}1 & 0 & \\frac{9}{5} & - \\frac{19}{5} & - \\frac{1}{5}\\\\0 & 1 & - \\frac{17}{5} & \\frac{32}{5} & \\frac{3}{5}\\\\0 & 0 & 0 & 0 & 0\\\\0 & 0 & 0 & 0 & 0\\end{matrix}\\right]$"
          },
          "metadata": {}
        },
        {
          "output_type": "display_data",
          "data": {
            "text/plain": [
              "<IPython.core.display.Latex object>"
            ],
            "text/latex": "cols = \\left( 0, \\  1\\right), k = 2, B = \\left[\\begin{matrix}1 & 2\\\\4 & 3\\\\5 & 5\\\\3 & 1\\end{matrix}\\right]"
          },
          "metadata": {}
        },
        {
          "output_type": "display_data",
          "data": {
            "text/plain": [
              "<IPython.core.display.Latex object>"
            ],
            "text/latex": "C = \\left[\\begin{matrix}1 & 0 & \\frac{9}{5} & - \\frac{19}{5} & - \\frac{1}{5}\\\\0 & 1 & - \\frac{17}{5} & \\frac{32}{5} & \\frac{3}{5}\\end{matrix}\\right]"
          },
          "metadata": {}
        },
        {
          "output_type": "display_data",
          "data": {
            "text/plain": [
              "<IPython.core.display.Latex object>"
            ],
            "text/latex": "A = \\left[\\begin{matrix}1 & 2 & -5 & 9 & 1\\\\4 & 3 & -3 & 4 & 1\\\\5 & 5 & -8 & 13 & 2\\\\3 & 1 & 2 & -5 & 0\\end{matrix}\\right]\\quad BC = \\left[\\begin{matrix}1 & 2 & -5 & 9 & 1\\\\4 & 3 & -3 & 4 & 1\\\\5 & 5 & -8 & 13 & 2\\\\3 & 1 & 2 & -5 & 0\\end{matrix}\\right]"
          },
          "metadata": {}
        }
      ]
    },
    {
      "cell_type": "markdown",
      "metadata": {
        "id": "iLYVC4z3Eln-"
      },
      "source": [
        "### Задание 2.\n",
        "Построить разложение Холецкого матриц\n",
        "$$\n",
        "M_1=\\left(\n",
        "\\begin{matrix}\n",
        "1&-3&0\\\\\n",
        "-3&-2&10\\\\\n",
        "0&10&7\n",
        "\\end{matrix}\n",
        "\\right)\n",
        "\\quad\n",
        "M_2=\\left(\n",
        "\\begin{matrix}\n",
        "18&1 - 2I& -2\\\\\n",
        "1 + 2I&4&-3I\\\\\n",
        "-2&3I&5\n",
        "\\end{matrix}\n",
        "\\right)\n",
        "$$\n",
        "Проверить положительную определенность эрмитовой матрицы. Проверить, что получено разложение именно этих матриц (соответствующее произведение равно исходной матрице)."
      ]
    },
    {
      "cell_type": "code",
      "source": [
        "A = Matrix((\n",
        "    (1, -3, 0),\n",
        "    (-3, -2, 10),\n",
        "    (0, 10, 7)\n",
        "))\n",
        "B = Matrix((\n",
        "    (18, 1 - 2*I, -2),\n",
        "    (1 + 2*I, 4, -3*I),\n",
        "    (-2, 3*I, 5)\n",
        "))\n",
        "\n",
        "LA = A.cholesky(hermitian=False)\n",
        "LB = B.cholesky()\n",
        "display(Latex(f'L_A = {latex(LA)},\\ L_AL_A^T - A= {latex(simplify(LA * LA.T - A))},\\\\\\\\\\\n",
        "        B.is\\_positive\\_definite\\ {B.is_positive_definite},\\\\\\\\\\\n",
        "        L_B = {latex(LB)},\\\\\\\\\\\n",
        "        simplify(L_B) = {latex(simplify(LB))},\\\\\\\\\\\n",
        "        simplify(L_B*L_B^H - B) = {latex(simplify(LB * LB.H - B))}'))"
      ],
      "metadata": {
        "id": "T698XeuWtHQV",
        "colab": {
          "base_uri": "https://localhost:8080/",
          "height": 333
        },
        "outputId": "9149ba8e-ff57-46af-a8dc-52f2d2b1145f"
      },
      "execution_count": null,
      "outputs": [
        {
          "output_type": "display_data",
          "data": {
            "text/plain": [
              "<IPython.core.display.Latex object>"
            ],
            "text/latex": "L_A = \\left[\\begin{matrix}1 & 0 & 0\\\\-3 & \\sqrt{11} i & 0\\\\0 & - \\frac{10 \\sqrt{11} i}{11} & \\frac{\\sqrt{1947}}{11}\\end{matrix}\\right],\\ L_AL_A^T - A= \\left[\\begin{matrix}0 & 0 & 0\\\\0 & 0 & 0\\\\0 & 0 & 0\\end{matrix}\\right],\\\\        B.is\\_positive\\_definite\\ True,\\\\        L_B = \\left[\\begin{matrix}3 \\sqrt{2} & 0 & 0\\\\\\frac{\\sqrt{2} \\left(1 + 2 i\\right)}{6} & \\sqrt{- \\frac{\\left(1 - 2 i\\right) \\left(1 + 2 i\\right)}{18} + 4} & 0\\\\- \\frac{\\sqrt{2}}{3} & \\frac{\\frac{1}{9} + \\frac{25 i}{9}}{\\sqrt{- \\frac{\\left(1 - 2 i\\right) \\left(1 + 2 i\\right)}{18} + 4}} & \\sqrt{\\frac{43}{9} - \\frac{\\left(\\frac{1}{9} - \\frac{25 i}{9}\\right) \\left(\\frac{1}{9} + \\frac{25 i}{9}\\right)}{- \\frac{\\left(1 - 2 i\\right) \\left(1 + 2 i\\right)}{18} + 4}}\\end{matrix}\\right],\\\\        simplify(L_B) = \\left[\\begin{matrix}3 \\sqrt{2} & 0 & 0\\\\\\frac{\\sqrt{2} \\left(1 + 2 i\\right)}{6} & \\frac{\\sqrt{134}}{6} & 0\\\\- \\frac{\\sqrt{2}}{3} & \\frac{\\sqrt{134} \\left(1 + 25 i\\right)}{201} & \\frac{\\sqrt{12127}}{67}\\end{matrix}\\right],\\\\        simplify(L_B*L_B^H - B) = \\left[\\begin{matrix}0 & 0 & 0\\\\0 & 0 & 0\\\\0 & 0 & 0\\end{matrix}\\right]"
          },
          "metadata": {}
        }
      ]
    },
    {
      "cell_type": "markdown",
      "metadata": {
        "id": "qrvNv_U7EloA"
      },
      "source": [
        "### Задание 3.\n",
        "Построить  LDL разложение для матриц Задания 2. Вывести на экран все элементы разложения. Проверить, что получено разложение именно этих матриц (соответствующее произведение равно исходной матрице)."
      ]
    },
    {
      "cell_type": "code",
      "source": [
        "A = Matrix((\n",
        "    (1, -3, 0),\n",
        "    (-3, -2, 10),\n",
        "    (0, 10, 7)\n",
        "))\n",
        "B = Matrix((\n",
        "    (18, 1 - 2*I, -2),\n",
        "    (1 + 2*I, 4, -3*I),\n",
        "    (-2, 3*I, 5)\n",
        "))\n",
        "LA, DA = A.LDLdecomposition(hermitian=False)\n",
        "LB, DB = B.LDLdecomposition()\n",
        "LA, DA, LB, DB = [simplify(item) for item in (LA, DA, LB, DB)]\n",
        "display(Latex(\"\"\"A = {}\\\\\\\\A.is\\_positive\\_definite\\ {}\\\\\\\\\\\n",
        "L_A = {}, D_A = {},\\\\\\\\L_AD_AL_A^T = {},\\\\\\\\\\\n",
        "B = {}\\\\\\\\\\\n",
        "B.is\\_positive\\_definite\\ {}\\\\\\\\L_B = {}, D_B = {},\\\\\\\\\\\n",
        "L_BD_BL_B^H = {}\\\n",
        "\"\"\".format(*[latex(item) for item in (A, A.is_positive_definite,\n",
        "                                      LA, DA, LA * DA * LA.T,\n",
        "                                      B, B.is_positive_definite,\n",
        "                                      LB, simplify(DB),\n",
        "                                      simplify(LB * DB * LB.H))])))"
      ],
      "metadata": {
        "id": "LEqC_JtYtI61",
        "colab": {
          "base_uri": "https://localhost:8080/",
          "height": 427
        },
        "outputId": "fa925d5a-4bf5-43cb-9cfc-d4da577c413a"
      },
      "execution_count": null,
      "outputs": [
        {
          "output_type": "display_data",
          "data": {
            "text/plain": [
              "<IPython.core.display.Latex object>"
            ],
            "text/latex": "A = \\left[\\begin{matrix}1 & -3 & 0\\\\-3 & -2 & 10\\\\0 & 10 & 7\\end{matrix}\\right]\\\\A.is\\_positive\\_definite\\ \\text{False}\\\\L_A = \\left[\\begin{matrix}1 & 0 & 0\\\\-3 & 1 & 0\\\\0 & - \\frac{10}{11} & 1\\end{matrix}\\right], D_A = \\left[\\begin{matrix}1 & 0 & 0\\\\0 & -11 & 0\\\\0 & 0 & \\frac{177}{11}\\end{matrix}\\right],\\\\L_AD_AL_A^T = \\left[\\begin{matrix}1 & -3 & 0\\\\-3 & -2 & 10\\\\0 & 10 & 7\\end{matrix}\\right],\\\\B = \\left[\\begin{matrix}18 & 1 - 2 i & -2\\\\1 + 2 i & 4 & - 3 i\\\\-2 & 3 i & 5\\end{matrix}\\right]\\\\B.is\\_positive\\_definite\\ \\text{True}\\\\L_B = \\left[\\begin{matrix}1 & 0 & 0\\\\\\frac{1}{18} + \\frac{i}{9} & 1 & 0\\\\- \\frac{1}{9} & \\frac{2}{67} + \\frac{50 i}{67} & 1\\end{matrix}\\right], D_B = \\left[\\begin{matrix}18 & 0 & 0\\\\0 & \\frac{67}{18} & 0\\\\0 & 0 & \\frac{181}{67}\\end{matrix}\\right],\\\\L_BD_BL_B^H = \\left[\\begin{matrix}18 & 1 - 2 i & -2\\\\1 + 2 i & 4 & - 3 i\\\\-2 & 3 i & 5\\end{matrix}\\right]"
          },
          "metadata": {}
        }
      ]
    },
    {
      "cell_type": "markdown",
      "metadata": {
        "id": "FVp0Db5lEloB"
      },
      "source": [
        "### Задание  4.\n",
        "Построить  LU разложение для матрицы\n",
        "$$\n",
        "V=\\left(\n",
        "\\begin{matrix}\n",
        "5&-2 - I&3 - 4I&1 + 4I\\\\\n",
        "1 - I&-2&5 - I&2 - I\\\\\n",
        "5&6 + I&0&5\n",
        "\\end{matrix}\n",
        "\\right)\n",
        "$$\n",
        "Вывести на экран все элементы разложения.\n",
        "\n",
        "Проверить, что получено разложение именно этой матрицы (соответствующее произведение равно исходной матрице)."
      ]
    },
    {
      "cell_type": "code",
      "source": [
        "V = Matrix((\n",
        "    (5, -2 - I, 3 - 4*I, 1 + 4*I),\n",
        "    (1 - I, -2, 5 - I, 2 - I),\n",
        "    (5, 6 + I, 0, 5)\n",
        "))\n",
        "L, U, perm = V.LUdecomposition()\n",
        "display(Latex(\"V = {}\\\\\\\\perm = {}, L = {}, U = {}\\\\\\\\LU = {}\\\n",
        "\".format(*map(latex, (V, perm, *map(simplify, (L, U, L * U)))))))\n",
        "\n",
        "number_of_rows = V.shape[0]\n",
        "VLU = simplify((L * U).permuteBkwd(perm))\n",
        "P = eye(number_of_rows).permuteFwd(perm)\n",
        "display(Latex(f\"LU.permuteBkwd(perm) = {latex(VLU)}\\\\\\\\\\\n",
        "PV = LU\\ {P * V == simplify(L * U)}\"))"
      ],
      "metadata": {
        "id": "U9gdVH8WtKgT",
        "colab": {
          "base_uri": "https://localhost:8080/",
          "height": 284
        },
        "outputId": "2dccf44d-1701-433d-8b03-98c19c9850f2"
      },
      "execution_count": null,
      "outputs": [
        {
          "output_type": "display_data",
          "data": {
            "text/plain": [
              "<IPython.core.display.Latex object>"
            ],
            "text/latex": "V = \\left[\\begin{matrix}5 & -2 - i & 3 - 4 i & 1 + 4 i\\\\1 - i & -2 & 5 - i & 2 - i\\\\5 & 6 + i & 0 & 5\\end{matrix}\\right]\\\\perm = \\left[ \\left[ 1, \\  2\\right]\\right], L = \\left[\\begin{matrix}1 & 0 & 0\\\\1 & 1 & 0\\\\\\frac{1}{5} - \\frac{i}{5} & - \\frac{29}{170} + \\frac{3 i}{170} & 1\\end{matrix}\\right], U = \\left[\\begin{matrix}5 & -2 - i & 3 - 4 i & 1 + 4 i\\\\0 & 8 + 2 i & -3 + 4 i & 4 - 4 i\\\\0 & 0 & \\frac{809}{170} + \\frac{193 i}{170} & \\frac{137}{85} - \\frac{40 i}{17}\\end{matrix}\\right]\\\\LU = \\left[\\begin{matrix}5 & -2 - i & 3 - 4 i & 1 + 4 i\\\\5 & 6 + i & 0 & 5\\\\1 - i & -2 & 5 - i & 2 - i\\end{matrix}\\right]"
          },
          "metadata": {}
        },
        {
          "output_type": "display_data",
          "data": {
            "text/plain": [
              "<IPython.core.display.Latex object>"
            ],
            "text/latex": "LU.permuteBkwd(perm) = \\left[\\begin{matrix}5 & -2 - i & 3 - 4 i & 1 + 4 i\\\\5 & -2 - i & \\frac{1319}{170} - \\frac{487 i}{170} & \\frac{222}{85} + \\frac{28 i}{17}\\\\1 - i & \\frac{37}{5} + \\frac{11 i}{5} & - \\frac{5826}{1445} + \\frac{7197 i}{2890} & \\frac{68877}{14450} - \\frac{42919 i}{14450}\\end{matrix}\\right]\\\\PV = LU\\ True"
          },
          "metadata": {}
        }
      ]
    },
    {
      "cell_type": "markdown",
      "metadata": {
        "id": "w9-3cXYHEloC"
      },
      "source": [
        "### Задание  5.\n",
        "Построить  QR разложение для матрицы\n",
        "$$\n",
        "A=\\left(\n",
        "\\begin{matrix}\n",
        "3 + i&  2 & -i\\\\\n",
        "-2 & -3 &  i\\\\\n",
        "1 + i & -1 &  0\n",
        "\\end{matrix}\n",
        "\\right).\n",
        "$$\n",
        "Вывести на экран все элементы разложения и показать, что $A = QR$."
      ]
    },
    {
      "cell_type": "code",
      "source": [
        "A = Matrix((\n",
        "    (3 + I, 2, -I),\n",
        "    (-2, -3, I),\n",
        "    (1 + I, -1, 0)\n",
        "))\n",
        "\n",
        "Q, R = A.QRdecomposition()\n",
        "if Q.shape[1] > 2:\n",
        "    Q = Q[:, :2]\n",
        "if R.shape[0] > 2:\n",
        "    R = R[:2, :]\n",
        "\n",
        "for M in (Q, R):\n",
        "    M.simplify()\n",
        "QR: Matrix = simplify(Q * R)\n",
        "display(Latex(f'A = {latex(A)}'))\n",
        "display(Latex(f'Q = {latex(Q)}'))\n",
        "display(Latex(f'R = {latex(R)}'))\n",
        "display(Latex(f'QR = {latex(QR)}'))\n",
        "display(f\"A == QR: {A == QR}\")"
      ],
      "metadata": {
        "id": "AAw-p3gytL0i",
        "colab": {
          "base_uri": "https://localhost:8080/",
          "height": 284
        },
        "outputId": "ce71b2b9-32c3-4d16-8358-9bb8a0cce3b5"
      },
      "execution_count": null,
      "outputs": [
        {
          "output_type": "display_data",
          "data": {
            "text/plain": [
              "<IPython.core.display.Latex object>"
            ],
            "text/latex": "A = \\left[\\begin{matrix}3 + i & 2 & - i\\\\-2 & -3 & i\\\\1 + i & -1 & 0\\end{matrix}\\right]"
          },
          "metadata": {}
        },
        {
          "output_type": "display_data",
          "data": {
            "text/plain": [
              "<IPython.core.display.Latex object>"
            ],
            "text/latex": "Q = \\left[\\begin{matrix}\\frac{3}{4} + \\frac{i}{4} & \\frac{\\sqrt{102} \\left(-1 - 4 i\\right)}{204}\\\\- \\frac{1}{2} & \\frac{\\sqrt{102} \\left(-13 - i\\right)}{204}\\\\\\frac{1}{4} + \\frac{i}{4} & \\frac{\\sqrt{102} \\left(-14 - 5 i\\right)}{204}\\end{matrix}\\right]"
          },
          "metadata": {}
        },
        {
          "output_type": "display_data",
          "data": {
            "text/plain": [
              "<IPython.core.display.Latex object>"
            ],
            "text/latex": "R = \\left[\\begin{matrix}4 & \\frac{11}{4} - \\frac{i}{4} & - \\frac{1}{4} - \\frac{5 i}{4}\\\\0 & \\frac{\\sqrt{102}}{4} & \\frac{\\sqrt{102} \\left(1 - 4 i\\right)}{68}\\end{matrix}\\right]"
          },
          "metadata": {}
        },
        {
          "output_type": "display_data",
          "data": {
            "text/plain": [
              "<IPython.core.display.Latex object>"
            ],
            "text/latex": "QR = \\left[\\begin{matrix}3 + i & 2 & - i\\\\-2 & -3 & i\\\\1 + i & -1 & 0\\end{matrix}\\right]"
          },
          "metadata": {}
        },
        {
          "output_type": "display_data",
          "data": {
            "text/plain": [
              "'A == QR: True'"
            ],
            "application/vnd.google.colaboratory.intrinsic+json": {
              "type": "string"
            }
          },
          "metadata": {}
        }
      ]
    },
    {
      "cell_type": "markdown",
      "source": [
        "### Задание  6*.\n",
        "Описать функцию, которая считывает из файла матрицу и возвращает ее QR разложение. Применить функцию в цикле к файлам \"sem_12_task_6_k.xlsx\", $k=1, ...12$, вывести на экран для четных $k$ правый нижний элемент матрицы $Q$, а для нечетных левый верхний элемент $R$.  \n"
      ],
      "metadata": {
        "id": "H2KhOi8hglzz"
      }
    },
    {
      "cell_type": "code",
      "source": [
        "from google.colab import files\n",
        "import pandas as pd\n",
        "\n",
        "\n",
        "\n",
        "uploaded = files.upload()\n",
        "for file_name in uploaded.keys():\n",
        "    print(f'Загружен файл {file_name}')\n",
        "\n",
        "def qr_decomposition_from_file(filename):\n",
        "    df = pd.read_excel(filename, header=None)\n",
        "    matrix = Matrix(df.to_numpy())\n",
        "    Q, R = matrix.QRdecomposition()\n",
        "\n",
        "    return Q, R\n",
        "\n",
        "# Основной цикл\n",
        "for k in range(1, 13):\n",
        "    filename = f\"sem_12_task_6_{k}.xlsx\"\n",
        "    Q, R = qr_decomposition_from_file(filename)\n",
        "\n",
        "    if k % 2 == 0:\n",
        "        element = Q[-1, -1]\n",
        "        print(f\"Для k={k} (чётное), правый нижний элемент Q:\")\n",
        "        display(element)\n",
        "    else:\n",
        "        element = R[0, 0]\n",
        "        print(f\"Для k={k} (нечётное), левый верхний элемент R: \")\n",
        "        display(element)"
      ],
      "metadata": {
        "id": "MTxP67T_g2Zx",
        "colab": {
          "base_uri": "https://localhost:8080/",
          "height": 657
        },
        "outputId": "e3ae8c3f-e0e1-49a1-9a35-67c2e24aca19"
      },
      "execution_count": null,
      "outputs": [
        {
          "output_type": "display_data",
          "data": {
            "text/plain": [
              "<IPython.core.display.HTML object>"
            ],
            "text/html": [
              "\n",
              "     <input type=\"file\" id=\"files-a0374644-a477-4594-b2bb-daebaf4f4316\" name=\"files[]\" multiple disabled\n",
              "        style=\"border:none\" />\n",
              "     <output id=\"result-a0374644-a477-4594-b2bb-daebaf4f4316\">\n",
              "      Upload widget is only available when the cell has been executed in the\n",
              "      current browser session. Please rerun this cell to enable.\n",
              "      </output>\n",
              "      <script>// Copyright 2017 Google LLC\n",
              "//\n",
              "// Licensed under the Apache License, Version 2.0 (the \"License\");\n",
              "// you may not use this file except in compliance with the License.\n",
              "// You may obtain a copy of the License at\n",
              "//\n",
              "//      http://www.apache.org/licenses/LICENSE-2.0\n",
              "//\n",
              "// Unless required by applicable law or agreed to in writing, software\n",
              "// distributed under the License is distributed on an \"AS IS\" BASIS,\n",
              "// WITHOUT WARRANTIES OR CONDITIONS OF ANY KIND, either express or implied.\n",
              "// See the License for the specific language governing permissions and\n",
              "// limitations under the License.\n",
              "\n",
              "/**\n",
              " * @fileoverview Helpers for google.colab Python module.\n",
              " */\n",
              "(function(scope) {\n",
              "function span(text, styleAttributes = {}) {\n",
              "  const element = document.createElement('span');\n",
              "  element.textContent = text;\n",
              "  for (const key of Object.keys(styleAttributes)) {\n",
              "    element.style[key] = styleAttributes[key];\n",
              "  }\n",
              "  return element;\n",
              "}\n",
              "\n",
              "// Max number of bytes which will be uploaded at a time.\n",
              "const MAX_PAYLOAD_SIZE = 100 * 1024;\n",
              "\n",
              "function _uploadFiles(inputId, outputId) {\n",
              "  const steps = uploadFilesStep(inputId, outputId);\n",
              "  const outputElement = document.getElementById(outputId);\n",
              "  // Cache steps on the outputElement to make it available for the next call\n",
              "  // to uploadFilesContinue from Python.\n",
              "  outputElement.steps = steps;\n",
              "\n",
              "  return _uploadFilesContinue(outputId);\n",
              "}\n",
              "\n",
              "// This is roughly an async generator (not supported in the browser yet),\n",
              "// where there are multiple asynchronous steps and the Python side is going\n",
              "// to poll for completion of each step.\n",
              "// This uses a Promise to block the python side on completion of each step,\n",
              "// then passes the result of the previous step as the input to the next step.\n",
              "function _uploadFilesContinue(outputId) {\n",
              "  const outputElement = document.getElementById(outputId);\n",
              "  const steps = outputElement.steps;\n",
              "\n",
              "  const next = steps.next(outputElement.lastPromiseValue);\n",
              "  return Promise.resolve(next.value.promise).then((value) => {\n",
              "    // Cache the last promise value to make it available to the next\n",
              "    // step of the generator.\n",
              "    outputElement.lastPromiseValue = value;\n",
              "    return next.value.response;\n",
              "  });\n",
              "}\n",
              "\n",
              "/**\n",
              " * Generator function which is called between each async step of the upload\n",
              " * process.\n",
              " * @param {string} inputId Element ID of the input file picker element.\n",
              " * @param {string} outputId Element ID of the output display.\n",
              " * @return {!Iterable<!Object>} Iterable of next steps.\n",
              " */\n",
              "function* uploadFilesStep(inputId, outputId) {\n",
              "  const inputElement = document.getElementById(inputId);\n",
              "  inputElement.disabled = false;\n",
              "\n",
              "  const outputElement = document.getElementById(outputId);\n",
              "  outputElement.innerHTML = '';\n",
              "\n",
              "  const pickedPromise = new Promise((resolve) => {\n",
              "    inputElement.addEventListener('change', (e) => {\n",
              "      resolve(e.target.files);\n",
              "    });\n",
              "  });\n",
              "\n",
              "  const cancel = document.createElement('button');\n",
              "  inputElement.parentElement.appendChild(cancel);\n",
              "  cancel.textContent = 'Cancel upload';\n",
              "  const cancelPromise = new Promise((resolve) => {\n",
              "    cancel.onclick = () => {\n",
              "      resolve(null);\n",
              "    };\n",
              "  });\n",
              "\n",
              "  // Wait for the user to pick the files.\n",
              "  const files = yield {\n",
              "    promise: Promise.race([pickedPromise, cancelPromise]),\n",
              "    response: {\n",
              "      action: 'starting',\n",
              "    }\n",
              "  };\n",
              "\n",
              "  cancel.remove();\n",
              "\n",
              "  // Disable the input element since further picks are not allowed.\n",
              "  inputElement.disabled = true;\n",
              "\n",
              "  if (!files) {\n",
              "    return {\n",
              "      response: {\n",
              "        action: 'complete',\n",
              "      }\n",
              "    };\n",
              "  }\n",
              "\n",
              "  for (const file of files) {\n",
              "    const li = document.createElement('li');\n",
              "    li.append(span(file.name, {fontWeight: 'bold'}));\n",
              "    li.append(span(\n",
              "        `(${file.type || 'n/a'}) - ${file.size} bytes, ` +\n",
              "        `last modified: ${\n",
              "            file.lastModifiedDate ? file.lastModifiedDate.toLocaleDateString() :\n",
              "                                    'n/a'} - `));\n",
              "    const percent = span('0% done');\n",
              "    li.appendChild(percent);\n",
              "\n",
              "    outputElement.appendChild(li);\n",
              "\n",
              "    const fileDataPromise = new Promise((resolve) => {\n",
              "      const reader = new FileReader();\n",
              "      reader.onload = (e) => {\n",
              "        resolve(e.target.result);\n",
              "      };\n",
              "      reader.readAsArrayBuffer(file);\n",
              "    });\n",
              "    // Wait for the data to be ready.\n",
              "    let fileData = yield {\n",
              "      promise: fileDataPromise,\n",
              "      response: {\n",
              "        action: 'continue',\n",
              "      }\n",
              "    };\n",
              "\n",
              "    // Use a chunked sending to avoid message size limits. See b/62115660.\n",
              "    let position = 0;\n",
              "    do {\n",
              "      const length = Math.min(fileData.byteLength - position, MAX_PAYLOAD_SIZE);\n",
              "      const chunk = new Uint8Array(fileData, position, length);\n",
              "      position += length;\n",
              "\n",
              "      const base64 = btoa(String.fromCharCode.apply(null, chunk));\n",
              "      yield {\n",
              "        response: {\n",
              "          action: 'append',\n",
              "          file: file.name,\n",
              "          data: base64,\n",
              "        },\n",
              "      };\n",
              "\n",
              "      let percentDone = fileData.byteLength === 0 ?\n",
              "          100 :\n",
              "          Math.round((position / fileData.byteLength) * 100);\n",
              "      percent.textContent = `${percentDone}% done`;\n",
              "\n",
              "    } while (position < fileData.byteLength);\n",
              "  }\n",
              "\n",
              "  // All done.\n",
              "  yield {\n",
              "    response: {\n",
              "      action: 'complete',\n",
              "    }\n",
              "  };\n",
              "}\n",
              "\n",
              "scope.google = scope.google || {};\n",
              "scope.google.colab = scope.google.colab || {};\n",
              "scope.google.colab._files = {\n",
              "  _uploadFiles,\n",
              "  _uploadFilesContinue,\n",
              "};\n",
              "})(self);\n",
              "</script> "
            ]
          },
          "metadata": {}
        },
        {
          "output_type": "stream",
          "name": "stdout",
          "text": [
            "Saving alg_12_ind_v_169.xlsx to alg_12_ind_v_169.xlsx\n",
            "Загружен файл alg_12_ind_v_169.xlsx\n",
            "Для k=1 (нечётное), левый верхний элемент R: \n"
          ]
        },
        {
          "output_type": "display_data",
          "data": {
            "text/plain": [
              "2*sqrt(5)"
            ],
            "text/latex": "$\\displaystyle 2 \\sqrt{5}$"
          },
          "metadata": {}
        },
        {
          "output_type": "stream",
          "name": "stdout",
          "text": [
            "Для k=2 (чётное), правый нижний элемент Q:\n"
          ]
        },
        {
          "output_type": "display_data",
          "data": {
            "text/plain": [
              "-2*sqrt(29)/29"
            ],
            "text/latex": "$\\displaystyle - \\frac{2 \\sqrt{29}}{29}$"
          },
          "metadata": {}
        },
        {
          "output_type": "stream",
          "name": "stdout",
          "text": [
            "Для k=3 (нечётное), левый верхний элемент R: \n"
          ]
        },
        {
          "output_type": "display_data",
          "data": {
            "text/plain": [
              "2*sqrt(10)"
            ],
            "text/latex": "$\\displaystyle 2 \\sqrt{10}$"
          },
          "metadata": {}
        },
        {
          "output_type": "stream",
          "name": "stdout",
          "text": [
            "Для k=4 (чётное), правый нижний элемент Q:\n"
          ]
        },
        {
          "output_type": "display_data",
          "data": {
            "text/plain": [
              "3*sqrt(34)/34"
            ],
            "text/latex": "$\\displaystyle \\frac{3 \\sqrt{34}}{34}$"
          },
          "metadata": {}
        },
        {
          "output_type": "stream",
          "name": "stdout",
          "text": [
            "Для k=5 (нечётное), левый верхний элемент R: \n"
          ]
        },
        {
          "output_type": "display_data",
          "data": {
            "text/plain": [
              "3*sqrt(5)"
            ],
            "text/latex": "$\\displaystyle 3 \\sqrt{5}$"
          },
          "metadata": {}
        },
        {
          "output_type": "stream",
          "name": "stdout",
          "text": [
            "Для k=6 (чётное), правый нижний элемент Q:\n"
          ]
        },
        {
          "output_type": "display_data",
          "data": {
            "text/plain": [
              "-3*sqrt(58)/58"
            ],
            "text/latex": "$\\displaystyle - \\frac{3 \\sqrt{58}}{58}$"
          },
          "metadata": {}
        },
        {
          "output_type": "stream",
          "name": "stdout",
          "text": [
            "Для k=7 (нечётное), левый верхний элемент R: \n"
          ]
        },
        {
          "output_type": "display_data",
          "data": {
            "text/plain": [
              "2*sqrt(13)"
            ],
            "text/latex": "$\\displaystyle 2 \\sqrt{13}$"
          },
          "metadata": {}
        },
        {
          "output_type": "stream",
          "name": "stdout",
          "text": [
            "Для k=8 (чётное), правый нижний элемент Q:\n"
          ]
        },
        {
          "output_type": "display_data",
          "data": {
            "text/plain": [
              "-4*sqrt(65)/65"
            ],
            "text/latex": "$\\displaystyle - \\frac{4 \\sqrt{65}}{65}$"
          },
          "metadata": {}
        },
        {
          "output_type": "stream",
          "name": "stdout",
          "text": [
            "Для k=9 (нечётное), левый верхний элемент R: \n"
          ]
        },
        {
          "output_type": "display_data",
          "data": {
            "text/plain": [
              "4*sqrt(5)"
            ],
            "text/latex": "$\\displaystyle 4 \\sqrt{5}$"
          },
          "metadata": {}
        },
        {
          "output_type": "stream",
          "name": "stdout",
          "text": [
            "Для k=10 (чётное), правый нижний элемент Q:\n"
          ]
        },
        {
          "output_type": "display_data",
          "data": {
            "text/plain": [
              "5*sqrt(74)/74"
            ],
            "text/latex": "$\\displaystyle \\frac{5 \\sqrt{74}}{74}$"
          },
          "metadata": {}
        },
        {
          "output_type": "stream",
          "name": "stdout",
          "text": [
            "Для k=11 (нечётное), левый верхний элемент R: \n"
          ]
        },
        {
          "output_type": "display_data",
          "data": {
            "text/plain": [
              "sqrt(89)"
            ],
            "text/latex": "$\\displaystyle \\sqrt{89}$"
          },
          "metadata": {}
        },
        {
          "output_type": "stream",
          "name": "stdout",
          "text": [
            "Для k=12 (чётное), правый нижний элемент Q:\n"
          ]
        },
        {
          "output_type": "display_data",
          "data": {
            "text/plain": [
              "-5*sqrt(106)/106"
            ],
            "text/latex": "$\\displaystyle - \\frac{5 \\sqrt{106}}{106}$"
          },
          "metadata": {}
        }
      ]
    },
    {
      "cell_type": "markdown",
      "metadata": {
        "id": "gTTZBv9tEloE"
      },
      "source": [
        "### Индивидуальное задание.\n",
        "Считать из файла \"alg_12_ind_v_xx.xlsx\" матрицу $A$, построить и вывести на экран QR разложение матрицы $A$ и записать в файл \"alg_12_ind_v_xx_ans.xlsx\" на листы $Q$ и $R$ соответствующие матрицы."
      ]
    },
    {
      "cell_type": "code",
      "source": [
        "from sympy import Matrix\n",
        "import pandas as pd\n",
        "\n",
        "def read_matrix_from_file(filename):\n",
        "    df = pd.read_excel(filename, header=None)\n",
        "    return Matrix(df.to_numpy())\n",
        "\n",
        "def write_matrices_to_file(filename, Q, R):\n",
        "    with pd.ExcelWriter(filename) as writer:\n",
        "        pd.DataFrame(Q.tolist()).to_excel(writer, sheet_name='Q', index=False, header=False)\n",
        "        pd.DataFrame(R.tolist()).to_excel(writer, sheet_name='R', index=False, header=False)\n",
        "\n",
        "input_filename = \"alg_12_ind_v_169.xlsx\"\n",
        "output_filename = \"alg_12_ind_v_169_ans.xlsx\"\n",
        "\n",
        "A = read_matrix_from_file(input_filename)\n",
        "\n",
        "\n",
        "Q, R = A.QRdecomposition()\n",
        "\n",
        "print(\"Матрица Q:\")\n",
        "display(Q)\n",
        "print(\"\\nМатрица R:\")\n",
        "display(R)\n",
        "\n",
        "write_matrices_to_file(output_filename, Q, R)\n",
        "print(f\"\\nРезультаты записаны в файл '{output_filename}'.\")"
      ],
      "metadata": {
        "id": "rwEGaR6-gSSV",
        "colab": {
          "base_uri": "https://localhost:8080/",
          "height": 341
        },
        "outputId": "39d1fa47-fc6a-4329-e156-5ad423ebc94c"
      },
      "execution_count": null,
      "outputs": [
        {
          "output_type": "stream",
          "name": "stdout",
          "text": [
            "Матрица Q:\n"
          ]
        },
        {
          "output_type": "display_data",
          "data": {
            "text/plain": [
              "Matrix([\n",
              "[2*sqrt(17)/17,  -146*sqrt(81073)/81073,  3495*sqrt(41042014)/41042014,  13353*sqrt(2091576422)/2091576422,  170*sqrt(243037)/243037],\n",
              "[  sqrt(17)/51,   80*sqrt(81073)/243219,  1902*sqrt(41042014)/20521007,  -3644*sqrt(2091576422)/1045788211, -384*sqrt(243037)/243037],\n",
              "[4*sqrt(17)/51,  473*sqrt(81073)/243219,   873*sqrt(41042014)/20521007, -13197*sqrt(2091576422)/1045788211,  210*sqrt(243037)/243037],\n",
              "[8*sqrt(17)/51, -278*sqrt(81073)/243219, -1602*sqrt(41042014)/20521007,  -8876*sqrt(2091576422)/1045788211, -135*sqrt(243037)/243037],\n",
              "[2*sqrt(17)/17,   160*sqrt(81073)/81073, -1021*sqrt(41042014)/41042014,  29127*sqrt(2091576422)/2091576422,  -66*sqrt(243037)/243037]])"
            ],
            "text/latex": "$\\displaystyle \\left[\\begin{matrix}\\frac{2 \\sqrt{17}}{17} & - \\frac{146 \\sqrt{81073}}{81073} & \\frac{3495 \\sqrt{41042014}}{41042014} & \\frac{13353 \\sqrt{2091576422}}{2091576422} & \\frac{170 \\sqrt{243037}}{243037}\\\\\\frac{\\sqrt{17}}{51} & \\frac{80 \\sqrt{81073}}{243219} & \\frac{1902 \\sqrt{41042014}}{20521007} & - \\frac{3644 \\sqrt{2091576422}}{1045788211} & - \\frac{384 \\sqrt{243037}}{243037}\\\\\\frac{4 \\sqrt{17}}{51} & \\frac{473 \\sqrt{81073}}{243219} & \\frac{873 \\sqrt{41042014}}{20521007} & - \\frac{13197 \\sqrt{2091576422}}{1045788211} & \\frac{210 \\sqrt{243037}}{243037}\\\\\\frac{8 \\sqrt{17}}{51} & - \\frac{278 \\sqrt{81073}}{243219} & - \\frac{1602 \\sqrt{41042014}}{20521007} & - \\frac{8876 \\sqrt{2091576422}}{1045788211} & - \\frac{135 \\sqrt{243037}}{243037}\\\\\\frac{2 \\sqrt{17}}{17} & \\frac{160 \\sqrt{81073}}{81073} & - \\frac{1021 \\sqrt{41042014}}{41042014} & \\frac{29127 \\sqrt{2091576422}}{2091576422} & - \\frac{66 \\sqrt{243037}}{243037}\\end{matrix}\\right]$"
          },
          "metadata": {}
        },
        {
          "output_type": "stream",
          "name": "stdout",
          "text": [
            "\n",
            "Матрица R:\n"
          ]
        },
        {
          "output_type": "display_data",
          "data": {
            "text/plain": [
              "Matrix([\n",
              "[3*sqrt(17), 73*sqrt(17)/51,         163*sqrt(17)/51,                28*sqrt(17)/17,                     43*sqrt(17)/17],\n",
              "[         0, sqrt(81073)/51, 3095*sqrt(81073)/243219,         455*sqrt(81073)/81073,             1655*sqrt(81073)/81073],\n",
              "[         0,              0,   2*sqrt(41042014)/4769, 23177*sqrt(41042014)/41042014,       -586*sqrt(41042014)/20521007],\n",
              "[         0,              0,                       0,         sqrt(2091576422)/8606, -10542*sqrt(2091576422)/1045788211],\n",
              "[         0,              0,                       0,                             0,            223*sqrt(243037)/243037]])"
            ],
            "text/latex": "$\\displaystyle \\left[\\begin{matrix}3 \\sqrt{17} & \\frac{73 \\sqrt{17}}{51} & \\frac{163 \\sqrt{17}}{51} & \\frac{28 \\sqrt{17}}{17} & \\frac{43 \\sqrt{17}}{17}\\\\0 & \\frac{\\sqrt{81073}}{51} & \\frac{3095 \\sqrt{81073}}{243219} & \\frac{455 \\sqrt{81073}}{81073} & \\frac{1655 \\sqrt{81073}}{81073}\\\\0 & 0 & \\frac{2 \\sqrt{41042014}}{4769} & \\frac{23177 \\sqrt{41042014}}{41042014} & - \\frac{586 \\sqrt{41042014}}{20521007}\\\\0 & 0 & 0 & \\frac{\\sqrt{2091576422}}{8606} & - \\frac{10542 \\sqrt{2091576422}}{1045788211}\\\\0 & 0 & 0 & 0 & \\frac{223 \\sqrt{243037}}{243037}\\end{matrix}\\right]$"
          },
          "metadata": {}
        },
        {
          "output_type": "stream",
          "name": "stdout",
          "text": [
            "\n",
            "Результаты записаны в файл 'alg_12_ind_v_169_ans.xlsx'.\n"
          ]
        }
      ]
    }
  ]
}