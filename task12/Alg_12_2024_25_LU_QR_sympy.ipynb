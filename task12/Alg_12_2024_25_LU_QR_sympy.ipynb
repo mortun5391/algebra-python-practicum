{
  "nbformat": 4,
  "nbformat_minor": 0,
  "metadata": {
    "kernelspec": {
      "display_name": "Python 3",
      "language": "python",
      "name": "python3"
    },
    "language_info": {
      "codemirror_mode": {
        "name": "ipython",
        "version": 3
      },
      "file_extension": ".py",
      "mimetype": "text/x-python",
      "name": "python",
      "nbconvert_exporter": "python",
      "pygments_lexer": "ipython3",
      "version": "3.7.3"
    },
    "colab": {
      "provenance": []
    }
  },
  "cells": [
    {
      "cell_type": "code",
      "metadata": {
        "id": "WjlZ-LNXCDbS"
      },
      "source": [
        " import sympy\n",
        "from sympy import Matrix, S, Symbol, symbols, I, zeros, eye\n",
        "from sympy import simplify, expand, expand_complex, latex\n",
        "import numpy as np\n",
        "from IPython.display import Latex"
      ],
      "execution_count": 1,
      "outputs": []
    },
    {
      "cell_type": "markdown",
      "metadata": {
        "id": "dhdX3ARxCDbW"
      },
      "source": [
        "# Практическое занятие 12\n",
        "# Компьютерный практикум по алгебре на Python\n",
        "## Матричные разложения: Холецкого, LDL, LU, QR."
      ]
    },
    {
      "cell_type": "markdown",
      "source": [
        "## Скелетное разложение\n",
        "## Пример 1\n",
        "Построим скелетное разложение для матрицы\n",
        "$$\n",
        "\\left(\n",
        "\\begin{matrix}\n",
        "2 & 3 & -1 & 4\\\\\n",
        "-1 & 4 & 1 & 4\\\\\n",
        "1 & 7 & 0 & 8\n",
        "\\end{matrix}\n",
        "\\right)\n",
        "$$\n",
        "$B$ матрица полного столбцового ранга, $C$-строчного"
      ],
      "metadata": {
        "id": "A94qgAS4jxVa"
      }
    },
    {
      "cell_type": "code",
      "source": [
        "A1 = Matrix([[2, 3, -1, 4], [-1, 4, 1, 4], [1, 7, 0, 8]])\n",
        "A1_rref = A1.rref()\n",
        "display(*A1_rref)"
      ],
      "metadata": {
        "colab": {
          "base_uri": "https://localhost:8080/",
          "height": 96
        },
        "id": "WSKnK-_bjy61",
        "outputId": "2db69a88-65f5-4b93-ec83-736d8d8e0d34"
      },
      "execution_count": 2,
      "outputs": [
        {
          "output_type": "display_data",
          "data": {
            "text/plain": [
              "Matrix([\n",
              "[1, 0, -7/11,  4/11],\n",
              "[0, 1,  1/11, 12/11],\n",
              "[0, 0,     0,     0]])"
            ],
            "text/latex": "$\\displaystyle \\left[\\begin{matrix}1 & 0 & - \\frac{7}{11} & \\frac{4}{11}\\\\0 & 1 & \\frac{1}{11} & \\frac{12}{11}\\\\0 & 0 & 0 & 0\\end{matrix}\\right]$"
          },
          "metadata": {}
        },
        {
          "output_type": "display_data",
          "data": {
            "text/plain": [
              "(0, 1)"
            ]
          },
          "metadata": {}
        }
      ]
    },
    {
      "cell_type": "markdown",
      "source": [
        "Каждый элемент кортежа, возвращаемого rref стал отдельным аргументом функции display и был отрисован.\n",
        "\n",
        "rref возвращает кортеж, первый элемент которого - ступенчатый вид матрицы, второй - кортеж из номеров ведущих столбцов матрицы.\n",
        "\n",
        "Для получения матрицы полного столбцового ранга выделим из матрицы $A$ ведущие столбцы (в соответствии с кортежем номеров столбцов, полученным благодаря rref).\n",
        "\n"
      ],
      "metadata": {
        "id": "j5E4nSDOj7u8"
      }
    },
    {
      "cell_type": "code",
      "source": [
        "cols = A1_rref[1]\n",
        "k = len(cols)\n",
        "B = A1[:, cols]\n",
        "display(Latex(f'cols = {latex(cols)}, k = {k}, B = {latex(B)}'))"
      ],
      "metadata": {
        "colab": {
          "base_uri": "https://localhost:8080/",
          "height": 78
        },
        "id": "RDjPx9U6j8gD",
        "outputId": "182bd240-9c79-44a6-9031-6b6deb971def"
      },
      "execution_count": 3,
      "outputs": [
        {
          "output_type": "display_data",
          "data": {
            "text/plain": [
              "<IPython.core.display.Latex object>"
            ],
            "text/latex": "cols = \\left( 0, \\  1\\right), k = 2, B = \\left[\\begin{matrix}2 & 3\\\\-1 & 4\\\\1 & 7\\end{matrix}\\right]"
          },
          "metadata": {}
        }
      ]
    },
    {
      "cell_type": "markdown",
      "source": [
        "Для выделения нужных столбцов из матрицы воспользуемся срезом:\n",
        "```\n",
        "B = A1[:, cols]\n",
        "```\n",
        "В квадратных скобках указываем номера нужных строк (все строки обозначаются :) и номера столбцов. Номера могут быть диапазонами (например, 2:6),кортежами (например, (3, 6, 8)), списками, а еще можно использовать range.\n",
        "\n",
        "Выделим из $A1_{rref}$ ненулевые строки, получим матрицу $C$ полного строчного ранга.\n"
      ],
      "metadata": {
        "id": "yd_b4yT1j_KV"
      }
    },
    {
      "cell_type": "code",
      "source": [
        "C = A1_rref[0][:k, :]\n",
        "display(Latex(f'C = {latex(C)}'))"
      ],
      "metadata": {
        "colab": {
          "base_uri": "https://localhost:8080/",
          "height": 58
        },
        "id": "whadS-PKkBzp",
        "outputId": "16356e64-63e3-471b-f60b-97caebdf4de0"
      },
      "execution_count": 4,
      "outputs": [
        {
          "output_type": "display_data",
          "data": {
            "text/plain": [
              "<IPython.core.display.Latex object>"
            ],
            "text/latex": "C = \\left[\\begin{matrix}1 & 0 & - \\frac{7}{11} & \\frac{4}{11}\\\\0 & 1 & \\frac{1}{11} & \\frac{12}{11}\\end{matrix}\\right]"
          },
          "metadata": {}
        }
      ]
    },
    {
      "cell_type": "markdown",
      "source": [
        "Проверим, что построено разложение исходной матрицы:"
      ],
      "metadata": {
        "id": "J2JFd-CHkEal"
      }
    },
    {
      "cell_type": "code",
      "source": [
        "display(Latex(fr'A = {latex(A1)}\\quad BC = {latex(B * C)}'))"
      ],
      "metadata": {
        "colab": {
          "base_uri": "https://localhost:8080/",
          "height": 78
        },
        "id": "YUusmrsrkXtm",
        "outputId": "57ca89d5-4a7f-4c53-ac6b-991304178ea0"
      },
      "execution_count": 5,
      "outputs": [
        {
          "output_type": "display_data",
          "data": {
            "text/plain": [
              "<IPython.core.display.Latex object>"
            ],
            "text/latex": "A = \\left[\\begin{matrix}2 & 3 & -1 & 4\\\\-1 & 4 & 1 & 4\\\\1 & 7 & 0 & 8\\end{matrix}\\right]\\quad BC = \\left[\\begin{matrix}2 & 3 & -1 & 4\\\\-1 & 4 & 1 & 4\\\\1 & 7 & 0 & 8\\end{matrix}\\right]"
          },
          "metadata": {}
        }
      ]
    },
    {
      "cell_type": "markdown",
      "metadata": {
        "id": "FBs3L0qxCDbX"
      },
      "source": [
        "**Симметричная** (вещественная) матрица $A$: $A^T = A$.\n",
        "\n",
        "**Эрмитова** (комплексная) матрица $A$: $A^H = A$, т.е. матрица совпадает с транспонированной матрицей из комплексно-сопряженных чисел, например, матрица\n",
        "$\\left(\n",
        "\\begin{matrix}\n",
        "12&3+ I\\\\\n",
        "3 - I&2\n",
        "\\end{matrix}\n",
        "\\right)$\n",
        "\n",
        "**Положительно определенная матрица** $A$: все угловые миноры положительны, например\n",
        "$$\n",
        "A=\\left(\n",
        "\\begin{matrix}\n",
        "4&6&10\\\\\n",
        "6&13&17\\\\\n",
        "10&17&62\n",
        "\\end{matrix}\n",
        "\\right), \\qquad\n",
        "\\Delta_1 = |4| = 4 > 0, \\qquad\n",
        "\\Delta_2 = \\left|\\begin{matrix}\n",
        "4&6\\\\\n",
        "6&13\n",
        "\\end{matrix}\\right| = 16 > 0, \\qquad\n",
        "\\Delta_3 = \\left|\\begin{matrix}\n",
        "4&6&10\\\\\n",
        "6&13&17\\\\\n",
        "10&17&62\n",
        "\\end{matrix}\\right| = 576 > 0\n",
        "$$\n",
        "### Разложение Холецкого\n",
        "$A = L\\cdot L^T$ для симметричной вещественной матрицы $A$\n",
        "\n",
        "$A = L\\cdot L^H$ для положительно определенной эрмитовой матрицы $A$\n",
        "\n",
        "$L$ - левая треугольная матрица.\n",
        "\n",
        "В Sympy в классе матриц есть метод **cholesky**, возвращающий матрицу $L$. В случае вещественной симметричной матрицы $A$ передаем методу необязательный параметр hermitian=False, по умолчанию равный True.\n",
        "\n",
        "Поскольку разложение Холецкого применяется только к симметричным или эрмитовым положительно определенным матрицам, то сначала следует проверить, является ли матрица положительно определенной, это делается с помощью атрибута **is_positive_definite** класса матриц.\n",
        "\n",
        "### Пример 2.\n",
        "Построим разложение Холецкого матриц\n",
        "$$\n",
        "A=\\left(\n",
        "\\begin{matrix}\n",
        "4&6&10\\\\\n",
        "6&13&17\\\\\n",
        "10&17&62\n",
        "\\end{matrix}\n",
        "\\right)\n",
        "\\quad\n",
        "B=\\left(\n",
        "\\begin{matrix}\n",
        "12&3+ I&5\\\\\n",
        "3 - I&2&1 - I\\\\\n",
        "5&1 + I&6\n",
        "\\end{matrix}\n",
        "\\right)\n",
        "$$"
      ]
    },
    {
      "cell_type": "code",
      "metadata": {
        "id": "WluflhHbCDbX",
        "outputId": "029e70f9-0a48-46b6-93cf-a8aec2ed02cc",
        "colab": {
          "base_uri": "https://localhost:8080/",
          "height": 329
        }
      },
      "source": [
        "A = Matrix([[4, 6, 10], [6, 13, 17], [10, 17, 62]])\n",
        "B = Matrix([[12, 3 + I, 5], [3 - I, 2, 1 - I], [5, 1 + I, 6]])\n",
        "LA = A.cholesky(hermitian=False)\n",
        "LB = B.cholesky()\n",
        "display(Latex(f'L_A = {latex(LA)},\\ L_AL_A^T - A= {latex(simplify(LA * LA.T - A))},\\\\\\\\\\\n",
        "        B.is\\_positive\\_definite\\ {B.is_positive_definite},\\\\\\\\\\\n",
        "        L_B = {latex(LB)},\\\\\\\\\\\n",
        "        simplify(L_B) = {latex(simplify(LB))},\\\\\\\\\\\n",
        "        simplify(L_B*L_B^H - B) = {latex(simplify(LB * LB.H - B))}'))"
      ],
      "execution_count": 6,
      "outputs": [
        {
          "output_type": "display_data",
          "data": {
            "text/plain": [
              "<IPython.core.display.Latex object>"
            ],
            "text/latex": "L_A = \\left[\\begin{matrix}2 & 0 & 0\\\\3 & 2 & 0\\\\5 & 1 & 6\\end{matrix}\\right],\\ L_AL_A^T - A= \\left[\\begin{matrix}0 & 0 & 0\\\\0 & 0 & 0\\\\0 & 0 & 0\\end{matrix}\\right],\\\\        B.is\\_positive\\_definite\\ True,\\\\        L_B = \\left[\\begin{matrix}2 \\sqrt{3} & 0 & 0\\\\\\frac{\\sqrt{3} \\left(3 - i\\right)}{6} & \\sqrt{- \\frac{\\left(3 - i\\right) \\left(3 + i\\right)}{12} + 2} & 0\\\\\\frac{5 \\sqrt{3}}{6} & \\frac{- \\frac{1}{4} + \\frac{7 i}{12}}{\\sqrt{- \\frac{\\left(3 - i\\right) \\left(3 + i\\right)}{12} + 2}} & \\sqrt{- \\frac{\\left(- \\frac{1}{4} - \\frac{7 i}{12}\\right) \\left(- \\frac{1}{4} + \\frac{7 i}{12}\\right)}{- \\frac{\\left(3 - i\\right) \\left(3 + i\\right)}{12} + 2} + \\frac{47}{12}}\\end{matrix}\\right],\\\\        simplify(L_B) = \\left[\\begin{matrix}2 \\sqrt{3} & 0 & 0\\\\\\frac{\\sqrt{3} \\left(3 - i\\right)}{6} & \\frac{\\sqrt{42}}{6} & 0\\\\\\frac{5 \\sqrt{3}}{6} & \\frac{\\sqrt{42} \\left(-5 + 2 i\\right) \\left(1 - i\\right)}{84} & \\frac{5 \\sqrt{7}}{7}\\end{matrix}\\right],\\\\        simplify(L_B*L_B^H - B) = \\left[\\begin{matrix}0 & 0 & 0\\\\0 & 0 & 0\\\\0 & 0 & 0\\end{matrix}\\right]"
          },
          "metadata": {}
        }
      ]
    },
    {
      "cell_type": "markdown",
      "metadata": {
        "id": "G7LypB6tCDbZ"
      },
      "source": [
        "### LDL разложение\n",
        "$A = L D L^T$ для симметричной вещественной матрицы $A$\n",
        "\n",
        "$A = L D L^H$ для положительно определенной эрмитовой матрицы $A$\n",
        "\n",
        "$L$ - левая треугольная матрица,\n",
        "$D$ - диагональная матрица.\n",
        "\n",
        "В Sympy в классе матриц есть метод **LDLdecomposition**, возвращающий матрицы $D$ и $L$. В случае вещественной симметричной матрицы $A$ передаем методу необязательный параметр hermitian=False, по умолчанию равный True.\n",
        "### Пример 3.\n",
        "Построим  LDL разложение для матриц Примера 1"
      ]
    },
    {
      "cell_type": "code",
      "metadata": {
        "id": "q7zknNa2CDbZ",
        "outputId": "5aa90df9-ee10-49c4-c362-43c8fbab586f",
        "colab": {
          "base_uri": "https://localhost:8080/",
          "height": 428
        }
      },
      "source": [
        "A = Matrix([[4, 6, 10], [6, 13, 17], [10, 17, 62]])\n",
        "B = Matrix([[12, 3 + I, 5], [3 - I, 2, 1 - I], [5, 1 + I, 6]])\n",
        "LA, DA = A.LDLdecomposition(hermitian=False)\n",
        "LB, DB = B.LDLdecomposition()\n",
        "LA, DA, LB, DB = [simplify(item) for item in (LA, DA, LB, DB)]\n",
        "display(Latex(\"\"\"A = {}\\\\\\\\A.is\\_positive\\_definite\\ {}\\\\\\\\\\\n",
        "L_A = {}, D_A = {},\\\\\\\\L_AD_AL_A^T = {},\\\\\\\\\\\n",
        "B = {}\\\\\\\\\\\n",
        "B.is\\_positive\\_definite\\ {}\\\\\\\\L_B = {}, D_B = {},\\\\\\\\\\\n",
        "L_BD_BL_B^H = {}\\\n",
        "\"\"\".format(*[latex(item) for item in (A, A.is_positive_definite,\n",
        "                                      LA, DA, LA * DA * LA.T,\n",
        "                                      B, B.is_positive_definite,\n",
        "                                      LB, simplify(DB),\n",
        "                                      simplify(LB * DB * LB.H))])))"
      ],
      "execution_count": 7,
      "outputs": [
        {
          "output_type": "display_data",
          "data": {
            "text/plain": [
              "<IPython.core.display.Latex object>"
            ],
            "text/latex": "A = \\left[\\begin{matrix}4 & 6 & 10\\\\6 & 13 & 17\\\\10 & 17 & 62\\end{matrix}\\right]\\\\A.is\\_positive\\_definite\\ \\text{True}\\\\L_A = \\left[\\begin{matrix}1 & 0 & 0\\\\\\frac{3}{2} & 1 & 0\\\\\\frac{5}{2} & \\frac{1}{2} & 1\\end{matrix}\\right], D_A = \\left[\\begin{matrix}4 & 0 & 0\\\\0 & 4 & 0\\\\0 & 0 & 36\\end{matrix}\\right],\\\\L_AD_AL_A^T = \\left[\\begin{matrix}4 & 6 & 10\\\\6 & 13 & 17\\\\10 & 17 & 62\\end{matrix}\\right],\\\\B = \\left[\\begin{matrix}12 & 3 + i & 5\\\\3 - i & 2 & 1 - i\\\\5 & 1 + i & 6\\end{matrix}\\right]\\\\B.is\\_positive\\_definite\\ \\text{True}\\\\L_B = \\left[\\begin{matrix}1 & 0 & 0\\\\\\frac{1}{4} - \\frac{i}{12} & 1 & 0\\\\\\frac{5}{12} & - \\frac{3}{14} + \\frac{i}{2} & 1\\end{matrix}\\right], D_B = \\left[\\begin{matrix}12 & 0 & 0\\\\0 & \\frac{7}{6} & 0\\\\0 & 0 & \\frac{25}{7}\\end{matrix}\\right],\\\\L_BD_BL_B^H = \\left[\\begin{matrix}12 & 3 + i & 5\\\\3 - i & 2 & 1 - i\\\\5 & 1 + i & 6\\end{matrix}\\right]"
          },
          "metadata": {}
        }
      ]
    },
    {
      "cell_type": "markdown",
      "metadata": {
        "id": "nlvMvFGfCDba"
      },
      "source": [
        "### LU разложение\n",
        "$PA = LU$ для матрицы $A$\n",
        "\n",
        "$L$ - левая треугольная матрица с единицами на главной диагонали,\n",
        "$U$ - правая треугольная (трапециевидная) матрица,\n",
        "$P$ - матрица перестановок.\n",
        "\n",
        "$A = P^{-1}LU$.\n",
        "### Пример 4.\n",
        "Построим  LU разложение для матрицы\n",
        "$$\n",
        "M=\\left(\n",
        "\\begin{matrix}\n",
        "-2&3+ I&5 - 2I\\\\\n",
        " - I&2&1 - I\\\\\n",
        "5&-1 + 4I&-3\n",
        "\\end{matrix}\n",
        "\\right)\n",
        "$$"
      ]
    },
    {
      "cell_type": "code",
      "metadata": {
        "id": "BYj_9r7OCDba",
        "outputId": "bb1491b2-7571-4af1-cdd4-3cc3edb43c96",
        "colab": {
          "base_uri": "https://localhost:8080/",
          "height": 200
        }
      },
      "source": [
        "M = Matrix([[-2, 3 + I, 5 - 2 * I], [-I, 2, 1 - I], [5, -1 + 4 * I, -3]])\n",
        "L, U, perm = M.LUdecomposition()\n",
        "display(Latex(\"M = {}\\\\\\\\perm = {}, L = {}, U = {}\\\\\\\\LU = {}\\\n",
        "\".format(*map(latex, (M, perm, *map(simplify, (L, U, L * U)))))))"
      ],
      "execution_count": 8,
      "outputs": [
        {
          "output_type": "display_data",
          "data": {
            "text/plain": [
              "<IPython.core.display.Latex object>"
            ],
            "text/latex": "M = \\left[\\begin{matrix}-2 & 3 + i & 5 - 2 i\\\\- i & 2 & 1 - i\\\\5 & -1 + 4 i & -3\\end{matrix}\\right]\\\\perm = \\left[ \\right], L = \\left[\\begin{matrix}1 & 0 & 0\\\\\\frac{i}{2} & 1 & 0\\\\- \\frac{5}{2} & \\frac{13}{17} + \\frac{52 i}{17} & 1\\end{matrix}\\right], U = \\left[\\begin{matrix}-2 & 3 + i & 5 - 2 i\\\\0 & \\frac{5}{2} - \\frac{3 i}{2} & - \\frac{7 i}{2}\\\\0 & 0 & - \\frac{41}{34} - \\frac{79 i}{34}\\end{matrix}\\right]\\\\LU = \\left[\\begin{matrix}-2 & 3 + i & 5 - 2 i\\\\- i & 2 & 1 - i\\\\5 & -1 + 4 i & -3\\end{matrix}\\right]"
          },
          "metadata": {}
        }
      ]
    },
    {
      "cell_type": "markdown",
      "metadata": {
        "id": "7_Q-e3aBCDbb"
      },
      "source": [
        "В Примере 3 не пришлось использовать перестановки, параметр perm, описывающий перестановки представляет собой пустой список.\n",
        "### Пример 5.\n",
        "Заменим в матрице $M$ элемент $-2$ на 0  и построим LU разложение для новой матрицы."
      ]
    },
    {
      "cell_type": "code",
      "metadata": {
        "id": "qpz4ASn1CDbb",
        "outputId": "3a823c92-7a2d-465b-c564-29b1812995c3",
        "colab": {
          "base_uri": "https://localhost:8080/",
          "height": 200
        }
      },
      "source": [
        "M[0, 0] = 0\n",
        "L, U, perm = M.LUdecomposition()\n",
        "display(Latex(\"M = {}\\\\\\\\perm = {}, L = {}, U = {}\\\\\\\\LU = {}\\\n",
        "\".format(*map(latex, (M, perm, *map(simplify,  (L, U, L * U)))))))"
      ],
      "execution_count": 9,
      "outputs": [
        {
          "output_type": "display_data",
          "data": {
            "text/plain": [
              "<IPython.core.display.Latex object>"
            ],
            "text/latex": "M = \\left[\\begin{matrix}0 & 3 + i & 5 - 2 i\\\\- i & 2 & 1 - i\\\\5 & -1 + 4 i & -3\\end{matrix}\\right]\\\\perm = \\left[ \\left[ 0, \\  1\\right]\\right], L = \\left[\\begin{matrix}1 & 0 & 0\\\\0 & 1 & 0\\\\5 i & - \\frac{9}{10} - \\frac{17 i}{10} & 1\\end{matrix}\\right], U = \\left[\\begin{matrix}- i & 2 & 1 - i\\\\0 & 3 + i & 5 - 2 i\\\\0 & 0 & - \\frac{1}{10} + \\frac{17 i}{10}\\end{matrix}\\right]\\\\LU = \\left[\\begin{matrix}- i & 2 & 1 - i\\\\0 & 3 + i & 5 - 2 i\\\\5 & -1 + 4 i & -3\\end{matrix}\\right]"
          },
          "metadata": {}
        }
      ]
    },
    {
      "cell_type": "markdown",
      "metadata": {
        "id": "DxIc59LvCDbc"
      },
      "source": [
        "Произведение матриц LU отличается от исходной матрицы M перестановкой строк. Восстановим матрицу M, применяя перестановки в соответствии с результатом, выдаваемым LUdecomposition:"
      ]
    },
    {
      "cell_type": "code",
      "metadata": {
        "id": "qyXgvYgSCDbc",
        "outputId": "6e05a2d4-7dd3-4562-f557-dba932a4edee",
        "colab": {
          "base_uri": "https://localhost:8080/",
          "height": 100
        }
      },
      "source": [
        "number_of_rows = M.shape[0]\n",
        "MLU = simplify((L * U).permuteBkwd(perm))\n",
        "P = eye(number_of_rows).permuteFwd(perm)\n",
        "display(Latex(f\"LU.permuteBkwd(perm) = {latex(MLU)}\\\\\\\\\\\n",
        "PM = LU\\ {P * M == simplify(L * U)}\"))"
      ],
      "execution_count": 10,
      "outputs": [
        {
          "output_type": "display_data",
          "data": {
            "text/plain": [
              "<IPython.core.display.Latex object>"
            ],
            "text/latex": "LU.permuteBkwd(perm) = \\left[\\begin{matrix}0 & 3 + i & 5 - 2 i\\\\- i & 2 & 1 - i\\\\5 & -1 + 4 i & -3\\end{matrix}\\right]\\\\PM = LU\\ True"
          },
          "metadata": {}
        }
      ]
    },
    {
      "cell_type": "markdown",
      "metadata": {
        "id": "hedxgJtvCDbc"
      },
      "source": [
        "LU разложение можно применять и для прямоугольной матрицы.\n",
        "### Пример 6.\n",
        "Добавим к матрице $M$ справа столбец из чисел 1, 2, 3  и построим LU разложение для новой матрицы."
      ]
    },
    {
      "cell_type": "code",
      "metadata": {
        "id": "Vy40TU5fCDbd",
        "outputId": "8b98f198-d0ef-44a1-ab9b-15076d5b0e25",
        "colab": {
          "base_uri": "https://localhost:8080/",
          "height": 283
        }
      },
      "source": [
        "number_of_rows = M.shape[0]\n",
        "M = M.row_join(Matrix([k + 1 for k in range(number_of_rows)]))\n",
        "L, U, perm = M.LUdecomposition()\n",
        "MLU = simplify((L * U).permuteBkwd(perm))\n",
        "L, U, LU, MLU = [simplify(item) for item in (L, U, L * U, MLU)]\n",
        "P = eye(number_of_rows).permuteFwd(perm)\n",
        "display(Latex(\"\"\"M = {}\\\\\\\\perm = {}, L = {}, U = {}\\\\\\\\\n",
        "LU = {}\\\\\\\\LU.permuteBkwd(perm) = {}\\\\\\\\PM = LU\\ {}\"\"\".format(*map(latex, (M, perm, L, U, LU, MLU, P * M == LU)))))"
      ],
      "execution_count": 13,
      "outputs": [
        {
          "output_type": "display_data",
          "data": {
            "text/plain": [
              "<IPython.core.display.Latex object>"
            ],
            "text/latex": "M = \\left[\\begin{matrix}0 & 3 + i & 5 - 2 i & 1 & 1\\\\- i & 2 & 1 - i & 2 & 2\\\\5 & -1 + 4 i & -3 & 3 & 3\\end{matrix}\\right]\\\\perm = \\left[ \\left[ 0, \\  1\\right]\\right], L = \\left[\\begin{matrix}1 & 0 & 0\\\\0 & 1 & 0\\\\5 i & - \\frac{9}{10} - \\frac{17 i}{10} & 1\\end{matrix}\\right], U = \\left[\\begin{matrix}- i & 2 & 1 - i & 2 & 2\\\\0 & 3 + i & 5 - 2 i & 1 & 1\\\\0 & 0 & - \\frac{1}{10} + \\frac{17 i}{10} & \\frac{39}{10} - \\frac{83 i}{10} & \\frac{39}{10} - \\frac{83 i}{10}\\end{matrix}\\right]\\\\\nLU = \\left[\\begin{matrix}- i & 2 & 1 - i & 2 & 2\\\\0 & 3 + i & 5 - 2 i & 1 & 1\\\\5 & -1 + 4 i & -3 & 3 & 3\\end{matrix}\\right]\\\\LU.permuteBkwd(perm) = \\left[\\begin{matrix}0 & 3 + i & 5 - 2 i & 1 & 1\\\\- i & 2 & 1 - i & 2 & 2\\\\5 & -1 + 4 i & -3 & 3 & 3\\end{matrix}\\right]\\\\PM = LU\\ \\text{True}"
          },
          "metadata": {}
        }
      ]
    },
    {
      "cell_type": "markdown",
      "metadata": {
        "id": "UEFx5UIMCDbd"
      },
      "source": [
        "### QR разложение\n",
        "$A = QR$ для симметричной вещественной матрицы $A$\n",
        "\n",
        "$Q$ - матрица из ортогональных столбцов, т.е. $Q^HQ = I$, $I$ - единичная матрица, причем может не выполняться $QQ^H = I$ (для ортогональной матрицы $Q^HQ = QQ^H = I$),\n",
        "$R$ - правая треугольная (трапециевидная) матрица.\n",
        "\n",
        "Ранг матрицы $A$ равен числу столбцов матрицы $Q$.\n",
        "### Пример 7.\n",
        "Построим  QR разложение для матрицы Примера 5."
      ]
    },
    {
      "cell_type": "code",
      "metadata": {
        "id": "bzI8VBfkCDbd",
        "outputId": "6f0cce5b-1b28-4182-bb57-d5a82c9d2a71",
        "colab": {
          "base_uri": "https://localhost:8080/",
          "height": 237
        }
      },
      "source": [
        "Q, R = M.QRdecomposition()\n",
        "MQR = Q * R\n",
        "Q, R, MQR = [simplify(item) for item in (Q, R, MQR)]\n",
        "display(Latex(\"\"\"M = {}\\\\\\\\Q = {}, R = {}\\\\\\\\\n",
        "QR = {}\\\\\\\\M = QR\\ {}\"\"\".format(*map(latex, (M, Q, R, MQR, M == MQR)))))"
      ],
      "execution_count": 12,
      "outputs": [
        {
          "output_type": "display_data",
          "data": {
            "text/plain": [
              "<IPython.core.display.Latex object>"
            ],
            "text/latex": "M = \\left[\\begin{matrix}0 & 3 + i & 5 - 2 i & 1\\\\- i & 2 & 1 - i & 2\\\\5 & -1 + 4 i & -3 & 3\\end{matrix}\\right]\\\\Q = \\left[\\begin{matrix}0 & \\frac{\\sqrt{858} \\left(3 + i\\right)}{99} & \\frac{\\sqrt{957} \\left(28 + 17 i\\right)}{2871}\\\\- \\frac{\\sqrt{26} i}{26} & \\frac{5 \\sqrt{858} \\left(6 - i\\right)}{2574} & \\frac{5 \\sqrt{957} \\left(-17 - i\\right)}{2871}\\\\\\frac{5 \\sqrt{26}}{26} & \\frac{\\sqrt{858} \\left(-1 - 6 i\\right)}{2574} & \\frac{\\sqrt{957} \\left(-1 + 17 i\\right)}{2871}\\end{matrix}\\right], R = \\left[\\begin{matrix}\\sqrt{26} & \\frac{\\sqrt{26} \\left(-5 + 22 i\\right)}{26} & \\frac{\\sqrt{26} \\left(-14 + i\\right)}{26} & \\frac{\\sqrt{26} \\left(15 + 2 i\\right)}{26}\\\\0 & \\frac{3 \\sqrt{858}}{26} & \\frac{\\sqrt{858} \\left(376 - 329 i\\right)}{2574} & \\frac{\\sqrt{858} \\left(135 + 2 i\\right)}{2574}\\\\0 & 0 & \\frac{\\sqrt{957}}{99} & \\frac{\\sqrt{957} \\left(-5 - 2 i\\right)}{99}\\end{matrix}\\right]\\\\\nQR = \\left[\\begin{matrix}0 & 3 + i & 5 - 2 i & 1\\\\- i & 2 & 1 - i & 2\\\\5 & -1 + 4 i & -3 & 3\\end{matrix}\\right]\\\\M = QR\\ \\text{True}"
          },
          "metadata": {}
        }
      ]
    }
  ]
}