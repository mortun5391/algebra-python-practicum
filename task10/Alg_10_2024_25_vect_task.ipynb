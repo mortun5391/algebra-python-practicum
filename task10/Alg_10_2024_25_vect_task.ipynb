{
  "nbformat": 4,
  "nbformat_minor": 0,
  "metadata": {
    "kernelspec": {
      "display_name": "Python 3",
      "language": "python",
      "name": "python3"
    },
    "language_info": {
      "codemirror_mode": {
        "name": "ipython",
        "version": 3
      },
      "file_extension": ".py",
      "mimetype": "text/x-python",
      "name": "python",
      "nbconvert_exporter": "python",
      "pygments_lexer": "ipython3",
      "version": "3.7.3"
    },
    "colab": {
      "provenance": []
    }
  },
  "cells": [
    {
      "cell_type": "code",
      "metadata": {
        "id": "BQ-uTnJuCclQ"
      },
      "source": [
        "import sympy\n",
        "from sympy import  Matrix, symbols, latex, S, lambdify, Symbol\n",
        "from sympy import  sin as Sin\n",
        "from sympy import  cos as Cos\n",
        "from sympy import  pi as Pi\n",
        "from sympy.vector import CoordSys3D, Vector, matrix_to_vector, AxisOrienter, express\n",
        "from IPython.display import Latex\n",
        "import pandas as pd\n",
        "from dataclasses import dataclass, field\n",
        "import numpy as np\n",
        "import matplotlib.pyplot as plt"
      ],
      "execution_count": null,
      "outputs": []
    },
    {
      "cell_type": "markdown",
      "metadata": {
        "id": "HaZ4p6ZaCclc"
      },
      "source": [
        "# Практическое занятие 10\n",
        "# Компьютерный практикум по алгебре на Python\n",
        "## Векторы\n",
        "### Задание 1.\n",
        "Задать систему координат с именем '1'.\n",
        "Найти скалярное и векторное произведение векторов $a(-\\cos(\\pi/4), \\sin(\\pi/3), 1)$ и $b(2, -1, 3)$."
      ]
    },
    {
      "cell_type": "code",
      "metadata": {
        "id": "c-QIgMUCCcle",
        "colab": {
          "base_uri": "https://localhost:8080/",
          "height": 71
        },
        "outputId": "8dedb713-4c65-4e3a-aea1-0b60765edd99"
      },
      "source": [
        "coord_sys = CoordSys3D('1')\n",
        "a_vec = -Cos(Pi/4)*coord_sys.i + Sin(Pi/3)*coord_sys.j + coord_sys.k\n",
        "b_vec = 2*coord_sys.i - coord_sys.j + 3*coord_sys.k\n",
        "display(Latex(f\"\\\\text{{(a, b) = }}{latex(a_vec & b_vec)}\"))\n",
        "display(Latex(f\"\\\\text{{[a x b] = }}{latex(a_vec ^ b_vec)}\"))"
      ],
      "execution_count": null,
      "outputs": [
        {
          "output_type": "display_data",
          "data": {
            "text/plain": [
              "<IPython.core.display.Latex object>"
            ],
            "text/latex": "\\text{(a, b) = }- \\sqrt{2} - \\frac{\\sqrt{3}}{2} + 3"
          },
          "metadata": {}
        },
        {
          "output_type": "display_data",
          "data": {
            "text/plain": [
              "<IPython.core.display.Latex object>"
            ],
            "text/latex": "\\text{[a x b] = }\\left(1 + \\frac{3 \\sqrt{3}}{2}\\right)\\mathbf{\\hat{i}_{1}} + \\left(2 + \\frac{3 \\sqrt{2}}{2}\\right)\\mathbf{\\hat{j}_{1}} + \\left(- \\sqrt{3} + \\frac{\\sqrt{2}}{2}\\right)\\mathbf{\\hat{k}_{1}}"
          },
          "metadata": {}
        }
      ]
    },
    {
      "cell_type": "markdown",
      "metadata": {
        "id": "B8Je98zJCclg"
      },
      "source": [
        "### Задание 2\n",
        "Ввести безымянную систему координат $M$ и символы $\\varphi$ и $c$.\n",
        "Вычислить $5u\\cdot(v - u)$ и $((2v + u)\\times(v - 3u)) $,\n",
        "\n",
        "$u = (\\cos(\\varphi), 2c - 5, \\sin(2\\varphi))$, $v = (\\sin(\\varphi), 2c  + 5, \\cos(2\\varphi))$.\n",
        "\n",
        "Скалярное произведение обозначено $\\cdot$, векторное $\\times$.\n",
        "Использовать  & и ^, скобки расставить как в условии, поскольку приоритет у & и ^ ниже, чем у + и -. Упростить полученное выражение."
      ]
    },
    {
      "cell_type": "code",
      "metadata": {
        "id": "mMHHtgWsCclh",
        "colab": {
          "base_uri": "https://localhost:8080/",
          "height": 88
        },
        "outputId": "263f8a95-2ee4-4bfc-ab33-8789157d2823"
      },
      "source": [
        "M = CoordSys3D('')\n",
        "phi, c = symbols(\"φ c\")\n",
        "\n",
        "u = Cos(phi)*M.i + (2*c -5)*M.j + Sin(2*phi)*M.k\n",
        "v = Sin(phi)*M.i + (2*c + 5)*M.j + Cos(2*phi)*M.k\n",
        "expr1 = 5*u & (v-u)\n",
        "expr2 = ((2*v + u) ^ (v - 3 * u))\n",
        "display(expr1.factor().trigsimp())\n",
        "display(expr2.factor().trigsimp())"
      ],
      "execution_count": null,
      "outputs": [
        {
          "output_type": "display_data",
          "data": {
            "text/plain": [
              "100*c + 5*sqrt(2)*sin(4*φ + pi/4)/2 - 5*sqrt(2)*cos(2*φ + pi/4)/2 - 255"
            ],
            "text/latex": "$\\displaystyle 100 c + \\frac{5 \\sqrt{2} \\sin{\\left(4 φ + \\frac{\\pi}{4} \\right)}}{2} - \\frac{5 \\sqrt{2} \\cos{\\left(2 φ + \\frac{\\pi}{4} \\right)}}{2} - 255$"
          },
          "metadata": {}
        },
        {
          "output_type": "display_data",
          "data": {
            "text/plain": [
              "(7*sqrt(2)*(2*c*cos(2*φ + pi/4) - 5*sin(2*φ + pi/4)))*.i + (-7*cos(3*φ))*.j + (7*sqrt(2)*(2*c*cos(φ + pi/4) + 5*sin(φ + pi/4)))*.k"
            ],
            "text/latex": "$\\displaystyle \\left(7 \\sqrt{2} \\left(2 c \\cos{\\left(2 φ + \\frac{\\pi}{4} \\right)} - 5 \\sin{\\left(2 φ + \\frac{\\pi}{4} \\right)}\\right)\\right)\\mathbf{\\hat{i}_{}} + \\left(- 7 \\cos{\\left(3 φ \\right)}\\right)\\mathbf{\\hat{j}_{}} + \\left(7 \\sqrt{2} \\left(2 c \\cos{\\left(φ + \\frac{\\pi}{4} \\right)} + 5 \\sin{\\left(φ + \\frac{\\pi}{4} \\right)}\\right)\\right)\\mathbf{\\hat{k}_{}}$"
          },
          "metadata": {}
        }
      ]
    },
    {
      "cell_type": "markdown",
      "metadata": {
        "id": "5M-6y40TCclh"
      },
      "source": [
        "### Задание 3\n",
        "В файле \"sem_10_task_3.xlsx\" записаны имена векторов и соответствующие значения параметров $p$, $q$ и углов $\\phi$ **в градусах**.\n",
        "\n",
        "Вывести на экран для каждого вектора $g(p^2 + 2pq - 3, \\cos(\\phi), \\sin^2(\\phi))$ его имя,  координаты  вектора, его длину и проекции на координатные оси. Все вычисления производить аналитически, в том числе переводить градусы в радианы."
      ]
    },
    {
      "cell_type": "code",
      "metadata": {
        "id": "rhrhfilACcli",
        "colab": {
          "base_uri": "https://localhost:8080/",
          "height": 663
        },
        "outputId": "0677d37e-be73-47aa-b27f-c2a3dc9e4f13"
      },
      "source": [
        "from google.colab import files\n",
        "import pandas as pd\n",
        "uploaded = files.upload() # загружаем нужные файлы, обращаться к ним будем по имени\n",
        "for file_name in uploaded.keys():\n",
        "    print(f'Загружен файл {file_name}')"
      ],
      "execution_count": null,
      "outputs": [
        {
          "output_type": "display_data",
          "data": {
            "text/plain": [
              "<IPython.core.display.HTML object>"
            ],
            "text/html": [
              "\n",
              "     <input type=\"file\" id=\"files-cc07831b-0987-479c-b244-0c2badd0cf6c\" name=\"files[]\" multiple disabled\n",
              "        style=\"border:none\" />\n",
              "     <output id=\"result-cc07831b-0987-479c-b244-0c2badd0cf6c\">\n",
              "      Upload widget is only available when the cell has been executed in the\n",
              "      current browser session. Please rerun this cell to enable.\n",
              "      </output>\n",
              "      <script>// Copyright 2017 Google LLC\n",
              "//\n",
              "// Licensed under the Apache License, Version 2.0 (the \"License\");\n",
              "// you may not use this file except in compliance with the License.\n",
              "// You may obtain a copy of the License at\n",
              "//\n",
              "//      http://www.apache.org/licenses/LICENSE-2.0\n",
              "//\n",
              "// Unless required by applicable law or agreed to in writing, software\n",
              "// distributed under the License is distributed on an \"AS IS\" BASIS,\n",
              "// WITHOUT WARRANTIES OR CONDITIONS OF ANY KIND, either express or implied.\n",
              "// See the License for the specific language governing permissions and\n",
              "// limitations under the License.\n",
              "\n",
              "/**\n",
              " * @fileoverview Helpers for google.colab Python module.\n",
              " */\n",
              "(function(scope) {\n",
              "function span(text, styleAttributes = {}) {\n",
              "  const element = document.createElement('span');\n",
              "  element.textContent = text;\n",
              "  for (const key of Object.keys(styleAttributes)) {\n",
              "    element.style[key] = styleAttributes[key];\n",
              "  }\n",
              "  return element;\n",
              "}\n",
              "\n",
              "// Max number of bytes which will be uploaded at a time.\n",
              "const MAX_PAYLOAD_SIZE = 100 * 1024;\n",
              "\n",
              "function _uploadFiles(inputId, outputId) {\n",
              "  const steps = uploadFilesStep(inputId, outputId);\n",
              "  const outputElement = document.getElementById(outputId);\n",
              "  // Cache steps on the outputElement to make it available for the next call\n",
              "  // to uploadFilesContinue from Python.\n",
              "  outputElement.steps = steps;\n",
              "\n",
              "  return _uploadFilesContinue(outputId);\n",
              "}\n",
              "\n",
              "// This is roughly an async generator (not supported in the browser yet),\n",
              "// where there are multiple asynchronous steps and the Python side is going\n",
              "// to poll for completion of each step.\n",
              "// This uses a Promise to block the python side on completion of each step,\n",
              "// then passes the result of the previous step as the input to the next step.\n",
              "function _uploadFilesContinue(outputId) {\n",
              "  const outputElement = document.getElementById(outputId);\n",
              "  const steps = outputElement.steps;\n",
              "\n",
              "  const next = steps.next(outputElement.lastPromiseValue);\n",
              "  return Promise.resolve(next.value.promise).then((value) => {\n",
              "    // Cache the last promise value to make it available to the next\n",
              "    // step of the generator.\n",
              "    outputElement.lastPromiseValue = value;\n",
              "    return next.value.response;\n",
              "  });\n",
              "}\n",
              "\n",
              "/**\n",
              " * Generator function which is called between each async step of the upload\n",
              " * process.\n",
              " * @param {string} inputId Element ID of the input file picker element.\n",
              " * @param {string} outputId Element ID of the output display.\n",
              " * @return {!Iterable<!Object>} Iterable of next steps.\n",
              " */\n",
              "function* uploadFilesStep(inputId, outputId) {\n",
              "  const inputElement = document.getElementById(inputId);\n",
              "  inputElement.disabled = false;\n",
              "\n",
              "  const outputElement = document.getElementById(outputId);\n",
              "  outputElement.innerHTML = '';\n",
              "\n",
              "  const pickedPromise = new Promise((resolve) => {\n",
              "    inputElement.addEventListener('change', (e) => {\n",
              "      resolve(e.target.files);\n",
              "    });\n",
              "  });\n",
              "\n",
              "  const cancel = document.createElement('button');\n",
              "  inputElement.parentElement.appendChild(cancel);\n",
              "  cancel.textContent = 'Cancel upload';\n",
              "  const cancelPromise = new Promise((resolve) => {\n",
              "    cancel.onclick = () => {\n",
              "      resolve(null);\n",
              "    };\n",
              "  });\n",
              "\n",
              "  // Wait for the user to pick the files.\n",
              "  const files = yield {\n",
              "    promise: Promise.race([pickedPromise, cancelPromise]),\n",
              "    response: {\n",
              "      action: 'starting',\n",
              "    }\n",
              "  };\n",
              "\n",
              "  cancel.remove();\n",
              "\n",
              "  // Disable the input element since further picks are not allowed.\n",
              "  inputElement.disabled = true;\n",
              "\n",
              "  if (!files) {\n",
              "    return {\n",
              "      response: {\n",
              "        action: 'complete',\n",
              "      }\n",
              "    };\n",
              "  }\n",
              "\n",
              "  for (const file of files) {\n",
              "    const li = document.createElement('li');\n",
              "    li.append(span(file.name, {fontWeight: 'bold'}));\n",
              "    li.append(span(\n",
              "        `(${file.type || 'n/a'}) - ${file.size} bytes, ` +\n",
              "        `last modified: ${\n",
              "            file.lastModifiedDate ? file.lastModifiedDate.toLocaleDateString() :\n",
              "                                    'n/a'} - `));\n",
              "    const percent = span('0% done');\n",
              "    li.appendChild(percent);\n",
              "\n",
              "    outputElement.appendChild(li);\n",
              "\n",
              "    const fileDataPromise = new Promise((resolve) => {\n",
              "      const reader = new FileReader();\n",
              "      reader.onload = (e) => {\n",
              "        resolve(e.target.result);\n",
              "      };\n",
              "      reader.readAsArrayBuffer(file);\n",
              "    });\n",
              "    // Wait for the data to be ready.\n",
              "    let fileData = yield {\n",
              "      promise: fileDataPromise,\n",
              "      response: {\n",
              "        action: 'continue',\n",
              "      }\n",
              "    };\n",
              "\n",
              "    // Use a chunked sending to avoid message size limits. See b/62115660.\n",
              "    let position = 0;\n",
              "    do {\n",
              "      const length = Math.min(fileData.byteLength - position, MAX_PAYLOAD_SIZE);\n",
              "      const chunk = new Uint8Array(fileData, position, length);\n",
              "      position += length;\n",
              "\n",
              "      const base64 = btoa(String.fromCharCode.apply(null, chunk));\n",
              "      yield {\n",
              "        response: {\n",
              "          action: 'append',\n",
              "          file: file.name,\n",
              "          data: base64,\n",
              "        },\n",
              "      };\n",
              "\n",
              "      let percentDone = fileData.byteLength === 0 ?\n",
              "          100 :\n",
              "          Math.round((position / fileData.byteLength) * 100);\n",
              "      percent.textContent = `${percentDone}% done`;\n",
              "\n",
              "    } while (position < fileData.byteLength);\n",
              "  }\n",
              "\n",
              "  // All done.\n",
              "  yield {\n",
              "    response: {\n",
              "      action: 'complete',\n",
              "    }\n",
              "  };\n",
              "}\n",
              "\n",
              "scope.google = scope.google || {};\n",
              "scope.google.colab = scope.google.colab || {};\n",
              "scope.google.colab._files = {\n",
              "  _uploadFiles,\n",
              "  _uploadFilesContinue,\n",
              "};\n",
              "})(self);\n",
              "</script> "
            ]
          },
          "metadata": {}
        },
        {
          "output_type": "stream",
          "name": "stdout",
          "text": [
            "Saving sem_12_task_6_12.xlsx to sem_12_task_6_12.xlsx\n",
            "Saving sem_12_task_6_11.xlsx to sem_12_task_6_11.xlsx\n",
            "Saving sem_12_task_6_10.xlsx to sem_12_task_6_10.xlsx\n",
            "Saving sem_12_task_6_9.xlsx to sem_12_task_6_9.xlsx\n",
            "Saving sem_12_task_6_8.xlsx to sem_12_task_6_8.xlsx\n",
            "Saving sem_12_task_6_7.xlsx to sem_12_task_6_7.xlsx\n",
            "Saving sem_12_task_6_6.xlsx to sem_12_task_6_6.xlsx\n",
            "Saving sem_12_task_6_5.xlsx to sem_12_task_6_5.xlsx\n",
            "Saving sem_12_task_6_4.xlsx to sem_12_task_6_4.xlsx\n",
            "Saving sem_12_task_6_3.xlsx to sem_12_task_6_3.xlsx\n",
            "Saving sem_12_task_6_2.xlsx to sem_12_task_6_2.xlsx\n",
            "Saving sem_12_task_6_1.xlsx to sem_12_task_6_1.xlsx\n",
            "Загружен файл sem_12_task_6_12.xlsx\n",
            "Загружен файл sem_12_task_6_11.xlsx\n",
            "Загружен файл sem_12_task_6_10.xlsx\n",
            "Загружен файл sem_12_task_6_9.xlsx\n",
            "Загружен файл sem_12_task_6_8.xlsx\n",
            "Загружен файл sem_12_task_6_7.xlsx\n",
            "Загружен файл sem_12_task_6_6.xlsx\n",
            "Загружен файл sem_12_task_6_5.xlsx\n",
            "Загружен файл sem_12_task_6_4.xlsx\n",
            "Загружен файл sem_12_task_6_3.xlsx\n",
            "Загружен файл sem_12_task_6_2.xlsx\n",
            "Загружен файл sem_12_task_6_1.xlsx\n"
          ]
        }
      ]
    },
    {
      "cell_type": "code",
      "source": [
        "from sympy import rad\n",
        "\n",
        "file_name = \"sem_10_task_3.xlsx\"\n",
        "rqz = pd.read_excel(file_name)\n",
        "\n",
        "res_1 = rqz.to_numpy()\n",
        "for x in res_1:\n",
        "  p = x[1]\n",
        "  q = x[2]\n",
        "  phi = rad(x[3])\n",
        "  display(x[0])\n",
        "  g = ( (p**2 + 2*p*q - 3)*M.i ) + ( Cos(phi)*M.j ) + ( (Sin(phi)**2)*M.k )\n",
        "  g_simplified = g.factor().trigsimp()\n",
        "  display(Latex(r\"\\text{g = }\" + \" = \".join(map(latex, (g, g_simplified)))))\n",
        "  display(Latex(fr\"\\text{{length = }}{latex(g_simplified.magnitude())}\"))\n",
        "  display(Latex(r\"\\\\\".join(map(\": \".join, zip(\n",
        "    (\"i\", \"j\", \"k\"),\n",
        "    map(latex, (axis.projection(g_simplified) for axis in (M.i, M.j, M.k)))\n",
        "  )))))\n",
        "  for coords in g.components.values():\n",
        "    display(coords)\n",
        "  print()"
      ],
      "metadata": {
        "colab": {
          "base_uri": "https://localhost:8080/",
          "height": 960
        },
        "id": "twDWuZJTuIXM",
        "outputId": "44563dec-e21b-4fb4-9d2d-17ccf78d4b05"
      },
      "execution_count": null,
      "outputs": [
        {
          "output_type": "display_data",
          "data": {
            "text/plain": [
              "'VectFirst'"
            ],
            "application/vnd.google.colaboratory.intrinsic+json": {
              "type": "string"
            }
          },
          "metadata": {}
        },
        {
          "output_type": "display_data",
          "data": {
            "text/plain": [
              "<IPython.core.display.Latex object>"
            ],
            "text/latex": "\\text{g = }\\left(2\\right)\\mathbf{\\hat{i}_{}} + \\left(\\frac{1}{2}\\right)\\mathbf{\\hat{j}_{}} + \\left(\\frac{3}{4}\\right)\\mathbf{\\hat{k}_{}} = \\left(2\\right)\\mathbf{\\hat{i}_{}} + \\left(\\frac{1}{2}\\right)\\mathbf{\\hat{j}_{}} + \\left(\\frac{3}{4}\\right)\\mathbf{\\hat{k}_{}}"
          },
          "metadata": {}
        },
        {
          "output_type": "display_data",
          "data": {
            "text/plain": [
              "<IPython.core.display.Latex object>"
            ],
            "text/latex": "\\text{length = }\\frac{\\sqrt{77}}{4}"
          },
          "metadata": {}
        },
        {
          "output_type": "display_data",
          "data": {
            "text/plain": [
              "<IPython.core.display.Latex object>"
            ],
            "text/latex": "i: \\left(2\\right)\\mathbf{\\hat{i}_{}}\\\\j: \\left(\\frac{1}{2}\\right)\\mathbf{\\hat{j}_{}}\\\\k: \\left(\\frac{3}{4}\\right)\\mathbf{\\hat{k}_{}}"
          },
          "metadata": {}
        },
        {
          "output_type": "display_data",
          "data": {
            "text/plain": [
              "2"
            ],
            "text/latex": "$\\displaystyle 2$"
          },
          "metadata": {}
        },
        {
          "output_type": "display_data",
          "data": {
            "text/plain": [
              "1/2"
            ],
            "text/latex": "$\\displaystyle \\frac{1}{2}$"
          },
          "metadata": {}
        },
        {
          "output_type": "display_data",
          "data": {
            "text/plain": [
              "3/4"
            ],
            "text/latex": "$\\displaystyle \\frac{3}{4}$"
          },
          "metadata": {}
        },
        {
          "output_type": "stream",
          "name": "stdout",
          "text": [
            "\n"
          ]
        },
        {
          "output_type": "display_data",
          "data": {
            "text/plain": [
              "'VectSecond'"
            ],
            "application/vnd.google.colaboratory.intrinsic+json": {
              "type": "string"
            }
          },
          "metadata": {}
        },
        {
          "output_type": "display_data",
          "data": {
            "text/plain": [
              "<IPython.core.display.Latex object>"
            ],
            "text/latex": "\\text{g = }\\left(5\\right)\\mathbf{\\hat{i}_{}} + \\left(\\frac{\\sqrt{2}}{2}\\right)\\mathbf{\\hat{j}_{}} + \\left(\\frac{1}{2}\\right)\\mathbf{\\hat{k}_{}} = \\left(5\\right)\\mathbf{\\hat{i}_{}} + \\left(\\frac{\\sqrt{2}}{2}\\right)\\mathbf{\\hat{j}_{}} + \\left(\\frac{1}{2}\\right)\\mathbf{\\hat{k}_{}}"
          },
          "metadata": {}
        },
        {
          "output_type": "display_data",
          "data": {
            "text/plain": [
              "<IPython.core.display.Latex object>"
            ],
            "text/latex": "\\text{length = }\\frac{\\sqrt{103}}{2}"
          },
          "metadata": {}
        },
        {
          "output_type": "display_data",
          "data": {
            "text/plain": [
              "<IPython.core.display.Latex object>"
            ],
            "text/latex": "i: \\left(5\\right)\\mathbf{\\hat{i}_{}}\\\\j: \\left(\\frac{\\sqrt{2}}{2}\\right)\\mathbf{\\hat{j}_{}}\\\\k: \\left(\\frac{1}{2}\\right)\\mathbf{\\hat{k}_{}}"
          },
          "metadata": {}
        },
        {
          "output_type": "display_data",
          "data": {
            "text/plain": [
              "5"
            ],
            "text/latex": "$\\displaystyle 5$"
          },
          "metadata": {}
        },
        {
          "output_type": "display_data",
          "data": {
            "text/plain": [
              "sqrt(2)/2"
            ],
            "text/latex": "$\\displaystyle \\frac{\\sqrt{2}}{2}$"
          },
          "metadata": {}
        },
        {
          "output_type": "display_data",
          "data": {
            "text/plain": [
              "1/2"
            ],
            "text/latex": "$\\displaystyle \\frac{1}{2}$"
          },
          "metadata": {}
        },
        {
          "output_type": "stream",
          "name": "stdout",
          "text": [
            "\n"
          ]
        },
        {
          "output_type": "display_data",
          "data": {
            "text/plain": [
              "'VectThird'"
            ],
            "application/vnd.google.colaboratory.intrinsic+json": {
              "type": "string"
            }
          },
          "metadata": {}
        },
        {
          "output_type": "display_data",
          "data": {
            "text/plain": [
              "<IPython.core.display.Latex object>"
            ],
            "text/latex": "\\text{g = }\\left(30\\right)\\mathbf{\\hat{i}_{}} + \\left(\\frac{\\sqrt{3}}{2}\\right)\\mathbf{\\hat{j}_{}} + \\left(\\frac{1}{4}\\right)\\mathbf{\\hat{k}_{}} = \\left(30\\right)\\mathbf{\\hat{i}_{}} + \\left(\\frac{\\sqrt{3}}{2}\\right)\\mathbf{\\hat{j}_{}} + \\left(\\frac{1}{4}\\right)\\mathbf{\\hat{k}_{}}"
          },
          "metadata": {}
        },
        {
          "output_type": "display_data",
          "data": {
            "text/plain": [
              "<IPython.core.display.Latex object>"
            ],
            "text/latex": "\\text{length = }\\frac{\\sqrt{14413}}{4}"
          },
          "metadata": {}
        },
        {
          "output_type": "display_data",
          "data": {
            "text/plain": [
              "<IPython.core.display.Latex object>"
            ],
            "text/latex": "i: \\left(30\\right)\\mathbf{\\hat{i}_{}}\\\\j: \\left(\\frac{\\sqrt{3}}{2}\\right)\\mathbf{\\hat{j}_{}}\\\\k: \\left(\\frac{1}{4}\\right)\\mathbf{\\hat{k}_{}}"
          },
          "metadata": {}
        },
        {
          "output_type": "display_data",
          "data": {
            "text/plain": [
              "30"
            ],
            "text/latex": "$\\displaystyle 30$"
          },
          "metadata": {}
        },
        {
          "output_type": "display_data",
          "data": {
            "text/plain": [
              "sqrt(3)/2"
            ],
            "text/latex": "$\\displaystyle \\frac{\\sqrt{3}}{2}$"
          },
          "metadata": {}
        },
        {
          "output_type": "display_data",
          "data": {
            "text/plain": [
              "1/4"
            ],
            "text/latex": "$\\displaystyle \\frac{1}{4}$"
          },
          "metadata": {}
        },
        {
          "output_type": "stream",
          "name": "stdout",
          "text": [
            "\n"
          ]
        },
        {
          "output_type": "display_data",
          "data": {
            "text/plain": [
              "'VectFourth'"
            ],
            "application/vnd.google.colaboratory.intrinsic+json": {
              "type": "string"
            }
          },
          "metadata": {}
        },
        {
          "output_type": "display_data",
          "data": {
            "text/plain": [
              "<IPython.core.display.Latex object>"
            ],
            "text/latex": "\\text{g = }\\left(82\\right)\\mathbf{\\hat{i}_{}} + \\mathbf{\\hat{k}_{}} = \\left(82\\right)\\mathbf{\\hat{i}_{}} + \\mathbf{\\hat{k}_{}}"
          },
          "metadata": {}
        },
        {
          "output_type": "display_data",
          "data": {
            "text/plain": [
              "<IPython.core.display.Latex object>"
            ],
            "text/latex": "\\text{length = }5 \\sqrt{269}"
          },
          "metadata": {}
        },
        {
          "output_type": "display_data",
          "data": {
            "text/plain": [
              "<IPython.core.display.Latex object>"
            ],
            "text/latex": "i: \\left(82\\right)\\mathbf{\\hat{i}_{}}\\\\j: \\mathbf{\\hat{0}}\\\\k: \\mathbf{\\hat{k}_{}}"
          },
          "metadata": {}
        },
        {
          "output_type": "display_data",
          "data": {
            "text/plain": [
              "82"
            ],
            "text/latex": "$\\displaystyle 82$"
          },
          "metadata": {}
        },
        {
          "output_type": "display_data",
          "data": {
            "text/plain": [
              "1"
            ],
            "text/latex": "$\\displaystyle 1$"
          },
          "metadata": {}
        },
        {
          "output_type": "stream",
          "name": "stdout",
          "text": [
            "\n"
          ]
        }
      ]
    },
    {
      "cell_type": "markdown",
      "metadata": {
        "id": "nOqai9ifCclj"
      },
      "source": [
        "### Задание  4\n",
        "Преобразовать матрицу $\\left(\\begin{matrix}-q\\\\ p\\\\ q + p\\end{matrix}\\right)$ в вектор в безымянной системе координат.\n",
        "\n",
        "Вывести на экран матрицу и ее представление в системе координат, а затем вывести векторное представление при $q$ и $p$ из Задания 3 на отдельных строках (использовать цикл, пар $q$ и $p$ столько, сколько векторов в файле Задания 3)."
      ]
    },
    {
      "cell_type": "code",
      "metadata": {
        "id": "5_vhxcIcCclj",
        "colab": {
          "base_uri": "https://localhost:8080/",
          "height": 125
        },
        "outputId": "cd37b055-a1f2-4ece-deda-b1b78976c68e"
      },
      "source": [
        "p,q = symbols('p q')\n",
        "A = Matrix((-q, p, q+p))\n",
        "display()\n",
        "display(matrix_to_vector(A, CoordSys3D('')))\n",
        "for x in res_1:\n",
        "  display(matrix_to_vector(A.subs({p : x[1], q:x[2]}), CoordSys3D(\"\")))\n"
      ],
      "execution_count": null,
      "outputs": [
        {
          "output_type": "display_data",
          "data": {
            "text/plain": [
              "(-q)*.i + p*.j + (p + q)*.k"
            ],
            "text/latex": "$\\displaystyle \\left(- q\\right)\\mathbf{\\hat{i}_{}} + \\left(p\\right)\\mathbf{\\hat{j}_{}} + \\left(p + q\\right)\\mathbf{\\hat{k}_{}}$"
          },
          "metadata": {}
        },
        {
          "output_type": "display_data",
          "data": {
            "text/plain": [
              "(-2)*.i + .j + 3*.k"
            ],
            "text/latex": "$\\displaystyle \\left(-2\\right)\\mathbf{\\hat{i}_{}} + \\mathbf{\\hat{j}_{}} + \\left(3\\right)\\mathbf{\\hat{k}_{}}$"
          },
          "metadata": {}
        },
        {
          "output_type": "display_data",
          "data": {
            "text/plain": [
              "(-1)*.i + 2*.j + 3*.k"
            ],
            "text/latex": "$\\displaystyle - \\mathbf{\\hat{i}_{}} + \\left(2\\right)\\mathbf{\\hat{j}_{}} + \\left(3\\right)\\mathbf{\\hat{k}_{}}$"
          },
          "metadata": {}
        },
        {
          "output_type": "display_data",
          "data": {
            "text/plain": [
              "(-4)*.i + 3*.j + 7*.k"
            ],
            "text/latex": "$\\displaystyle \\left(-4\\right)\\mathbf{\\hat{i}_{}} + \\left(3\\right)\\mathbf{\\hat{j}_{}} + \\left(7\\right)\\mathbf{\\hat{k}_{}}$"
          },
          "metadata": {}
        },
        {
          "output_type": "display_data",
          "data": {
            "text/plain": [
              "(-6)*.i + 5*.j + 11*.k"
            ],
            "text/latex": "$\\displaystyle \\left(-6\\right)\\mathbf{\\hat{i}_{}} + \\left(5\\right)\\mathbf{\\hat{j}_{}} + \\left(11\\right)\\mathbf{\\hat{k}_{}}$"
          },
          "metadata": {}
        }
      ]
    },
    {
      "cell_type": "markdown",
      "source": [
        "### Задание 5*.\n",
        "Описать функцию new_cs_rotate с обязательными аргументами cs (старая система координат) и vect (вектор в системе cs) и необязательным аргументом angle - углом поворота системы координат **относительно оси $j$** против часовой стрелки (в радианах, по умолчанию 0). Функция возвращает матрицу поворота, вектор в новой системе координат в векторном и матричном виде (кортеж из 3 элементов).\n",
        "\n",
        "Для тестирования функции ввести систему координат  $M5$ и вектор с координатами (1, -2, 5). С помощью функции получить представления этого вектора в новой системе координат, которая получается поворотом  на угол $\\pi/4$ относительно оси $j$ против и по часовой стрелке.\n",
        "\n",
        "Вывести на экран вектор $b5$ в старой системе координат $M$, в новой системе и матрицу поворота (два случая поворота - по и против часовой стрелки!)."
      ],
      "metadata": {
        "id": "1jDe-KFw2e2c"
      }
    },
    {
      "cell_type": "code",
      "source": [
        "def new_cs_rotate(cs, vect, angle=0):\n",
        "\n",
        "\n",
        "    new_cs = cs.orient_new_axis('new', angle, cs.j)  # ось j всегда cs.j\n",
        "    r_mat = cs.rotation_matrix(new_cs)\n",
        "    new_vect = vect.to_matrix(new_cs)\n",
        "    new_mat = matrix_to_vector(new_vect, new_cs)\n",
        "    return r_mat, new_vect, new_mat\n",
        "\n",
        "\n",
        "\n",
        "M5 = CoordSys3D('M5')\n",
        "b5 = M5.i - 2*M5.j + 5*M5.k\n",
        "angle = sympy.pi / 4\n",
        "display(b5)\n",
        "print()\n",
        "for x in new_cs_rotate(M5, b5, angle):\n",
        "  display(x)\n",
        "print()\n",
        "for x in new_cs_rotate(M5, b5, -angle):\n",
        "  display(x)"
      ],
      "metadata": {
        "id": "W3Rl3nqT5J6Q",
        "colab": {
          "base_uri": "https://localhost:8080/",
          "height": 403
        },
        "outputId": "d430f5d9-5c1e-46ed-a4c3-d6edff6cf539"
      },
      "execution_count": null,
      "outputs": [
        {
          "output_type": "display_data",
          "data": {
            "text/plain": [
              "M5.i + (-2)*M5.j + 5*M5.k"
            ],
            "text/latex": "$\\displaystyle \\mathbf{\\hat{i}_{M5}} + \\left(-2\\right)\\mathbf{\\hat{j}_{M5}} + \\left(5\\right)\\mathbf{\\hat{k}_{M5}}$"
          },
          "metadata": {}
        },
        {
          "output_type": "stream",
          "name": "stdout",
          "text": [
            "\n"
          ]
        },
        {
          "output_type": "display_data",
          "data": {
            "text/plain": [
              "Matrix([\n",
              "[ sqrt(2)/2, 0, sqrt(2)/2],\n",
              "[         0, 1,         0],\n",
              "[-sqrt(2)/2, 0, sqrt(2)/2]])"
            ],
            "text/latex": "$\\displaystyle \\left[\\begin{matrix}\\frac{\\sqrt{2}}{2} & 0 & \\frac{\\sqrt{2}}{2}\\\\0 & 1 & 0\\\\- \\frac{\\sqrt{2}}{2} & 0 & \\frac{\\sqrt{2}}{2}\\end{matrix}\\right]$"
          },
          "metadata": {}
        },
        {
          "output_type": "display_data",
          "data": {
            "text/plain": [
              "Matrix([\n",
              "[-2*sqrt(2)],\n",
              "[        -2],\n",
              "[ 3*sqrt(2)]])"
            ],
            "text/latex": "$\\displaystyle \\left[\\begin{matrix}- 2 \\sqrt{2}\\\\-2\\\\3 \\sqrt{2}\\end{matrix}\\right]$"
          },
          "metadata": {}
        },
        {
          "output_type": "display_data",
          "data": {
            "text/plain": [
              "(-2*sqrt(2))*new.i + (-2)*new.j + (3*sqrt(2))*new.k"
            ],
            "text/latex": "$\\displaystyle \\left(- 2 \\sqrt{2}\\right)\\mathbf{\\hat{i}_{new}} + \\left(-2\\right)\\mathbf{\\hat{j}_{new}} + \\left(3 \\sqrt{2}\\right)\\mathbf{\\hat{k}_{new}}$"
          },
          "metadata": {}
        },
        {
          "output_type": "stream",
          "name": "stdout",
          "text": [
            "\n"
          ]
        },
        {
          "output_type": "display_data",
          "data": {
            "text/plain": [
              "Matrix([\n",
              "[sqrt(2)/2, 0, -sqrt(2)/2],\n",
              "[        0, 1,          0],\n",
              "[sqrt(2)/2, 0,  sqrt(2)/2]])"
            ],
            "text/latex": "$\\displaystyle \\left[\\begin{matrix}\\frac{\\sqrt{2}}{2} & 0 & - \\frac{\\sqrt{2}}{2}\\\\0 & 1 & 0\\\\\\frac{\\sqrt{2}}{2} & 0 & \\frac{\\sqrt{2}}{2}\\end{matrix}\\right]$"
          },
          "metadata": {}
        },
        {
          "output_type": "display_data",
          "data": {
            "text/plain": [
              "Matrix([\n",
              "[3*sqrt(2)],\n",
              "[       -2],\n",
              "[2*sqrt(2)]])"
            ],
            "text/latex": "$\\displaystyle \\left[\\begin{matrix}3 \\sqrt{2}\\\\-2\\\\2 \\sqrt{2}\\end{matrix}\\right]$"
          },
          "metadata": {}
        },
        {
          "output_type": "display_data",
          "data": {
            "text/plain": [
              "(3*sqrt(2))*new.i + (-2)*new.j + (2*sqrt(2))*new.k"
            ],
            "text/latex": "$\\displaystyle \\left(3 \\sqrt{2}\\right)\\mathbf{\\hat{i}_{new}} + \\left(-2\\right)\\mathbf{\\hat{j}_{new}} + \\left(2 \\sqrt{2}\\right)\\mathbf{\\hat{k}_{new}}$"
          },
          "metadata": {}
        }
      ]
    },
    {
      "cell_type": "markdown",
      "metadata": {
        "id": "wsupzWmVCclk"
      },
      "source": [
        "### Задание 6.\n",
        "Вектор $a\\_vect(3, -4, 2)$ задан в безымянной системе координат  M.\n",
        "\n",
        "Вывести на экран матричные представления вектора $a\\_vect$ в\n",
        "системе координат, полученной из   M поворотом на $2\\phi$ **по** часовой стрелке относительно оси, определяемой вектором $(p + q, pq, p^2)$ ($\\phi$, $p$, $q$ из Задания 3). Выразить вектор $a\\_vect$ в каждой новой системе координат и вывести **координаты** вектора на экран."
      ]
    },
    {
      "cell_type": "code",
      "metadata": {
        "id": "vbYoiHz8Ccll",
        "colab": {
          "base_uri": "https://localhost:8080/",
          "height": 534
        },
        "outputId": "c752e181-283e-41f8-f0b2-a26682f1f374"
      },
      "source": [
        "M = CoordSys3D('')\n",
        "a_vect = 3*M.i - 4*M.j + 2*M.k\n",
        "\n",
        "for x in res_1:\n",
        "  p = x[1]\n",
        "  q = x[2]\n",
        "  phi = rad(x[3])\n",
        "  new_M = M.orient_new_axis(name = 'new', angle =2*phi, axis = (p+q)*M.i + p*q*M.j + p*p*M.k )\n",
        "  new_a = express(a_vect, new_M)\n",
        "  for x in new_a.components.values():\n",
        "    display(x)\n",
        "  print()"
      ],
      "execution_count": null,
      "outputs": [
        {
          "output_type": "display_data",
          "data": {
            "text/plain": [
              "-2*sqrt(42)/7 - 15/28"
            ],
            "text/latex": "$\\displaystyle - \\frac{2 \\sqrt{42}}{7} - \\frac{15}{28}$"
          },
          "metadata": {}
        },
        {
          "output_type": "display_data",
          "data": {
            "text/plain": [
              "3*sqrt(42)/28 + 37/14"
            ],
            "text/latex": "$\\displaystyle \\frac{3 \\sqrt{42}}{28} + \\frac{37}{14}$"
          },
          "metadata": {}
        },
        {
          "output_type": "display_data",
          "data": {
            "text/plain": [
              "-19/28 + 9*sqrt(42)/14"
            ],
            "text/latex": "$\\displaystyle - \\frac{19}{28} + \\frac{9 \\sqrt{42}}{14}$"
          },
          "metadata": {}
        },
        {
          "output_type": "stream",
          "name": "stdout",
          "text": [
            "\n"
          ]
        },
        {
          "output_type": "display_data",
          "data": {
            "text/plain": [
              "27/29 - 20*sqrt(29)/29"
            ],
            "text/latex": "$\\displaystyle \\frac{27}{29} - \\frac{20 \\sqrt{29}}{29}$"
          },
          "metadata": {}
        },
        {
          "output_type": "display_data",
          "data": {
            "text/plain": [
              "18/29 - 6*sqrt(29)/29"
            ],
            "text/latex": "$\\displaystyle \\frac{18}{29} - \\frac{6 \\sqrt{29}}{29}$"
          },
          "metadata": {}
        },
        {
          "output_type": "display_data",
          "data": {
            "text/plain": [
              "36/29 + 18*sqrt(29)/29"
            ],
            "text/latex": "$\\displaystyle \\frac{36}{29} + \\frac{18 \\sqrt{29}}{29}$"
          },
          "metadata": {}
        },
        {
          "output_type": "stream",
          "name": "stdout",
          "text": [
            "\n"
          ]
        },
        {
          "output_type": "display_data",
          "data": {
            "text/plain": [
              "759/548 - 15*sqrt(822)/137"
            ],
            "text/latex": "$\\displaystyle \\frac{759}{548} - \\frac{15 \\sqrt{822}}{137}$"
          },
          "metadata": {}
        },
        {
          "output_type": "display_data",
          "data": {
            "text/plain": [
              "-301/137 - 13*sqrt(822)/548"
            ],
            "text/latex": "$\\displaystyle - \\frac{301}{137} - \\frac{13 \\sqrt{822}}{548}$"
          },
          "metadata": {}
        },
        {
          "output_type": "display_data",
          "data": {
            "text/plain": [
              "467/548 + 16*sqrt(822)/137"
            ],
            "text/latex": "$\\displaystyle \\frac{467}{548} + \\frac{16 \\sqrt{822}}{137}$"
          },
          "metadata": {}
        },
        {
          "output_type": "stream",
          "name": "stdout",
          "text": [
            "\n"
          ]
        },
        {
          "output_type": "display_data",
          "data": {
            "text/plain": [
              "-2876/823"
            ],
            "text/latex": "$\\displaystyle - \\frac{2876}{823}$"
          },
          "metadata": {}
        },
        {
          "output_type": "display_data",
          "data": {
            "text/plain": [
              "2182/823"
            ],
            "text/latex": "$\\displaystyle \\frac{2182}{823}$"
          },
          "metadata": {}
        },
        {
          "output_type": "display_data",
          "data": {
            "text/plain": [
              "-2571/823"
            ],
            "text/latex": "$\\displaystyle - \\frac{2571}{823}$"
          },
          "metadata": {}
        },
        {
          "output_type": "stream",
          "name": "stdout",
          "text": [
            "\n"
          ]
        }
      ]
    },
    {
      "cell_type": "markdown",
      "source": [
        "### Задание 7*.\n",
        "Описать функцию func7 от аргумента phi (угол в радианах). Функция возвращает полученную с помощью метода magnitude длину вектора $vect(\\sin(\\phi),\\ \\cos(\\phi),\\ \\sin(\\phi) + 3\\cos(\\phi))$. При помощи lambdify построить функцию func7np (двойник этой функции  для использования с numpy). Использовать func7np для построения графика зависимости длины вектора vect от phi при phi от 0 до 4 с шагом 0.1."
      ],
      "metadata": {
        "id": "q74vpvHEJiva"
      }
    },
    {
      "cell_type": "code",
      "source": [
        "def func7(phi):\n",
        "  M = CoordSys3D('')\n",
        "  vect = Sin(phi)*M.i + Cos(phi)*M.j + (Sin(phi) + 3*Cos(phi))*M.k\n",
        "  return vect.magnitude()\n",
        "\n",
        "phi = Symbol('φ')\n",
        "func7np = lambdify(phi, func7(phi), 'numpy')\n",
        "\n",
        "phi_values = np.arange(0, 4, 0.1)\n",
        "\n",
        "magnitude_values = func7np(phi_values)\n",
        "\n",
        "plt.plot(phi_values, magnitude_values)\n",
        "plt.xlabel('phi (радианы)')\n",
        "plt.ylabel('Длина вектора')\n",
        "plt.title('Зависимость длины вектора от phi')\n",
        "plt.grid(True)\n",
        "plt.show()"
      ],
      "metadata": {
        "id": "BsLSovZXQR8w",
        "colab": {
          "base_uri": "https://localhost:8080/",
          "height": 472
        },
        "outputId": "be1d066f-613b-4ea1-aa68-ced9085a2172"
      },
      "execution_count": null,
      "outputs": [
        {
          "output_type": "display_data",
          "data": {
            "text/plain": [
              "<Figure size 640x480 with 1 Axes>"
            ],
            "image/png": "[encoded data removed]"
          },
          "metadata": {}
        }
      ]
    },
    {
      "cell_type": "markdown",
      "metadata": {
        "id": "LVIOHcc0Ccll"
      },
      "source": [
        "### Индивидуальное задание.\n",
        "Ввести безымянную систему координат XYZ, задать в ней векторы $v_1$ и $v_2$. Построить новую систему координат XYZ1 с именем Name поворотом  XYZ на $\\alpha$ по часовой стрелке (или против) относительно оси, определяемой вектором $b$, выразить векторы $v_1$ и $v_2$ в новой системе координат. Найти скалярное и векторное произведение векторов в новой и старой системе координат. Выразить вектор, равный векторному произведению $v_1$ и $v_2$ в старой системе координат через новую систему координат, сравнить с векторным произведением $v_1$ и $v_2$, выраженных в новой системе координат."
      ]
    },
    {
      "cell_type": "code",
      "source": [
        "XYZ = CoordSys3D('')\n",
        "i, j, k = XYZ.i, XYZ.j, XYZ.k\n",
        "v1 = 5*i - 3*j + 9*k\n",
        "v2 = 7*i - 4*j - 7*k\n",
        "XYZ1 = XYZ.orient_new_axis(name=\"n\", angle=-Pi/3, axis=9*i - 8*j)\n",
        "v1_XYZ1 = sympy.simplify(express(v1, XYZ1))\n",
        "v2_XYZ1 = sympy.simplify(express(v2, XYZ1))\n",
        "v3 = sympy.simplify(v1 ^ v2)\n",
        "v3_XYZ1 = sympy.simplify(v1_XYZ1 ^ v2_XYZ1)\n",
        "v3_XYZ1_expressed = sympy.simplify(express(v3, XYZ1))\n",
        "display(v3_XYZ1, v3_XYZ1_expressed)"
      ],
      "metadata": {
        "colab": {
          "base_uri": "https://localhost:8080/",
          "height": 119
        },
        "id": "yBieuf7uyQFL",
        "outputId": "7975940e-4d8b-4723-ec9f-6c20df9b9327"
      },
      "execution_count": null,
      "outputs": [
        {
          "output_type": "display_data",
          "data": {
            "text/plain": [
              "(2913/145 - 4*sqrt(435)/145)*n.i + (8189/145 - 9*sqrt(435)/290)*n.j + (1/2 + 669*sqrt(435)/145)*n.k"
            ],
            "text/latex": "$\\displaystyle \\left(\\frac{2913}{145} - \\frac{4 \\sqrt{435}}{145}\\right)\\mathbf{\\hat{i}_{n}} + \\left(\\frac{8189}{145} - \\frac{9 \\sqrt{435}}{290}\\right)\\mathbf{\\hat{j}_{n}} + \\left(\\frac{1}{2} + \\frac{669 \\sqrt{435}}{145}\\right)\\mathbf{\\hat{k}_{n}}$"
          },
          "metadata": {}
        },
        {
          "output_type": "display_data",
          "data": {
            "text/plain": [
              "(2913/145 - 4*sqrt(435)/145)*n.i + (8189/145 - 9*sqrt(435)/290)*n.j + (1/2 + 669*sqrt(435)/145)*n.k"
            ],
            "text/latex": "$\\displaystyle \\left(\\frac{2913}{145} - \\frac{4 \\sqrt{435}}{145}\\right)\\mathbf{\\hat{i}_{n}} + \\left(\\frac{8189}{145} - \\frac{9 \\sqrt{435}}{290}\\right)\\mathbf{\\hat{j}_{n}} + \\left(\\frac{1}{2} + \\frac{669 \\sqrt{435}}{145}\\right)\\mathbf{\\hat{k}_{n}}$"
          },
          "metadata": {}
        }
      ]
    }
  ]
}