{
  "nbformat": 4,
  "nbformat_minor": 0,
  "metadata": {
    "kernelspec": {
      "display_name": "Python 3",
      "language": "python",
      "name": "python3"
    },
    "language_info": {
      "codemirror_mode": {
        "name": "ipython",
        "version": 3
      },
      "file_extension": ".py",
      "mimetype": "text/x-python",
      "name": "python",
      "nbconvert_exporter": "python",
      "pygments_lexer": "ipython3",
      "version": "3.7.3"
    },
    "colab": {
      "provenance": []
    }
  },
  "cells": [
    {
      "cell_type": "code",
      "metadata": {
        "id": "QY7PEiuD9ZGw"
      },
      "source": [
        "import sympy\n",
        "from sympy import  Matrix, symbols, latex\n",
        "from sympy.vector import Vector, matrix_to_vector, AxisOrienter, express\n",
        "from IPython.display import Latex"
      ],
      "execution_count": 1,
      "outputs": []
    },
    {
      "cell_type": "markdown",
      "metadata": {
        "id": "1t_n8ReV9ZG8"
      },
      "source": [
        "# Практическое занятие 10\n",
        "# Компьютерный практикум по алгебре на Python\n",
        "## Векторы\n",
        "Вектор в линейном пространстве можно представить в виде линейной комбинации базисных векторов. В случае декартовой системы координат (с ортогональной ортонормированной системой базисных векторов) коэффициенты такой линейной комбинации - координаты вектора. Т.к. представление вектора неразрывно связано с координатной системой, то в sympy для работы с векторами необходимо прежде всего ввести систему координат.\n",
        "\n",
        "Система координат трехмерного пространства вводится так:"
      ]
    },
    {
      "cell_type": "code",
      "metadata": {
        "id": "U7y2Yx9k9ZG9",
        "outputId": "fb0b5c64-1eac-465d-cebc-8eea98d00185",
        "colab": {
          "base_uri": "https://localhost:8080/",
          "height": 78
        }
      },
      "source": [
        "from sympy.vector import CoordSys3D\n",
        "N = CoordSys3D('N')\n",
        "display(N)"
      ],
      "execution_count": 2,
      "outputs": [
        {
          "output_type": "display_data",
          "data": {
            "text/plain": [
              "N"
            ],
            "text/latex": "$\\displaystyle \\operatorname{CoordSys3D}\\left(N, \\left( \\left[\\begin{matrix}1 & 0 & 0\\\\0 & 1 & 0\\\\0 & 0 & 1\\end{matrix}\\right], \\  \\mathbf{\\hat{0}}\\right)\\right)$"
          },
          "metadata": {}
        }
      ]
    },
    {
      "cell_type": "markdown",
      "metadata": {
        "id": "H7GMfUea9ZG_"
      },
      "source": [
        "Имя 'N' используется для в основном для выведения на печать, математический смысл ему не придается.\n",
        "\n",
        "Введя систему кооринат, мы получаем доступ к ее ортам (ортонормированным базисным векторам):"
      ]
    },
    {
      "cell_type": "code",
      "metadata": {
        "id": "1x9s7vvm9ZG_",
        "outputId": "aae0abe9-bba5-4ebd-9861-0d79cc7e806c",
        "colab": {
          "base_uri": "https://localhost:8080/",
          "height": 38
        }
      },
      "source": [
        "display(Latex(',\\ '.join((latex(item) for item in (N.i,\n",
        "                                                   N.j, N.k,\n",
        "                                                   2 * N.i + 3 * N.j - 5 * N.k)))))"
      ],
      "execution_count": 3,
      "outputs": [
        {
          "output_type": "display_data",
          "data": {
            "text/plain": [
              "<IPython.core.display.Latex object>"
            ],
            "text/latex": "\\mathbf{\\hat{i}_{N}},\\ \\mathbf{\\hat{j}_{N}},\\ \\mathbf{\\hat{k}_{N}},\\ \\left(2\\right)\\mathbf{\\hat{i}_{N}} + \\left(3\\right)\\mathbf{\\hat{j}_{N}} + \\left(-5\\right)\\mathbf{\\hat{k}_{N}}"
          },
          "metadata": {}
        }
      ]
    },
    {
      "cell_type": "markdown",
      "metadata": {
        "id": "QrGKg_Yr9ZHA"
      },
      "source": [
        "Для выведения на экран всех этих математических объектов был использован генератор, создающий представление математического объекта в виде текста формулы в Latex, этот генератор использован в методе join класса str. Напомним, что экземпляр строкового типа, к которому применяется метод  join (в нашем случае ',\\ ') используется в качестве разделителя элементов перечислимого типа, являющегося аргументом  join.\n",
        "\n",
        "Альтернативный способ выведения на экран нескольких математических объектов в строку через разделитель заключается в использовании map-объекта. Как и генератор, map-объект это одноразовая сущность, после первого применения он исчерпан, поэтому не имеет смысл запоминать такой объект в переменную."
      ]
    },
    {
      "cell_type": "code",
      "source": [
        "display(Latex(',\\ '.join(map(latex, (N.i, N.j, N.k, 2 * N.i + 3 * N.j - 5 * N.k)))))"
      ],
      "metadata": {
        "colab": {
          "base_uri": "https://localhost:8080/",
          "height": 38
        },
        "id": "MulJwPB5aUka",
        "outputId": "300863ff-35d7-44d2-edcb-4b07f9bba3a9"
      },
      "execution_count": 4,
      "outputs": [
        {
          "output_type": "display_data",
          "data": {
            "text/plain": [
              "<IPython.core.display.Latex object>"
            ],
            "text/latex": "\\mathbf{\\hat{i}_{N}},\\ \\mathbf{\\hat{j}_{N}},\\ \\mathbf{\\hat{k}_{N}},\\ \\left(2\\right)\\mathbf{\\hat{i}_{N}} + \\left(3\\right)\\mathbf{\\hat{j}_{N}} + \\left(-5\\right)\\mathbf{\\hat{k}_{N}}"
          },
          "metadata": {}
        }
      ]
    },
    {
      "cell_type": "markdown",
      "source": [
        "Можно вывести на экран пары из выражения в программе и его отображения на экране:"
      ],
      "metadata": {
        "id": "x1traRdfiKbc"
      }
    },
    {
      "cell_type": "code",
      "source": [
        "display(Latex(',\\ '.join(map(latex,\n",
        "                             zip(('N.i', 'N.j', 'N.k', '2N.i + 3N.j - 5N.k'),\n",
        "                                 (N.i, N.j, N.k, 2 * N.i + 3 * N.j - 5 * N.k))))))"
      ],
      "metadata": {
        "colab": {
          "base_uri": "https://localhost:8080/",
          "height": 47
        },
        "id": "vp7fTA1BfFH2",
        "outputId": "ee734d60-7a15-4a09-ad9c-b2471debee0f"
      },
      "execution_count": 5,
      "outputs": [
        {
          "output_type": "display_data",
          "data": {
            "text/plain": [
              "<IPython.core.display.Latex object>"
            ],
            "text/latex": "\\left( \\mathtt{\\text{N.i}}, \\  \\mathbf{\\hat{i}_{N}}\\right),\\ \\left( \\mathtt{\\text{N.j}}, \\  \\mathbf{\\hat{j}_{N}}\\right),\\ \\left( \\mathtt{\\text{N.k}}, \\  \\mathbf{\\hat{k}_{N}}\\right),\\ \\left( \\mathtt{\\text{2N.i + 3N.j - 5N.k}}, \\  \\left(2\\right)\\mathbf{\\hat{i}_{N}} + \\left(3\\right)\\mathbf{\\hat{j}_{N}} + \\left(-5\\right)\\mathbf{\\hat{k}_{N}}\\right)"
          },
          "metadata": {}
        }
      ]
    },
    {
      "cell_type": "markdown",
      "source": [
        "здесь использован zip-объект, соединяющий поэлементно итерируемые аргументы, он тоже одноразовый, как map-объект.\n",
        "\n",
        "Еще один вариант:"
      ],
      "metadata": {
        "id": "rb-1awcUiZhx"
      }
    },
    {
      "cell_type": "code",
      "source": [
        "display(Latex(',\\ '.join(map(':\\ '.join,\n",
        "                             zip(('N_i', 'N_j', 'N_k', '2N_i + 3N_j - 5N_k'),\n",
        "                                 map(latex, (N.i, N.j, N.k, 2 * N.i + 3 * N.j - 5 * N.k)))))))"
      ],
      "metadata": {
        "colab": {
          "base_uri": "https://localhost:8080/",
          "height": 40
        },
        "id": "WknphQSUgLxS",
        "outputId": "1e72aa6e-a4fc-47e9-b4da-5a2df7787acb"
      },
      "execution_count": 6,
      "outputs": [
        {
          "output_type": "display_data",
          "data": {
            "text/plain": [
              "<IPython.core.display.Latex object>"
            ],
            "text/latex": "N_i:\\ \\mathbf{\\hat{i}_{N}},\\ N_j:\\ \\mathbf{\\hat{j}_{N}},\\ N_k:\\ \\mathbf{\\hat{k}_{N}},\\ 2N_i + 3N_j - 5N_k:\\ \\left(2\\right)\\mathbf{\\hat{i}_{N}} + \\left(3\\right)\\mathbf{\\hat{j}_{N}} + \\left(-5\\right)\\mathbf{\\hat{k}_{N}}"
          },
          "metadata": {}
        }
      ]
    },
    {
      "cell_type": "markdown",
      "source": [
        "здесь из каждой пары имя-значение составили с помощью ':\\ '.join строку, а затем все такие строки соединили в одну с помощью ',\\ '.join."
      ],
      "metadata": {
        "id": "oRod3z6XjLSa"
      }
    },
    {
      "cell_type": "markdown",
      "source": [
        "#Скалярное и векторное произведение\n",
        "В классе векторов есть методы dot (скалярное произведение) и cross (векторное произведение).\n",
        "\n",
        "Нам также понадобится **нулевой вектор** Vector.zero:"
      ],
      "metadata": {
        "id": "UxObJawRaWh4"
      }
    },
    {
      "cell_type": "code",
      "metadata": {
        "id": "nlfo6loB9ZHA",
        "outputId": "530ce072-bfe1-42d1-966f-1bfb6178ffaf",
        "colab": {
          "base_uri": "https://localhost:8080/",
          "height": 38
        }
      },
      "source": [
        "Vector.zero"
      ],
      "execution_count": 7,
      "outputs": [
        {
          "output_type": "execute_result",
          "data": {
            "text/plain": [
              "0"
            ],
            "text/latex": "$\\displaystyle \\mathbf{\\hat{0}}$"
          },
          "metadata": {},
          "execution_count": 7
        }
      ]
    },
    {
      "cell_type": "markdown",
      "metadata": {
        "id": "dw3GeCYK9ZHB"
      },
      "source": [
        "### Пример 1.\n",
        "Найти скалярное и векторное произведение векторов $a(-1, 3, 7)$ и $b(9, -2, 2)$.\n",
        "\n",
        "Зададим векторы в линейных комбинаций ортов, затем воспользуемся dot (скалярное произведение) и cross (векторное произведение):"
      ]
    },
    {
      "cell_type": "code",
      "metadata": {
        "id": "2aIHdIW89ZHB",
        "outputId": "3354a70b-61c8-4cb7-99a7-80c018b00176",
        "colab": {
          "base_uri": "https://localhost:8080/",
          "height": 80
        }
      },
      "source": [
        "a = -N.i + 3 * N.j + 7 * N.k\n",
        "b = 9 * N.i - 2 * N.j + 2 * N.k\n",
        "display(a.dot(b), a.cross(b), b.cross(a))"
      ],
      "execution_count": 8,
      "outputs": [
        {
          "output_type": "display_data",
          "data": {
            "text/plain": [
              "-1"
            ],
            "text/latex": "$\\displaystyle -1$"
          },
          "metadata": {}
        },
        {
          "output_type": "display_data",
          "data": {
            "text/plain": [
              "20*N.i + 65*N.j + (-25)*N.k"
            ],
            "text/latex": "$\\displaystyle \\left(20\\right)\\mathbf{\\hat{i}_{N}} + \\left(65\\right)\\mathbf{\\hat{j}_{N}} + \\left(-25\\right)\\mathbf{\\hat{k}_{N}}$"
          },
          "metadata": {}
        },
        {
          "output_type": "display_data",
          "data": {
            "text/plain": [
              "(-20)*N.i + (-65)*N.j + 25*N.k"
            ],
            "text/latex": "$\\displaystyle \\left(-20\\right)\\mathbf{\\hat{i}_{N}} + \\left(-65\\right)\\mathbf{\\hat{j}_{N}} + \\left(25\\right)\\mathbf{\\hat{k}_{N}}$"
          },
          "metadata": {}
        }
      ]
    },
    {
      "cell_type": "markdown",
      "source": [
        "Для более информативного вывода можно воспользоваться строковым методом format, подставив в качестве аргументов распакованный map-объект, производящий представления в виде формулы в Latex для a.dot(b), a.cross(b), b.cross(a)"
      ],
      "metadata": {
        "id": "v_JehkBom9VU"
      }
    },
    {
      "cell_type": "code",
      "source": [
        "display(Latex(\"\"\"a\\\\cdot b = {0},\\ a\\\\times b = {1},\n",
        "\\ b\\\\times a = {2}\"\"\".format(*map(latex, (a.dot(b), a.cross(b), b.cross(a))))))"
      ],
      "metadata": {
        "colab": {
          "base_uri": "https://localhost:8080/",
          "height": 40
        },
        "id": "qpnL1IDal7Gs",
        "outputId": "df6058aa-41f9-458b-9d67-63bb109a4160"
      },
      "execution_count": 9,
      "outputs": [
        {
          "output_type": "display_data",
          "data": {
            "text/plain": [
              "<IPython.core.display.Latex object>"
            ],
            "text/latex": "a\\cdot b = -1,\\ a\\times b = \\left(20\\right)\\mathbf{\\hat{i}_{N}} + \\left(65\\right)\\mathbf{\\hat{j}_{N}} + \\left(-25\\right)\\mathbf{\\hat{k}_{N}},\n\\ b\\times a = \\left(-20\\right)\\mathbf{\\hat{i}_{N}} + \\left(-65\\right)\\mathbf{\\hat{j}_{N}} + \\left(25\\right)\\mathbf{\\hat{k}_{N}}"
          },
          "metadata": {}
        }
      ]
    },
    {
      "cell_type": "markdown",
      "metadata": {
        "id": "Cf10q3W09ZHB"
      },
      "source": [
        "Для того, чтобы имя системы координат не отражалось индексами ортов, введем безымянную систему координат:"
      ]
    },
    {
      "cell_type": "code",
      "metadata": {
        "id": "ujv9x4Je9ZHC",
        "outputId": "d66448c9-c06f-43b4-f905-487407b7bdc1",
        "colab": {
          "base_uri": "https://localhost:8080/",
          "height": 40
        }
      },
      "source": [
        "M = CoordSys3D('')\n",
        "display(Latex(\"\"\"M_i = {0},\\ M_j = {1},\n",
        "\\ M_k = {2},\\ 2M_i + 3M_j - 5M_k = {3}\"\"\".format(*map(latex, (M.i, M.j, M.k, 2 * M.i + 3 * M.j - 5 * M.k)))))"
      ],
      "execution_count": 10,
      "outputs": [
        {
          "output_type": "display_data",
          "data": {
            "text/plain": [
              "<IPython.core.display.Latex object>"
            ],
            "text/latex": "M_i = \\mathbf{\\hat{i}_{}},\\ M_j = \\mathbf{\\hat{j}_{}},\n\\ M_k = \\mathbf{\\hat{k}_{}},\\ 2M_i + 3M_j - 5M_k = \\left(2\\right)\\mathbf{\\hat{i}_{}} + \\left(3\\right)\\mathbf{\\hat{j}_{}} + \\left(-5\\right)\\mathbf{\\hat{k}_{}}"
          },
          "metadata": {}
        }
      ]
    },
    {
      "cell_type": "markdown",
      "metadata": {
        "id": "Dqa6OJKm9ZHC"
      },
      "source": [
        "Для более компактной записи скалярного и векторного произведения в sympy использована перегрузка операторов & и ^. Эти операторы удобно использовать в громоздких выражениях, а для небольших выражений рекомендуется использовать более понятные средства Примера 1.\n",
        "### Пример 2.\n",
        "Найти  скалярное и векторное произведение векторов $v + u$ и $3v - 2u$, $v(0, -3, 2)$, $u(-9, 2, 1)$.\n",
        "Использовать  & и ^."
      ]
    },
    {
      "cell_type": "code",
      "metadata": {
        "id": "30T6hI4U9ZHC",
        "outputId": "e6b2195c-e7b4-4a80-b710-6b31e6ad6425",
        "colab": {
          "base_uri": "https://localhost:8080/",
          "height": 62
        }
      },
      "source": [
        "u = -9 * M.i + 2 * M.j + M.k\n",
        "v = - 3 * M.j + 2 * M.k\n",
        "v_u_expressions_dict = {'(v + u) \\& (3 v - 2 u)': (v + u) & (3 * v - 2 * u),\n",
        "                        '(v + u) \\^\\ (3 v - 2 u)': (v + u) ^ (3 * v - 2 * u)}\n",
        "display(Latex('\\\\\\\\'.join(map(' = '.join, zip(v_u_expressions_dict.keys(),\n",
        "                                             map(latex,\n",
        "                                                 v_u_expressions_dict.values()))))))"
      ],
      "execution_count": 11,
      "outputs": [
        {
          "output_type": "display_data",
          "data": {
            "text/plain": [
              "<IPython.core.display.Latex object>"
            ],
            "text/latex": "(v + u) \\& (3 v - 2 u) = -137\\\\(v + u) \\^\\ (3 v - 2 u) = \\left(35\\right)\\mathbf{\\hat{i}_{}} + \\left(90\\right)\\mathbf{\\hat{j}_{}} + \\left(135\\right)\\mathbf{\\hat{k}_{}}"
          },
          "metadata": {}
        }
      ]
    },
    {
      "cell_type": "markdown",
      "source": [
        "Сложность в том, что в Latex символы & и ^ управляющие, поэтому для вывода на экран их как символов их нужно экранировать с помощью \\\\."
      ],
      "metadata": {
        "id": "d6GYTmyNAuO5"
      }
    },
    {
      "cell_type": "markdown",
      "metadata": {
        "id": "AHMKiG-49ZHD"
      },
      "source": [
        "## Действия с векторами\n",
        "Разложить на множители координаты вектора можно с помощью factor. Упростить выражения координат, содержащие тригонометрические функции, можно с помощью trigsimp или simplify.\n",
        "### Пример 3.\n",
        "Упростить вектор $g(a^3 - 3a^2 + 3a - 1, a^2 - b^2, \\sin^2(a) + \\cos^2(a))$."
      ]
    },
    {
      "cell_type": "code",
      "metadata": {
        "id": "3oIDaEYY9ZHE",
        "outputId": "1c56dbd0-1a15-4750-8e15-066dd7a36918",
        "colab": {
          "base_uri": "https://localhost:8080/",
          "height": 116
        }
      },
      "source": [
        "from sympy.abc import a, b\n",
        "g = (a ** 3 - 3 * a ** 2 + 3 * a - 1) * M.i + (a ** 2 - b ** 2) * M.j + \\\n",
        "(sympy.sin(a) ** 2 + sympy.cos(a) ** 2) * M.k\n",
        "display(Latex(\"\"\"g = {}\\\\\\\\g.factor()={}\\\\\\\\\n",
        "g.trigsimp()={}\\\\\\\\g.simplify()={}\"\"\".format(*map(latex,\n",
        "                                                  (g, g.factor(),\n",
        "                                                  g.trigsimp(),\n",
        "                                                  g.simplify())))))"
      ],
      "execution_count": 12,
      "outputs": [
        {
          "output_type": "display_data",
          "data": {
            "text/plain": [
              "<IPython.core.display.Latex object>"
            ],
            "text/latex": "g = \\left(a^{3} - 3 a^{2} + 3 a - 1\\right)\\mathbf{\\hat{i}_{}} + \\left(a^{2} - b^{2}\\right)\\mathbf{\\hat{j}_{}} + \\left(\\sin^{2}{\\left(a \\right)} + \\cos^{2}{\\left(a \\right)}\\right)\\mathbf{\\hat{k}_{}}\\\\g.factor()=\\left(\\left(a - 1\\right)^{3}\\right)\\mathbf{\\hat{i}_{}} + \\left(\\left(a - b\\right) \\left(a + b\\right)\\right)\\mathbf{\\hat{j}_{}} + \\left(\\sin^{2}{\\left(a \\right)} + \\cos^{2}{\\left(a \\right)}\\right)\\mathbf{\\hat{k}_{}}\\\\\ng.trigsimp()=\\left(a^{3} - 3 a^{2} + 3 a - 1\\right)\\mathbf{\\hat{i}_{}} + \\left(a^{2} - b^{2}\\right)\\mathbf{\\hat{j}_{}} + \\mathbf{\\hat{k}_{}}\\\\g.simplify()=\\left(a^{3} - 3 a^{2} + 3 a - 1\\right)\\mathbf{\\hat{i}_{}} + \\left(a^{2} - b^{2}\\right)\\mathbf{\\hat{j}_{}} + \\mathbf{\\hat{k}_{}}"
          },
          "metadata": {}
        }
      ]
    },
    {
      "cell_type": "markdown",
      "metadata": {
        "id": "qsZhxKH99ZHE"
      },
      "source": [
        "## Преобразование матрицы в вектор\n",
        "Матрицу-столбец из трех элементов можно преобразовать в вектор с помощью matrix_to_vector, параметры этой функции - матрица и система координат.\n",
        "### Пример 4.\n",
        "Преобразовать матрицу $\\left(\\begin{matrix}-1\\\\ 2\\\\ 5\\end{matrix}\\right)$ в вектор в системе координат N и М из Примера 1."
      ]
    },
    {
      "cell_type": "code",
      "metadata": {
        "id": "TTDoL8Ql9ZHE",
        "outputId": "ad0eaf03-7818-417d-ddbd-ce8e42b07074",
        "colab": {
          "base_uri": "https://localhost:8080/",
          "height": 63
        }
      },
      "source": [
        "b = Matrix([-1, 2, 5])\n",
        "display(*map(Latex, map(':\\ '.join, zip(('N', 'M'),\n",
        "                                        map(latex, (matrix_to_vector(b, N),\n",
        "                                                    matrix_to_vector(b, M)))))))"
      ],
      "execution_count": 13,
      "outputs": [
        {
          "output_type": "display_data",
          "data": {
            "text/plain": [
              "<IPython.core.display.Latex object>"
            ],
            "text/latex": "N:\\ - \\mathbf{\\hat{i}_{N}} + \\left(2\\right)\\mathbf{\\hat{j}_{N}} + \\left(5\\right)\\mathbf{\\hat{k}_{N}}"
          },
          "metadata": {}
        },
        {
          "output_type": "display_data",
          "data": {
            "text/plain": [
              "<IPython.core.display.Latex object>"
            ],
            "text/latex": "M:\\ - \\mathbf{\\hat{i}_{}} + \\left(2\\right)\\mathbf{\\hat{j}_{}} + \\left(5\\right)\\mathbf{\\hat{k}_{}}"
          },
          "metadata": {}
        }
      ]
    },
    {
      "cell_type": "markdown",
      "metadata": {
        "id": "xq5lmZQp9ZHF"
      },
      "source": [
        "## Преобразование системы координат, преобразование вектора в матрицу  \n",
        "С помощью orient_new_axis получим новую систему координат, которая получается поворотом системы координат на некоторый угол. Для преобразования вектора в матрицу используем метод to_matrix.\n",
        "### Пример 5.\n",
        "Введем новую систему координат Sys5\\_new, которая получается поворотом системы координат Sys5 на угол $\\pi/3$ относительно оси $i$ против часовой стрелки.\n",
        "Определим вектор b5_Sys5 на основе матрицы $b$ Примера 4 в соответствии с системой координат Sys5, затем получим представление в матричном виде вектора b5_Sys5 в системе координат Sys5_new. Получить координаты  вектора b5_Sys5 в системе координат Sys5_new можно с помощью матрицы поворота на угол $\\pi/3$ относительно оси $i$ против часовой стрелки. Роль матрицы поворота играет Sys5.rotation_matrix(Sys5_new), умножая матрицу поворота на b5_Sys5_new получаем матрицу $b$, так что для получения b5_Sys5_new из $b$ можно было бы умножить обратную матрицу к Sys5.rotation_matrix(Sys5_new) на $b$."
      ]
    },
    {
      "cell_type": "code",
      "metadata": {
        "id": "HXNdsaYK9ZHF",
        "outputId": "d0210720-4a88-463d-b39c-a4dcb268296b",
        "colab": {
          "base_uri": "https://localhost:8080/",
          "height": 238
        }
      },
      "source": [
        "Sys5 = CoordSys3D('S5')\n",
        "Sys5_new = Sys5.orient_new_axis('S5new', sympy.pi / 3, Sys5.i)\n",
        "b5_Sys5 = matrix_to_vector(b, Sys5)\n",
        "b5_Sys5_new = b5_Sys5.to_matrix(Sys5_new)\n",
        "R_matr = Sys5.rotation_matrix(Sys5_new)\n",
        "display(*map(Latex, map('\\ =\\ '.join,\n",
        "                        zip(('R\\_matr', 'b5\\_Sys5', 'b5\\_Sys5\\_new', 'sympy.simplify(R\\_matr*b5\\_Sys5\\_new)'),\n",
        "                            map(latex,\n",
        "                                (R_matr,\n",
        "                                 b5_Sys5,\n",
        "                                 b5_Sys5_new,\n",
        "                                 sympy.simplify(R_matr*b5_Sys5_new)))))))"
      ],
      "execution_count": 14,
      "outputs": [
        {
          "output_type": "display_data",
          "data": {
            "text/plain": [
              "<IPython.core.display.Latex object>"
            ],
            "text/latex": "R\\_matr\\ =\\ \\left[\\begin{matrix}1 & 0 & 0\\\\0 & \\frac{1}{2} & - \\frac{\\sqrt{3}}{2}\\\\0 & \\frac{\\sqrt{3}}{2} & \\frac{1}{2}\\end{matrix}\\right]"
          },
          "metadata": {}
        },
        {
          "output_type": "display_data",
          "data": {
            "text/plain": [
              "<IPython.core.display.Latex object>"
            ],
            "text/latex": "b5\\_Sys5\\ =\\ - \\mathbf{\\hat{i}_{S5}} + \\left(2\\right)\\mathbf{\\hat{j}_{S5}} + \\left(5\\right)\\mathbf{\\hat{k}_{S5}}"
          },
          "metadata": {}
        },
        {
          "output_type": "display_data",
          "data": {
            "text/plain": [
              "<IPython.core.display.Latex object>"
            ],
            "text/latex": "b5\\_Sys5\\_new\\ =\\ \\left[\\begin{matrix}-1\\\\1 + \\frac{5 \\sqrt{3}}{2}\\\\\\frac{5}{2} - \\sqrt{3}\\end{matrix}\\right]"
          },
          "metadata": {}
        },
        {
          "output_type": "display_data",
          "data": {
            "text/plain": [
              "<IPython.core.display.Latex object>"
            ],
            "text/latex": "sympy.simplify(R\\_matr*b5\\_Sys5\\_new)\\ =\\ \\left[\\begin{matrix}-1\\\\2\\\\5\\end{matrix}\\right]"
          },
          "metadata": {}
        }
      ]
    },
    {
      "cell_type": "markdown",
      "metadata": {
        "id": "LMhOkRY99ZHG"
      },
      "source": [
        "## Поворот системы координат на угол относительно произвольной оси\n",
        "осуществляется в помощью метода orient_new_axis, параметры - название новой системы координат, угол и вектор, определяющий ось вращения, выраженный в старой системе координат.\n",
        "### Пример 6.\n",
        "Повернем систему координат  Sys5 на $\\pi/6$ по часовой стрелке ($-\\pi/6$ против часовой стрелки) относительно оси, определяемой вектором $(1, -2, 0)$ (по умолчанию ось проходит через начало координат). Выразим вектор b5_Sys5 в новой системе координат."
      ]
    },
    {
      "cell_type": "code",
      "metadata": {
        "id": "zarm0wTP9ZHG",
        "outputId": "6dd3c5e0-e6ad-4bd8-e027-ab3f26dc686c",
        "colab": {
          "base_uri": "https://localhost:8080/",
          "height": 88
        }
      },
      "source": [
        "Sys6 = Sys5.orient_new_axis('S6', -sympy.pi / 6, Sys5.i - 2 * Sys5.j)\n",
        "display(Latex(f'b5\\_Sys5 = {latex(b5_Sys5.to_matrix(Sys6))}'))"
      ],
      "execution_count": 15,
      "outputs": [
        {
          "output_type": "display_data",
          "data": {
            "text/plain": [
              "<IPython.core.display.Latex object>"
            ],
            "text/latex": "b5\\_Sys5 = \\left[\\begin{matrix}- \\sqrt{5} - 1\\\\2 - \\frac{\\sqrt{5}}{2}\\\\\\frac{5 \\sqrt{3}}{2}\\end{matrix}\\right]"
          },
          "metadata": {}
        }
      ]
    },
    {
      "cell_type": "markdown",
      "metadata": {
        "id": "VyKO9_ky9ZHH"
      },
      "source": [
        "### Пример 7.\n",
        "Повернем систему координат  M на $\\pi/4$ против часовой стрелки относительно оси, определяемой вектором $(1, 0, 1)$ (по умолчанию ось проходит через начало координат). Выразим вектор v Примера 2 в новой системе координат, обозначим его v7. Выведем на экран v7 в векторной и матричной записи."
      ]
    },
    {
      "cell_type": "code",
      "metadata": {
        "id": "xA1WWNOS9ZHH",
        "outputId": "14d05a19-1119-48d8-8c2d-22d4a8f1f3ba",
        "colab": {
          "base_uri": "https://localhost:8080/",
          "height": 88
        }
      },
      "source": [
        "Sys7 = M.orient_new_axis('7', sympy.pi / 4, M.i + M.k)\n",
        "v7 = express(v, Sys7)\n",
        "display(Latex(',\\ '.join(map('\\ =\\ '.join,\n",
        "                        zip(('v_7', 'v.to\\_matrix(Sys7)'),\n",
        "                            map(latex,\n",
        "                                (v7, v.to_matrix(Sys7))))))))"
      ],
      "execution_count": 16,
      "outputs": [
        {
          "output_type": "display_data",
          "data": {
            "text/plain": [
              "<IPython.core.display.Latex object>"
            ],
            "text/latex": "v_7\\ =\\ \\left(- \\frac{\\sqrt{2}}{2} - \\frac{1}{2}\\right)\\mathbf{\\hat{i}_{7}} + \\left(1 - \\frac{3 \\sqrt{2}}{2}\\right)\\mathbf{\\hat{j}_{7}} + \\left(\\frac{\\sqrt{2}}{2} + \\frac{5}{2}\\right)\\mathbf{\\hat{k}_{7}},\\ v.to\\_matrix(Sys7)\\ =\\ \\left[\\begin{matrix}- \\frac{\\sqrt{2}}{2} - \\frac{1}{2}\\\\1 - \\frac{3 \\sqrt{2}}{2}\\\\\\frac{\\sqrt{2}}{2} + \\frac{5}{2}\\end{matrix}\\right]"
          },
          "metadata": {}
        }
      ]
    },
    {
      "cell_type": "markdown",
      "metadata": {
        "id": "rTMBOlzG9ZHI"
      },
      "source": [
        "# Методы класса векторов\n",
        "**components** координаты вектора в виде словаря с ключами - ортами, значениями - координатами\n",
        "\n",
        "**magnitude** длина\n",
        "\n",
        "**normalize** возвращает нормированный вектор (такое же направление, но длина 1) в виде линейной комбинации базисных ортов\n",
        "\n",
        "**projection** проекция на вектор - аргумент, представленная в виде линейной комбинации базисных ортов"
      ]
    },
    {
      "cell_type": "code",
      "source": [
        "display(*map(Latex, map('\\ =\\ '.join,\n",
        "                        zip(('v', 'v.components', 'v.magnitude()', 'v.normalize()',\n",
        "        'M.i.projection(v)', 'M.j.projection(v)', 'M.k.projection(v)',\n",
        "        '(M.i - M.j + 2M.k).projection(v)'),\n",
        "                            map(latex,\n",
        "                                (v, v.components, v.magnitude(), v.normalize(),\n",
        "        M.i.projection(v), M.j.projection(v), M.k.projection(v),\n",
        "        (M.i - M.j + 2 * M.k).projection(v)))))))"
      ],
      "metadata": {
        "colab": {
          "base_uri": "https://localhost:8080/",
          "height": 214
        },
        "id": "KBybRWkKJPeN",
        "outputId": "14f38553-f78a-49af-a62a-8209c2b0911f"
      },
      "execution_count": 17,
      "outputs": [
        {
          "output_type": "display_data",
          "data": {
            "text/plain": [
              "<IPython.core.display.Latex object>"
            ],
            "text/latex": "v\\ =\\ \\left(-3\\right)\\mathbf{\\hat{j}_{}} + \\left(2\\right)\\mathbf{\\hat{k}_{}}"
          },
          "metadata": {}
        },
        {
          "output_type": "display_data",
          "data": {
            "text/plain": [
              "<IPython.core.display.Latex object>"
            ],
            "text/latex": "v.components\\ =\\ \\left\\{ \\mathbf{\\hat{j}_{}} : -3, \\  \\mathbf{\\hat{k}_{}} : 2\\right\\}"
          },
          "metadata": {}
        },
        {
          "output_type": "display_data",
          "data": {
            "text/plain": [
              "<IPython.core.display.Latex object>"
            ],
            "text/latex": "v.magnitude()\\ =\\ \\sqrt{13}"
          },
          "metadata": {}
        },
        {
          "output_type": "display_data",
          "data": {
            "text/plain": [
              "<IPython.core.display.Latex object>"
            ],
            "text/latex": "v.normalize()\\ =\\ \\left(- \\frac{3 \\sqrt{13}}{13}\\right)\\mathbf{\\hat{j}_{}} + \\left(\\frac{2 \\sqrt{13}}{13}\\right)\\mathbf{\\hat{k}_{}}"
          },
          "metadata": {}
        },
        {
          "output_type": "display_data",
          "data": {
            "text/plain": [
              "<IPython.core.display.Latex object>"
            ],
            "text/latex": "M.i.projection(v)\\ =\\ \\mathbf{\\hat{0}}"
          },
          "metadata": {}
        },
        {
          "output_type": "display_data",
          "data": {
            "text/plain": [
              "<IPython.core.display.Latex object>"
            ],
            "text/latex": "M.j.projection(v)\\ =\\ \\left(-3\\right)\\mathbf{\\hat{j}_{}}"
          },
          "metadata": {}
        },
        {
          "output_type": "display_data",
          "data": {
            "text/plain": [
              "<IPython.core.display.Latex object>"
            ],
            "text/latex": "M.k.projection(v)\\ =\\ \\left(2\\right)\\mathbf{\\hat{k}_{}}"
          },
          "metadata": {}
        },
        {
          "output_type": "display_data",
          "data": {
            "text/plain": [
              "<IPython.core.display.Latex object>"
            ],
            "text/latex": "(M.i - M.j + 2M.k).projection(v)\\ =\\ \\left(\\frac{7}{6}\\right)\\mathbf{\\hat{i}_{}} + \\left(- \\frac{7}{6}\\right)\\mathbf{\\hat{j}_{}} + \\left(\\frac{7}{3}\\right)\\mathbf{\\hat{k}_{}}"
          },
          "metadata": {}
        }
      ]
    },
    {
      "cell_type": "markdown",
      "source": [
        "# Sympy-Numpy взаимодействие\n",
        "Опишем функцию, использующую Sympy, возвращающую синус удвоенного аргумента. Этой функции в качестве аргумента можно передавать числовые объекты Sympy, например число $\\pi$.\n",
        "\n",
        "Выведем на экран несколько значений этой функции с аргументом, равным $0$, $\\pi/3$, $5\\pi/6$ и $\\pi/7$."
      ],
      "metadata": {
        "id": "wZmDgEKDOjz9"
      }
    },
    {
      "cell_type": "code",
      "source": [
        "def sin2(x):\n",
        "    return sympy.sin(2 * x)\n",
        "\n",
        "x_arr = (0, sympy.pi / 3, 5 * sympy.pi / 6, sympy.pi / 7)\n",
        "n = len(x_arr)\n",
        "display(Latex(('{}\\ ' * n).format(*map(latex, map(sin2, x_arr)))))"
      ],
      "metadata": {
        "colab": {
          "base_uri": "https://localhost:8080/",
          "height": 41
        },
        "id": "2lf7XXUzPFee",
        "outputId": "cb2ca850-f5e9-49fa-daae-ca783791a502"
      },
      "execution_count": 18,
      "outputs": [
        {
          "output_type": "display_data",
          "data": {
            "text/plain": [
              "<IPython.core.display.Latex object>"
            ],
            "text/latex": "0\\ \\frac{\\sqrt{3}}{2}\\ - \\frac{\\sqrt{3}}{2}\\ \\sin{\\left(\\frac{2 \\pi}{7} \\right)}\\ "
          },
          "metadata": {}
        }
      ]
    },
    {
      "cell_type": "markdown",
      "source": [
        "Создадим на основе этой функции ее двойник для numpy, назовем sin2np. Этой функции можно будет передавать обычные числа."
      ],
      "metadata": {
        "id": "lhdn3MT-UPiX"
      }
    },
    {
      "cell_type": "code",
      "source": [
        "from sympy import lambdify\n",
        "from sympy.abc import x\n",
        "import numpy as np\n",
        "sin2np = lambdify(x, sin2(x), 'numpy')\n",
        "print([sin2np(x_np) for x_np in np.linspace(-1, 1, 5)])"
      ],
      "metadata": {
        "colab": {
          "base_uri": "https://localhost:8080/"
        },
        "id": "LEiyOV4KSTLe",
        "outputId": "4e84565d-b167-4754-9923-662fa6b8b41b"
      },
      "execution_count": 19,
      "outputs": [
        {
          "output_type": "stream",
          "name": "stdout",
          "text": [
            "[-0.9092974268256817, -0.8414709848078965, 0.0, 0.8414709848078965, 0.9092974268256817]\n"
          ]
        }
      ]
    },
    {
      "cell_type": "markdown",
      "source": [
        "Здесь sin2np название новой функции (ее имя), lambdify - функция из sympy (см. https://docs.sympy.org/latest/modules/utilities/lambdify.html), первый аргумент lambdify это аргумент новой функции, второй - выражение, значение которого возвращат новая функция, 'numpy' - значение необязательного аргумента modules, указывающего, какую библиотеку для приближенных вычислений нужно использовать."
      ],
      "metadata": {
        "id": "JL6qEWzqVk2z"
      }
    }
  ]
}