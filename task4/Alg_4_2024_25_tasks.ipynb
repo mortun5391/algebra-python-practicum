{
  "cells": [
    {
      "cell_type": "markdown",
      "metadata": {
        "id": "B600zaglO8R5"
      },
      "source": [
        "## Занятие 4\n",
        "## Компьютерный практикум по алгебре на Python\n",
        "## Фундаментальная система решений однородной СЛАУ"
      ]
    },
    {
      "cell_type": "markdown",
      "metadata": {
        "id": "z-MBGjqlO8R-"
      },
      "source": [
        "https://docs.sympy.org/latest/modules"
      ]
    },
    {
      "cell_type": "code",
      "execution_count": null,
      "metadata": {
        "id": "mbuIM2VjO8SA"
      },
      "outputs": [],
      "source": [
        "import sympy\n",
        "from sympy import linsolve, Matrix, S, Symbol, symbols, Eq,\\\n",
        "linear_eq_to_matrix, zeros, latex, I\n",
        "from IPython.display import display, Latex"
      ]
    },
    {
      "cell_type": "code",
      "source": [
        "from sympy import I,simplify,factor\n",
        "x,y = symbols('x y')\n",
        "exp = -3*x**6 - 21*x**5 - 36*x**4 + 90*x**3 + 528*x**2 + 816*x + 576\n",
        "display(simplify(exp/((x-(-1+I))*(x- (-1-I))*(x - (-2-2*I))*(x - (-2 +2*I))*(x-3))))\n",
        "exp1 = (x-(-1+I))*(x- (-1-I))*(x - (-2-2*I))*(x - (-2 +2*I))*(x-3) *(x+4)\n",
        "display(factor(exp))\n",
        "display(simplify(exp1/(x**2+2*x+2)/(x**2+4*x+8)))\n",
        "display(simplify((x-(-1+I))*(x- (-1-I))))\n",
        "\n"
      ],
      "metadata": {
        "colab": {
          "base_uri": "https://localhost:8080/",
          "height": 105
        },
        "id": "9y-T6c3f4VCD",
        "outputId": "4e5b44f9-a78c-4ce4-da86-f96916797c06"
      },
      "execution_count": null,
      "outputs": [
        {
          "output_type": "display_data",
          "data": {
            "text/plain": [
              "-3*x - 12"
            ],
            "text/latex": "$\\displaystyle - 3 x - 12$"
          },
          "metadata": {}
        },
        {
          "output_type": "display_data",
          "data": {
            "text/plain": [
              "-3*(x - 3)*(x + 4)*(x**2 + 2*x + 2)*(x**2 + 4*x + 8)"
            ],
            "text/latex": "$\\displaystyle - 3 \\left(x - 3\\right) \\left(x + 4\\right) \\left(x^{2} + 2 x + 2\\right) \\left(x^{2} + 4 x + 8\\right)$"
          },
          "metadata": {}
        },
        {
          "output_type": "display_data",
          "data": {
            "text/plain": [
              "x**2 + x - 12"
            ],
            "text/latex": "$\\displaystyle x^{2} + x - 12$"
          },
          "metadata": {}
        },
        {
          "output_type": "display_data",
          "data": {
            "text/plain": [
              "x**2 + 2*x + 2"
            ],
            "text/latex": "$\\displaystyle x^{2} + 2 x + 2$"
          },
          "metadata": {}
        }
      ]
    },
    {
      "cell_type": "markdown",
      "metadata": {
        "id": "MCakxRL6O8SC"
      },
      "source": [
        "### Задание 1.\n",
        "Проверить по теореме Кронекера-Капелли совместность СЛАУ $AX = b$, если\n",
        "\\begin{align*}\n",
        "&a)\\ A = \\left[\\begin{matrix}0 & -4 & 0 & 1\\\\1 & -4 & -4 & 2\\\\4 & 1 & 4 & -3\\\\1 & -8 & -4 & 3\\\\0 & -4 & 0 & 1\\end{matrix}\\right],\\\n",
        "b=\\left[\\begin{matrix}-3\\\\-1\\\\2\\\\-4\\\\-3\\end{matrix}\\right]\n",
        ",\\ b=\\left[\\begin{matrix}-3\\\\1\\\\0\\\\4\\\\0\\end{matrix}\\right]\\\\\n",
        "&b)\\ A = \\left[\\begin{matrix}3 & 0 & -4 & -4\\\\2 & -3 & 4 & -1\\\\-2 & 0 & 2 & -2\\\\1 & -1 & -2 & 3\\end{matrix}\\right],\\\n",
        "b=\\left[\\begin{matrix}3\\\\-1\\\\-2\\\\0\\end{matrix}\\right],\\\n",
        "b=\\left[\\begin{matrix}0\\\\-1\\\\-2\\\\0\\end{matrix}\\right]\\\\\n",
        "&c)\\ A = \\left[\\begin{matrix}-3 & 4 & 4\\\\-4 & -2 & 4\\\\-1 & 0 & -3\\\\-7 & 2 & 8\\\\-3 & 4 & 4\\end{matrix}\\right],\\\n",
        "b=\\left[\\begin{matrix}5\\\\-2\\\\-4\\\\3\\\\5\\end{matrix}\\right],\\\n",
        "b=\\left[\\begin{matrix}5\\\\-2\\\\0\\\\0\\\\0\\end{matrix}\\right]\n",
        "\\end{align*}\n",
        "a) [[0, -4, 0, 1], [1, -4, -4, 2], [4, 1, 4, -3], [1, -8, -4, 3], [0, -4, 0, 1]]\n",
        "\n",
        "[-3, -1, 2, -4, -3]\n",
        "[-3, 1, 0, 4, 0]\n",
        "\n",
        "b) [[3, 0, -4, -4], [2, -3, 4, -1], [-2, 0, 2, -2], [1, -1, -2, 3]]\n",
        "\n",
        "[3, -1, -2, 0]\n",
        "[0, -1, -2, 0]\n",
        "\n",
        "c) [[-3, 4, 4], [-4, -2, 4], [-1, 0, -3], [-7, 2, 8], [-3, 4, 4]]\n",
        "\n",
        "[5, -2, -4, 3, 5]\n",
        "[5, -2, 0, 0, 0]"
      ]
    },
    {
      "cell_type": "code",
      "execution_count": null,
      "metadata": {
        "id": "MRp9NWkdce6K",
        "colab": {
          "base_uri": "https://localhost:8080/",
          "height": 173
        },
        "outputId": "ed6af25a-820d-4c3b-f690-98a41f53e9ff"
      },
      "outputs": [
        {
          "output_type": "stream",
          "name": "stdout",
          "text": [
            "a)\n"
          ]
        },
        {
          "output_type": "display_data",
          "data": {
            "text/plain": [
              "True"
            ]
          },
          "metadata": {}
        },
        {
          "output_type": "display_data",
          "data": {
            "text/plain": [
              "False"
            ]
          },
          "metadata": {}
        },
        {
          "output_type": "stream",
          "name": "stdout",
          "text": [
            "b)\n"
          ]
        },
        {
          "output_type": "display_data",
          "data": {
            "text/plain": [
              "True"
            ]
          },
          "metadata": {}
        },
        {
          "output_type": "display_data",
          "data": {
            "text/plain": [
              "True"
            ]
          },
          "metadata": {}
        },
        {
          "output_type": "stream",
          "name": "stdout",
          "text": [
            "c)\n"
          ]
        },
        {
          "output_type": "display_data",
          "data": {
            "text/plain": [
              "True"
            ]
          },
          "metadata": {}
        },
        {
          "output_type": "display_data",
          "data": {
            "text/plain": [
              "False"
            ]
          },
          "metadata": {}
        }
      ],
      "source": [
        "symbols = ('a b c')\n",
        "a_A = Matrix([[0, -4, 0, 1], [1, -4, -4, 2], [4, 1, 4, -3], [1, -8, -4, 3], [0, -4, 0, 1]])\n",
        "a_b1 = Matrix([-3, -1, 2, -4, -3])\n",
        "a_b2 = Matrix([-3, 1, 0, 4, 0])\n",
        "print(\"a)\")\n",
        "display(a_A.rank() == a_A.row_join(a_b1).rank(), a_A.rank() == a_A.row_join(a_b2).rank())\n",
        "\n",
        "b_A = Matrix([[3, 0, -4, -4], [2, -3, 4, -1], [-2, 0, 2, -2], [1, -1, -2, 3]])\n",
        "b_b1 = Matrix([3, -1, -2, 0])\n",
        "b_b2 = Matrix([0, -1, -2, 0])\n",
        "print(\"b)\")\n",
        "display(b_A.rank() == b_A.row_join(b_b1).rank(), b_A.rank() == b_A.row_join(b_b2).rank())\n",
        "\n",
        "c_A = Matrix([[-3, 4, 4], [-4, -2, 4], [-1, 0, -3], [-7, 2, 8], [-3, 4, 4]])\n",
        "c_b1 = Matrix([5, -2, -4, 3, 5])\n",
        "c_b2 = Matrix( [5, -2, 0, 0, 0])\n",
        "print(\"c)\")\n",
        "display(c_A.rank() == c_A.row_join(c_b1).rank(), c_A.rank() == c_A.row_join(c_b2).rank())"
      ]
    },
    {
      "cell_type": "markdown",
      "metadata": {
        "id": "F3lXkJ3oO8SM"
      },
      "source": [
        "### Задание 2.\n",
        "\n",
        "Проверить единственность решения в совместных СЛАУ Задания 1."
      ]
    },
    {
      "cell_type": "code",
      "execution_count": null,
      "metadata": {
        "id": "4CR_p8oGchk6",
        "colab": {
          "base_uri": "https://localhost:8080/",
          "height": 522
        },
        "outputId": "2af69857-2348-4825-9db4-510d94639634"
      },
      "outputs": [
        {
          "output_type": "display_data",
          "data": {
            "text/plain": [
              "Matrix([\n",
              "[0, -4,  0,  1, -3],\n",
              "[1, -4, -4,  2, -1],\n",
              "[4,  1,  4, -3,  2],\n",
              "[1, -8, -4,  3, -4],\n",
              "[0, -4,  0,  1, -3]])"
            ],
            "text/latex": "$\\displaystyle \\left[\\begin{matrix}0 & -4 & 0 & 1 & -3\\\\1 & -4 & -4 & 2 & -1\\\\4 & 1 & 4 & -3 & 2\\\\1 & -8 & -4 & 3 & -4\\\\0 & -4 & 0 & 1 & -3\\end{matrix}\\right]$"
          },
          "metadata": {}
        },
        {
          "output_type": "stream",
          "name": "stdout",
          "text": [
            "Не единственное решение\n",
            "\n"
          ]
        },
        {
          "output_type": "display_data",
          "data": {
            "text/plain": [
              "Matrix([\n",
              "[ 3,  0, -4, -4,  3],\n",
              "[ 2, -3,  4, -1, -1],\n",
              "[-2,  0,  2, -2, -2],\n",
              "[ 1, -1, -2,  3,  0]])"
            ],
            "text/latex": "$\\displaystyle \\left[\\begin{matrix}3 & 0 & -4 & -4 & 3\\\\2 & -3 & 4 & -1 & -1\\\\-2 & 0 & 2 & -2 & -2\\\\1 & -1 & -2 & 3 & 0\\end{matrix}\\right]$"
          },
          "metadata": {}
        },
        {
          "output_type": "stream",
          "name": "stdout",
          "text": [
            "Единственное решение\n",
            "\n"
          ]
        },
        {
          "output_type": "display_data",
          "data": {
            "text/plain": [
              "Matrix([\n",
              "[ 3,  0, -4, -4,  0],\n",
              "[ 2, -3,  4, -1, -1],\n",
              "[-2,  0,  2, -2, -2],\n",
              "[ 1, -1, -2,  3,  0]])"
            ],
            "text/latex": "$\\displaystyle \\left[\\begin{matrix}3 & 0 & -4 & -4 & 0\\\\2 & -3 & 4 & -1 & -1\\\\-2 & 0 & 2 & -2 & -2\\\\1 & -1 & -2 & 3 & 0\\end{matrix}\\right]$"
          },
          "metadata": {}
        },
        {
          "output_type": "stream",
          "name": "stdout",
          "text": [
            "Единственное решение\n",
            "\n"
          ]
        },
        {
          "output_type": "display_data",
          "data": {
            "text/plain": [
              "Matrix([\n",
              "[-3,  4,  4,  5],\n",
              "[-4, -2,  4, -2],\n",
              "[-1,  0, -3, -4],\n",
              "[-7,  2,  8,  3],\n",
              "[-3,  4,  4,  5]])"
            ],
            "text/latex": "$\\displaystyle \\left[\\begin{matrix}-3 & 4 & 4 & 5\\\\-4 & -2 & 4 & -2\\\\-1 & 0 & -3 & -4\\\\-7 & 2 & 8 & 3\\\\-3 & 4 & 4 & 5\\end{matrix}\\right]$"
          },
          "metadata": {}
        },
        {
          "output_type": "stream",
          "name": "stdout",
          "text": [
            "Единственное решение\n",
            "\n"
          ]
        }
      ],
      "source": [
        "\n",
        "for B in [a_A.row_join(a_b1), b_A.row_join(b_b1), b_A.row_join(b_b2), c_A.row_join(c_b1)]:\n",
        "  A = B[:, :-1]\n",
        "  n, m = A.shape\n",
        "  display(B)\n",
        "  if A.rank() == B.rank() == m: print(\"Единственное решение\")\n",
        "  else: print(\"Не единственное решение\")\n",
        "  print()"
      ]
    },
    {
      "cell_type": "markdown",
      "metadata": {
        "id": "cHZhM0_jO8SO"
      },
      "source": [
        "### Задание 3\n",
        "Для однородных СЛАУ с матрицами $A$ из Задания 1 установить, есть ли у такой однородной СЛАУ нетривиальное решение."
      ]
    },
    {
      "cell_type": "code",
      "source": [
        "for A in [a_A, b_A, c_A]:\n",
        "  display(A)\n",
        "  if A.rank() < A.shape[1]:\n",
        "    print(\"Есть нетривиальное решение\")\n",
        "  else: print(\"Нет нетривиального решения\")\n",
        "  print()"
      ],
      "metadata": {
        "id": "vVVDFRlKo_tA",
        "colab": {
          "base_uri": "https://localhost:8080/",
          "height": 406
        },
        "outputId": "653b589a-5fcb-49b3-f711-91205ddb7430"
      },
      "execution_count": null,
      "outputs": [
        {
          "output_type": "display_data",
          "data": {
            "text/plain": [
              "Matrix([\n",
              "[0, -4,  0,  1],\n",
              "[1, -4, -4,  2],\n",
              "[4,  1,  4, -3],\n",
              "[1, -8, -4,  3],\n",
              "[0, -4,  0,  1]])"
            ],
            "text/latex": "$\\displaystyle \\left[\\begin{matrix}0 & -4 & 0 & 1\\\\1 & -4 & -4 & 2\\\\4 & 1 & 4 & -3\\\\1 & -8 & -4 & 3\\\\0 & -4 & 0 & 1\\end{matrix}\\right]$"
          },
          "metadata": {}
        },
        {
          "output_type": "stream",
          "name": "stdout",
          "text": [
            "Есть нетривиальное решение\n",
            "\n"
          ]
        },
        {
          "output_type": "display_data",
          "data": {
            "text/plain": [
              "Matrix([\n",
              "[ 3,  0, -4, -4],\n",
              "[ 2, -3,  4, -1],\n",
              "[-2,  0,  2, -2],\n",
              "[ 1, -1, -2,  3]])"
            ],
            "text/latex": "$\\displaystyle \\left[\\begin{matrix}3 & 0 & -4 & -4\\\\2 & -3 & 4 & -1\\\\-2 & 0 & 2 & -2\\\\1 & -1 & -2 & 3\\end{matrix}\\right]$"
          },
          "metadata": {}
        },
        {
          "output_type": "stream",
          "name": "stdout",
          "text": [
            "Нет нетривиального решения\n",
            "\n"
          ]
        },
        {
          "output_type": "display_data",
          "data": {
            "text/plain": [
              "Matrix([\n",
              "[-3,  4,  4],\n",
              "[-4, -2,  4],\n",
              "[-1,  0, -3],\n",
              "[-7,  2,  8],\n",
              "[-3,  4,  4]])"
            ],
            "text/latex": "$\\displaystyle \\left[\\begin{matrix}-3 & 4 & 4\\\\-4 & -2 & 4\\\\-1 & 0 & -3\\\\-7 & 2 & 8\\\\-3 & 4 & 4\\end{matrix}\\right]$"
          },
          "metadata": {}
        },
        {
          "output_type": "stream",
          "name": "stdout",
          "text": [
            "Нет нетривиального решения\n",
            "\n"
          ]
        }
      ]
    },
    {
      "cell_type": "markdown",
      "metadata": {
        "id": "wmJb1QrxO8SQ"
      },
      "source": [
        "### Задание 4\n",
        "Для однородных СЛАУ с марицей $A$ составить ФСР.\n",
        "$$\n",
        "a)\\ A = \\left[\\begin{matrix}-7 & 1 & 9 & -5\\\\-3 & -6 & -1 & 6\\\\-7 & 1 & 9 & -5\\\\-10 & -5 & 8 & 1\\end{matrix}\\right],\\\n",
        "b)\\ A = \\left[\\begin{matrix}2 & -3 & -8 & 1\\\\3 & 3 & 8 & 2\\\\-8 & -5 & -6 & 0\\\\-1 & -6 & -16 & -1\\\\-13 & -18 & -48 & -9\\end{matrix}\\right],\\\n",
        "c)\\\n",
        "A = \\left[\\begin{matrix}8 & -7 & 1 & 6\\\\-32 & 28 & -4 & -24\\\\-40 & 35 & -5 & -30\\\\8 & -7 & 1 & 6\\\\16 & -14 & 2 & 12\\end{matrix}\\right]\n",
        "$$\n",
        "\n",
        "[[-7, 1, 9, -5], [-3, -6, -1, 6], [-7, 1, 9, -5], [-10, -5, 8, 1]]\n",
        "\n",
        "[[2, -3, -8, 1], [3, 3, 8, 2], [-8, -5, -6, 0], [-1, -6, -16, -1], [-13, -18, -48, -9]]\n",
        "\n",
        "[[8, -7, 1, 6], [-32, 28, -4, -24], [-40, 35, -5, -30], [8, -7, 1, 6], [16, -14, 2, 12]]"
      ]
    },
    {
      "cell_type": "code",
      "execution_count": null,
      "metadata": {
        "id": "hAnK6Ytsclbl",
        "colab": {
          "base_uri": "https://localhost:8080/",
          "height": 313
        },
        "outputId": "45de29cd-11e2-4769-926b-1d578158268b"
      },
      "outputs": [
        {
          "output_type": "display_data",
          "data": {
            "text/plain": [
              "<IPython.core.display.Latex object>"
            ],
            "text/latex": "\\left[ \\left[\\begin{matrix}\\frac{53}{45}\\\\- \\frac{34}{45}\\\\1\\\\0\\end{matrix}\\right], \\  \\left[\\begin{matrix}- \\frac{8}{15}\\\\\\frac{19}{15}\\\\0\\\\1\\end{matrix}\\right]\\right]"
          },
          "metadata": {}
        },
        {
          "output_type": "stream",
          "name": "stdout",
          "text": [
            "\n"
          ]
        },
        {
          "output_type": "display_data",
          "data": {
            "text/plain": [
              "<IPython.core.display.Latex object>"
            ],
            "text/latex": "\\left[ \\left[\\begin{matrix}- \\frac{3}{5}\\\\\\frac{9}{5}\\\\- \\frac{7}{10}\\\\1\\end{matrix}\\right]\\right]"
          },
          "metadata": {}
        },
        {
          "output_type": "stream",
          "name": "stdout",
          "text": [
            "\n"
          ]
        },
        {
          "output_type": "display_data",
          "data": {
            "text/plain": [
              "<IPython.core.display.Latex object>"
            ],
            "text/latex": "\\left[ \\left[\\begin{matrix}\\frac{7}{8}\\\\1\\\\0\\\\0\\end{matrix}\\right], \\  \\left[\\begin{matrix}- \\frac{1}{8}\\\\0\\\\1\\\\0\\end{matrix}\\right], \\  \\left[\\begin{matrix}- \\frac{3}{4}\\\\0\\\\0\\\\1\\end{matrix}\\right]\\right]"
          },
          "metadata": {}
        },
        {
          "output_type": "stream",
          "name": "stdout",
          "text": [
            "\n"
          ]
        }
      ],
      "source": [
        "a_A = Matrix([[-7, 1, 9, -5], [-3, -6, -1, 6], [-7, 1, 9, -5], [-10, -5, 8, 1]])\n",
        "b_A = Matrix([[2, -3, -8, 1], [3, 3, 8, 2], [-8, -5, -6, 0], [-1, -6, -16, -1], [-13, -18, -48, -9]])\n",
        "c_A = Matrix([[8, -7, 1, 6], [-32, 28, -4, -24], [-40, 35, -5, -30], [8, -7, 1, 6], [16, -14, 2, 12]])\n",
        "\n",
        "for A in [a_A, b_A, c_A]:\n",
        "  display(Latex(latex(A.nullspace())))\n",
        "  print()"
      ]
    },
    {
      "cell_type": "markdown",
      "metadata": {
        "id": "TbcC_Tc-O8ST"
      },
      "source": [
        "### Задание 5\n",
        "Для однородных СЛАУ с матрицами из Задания 4 построить общее решение, используя построенную в Задании 4 ФСР. Сравнить с результатом, возвращаемым linsolve."
      ]
    },
    {
      "cell_type": "code",
      "execution_count": null,
      "metadata": {
        "id": "x9rBc4uRcnm9",
        "colab": {
          "base_uri": "https://localhost:8080/",
          "height": 255
        },
        "outputId": "01c9eb3f-d687-4921-b668-93b131bc88e8"
      },
      "outputs": [
        {
          "output_type": "display_data",
          "data": {
            "text/plain": [
              "Matrix([[53*alpha1/45 - 8*alpha2/15, -34*alpha1/45 + 19*alpha2/15, alpha1, alpha2]])"
            ],
            "text/latex": "$\\displaystyle \\left[\\begin{matrix}\\frac{53 \\alpha_{1}}{45} - \\frac{8 \\alpha_{2}}{15} & - \\frac{34 \\alpha_{1}}{45} + \\frac{19 \\alpha_{2}}{15} & \\alpha_{1} & \\alpha_{2}\\end{matrix}\\right]$"
          },
          "metadata": {}
        },
        {
          "output_type": "display_data",
          "data": {
            "text/plain": [
              "{(53*x3/45 - 8*x4/15, -34*x3/45 + 19*x4/15, x3, x4)}"
            ],
            "text/latex": "$\\displaystyle \\left\\{\\left( \\frac{53 x_{3}}{45} - \\frac{8 x_{4}}{15}, \\  - \\frac{34 x_{3}}{45} + \\frac{19 x_{4}}{15}, \\  x_{3}, \\  x_{4}\\right)\\right\\}$"
          },
          "metadata": {}
        },
        {
          "output_type": "stream",
          "name": "stdout",
          "text": [
            "\n"
          ]
        },
        {
          "output_type": "display_data",
          "data": {
            "text/plain": [
              "Matrix([[-3*alpha1/5, 9*alpha1/5, -7*alpha1/10, alpha1]])"
            ],
            "text/latex": "$\\displaystyle \\left[\\begin{matrix}- \\frac{3 \\alpha_{1}}{5} & \\frac{9 \\alpha_{1}}{5} & - \\frac{7 \\alpha_{1}}{10} & \\alpha_{1}\\end{matrix}\\right]$"
          },
          "metadata": {}
        },
        {
          "output_type": "display_data",
          "data": {
            "text/plain": [
              "{(-3*x4/5, 9*x4/5, -7*x4/10, x4)}"
            ],
            "text/latex": "$\\displaystyle \\left\\{\\left( - \\frac{3 x_{4}}{5}, \\  \\frac{9 x_{4}}{5}, \\  - \\frac{7 x_{4}}{10}, \\  x_{4}\\right)\\right\\}$"
          },
          "metadata": {}
        },
        {
          "output_type": "stream",
          "name": "stdout",
          "text": [
            "\n"
          ]
        },
        {
          "output_type": "display_data",
          "data": {
            "text/plain": [
              "Matrix([[7*alpha1/8 - alpha2/8 - 3*alpha3/4, alpha1, alpha2, alpha3]])"
            ],
            "text/latex": "$\\displaystyle \\left[\\begin{matrix}\\frac{7 \\alpha_{1}}{8} - \\frac{\\alpha_{2}}{8} - \\frac{3 \\alpha_{3}}{4} & \\alpha_{1} & \\alpha_{2} & \\alpha_{3}\\end{matrix}\\right]$"
          },
          "metadata": {}
        },
        {
          "output_type": "display_data",
          "data": {
            "text/plain": [
              "{(7*x2/8 - x3/8 - 3*x4/4, x2, x3, x4)}"
            ],
            "text/latex": "$\\displaystyle \\left\\{\\left( \\frac{7 x_{2}}{8} - \\frac{x_{3}}{8} - \\frac{3 x_{4}}{4}, \\  x_{2}, \\  x_{3}, \\  x_{4}\\right)\\right\\}$"
          },
          "metadata": {}
        },
        {
          "output_type": "stream",
          "name": "stdout",
          "text": [
            "\n"
          ]
        }
      ],
      "source": [
        "\n",
        "for A in [a_A, b_A, c_A]:\n",
        "  n, m = A.shape\n",
        "  x = symbols('x1:' + str(m + 1))\n",
        "  x = symbols(f'x1:{m + 1}')\n",
        "  X = zeros(m , 1)\n",
        "  for i, vect in enumerate(A.nullspace()):\n",
        "      X += vect * Symbol('alpha' + str(i + 1))\n",
        "  display(X.T, linsolve((A, zeros(n, 1)), x))\n",
        "  print()\n"
      ]
    },
    {
      "cell_type": "markdown",
      "source": [
        "### Задание 6*\n",
        "Написать функцию с обязательным аргументом матрицей $A$ и необязательным аргументом - именем переменной (по умолчанию $x$), возвращающую ФСР и общее решение однородной СЛАУ.\n",
        "\n",
        "Протестировать функцию на матрицах задания 4 с и без указания имени переменной, в качестве имени указывать соответственно $a$, $b$ и $c$."
      ],
      "metadata": {
        "id": "ATwU2pUrOrFg"
      }
    },
    {
      "cell_type": "code",
      "source": [
        "def solution(A, arg_name = 'x'):\n",
        "  n,m = A.shape\n",
        "  sol = zeros(m, 1)\n",
        "  for i, vector in enumerate(A.nullspace()):\n",
        "        sol += vector * Symbol(arg_name + str(i + 1))\n",
        "  return (A.nullspace(), sol)\n",
        "\n",
        "\n",
        "for nullspace, sol in [solution(A) for A in [a_A, b_A, c_A]]:\n",
        "  display(Latex(latex(nullspace)))\n",
        "  print(\"ФСР\")\n",
        "  display(sol)\n",
        "  print(\"Общее решение\")\n",
        "  print()\n"
      ],
      "metadata": {
        "colab": {
          "base_uri": "https://localhost:8080/",
          "height": 664
        },
        "id": "-oXIcjz0qGSY",
        "outputId": "9c49dc6d-caea-4aa8-aec6-9a291cf5ef80"
      },
      "execution_count": null,
      "outputs": [
        {
          "output_type": "display_data",
          "data": {
            "text/plain": [
              "<IPython.core.display.Latex object>"
            ],
            "text/latex": "\\left[ \\left[\\begin{matrix}\\frac{53}{45}\\\\- \\frac{34}{45}\\\\1\\\\0\\end{matrix}\\right], \\  \\left[\\begin{matrix}- \\frac{8}{15}\\\\\\frac{19}{15}\\\\0\\\\1\\end{matrix}\\right]\\right]"
          },
          "metadata": {}
        },
        {
          "output_type": "stream",
          "name": "stdout",
          "text": [
            "ФСР\n"
          ]
        },
        {
          "output_type": "display_data",
          "data": {
            "text/plain": [
              "Matrix([\n",
              "[  53*x1/45 - 8*x2/15],\n",
              "[-34*x1/45 + 19*x2/15],\n",
              "[                  x1],\n",
              "[                  x2]])"
            ],
            "text/latex": "$\\displaystyle \\left[\\begin{matrix}\\frac{53 x_{1}}{45} - \\frac{8 x_{2}}{15}\\\\- \\frac{34 x_{1}}{45} + \\frac{19 x_{2}}{15}\\\\x_{1}\\\\x_{2}\\end{matrix}\\right]$"
          },
          "metadata": {}
        },
        {
          "output_type": "stream",
          "name": "stdout",
          "text": [
            "Общее решение\n",
            "\n"
          ]
        },
        {
          "output_type": "display_data",
          "data": {
            "text/plain": [
              "<IPython.core.display.Latex object>"
            ],
            "text/latex": "\\left[ \\left[\\begin{matrix}- \\frac{3}{5}\\\\\\frac{9}{5}\\\\- \\frac{7}{10}\\\\1\\end{matrix}\\right]\\right]"
          },
          "metadata": {}
        },
        {
          "output_type": "stream",
          "name": "stdout",
          "text": [
            "ФСР\n"
          ]
        },
        {
          "output_type": "display_data",
          "data": {
            "text/plain": [
              "Matrix([\n",
              "[ -3*x1/5],\n",
              "[  9*x1/5],\n",
              "[-7*x1/10],\n",
              "[      x1]])"
            ],
            "text/latex": "$\\displaystyle \\left[\\begin{matrix}- \\frac{3 x_{1}}{5}\\\\\\frac{9 x_{1}}{5}\\\\- \\frac{7 x_{1}}{10}\\\\x_{1}\\end{matrix}\\right]$"
          },
          "metadata": {}
        },
        {
          "output_type": "stream",
          "name": "stdout",
          "text": [
            "Общее решение\n",
            "\n"
          ]
        },
        {
          "output_type": "display_data",
          "data": {
            "text/plain": [
              "<IPython.core.display.Latex object>"
            ],
            "text/latex": "\\left[ \\left[\\begin{matrix}\\frac{7}{8}\\\\1\\\\0\\\\0\\end{matrix}\\right], \\  \\left[\\begin{matrix}- \\frac{1}{8}\\\\0\\\\1\\\\0\\end{matrix}\\right], \\  \\left[\\begin{matrix}- \\frac{3}{4}\\\\0\\\\0\\\\1\\end{matrix}\\right]\\right]"
          },
          "metadata": {}
        },
        {
          "output_type": "stream",
          "name": "stdout",
          "text": [
            "ФСР\n"
          ]
        },
        {
          "output_type": "display_data",
          "data": {
            "text/plain": [
              "Matrix([\n",
              "[7*x1/8 - x2/8 - 3*x3/4],\n",
              "[                    x1],\n",
              "[                    x2],\n",
              "[                    x3]])"
            ],
            "text/latex": "$\\displaystyle \\left[\\begin{matrix}\\frac{7 x_{1}}{8} - \\frac{x_{2}}{8} - \\frac{3 x_{3}}{4}\\\\x_{1}\\\\x_{2}\\\\x_{3}\\end{matrix}\\right]$"
          },
          "metadata": {}
        },
        {
          "output_type": "stream",
          "name": "stdout",
          "text": [
            "Общее решение\n",
            "\n"
          ]
        }
      ]
    },
    {
      "cell_type": "markdown",
      "metadata": {
        "id": "q96MSia2O8SU"
      },
      "source": [
        "### Индивидуальное задание.\n",
        "Дана СЛАУ $AX = b$. Проверить совместность по теореме Кронекера-Капелли. Если СЛАУ совместна, проверить единственность решения.\n",
        "Для соответствующей однородной СЛАУ проверить существование нетривиального решения. В случае, если оно существует,\n",
        "найти размерность пространства решений и составить ФСР и общее решение однородной и неоднородной СЛАУ.\n"
      ]
    },
    {
      "cell_type": "code",
      "source": [
        "# var 169\n",
        "A = Matrix(((1, -6, -7, -5, -2),\n",
        "            (-2, -3, 5, -9, 3),\n",
        "            (11, -6, -41, 21, -18),\n",
        "            (2, -5, 6, -3, -5),\n",
        "            (6, -5, -6, -4, 5)))\n",
        "b = Matrix((-16, -60, 192, -16, -85))\n",
        "n, m = A.shape\n",
        "slau = A.row_join(b)\n",
        "display(slau)\n",
        "if A.rank() == slau.rank():\n",
        "  print(\"СЛАУ совместна, имеет \" + (\"единственное решение\\n\" if A.rank() == m else \"бесконечное количество решений\\n\"))\n",
        "else:\n",
        "  print(\"СЛАУ несовместна\\n\")\n",
        "\n",
        "display(A.row_join(zeros(n, 1)))\n",
        "if A.rank() < m:\n",
        "  print(\"Однородная СЛАУ имеет нетривиальное решение\")\n",
        "  print(\"Размерность пространства решений: \" + str(m - A.rank()) + '\\n')\n",
        "  display(Latex(latex(A.nullspace())))\n",
        "  print(\"ФСР\\n\")\n",
        "  X = zeros(m, 1)\n",
        "  for i, vector in enumerate(A.nullspace()):\n",
        "    X += vector * Symbol('x' + str(i + 1))\n",
        "  display(X)\n",
        "  print(\"Общее решение однордной СЛАУ\\n\")\n",
        "  display(linsolve(slau, symbols(f'x1:{m + 1}')))\n",
        "  print(\"Общее решение неоднородной СЛАУ\")\n",
        "\n"
      ],
      "metadata": {
        "colab": {
          "base_uri": "https://localhost:8080/",
          "height": 639
        },
        "id": "Byq5nvPltsRS",
        "outputId": "66aed275-b8ec-49b5-ebf0-8906eaddfaad"
      },
      "execution_count": null,
      "outputs": [
        {
          "output_type": "display_data",
          "data": {
            "text/plain": [
              "Matrix([\n",
              "[ 1, -6,  -7, -5,  -2, -16],\n",
              "[-2, -3,   5, -9,   3, -60],\n",
              "[11, -6, -41, 21, -18, 192],\n",
              "[ 2, -5,   6, -3,  -5, -16],\n",
              "[ 6, -5,  -6, -4,   5, -85]])"
            ],
            "text/latex": "$\\displaystyle \\left[\\begin{matrix}1 & -6 & -7 & -5 & -2 & -16\\\\-2 & -3 & 5 & -9 & 3 & -60\\\\11 & -6 & -41 & 21 & -18 & 192\\\\2 & -5 & 6 & -3 & -5 & -16\\\\6 & -5 & -6 & -4 & 5 & -85\\end{matrix}\\right]$"
          },
          "metadata": {}
        },
        {
          "output_type": "stream",
          "name": "stdout",
          "text": [
            "СЛАУ совместна, имеет бесконечное количество решений\n",
            "\n"
          ]
        },
        {
          "output_type": "display_data",
          "data": {
            "text/plain": [
              "Matrix([\n",
              "[ 1, -6,  -7, -5,  -2, 0],\n",
              "[-2, -3,   5, -9,   3, 0],\n",
              "[11, -6, -41, 21, -18, 0],\n",
              "[ 2, -5,   6, -3,  -5, 0],\n",
              "[ 6, -5,  -6, -4,   5, 0]])"
            ],
            "text/latex": "$\\displaystyle \\left[\\begin{matrix}1 & -6 & -7 & -5 & -2 & 0\\\\-2 & -3 & 5 & -9 & 3 & 0\\\\11 & -6 & -41 & 21 & -18 & 0\\\\2 & -5 & 6 & -3 & -5 & 0\\\\6 & -5 & -6 & -4 & 5 & 0\\end{matrix}\\right]$"
          },
          "metadata": {}
        },
        {
          "output_type": "stream",
          "name": "stdout",
          "text": [
            "Однородная СЛАУ имеет нетривиальное решение\n",
            "Размерность пространства решений: 1\n",
            "\n"
          ]
        },
        {
          "output_type": "display_data",
          "data": {
            "text/plain": [
              "<IPython.core.display.Latex object>"
            ],
            "text/latex": "\\left[ \\left[\\begin{matrix}- \\frac{3532}{2657}\\\\- \\frac{5571}{2657}\\\\\\frac{710}{2657}\\\\\\frac{3922}{2657}\\\\1\\end{matrix}\\right]\\right]"
          },
          "metadata": {}
        },
        {
          "output_type": "stream",
          "name": "stdout",
          "text": [
            "ФСР\n",
            "\n"
          ]
        },
        {
          "output_type": "display_data",
          "data": {
            "text/plain": [
              "Matrix([\n",
              "[-3532*x1/2657],\n",
              "[-5571*x1/2657],\n",
              "[  710*x1/2657],\n",
              "[ 3922*x1/2657],\n",
              "[           x1]])"
            ],
            "text/latex": "$\\displaystyle \\left[\\begin{matrix}- \\frac{3532 x_{1}}{2657}\\\\- \\frac{5571 x_{1}}{2657}\\\\\\frac{710 x_{1}}{2657}\\\\\\frac{3922 x_{1}}{2657}\\\\x_{1}\\end{matrix}\\right]$"
          },
          "metadata": {}
        },
        {
          "output_type": "stream",
          "name": "stdout",
          "text": [
            "Общее решение однордной СЛАУ\n",
            "\n"
          ]
        },
        {
          "output_type": "display_data",
          "data": {
            "text/plain": [
              "{(-3532*x5/2657 - 38009/2657, -5571*x5/2657 - 28369/2657, 710*x5/2657 - 344/2657, 3922*x5/2657 + 35425/2657, x5)}"
            ],
            "text/latex": "$\\displaystyle \\left\\{\\left( - \\frac{3532 x_{5}}{2657} - \\frac{38009}{2657}, \\  - \\frac{5571 x_{5}}{2657} - \\frac{28369}{2657}, \\  \\frac{710 x_{5}}{2657} - \\frac{344}{2657}, \\  \\frac{3922 x_{5}}{2657} + \\frac{35425}{2657}, \\  x_{5}\\right)\\right\\}$"
          },
          "metadata": {}
        },
        {
          "output_type": "stream",
          "name": "stdout",
          "text": [
            "Общее решение неоднородной СЛАУ\n"
          ]
        }
      ]
    }
  ],
  "metadata": {
    "colab": {
      "provenance": []
    },
    "kernelspec": {
      "display_name": "Python 3 (ipykernel)",
      "language": "python",
      "name": "python3"
    },
    "language_info": {
      "codemirror_mode": {
        "name": "ipython",
        "version": 3
      },
      "file_extension": ".py",
      "mimetype": "text/x-python",
      "name": "python",
      "nbconvert_exporter": "python",
      "pygments_lexer": "ipython3",
      "version": "3.10.7"
    }
  },
  "nbformat": 4,
  "nbformat_minor": 0
}