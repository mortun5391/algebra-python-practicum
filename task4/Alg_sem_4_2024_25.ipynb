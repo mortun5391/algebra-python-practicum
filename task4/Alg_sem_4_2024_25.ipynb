{
  "cells": [
    {
      "cell_type": "markdown",
      "metadata": {
        "id": "AVpO_nqGhzbQ"
      },
      "source": [
        "# Практическое занятие 4\n",
        "## Компьютерный практикум по алгебре на Python\n",
        "## Фундаментальная система решений однородной СЛАУ"
      ]
    },
    {
      "cell_type": "markdown",
      "metadata": {
        "id": "HnQICnM4hzbS"
      },
      "source": [
        "https://docs.sympy.org/latest/modules/solvers/solveset.html#sympy.solvers.solveset.linsolve"
      ]
    },
    {
      "cell_type": "code",
      "execution_count": 1,
      "metadata": {
        "id": "7C6wiKJphzbS"
      },
      "outputs": [],
      "source": [
        "import sympy\n",
        "from sympy import linsolve, Matrix, S, Symbol, symbols, Eq,\\\n",
        "linear_eq_to_matrix, zeros, latex\n",
        "from IPython.display import display, Latex"
      ]
    },
    {
      "cell_type": "markdown",
      "metadata": {
        "id": "RkU4WUtKhzbS"
      },
      "source": [
        "### Ранг матрицы\n",
        "**Рангом** ненулевой матрицы называется максимальный порядок ненулевых миноров этой матрицы.\n",
        "\n",
        "**Альтернативное определение ранга** - максимальное число линейно независимых столбцов (или строк) матрицы.\n",
        "\n",
        "У объектов класса Matrix есть метод **rank()**, вычисляющий ранг матрицы.\n",
        "### Пример 1.\n",
        "Найти ранг матрицы\n",
        "$$\n",
        "A=\\left(\n",
        "\\begin{matrix}\n",
        "2&3&5&8\\\\\n",
        "3&-2&1&-1\\\\\n",
        "5&1&6&7\n",
        "\\end{matrix}\n",
        "\\right)\n",
        "$$"
      ]
    },
    {
      "cell_type": "code",
      "execution_count": 2,
      "metadata": {
        "colab": {
          "base_uri": "https://localhost:8080/"
        },
        "id": "o9BALYyRhzbT",
        "outputId": "9da64528-8884-47b7-dd34-9ef0db806336"
      },
      "outputs": [
        {
          "output_type": "stream",
          "name": "stdout",
          "text": [
            "Ранг матрицы A равен 2\n"
          ]
        }
      ],
      "source": [
        "A = Matrix([[2, 3, 5, 8],\n",
        "            [3, -2, 1, -1],\n",
        "            [5, 1, 6, 7]])\n",
        "\n",
        "print(f'Ранг матрицы A равен {A.rank()}')"
      ]
    },
    {
      "cell_type": "markdown",
      "metadata": {
        "id": "cP6AXoGShzbT"
      },
      "source": [
        "### Теорема Кронекера-Капелли\n",
        "СЛАУ совместна тогда и только тогда, когда ранг матрицы левой части равен рангу расширенной матрицы СЛАУ.\n",
        "### Пример 2\n",
        "С помощью ранга определить совместность СЛАУ:\n",
        "$$\n",
        "\\left\\{\n",
        "\\begin{matrix}\n",
        "2x_1 + 3x_2 - x_3 + x_4 = 5\\\\\n",
        "3x_1 - 2x_2 + x_3 + 4x_4 = 2\\\\\n",
        "x_1 - 5x_2 + 2x_3 + 3x_4 = -3\n",
        "\\end{matrix}\n",
        "\\right.\n",
        "$$\n",
        "Запишем СЛАУ в матричном виде, составим расширенную матрицу путем присоединения столбца правой части к матрице левой части.\n",
        "Сравним ранги матриц."
      ]
    },
    {
      "cell_type": "code",
      "execution_count": 3,
      "metadata": {
        "colab": {
          "base_uri": "https://localhost:8080/"
        },
        "id": "7KRuY2LMhzbT",
        "outputId": "bcc2272c-deaf-4f72-8b9f-238a965c98da"
      },
      "outputs": [
        {
          "output_type": "execute_result",
          "data": {
            "text/plain": [
              "True"
            ]
          },
          "metadata": {},
          "execution_count": 3
        }
      ],
      "source": [
        "A = Matrix([[2, 3, -1, 1], [3, -2, 1, 4], [1, -5, 2, 3]])\n",
        "b = Matrix([5, 2, -3])\n",
        "A.rank() == A.row_join(b).rank()"
      ]
    },
    {
      "cell_type": "markdown",
      "source": [
        "Более информативный вывод:"
      ],
      "metadata": {
        "id": "dWbrn4DFihwO"
      }
    },
    {
      "cell_type": "code",
      "source": [
        "rA = A.rank()\n",
        "rAb = A.row_join(b).rank()\n",
        "print(f'Ранг {rA} матрицы A{\" не\" * (rA != rAb)} равен рангу {rAb} \\\n",
        "расширенной матрицы')"
      ],
      "metadata": {
        "colab": {
          "base_uri": "https://localhost:8080/"
        },
        "id": "jEL-dMKrilau",
        "outputId": "1d3a1f6e-8da7-4759-efa6-5ac187557b63"
      },
      "execution_count": 4,
      "outputs": [
        {
          "output_type": "stream",
          "name": "stdout",
          "text": [
            "Ранг 2 матрицы A равен рангу 2 расширенной матрицы\n"
          ]
        }
      ]
    },
    {
      "cell_type": "markdown",
      "metadata": {
        "id": "qjethlxjhzbT"
      },
      "source": [
        "Равенство рангов означает совместность данной СЛАУ.\n",
        "### Теорема\n",
        "СЛАУ $AX = b$ с $n$ переменными имеет единственное решение тогда и только тогда, когда $rg A = rg B = n$.\n",
        "\n",
        "Здесь $B$ - расширенная матрица СЛАУ, полученная присоединение к $A$ справа столбца $b$.\n",
        "### Пример 3\n",
        "Определить какие из перечисленных СЛАУ имеют единственное решение:\n",
        "$$\n",
        "a)\\\n",
        "\\left\\{\n",
        "\\begin{matrix}\n",
        "2x_1 + 3x_2 - x_3 + x_4 = 11\\\\\n",
        "3x_1 - 2x_2 + x_3 + 4x_4 = 6\\\\\n",
        "x_1 - 5x_2 + 2x_3 + 3x_4 = -5\\\\\n",
        "-x_1 + x_2 + 2x_3 - x_4 = -7\n",
        "\\end{matrix}\n",
        "\\right.\n",
        "\\qquad b)\\\n",
        "\\left\\{\n",
        "\\begin{matrix}\n",
        "2x_1 + 3x_2 - x_3 = 5\\\\\n",
        "3x_1 - 2x_2 + x_3  = 2\\\\\n",
        "x_1 - 5x_2 + 2x_3 = -3\n",
        "\\end{matrix}\n",
        "\\right.\n",
        "\\qquad c)\\\n",
        "\\left\\{\n",
        "\\begin{matrix}\n",
        "2x_1 + 3x_2 - x_3 = 5\\\\\n",
        "x_1 - 2x_2 + x_3 = 2\\\\\n",
        "x_1 - 5x_2 + 2x_3 = -3\n",
        "\\end{matrix}\n",
        "\\right.\n",
        "$$\n",
        "Запишем все СЛАУ в виде расширенной матрицы.\n",
        "Сравним ранги матриц. Пользуемся срезами slice и отрицательной нумерацией для выделения матрицы левой части."
      ]
    },
    {
      "cell_type": "code",
      "execution_count": 5,
      "metadata": {
        "colab": {
          "base_uri": "https://localhost:8080/",
          "height": 159
        },
        "id": "9H8hUaExhzbU",
        "outputId": "9390dc1a-6164-4241-b023-b3721de24b8b"
      },
      "outputs": [
        {
          "output_type": "display_data",
          "data": {
            "text/plain": [
              "Matrix([\n",
              "[ 2,  3, -1,  1, 11],\n",
              "[-1, -2,  1,  4,  6],\n",
              "[ 1, -5,  2,  3, -5],\n",
              "[-1,  1,  2, -1, -7]])"
            ],
            "text/latex": "$\\displaystyle \\left[\\begin{matrix}2 & 3 & -1 & 1 & 11\\\\-1 & -2 & 1 & 4 & 6\\\\1 & -5 & 2 & 3 & -5\\\\-1 & 1 & 2 & -1 & -7\\end{matrix}\\right]$"
          },
          "metadata": {}
        },
        {
          "output_type": "display_data",
          "data": {
            "text/plain": [
              "Matrix([\n",
              "[2,  3, -1,  5],\n",
              "[1, -2,  1,  2],\n",
              "[1, -5,  2, -3]])"
            ],
            "text/latex": "$\\displaystyle \\left[\\begin{matrix}2 & 3 & -1 & 5\\\\1 & -2 & 1 & 2\\\\1 & -5 & 2 & -3\\end{matrix}\\right]$"
          },
          "metadata": {}
        }
      ],
      "source": [
        "B_a = Matrix([[2, 3, -1, 1, 11], [-1, -2, 1, 4, 6],\n",
        "              [1, -5, 2, 3, -5], [-1, 1, 2, -1, -7]])\n",
        "B_b = Matrix([[2, 3, -1, 5], [3, -2, 1, 2], [1, -5, 2, -3]])\n",
        "B_c = Matrix([[2, 3, -1, 5], [1, -2, 1, 2], [1, -5, 2, -3]])\n",
        "for B in [B_a, B_b, B_c]:\n",
        "    A = B[:, :-1]\n",
        "    rgA = A.rank()\n",
        "    n, m = A.shape # m -число столбцов, m равно числу переменных\n",
        "    if rgA == B.rank() and rgA == m:\n",
        "        display(B)"
      ]
    },
    {
      "cell_type": "markdown",
      "source": [
        "Более информативный вывод:"
      ],
      "metadata": {
        "id": "lsyhYZ9Hk2cJ"
      }
    },
    {
      "cell_type": "code",
      "source": [
        "for number, B in zip(('a)', 'b)', 'c)'), [B_a, B_b, B_c]):\n",
        "    A = B[:, :-1]\n",
        "    rgA = A.rank()\n",
        "    n, m = A.shape # m -число столбцов, m равно числу переменных\n",
        "    print(f'{number} {\"не \" * (not (rgA == B.rank() and rgA == m))}\\\n",
        "единственное решение')"
      ],
      "metadata": {
        "colab": {
          "base_uri": "https://localhost:8080/"
        },
        "id": "SgXiDk3ok9G5",
        "outputId": "c78ae443-234f-4646-fabf-0b56810f0816"
      },
      "execution_count": 6,
      "outputs": [
        {
          "output_type": "stream",
          "name": "stdout",
          "text": [
            "a) единственное решение\n",
            "b) не единственное решение\n",
            "c) единственное решение\n"
          ]
        }
      ]
    },
    {
      "cell_type": "markdown",
      "metadata": {
        "id": "xeew95WvhzbU"
      },
      "source": [
        "Здесь использован zip - встроенное средство Python для соединения в кортежи поэлементно нескольких объектов перечислимого типа.\n",
        "В нашем случае из кортежа ('a)', 'b)', 'c}') и списка [B_a, B_b, B_c] получилась последовательность, состоящая из кортежей ('a)', B_a), ('b)', B_b),  ('c}'), B_c). В цикле for счетчики number и B принимали значения соответственно первого и второго элементов этих кортежей.\n",
        "***!!! zip создает одноразовый объект, его нет смысла записывать в переменную для повторного использования***.\n",
        "\n",
        "### Однородная СЛАУ\n",
        "СЛАУ вида  $AX = \\bar 0$, где $\\bar 0$ - нулевой вектор.\n",
        "\n",
        "Однородная СЛАУ всегда совместна, она имеет по крайней мере одно решение - нулевой вектор.\n",
        "### Теорема\n",
        "Однородная СЛАУ с $n$ переменными имеет нетривиальное решение тогда и только тогда, когда $rg A < n$.\n",
        "### Пример 3\n",
        "Определить какие из перечисленных однородных СЛАУ имеют нетривиальное решение:\n",
        "$$\n",
        "a)\\\n",
        "\\left\\{\n",
        "\\begin{matrix}\n",
        "x_1 + 2x_2 - 3x_3 + x_4 = 0\\\\\n",
        "x_1 - 2x_2 + x_3 + 3x_4 = 0\\\\\n",
        "x_1 - 5x_2 + 2x_3 + 3x_4 = 0\\\\\n",
        "-x_1 + x_2 + 2x_3 - x_4 = 0\n",
        "\\end{matrix}\n",
        "\\right.\n",
        "\\qquad b)\\\n",
        "\\left\\{\n",
        "\\begin{matrix}\n",
        "2x_1 + x_2 - x_3 = 0\\\\\n",
        "-x_1 + 2x_2 + x_3  = 0\\\\\n",
        "-2x_1 - x_2 + 2x_3 = 0\n",
        "\\end{matrix}\n",
        "\\right.\n",
        "\\qquad c)\\\n",
        "\\left\\{\n",
        "\\begin{matrix}\n",
        "2x_1 + 3x_2 - x_3 = 0\\\\\n",
        "3x_1 - 2x_2 + 2x_3 = 0\\\\\n",
        "5x_1 + x_2 + x_3 = 0\n",
        "\\end{matrix}\n",
        "\\right.\n",
        "$$\n",
        "Сравним ранги матриц СЛАУ с их размерностями.\n",
        "\n",
        "**enumerate**\n",
        "\n",
        "Изучим удобное средство для перебора элементов в списке с одновременным обращением по индексу.\n",
        "Удобно использовать enumerate в цикле for.\n",
        "\n",
        "`for i, item in enumerate(my_list):`\n",
        "\n",
        "позволяет для каждого элемента списка получить доступ как к самому элементу, так и к его номеру в списке.\n",
        "\n",
        "Будем перебирать в цикле матрицы СЛАУ, а выводить на экран номер СЛАУ (a, b или c)."
      ]
    },
    {
      "cell_type": "code",
      "execution_count": 7,
      "metadata": {
        "colab": {
          "base_uri": "https://localhost:8080/"
        },
        "id": "fFGPt48GhzbU",
        "outputId": "542d8661-0c21-43bf-e405-001cacc922df"
      },
      "outputs": [
        {
          "output_type": "stream",
          "name": "stdout",
          "text": [
            "Нетривиальное решение имеют СЛАУ a) c) "
          ]
        }
      ],
      "source": [
        "A_a = Matrix([[1, 2, -3, 1], [1, -2, 1, 3], [1, -5, 2, 3], [-1, 1, 2, -1]])\n",
        "A_b = Matrix([[2, 1, -1], [-1, 2, 1], [-2, -1, 2]])\n",
        "A_c = Matrix([[2, 3, -1], [3, -2, 2], [5, 1, 1]])\n",
        "number = ['a', 'b', 'c']\n",
        "print('Нетривиальное решение имеют СЛАУ ', end='')\n",
        "for i, A in enumerate([A_a, A_b, A_c]):\n",
        "    if A.rank() < A.shape[1]:\n",
        "        print(f'{number[i]})', end=' ')"
      ]
    },
    {
      "cell_type": "markdown",
      "metadata": {
        "id": "95O6e2_jhzbU"
      },
      "source": [
        "### Теорема\n",
        "Однородная СЛАУ квадратной матрицей имеет нетривиальное решение тогда и только тогда, когда определитель этой матрицы равен нулю.\n",
        "### Пример 4\n",
        "Проверить утверждение теоремы на матрицах СЛАУ из Примера 3. Вычислить определитель матрицы однородной СЛАУ и решить СЛАУ с помощью linsolve.\n",
        "\n",
        "Будем использовать zeros(n, 1) для построения нулевого вектора.\n",
        "\n",
        "Поскольку в каждой СЛАУ разное число переменных, то для подстановки в linsolve переменных будем создавать их столько, сколько нужно в каждой СЛАУ. При нумерации переменных с единицы последний номер будет равен размерности матрицы, но в диапазоне нужно указать на единицу больше, чтобы последний символ был создан. Обозначим $n$ размерность матрицы $A$, преобразуем $n + 1$ в строку, чтобы использовать при создании символов.\n",
        "\n",
        "Для красивого вывода на экран использована функция Latex из IPython.display, отрисовывающая на экране формулы, представленные в текстовом виде в формате Latex. Функция latex возвращает в тестовом виде формулы в Latex, соответствующие ее аргументу, являющемуся выражением на Python."
      ]
    },
    {
      "cell_type": "code",
      "execution_count": 18,
      "metadata": {
        "colab": {
          "base_uri": "https://localhost:8080/",
          "height": 81
        },
        "id": "NflUEUwJhzbV",
        "outputId": "26fb5b7f-9eac-4bc1-c6d4-39e88db7216a"
      },
      "outputs": [
        {
          "output_type": "display_data",
          "data": {
            "text/plain": [
              "<IPython.core.display.Latex object>"
            ],
            "text/latex": "a)\\ |A| = 0,\n    \\text{ решение }\\left\\{\\left( - \\frac{11 x_{4}}{4}, \\  - \\frac{x_{4}}{4}, \\  - \\frac{3 x_{4}}{4}, \\  x_{4}\\right)\\right\\}"
          },
          "metadata": {}
        },
        {
          "output_type": "display_data",
          "data": {
            "text/plain": [
              "<IPython.core.display.Latex object>"
            ],
            "text/latex": "b)\\ |A| = 5,\n    \\text{ решение }\\left\\{\\left( 0, \\  0, \\  0\\right)\\right\\}"
          },
          "metadata": {}
        },
        {
          "output_type": "display_data",
          "data": {
            "text/plain": [
              "<IPython.core.display.Latex object>"
            ],
            "text/latex": "c)\\ |A| = 0,\n    \\text{ решение }\\left\\{\\left( - \\frac{4 x_{3}}{13}, \\  \\frac{7 x_{3}}{13}, \\  x_{3}\\right)\\right\\}"
          },
          "metadata": {}
        }
      ],
      "source": [
        "for i, A in enumerate([A_a, A_b, A_c]):\n",
        "    n, m = A.shape\n",
        "    display(Latex(fr\"\"\"{number[i]})\\ |A| = {A.det()},\n",
        "    \\text{{ решение }}{latex(linsolve((A, zeros(n, 1)),\n",
        "    symbols('x1:' + str(m + 1))))}\"\"\"))"
      ]
    },
    {
      "cell_type": "markdown",
      "metadata": {
        "id": "SVUgruGVhzbV"
      },
      "source": [
        "###  Линейное подпространство решений однородной СЛАУ\n",
        "### Теорема\n",
        "Множество всех решений однородной СЛАУ $AX = \\bar 0$ с $n$ переменными является линейным подпространством арифметического пространства $R^n$.\n",
        "### Фундаментальная система решений (ФСР) однородной СЛАУ\n",
        "это произвольный базис подпространства решений СЛАУ.\n",
        "### Теорема\n",
        "Размерность подпространства решений однородной СЛАУ $AX = \\bar 0$ с $n$ переменными равна $n - r$, где $r = rg(A)$.\n",
        "### Общее решение  однородной СЛАУ\n",
        "Любое решение $X$ однородной СЛАУ выражается как линейная комбинация векторов ФСР этой СЛАУ:\n",
        "$$\n",
        "X = \\alpha_1 e_1 + \\alpha_2 e_2 + ... + \\alpha_m e_m,\n",
        "$$\n",
        "где $e_1, e_2, ..., e_m$ - векторы ФСР.\n",
        "\n",
        "## nullspace\n",
        "Метод nullspace позволяет построить ФСР однородной СЛАУ с матрицей $AX = \\bar 0$.\n",
        "https://docs.sympy.org/latest/modules/matrices/matrices.html?highlight=nullspace#sympy.matrices.matrices.MatrixSubspaces.nullspace\n",
        "Метод nullspace возвращает список векторов ФСР.\n",
        "### Пример 5\n",
        "Построить ФСР однородной СЛАУ 4-го порядка из Примера 3 а.\n",
        "Для удобства скопируем матрицу СЛАУ. Для красивого представления ФСР на экране воспользуемся display."
      ]
    },
    {
      "cell_type": "code",
      "execution_count": 9,
      "metadata": {
        "colab": {
          "base_uri": "https://localhost:8080/",
          "height": 99
        },
        "id": "4WtSgnujhzbV",
        "outputId": "0dc062a0-6157-49f4-92bf-a3aa37a965e0"
      },
      "outputs": [
        {
          "output_type": "display_data",
          "data": {
            "text/plain": [
              "<IPython.core.display.Latex object>"
            ],
            "text/latex": "ФСР: \\left[ \\left[\\begin{matrix}- \\frac{11}{4}\\\\- \\frac{1}{4}\\\\- \\frac{3}{4}\\\\1\\end{matrix}\\right]\\right],\\ ранг\\ 3"
          },
          "metadata": {}
        }
      ],
      "source": [
        "A5 = Matrix([[1, 2, -3, 1], [1, -2, 1, 3], [1, -5, 2, 3], [-1, 1, 2, -1]])\n",
        "display(Latex(f'ФСР: {latex(A5.nullspace())},\\ ранг\\ {A5.rank()}'))"
      ]
    },
    {
      "cell_type": "markdown",
      "metadata": {
        "id": "0ZNcsgHXhzbV"
      },
      "source": [
        "ФСР данной СЛАУ состоит из одного вектора.\n",
        "### Пример 6\n",
        "Построим ФСР однородной СЛАУ, состоящей из первых двух уравнений СЛАУ из Примера 5."
      ]
    },
    {
      "cell_type": "code",
      "execution_count": 10,
      "metadata": {
        "colab": {
          "base_uri": "https://localhost:8080/",
          "height": 98
        },
        "id": "3BL51YcVhzbV",
        "outputId": "5c4ff853-af09-40e3-e2a2-9b2d7755b784"
      },
      "outputs": [
        {
          "output_type": "display_data",
          "data": {
            "text/plain": [
              "<IPython.core.display.Latex object>"
            ],
            "text/latex": "ФСР: \\left[ \\left[\\begin{matrix}1\\\\1\\\\1\\\\0\\end{matrix}\\right], \\  \\left[\\begin{matrix}-2\\\\\\frac{1}{2}\\\\0\\\\1\\end{matrix}\\right]\\right],\n ранг\\ 2,\\ число\\ переменных\\ 4"
          },
          "metadata": {}
        }
      ],
      "source": [
        "A6 = A5[:2, :]\n",
        "display(Latex(f\"\"\"ФСР: {latex(A6.nullspace())},\n",
        " ранг\\ {A6.rank()},\\ число\\ переменных\\ {A6.shape[1]}\"\"\"))"
      ]
    },
    {
      "cell_type": "markdown",
      "metadata": {
        "id": "jgO4s3KQhzbV"
      },
      "source": [
        "### Пример 7\n",
        "Построим на основе ФСР однородной СЛАУ примера 6 общее решение СЛАУ. Решим СЛАУ с помощью linsolve и сравним результаты."
      ]
    },
    {
      "cell_type": "code",
      "execution_count": 11,
      "metadata": {
        "colab": {
          "base_uri": "https://localhost:8080/",
          "height": 38
        },
        "id": "CWrV8mjlhzbV",
        "outputId": "d0c8e983-479a-4169-d584-efdba3370e3b"
      },
      "outputs": [
        {
          "output_type": "display_data",
          "data": {
            "text/plain": [
              "<IPython.core.display.Latex object>"
            ],
            "text/latex": "X = \\left[\\begin{matrix}\\alpha_{1} - 2 \\alpha_{2} & \\alpha_{1} + \\frac{\\alpha_{2}}{2} & \\alpha_{1} & \\alpha_{2}\\end{matrix}\\right],\n\\ linsolve: \\left\\{\\left( x_{3} - 2 x_{4}, \\  x_{3} + \\frac{x_{4}}{2}, \\  x_{3}, \\  x_{4}\\right)\\right\\}"
          },
          "metadata": {}
        }
      ],
      "source": [
        "n, m = A6.shape\n",
        "x = symbols('x1:' + str(m + 1))\n",
        "x = symbols(f'x1:{m + 1}')\n",
        "X = zeros(m, 1)\n",
        "for i, vect in enumerate(A6.nullspace()):\n",
        "    X += vect * Symbol('alpha' + str(i + 1))\n",
        "display(Latex(f\"\"\"X = {latex(X.T)},\n",
        "\\ linsolve: {latex(linsolve((A6, zeros(n, 1)), x))}\"\"\"))"
      ]
    },
    {
      "cell_type": "markdown",
      "metadata": {
        "id": "qnmOn58ahzbW"
      },
      "source": [
        "Общее решение отличается от результата linsolve только именами переменных.\n",
        "\n",
        "Заметим, что ФСР у любой СЛАУ с вырожденной матрицей бесконечное число.\n",
        "\n",
        "### Для красивого вывода на экран\n",
        "можно создать вспомогательный символ Х и составить уравнение Eq, заодно преобразовав множество решений в матрицу из одного столбца.\n",
        "\n",
        "Заметим, что в случае, если множество состоит из более чем одного элемента, нужны дополнительные действия для поэлементного преобразования в матрицу."
      ]
    },
    {
      "cell_type": "code",
      "execution_count": 12,
      "metadata": {
        "colab": {
          "base_uri": "https://localhost:8080/",
          "height": 98
        },
        "id": "5mrhivPxhzbW",
        "outputId": "0d887785-029f-45f5-fe3a-a101656da4bd"
      },
      "outputs": [
        {
          "output_type": "display_data",
          "data": {
            "text/plain": [
              "Eq(X, Matrix([\n",
              "[x3 - 2*x4],\n",
              "[x3 + x4/2],\n",
              "[       x3],\n",
              "[       x4]]))"
            ],
            "text/latex": "$\\displaystyle X = \\left[\\begin{matrix}x_{3} - 2 x_{4}\\\\x_{3} + \\frac{x_{4}}{2}\\\\x_{3}\\\\x_{4}\\end{matrix}\\right]$"
          },
          "metadata": {}
        }
      ],
      "source": [
        "display(Eq(Symbol('X'),\n",
        "           Matrix(*linsolve((A6, zeros(n, 1)), x)), evaluate=False))"
      ]
    },
    {
      "cell_type": "markdown",
      "source": [
        "## Общее решение неоднородной СЛАУ\n",
        "\n",
        "Пусть $X_0$ - произвольное решение однородной СЛАУ $AX = \\bar 0$, $X^*$ - частное решение неоднородной СЛАУ $AX = b$, тогда $X_0 + X^*$ является решением $AX = b$, поскольку $A(X_0 + X^*) = A X_0 + A X^* = \\bar 0 + b = b$. С другой стороны, любое решение $X$ неоднородной СЛАУ $AX = b$ можно представить в виде $X = X_0 + X^*$, где $X_0$ - произвольное решение однородной СЛАУ $AX = \\bar 0$, например, положив  $X_0 = X - X^*$ (поскольку $A(X - X^*) = A X - A X^* = b - b =  \\bar 0$ означает, что  $X_0 = X - X^*$ является решением однородной СЛАУ $AX = \\bar 0$)\n",
        "\n",
        "### Пример 8\n",
        "Построим общее решение СЛАУ Примера 3 b). Решим СЛАУ с помощью linsolve и сравним результаты.\n",
        "$$\n",
        "b)\\\n",
        "\\left\\{\n",
        "\\begin{matrix}\n",
        "2x_1 + 3x_2 - x_3 = 5\\\\\n",
        "3x_1 - 2x_2 + x_3  = 2\\\\\n",
        "x_1 - 5x_2 + 2x_3 = -3\n",
        "\\end{matrix}\n",
        "\\right.\n",
        "$$\n",
        "Сначала на основе ФСР соответствующей однородной СЛАУ построим общее решение однородной СЛАУ, а затем построим частное решение неоднородной СЛАУ и проверим, что их сумма является решением неоднородной СЛАУ."
      ],
      "metadata": {
        "id": "gJE04Nq8-4fz"
      }
    },
    {
      "cell_type": "code",
      "source": [
        "A8 = Matrix([[2, 3, -1], [3, -2, 1], [1, -5, 2]])\n",
        "b8 = Matrix([[5], [2], [-3]])\n",
        "ns = A8.nullspace()\n",
        "display(Latex(f\"\"\"ФСР: {latex(ns)},\n",
        "\\ ранг\\ {A8.rank()},\\ число\\ переменных\\ {A8.shape[1]}\"\"\"))"
      ],
      "metadata": {
        "colab": {
          "base_uri": "https://localhost:8080/",
          "height": 78
        },
        "id": "IYj4VSK6B0mZ",
        "outputId": "017e3201-513d-40d0-9b2b-7cd4b4dbdbf7"
      },
      "execution_count": 13,
      "outputs": [
        {
          "output_type": "display_data",
          "data": {
            "text/plain": [
              "<IPython.core.display.Latex object>"
            ],
            "text/latex": "ФСР: \\left[ \\left[\\begin{matrix}- \\frac{1}{13}\\\\\\frac{5}{13}\\\\1\\end{matrix}\\right]\\right],\n\\ ранг\\ 2,\\ число\\ переменных\\ 3"
          },
          "metadata": {}
        }
      ]
    },
    {
      "cell_type": "markdown",
      "source": [
        "Видим, что у нашей СЛАУ одна свободная переменная, пусть это будет $x_3$, положим $x_3 = 0$, добавив к нашей СЛАУ это уравнение. Обозначим A8_0 и b8_0 матрицу левой части и правую часть полученной СЛАУ и решим эту СЛАУ, имеющую единственное решение, получим частное решение исходной неоднородной СЛАУ."
      ],
      "metadata": {
        "id": "6u7GCr06Ggnr"
      }
    },
    {
      "cell_type": "code",
      "source": [
        "A8_0 = A8.row_insert(3, Matrix([[0, 0, 1]]))\n",
        "b8_0 = b8.row_insert(3,  Matrix([0]))\n",
        "X_ = linsolve((A8_0, b8_0))\n",
        "X_ = Matrix(*X_)\n",
        "display(Latex(f\"\"\"A8\\_0 = {latex(A8_0)},\\ b8\\_0 = {latex(b8_0)},\\\n",
        "\\ ранг\\ СЛАУ\\ {A8_0.rank()},\\ число\\ переменных\\ {A8_0.shape[1]},\\\n",
        "\\ X^* = {latex(X_)}\"\"\"))"
      ],
      "metadata": {
        "colab": {
          "base_uri": "https://localhost:8080/",
          "height": 98
        },
        "id": "VJUoJZBnHUnh",
        "outputId": "5918b1d3-f09c-48dd-cb25-b5a664fe9d3c"
      },
      "execution_count": 14,
      "outputs": [
        {
          "output_type": "display_data",
          "data": {
            "text/plain": [
              "<IPython.core.display.Latex object>"
            ],
            "text/latex": "A8\\_0 = \\left[\\begin{matrix}2 & 3 & -1\\\\3 & -2 & 1\\\\1 & -5 & 2\\\\0 & 0 & 1\\end{matrix}\\right],\\ b8\\_0 = \\left[\\begin{matrix}5\\\\2\\\\-3\\\\0\\end{matrix}\\right],\\ ранг\\ СЛАУ\\ 3,\\ число\\ переменных\\ 3,\\ X^* = \\left[\\begin{matrix}\\frac{16}{13}\\\\\\frac{11}{13}\\\\0\\end{matrix}\\right]"
          },
          "metadata": {}
        }
      ]
    },
    {
      "cell_type": "markdown",
      "source": [
        "Инициируем полученным частным решением общее решение неоднородной СЛАУ и в цикле будем прибавлять к нему векторы ФСР, умноженные на произвольные константы (\"символы\" $c_0$, $c_1$,...)"
      ],
      "metadata": {
        "id": "1ks6xRiDHuZT"
      }
    },
    {
      "cell_type": "code",
      "source": [
        "X_b = X_\n",
        "for k, item in enumerate(ns):\n",
        "    X_b += (S(f'c{k}') * item)\n",
        "display(X_b.T)"
      ],
      "metadata": {
        "colab": {
          "base_uri": "https://localhost:8080/",
          "height": 39
        },
        "id": "jjZOprvmEwl_",
        "outputId": "b4074d95-59f7-4f9c-a2e9-fde0f0a9bce0"
      },
      "execution_count": 15,
      "outputs": [
        {
          "output_type": "display_data",
          "data": {
            "text/plain": [
              "Matrix([[16/13 - c0/13, 5*c0/13 + 11/13, c0]])"
            ],
            "text/latex": "$\\displaystyle \\left[\\begin{matrix}\\frac{16}{13} - \\frac{c_{0}}{13} & \\frac{5 c_{0}}{13} + \\frac{11}{13} & c_{0}\\end{matrix}\\right]$"
          },
          "metadata": {}
        }
      ]
    },
    {
      "cell_type": "markdown",
      "source": [
        "Сравним с результатом, который возвращает linsolve"
      ],
      "metadata": {
        "id": "kMFGKsquGFui"
      }
    },
    {
      "cell_type": "code",
      "source": [
        "display(Matrix(*linsolve((A8, b8))).T)"
      ],
      "metadata": {
        "colab": {
          "base_uri": "https://localhost:8080/",
          "height": 39
        },
        "id": "EJbFxwkMGMdy",
        "outputId": "eab525c3-eed3-47cb-c3bd-5345697433e0"
      },
      "execution_count": 16,
      "outputs": [
        {
          "output_type": "display_data",
          "data": {
            "text/plain": [
              "Matrix([[16/13 - tau0/13, 5*tau0/13 + 11/13, tau0]])"
            ],
            "text/latex": "$\\displaystyle \\left[\\begin{matrix}\\frac{16}{13} - \\frac{\\tau_{0}}{13} & \\frac{5 \\tau_{0}}{13} + \\frac{11}{13} & \\tau_{0}\\end{matrix}\\right]$"
          },
          "metadata": {}
        }
      ]
    }
  ],
  "metadata": {
    "kernelspec": {
      "display_name": "Python 3",
      "language": "python",
      "name": "python3"
    },
    "language_info": {
      "codemirror_mode": {
        "name": "ipython",
        "version": 3
      },
      "file_extension": ".py",
      "mimetype": "text/x-python",
      "name": "python",
      "nbconvert_exporter": "python",
      "pygments_lexer": "ipython3",
      "version": "3.7.3"
    },
    "colab": {
      "provenance": []
    }
  },
  "nbformat": 4,
  "nbformat_minor": 0
}