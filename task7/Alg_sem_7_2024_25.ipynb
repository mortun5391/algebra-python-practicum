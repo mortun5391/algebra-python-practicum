{
  "nbformat": 4,
  "nbformat_minor": 0,
  "metadata": {
    "kernelspec": {
      "display_name": "Python 3",
      "language": "python",
      "name": "python3"
    },
    "language_info": {
      "codemirror_mode": {
        "name": "ipython",
        "version": 3
      },
      "file_extension": ".py",
      "mimetype": "text/x-python",
      "name": "python",
      "nbconvert_exporter": "python",
      "pygments_lexer": "ipython3",
      "version": "3.7.3"
    },
    "colab": {
      "provenance": []
    }
  },
  "cells": [
    {
      "cell_type": "code",
      "metadata": {
        "id": "4-Qm7g-LyTuh"
      },
      "source": [
        "import sympy\n",
        "from sympy import  Point, Line, Plane, Point3D, latex, Symbol, symbols\n",
        "from IPython.display import display, Latex"
      ],
      "execution_count": 1,
      "outputs": []
    },
    {
      "cell_type": "markdown",
      "metadata": {
        "id": "aMjWpVeMyTum"
      },
      "source": [
        "# Практическое занятие 7\n",
        "# Компьютерный практикум по алгебре на Python\n",
        "https://docs.sympy.org/latest/search.html?q=geometry\n",
        "\n",
        "## Взаимное расположение прямых и плоскостей в пространстве\n",
        "\n",
        "Методы для изучения:\n",
        "\n",
        "**are_concurrent(*planes)** определяет, пересекаются ли все плоскости по одной прямой, число плоскостей произвольное\n",
        "\n",
        "**are_concurrent(*lines)** определяет, пересекаются ли все прямые в одной точке, число прямых произвольное\n",
        "\n",
        "**distance(o)**   расстояние между плоскостью и другим геометрическим объектом\n",
        "\n",
        "**equals(o)**   возвращает True, если self и o одинаковые математические объекты\n",
        "\n",
        "**intersection(o)**  пересечение с геометрическим объектом o  \n",
        "\n",
        "**contains(o)** возвращает True, если self содержит o, например, точка p лежит на прямой l, l.contains(p)\n",
        "\n",
        "### Пример 1.\n",
        "\n",
        "Даны точки: $A(1, 2, 3)$,  $B(-5, 1, 7)$,\n",
        "$C(3, -2, 6)$,\n",
        "$D(-1, 2, 4)$,\n",
        "$F(5, 1, 7)$,\n",
        "$K(8, 27, 33)$,\n",
        "$M(16, 24, 32)$,\n",
        "$P(14, 28, 29)$.\n",
        "\n",
        "Определить, пересекаются ли по общей прямой плоскости\n",
        "\n",
        "а) $ABC$, $ABK$ и $ABF$\n",
        "\n",
        "б) $ABC$ и $AFK$\n",
        "\n",
        "Определить, пересекаются ли в одной точке прямые\n",
        "\n",
        "а) $AB$ и $CD$\n",
        "\n",
        "б) $AB$ и $FK$"
      ]
    },
    {
      "cell_type": "code",
      "metadata": {
        "id": "JHyb6pZ-yTup",
        "colab": {
          "base_uri": "https://localhost:8080/"
        },
        "outputId": "ec89d1e6-44fa-4f9e-f81b-b0b240c073eb"
      },
      "source": [
        "A = Point(1, 2, 3)\n",
        "B = Point(-5, 1, 7)\n",
        "C = Point(3, -2, 6)\n",
        "ABC = Plane(A, B, C)\n",
        "D = Point(-1, 2, 4)\n",
        "F = Point(5, 1, 7)\n",
        "K = Point(8, 27, 33)\n",
        "M = Point(16, 24, 32)\n",
        "P = Point(14, 28, 29)\n",
        "ABD = Plane(A, B, D)\n",
        "ABF = Plane(A, B, F)\n",
        "ABK = Plane(A, B, K)\n",
        "AFK = Plane(A, F, K)\n",
        "PKM = Plane(P, K, M)\n",
        "AB = Line(A, B)\n",
        "CD = Line(C, D)\n",
        "FK = Line(F, K)\n",
        "print('Пересекаются ли по общей прямой ABC, ABK и ABF?',\n",
        "      Plane.are_concurrent(ABC, ABK, ABF))\n",
        "print('Пересекаются ли по общей прямой ABC и PKM?',\n",
        "      Plane.are_concurrent(ABC, PKM))\n",
        "print('Пересекаются ли в одной точке прямые  AB и СD?',\n",
        "      Line.are_concurrent(AB, CD))\n",
        "print('Пересекаются ли в одной точке прямые  AB и FK?',\n",
        "      Line.are_concurrent(AB, FK))"
      ],
      "execution_count": 2,
      "outputs": [
        {
          "output_type": "stream",
          "name": "stdout",
          "text": [
            "Пересекаются ли по общей прямой ABC, ABK и ABF? True\n",
            "Пересекаются ли по общей прямой ABC и PKM? False\n",
            "Пересекаются ли в одной точке прямые  AB и СD? True\n",
            "Пересекаются ли в одной точке прямые  AB и FK? False\n"
          ]
        }
      ]
    },
    {
      "cell_type": "markdown",
      "metadata": {
        "id": "vg22dtc-yTus"
      },
      "source": [
        "### Пример 2\n",
        "Найти расстояние до плоскости $ABC$\n",
        "\n",
        "а) от точки $F$,\n",
        "\n",
        "б) от прямой $KM$,\n",
        "\n",
        "в) от плоскости $PKM$."
      ]
    },
    {
      "cell_type": "code",
      "metadata": {
        "id": "ii25Qbi-yTut",
        "colab": {
          "base_uri": "https://localhost:8080/",
          "height": 79
        },
        "outputId": "c8a1549b-0854-4e5c-caf2-6e671f33abc1"
      },
      "source": [
        "display(Latex(f'\\\\text{{Расстояние от расстояние от  F до  ABC: }}\\\n",
        "{latex(ABC.distance(F))}'))\n",
        "KM = Line(K, M)\n",
        "display(Latex(f'\\\\text{{Расстояние от расстояние от  KM до  ABC: }}\\\n",
        "{latex(ABC.distance(KM))}'))\n",
        "display(Latex(f'\\\\text{{Расстояние от расстояние от  PKM до  ABC: }}\\\n",
        "{latex(ABC.distance(PKM))}'))"
      ],
      "execution_count": 3,
      "outputs": [
        {
          "output_type": "display_data",
          "data": {
            "text/plain": [
              "<IPython.core.display.Latex object>"
            ],
            "text/latex": "\\text{Расстояние от расстояние от  F до  ABC: }\\frac{10}{3}"
          },
          "metadata": {}
        },
        {
          "output_type": "display_data",
          "data": {
            "text/plain": [
              "<IPython.core.display.Latex object>"
            ],
            "text/latex": "\\text{Расстояние от расстояние от  KM до  ABC: }39"
          },
          "metadata": {}
        },
        {
          "output_type": "display_data",
          "data": {
            "text/plain": [
              "<IPython.core.display.Latex object>"
            ],
            "text/latex": "\\text{Расстояние от расстояние от  PKM до  ABC: }39"
          },
          "metadata": {}
        }
      ]
    },
    {
      "cell_type": "markdown",
      "source": [
        "Но лучше так:"
      ],
      "metadata": {
        "id": "hCpbWee6akm8"
      }
    },
    {
      "cell_type": "code",
      "source": [
        "for obj_name, geom_obj in zip(('F', 'KM', 'PKM'), (F, Line(K, M), PKM)):\n",
        "    display(Latex(f'\\\\text{{Расстояние от расстояние от  {obj_name} до  ABC: }}\\\n",
        "    {latex(ABC.distance(geom_obj))}'))"
      ],
      "metadata": {
        "colab": {
          "base_uri": "https://localhost:8080/",
          "height": 79
        },
        "id": "3tSBaqc8Z1xa",
        "outputId": "836b0a37-3a63-4a8a-ceca-2681b70d8053"
      },
      "execution_count": 4,
      "outputs": [
        {
          "output_type": "display_data",
          "data": {
            "text/plain": [
              "<IPython.core.display.Latex object>"
            ],
            "text/latex": "\\text{Расстояние от расстояние от  F до  ABC: }    \\frac{10}{3}"
          },
          "metadata": {}
        },
        {
          "output_type": "display_data",
          "data": {
            "text/plain": [
              "<IPython.core.display.Latex object>"
            ],
            "text/latex": "\\text{Расстояние от расстояние от  KM до  ABC: }    39"
          },
          "metadata": {}
        },
        {
          "output_type": "display_data",
          "data": {
            "text/plain": [
              "<IPython.core.display.Latex object>"
            ],
            "text/latex": "\\text{Расстояние от расстояние от  PKM до  ABC: }    39"
          },
          "metadata": {}
        }
      ]
    },
    {
      "cell_type": "markdown",
      "metadata": {
        "id": "HUfCtoIWyTut"
      },
      "source": [
        "### Пример 3\n",
        "Определить, совпадают ли плоскости\n",
        "\n",
        "a) $ABD$ и $ABC$\n",
        "\n",
        "б) $ABD$ и $ABF$"
      ]
    },
    {
      "cell_type": "code",
      "metadata": {
        "id": "IADg9JsuyTuu",
        "colab": {
          "base_uri": "https://localhost:8080/"
        },
        "outputId": "9eea4b46-8e72-40b7-d460-0e97bb6edf38"
      },
      "source": [
        "for i, item in enumerate((ABD.equals(ABC), ABD.equals(ABF))):\n",
        "    print(f'{chr(ord(\"a\") + i)}) {\"не \" * (not item)}совпадают')"
      ],
      "execution_count": 5,
      "outputs": [
        {
          "output_type": "stream",
          "name": "stdout",
          "text": [
            "a) совпадают\n",
            "b) не совпадают\n"
          ]
        }
      ]
    },
    {
      "cell_type": "markdown",
      "metadata": {
        "id": "TJj7ZAbFyTuv"
      },
      "source": [
        "### Пример 4\n",
        "Найти пересечение:\n",
        "\n",
        "a) плоскостей ABD и СКМ\n",
        "\n",
        "b) плоскости ABD и прямой FK\n",
        "\n",
        "c) плоскости ABD и прямой KM\n",
        "\n",
        "d) прямых AB и CD"
      ]
    },
    {
      "cell_type": "code",
      "metadata": {
        "id": "5OKdIIjdyTuw",
        "colab": {
          "base_uri": "https://localhost:8080/",
          "height": 101
        },
        "outputId": "dd45896b-8b09-4082-de45-60aabdc89ce5"
      },
      "source": [
        "CKM = Plane(C, K, M)\n",
        "KM = Line(K, M)\n",
        "display(Latex(f'\\\\text{{ABD.intersection(CKM): }}{latex(ABD.intersection(CKM))}'))\n",
        "display(Latex(f'\\\\text{{ABD.intersection(FK): }}{latex(ABD.intersection(FK))}'))\n",
        "display(Latex(f'\\\\text{{ABD.intersection(KM): }}{latex(ABD.intersection(KM))}'))\n",
        "display(Latex(f'\\\\text{{AB.intersection(CD): }}{latex(AB.intersection(CD))}'))"
      ],
      "execution_count": 6,
      "outputs": [
        {
          "output_type": "display_data",
          "data": {
            "text/plain": [
              "<IPython.core.display.Latex object>"
            ],
            "text/latex": "\\text{ABD.intersection(CKM): }\\left[ \\operatorname{Line3D}\\left(\\operatorname{Point3D}\\left(51, -20, 0\\right), \\operatorname{Point3D}\\left(987, -371, -117\\right)\\right)\\right]"
          },
          "metadata": {}
        },
        {
          "output_type": "display_data",
          "data": {
            "text/plain": [
              "<IPython.core.display.Latex object>"
            ],
            "text/latex": "\\text{ABD.intersection(FK): }\\left[ \\operatorname{Point3D}\\left(\\frac{505}{107}, - \\frac{153}{107}, \\frac{489}{107}\\right)\\right]"
          },
          "metadata": {}
        },
        {
          "output_type": "display_data",
          "data": {
            "text/plain": [
              "<IPython.core.display.Latex object>"
            ],
            "text/latex": "\\text{ABD.intersection(KM): }\\left[ \\right]"
          },
          "metadata": {}
        },
        {
          "output_type": "display_data",
          "data": {
            "text/plain": [
              "<IPython.core.display.Latex object>"
            ],
            "text/latex": "\\text{AB.intersection(CD): }\\left[ \\operatorname{Point3D}\\left(- \\frac{5}{7}, \\frac{12}{7}, \\frac{29}{7}\\right)\\right]"
          },
          "metadata": {}
        }
      ]
    },
    {
      "cell_type": "markdown",
      "source": [
        "Но лучше так:"
      ],
      "metadata": {
        "id": "SFfMj3GpbAin"
      }
    },
    {
      "cell_type": "code",
      "source": [
        "for obj_names, geom_objects in zip(('ABD и CKM', 'ABD и FK',\n",
        "                                    'ABD и KM', 'AB и CD'),\n",
        "                                    ((ABD, CKM), (ABD, FK),\n",
        "                                     (ABD, KM), (AB, CD))):\n",
        "    display(Latex(fr'\\text{{Пересечение  {obj_names}: }}\\\n",
        "    {latex(geom_objects[0].intersection(geom_objects[1]))}'))"
      ],
      "metadata": {
        "colab": {
          "base_uri": "https://localhost:8080/",
          "height": 101
        },
        "id": "ReF2faVUbDDm",
        "outputId": "b1f67d99-0ae0-48a3-d763-acd698e550c1"
      },
      "execution_count": 7,
      "outputs": [
        {
          "output_type": "display_data",
          "data": {
            "text/plain": [
              "<IPython.core.display.Latex object>"
            ],
            "text/latex": "\\text{Пересечение  ABD и CKM: }\\\n    \\left[ \\operatorname{Line3D}\\left(\\operatorname{Point3D}\\left(51, -20, 0\\right), \\operatorname{Point3D}\\left(987, -371, -117\\right)\\right)\\right]"
          },
          "metadata": {}
        },
        {
          "output_type": "display_data",
          "data": {
            "text/plain": [
              "<IPython.core.display.Latex object>"
            ],
            "text/latex": "\\text{Пересечение  ABD и FK: }\\\n    \\left[ \\operatorname{Point3D}\\left(\\frac{505}{107}, - \\frac{153}{107}, \\frac{489}{107}\\right)\\right]"
          },
          "metadata": {}
        },
        {
          "output_type": "display_data",
          "data": {
            "text/plain": [
              "<IPython.core.display.Latex object>"
            ],
            "text/latex": "\\text{Пересечение  ABD и KM: }\\\n    \\left[ \\right]"
          },
          "metadata": {}
        },
        {
          "output_type": "display_data",
          "data": {
            "text/plain": [
              "<IPython.core.display.Latex object>"
            ],
            "text/latex": "\\text{Пересечение  AB и CD: }\\\n    \\left[ \\operatorname{Point3D}\\left(- \\frac{5}{7}, \\frac{12}{7}, \\frac{29}{7}\\right)\\right]"
          },
          "metadata": {}
        }
      ]
    },
    {
      "cell_type": "markdown",
      "metadata": {
        "id": "dGmUHDYZyTux"
      },
      "source": [
        "Плоскости ABD и CKM пересекаются по прямой, прямая FK пересекает плоскость ABD в точке, плоскость  ABD не пересекается прямой KM, прямые AB и CD пересекаются в точке.\n",
        "\n",
        "Проверим, что KM параллельна плоскости  ABD:"
      ]
    },
    {
      "cell_type": "code",
      "metadata": {
        "id": "MnIruYmAyTux",
        "colab": {
          "base_uri": "https://localhost:8080/"
        },
        "outputId": "c01211aa-fd04-4181-824a-ff3a7466d81f"
      },
      "source": [
        "print(f'ABD параллельна KM? {\" не \" * (not ABD.is_parallel(KM))}параллельна')"
      ],
      "execution_count": 8,
      "outputs": [
        {
          "output_type": "stream",
          "name": "stdout",
          "text": [
            "ABD параллельна KM? параллельна\n"
          ]
        }
      ]
    },
    {
      "cell_type": "markdown",
      "metadata": {
        "id": "t7UMdYxryTuy"
      },
      "source": [
        "### Пример 5\n",
        "\n",
        "### Работа со словарями\n",
        "https://docs.python.org/3/library/stdtypes.html#dict\n",
        "\n",
        "**Пример словаря:**\n",
        "\n",
        "создадим словари\n",
        "\n",
        "а) всех точек\n",
        "\n",
        "б) прямых, проходящих через эти точки"
      ]
    },
    {
      "cell_type": "code",
      "metadata": {
        "id": "F-7s_SOCyTuy",
        "colab": {
          "base_uri": "https://localhost:8080/"
        },
        "outputId": "3e2fc519-897c-4876-ab76-510ea6229732"
      },
      "source": [
        "Points_list = [A, B, C, D]\n",
        "Point_names = ['A','B','C','D']\n",
        "points_numbers = range(len(Point_names))\n",
        "Points = {Point_names[i]: Points_list[i] for i in points_numbers}\n",
        "Points"
      ],
      "execution_count": 9,
      "outputs": [
        {
          "output_type": "execute_result",
          "data": {
            "text/plain": [
              "{'A': Point3D(1, 2, 3),\n",
              " 'B': Point3D(-5, 1, 7),\n",
              " 'C': Point3D(3, -2, 6),\n",
              " 'D': Point3D(-1, 2, 4)}"
            ]
          },
          "metadata": {},
          "execution_count": 9
        }
      ]
    },
    {
      "cell_type": "markdown",
      "source": [
        "Короче можно так:"
      ],
      "metadata": {
        "id": "8TJ5sRQEeetG"
      }
    },
    {
      "cell_type": "code",
      "source": [
        "Points = {point_name: point for point_name, point in zip(('A','B','C','D'),\n",
        "                                                         (A, B, C, D))}\n",
        "Points"
      ],
      "metadata": {
        "colab": {
          "base_uri": "https://localhost:8080/"
        },
        "id": "bGURaUtDeisu",
        "outputId": "20b146e9-475a-431d-b6cd-d3165da15826"
      },
      "execution_count": 10,
      "outputs": [
        {
          "output_type": "execute_result",
          "data": {
            "text/plain": [
              "{'A': Point3D(1, 2, 3),\n",
              " 'B': Point3D(-5, 1, 7),\n",
              " 'C': Point3D(3, -2, 6),\n",
              " 'D': Point3D(-1, 2, 4)}"
            ]
          },
          "metadata": {},
          "execution_count": 10
        }
      ]
    },
    {
      "cell_type": "code",
      "source": [
        "Points = dict([(point_name, point) for point_name, point in zip(('A','B',\n",
        "                                                                 'C','D'),\n",
        "                                                                 (A, B, C, D))])\n",
        "Points"
      ],
      "metadata": {
        "colab": {
          "base_uri": "https://localhost:8080/"
        },
        "id": "lRmlykyofFXR",
        "outputId": "a0299a42-7222-48f2-db54-27bbaf437e62"
      },
      "execution_count": 11,
      "outputs": [
        {
          "output_type": "execute_result",
          "data": {
            "text/plain": [
              "{'A': Point3D(1, 2, 3),\n",
              " 'B': Point3D(-5, 1, 7),\n",
              " 'C': Point3D(3, -2, 6),\n",
              " 'D': Point3D(-1, 2, 4)}"
            ]
          },
          "metadata": {},
          "execution_count": 11
        }
      ]
    },
    {
      "cell_type": "markdown",
      "metadata": {
        "id": "NNjDcgyzyTuz"
      },
      "source": [
        "Вызовем точку А по ее имени (обращение к записи по ключу):"
      ]
    },
    {
      "cell_type": "code",
      "metadata": {
        "id": "UbTz5txmyTuz",
        "colab": {
          "base_uri": "https://localhost:8080/",
          "height": 37
        },
        "outputId": "2f652b39-6e4c-4c68-8dc3-00b768727fb5"
      },
      "source": [
        "Points['A']"
      ],
      "execution_count": 12,
      "outputs": [
        {
          "output_type": "execute_result",
          "data": {
            "text/plain": [
              "Point3D(1, 2, 3)"
            ],
            "text/latex": "$\\displaystyle \\operatorname{Point3D}\\left(1, 2, 3\\right)$"
          },
          "metadata": {},
          "execution_count": 12
        }
      ]
    },
    {
      "cell_type": "markdown",
      "metadata": {
        "id": "UU-_EJXOyTu0"
      },
      "source": [
        "Построим словарь прямых, проходящих через точки, используя присвоение по ключу.\n",
        "\n",
        "(Присвоение по существующему ключу перезаписывает значение элемента словаря,\n",
        "\n",
        "присвоение по несуществующему ключу добавляет новую запись в словарь)\n",
        "\n",
        "Выведем на экран ключи словаря:"
      ]
    },
    {
      "cell_type": "code",
      "metadata": {
        "id": "8-ksiyTxyTu0",
        "colab": {
          "base_uri": "https://localhost:8080/"
        },
        "outputId": "f7282001-1d55-4b5f-800f-09bdba049558"
      },
      "source": [
        "Points.keys()"
      ],
      "execution_count": 13,
      "outputs": [
        {
          "output_type": "execute_result",
          "data": {
            "text/plain": [
              "dict_keys(['A', 'B', 'C', 'D'])"
            ]
          },
          "metadata": {},
          "execution_count": 13
        }
      ]
    },
    {
      "cell_type": "markdown",
      "source": [
        "Составим словарь с помощью \"dict comprehension\" - аналога списочного выражения"
      ],
      "metadata": {
        "id": "7EmSzcfvgWne"
      }
    },
    {
      "cell_type": "code",
      "metadata": {
        "id": "JLJVTE2GyTu0",
        "colab": {
          "base_uri": "https://localhost:8080/"
        },
        "outputId": "71bd564d-f179-496c-8ad7-436e763426c7"
      },
      "source": [
        "lines = {P1 + P2: Line(Points[P1], Points[P2]) for P1 in Points.keys() for P2 in Points.keys() if P1 < P2}\n",
        "print(*lines)"
      ],
      "execution_count": 14,
      "outputs": [
        {
          "output_type": "stream",
          "name": "stdout",
          "text": [
            "AB AC AD BC BD CD\n"
          ]
        }
      ]
    },
    {
      "cell_type": "markdown",
      "source": [
        "Вывести все записи словаря можно так:"
      ],
      "metadata": {
        "id": "ZYgNMZi-g0UB"
      }
    },
    {
      "cell_type": "code",
      "source": [
        "for key in lines.keys():\n",
        "    print(f'Ключ {key}, значение {lines[key]}')"
      ],
      "metadata": {
        "colab": {
          "base_uri": "https://localhost:8080/"
        },
        "id": "rO2ahFJdfse0",
        "outputId": "ba9f2c4c-8a57-4c08-d98c-5c4b9f83bd35"
      },
      "execution_count": 15,
      "outputs": [
        {
          "output_type": "stream",
          "name": "stdout",
          "text": [
            "Ключ AB, значение Line3D(Point3D(1, 2, 3), Point3D(-5, 1, 7))\n",
            "Ключ AC, значение Line3D(Point3D(1, 2, 3), Point3D(3, -2, 6))\n",
            "Ключ AD, значение Line3D(Point3D(1, 2, 3), Point3D(-1, 2, 4))\n",
            "Ключ BC, значение Line3D(Point3D(-5, 1, 7), Point3D(3, -2, 6))\n",
            "Ключ BD, значение Line3D(Point3D(-5, 1, 7), Point3D(-1, 2, 4))\n",
            "Ключ CD, значение Line3D(Point3D(3, -2, 6), Point3D(-1, 2, 4))\n"
          ]
        }
      ]
    },
    {
      "cell_type": "markdown",
      "source": [
        "Или еще короче:"
      ],
      "metadata": {
        "id": "PJlVJXAkg5QR"
      }
    },
    {
      "cell_type": "code",
      "source": [
        "print(*[f'Ключ {key}, значение {lines[key]}' for key in lines.keys()], sep='\\n')"
      ],
      "metadata": {
        "colab": {
          "base_uri": "https://localhost:8080/"
        },
        "id": "nO4dSQ6sgD4E",
        "outputId": "cd1be3d9-22ec-49cc-eacb-5d0f7110f75a"
      },
      "execution_count": 16,
      "outputs": [
        {
          "output_type": "stream",
          "name": "stdout",
          "text": [
            "Ключ AB, значение Line3D(Point3D(1, 2, 3), Point3D(-5, 1, 7))\n",
            "Ключ AC, значение Line3D(Point3D(1, 2, 3), Point3D(3, -2, 6))\n",
            "Ключ AD, значение Line3D(Point3D(1, 2, 3), Point3D(-1, 2, 4))\n",
            "Ключ BC, значение Line3D(Point3D(-5, 1, 7), Point3D(3, -2, 6))\n",
            "Ключ BD, значение Line3D(Point3D(-5, 1, 7), Point3D(-1, 2, 4))\n",
            "Ключ CD, значение Line3D(Point3D(3, -2, 6), Point3D(-1, 2, 4))\n"
          ]
        }
      ]
    },
    {
      "cell_type": "markdown",
      "metadata": {
        "id": "iwi_ahanyTu1"
      },
      "source": [
        "### Пример 6\n",
        "Даны точки  пространстве\n",
        "$A(-2, 7, -5)$, $B(6, 2, -4)$, $C(14, -3, -2)$, $D(22, -8, -2)$, $K(30, -7, -4)$,\n",
        "$M(94, -35, -2)$.\n",
        "\n",
        "Определить, какие тройки точек лежат на одной прямой, составить словарь с ключами - множествами из трех точек, значениями - прямыми Line.\n",
        "\n",
        "Для проверки того, что три точки лежат на одной прямой используем Point3D.are_collinear.\n",
        "\n",
        "Для иллюстрации возможности перебора по множеству будем выбирать первую точку из множества всех ключей словаря Points, вторую - из всех остальных точек, третью - из всех точек, кроме первой и второй. Если имена точек идут в лексикографическом порядке, и точки лежат на одной прямой, в словарь three_points включаем запись с ключом - tuple из имен трех точек, значением - прямой, проходящей через две из этих точек."
      ]
    },
    {
      "cell_type": "code",
      "metadata": {
        "id": "otBhdKfdyTu1",
        "colab": {
          "base_uri": "https://localhost:8080/"
        },
        "outputId": "b9749e93-4ce7-4b6d-c0bb-797db7ea2fc5"
      },
      "source": [
        "A = Point(-2, 7, -5)\n",
        "B = Point(6, 2, -4)\n",
        "C = Point(14, -3, -2)\n",
        "D = Point(22, -8, -2)\n",
        "F = Point(14, -3, -3)\n",
        "K = Point(30, -7, -4)\n",
        "M = Point(94, -35, -2)\n",
        "Points = {A: 'A', B: 'B', C: 'C', D: 'D', F: 'F', K: 'K', M: 'M'}\n",
        "three_points = {}\n",
        "Points_keys = Points.keys()\n",
        "for P1 in Points_keys:\n",
        "    for P2 in Points_keys - {P1}:\n",
        "        for P3 in Points_keys - {P1} - {P2}:\n",
        "            P_name1, P_name2, P_name3 = [Points[P] for P in (P1, P2, P3)]\n",
        "            if P_name1 < P_name2 and P_name2 < P_name3:\n",
        "                 if Point3D.are_collinear(P1, P2, P3):\n",
        "                        three_points[(P_name1, P_name2, P_name3)] = Line(P1, P2)\n",
        "three_points"
      ],
      "execution_count": 17,
      "outputs": [
        {
          "output_type": "execute_result",
          "data": {
            "text/plain": [
              "{('A', 'B', 'F'): Line3D(Point3D(-2, 7, -5), Point3D(6, 2, -4)),\n",
              " ('A', 'B', 'D'): Line3D(Point3D(-2, 7, -5), Point3D(6, 2, -4)),\n",
              " ('A', 'K', 'M'): Line3D(Point3D(-2, 7, -5), Point3D(30, -7, -4)),\n",
              " ('A', 'D', 'F'): Line3D(Point3D(-2, 7, -5), Point3D(22, -8, -2)),\n",
              " ('B', 'D', 'F'): Line3D(Point3D(6, 2, -4), Point3D(22, -8, -2))}"
            ]
          },
          "metadata": {},
          "execution_count": 17
        }
      ]
    },
    {
      "cell_type": "markdown",
      "metadata": {
        "id": "-zb8d9c1yTu2"
      },
      "source": [
        "Более оптимальный перебор вариантов с меньшим числом сравнений:"
      ]
    },
    {
      "cell_type": "code",
      "metadata": {
        "id": "Tz2pIbvhyTu2",
        "colab": {
          "base_uri": "https://localhost:8080/"
        },
        "outputId": "b4d3ada2-ea49-4dab-ab77-dbafa62fde35"
      },
      "source": [
        "A = Point(-2, 7, -5)\n",
        "B = Point(6, 2, -4)\n",
        "C = Point(14, -3, -2)\n",
        "D = Point(22, -8, -2)\n",
        "F = Point(14, -3, -3)\n",
        "K = Point(30, -7, -4)\n",
        "M = Point(94, -35, -2)\n",
        "Points_dict = {A: 'A', B: 'B', C: 'C', D: 'D', F: 'F', K: 'K', M: 'M'}\n",
        "Points = tuple(Points_dict.keys())\n",
        "num = len(Points)\n",
        "three_points = {}\n",
        "\n",
        "for i in range(num - 2):\n",
        "    P1 = Points[i]\n",
        "    for j in range(i + 1, num - 1):\n",
        "        P2 = Points[j]\n",
        "        for k in range(j + 1, num):\n",
        "            P3 = Points[k]\n",
        "            if Point3D.are_collinear(P1, P2, P3):\n",
        "                P_name1, P_name2, P_name3 = [Points_dict[P] for P in (P1, P2, P3)]\n",
        "                three_points[(P_name1, P_name2, P_name3)] = Line(P1, P2)\n",
        "\n",
        "print('Точки на одной прямой', *three_points, sep='\\n')"
      ],
      "execution_count": 18,
      "outputs": [
        {
          "output_type": "stream",
          "name": "stdout",
          "text": [
            "Точки на одной прямой\n",
            "('A', 'B', 'D')\n",
            "('A', 'B', 'F')\n",
            "('A', 'D', 'F')\n",
            "('A', 'K', 'M')\n",
            "('B', 'D', 'F')\n"
          ]
        }
      ]
    },
    {
      "cell_type": "markdown",
      "source": [
        "### Пример 7\n",
        "В файле \"example7.xlsx\" записаны имена и координаты точек в  пространстве. Составить словарь с ключами - именами точек, значениями - точками Point с соответствующими координатами."
      ],
      "metadata": {
        "id": "Y26mQLLMPbZK"
      }
    },
    {
      "cell_type": "code",
      "source": [
        "from google.colab import files\n",
        "import pandas as pd"
      ],
      "metadata": {
        "id": "Pe8ZEX2UNMhk"
      },
      "execution_count": 19,
      "outputs": []
    },
    {
      "cell_type": "code",
      "source": [
        "uploaded = files.upload()"
      ],
      "metadata": {
        "colab": {
          "base_uri": "https://localhost:8080/",
          "height": 90
        },
        "id": "pWcS7k4Q8b74",
        "outputId": "752a927a-5817-4036-d59e-321c516c7774"
      },
      "execution_count": 21,
      "outputs": [
        {
          "output_type": "display_data",
          "data": {
            "text/plain": [
              "<IPython.core.display.HTML object>"
            ],
            "text/html": [
              "\n",
              "     <input type=\"file\" id=\"files-a205b8ee-f664-4d33-b9dd-0046969d4ce1\" name=\"files[]\" multiple disabled\n",
              "        style=\"border:none\" />\n",
              "     <output id=\"result-a205b8ee-f664-4d33-b9dd-0046969d4ce1\">\n",
              "      Upload widget is only available when the cell has been executed in the\n",
              "      current browser session. Please rerun this cell to enable.\n",
              "      </output>\n",
              "      <script>// Copyright 2017 Google LLC\n",
              "//\n",
              "// Licensed under the Apache License, Version 2.0 (the \"License\");\n",
              "// you may not use this file except in compliance with the License.\n",
              "// You may obtain a copy of the License at\n",
              "//\n",
              "//      http://www.apache.org/licenses/LICENSE-2.0\n",
              "//\n",
              "// Unless required by applicable law or agreed to in writing, software\n",
              "// distributed under the License is distributed on an \"AS IS\" BASIS,\n",
              "// WITHOUT WARRANTIES OR CONDITIONS OF ANY KIND, either express or implied.\n",
              "// See the License for the specific language governing permissions and\n",
              "// limitations under the License.\n",
              "\n",
              "/**\n",
              " * @fileoverview Helpers for google.colab Python module.\n",
              " */\n",
              "(function(scope) {\n",
              "function span(text, styleAttributes = {}) {\n",
              "  const element = document.createElement('span');\n",
              "  element.textContent = text;\n",
              "  for (const key of Object.keys(styleAttributes)) {\n",
              "    element.style[key] = styleAttributes[key];\n",
              "  }\n",
              "  return element;\n",
              "}\n",
              "\n",
              "// Max number of bytes which will be uploaded at a time.\n",
              "const MAX_PAYLOAD_SIZE = 100 * 1024;\n",
              "\n",
              "function _uploadFiles(inputId, outputId) {\n",
              "  const steps = uploadFilesStep(inputId, outputId);\n",
              "  const outputElement = document.getElementById(outputId);\n",
              "  // Cache steps on the outputElement to make it available for the next call\n",
              "  // to uploadFilesContinue from Python.\n",
              "  outputElement.steps = steps;\n",
              "\n",
              "  return _uploadFilesContinue(outputId);\n",
              "}\n",
              "\n",
              "// This is roughly an async generator (not supported in the browser yet),\n",
              "// where there are multiple asynchronous steps and the Python side is going\n",
              "// to poll for completion of each step.\n",
              "// This uses a Promise to block the python side on completion of each step,\n",
              "// then passes the result of the previous step as the input to the next step.\n",
              "function _uploadFilesContinue(outputId) {\n",
              "  const outputElement = document.getElementById(outputId);\n",
              "  const steps = outputElement.steps;\n",
              "\n",
              "  const next = steps.next(outputElement.lastPromiseValue);\n",
              "  return Promise.resolve(next.value.promise).then((value) => {\n",
              "    // Cache the last promise value to make it available to the next\n",
              "    // step of the generator.\n",
              "    outputElement.lastPromiseValue = value;\n",
              "    return next.value.response;\n",
              "  });\n",
              "}\n",
              "\n",
              "/**\n",
              " * Generator function which is called between each async step of the upload\n",
              " * process.\n",
              " * @param {string} inputId Element ID of the input file picker element.\n",
              " * @param {string} outputId Element ID of the output display.\n",
              " * @return {!Iterable<!Object>} Iterable of next steps.\n",
              " */\n",
              "function* uploadFilesStep(inputId, outputId) {\n",
              "  const inputElement = document.getElementById(inputId);\n",
              "  inputElement.disabled = false;\n",
              "\n",
              "  const outputElement = document.getElementById(outputId);\n",
              "  outputElement.innerHTML = '';\n",
              "\n",
              "  const pickedPromise = new Promise((resolve) => {\n",
              "    inputElement.addEventListener('change', (e) => {\n",
              "      resolve(e.target.files);\n",
              "    });\n",
              "  });\n",
              "\n",
              "  const cancel = document.createElement('button');\n",
              "  inputElement.parentElement.appendChild(cancel);\n",
              "  cancel.textContent = 'Cancel upload';\n",
              "  const cancelPromise = new Promise((resolve) => {\n",
              "    cancel.onclick = () => {\n",
              "      resolve(null);\n",
              "    };\n",
              "  });\n",
              "\n",
              "  // Wait for the user to pick the files.\n",
              "  const files = yield {\n",
              "    promise: Promise.race([pickedPromise, cancelPromise]),\n",
              "    response: {\n",
              "      action: 'starting',\n",
              "    }\n",
              "  };\n",
              "\n",
              "  cancel.remove();\n",
              "\n",
              "  // Disable the input element since further picks are not allowed.\n",
              "  inputElement.disabled = true;\n",
              "\n",
              "  if (!files) {\n",
              "    return {\n",
              "      response: {\n",
              "        action: 'complete',\n",
              "      }\n",
              "    };\n",
              "  }\n",
              "\n",
              "  for (const file of files) {\n",
              "    const li = document.createElement('li');\n",
              "    li.append(span(file.name, {fontWeight: 'bold'}));\n",
              "    li.append(span(\n",
              "        `(${file.type || 'n/a'}) - ${file.size} bytes, ` +\n",
              "        `last modified: ${\n",
              "            file.lastModifiedDate ? file.lastModifiedDate.toLocaleDateString() :\n",
              "                                    'n/a'} - `));\n",
              "    const percent = span('0% done');\n",
              "    li.appendChild(percent);\n",
              "\n",
              "    outputElement.appendChild(li);\n",
              "\n",
              "    const fileDataPromise = new Promise((resolve) => {\n",
              "      const reader = new FileReader();\n",
              "      reader.onload = (e) => {\n",
              "        resolve(e.target.result);\n",
              "      };\n",
              "      reader.readAsArrayBuffer(file);\n",
              "    });\n",
              "    // Wait for the data to be ready.\n",
              "    let fileData = yield {\n",
              "      promise: fileDataPromise,\n",
              "      response: {\n",
              "        action: 'continue',\n",
              "      }\n",
              "    };\n",
              "\n",
              "    // Use a chunked sending to avoid message size limits. See b/62115660.\n",
              "    let position = 0;\n",
              "    do {\n",
              "      const length = Math.min(fileData.byteLength - position, MAX_PAYLOAD_SIZE);\n",
              "      const chunk = new Uint8Array(fileData, position, length);\n",
              "      position += length;\n",
              "\n",
              "      const base64 = btoa(String.fromCharCode.apply(null, chunk));\n",
              "      yield {\n",
              "        response: {\n",
              "          action: 'append',\n",
              "          file: file.name,\n",
              "          data: base64,\n",
              "        },\n",
              "      };\n",
              "\n",
              "      let percentDone = fileData.byteLength === 0 ?\n",
              "          100 :\n",
              "          Math.round((position / fileData.byteLength) * 100);\n",
              "      percent.textContent = `${percentDone}% done`;\n",
              "\n",
              "    } while (position < fileData.byteLength);\n",
              "  }\n",
              "\n",
              "  // All done.\n",
              "  yield {\n",
              "    response: {\n",
              "      action: 'complete',\n",
              "    }\n",
              "  };\n",
              "}\n",
              "\n",
              "scope.google = scope.google || {};\n",
              "scope.google.colab = scope.google.colab || {};\n",
              "scope.google.colab._files = {\n",
              "  _uploadFiles,\n",
              "  _uploadFilesContinue,\n",
              "};\n",
              "})(self);\n",
              "</script> "
            ]
          },
          "metadata": {}
        },
        {
          "output_type": "stream",
          "name": "stdout",
          "text": [
            "Saving example7.xlsx to example7.xlsx\n"
          ]
        }
      ]
    },
    {
      "cell_type": "code",
      "source": [
        "points_table = pd.read_excel('example7.xlsx', index_col=0)\n",
        "points_coords = points_table.values\n",
        "points_names = points_table.index\n",
        "coords_names = points_table.columns\n",
        "print(f'points_names: {points_names}',\n",
        "      f'coords_names: {coords_names}', points_coords.T, sep='\\n')"
      ],
      "metadata": {
        "colab": {
          "base_uri": "https://localhost:8080/"
        },
        "id": "cfCIR-ojNZWZ",
        "outputId": "1783c0eb-0ea1-4436-96cf-2722e6340ef5"
      },
      "execution_count": 3,
      "outputs": [
        {
          "output_type": "stream",
          "name": "stdout",
          "text": [
            "points_names: Index(['A', 'B', 'C', 'D', 'E', 'F', 'G', 'H', 'I', 'J', 'K', 'L', 'M', 'N',\n",
            "       'O', 'P', 'Q', 'R', 'S', 'T', 'U', 'V'],\n",
            "      dtype='object')\n",
            "coords_names: Index(['x', 'y', 'z'], dtype='object')\n",
            "[[  1   5  -2   1   9  -5   1  21 -14   1  33 -23   1  45 -32   1  57 -41\n",
            "    1  69 -50   1]\n",
            " [ -2   2   0   7   6   2  16  18   8  43  30  14  70  42  20  97  54  26\n",
            "  124  66  32 151]\n",
            " [  3  -3   3   4  -9   3   5 -27   3   8 -45   3  11 -63   3  14 -81   3\n",
            "   17 -99   3  20]]\n"
          ]
        }
      ]
    },
    {
      "cell_type": "code",
      "source": [
        "point_dict = {name: Point(*point) for name, point in zip(points_names,\n",
        "                                                         points_coords)}\n",
        "for key in point_dict.keys():\n",
        "    print(f'key = {key}, point_dict[key] = {point_dict[key]}')"
      ],
      "metadata": {
        "colab": {
          "base_uri": "https://localhost:8080/"
        },
        "id": "mdCbmlLE_MdG",
        "outputId": "7c9bb54b-3ea1-4aa5-cfc6-23bc9c1ce5e3"
      },
      "execution_count": 6,
      "outputs": [
        {
          "output_type": "stream",
          "name": "stdout",
          "text": [
            "key = A, point_dict[key] = Point3D(1, -2, 3)\n",
            "key = B, point_dict[key] = Point3D(5, 2, -3)\n",
            "key = C, point_dict[key] = Point3D(-2, 0, 3)\n",
            "key = D, point_dict[key] = Point3D(1, 7, 4)\n",
            "key = E, point_dict[key] = Point3D(9, 6, -9)\n",
            "key = F, point_dict[key] = Point3D(-5, 2, 3)\n",
            "key = G, point_dict[key] = Point3D(1, 16, 5)\n",
            "key = H, point_dict[key] = Point3D(21, 18, -27)\n",
            "key = I, point_dict[key] = Point3D(-14, 8, 3)\n",
            "key = J, point_dict[key] = Point3D(1, 43, 8)\n",
            "key = K, point_dict[key] = Point3D(33, 30, -45)\n",
            "key = L, point_dict[key] = Point3D(-23, 14, 3)\n",
            "key = M, point_dict[key] = Point3D(1, 70, 11)\n",
            "key = N, point_dict[key] = Point3D(45, 42, -63)\n",
            "key = O, point_dict[key] = Point3D(-32, 20, 3)\n",
            "key = P, point_dict[key] = Point3D(1, 97, 14)\n",
            "key = Q, point_dict[key] = Point3D(57, 54, -81)\n",
            "key = R, point_dict[key] = Point3D(-41, 26, 3)\n",
            "key = S, point_dict[key] = Point3D(1, 124, 17)\n",
            "key = T, point_dict[key] = Point3D(69, 66, -99)\n",
            "key = U, point_dict[key] = Point3D(-50, 32, 3)\n",
            "key = V, point_dict[key] = Point3D(1, 151, 20)\n"
          ]
        }
      ]
    },
    {
      "cell_type": "markdown",
      "source": [
        "### Пример 8\n",
        "Найти все тройки точек из Примера 7, лежащих на одной прямой, записать в файл направляющие векторы этих прямых, подписи строк - имена точек на прямой.\n",
        "\n",
        "Сначала выделим все точки, лежащие на прямой $AB$, составим из них словарь."
      ],
      "metadata": {
        "id": "P_tuGJp60U_Z"
      }
    },
    {
      "cell_type": "code",
      "source": [
        "AB = Line(A, B)\n",
        "AB_points = {}\n",
        "for key in point_dict.keys():\n",
        "    p = point_dict[key]\n",
        "    if AB.contains(p):\n",
        "        AB_points[key] = p\n",
        "AB_points"
      ],
      "metadata": {
        "colab": {
          "base_uri": "https://localhost:8080/"
        },
        "id": "-iXzWbJI0hza",
        "outputId": "b83ebc57-8fb0-4856-cd42-73251935ecc5"
      },
      "execution_count": 9,
      "outputs": [
        {
          "output_type": "execute_result",
          "data": {
            "text/plain": [
              "{'A': Point3D(1, -2, 3),\n",
              " 'B': Point3D(5, 2, -3),\n",
              " 'E': Point3D(9, 6, -9),\n",
              " 'H': Point3D(21, 18, -27),\n",
              " 'K': Point3D(33, 30, -45),\n",
              " 'N': Point3D(45, 42, -63),\n",
              " 'Q': Point3D(57, 54, -81),\n",
              " 'T': Point3D(69, 66, -99)}"
            ]
          },
          "metadata": {},
          "execution_count": 9
        }
      ]
    },
    {
      "cell_type": "markdown",
      "source": [
        "Составим множество set точек, не лежащих на $AB$."
      ],
      "metadata": {
        "id": "tdlQPb9t3KcF"
      }
    },
    {
      "cell_type": "code",
      "source": [
        "not_in_AB_set = {key for key in point_dict.keys() if key not in AB_points.keys()}\n",
        "not_in_AB_set"
      ],
      "metadata": {
        "colab": {
          "base_uri": "https://localhost:8080/"
        },
        "id": "6bE3xbhD3k67",
        "outputId": "14dd925a-4edc-4cd0-ca5d-9df82c8f076e"
      },
      "execution_count": 11,
      "outputs": [
        {
          "output_type": "execute_result",
          "data": {
            "text/plain": [
              "{'C', 'D', 'F', 'G', 'I', 'J', 'L', 'M', 'O', 'P', 'R', 'S', 'U', 'V'}"
            ]
          },
          "metadata": {},
          "execution_count": 11
        }
      ]
    },
    {
      "cell_type": "markdown",
      "source": [
        "Оформим в виде функции поиск точек на одной прямой, аргументы - прямая и произвольное число точек, результат - множество точек на заданной прямой."
      ],
      "metadata": {
        "id": "AoubRTun3_gP"
      }
    },
    {
      "cell_type": "code",
      "source": [
        "def points_in_line(line, *points):\n",
        "    line_points = set()\n",
        "    for point in points:\n",
        "        if line.contains(point):\n",
        "            line_points.add(point)\n",
        "    return line_points\n",
        "\n",
        "CD = Line(C, D)\n",
        "points_list = [point_dict[key] for key in point_dict]\n",
        "#print(not_AB_points)\n",
        "points_in_line(CD, *points_list)"
      ],
      "metadata": {
        "colab": {
          "base_uri": "https://localhost:8080/"
        },
        "id": "K05opPxV4IsO",
        "outputId": "8297d372-e497-49c8-d1b3-a6079dd2e7c6"
      },
      "execution_count": 16,
      "outputs": [
        {
          "output_type": "execute_result",
          "data": {
            "text/plain": [
              "{Point3D(-2, 0, 3), Point3D(1, 7, 4)}"
            ]
          },
          "metadata": {},
          "execution_count": 16
        }
      ]
    },
    {
      "cell_type": "markdown",
      "source": [
        "Удобнее видеть имена точек, а не их координаты. Составим словарь, в котором точки будут ключами, а значениями - именами точек."
      ],
      "metadata": {
        "id": "3zchHbG5KE4H"
      }
    },
    {
      "cell_type": "code",
      "source": [
        "names_points_dict = {point_dict[key]: key for key in point_dict.keys()}\n",
        "print(*[names_points_dict[point] for point in points_list])"
      ],
      "metadata": {
        "colab": {
          "base_uri": "https://localhost:8080/"
        },
        "id": "3CSEloJ5G_PM",
        "outputId": "45c93dc2-aa11-4b52-b229-4c001a090f70"
      },
      "execution_count": 28,
      "outputs": [
        {
          "output_type": "stream",
          "name": "stdout",
          "text": [
            "A B C D E F G H I J K L M N O P Q R S T U V\n"
          ]
        }
      ]
    },
    {
      "cell_type": "markdown",
      "source": [
        "Теперь будем с помощью описанной выше функции находить точки на каждой прямой, проходящей через две точки из файла. Множества точек, лежащих на одной прямой, будут повторяться, поскольку любая пара точек из AB_points определяет прямую, на которой лежат все точки AB_points. Чтобы избежать повторений, составим список point_set_list, в который будем добавлять множество точек, лежащих на одной прямой, если этого множества в point_set_list еще нет. Кроме того, нас не интересуют множества точек, состоящие из менее трех элементов, такие множества тоже не будем добавлять в point_set_list."
      ],
      "metadata": {
        "id": "w_9pe_5zKlL8"
      }
    },
    {
      "cell_type": "code",
      "source": [
        "point_set_list = []\n",
        "for k, p1 in enumerate(points_list[:-1]):\n",
        "    for p2 in points_list[k + 1:]:\n",
        "        line = Line(p1, p2)\n",
        "        line_point_set = points_in_line(line, *points_list)\n",
        "        if len(line_point_set) > 2 and line_point_set not in point_set_list:\n",
        "            point_set_list += [line_point_set]\n",
        "\n",
        "\n",
        "print(*[[names_points_dict[point] for point in line_points] for line_points in point_set_list], sep='\\n')"
      ],
      "metadata": {
        "colab": {
          "base_uri": "https://localhost:8080/"
        },
        "id": "9KYN6CGaL7RG",
        "outputId": "2693c8dd-b397-4dc8-d8d1-d9a1b3c044b9"
      },
      "execution_count": 29,
      "outputs": [
        {
          "output_type": "stream",
          "name": "stdout",
          "text": [
            "['E', 'N', 'Q', 'K', 'H', 'A', 'B', 'T']\n",
            "['I', 'R', 'O', 'C', 'F', 'A', 'L', 'U']\n",
            "['P', 'V', 'D', 'S', 'A', 'J', 'G', 'M']\n"
          ]
        }
      ]
    },
    {
      "cell_type": "markdown",
      "source": [
        "Отсортируем в алфавитном порядке точки:"
      ],
      "metadata": {
        "id": "9Lr8AKYlJpu9"
      }
    },
    {
      "cell_type": "code",
      "source": [
        "line_points_list_sorted = [sorted([names_points_dict[point] for point in line_points]) for line_points in point_set_list]\n",
        "print(*line_points_list_sorted, sep='\\n')"
      ],
      "metadata": {
        "colab": {
          "base_uri": "https://localhost:8080/"
        },
        "id": "JqeHlOFoJxXx",
        "outputId": "b378b5db-ecf3-46f4-96f3-45cf13f89231"
      },
      "execution_count": 31,
      "outputs": [
        {
          "output_type": "stream",
          "name": "stdout",
          "text": [
            "['A', 'B', 'E', 'H', 'K', 'N', 'Q', 'T']\n",
            "['A', 'C', 'F', 'I', 'L', 'O', 'R', 'U']\n",
            "['A', 'D', 'G', 'J', 'M', 'P', 'S', 'V']\n"
          ]
        }
      ]
    },
    {
      "cell_type": "markdown",
      "source": [
        "Теперь самое интересное - запись в файл. На отдельные листы запишем точки, лежащие на одной рямой, у нас получится три листа. Подписи строк - имена точек, столбцов - названия координат $x$, $y$, $z$."
      ],
      "metadata": {
        "id": "gNFB22iBMbBF"
      }
    },
    {
      "cell_type": "code",
      "source": [
        "f_name = 'example8.xlsx'\n",
        "with pd.ExcelWriter(f_name) as writer:\n",
        "    for points_list in line_points_list_sorted:\n",
        "        sheet_name = ''.join(points_list)\n",
        "        points_table = [list(point_dict[item]) for item in points_list]\n",
        "        df = pd.DataFrame(points_table, columns=['x', 'y', 'z'],\n",
        "                      index=points_list)#\n",
        "        df.to_excel(writer, sheet_name=sheet_name, header=True)\n",
        "\n",
        "files.download(f_name)"
      ],
      "metadata": {
        "colab": {
          "base_uri": "https://localhost:8080/",
          "height": 17
        },
        "id": "m8tMqs9sSuam",
        "outputId": "c51a991c-04b8-4897-f5f3-23afc0df2a93"
      },
      "execution_count": 36,
      "outputs": [
        {
          "output_type": "display_data",
          "data": {
            "text/plain": [
              "<IPython.core.display.Javascript object>"
            ],
            "application/javascript": [
              "\n",
              "    async function download(id, filename, size) {\n",
              "      if (!google.colab.kernel.accessAllowed) {\n",
              "        return;\n",
              "      }\n",
              "      const div = document.createElement('div');\n",
              "      const label = document.createElement('label');\n",
              "      label.textContent = `Downloading \"${filename}\": `;\n",
              "      div.appendChild(label);\n",
              "      const progress = document.createElement('progress');\n",
              "      progress.max = size;\n",
              "      div.appendChild(progress);\n",
              "      document.body.appendChild(div);\n",
              "\n",
              "      const buffers = [];\n",
              "      let downloaded = 0;\n",
              "\n",
              "      const channel = await google.colab.kernel.comms.open(id);\n",
              "      // Send a message to notify the kernel that we're ready.\n",
              "      channel.send({})\n",
              "\n",
              "      for await (const message of channel.messages) {\n",
              "        // Send a message to notify the kernel that we're ready.\n",
              "        channel.send({})\n",
              "        if (message.buffers) {\n",
              "          for (const buffer of message.buffers) {\n",
              "            buffers.push(buffer);\n",
              "            downloaded += buffer.byteLength;\n",
              "            progress.value = downloaded;\n",
              "          }\n",
              "        }\n",
              "      }\n",
              "      const blob = new Blob(buffers, {type: 'application/binary'});\n",
              "      const a = document.createElement('a');\n",
              "      a.href = window.URL.createObjectURL(blob);\n",
              "      a.download = filename;\n",
              "      div.appendChild(a);\n",
              "      a.click();\n",
              "      div.remove();\n",
              "    }\n",
              "  "
            ]
          },
          "metadata": {}
        },
        {
          "output_type": "display_data",
          "data": {
            "text/plain": [
              "<IPython.core.display.Javascript object>"
            ],
            "application/javascript": [
              "download(\"download_ff3e3fc9-26ab-4904-81c6-9e6c997d20f1\", \"example8.xlsx\", 6505)"
            ]
          },
          "metadata": {}
        }
      ]
    },
    {
      "cell_type": "markdown",
      "source": [
        "**Комментарий**: для названия листа в табличном файле использовали метод join из класса str - текстовых строк. Аргумент этого метода - список строк, в нашем случае - имен точек. Метод применяется к строке, которая при исполнении метода служит разделителем элементов списка, у нас разделитель пустая строка, поскольку мы ходим написать имена точек слитно.\n",
        "\n",
        "points_table - вложенный список из координат точек, это двумерный список, как и нужно для создания DataFrame в pandas.\n",
        "\n",
        "files.download(f_name) используется для программного скачивания полученного файла."
      ],
      "metadata": {
        "id": "HSdxgqZgVetA"
      }
    }
  ]
}