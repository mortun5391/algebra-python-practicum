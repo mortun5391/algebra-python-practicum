{
  "nbformat": 4,
  "nbformat_minor": 0,
  "metadata": {
    "kernelspec": {
      "display_name": "Python 3",
      "language": "python",
      "name": "python3"
    },
    "language_info": {
      "codemirror_mode": {
        "name": "ipython",
        "version": 3
      },
      "file_extension": ".py",
      "mimetype": "text/x-python",
      "name": "python",
      "nbconvert_exporter": "python",
      "pygments_lexer": "ipython3",
      "version": "3.7.3"
    },
    "colab": {
      "provenance": []
    }
  },
  "cells": [
    {
      "cell_type": "code",
      "metadata": {
        "id": "8eFsGTqm2yYh"
      },
      "source": [
        "import sympy\n",
        "from sympy import  Point, Line, Plane, Point3D, Eq, Matrix, S, Symbol, symbols, latex\n",
        "from IPython.display import display, Latex\n",
        "from google.colab import files\n",
        "import pandas as pd"
      ],
      "execution_count": null,
      "outputs": []
    },
    {
      "cell_type": "markdown",
      "metadata": {
        "id": "QsFfXQQN2yYq"
      },
      "source": [
        "# Практическое занятие 7\n",
        "# Компьютерный практикум по алгебре на Python\n",
        "https://docs.sympy.org/latest/search.html?q=geometry\n",
        "\n",
        "## Прямые и плоскости в пространстве. Модуль Geometry\n",
        "### Задание 1.\n",
        "Даны точки: $A(7, 5, 4)$,  $B(6, 1, 6)$, $C(5, -3, 8)$, $D(2, 2, 6)$, $F(-7, 8, -1)$.\n",
        "Составить список точек и словарь точек (ключи - точки, значения - имена точек).\n",
        "\n",
        "Составить, пользуясь списком и словарем точек, список и словарь прямых (ключи - прямые Line, значения - имена прямых, состоящие из имен точек, например AD). Рассматривать только прямые, проведенные по различным парам точек, например, $AB$ и $AC$ это разные прямые, а $AB$ и $BA$ это одна и та же прямая, в словарь включаем только $AB$, не включаем $BA$.\n",
        "\n",
        "Вывести на экран значения записей словаря (т.е. имена прямых).\n",
        "\n",
        "Найти среди прямых словаря пары совпадающих прямых, вывести на экран их имена."
      ]
    },
    {
      "cell_type": "code",
      "source": [
        "a = Point(7,5,4)\n",
        "b = Point(6,1,6)\n",
        "c = Point(5,-3, 8)\n",
        "d = Point(2, 2, 6)\n",
        "f = Point(-7, 8 , -1)\n",
        "point_list = [a, b, c, d, f]\n",
        "point_dic = {a:'A', b:'B', c:'C', d:'D', f:'F'}\n",
        "line_list = []\n",
        "line_dic = {}\n",
        "for i in range(4):\n",
        "  for j in range(i+1, 5):\n",
        "    l = Line(point_list[i], point_list[j])\n",
        "    line_list += [l]\n",
        "    line_dic[l] = point_dic[point_list[i]]+point_dic[point_list[j]]\n",
        "for x in line_dic.values():\n",
        "  display(x)\n",
        "for i in range(len(line_list) - 1):\n",
        "  for j in range(i+1, len(line_list)):\n",
        "    if line_list[i].is_similar(line_list[j]):\n",
        "      display('Lines ' + line_dic[line_list[i]] + ' and ' + line_dic[line_list[j]] + ' are similar')"
      ],
      "metadata": {
        "id": "U0VPFi2nt5Ru",
        "colab": {
          "base_uri": "https://localhost:8080/",
          "height": 258
        },
        "outputId": "f3ee64f7-1a43-4952-b332-ea9bde8a026f"
      },
      "execution_count": null,
      "outputs": [
        {
          "output_type": "display_data",
          "data": {
            "text/plain": [
              "'AB'"
            ],
            "application/vnd.google.colaboratory.intrinsic+json": {
              "type": "string"
            }
          },
          "metadata": {}
        },
        {
          "output_type": "display_data",
          "data": {
            "text/plain": [
              "'AC'"
            ],
            "application/vnd.google.colaboratory.intrinsic+json": {
              "type": "string"
            }
          },
          "metadata": {}
        },
        {
          "output_type": "display_data",
          "data": {
            "text/plain": [
              "'AD'"
            ],
            "application/vnd.google.colaboratory.intrinsic+json": {
              "type": "string"
            }
          },
          "metadata": {}
        },
        {
          "output_type": "display_data",
          "data": {
            "text/plain": [
              "'AF'"
            ],
            "application/vnd.google.colaboratory.intrinsic+json": {
              "type": "string"
            }
          },
          "metadata": {}
        },
        {
          "output_type": "display_data",
          "data": {
            "text/plain": [
              "'BC'"
            ],
            "application/vnd.google.colaboratory.intrinsic+json": {
              "type": "string"
            }
          },
          "metadata": {}
        },
        {
          "output_type": "display_data",
          "data": {
            "text/plain": [
              "'BD'"
            ],
            "application/vnd.google.colaboratory.intrinsic+json": {
              "type": "string"
            }
          },
          "metadata": {}
        },
        {
          "output_type": "display_data",
          "data": {
            "text/plain": [
              "'BF'"
            ],
            "application/vnd.google.colaboratory.intrinsic+json": {
              "type": "string"
            }
          },
          "metadata": {}
        },
        {
          "output_type": "display_data",
          "data": {
            "text/plain": [
              "'CD'"
            ],
            "application/vnd.google.colaboratory.intrinsic+json": {
              "type": "string"
            }
          },
          "metadata": {}
        },
        {
          "output_type": "display_data",
          "data": {
            "text/plain": [
              "'CF'"
            ],
            "application/vnd.google.colaboratory.intrinsic+json": {
              "type": "string"
            }
          },
          "metadata": {}
        },
        {
          "output_type": "display_data",
          "data": {
            "text/plain": [
              "'DF'"
            ],
            "application/vnd.google.colaboratory.intrinsic+json": {
              "type": "string"
            }
          },
          "metadata": {}
        },
        {
          "output_type": "display_data",
          "data": {
            "text/plain": [
              "'Lines AB and AC are similar'"
            ],
            "application/vnd.google.colaboratory.intrinsic+json": {
              "type": "string"
            }
          },
          "metadata": {}
        },
        {
          "output_type": "display_data",
          "data": {
            "text/plain": [
              "'Lines AB and BC are similar'"
            ],
            "application/vnd.google.colaboratory.intrinsic+json": {
              "type": "string"
            }
          },
          "metadata": {}
        },
        {
          "output_type": "display_data",
          "data": {
            "text/plain": [
              "'Lines AC and BC are similar'"
            ],
            "application/vnd.google.colaboratory.intrinsic+json": {
              "type": "string"
            }
          },
          "metadata": {}
        }
      ]
    },
    {
      "cell_type": "markdown",
      "metadata": {
        "id": "DFLIFpCO2yYz"
      },
      "source": [
        "###  Задание 2\n",
        "Составить список всех плоскостей, проходящих через любые три точки Задания 1 (плоксости, построенные по одинаковым точкам считаются одной плоскостью, т.е. ABC, CBA, ACB и т.п. это одна и та же плоскость, в список включать только ABC). Вывести на экран названия и  уравнения плоскостей из списка и расстояние от  плоскостей до начала координат."
      ]
    },
    {
      "cell_type": "code",
      "source": [
        "plane_list = []\n",
        "for i in range(3):\n",
        "  for j in range(i+1, 4):\n",
        "    for k in range(j+1,5):\n",
        "      p1, p2, p3 = point_list[i],point_list[j], point_list[k]\n",
        "      if (Point3D.are_collinear(p1, p2, p3)): continue\n",
        "      pl = [Plane(p1, p2, p3), point_dic[p1] + point_dic[p2] + point_dic[p3]]\n",
        "      plane_list += [pl]\n",
        "for x in plane_list:\n",
        "  pl = x[0]\n",
        "  pl_name = x[1]\n",
        "  display(pl_name)\n",
        "  display(Eq(pl.equation(), 0))\n",
        "  display(pl.distance(Point(0,0,0)))\n",
        "  print()"
      ],
      "metadata": {
        "id": "iyjiHk_St6_g",
        "colab": {
          "base_uri": "https://localhost:8080/",
          "height": 883
        },
        "outputId": "409e3925-af6f-4682-86e5-e98c962a889d"
      },
      "execution_count": null,
      "outputs": [
        {
          "output_type": "display_data",
          "data": {
            "text/plain": [
              "'ABD'"
            ],
            "application/vnd.google.colaboratory.intrinsic+json": {
              "type": "string"
            }
          },
          "metadata": {}
        },
        {
          "output_type": "display_data",
          "data": {
            "text/plain": [
              "Eq(-2*x - 8*y - 17*z + 122, 0)"
            ],
            "text/latex": "$\\displaystyle - 2 x - 8 y - 17 z + 122 = 0$"
          },
          "metadata": {}
        },
        {
          "output_type": "display_data",
          "data": {
            "text/plain": [
              "122*sqrt(357)/357"
            ],
            "text/latex": "$\\displaystyle \\frac{122 \\sqrt{357}}{357}$"
          },
          "metadata": {}
        },
        {
          "output_type": "stream",
          "name": "stdout",
          "text": [
            "\n"
          ]
        },
        {
          "output_type": "display_data",
          "data": {
            "text/plain": [
              "'ABF'"
            ],
            "application/vnd.google.colaboratory.intrinsic+json": {
              "type": "string"
            }
          },
          "metadata": {}
        },
        {
          "output_type": "display_data",
          "data": {
            "text/plain": [
              "Eq(14*x - 33*y - 59*z + 303, 0)"
            ],
            "text/latex": "$\\displaystyle 14 x - 33 y - 59 z + 303 = 0$"
          },
          "metadata": {}
        },
        {
          "output_type": "display_data",
          "data": {
            "text/plain": [
              "303*sqrt(4766)/4766"
            ],
            "text/latex": "$\\displaystyle \\frac{303 \\sqrt{4766}}{4766}$"
          },
          "metadata": {}
        },
        {
          "output_type": "stream",
          "name": "stdout",
          "text": [
            "\n"
          ]
        },
        {
          "output_type": "display_data",
          "data": {
            "text/plain": [
              "'ACD'"
            ],
            "application/vnd.google.colaboratory.intrinsic+json": {
              "type": "string"
            }
          },
          "metadata": {}
        },
        {
          "output_type": "display_data",
          "data": {
            "text/plain": [
              "Eq(-4*x - 16*y - 34*z + 244, 0)"
            ],
            "text/latex": "$\\displaystyle - 4 x - 16 y - 34 z + 244 = 0$"
          },
          "metadata": {}
        },
        {
          "output_type": "display_data",
          "data": {
            "text/plain": [
              "122*sqrt(357)/357"
            ],
            "text/latex": "$\\displaystyle \\frac{122 \\sqrt{357}}{357}$"
          },
          "metadata": {}
        },
        {
          "output_type": "stream",
          "name": "stdout",
          "text": [
            "\n"
          ]
        },
        {
          "output_type": "display_data",
          "data": {
            "text/plain": [
              "'ACF'"
            ],
            "application/vnd.google.colaboratory.intrinsic+json": {
              "type": "string"
            }
          },
          "metadata": {}
        },
        {
          "output_type": "display_data",
          "data": {
            "text/plain": [
              "Eq(28*x - 66*y - 118*z + 606, 0)"
            ],
            "text/latex": "$\\displaystyle 28 x - 66 y - 118 z + 606 = 0$"
          },
          "metadata": {}
        },
        {
          "output_type": "display_data",
          "data": {
            "text/plain": [
              "303*sqrt(4766)/4766"
            ],
            "text/latex": "$\\displaystyle \\frac{303 \\sqrt{4766}}{4766}$"
          },
          "metadata": {}
        },
        {
          "output_type": "stream",
          "name": "stdout",
          "text": [
            "\n"
          ]
        },
        {
          "output_type": "display_data",
          "data": {
            "text/plain": [
              "'ADF'"
            ],
            "application/vnd.google.colaboratory.intrinsic+json": {
              "type": "string"
            }
          },
          "metadata": {}
        },
        {
          "output_type": "display_data",
          "data": {
            "text/plain": [
              "Eq(9*x - 53*y - 57*z + 430, 0)"
            ],
            "text/latex": "$\\displaystyle 9 x - 53 y - 57 z + 430 = 0$"
          },
          "metadata": {}
        },
        {
          "output_type": "display_data",
          "data": {
            "text/plain": [
              "430*sqrt(6139)/6139"
            ],
            "text/latex": "$\\displaystyle \\frac{430 \\sqrt{6139}}{6139}$"
          },
          "metadata": {}
        },
        {
          "output_type": "stream",
          "name": "stdout",
          "text": [
            "\n"
          ]
        },
        {
          "output_type": "display_data",
          "data": {
            "text/plain": [
              "'BCD'"
            ],
            "application/vnd.google.colaboratory.intrinsic+json": {
              "type": "string"
            }
          },
          "metadata": {}
        },
        {
          "output_type": "display_data",
          "data": {
            "text/plain": [
              "Eq(-2*x - 8*y - 17*z + 122, 0)"
            ],
            "text/latex": "$\\displaystyle - 2 x - 8 y - 17 z + 122 = 0$"
          },
          "metadata": {}
        },
        {
          "output_type": "display_data",
          "data": {
            "text/plain": [
              "122*sqrt(357)/357"
            ],
            "text/latex": "$\\displaystyle \\frac{122 \\sqrt{357}}{357}$"
          },
          "metadata": {}
        },
        {
          "output_type": "stream",
          "name": "stdout",
          "text": [
            "\n"
          ]
        },
        {
          "output_type": "display_data",
          "data": {
            "text/plain": [
              "'BCF'"
            ],
            "application/vnd.google.colaboratory.intrinsic+json": {
              "type": "string"
            }
          },
          "metadata": {}
        },
        {
          "output_type": "display_data",
          "data": {
            "text/plain": [
              "Eq(14*x - 33*y - 59*z + 303, 0)"
            ],
            "text/latex": "$\\displaystyle 14 x - 33 y - 59 z + 303 = 0$"
          },
          "metadata": {}
        },
        {
          "output_type": "display_data",
          "data": {
            "text/plain": [
              "303*sqrt(4766)/4766"
            ],
            "text/latex": "$\\displaystyle \\frac{303 \\sqrt{4766}}{4766}$"
          },
          "metadata": {}
        },
        {
          "output_type": "stream",
          "name": "stdout",
          "text": [
            "\n"
          ]
        },
        {
          "output_type": "display_data",
          "data": {
            "text/plain": [
              "'BDF'"
            ],
            "application/vnd.google.colaboratory.intrinsic+json": {
              "type": "string"
            }
          },
          "metadata": {}
        },
        {
          "output_type": "display_data",
          "data": {
            "text/plain": [
              "Eq(-7*x - 28*y - 15*z + 160, 0)"
            ],
            "text/latex": "$\\displaystyle - 7 x - 28 y - 15 z + 160 = 0$"
          },
          "metadata": {}
        },
        {
          "output_type": "display_data",
          "data": {
            "text/plain": [
              "80*sqrt(2)/23"
            ],
            "text/latex": "$\\displaystyle \\frac{80 \\sqrt{2}}{23}$"
          },
          "metadata": {}
        },
        {
          "output_type": "stream",
          "name": "stdout",
          "text": [
            "\n"
          ]
        },
        {
          "output_type": "display_data",
          "data": {
            "text/plain": [
              "'CDF'"
            ],
            "application/vnd.google.colaboratory.intrinsic+json": {
              "type": "string"
            }
          },
          "metadata": {}
        },
        {
          "output_type": "display_data",
          "data": {
            "text/plain": [
              "Eq(-23*x - 3*y + 27*z - 110, 0)"
            ],
            "text/latex": "$\\displaystyle - 23 x - 3 y + 27 z - 110 = 0$"
          },
          "metadata": {}
        },
        {
          "output_type": "display_data",
          "data": {
            "text/plain": [
              "110*sqrt(1267)/1267"
            ],
            "text/latex": "$\\displaystyle \\frac{110 \\sqrt{1267}}{1267}$"
          },
          "metadata": {}
        },
        {
          "output_type": "stream",
          "name": "stdout",
          "text": [
            "\n"
          ]
        }
      ]
    },
    {
      "cell_type": "markdown",
      "source": [
        "###  Задание 2*\n",
        "Составить список всех **различных** плоскостей, проходящих через любые три точки Задания 1. Вывести на экран названия и  уравнения каждой плоскости из списка и расстояние от  плоскости до самой далекой от нее точки."
      ],
      "metadata": {
        "id": "szAjbRFeJ724"
      }
    },
    {
      "cell_type": "code",
      "source": [
        "not_sim = []\n",
        "for i in plane_list:\n",
        "  if len(not_sim) > 0:\n",
        "    for j in not_sim:\n",
        "      if i[0].equals(j[0]):\n",
        "        break\n",
        "    else:\n",
        "        not_sim.append(i)\n",
        "  else:\n",
        "    not_sim.append(i)\n",
        "\n",
        "\n",
        "for x in not_sim:\n",
        "  m = -10**10\n",
        "  for j in point_list:\n",
        "    m = max(m, x[0].distance(j))\n",
        "  print(x[1])\n",
        "  display(Eq(x[0].equation(), 0), m)\n",
        "  print()\n"
      ],
      "metadata": {
        "id": "zZuNIq_6NS0a",
        "colab": {
          "base_uri": "https://localhost:8080/",
          "height": 492
        },
        "outputId": "839b05f2-4dd8-4f55-bd83-d8e66b22b8c0"
      },
      "execution_count": null,
      "outputs": [
        {
          "output_type": "stream",
          "name": "stdout",
          "text": [
            "ABD\n"
          ]
        },
        {
          "output_type": "display_data",
          "data": {
            "text/plain": [
              "Eq(-2*x - 8*y - 17*z + 122, 0)"
            ],
            "text/latex": "$\\displaystyle - 2 x - 8 y - 17 z + 122 = 0$"
          },
          "metadata": {}
        },
        {
          "output_type": "display_data",
          "data": {
            "text/plain": [
              "89*sqrt(357)/357"
            ],
            "text/latex": "$\\displaystyle \\frac{89 \\sqrt{357}}{357}$"
          },
          "metadata": {}
        },
        {
          "output_type": "stream",
          "name": "stdout",
          "text": [
            "\n",
            "ABF\n"
          ]
        },
        {
          "output_type": "display_data",
          "data": {
            "text/plain": [
              "Eq(14*x - 33*y - 59*z + 303, 0)"
            ],
            "text/latex": "$\\displaystyle 14 x - 33 y - 59 z + 303 = 0$"
          },
          "metadata": {}
        },
        {
          "output_type": "display_data",
          "data": {
            "text/plain": [
              "89*sqrt(4766)/4766"
            ],
            "text/latex": "$\\displaystyle \\frac{89 \\sqrt{4766}}{4766}$"
          },
          "metadata": {}
        },
        {
          "output_type": "stream",
          "name": "stdout",
          "text": [
            "\n",
            "ADF\n"
          ]
        },
        {
          "output_type": "display_data",
          "data": {
            "text/plain": [
              "Eq(9*x - 53*y - 57*z + 430, 0)"
            ],
            "text/latex": "$\\displaystyle 9 x - 53 y - 57 z + 430 = 0$"
          },
          "metadata": {}
        },
        {
          "output_type": "display_data",
          "data": {
            "text/plain": [
              "178*sqrt(6139)/6139"
            ],
            "text/latex": "$\\displaystyle \\frac{178 \\sqrt{6139}}{6139}$"
          },
          "metadata": {}
        },
        {
          "output_type": "stream",
          "name": "stdout",
          "text": [
            "\n",
            "BDF\n"
          ]
        },
        {
          "output_type": "display_data",
          "data": {
            "text/plain": [
              "Eq(-7*x - 28*y - 15*z + 160, 0)"
            ],
            "text/latex": "$\\displaystyle - 7 x - 28 y - 15 z + 160 = 0$"
          },
          "metadata": {}
        },
        {
          "output_type": "display_data",
          "data": {
            "text/plain": [
              "89*sqrt(2)/46"
            ],
            "text/latex": "$\\displaystyle \\frac{89 \\sqrt{2}}{46}$"
          },
          "metadata": {}
        },
        {
          "output_type": "stream",
          "name": "stdout",
          "text": [
            "\n",
            "CDF\n"
          ]
        },
        {
          "output_type": "display_data",
          "data": {
            "text/plain": [
              "Eq(-23*x - 3*y + 27*z - 110, 0)"
            ],
            "text/latex": "$\\displaystyle - 23 x - 3 y + 27 z - 110 = 0$"
          },
          "metadata": {}
        },
        {
          "output_type": "display_data",
          "data": {
            "text/plain": [
              "178*sqrt(1267)/1267"
            ],
            "text/latex": "$\\displaystyle \\frac{178 \\sqrt{1267}}{1267}$"
          },
          "metadata": {}
        },
        {
          "output_type": "stream",
          "name": "stdout",
          "text": [
            "\n"
          ]
        }
      ]
    },
    {
      "cell_type": "markdown",
      "metadata": {
        "id": "Y9SJb76H2yY1"
      },
      "source": [
        "###  Задание 3\n",
        "Точка $G(-1, 2, 0)$, остальные точки из Задания 1. Построить плоскость, перпендикулярную плоскости $ABG$, проходящую через $D$ и $F$. Построить плоскость, параллельную плоскости $ABF$, проходящую через $D$. Найти линию пересечения построенных плоскостей и расстояние от линии до $ABG$.\n",
        "\n",
        "Вывести на экран уравнения построенных  плоскостей, линии пересечения $ABG$  и расстояние от линии  пересечения до $ABG$."
      ]
    },
    {
      "cell_type": "code",
      "metadata": {
        "id": "9keM54mV2yY2",
        "colab": {
          "base_uri": "https://localhost:8080/",
          "height": 103
        },
        "outputId": "e0b021f6-8c81-4c28-dbb1-b7da8f430c30"
      },
      "source": [
        "A = Point(7, 5, 4)\n",
        "B = Point(6, 1, 6)\n",
        "C = Point(5, -3, 8)\n",
        "D = Point(2, 2, 6)\n",
        "F = Point(-7, 8, -1)\n",
        "G = Point(-1, 2, 0)\n",
        "plane_ABG = Plane(A, B, G)\n",
        "plane_ABF = Plane(A, B, F)\n",
        "plane1 = plane_ABG.perpendicular_plane(D, F)\n",
        "plane2 = plane_ABF.parallel_plane(D)\n",
        "intersection_line = plane1.intersection(plane2)[0]\n",
        "display(Eq(plane1.equation(), 0))\n",
        "display(Eq(plane2.equation(), 0))\n",
        "distance_to_ABG = intersection_line.distance(plane_ABG)\n",
        "display(intersection_line.equation())\n",
        "display(distance_to_ABG)\n"
      ],
      "execution_count": null,
      "outputs": [
        {
          "output_type": "display_data",
          "data": {
            "text/plain": [
              "Eq(-314*x - 415*y + 48*z + 1170, 0)"
            ],
            "text/latex": "$\\displaystyle - 314 x - 415 y + 48 z + 1170 = 0$"
          },
          "metadata": {}
        },
        {
          "output_type": "display_data",
          "data": {
            "text/plain": [
              "Eq(14*x - 33*y - 59*z + 392, 0)"
            ],
            "text/latex": "$\\displaystyle 14 x - 33 y - 59 z + 392 = 0$"
          },
          "metadata": {}
        },
        {
          "output_type": "display_data",
          "data": {
            "text/plain": [
              "(17854*x + 26069*y - 87846, -16172*x + 26069*z - 124070)"
            ],
            "text/latex": "$\\displaystyle \\left( 17854 x + 26069 y - 87846, \\  - 16172 x + 26069 z - 124070\\right)$"
          },
          "metadata": {}
        },
        {
          "output_type": "display_data",
          "data": {
            "text/plain": [
              "0"
            ],
            "text/latex": "$\\displaystyle 0$"
          },
          "metadata": {}
        }
      ]
    },
    {
      "cell_type": "markdown",
      "metadata": {
        "id": "YQtDk8082yY6"
      },
      "source": [
        "###  Задание 4*\n",
        "Вася хочет развесить гирлянду по вершинам растущих во дворе деревьев, координаты вершин в файле \"trees.xlsx\". Гирлянды расходятся от одного из деревьев к каждому из остальных. Длины гирлянд, соединяющих два дерева, - целые числа (если расстояние между вершинами деревьев не целое число, то длина округляется в **большую** сторону).\n",
        "\n",
        "Записать в файл \"chains.xlsx\" суммарную длину гирлянд, расходящихся от центра, если центром может быть любое дерево из \"trees.xlsx\", подпись строки - название центрального дерева. В файле строки должны быть расположены по возрастанию суммарной длины гирлянд."
      ]
    },
    {
      "cell_type": "code",
      "source": [
        "from math import ceil\n",
        "points_table = pd.read_excel('trees.xlsx', index_col=0)\n",
        "coords = points_table.to_numpy()\n",
        "points_names = points_table.index\n",
        "points = [(Point(coords[x]), points_names[x]) for x in range(len(coords))]\n",
        "\n",
        "result = []\n",
        "for i in points:\n",
        "  s = 0\n",
        "  for j in points:\n",
        "    s += ceil(i[0].distance(j[0]))\n",
        "  result += [[i[1], s]]\n",
        "result.sort(key=lambda x: x[1])\n",
        "display(result)\n",
        "df = pd.DataFrame(result, columns=['Point Name', 'Summed Distance'])\n",
        "\n",
        "output_file = 'chains.xlsx'\n",
        "df.to_excel(output_file, index=False)\n",
        "\n",
        "print(f\"Результат сохранен в файл: {output_file}\")\n"
      ],
      "metadata": {
        "id": "5ZbSTXffbAWh",
        "colab": {
          "base_uri": "https://localhost:8080/",
          "height": 191
        },
        "outputId": "d305b8ba-d8cc-4512-dbb7-c495ba350e0d"
      },
      "execution_count": null,
      "outputs": [
        {
          "output_type": "display_data",
          "data": {
            "text/plain": [
              "[['ель', 94],\n",
              " ['дуб', 96],\n",
              " ['ива', 97],\n",
              " ['вяз', 110],\n",
              " ['ракита', 117],\n",
              " ['береза', 121],\n",
              " ['осина', 129],\n",
              " ['клен', 133],\n",
              " ['сосна', 173]]"
            ]
          },
          "metadata": {}
        },
        {
          "output_type": "stream",
          "name": "stdout",
          "text": [
            "Результат сохранен в файл: chains.xlsx\n"
          ]
        }
      ]
    },
    {
      "cell_type": "markdown",
      "metadata": {
        "id": "RyK8Ftfp2yY7"
      },
      "source": [
        "### Индивидуальное задание\n",
        "\n",
        "Дан файл 'points_ind.xlsx' с координатами и именами точек.\n",
        "\n",
        "Составить словарь с ключами - точками (например, Point3D(3, 2, 1)) и значениями - именами точек ('A', 'B' и т.д.). Найти и вывести на экран\n",
        "\n",
        ">расстояние от точек $D$ и $F$ до плоскости $ABC$,\n",
        "\n",
        ">уравнение плоскости $ABC$,\n",
        "\n",
        ">параметрические уравнения прямой $DF$.\n",
        "\n",
        "Определить и вывести на экран, какие 4 из заданных точек лежат в одной плоскости (пользуясь словарем точек, вывести имена точек).\n",
        "\n",
        "Определить и вывести на экран, какие 3 из заданных точек лежат на одной прямой (пользуясь словарем точек, вывести имена точек)."
      ]
    },
    {
      "cell_type": "code",
      "metadata": {
        "id": "FyP2abYp2yY7",
        "colab": {
          "base_uri": "https://localhost:8080/",
          "height": 271
        },
        "outputId": "009029fa-4843-4f82-aa5f-7168fbe307d1"
      },
      "source": [
        "\n",
        "points_table = pd.read_excel('points_ind_7_v_169.xlsx', index_col=0)\n",
        "coords = list(points_table.to_numpy())\n",
        "points_names = list(points_table.index)\n",
        "d = {}\n",
        "drev = {}\n",
        "point_list = []\n",
        "for i in range(len(coords)):\n",
        "  d[Point(coords[i])] = points_names[i]\n",
        "  drev[points_names[i]] = Point(coords[i])\n",
        "  point_list += [Point(coords[i])]\n",
        "s = drev['S']\n",
        "p = drev['P']\n",
        "ght = Plane(drev['G'], drev['H'], drev['T'])\n",
        "display(ght.distance(s),ght.distance(p))\n",
        "display(Eq(ght.equation(),0))\n",
        "print()\n",
        "\n",
        "sp = Line(s,p)\n",
        "point = sp.p1\n",
        "direction = sp.direction\n",
        "\n",
        "t,x,y,z = symbols('t x y z')\n",
        "xt = point.x + direction[0] * t\n",
        "yt = point.y + direction[1] * t\n",
        "zt = point.z + direction[2] * t\n",
        "\n",
        "display(Eq(x,xt),Eq(y,yt),Eq(z,zt))\n",
        "print()\n",
        "for i in range(len(point_list) - 3):\n",
        "  for j in range(i+1, len(point_list)-2):\n",
        "    for k in range(j+1, len(point_list)-1):\n",
        "      for l in range(k+1, len(point_list)):\n",
        "          p = Plane(point_list[i], point_list[j], point_list[k])\n",
        "          if p.distance(point_list[l]) == 0:\n",
        "            display('Coplanar points: ' + ','.join([d[point_list[i]],d[point_list[j]],d[point_list[k]], d[point_list[l]]]))\n",
        "\n",
        "print()\n",
        "for i in range(len(point_list) - 2):\n",
        "  for j in range(i+1, len(point_list)-1):\n",
        "    for k in range(j+1, len(point_list)):\n",
        "      l = Line(point_list[i], point_list[j])\n",
        "      if l.distance(point_list[k]) == 0:\n",
        "        display('Points lie on the same line: ' + ','.join([d[point_list[i]],d[point_list[j]],d[point_list[k]]]))\n",
        "\n"
      ],
      "execution_count": null,
      "outputs": [
        {
          "output_type": "display_data",
          "data": {
            "text/plain": [
              "19*sqrt(10)/15"
            ],
            "text/latex": "$\\displaystyle \\frac{19 \\sqrt{10}}{15}$"
          },
          "metadata": {}
        },
        {
          "output_type": "display_data",
          "data": {
            "text/plain": [
              "0"
            ],
            "text/latex": "$\\displaystyle 0$"
          },
          "metadata": {}
        },
        {
          "output_type": "display_data",
          "data": {
            "text/plain": [
              "Eq(-16*x - 10*y - 2*z - 16, 0)"
            ],
            "text/latex": "$\\displaystyle - 16 x - 10 y - 2 z - 16 = 0$"
          },
          "metadata": {}
        },
        {
          "output_type": "stream",
          "name": "stdout",
          "text": [
            "\n"
          ]
        },
        {
          "output_type": "display_data",
          "data": {
            "text/plain": [
              "Eq(x, 3 - 4*t)"
            ],
            "text/latex": "$\\displaystyle x = 3 - 4 t$"
          },
          "metadata": {}
        },
        {
          "output_type": "display_data",
          "data": {
            "text/plain": [
              "Eq(y, t + 1)"
            ],
            "text/latex": "$\\displaystyle y = t + 1$"
          },
          "metadata": {}
        },
        {
          "output_type": "display_data",
          "data": {
            "text/plain": [
              "Eq(z, 1 - 11*t)"
            ],
            "text/latex": "$\\displaystyle z = 1 - 11 t$"
          },
          "metadata": {}
        },
        {
          "output_type": "stream",
          "name": "stdout",
          "text": [
            "\n"
          ]
        },
        {
          "output_type": "display_data",
          "data": {
            "text/plain": [
              "'Coplanar points: G,H,P,T'"
            ],
            "application/vnd.google.colaboratory.intrinsic+json": {
              "type": "string"
            }
          },
          "metadata": {}
        },
        {
          "output_type": "display_data",
          "data": {
            "text/plain": [
              "'Coplanar points: H,P,S,T'"
            ],
            "application/vnd.google.colaboratory.intrinsic+json": {
              "type": "string"
            }
          },
          "metadata": {}
        },
        {
          "output_type": "stream",
          "name": "stdout",
          "text": [
            "\n"
          ]
        },
        {
          "output_type": "display_data",
          "data": {
            "text/plain": [
              "'Points lie on the same line: H,P,T'"
            ],
            "application/vnd.google.colaboratory.intrinsic+json": {
              "type": "string"
            }
          },
          "metadata": {}
        }
      ]
    }
  ]
}