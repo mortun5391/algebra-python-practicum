{
  "nbformat": 4,
  "nbformat_minor": 0,
  "metadata": {
    "kernelspec": {
      "display_name": "Python 3",
      "language": "python",
      "name": "python3"
    },
    "language_info": {
      "codemirror_mode": {
        "name": "ipython",
        "version": 3
      },
      "file_extension": ".py",
      "mimetype": "text/x-python",
      "name": "python",
      "nbconvert_exporter": "python",
      "pygments_lexer": "ipython3",
      "version": "3.7.3"
    },
    "colab": {
      "provenance": []
    }
  },
  "cells": [
    {
      "cell_type": "code",
      "metadata": {
        "id": "eTUL_xdODebk"
      },
      "source": [
        "import numpy as np\n",
        "import sympy\n",
        "from sympy import I, latex, S, Eq\n",
        "from IPython.display import display, Latex\n",
        "import matplotlib.pyplot as plt"
      ],
      "execution_count": null,
      "outputs": []
    },
    {
      "cell_type": "markdown",
      "metadata": {
        "id": "NYucazc7Debp"
      },
      "source": [
        "# Занятие 9\n",
        "# Алгебра\n",
        "## Комплексные числа в sympy\n",
        "### Задание 1.\n",
        "Даны комплексные числа вида\n",
        "$$\n",
        "z_k = k + \\frac{i}{k},\\quad k = 1, 2, 3.\n",
        "$$\n",
        "Вычислить (представить в алгебраической форме) с помощью sympy\n",
        "$$\n",
        "z_k \\cdot z_{k + 1},\\quad z_k^2,\\quad \\sqrt{z_k}.\n",
        "$$"
      ]
    },
    {
      "cell_type": "code",
      "source": [
        "from sympy import *\n",
        "\n",
        "\n",
        "for k in (1,2,3):\n",
        "  zk = k + S(I)/k\n",
        "  zk1 = (k+1) + S(I)/(k+1)\n",
        "  display(sympy.expand_complex(zk * zk1))\n",
        "  display(sympy.expand(zk*zk))\n",
        "  display(sympy.expand_complex(sympy.sqrt(zk)))\n",
        "  print('\\n\\n')\n",
        "\n"
      ],
      "metadata": {
        "colab": {
          "base_uri": "https://localhost:8080/",
          "height": 535
        },
        "id": "0ouFKQ5zlH1n",
        "outputId": "886efee3-e9df-4315-b1cc-3c6dfde533d2"
      },
      "execution_count": null,
      "outputs": [
        {
          "output_type": "display_data",
          "data": {
            "text/plain": [
              "3/2 + 5*I/2"
            ],
            "text/latex": "$\\displaystyle \\frac{3}{2} + \\frac{5 i}{2}$"
          },
          "metadata": {}
        },
        {
          "output_type": "display_data",
          "data": {
            "text/plain": [
              "2*I"
            ],
            "text/latex": "$\\displaystyle 2 i$"
          },
          "metadata": {}
        },
        {
          "output_type": "display_data",
          "data": {
            "text/plain": [
              "2**(1/4)*sqrt(sqrt(2)/4 + 1/2) + 2**(1/4)*I*sqrt(1/2 - sqrt(2)/4)"
            ],
            "text/latex": "$\\displaystyle \\sqrt[4]{2} \\sqrt{\\frac{\\sqrt{2}}{4} + \\frac{1}{2}} + \\sqrt[4]{2} i \\sqrt{\\frac{1}{2} - \\frac{\\sqrt{2}}{4}}$"
          },
          "metadata": {}
        },
        {
          "output_type": "stream",
          "name": "stdout",
          "text": [
            "\n",
            "\n",
            "\n"
          ]
        },
        {
          "output_type": "display_data",
          "data": {
            "text/plain": [
              "35/6 + 13*I/6"
            ],
            "text/latex": "$\\displaystyle \\frac{35}{6} + \\frac{13 i}{6}$"
          },
          "metadata": {}
        },
        {
          "output_type": "display_data",
          "data": {
            "text/plain": [
              "15/4 + 2*I"
            ],
            "text/latex": "$\\displaystyle \\frac{15}{4} + 2 i$"
          },
          "metadata": {}
        },
        {
          "output_type": "display_data",
          "data": {
            "text/plain": [
              "17**(1/4)*sqrt(2)*cos(atan(1/4)/2)/2 + 17**(1/4)*sqrt(2)*I*sin(atan(1/4)/2)/2"
            ],
            "text/latex": "$\\displaystyle \\frac{\\sqrt[4]{17} \\sqrt{2} \\cos{\\left(\\frac{\\operatorname{atan}{\\left(\\frac{1}{4} \\right)}}{2} \\right)}}{2} + \\frac{\\sqrt[4]{17} \\sqrt{2} i \\sin{\\left(\\frac{\\operatorname{atan}{\\left(\\frac{1}{4} \\right)}}{2} \\right)}}{2}$"
          },
          "metadata": {}
        },
        {
          "output_type": "stream",
          "name": "stdout",
          "text": [
            "\n",
            "\n",
            "\n"
          ]
        },
        {
          "output_type": "display_data",
          "data": {
            "text/plain": [
              "143/12 + 25*I/12"
            ],
            "text/latex": "$\\displaystyle \\frac{143}{12} + \\frac{25 i}{12}$"
          },
          "metadata": {}
        },
        {
          "output_type": "display_data",
          "data": {
            "text/plain": [
              "80/9 + 2*I"
            ],
            "text/latex": "$\\displaystyle \\frac{80}{9} + 2 i$"
          },
          "metadata": {}
        },
        {
          "output_type": "display_data",
          "data": {
            "text/plain": [
              "sqrt(3)*82**(1/4)*cos(atan(1/9)/2)/3 + sqrt(3)*82**(1/4)*I*sin(atan(1/9)/2)/3"
            ],
            "text/latex": "$\\displaystyle \\frac{\\sqrt{3} \\sqrt[4]{82} \\cos{\\left(\\frac{\\operatorname{atan}{\\left(\\frac{1}{9} \\right)}}{2} \\right)}}{3} + \\frac{\\sqrt{3} \\sqrt[4]{82} i \\sin{\\left(\\frac{\\operatorname{atan}{\\left(\\frac{1}{9} \\right)}}{2} \\right)}}{3}$"
          },
          "metadata": {}
        },
        {
          "output_type": "stream",
          "name": "stdout",
          "text": [
            "\n",
            "\n",
            "\n"
          ]
        }
      ]
    },
    {
      "cell_type": "markdown",
      "metadata": {
        "id": "hMWTheVHDebr"
      },
      "source": [
        "### Задание  2.\n",
        "Вычисления Примера 1 проделать для мнимой единицы из Python (использовать встроенную функцию complex)."
      ]
    },
    {
      "cell_type": "code",
      "source": [
        "\n",
        "for k in (1,2,3):\n",
        "  zk = complex(k, 1/k)\n",
        "\n",
        "  zk1 = complex(k+1, 1/(k+1))\n",
        "  display(zk * zk1)\n",
        "  display(zk*zk)\n",
        "  display(zk**0.5)\n",
        "  print('\\n')"
      ],
      "metadata": {
        "colab": {
          "base_uri": "https://localhost:8080/",
          "height": 277
        },
        "id": "4eNcslKTpTkn",
        "outputId": "e5cd7c31-acc6-4b7f-a666-c0dfc462cc6e"
      },
      "execution_count": null,
      "outputs": [
        {
          "output_type": "display_data",
          "data": {
            "text/plain": [
              "(1.5+2.5j)"
            ]
          },
          "metadata": {}
        },
        {
          "output_type": "display_data",
          "data": {
            "text/plain": [
              "2j"
            ]
          },
          "metadata": {}
        },
        {
          "output_type": "display_data",
          "data": {
            "text/plain": [
              "(1.0986841134678098+0.45508986056222733j)"
            ]
          },
          "metadata": {}
        },
        {
          "output_type": "stream",
          "name": "stdout",
          "text": [
            "\n",
            "\n"
          ]
        },
        {
          "output_type": "display_data",
          "data": {
            "text/plain": [
              "(5.833333333333333+2.1666666666666665j)"
            ]
          },
          "metadata": {}
        },
        {
          "output_type": "display_data",
          "data": {
            "text/plain": [
              "(3.75+2j)"
            ]
          },
          "metadata": {}
        },
        {
          "output_type": "display_data",
          "data": {
            "text/plain": [
              "(1.425053124063947+0.17543205637629383j)"
            ]
          },
          "metadata": {}
        },
        {
          "output_type": "stream",
          "name": "stdout",
          "text": [
            "\n",
            "\n"
          ]
        },
        {
          "output_type": "display_data",
          "data": {
            "text/plain": [
              "(11.916666666666666+2.083333333333333j)"
            ]
          },
          "metadata": {}
        },
        {
          "output_type": "display_data",
          "data": {
            "text/plain": [
              "(8.88888888888889+2j)"
            ]
          },
          "metadata": {}
        },
        {
          "output_type": "display_data",
          "data": {
            "text/plain": [
              "(1.734713479614497+0.09607734569728757j)"
            ]
          },
          "metadata": {}
        },
        {
          "output_type": "stream",
          "name": "stdout",
          "text": [
            "\n",
            "\n"
          ]
        }
      ]
    },
    {
      "cell_type": "markdown",
      "metadata": {
        "id": "tb3ET3y6Debs"
      },
      "source": [
        "### Задание  3.\n",
        "Изобразить на координатной плоскости точки, соответствующие корням  $3$-й степени комплексного числа $z = -\\frac{1}{2} + i\\frac{\\sqrt{3}}{2}$. Подписать точки $A_k$, где $k$  - номер корня."
      ]
    },
    {
      "cell_type": "code",
      "source": [
        "z = -1/2 + I * (3 ** 1/2)/2\n",
        "n = 3\n",
        "roots_list_3 = [sympy.root(1 - I, n, k) for k in range(n)]\n",
        "display(Latex(latex(roots_list_3)))\n",
        "for x, y, k_complex_z in zip(map(sympy.re, roots_list_3),\n",
        "                              map(sympy.im, roots_list_3),\n",
        "                              enumerate(roots_list_3)):\n",
        "    plt.scatter(x, y)\n",
        "    k, complex_z = k_complex_z\n",
        "    plt.annotate(f'$A_{k} = {sympy.latex(complex_z)}$',\n",
        "            xy=(x, y),\n",
        "            xytext=(x + 0.05, y - 0.05))\n",
        "plt.axis('equal')\n",
        "plt.xlabel(\"Re\")\n",
        "plt.ylabel(\"Im\")\n",
        "plt.xlim(-4, 4.5)\n",
        "plt.ylim(-1.5, 1.5)"
      ],
      "metadata": {
        "colab": {
          "base_uri": "https://localhost:8080/",
          "height": 520
        },
        "id": "nNo3KlpPqX0T",
        "outputId": "8ea03e38-93d1-4b1f-ad3e-4aabc328f037"
      },
      "execution_count": null,
      "outputs": [
        {
          "output_type": "display_data",
          "data": {
            "text/plain": [
              "<IPython.core.display.Latex object>"
            ],
            "text/latex": "\\left[ \\sqrt[3]{1 - i}, \\  \\left(-1\\right)^{\\frac{2}{3}} \\sqrt[3]{1 - i}, \\  - \\sqrt[3]{-1} \\sqrt[3]{1 - i}\\right]"
          },
          "metadata": {}
        },
        {
          "output_type": "execute_result",
          "data": {
            "text/plain": [
              "(-1.5, 1.5)"
            ]
          },
          "metadata": {},
          "execution_count": 24
        },
        {
          "output_type": "stream",
          "name": "stderr",
          "text": [
            "WARNING:matplotlib.axes._base:Ignoring fixed x limits to fulfill fixed data aspect with adjustable data limits.\n"
          ]
        },
        {
          "output_type": "display_data",
          "data": {
            "text/plain": [
              "<Figure size 640x480 with 1 Axes>"
            ],
            "image/png": "[encoded data removed]"
          },
          "metadata": {}
        }
      ]
    },
    {
      "cell_type": "markdown",
      "metadata": {
        "id": "t9mDRl5eDebt"
      },
      "source": [
        "### Задание  4.\n",
        "Изобразить на координатной плоскости точки, соответствующие $z_4 = - \\sqrt{3} + i$ и $\\bar{z_4}$, подписать $z_4$ тригонометрической формой, $\\bar{z_4}$ - экспоненциальной ($z = r e^{i\\varphi}$, $r$ и $\\varphi$ такие же, как в тригонометрической форме)."
      ]
    },
    {
      "cell_type": "code",
      "source": [
        "z4 = -(3 ** sympy.S.Half) + I\n",
        "z4_conj = sympy.conjugate(z4)\n",
        "x_coords = [-3 ** 0.5, -3 ** 0.5]\n",
        "y_coords = [1, -1]\n",
        "\n",
        "r = sympy.functions.Abs(z4)\n",
        "args = (sympy.functions.arg(z4), sympy.functions.arg(z4_conj))\n",
        "names: tuple[str, str] = (\n",
        "fr\"$z_4 = {latex(r)} (cos({latex(args[0])}) + i sin({latex(args[0])}))$\",\n",
        "fr\"$ \\bar{{z_4}} = {latex(r)} e^{{{latex(args[1])} i}}$\"\n",
        ")\n",
        "\n",
        "plt.scatter(x_coords, y_coords)\n",
        "for i, (name, root_x, root_y) in enumerate(zip(names, x_coords, y_coords)):\n",
        "    plt.annotate(\n",
        "        name,\n",
        "        xy=(root_x, root_y),\n",
        "        xytext=(root_x + 0.005, root_y)\n",
        "    )"
      ],
      "metadata": {
        "colab": {
          "base_uri": "https://localhost:8080/",
          "height": 430
        },
        "id": "0hlPgXdswzCa",
        "outputId": "4fcac7a0-cfa9-4eee-98e0-0934d38d66d7"
      },
      "execution_count": null,
      "outputs": [
        {
          "output_type": "display_data",
          "data": {
            "text/plain": [
              "<Figure size 640x480 with 1 Axes>"
            ],
            "image/png": "[encoded data removed]"
          },
          "metadata": {}
        }
      ]
    },
    {
      "cell_type": "markdown",
      "metadata": {
        "id": "GRVpOD5bDebv"
      },
      "source": [
        "#### Задание  5*.\n",
        "Изобразить корни 4 степени числа $5e^{\\frac{i\\pi}{8}}$, в полярной системе координат, подписи к точкам - аргументы (углы) сответствующих комплексных чисел.\n",
        "\n",
        "Число вводить в тригонометрической форме, для получения корней комплексного числа $z = r(\\cos(\\varphi) + \\sin(\\varphi))$ использовать формулу\n",
        "$\\sqrt[n]{z} = \\sqrt[n]{r}(\\cos(\\varphi_k) + i \\sin(\\varphi_k))$,\n",
        "$\\varphi_k = \\frac{\\varphi + 2\\pi k}{n}$, $k = 0, ..., n$.\n",
        "\n",
        "Вывести алгебраическую форму полученных корней на экран и сравнить с результатом, полученным с помощью sympy.root (с использованием sympy.expand_complex для упрощения выражения). Аналитическое представление оказывается разным.\n",
        "\n",
        "Для каждого корня найти разность в формате float модуля разности корней, полученных двумя способами (т.е. нужно для каждой пары одинаковых корней, полученных двумя способами находить разность корней, вычислять модуль sympy.Abs этой разности и преобразовывать результат в формат float)."
      ]
    },
    {
      "cell_type": "code",
      "source": [
        "r = sympy.S(5)\n",
        "phi = sympy.pi / 8\n",
        "\n",
        "mod = r ** (S(1) / 4)\n",
        "args = [(phi + 2 * sympy.pi * k) / 4 for k in range(4)]\n",
        "\n",
        "roots = [mod * (sympy.cos(phi_k) + I * sympy.sin(phi_k)) for phi_k in args]\n",
        "print(\"Корни, полученные по формуле:\")\n",
        "display(*roots)\n",
        "print()\n",
        "\n",
        "plt.polar(args, [mod for _ in range(4)], \"ro\")\n",
        "for i, phi_i in enumerate(args):\n",
        "    plt.annotate(\n",
        "        fr\"${latex(phi_i)}$\",\n",
        "        xy=(phi_i, mod),\n",
        "        xytext=(phi_i + 0.1, mod + 0.07)\n",
        "    )\n",
        "\n",
        "z = 5 * sympy.E ** (I * sympy.pi / 8)\n",
        "sympy_roots = [sympy.expand_complex(sympy.root(z, 4, k)) for k in range(4)]\n",
        "print(\"Корни, полученные с помощью sympy.root():\")\n",
        "display(*sympy_roots)\n",
        "print()\n",
        "\n",
        "for i, (root_naive, root_sympy) in enumerate(zip(roots, sympy_roots)):\n",
        "    delta = sympy.Abs(root_naive - root_sympy).evalf()\n",
        "    display(Latex(f\"\\\\text{{Модуль разности {i + 1} пары корней: }}{latex(delta)}\"))"
      ],
      "metadata": {
        "colab": {
          "base_uri": "https://localhost:8080/",
          "height": 878
        },
        "id": "Rdoes9ZlxxTk",
        "outputId": "654c5943-4111-4322-9458-8463c3995d03"
      },
      "execution_count": null,
      "outputs": [
        {
          "output_type": "stream",
          "name": "stdout",
          "text": [
            "Корни, полученные по формуле:\n"
          ]
        },
        {
          "output_type": "display_data",
          "data": {
            "text/plain": [
              "5**(1/4)*(cos(pi/32) + I*sin(pi/32))"
            ],
            "text/latex": "$\\displaystyle \\sqrt[4]{5} \\left(\\cos{\\left(\\frac{\\pi}{32} \\right)} + i \\sin{\\left(\\frac{\\pi}{32} \\right)}\\right)$"
          },
          "metadata": {}
        },
        {
          "output_type": "display_data",
          "data": {
            "text/plain": [
              "5**(1/4)*(-cos(15*pi/32) + I*sin(15*pi/32))"
            ],
            "text/latex": "$\\displaystyle \\sqrt[4]{5} \\left(- \\cos{\\left(\\frac{15 \\pi}{32} \\right)} + i \\sin{\\left(\\frac{15 \\pi}{32} \\right)}\\right)$"
          },
          "metadata": {}
        },
        {
          "output_type": "display_data",
          "data": {
            "text/plain": [
              "5**(1/4)*(-cos(pi/32) - I*sin(pi/32))"
            ],
            "text/latex": "$\\displaystyle \\sqrt[4]{5} \\left(- \\cos{\\left(\\frac{\\pi}{32} \\right)} - i \\sin{\\left(\\frac{\\pi}{32} \\right)}\\right)$"
          },
          "metadata": {}
        },
        {
          "output_type": "display_data",
          "data": {
            "text/plain": [
              "5**(1/4)*(cos(15*pi/32) - I*sin(15*pi/32))"
            ],
            "text/latex": "$\\displaystyle \\sqrt[4]{5} \\left(\\cos{\\left(\\frac{15 \\pi}{32} \\right)} - i \\sin{\\left(\\frac{15 \\pi}{32} \\right)}\\right)$"
          },
          "metadata": {}
        },
        {
          "output_type": "stream",
          "name": "stdout",
          "text": [
            "\n",
            "Корни, полученные с помощью sympy.root():\n"
          ]
        },
        {
          "output_type": "display_data",
          "data": {
            "text/plain": [
              "5**(1/4)*cos(pi/32) + 5**(1/4)*I*sin(pi/32)"
            ],
            "text/latex": "$\\displaystyle \\sqrt[4]{5} \\cos{\\left(\\frac{\\pi}{32} \\right)} + \\sqrt[4]{5} i \\sin{\\left(\\frac{\\pi}{32} \\right)}$"
          },
          "metadata": {}
        },
        {
          "output_type": "display_data",
          "data": {
            "text/plain": [
              "-5**(1/4)*sin(pi/32) + 5**(1/4)*I*cos(pi/32)"
            ],
            "text/latex": "$\\displaystyle - \\sqrt[4]{5} \\sin{\\left(\\frac{\\pi}{32} \\right)} + \\sqrt[4]{5} i \\cos{\\left(\\frac{\\pi}{32} \\right)}$"
          },
          "metadata": {}
        },
        {
          "output_type": "display_data",
          "data": {
            "text/plain": [
              "-5**(1/4)*cos(pi/32) - 5**(1/4)*I*sin(pi/32)"
            ],
            "text/latex": "$\\displaystyle - \\sqrt[4]{5} \\cos{\\left(\\frac{\\pi}{32} \\right)} - \\sqrt[4]{5} i \\sin{\\left(\\frac{\\pi}{32} \\right)}$"
          },
          "metadata": {}
        },
        {
          "output_type": "display_data",
          "data": {
            "text/plain": [
              "5**(1/4)*sin(pi/32) - 5**(1/4)*I*cos(pi/32)"
            ],
            "text/latex": "$\\displaystyle \\sqrt[4]{5} \\sin{\\left(\\frac{\\pi}{32} \\right)} - \\sqrt[4]{5} i \\cos{\\left(\\frac{\\pi}{32} \\right)}$"
          },
          "metadata": {}
        },
        {
          "output_type": "stream",
          "name": "stdout",
          "text": [
            "\n"
          ]
        },
        {
          "output_type": "display_data",
          "data": {
            "text/plain": [
              "<IPython.core.display.Latex object>"
            ],
            "text/latex": "\\text{Модуль разности 1 пары корней: }0"
          },
          "metadata": {}
        },
        {
          "output_type": "display_data",
          "data": {
            "text/plain": [
              "<IPython.core.display.Latex object>"
            ],
            "text/latex": "\\text{Модуль разности 2 пары корней: }5.24560964393985 \\cdot 10^{-68}"
          },
          "metadata": {}
        },
        {
          "output_type": "display_data",
          "data": {
            "text/plain": [
              "<IPython.core.display.Latex object>"
            ],
            "text/latex": "\\text{Модуль разности 3 пары корней: }0"
          },
          "metadata": {}
        },
        {
          "output_type": "display_data",
          "data": {
            "text/plain": [
              "<IPython.core.display.Latex object>"
            ],
            "text/latex": "\\text{Модуль разности 4 пары корней: }5.24560964393985 \\cdot 10^{-68}"
          },
          "metadata": {}
        },
        {
          "output_type": "display_data",
          "data": {
            "text/plain": [
              "<Figure size 640x480 with 1 Axes>"
            ],
            "image/png": "[encoded data removed]"
          },
          "metadata": {}
        }
      ]
    },
    {
      "cell_type": "markdown",
      "source": [
        "#### Задание  6*.\n",
        "Считать из файла \"complex_numbers.xlsx\" комплексные числа (откройте файл, обратите внимание на подписи строк и столбцов, имя листа).\n",
        "Вывести на экран  считанные числа в алгебраической  форме, их модули и аргументы. Дописать в файл листы \"abs\" и \"arg\" с названиями строк в виде алгебраической формы комплексного числа (например, $2-3i$) и столбцом \"abs\" и \"arg\" соответсвенно со значениями модулей и аргументов чисел, округленными до 2 знаков после запятой. Округлять можно, например, с помощью round из Python.\n",
        "\n",
        "**Указание: **построить по считанным из файла значениям вещественной и мнимой части комплексные числа sympy, вычислить приближенно их модули и аргументы средствами sympy, затем округлить."
      ],
      "metadata": {
        "id": "sdLDvqr_G6Z6"
      }
    },
    {
      "cell_type": "code",
      "source": [
        "from google.colab import files\n",
        "import pandas as pd\n",
        "uploaded = files.upload() # загружаем нужные файлы, обращаться к ним будем по имени\n",
        "for file_name in uploaded.keys():\n",
        "    print(f'Загружен файл {file_name}')"
      ],
      "metadata": {
        "colab": {
          "base_uri": "https://localhost:8080/",
          "height": 90
        },
        "id": "WFshvmmoRPqA",
        "outputId": "24752449-ca51-45b9-d018-713d4f8e851b"
      },
      "execution_count": null,
      "outputs": [
        {
          "output_type": "display_data",
          "data": {
            "text/plain": [
              "<IPython.core.display.HTML object>"
            ],
            "text/html": [
              "\n",
              "     <input type=\"file\" id=\"files-5bf2a1c9-b372-42ee-84de-9e6c00512339\" name=\"files[]\" multiple disabled\n",
              "        style=\"border:none\" />\n",
              "     <output id=\"result-5bf2a1c9-b372-42ee-84de-9e6c00512339\">\n",
              "      Upload widget is only available when the cell has been executed in the\n",
              "      current browser session. Please rerun this cell to enable.\n",
              "      </output>\n",
              "      <script>// Copyright 2017 Google LLC\n",
              "//\n",
              "// Licensed under the Apache License, Version 2.0 (the \"License\");\n",
              "// you may not use this file except in compliance with the License.\n",
              "// You may obtain a copy of the License at\n",
              "//\n",
              "//      http://www.apache.org/licenses/LICENSE-2.0\n",
              "//\n",
              "// Unless required by applicable law or agreed to in writing, software\n",
              "// distributed under the License is distributed on an \"AS IS\" BASIS,\n",
              "// WITHOUT WARRANTIES OR CONDITIONS OF ANY KIND, either express or implied.\n",
              "// See the License for the specific language governing permissions and\n",
              "// limitations under the License.\n",
              "\n",
              "/**\n",
              " * @fileoverview Helpers for google.colab Python module.\n",
              " */\n",
              "(function(scope) {\n",
              "function span(text, styleAttributes = {}) {\n",
              "  const element = document.createElement('span');\n",
              "  element.textContent = text;\n",
              "  for (const key of Object.keys(styleAttributes)) {\n",
              "    element.style[key] = styleAttributes[key];\n",
              "  }\n",
              "  return element;\n",
              "}\n",
              "\n",
              "// Max number of bytes which will be uploaded at a time.\n",
              "const MAX_PAYLOAD_SIZE = 100 * 1024;\n",
              "\n",
              "function _uploadFiles(inputId, outputId) {\n",
              "  const steps = uploadFilesStep(inputId, outputId);\n",
              "  const outputElement = document.getElementById(outputId);\n",
              "  // Cache steps on the outputElement to make it available for the next call\n",
              "  // to uploadFilesContinue from Python.\n",
              "  outputElement.steps = steps;\n",
              "\n",
              "  return _uploadFilesContinue(outputId);\n",
              "}\n",
              "\n",
              "// This is roughly an async generator (not supported in the browser yet),\n",
              "// where there are multiple asynchronous steps and the Python side is going\n",
              "// to poll for completion of each step.\n",
              "// This uses a Promise to block the python side on completion of each step,\n",
              "// then passes the result of the previous step as the input to the next step.\n",
              "function _uploadFilesContinue(outputId) {\n",
              "  const outputElement = document.getElementById(outputId);\n",
              "  const steps = outputElement.steps;\n",
              "\n",
              "  const next = steps.next(outputElement.lastPromiseValue);\n",
              "  return Promise.resolve(next.value.promise).then((value) => {\n",
              "    // Cache the last promise value to make it available to the next\n",
              "    // step of the generator.\n",
              "    outputElement.lastPromiseValue = value;\n",
              "    return next.value.response;\n",
              "  });\n",
              "}\n",
              "\n",
              "/**\n",
              " * Generator function which is called between each async step of the upload\n",
              " * process.\n",
              " * @param {string} inputId Element ID of the input file picker element.\n",
              " * @param {string} outputId Element ID of the output display.\n",
              " * @return {!Iterable<!Object>} Iterable of next steps.\n",
              " */\n",
              "function* uploadFilesStep(inputId, outputId) {\n",
              "  const inputElement = document.getElementById(inputId);\n",
              "  inputElement.disabled = false;\n",
              "\n",
              "  const outputElement = document.getElementById(outputId);\n",
              "  outputElement.innerHTML = '';\n",
              "\n",
              "  const pickedPromise = new Promise((resolve) => {\n",
              "    inputElement.addEventListener('change', (e) => {\n",
              "      resolve(e.target.files);\n",
              "    });\n",
              "  });\n",
              "\n",
              "  const cancel = document.createElement('button');\n",
              "  inputElement.parentElement.appendChild(cancel);\n",
              "  cancel.textContent = 'Cancel upload';\n",
              "  const cancelPromise = new Promise((resolve) => {\n",
              "    cancel.onclick = () => {\n",
              "      resolve(null);\n",
              "    };\n",
              "  });\n",
              "\n",
              "  // Wait for the user to pick the files.\n",
              "  const files = yield {\n",
              "    promise: Promise.race([pickedPromise, cancelPromise]),\n",
              "    response: {\n",
              "      action: 'starting',\n",
              "    }\n",
              "  };\n",
              "\n",
              "  cancel.remove();\n",
              "\n",
              "  // Disable the input element since further picks are not allowed.\n",
              "  inputElement.disabled = true;\n",
              "\n",
              "  if (!files) {\n",
              "    return {\n",
              "      response: {\n",
              "        action: 'complete',\n",
              "      }\n",
              "    };\n",
              "  }\n",
              "\n",
              "  for (const file of files) {\n",
              "    const li = document.createElement('li');\n",
              "    li.append(span(file.name, {fontWeight: 'bold'}));\n",
              "    li.append(span(\n",
              "        `(${file.type || 'n/a'}) - ${file.size} bytes, ` +\n",
              "        `last modified: ${\n",
              "            file.lastModifiedDate ? file.lastModifiedDate.toLocaleDateString() :\n",
              "                                    'n/a'} - `));\n",
              "    const percent = span('0% done');\n",
              "    li.appendChild(percent);\n",
              "\n",
              "    outputElement.appendChild(li);\n",
              "\n",
              "    const fileDataPromise = new Promise((resolve) => {\n",
              "      const reader = new FileReader();\n",
              "      reader.onload = (e) => {\n",
              "        resolve(e.target.result);\n",
              "      };\n",
              "      reader.readAsArrayBuffer(file);\n",
              "    });\n",
              "    // Wait for the data to be ready.\n",
              "    let fileData = yield {\n",
              "      promise: fileDataPromise,\n",
              "      response: {\n",
              "        action: 'continue',\n",
              "      }\n",
              "    };\n",
              "\n",
              "    // Use a chunked sending to avoid message size limits. See b/62115660.\n",
              "    let position = 0;\n",
              "    do {\n",
              "      const length = Math.min(fileData.byteLength - position, MAX_PAYLOAD_SIZE);\n",
              "      const chunk = new Uint8Array(fileData, position, length);\n",
              "      position += length;\n",
              "\n",
              "      const base64 = btoa(String.fromCharCode.apply(null, chunk));\n",
              "      yield {\n",
              "        response: {\n",
              "          action: 'append',\n",
              "          file: file.name,\n",
              "          data: base64,\n",
              "        },\n",
              "      };\n",
              "\n",
              "      let percentDone = fileData.byteLength === 0 ?\n",
              "          100 :\n",
              "          Math.round((position / fileData.byteLength) * 100);\n",
              "      percent.textContent = `${percentDone}% done`;\n",
              "\n",
              "    } while (position < fileData.byteLength);\n",
              "  }\n",
              "\n",
              "  // All done.\n",
              "  yield {\n",
              "    response: {\n",
              "      action: 'complete',\n",
              "    }\n",
              "  };\n",
              "}\n",
              "\n",
              "scope.google = scope.google || {};\n",
              "scope.google.colab = scope.google.colab || {};\n",
              "scope.google.colab._files = {\n",
              "  _uploadFiles,\n",
              "  _uploadFilesContinue,\n",
              "};\n",
              "})(self);\n",
              "</script> "
            ]
          },
          "metadata": {}
        },
        {
          "output_type": "stream",
          "name": "stdout",
          "text": [
            "Saving complex_numbers.xlsx to complex_numbers.xlsx\n",
            "Загружен файл complex_numbers.xlsx\n"
          ]
        }
      ]
    },
    {
      "cell_type": "code",
      "source": [
        "file_name = \"complex_numbers.xlsx\"\n",
        "table = pd.read_excel(file_name, sheet_name='a+ib', header=None)\n",
        "\n",
        "data = table.to_numpy()\n",
        "\n",
        "numbers = []\n",
        "for _, re, im in data[1:]:\n",
        "    numbers.append(re + I * im)\n",
        "print(\"Считанные числа:\")\n",
        "display(*numbers)\n",
        "print()\n",
        "\n",
        "mods = [sympy.Abs(z).evalf() for z in numbers]\n",
        "print(\"Модули чисел:\")\n",
        "print(*mods)\n",
        "\n",
        "args = [sympy.arg(z).evalf() for z in numbers]\n",
        "print(\"Аргументы чисел:\")\n",
        "print(*args)\n",
        "\n",
        "\n",
        "with pd.ExcelWriter(file_name, engine='openpyxl', mode='a') as writer:\n",
        "    index = [sympy.expand_complex(z) for z in numbers]\n",
        "    df = pd.DataFrame(\n",
        "        [round(mod, 2) for mod in mods],\n",
        "        index=index,\n",
        "        columns=[\"abs\"]\n",
        "    )\n",
        "    df.to_excel(writer, sheet_name=\"abs\", header=True, index=True)\n",
        "\n",
        "    df = pd.DataFrame(\n",
        "        [round(arg, 2) for arg in args],\n",
        "        index=index,\n",
        "        columns=[\"arg\"]\n",
        "    )\n",
        "    df.to_excel(writer, sheet_name=\"arg\", header=True, index=True)\n",
        "files.download(file_name)"
      ],
      "metadata": {
        "colab": {
          "base_uri": "https://localhost:8080/",
          "height": 207
        },
        "id": "xwmG9-MDx_QK",
        "outputId": "b5c29d56-a098-48ba-d7e2-45761ad9c7b7"
      },
      "execution_count": null,
      "outputs": [
        {
          "output_type": "stream",
          "name": "stdout",
          "text": [
            "Считанные числа:\n"
          ]
        },
        {
          "output_type": "display_data",
          "data": {
            "text/plain": [
              "-1 + 2*I"
            ],
            "text/latex": "$\\displaystyle -1 + 2 i$"
          },
          "metadata": {}
        },
        {
          "output_type": "display_data",
          "data": {
            "text/plain": [
              "3 - 5*I"
            ],
            "text/latex": "$\\displaystyle 3 - 5 i$"
          },
          "metadata": {}
        },
        {
          "output_type": "display_data",
          "data": {
            "text/plain": [
              "4*I"
            ],
            "text/latex": "$\\displaystyle 4 i$"
          },
          "metadata": {}
        },
        {
          "output_type": "display_data",
          "data": {
            "text/plain": [
              "-3"
            ],
            "text/latex": "$\\displaystyle -3$"
          },
          "metadata": {}
        },
        {
          "output_type": "stream",
          "name": "stdout",
          "text": [
            "\n",
            "Модули чисел:\n",
            "2.23606797749979 5.83095189484530 4.00000000000000 3.00000000000000\n",
            "Аргументы чисел:\n",
            "2.03444393579570 -1.03037682652431 1.57079632679490 3.14159265358979\n"
          ]
        },
        {
          "output_type": "display_data",
          "data": {
            "text/plain": [
              "<IPython.core.display.Javascript object>"
            ],
            "application/javascript": [
              "\n",
              "    async function download(id, filename, size) {\n",
              "      if (!google.colab.kernel.accessAllowed) {\n",
              "        return;\n",
              "      }\n",
              "      const div = document.createElement('div');\n",
              "      const label = document.createElement('label');\n",
              "      label.textContent = `Downloading \"${filename}\": `;\n",
              "      div.appendChild(label);\n",
              "      const progress = document.createElement('progress');\n",
              "      progress.max = size;\n",
              "      div.appendChild(progress);\n",
              "      document.body.appendChild(div);\n",
              "\n",
              "      const buffers = [];\n",
              "      let downloaded = 0;\n",
              "\n",
              "      const channel = await google.colab.kernel.comms.open(id);\n",
              "      // Send a message to notify the kernel that we're ready.\n",
              "      channel.send({})\n",
              "\n",
              "      for await (const message of channel.messages) {\n",
              "        // Send a message to notify the kernel that we're ready.\n",
              "        channel.send({})\n",
              "        if (message.buffers) {\n",
              "          for (const buffer of message.buffers) {\n",
              "            buffers.push(buffer);\n",
              "            downloaded += buffer.byteLength;\n",
              "            progress.value = downloaded;\n",
              "          }\n",
              "        }\n",
              "      }\n",
              "      const blob = new Blob(buffers, {type: 'application/binary'});\n",
              "      const a = document.createElement('a');\n",
              "      a.href = window.URL.createObjectURL(blob);\n",
              "      a.download = filename;\n",
              "      div.appendChild(a);\n",
              "      a.click();\n",
              "      div.remove();\n",
              "    }\n",
              "  "
            ]
          },
          "metadata": {}
        },
        {
          "output_type": "display_data",
          "data": {
            "text/plain": [
              "<IPython.core.display.Javascript object>"
            ],
            "application/javascript": [
              "download(\"download_085d5bd3-3638-4105-8628-16b8ecf3b15d\", \"complex_numbers.xlsx\", 6755)"
            ]
          },
          "metadata": {}
        }
      ]
    },
    {
      "cell_type": "markdown",
      "source": [
        "### Индивидуальное задание.\n",
        "Дано уравнение $n$-й степени с переменной $z$. Вывести  уравнение и его точные корни  в алгебраической форме на экран, подписать корни  $q_1$, $q_2$, ...\n",
        "\n",
        "Затем вывести на экран на отдельной строчке модули всех корней.\n",
        "\n",
        "Найти и вывести на экран модуль и аргумент произведения всех корней."
      ],
      "metadata": {
        "id": "g2hmKBTeYPin"
      }
    },
    {
      "cell_type": "code",
      "source": [
        "x = sympy.symbols('x')\n",
        "expr = (-2 - 4*I) * x ** 4 + (24 - 22 * I) * x ** 3 + (80 + 50 * I) * x ** 2 + (368 - 74 * I) * x  - 70 + 1010 * I\n",
        "roots_dict = sympy.roots(expr, x)\n",
        "\n",
        "roots = roots_dict.keys()\n",
        "prod = 1\n",
        "print(\"Корни:\")\n",
        "for i, root in enumerate(roots):\n",
        "    display(Latex(fr\"q_{i + 1} = {latex(root)}\"))\n",
        "    prod *= root\n",
        "print()\n",
        "\n",
        "print(\"Модули корней:\")\n",
        "for root in roots:\n",
        "    display(Latex(latex(sympy.Abs(root))))\n",
        "print()\n",
        "\n",
        "print(\"Модуль произведения корней:\")\n",
        "display(sympy.Abs(prod))\n",
        "\n",
        "print(\"Аргумент произведения корней:\")\n",
        "display(sympy.arg(prod))"
      ],
      "metadata": {
        "colab": {
          "base_uri": "https://localhost:8080/",
          "height": 353
        },
        "id": "DwMYluK8ykN7",
        "outputId": "e3f3cb1f-e966-4d4d-bf72-2fda9ab4da42"
      },
      "execution_count": null,
      "outputs": [
        {
          "output_type": "stream",
          "name": "stdout",
          "text": [
            "Корни:\n"
          ]
        },
        {
          "output_type": "display_data",
          "data": {
            "text/plain": [
              "<IPython.core.display.Latex object>"
            ],
            "text/latex": "q_1 = -1 + 3 i"
          },
          "metadata": {}
        },
        {
          "output_type": "display_data",
          "data": {
            "text/plain": [
              "<IPython.core.display.Latex object>"
            ],
            "text/latex": "q_2 = 1 - 2 i"
          },
          "metadata": {}
        },
        {
          "output_type": "display_data",
          "data": {
            "text/plain": [
              "<IPython.core.display.Latex object>"
            ],
            "text/latex": "q_3 = 3 - 4 i"
          },
          "metadata": {}
        },
        {
          "output_type": "display_data",
          "data": {
            "text/plain": [
              "<IPython.core.display.Latex object>"
            ],
            "text/latex": "q_4 = -5 - 4 i"
          },
          "metadata": {}
        },
        {
          "output_type": "stream",
          "name": "stdout",
          "text": [
            "\n",
            "Модули корней:\n"
          ]
        },
        {
          "output_type": "display_data",
          "data": {
            "text/plain": [
              "<IPython.core.display.Latex object>"
            ],
            "text/latex": "\\sqrt{10}"
          },
          "metadata": {}
        },
        {
          "output_type": "display_data",
          "data": {
            "text/plain": [
              "<IPython.core.display.Latex object>"
            ],
            "text/latex": "\\sqrt{5}"
          },
          "metadata": {}
        },
        {
          "output_type": "display_data",
          "data": {
            "text/plain": [
              "<IPython.core.display.Latex object>"
            ],
            "text/latex": "5"
          },
          "metadata": {}
        },
        {
          "output_type": "display_data",
          "data": {
            "text/plain": [
              "<IPython.core.display.Latex object>"
            ],
            "text/latex": "\\sqrt{41}"
          },
          "metadata": {}
        },
        {
          "output_type": "stream",
          "name": "stdout",
          "text": [
            "\n",
            "Модуль произведения корней:\n"
          ]
        },
        {
          "output_type": "display_data",
          "data": {
            "text/plain": [
              "25*sqrt(82)"
            ],
            "text/latex": "$\\displaystyle 25 \\sqrt{82}$"
          },
          "metadata": {}
        },
        {
          "output_type": "stream",
          "name": "stdout",
          "text": [
            "Аргумент произведения корней:\n"
          ]
        },
        {
          "output_type": "display_data",
          "data": {
            "text/plain": [
              "-pi + atan(23/39)"
            ],
            "text/latex": "$\\displaystyle - \\pi + \\operatorname{atan}{\\left(\\frac{23}{39} \\right)}$"
          },
          "metadata": {}
        }
      ]
    }
  ]
}